{
 "cells": [
  {
   "cell_type": "code",
   "execution_count": 1,
   "metadata": {
    "collapsed": true
   },
   "outputs": [],
   "source": [
    "#Importing Libraries\n",
    "import pandas as pd\n",
    "\n",
    "# For Visualisation\n",
    "import matplotlib.pyplot as plt\n",
    "import seaborn as sns\n",
    "%matplotlib inline\n",
    "\n",
    "# To Scale our data\n",
    "from sklearn.preprocessing import scale\n",
    "\n",
    "# To perform KMeans clustering \n",
    "from sklearn.cluster import KMeans\n",
    "\n",
    "# To perform Hierarchical clustering\n",
    "from scipy.cluster.hierarchy import linkage\n",
    "from scipy.cluster.hierarchy import dendrogram\n",
    "from scipy.cluster.hierarchy import cut_tree"
   ]
  },
  {
   "cell_type": "code",
   "execution_count": 2,
   "metadata": {
    "collapsed": true
   },
   "outputs": [],
   "source": [
    "#reading Dataset\n",
    "Country_dt = pd.read_csv(\"Country-data.csv\",  sep = ',',encoding = \"ISO-8859-1\", header= 0)"
   ]
  },
  {
   "cell_type": "code",
   "execution_count": 3,
   "metadata": {},
   "outputs": [
    {
     "data": {
      "text/html": [
       "<div>\n",
       "<style>\n",
       "    .dataframe thead tr:only-child th {\n",
       "        text-align: right;\n",
       "    }\n",
       "\n",
       "    .dataframe thead th {\n",
       "        text-align: left;\n",
       "    }\n",
       "\n",
       "    .dataframe tbody tr th {\n",
       "        vertical-align: top;\n",
       "    }\n",
       "</style>\n",
       "<table border=\"1\" class=\"dataframe\">\n",
       "  <thead>\n",
       "    <tr style=\"text-align: right;\">\n",
       "      <th></th>\n",
       "      <th>country</th>\n",
       "      <th>child_mort</th>\n",
       "      <th>exports</th>\n",
       "      <th>health</th>\n",
       "      <th>imports</th>\n",
       "      <th>income</th>\n",
       "      <th>inflation</th>\n",
       "      <th>life_expec</th>\n",
       "      <th>total_fer</th>\n",
       "      <th>gdpp</th>\n",
       "    </tr>\n",
       "  </thead>\n",
       "  <tbody>\n",
       "    <tr>\n",
       "      <th>0</th>\n",
       "      <td>Afghanistan</td>\n",
       "      <td>90.2</td>\n",
       "      <td>10.0</td>\n",
       "      <td>7.58</td>\n",
       "      <td>44.9</td>\n",
       "      <td>1610</td>\n",
       "      <td>9.44</td>\n",
       "      <td>56.2</td>\n",
       "      <td>5.82</td>\n",
       "      <td>553</td>\n",
       "    </tr>\n",
       "    <tr>\n",
       "      <th>1</th>\n",
       "      <td>Albania</td>\n",
       "      <td>16.6</td>\n",
       "      <td>28.0</td>\n",
       "      <td>6.55</td>\n",
       "      <td>48.6</td>\n",
       "      <td>9930</td>\n",
       "      <td>4.49</td>\n",
       "      <td>76.3</td>\n",
       "      <td>1.65</td>\n",
       "      <td>4090</td>\n",
       "    </tr>\n",
       "    <tr>\n",
       "      <th>2</th>\n",
       "      <td>Algeria</td>\n",
       "      <td>27.3</td>\n",
       "      <td>38.4</td>\n",
       "      <td>4.17</td>\n",
       "      <td>31.4</td>\n",
       "      <td>12900</td>\n",
       "      <td>16.10</td>\n",
       "      <td>76.5</td>\n",
       "      <td>2.89</td>\n",
       "      <td>4460</td>\n",
       "    </tr>\n",
       "    <tr>\n",
       "      <th>3</th>\n",
       "      <td>Angola</td>\n",
       "      <td>119.0</td>\n",
       "      <td>62.3</td>\n",
       "      <td>2.85</td>\n",
       "      <td>42.9</td>\n",
       "      <td>5900</td>\n",
       "      <td>22.40</td>\n",
       "      <td>60.1</td>\n",
       "      <td>6.16</td>\n",
       "      <td>3530</td>\n",
       "    </tr>\n",
       "    <tr>\n",
       "      <th>4</th>\n",
       "      <td>Antigua and Barbuda</td>\n",
       "      <td>10.3</td>\n",
       "      <td>45.5</td>\n",
       "      <td>6.03</td>\n",
       "      <td>58.9</td>\n",
       "      <td>19100</td>\n",
       "      <td>1.44</td>\n",
       "      <td>76.8</td>\n",
       "      <td>2.13</td>\n",
       "      <td>12200</td>\n",
       "    </tr>\n",
       "  </tbody>\n",
       "</table>\n",
       "</div>"
      ],
      "text/plain": [
       "               country  child_mort  exports  health  imports  income  \\\n",
       "0          Afghanistan        90.2     10.0    7.58     44.9    1610   \n",
       "1              Albania        16.6     28.0    6.55     48.6    9930   \n",
       "2              Algeria        27.3     38.4    4.17     31.4   12900   \n",
       "3               Angola       119.0     62.3    2.85     42.9    5900   \n",
       "4  Antigua and Barbuda        10.3     45.5    6.03     58.9   19100   \n",
       "\n",
       "   inflation  life_expec  total_fer   gdpp  \n",
       "0       9.44        56.2       5.82    553  \n",
       "1       4.49        76.3       1.65   4090  \n",
       "2      16.10        76.5       2.89   4460  \n",
       "3      22.40        60.1       6.16   3530  \n",
       "4       1.44        76.8       2.13  12200  "
      ]
     },
     "execution_count": 3,
     "metadata": {},
     "output_type": "execute_result"
    }
   ],
   "source": [
    "Country_dt.head()"
   ]
  },
  {
   "cell_type": "code",
   "execution_count": 4,
   "metadata": {},
   "outputs": [
    {
     "name": "stdout",
     "output_type": "stream",
     "text": [
      "<class 'pandas.core.frame.DataFrame'>\n",
      "RangeIndex: 167 entries, 0 to 166\n",
      "Data columns (total 10 columns):\n",
      "country       167 non-null object\n",
      "child_mort    167 non-null float64\n",
      "exports       167 non-null float64\n",
      "health        167 non-null float64\n",
      "imports       167 non-null float64\n",
      "income        167 non-null int64\n",
      "inflation     167 non-null float64\n",
      "life_expec    167 non-null float64\n",
      "total_fer     167 non-null float64\n",
      "gdpp          167 non-null int64\n",
      "dtypes: float64(7), int64(2), object(1)\n",
      "memory usage: 13.1+ KB\n"
     ]
    }
   ],
   "source": [
    "#Sanity Check\n",
    "Country_dt.shape\n",
    "Country_dt.describe()\n",
    "Country_dt.info()"
   ]
  },
  {
   "cell_type": "code",
   "execution_count": 7,
   "metadata": {},
   "outputs": [
    {
     "data": {
      "text/plain": [
       "country       0.0\n",
       "child_mort    0.0\n",
       "exports       0.0\n",
       "health        0.0\n",
       "imports       0.0\n",
       "income        0.0\n",
       "inflation     0.0\n",
       "life_expec    0.0\n",
       "total_fer     0.0\n",
       "gdpp          0.0\n",
       "dtype: float64"
      ]
     },
     "execution_count": 7,
     "metadata": {},
     "output_type": "execute_result"
    }
   ],
   "source": [
    "#Na Handling\n",
    "Country_dt.isnull().values.any()\n",
    "Country_dt.isnull().values.sum()\n",
    "Country_dt.isnull().sum()*100/Country_dt.shape[0]"
   ]
  },
  {
   "cell_type": "code",
   "execution_count": 9,
   "metadata": {},
   "outputs": [
    {
     "data": {
      "image/png": "[encoded data removed]",
      "text/plain": [
       "<matplotlib.figure.Figure at 0x1a1776b1d0>"
      ]
     },
     "metadata": {},
     "output_type": "display_data"
    }
   ],
   "source": [
    "# outlier treatment for child_mort\n",
    "plt.boxplot(Country_dt.child_mort)\n",
    "Q1 = Country_dt.child_mort.quantile(0.25)\n",
    "Q3 = Country_dt.child_mort.quantile(0.75)\n",
    "IQR = Q3 - Q1\n",
    "Country_dt = Country_dt[(Country_dt.child_mort >= Q1 - 1.5*IQR) & (Country_dt.child_mort <= Q3 + 1.5*IQR)]"
   ]
  },
  {
   "cell_type": "code",
   "execution_count": 10,
   "metadata": {},
   "outputs": [
    {
     "data": {
      "text/plain": [
       "{'boxes': [<matplotlib.lines.Line2D at 0x1a1aa24780>],\n",
       " 'caps': [<matplotlib.lines.Line2D at 0x1a1aa2d2e8>,\n",
       "  <matplotlib.lines.Line2D at 0x1a1aa2d748>],\n",
       " 'fliers': [<matplotlib.lines.Line2D at 0x1a1aa35048>],\n",
       " 'means': [],\n",
       " 'medians': [<matplotlib.lines.Line2D at 0x1a1aa2dba8>],\n",
       " 'whiskers': [<matplotlib.lines.Line2D at 0x1a1aa24908>,\n",
       "  <matplotlib.lines.Line2D at 0x1a1aa24e48>]}"
      ]
     },
     "execution_count": 10,
     "metadata": {},
     "output_type": "execute_result"
    },
    {
     "data": {
      "image/png": "[encoded data removed]",
      "text/plain": [
       "<matplotlib.figure.Figure at 0x1a17728518>"
      ]
     },
     "metadata": {},
     "output_type": "display_data"
    }
   ],
   "source": [
    "plt.boxplot(Country_dt.child_mort)"
   ]
  },
  {
   "cell_type": "code",
   "execution_count": 11,
   "metadata": {},
   "outputs": [
    {
     "data": {
      "image/png": "[encoded data removed]",
      "text/plain": [
       "<matplotlib.figure.Figure at 0x1a1aa35be0>"
      ]
     },
     "metadata": {},
     "output_type": "display_data"
    }
   ],
   "source": [
    "# outlier treatment for Amount\n",
    "plt.boxplot(Country_dt.exports)\n",
    "Q1 = Country_dt.exports.quantile(0.25)\n",
    "Q3 = Country_dt.exports.quantile(0.75)\n",
    "IQR = Q3 - Q1\n",
    "Country_dt = Country_dt[(Country_dt.exports >= Q1 - 1.5*IQR) & (Country_dt.exports <= Q3 + 1.5*IQR)]"
   ]
  },
  {
   "cell_type": "code",
   "execution_count": 12,
   "metadata": {},
   "outputs": [
    {
     "data": {
      "text/plain": [
       "{'boxes': [<matplotlib.lines.Line2D at 0x1a1ac14d68>],\n",
       " 'caps': [<matplotlib.lines.Line2D at 0x1a1ac1d8d0>,\n",
       "  <matplotlib.lines.Line2D at 0x1a1ac1dd30>],\n",
       " 'fliers': [<matplotlib.lines.Line2D at 0x1a1ac26630>],\n",
       " 'means': [],\n",
       " 'medians': [<matplotlib.lines.Line2D at 0x1a1ac261d0>],\n",
       " 'whiskers': [<matplotlib.lines.Line2D at 0x1a1ac14ef0>,\n",
       "  <matplotlib.lines.Line2D at 0x1a1ac1d470>]}"
      ]
     },
     "execution_count": 12,
     "metadata": {},
     "output_type": "execute_result"
    },
    {
     "data": {
      "image/png": "[encoded data removed]",
      "text/plain": [
       "<matplotlib.figure.Figure at 0x1a126a27b8>"
      ]
     },
     "metadata": {},
     "output_type": "display_data"
    }
   ],
   "source": [
    "plt.boxplot(Country_dt.exports)"
   ]
  },
  {
   "cell_type": "code",
   "execution_count": 13,
   "metadata": {},
   "outputs": [
    {
     "data": {
      "image/png": "[encoded data removed]",
      "text/plain": [
       "<matplotlib.figure.Figure at 0x1a1ac26f60>"
      ]
     },
     "metadata": {},
     "output_type": "display_data"
    }
   ],
   "source": [
    "# outlier treatment for Amount\n",
    "plt.boxplot(Country_dt.health)\n",
    "Q1 = Country_dt.health.quantile(0.25)\n",
    "Q3 = Country_dt.health.quantile(0.75)\n",
    "IQR = Q3 - Q1\n",
    "Country_dt = Country_dt[(Country_dt.health >= Q1 - 1.5*IQR) & (Country_dt.health <= Q3 + 1.5*IQR)]"
   ]
  },
  {
   "cell_type": "code",
   "execution_count": 14,
   "metadata": {},
   "outputs": [
    {
     "data": {
      "text/plain": [
       "{'boxes': [<matplotlib.lines.Line2D at 0x1a1ad94b38>],\n",
       " 'caps': [<matplotlib.lines.Line2D at 0x1a1ad9d6a0>,\n",
       "  <matplotlib.lines.Line2D at 0x1a1ad9db00>],\n",
       " 'fliers': [<matplotlib.lines.Line2D at 0x1a1ada7400>],\n",
       " 'means': [],\n",
       " 'medians': [<matplotlib.lines.Line2D at 0x1a1ad9df60>],\n",
       " 'whiskers': [<matplotlib.lines.Line2D at 0x1a1ad94cc0>,\n",
       "  <matplotlib.lines.Line2D at 0x1a1ad9d240>]}"
      ]
     },
     "execution_count": 14,
     "metadata": {},
     "output_type": "execute_result"
    },
    {
     "data": {
      "image/png": "[encoded data removed]",
      "text/plain": [
       "<matplotlib.figure.Figure at 0x1a1ab9e4e0>"
      ]
     },
     "metadata": {},
     "output_type": "display_data"
    }
   ],
   "source": [
    "plt.boxplot(Country_dt.health)"
   ]
  },
  {
   "cell_type": "code",
   "execution_count": 16,
   "metadata": {},
   "outputs": [
    {
     "data": {
      "image/png": "[encoded data removed]",
      "text/plain": [
       "<matplotlib.figure.Figure at 0x1a1adbd978>"
      ]
     },
     "metadata": {},
     "output_type": "display_data"
    }
   ],
   "source": [
    "#imports\tincome\tinflation\tlife_expec\ttotal_fer\tgdpp\n",
    "# outlier treatment for Amount\n",
    "plt.boxplot(Country_dt.imports)\n",
    "Q1 = Country_dt.imports.quantile(0.25)\n",
    "Q3 = Country_dt.imports.quantile(0.75)\n",
    "IQR = Q3 - Q1\n",
    "Country_dt = Country_dt[(Country_dt.imports >= Q1 - 1.5*IQR) & (Country_dt.imports <= Q3 + 1.5*IQR)]"
   ]
  },
  {
   "cell_type": "code",
   "execution_count": 27,
   "metadata": {},
   "outputs": [
    {
     "data": {
      "text/plain": [
       "{'boxes': [<matplotlib.lines.Line2D at 0x1a1b0b8b38>],\n",
       " 'caps': [<matplotlib.lines.Line2D at 0x1a1ba826a0>,\n",
       "  <matplotlib.lines.Line2D at 0x1a1ba82b00>],\n",
       " 'fliers': [<matplotlib.lines.Line2D at 0x1a1ba88400>],\n",
       " 'means': [],\n",
       " 'medians': [<matplotlib.lines.Line2D at 0x1a1ba82f60>],\n",
       " 'whiskers': [<matplotlib.lines.Line2D at 0x1a1b0b8cc0>,\n",
       "  <matplotlib.lines.Line2D at 0x1a1ba82240>]}"
      ]
     },
     "execution_count": 27,
     "metadata": {},
     "output_type": "execute_result"
    },
    {
     "data": {
      "image/png": "[encoded data removed]",
      "text/plain": [
       "<matplotlib.figure.Figure at 0x1a1b157128>"
      ]
     },
     "metadata": {},
     "output_type": "display_data"
    }
   ],
   "source": [
    "plt.boxplot(Country_dt.imports)"
   ]
  },
  {
   "cell_type": "code",
   "execution_count": 28,
   "metadata": {},
   "outputs": [
    {
     "data": {
      "image/png": "[encoded data removed]",
      "text/plain": [
       "<matplotlib.figure.Figure at 0x1a1b25d320>"
      ]
     },
     "metadata": {},
     "output_type": "display_data"
    }
   ],
   "source": [
    "#imports\tincome\tinflation\tlife_expec\ttotal_fer\tgdpp\n",
    "# outlier treatment for Amount\n",
    "plt.boxplot(Country_dt.income)\n",
    "Q1 = Country_dt.income.quantile(0.25)\n",
    "Q3 = Country_dt.income.quantile(0.75)\n",
    "IQR = Q3 - Q1\n",
    "Country_dt = Country_dt[(Country_dt.income >= Q1 - 1.5*IQR) & (Country_dt.income <= Q3 + 1.5*IQR)]"
   ]
  },
  {
   "cell_type": "code",
   "execution_count": 29,
   "metadata": {},
   "outputs": [
    {
     "data": {
      "text/plain": [
       "{'boxes': [<matplotlib.lines.Line2D at 0x1a1bd4d278>],\n",
       " 'caps': [<matplotlib.lines.Line2D at 0x1a1bd4dda0>,\n",
       "  <matplotlib.lines.Line2D at 0x1a1bd53240>],\n",
       " 'fliers': [<matplotlib.lines.Line2D at 0x1a1bd53b00>],\n",
       " 'means': [],\n",
       " 'medians': [<matplotlib.lines.Line2D at 0x1a1bd536a0>],\n",
       " 'whiskers': [<matplotlib.lines.Line2D at 0x1a1bd4d400>,\n",
       "  <matplotlib.lines.Line2D at 0x1a1bd4d940>]}"
      ]
     },
     "execution_count": 29,
     "metadata": {},
     "output_type": "execute_result"
    },
    {
     "data": {
      "image/png": "[encoded data removed]",
      "text/plain": [
       "<matplotlib.figure.Figure at 0x1a1ba94630>"
      ]
     },
     "metadata": {},
     "output_type": "display_data"
    }
   ],
   "source": [
    "plt.boxplot(Country_dt.income)"
   ]
  },
  {
   "cell_type": "code",
   "execution_count": 30,
   "metadata": {},
   "outputs": [
    {
     "data": {
      "image/png": "[encoded data removed]",
      "text/plain": [
       "<matplotlib.figure.Figure at 0x1a1bd4d208>"
      ]
     },
     "metadata": {},
     "output_type": "display_data"
    }
   ],
   "source": [
    "#imports\tincome\tinflation\tlife_expec\ttotal_fer\tgdpp\n",
    "# outlier treatment for Amount\n",
    "plt.boxplot(Country_dt.inflation)\n",
    "Q1 = Country_dt.inflation.quantile(0.25)\n",
    "Q3 = Country_dt.inflation.quantile(0.75)\n",
    "IQR = Q3 - Q1\n",
    "Country_dt = Country_dt[(Country_dt.inflation >= Q1 - 1.5*IQR) & (Country_dt.inflation <= Q3 + 1.5*IQR)]"
   ]
  },
  {
   "cell_type": "code",
   "execution_count": 31,
   "metadata": {},
   "outputs": [
    {
     "data": {
      "text/plain": [
       "{'boxes': [<matplotlib.lines.Line2D at 0x1a1b1d5cf8>],\n",
       " 'caps': [<matplotlib.lines.Line2D at 0x1a1b1dd198>,\n",
       "  <matplotlib.lines.Line2D at 0x1a1b1dd630>],\n",
       " 'fliers': [<matplotlib.lines.Line2D at 0x1a1b034a20>],\n",
       " 'means': [],\n",
       " 'medians': [<matplotlib.lines.Line2D at 0x1a1b0347b8>],\n",
       " 'whiskers': [<matplotlib.lines.Line2D at 0x1a1b1d5dd8>,\n",
       "  <matplotlib.lines.Line2D at 0x1a1b1dd0f0>]}"
      ]
     },
     "execution_count": 31,
     "metadata": {},
     "output_type": "execute_result"
    },
    {
     "data": {
      "image/png": "[encoded data removed]",
      "text/plain": [
       "<matplotlib.figure.Figure at 0x1a1bcc0c18>"
      ]
     },
     "metadata": {},
     "output_type": "display_data"
    }
   ],
   "source": [
    "plt.boxplot(Country_dt.inflation)"
   ]
  },
  {
   "cell_type": "code",
   "execution_count": 32,
   "metadata": {},
   "outputs": [
    {
     "data": {
      "image/png": "[encoded data removed]",
      "text/plain": [
       "<matplotlib.figure.Figure at 0x1a1b052160>"
      ]
     },
     "metadata": {},
     "output_type": "display_data"
    }
   ],
   "source": [
    "#imports\tincome\tinflation\tlife_expec\ttotal_fer\tgdpp\n",
    "# outlier treatment for Amount\n",
    "plt.boxplot(Country_dt.life_expec)\n",
    "Q1 = Country_dt.life_expec.quantile(0.25)\n",
    "Q3 = Country_dt.life_expec.quantile(0.75)\n",
    "IQR = Q3 - Q1\n",
    "Country_dt = Country_dt[(Country_dt.life_expec >= Q1 - 1.5*IQR) & (Country_dt.life_expec <= Q3 + 1.5*IQR)]"
   ]
  },
  {
   "cell_type": "code",
   "execution_count": 33,
   "metadata": {},
   "outputs": [
    {
     "data": {
      "text/plain": [
       "{'boxes': [<matplotlib.lines.Line2D at 0x1a1ab37f60>],\n",
       " 'caps': [<matplotlib.lines.Line2D at 0x1a1aaccba8>,\n",
       "  <matplotlib.lines.Line2D at 0x1a1aacca20>],\n",
       " 'fliers': [<matplotlib.lines.Line2D at 0x1a1aaccef0>],\n",
       " 'means': [],\n",
       " 'medians': [<matplotlib.lines.Line2D at 0x1a1aacc438>],\n",
       " 'whiskers': [<matplotlib.lines.Line2D at 0x1a1ab37fd0>,\n",
       "  <matplotlib.lines.Line2D at 0x10b2fea90>]}"
      ]
     },
     "execution_count": 33,
     "metadata": {},
     "output_type": "execute_result"
    },
    {
     "data": {
      "image/png": "[encoded data removed]",
      "text/plain": [
       "<matplotlib.figure.Figure at 0x1a1b099748>"
      ]
     },
     "metadata": {},
     "output_type": "display_data"
    }
   ],
   "source": [
    "plt.boxplot(Country_dt.life_expec)"
   ]
  },
  {
   "cell_type": "code",
   "execution_count": 34,
   "metadata": {},
   "outputs": [
    {
     "data": {
      "image/png": "[encoded data removed]",
      "text/plain": [
       "<matplotlib.figure.Figure at 0x1a1b009f60>"
      ]
     },
     "metadata": {},
     "output_type": "display_data"
    }
   ],
   "source": [
    "#imports\tincome\tinflation\tlife_expec\ttotal_fer\tgdpp\n",
    "# outlier treatment for Amount\n",
    "plt.boxplot(Country_dt.total_fer)\n",
    "Q1 = Country_dt.total_fer.quantile(0.25)\n",
    "Q3 = Country_dt.total_fer.quantile(0.75)\n",
    "IQR = Q3 - Q1\n",
    "Country_dt = Country_dt[(Country_dt.total_fer >= Q1 - 1.5*IQR) & (Country_dt.total_fer <= Q3 + 1.5*IQR)]"
   ]
  },
  {
   "cell_type": "code",
   "execution_count": 35,
   "metadata": {},
   "outputs": [
    {
     "data": {
      "text/plain": [
       "{'boxes': [<matplotlib.lines.Line2D at 0x1a1acbb550>],\n",
       " 'caps': [<matplotlib.lines.Line2D at 0x1a176fa668>,\n",
       "  <matplotlib.lines.Line2D at 0x1a176fada0>],\n",
       " 'fliers': [<matplotlib.lines.Line2D at 0x1a17733240>],\n",
       " 'means': [],\n",
       " 'medians': [<matplotlib.lines.Line2D at 0x1a176fac50>],\n",
       " 'whiskers': [<matplotlib.lines.Line2D at 0x1a1acbb438>,\n",
       "  <matplotlib.lines.Line2D at 0x1a1adaed30>]}"
      ]
     },
     "execution_count": 35,
     "metadata": {},
     "output_type": "execute_result"
    },
    {
     "data": {
      "image/png": "[encoded data removed]",
      "text/plain": [
       "<matplotlib.figure.Figure at 0x1a1ab5c518>"
      ]
     },
     "metadata": {},
     "output_type": "display_data"
    }
   ],
   "source": [
    "plt.boxplot(Country_dt.total_fer)"
   ]
  },
  {
   "cell_type": "code",
   "execution_count": 36,
   "metadata": {},
   "outputs": [
    {
     "data": {
      "image/png": "[encoded data removed]",
      "text/plain": [
       "<matplotlib.figure.Figure at 0x1a1b8647b8>"
      ]
     },
     "metadata": {},
     "output_type": "display_data"
    }
   ],
   "source": [
    "#imports\tincome\tinflation\tlife_expec\ttotal_fer\tgdpp\n",
    "# outlier treatment for Amount\n",
    "plt.boxplot(Country_dt.gdpp)\n",
    "Q1 = Country_dt.gdpp.quantile(0.25)\n",
    "Q3 = Country_dt.gdpp.quantile(0.75)\n",
    "IQR = Q3 - Q1\n",
    "Country_dt = Country_dt[(Country_dt.gdpp >= Q1 - 1.5*IQR) & (Country_dt.gdpp <= Q3 + 1.5*IQR)]"
   ]
  },
  {
   "cell_type": "code",
   "execution_count": 37,
   "metadata": {},
   "outputs": [
    {
     "data": {
      "text/plain": [
       "{'boxes': [<matplotlib.lines.Line2D at 0x1a127392e8>],\n",
       " 'caps': [<matplotlib.lines.Line2D at 0x1a127394a8>,\n",
       "  <matplotlib.lines.Line2D at 0x1a1ad032e8>],\n",
       " 'fliers': [<matplotlib.lines.Line2D at 0x1a1ae33a58>],\n",
       " 'means': [],\n",
       " 'medians': [<matplotlib.lines.Line2D at 0x1a1af3a358>],\n",
       " 'whiskers': [<matplotlib.lines.Line2D at 0x1a12739630>,\n",
       "  <matplotlib.lines.Line2D at 0x1a12739860>]}"
      ]
     },
     "execution_count": 37,
     "metadata": {},
     "output_type": "execute_result"
    },
    {
     "data": {
      "image/png": "[encoded data removed]",
      "text/plain": [
       "<matplotlib.figure.Figure at 0x1a12570d68>"
      ]
     },
     "metadata": {},
     "output_type": "display_data"
    }
   ],
   "source": [
    "plt.boxplot(Country_dt.gdpp)"
   ]
  },
  {
   "cell_type": "code",
   "execution_count": null,
   "metadata": {
    "collapsed": true
   },
   "outputs": [],
   "source": []
  },
  {
   "cell_type": "code",
   "execution_count": 38,
   "metadata": {},
   "outputs": [
    {
     "data": {
      "image/png": "[encoded data removed]",
      "text/plain": [
       "<matplotlib.figure.Figure at 0x1a17712128>"
      ]
     },
     "metadata": {},
     "output_type": "display_data"
    }
   ],
   "source": [
    "import numpy as np; np.random.seed(42)\n",
    "import pandas as pd\n",
    "import matplotlib.pyplot as plt\n",
    "import seaborn as sns\n",
    "\n",
    "\n",
    "sns.boxplot(x=\"variable\", y=\"value\", data=pd.melt(Country_dt[['child_mort','exports','health','imports','income','inflation','life_expec','total_fer','gdpp']]))\n",
    "\n",
    "plt.show()"
   ]
  },
  {
   "cell_type": "code",
   "execution_count": 49,
   "metadata": {
    "collapsed": true
   },
   "outputs": [],
   "source": [
    "# standardise all parameters\n",
    "Country_dt_norm = Country_dt.drop(\"country\", axis=1)\n",
    "from sklearn.preprocessing import StandardScaler\n",
    "standard_scaler = StandardScaler()\n",
    "Country_dt_norm = standard_scaler.fit_transform(Country_dt_norm)"
   ]
  },
  {
   "cell_type": "code",
   "execution_count": 50,
   "metadata": {},
   "outputs": [
    {
     "data": {
      "text/html": [
       "<div>\n",
       "<style>\n",
       "    .dataframe thead tr:only-child th {\n",
       "        text-align: right;\n",
       "    }\n",
       "\n",
       "    .dataframe thead th {\n",
       "        text-align: left;\n",
       "    }\n",
       "\n",
       "    .dataframe tbody tr th {\n",
       "        vertical-align: top;\n",
       "    }\n",
       "</style>\n",
       "<table border=\"1\" class=\"dataframe\">\n",
       "  <thead>\n",
       "    <tr style=\"text-align: right;\">\n",
       "      <th></th>\n",
       "      <th>child_mort</th>\n",
       "      <th>exports</th>\n",
       "      <th>health</th>\n",
       "      <th>imports</th>\n",
       "      <th>income</th>\n",
       "      <th>inflation</th>\n",
       "      <th>life_expec</th>\n",
       "      <th>total_fer</th>\n",
       "      <th>gdpp</th>\n",
       "    </tr>\n",
       "  </thead>\n",
       "  <tbody>\n",
       "    <tr>\n",
       "      <th>0</th>\n",
       "      <td>1.496140</td>\n",
       "      <td>-1.453476</td>\n",
       "      <td>0.573983</td>\n",
       "      <td>-0.020965</td>\n",
       "      <td>-0.972968</td>\n",
       "      <td>0.319527</td>\n",
       "      <td>-1.823541</td>\n",
       "      <td>1.895626</td>\n",
       "      <td>-0.865741</td>\n",
       "    </tr>\n",
       "    <tr>\n",
       "      <th>1</th>\n",
       "      <td>-0.681544</td>\n",
       "      <td>-0.500029</td>\n",
       "      <td>0.107676</td>\n",
       "      <td>0.187261</td>\n",
       "      <td>-0.077438</td>\n",
       "      <td>-0.489241</td>\n",
       "      <td>0.948678</td>\n",
       "      <td>-0.954703</td>\n",
       "      <td>-0.286957</td>\n",
       "    </tr>\n",
       "    <tr>\n",
       "      <th>2</th>\n",
       "      <td>-0.364952</td>\n",
       "      <td>0.050851</td>\n",
       "      <td>-0.969809</td>\n",
       "      <td>-0.780709</td>\n",
       "      <td>0.242240</td>\n",
       "      <td>1.407687</td>\n",
       "      <td>0.976263</td>\n",
       "      <td>-0.107123</td>\n",
       "      <td>-0.226411</td>\n",
       "    </tr>\n",
       "    <tr>\n",
       "      <th>3</th>\n",
       "      <td>2.348278</td>\n",
       "      <td>1.316816</td>\n",
       "      <td>-1.567406</td>\n",
       "      <td>-0.133519</td>\n",
       "      <td>-0.511211</td>\n",
       "      <td>2.437028</td>\n",
       "      <td>-1.285648</td>\n",
       "      <td>2.128027</td>\n",
       "      <td>-0.378593</td>\n",
       "    </tr>\n",
       "    <tr>\n",
       "      <th>4</th>\n",
       "      <td>-0.867949</td>\n",
       "      <td>0.426933</td>\n",
       "      <td>-0.127741</td>\n",
       "      <td>0.766918</td>\n",
       "      <td>0.909582</td>\n",
       "      <td>-0.987572</td>\n",
       "      <td>1.017639</td>\n",
       "      <td>-0.626608</td>\n",
       "      <td>1.040140</td>\n",
       "    </tr>\n",
       "  </tbody>\n",
       "</table>\n",
       "</div>"
      ],
      "text/plain": [
       "   child_mort   exports    health   imports    income  inflation  life_expec  \\\n",
       "0    1.496140 -1.453476  0.573983 -0.020965 -0.972968   0.319527   -1.823541   \n",
       "1   -0.681544 -0.500029  0.107676  0.187261 -0.077438  -0.489241    0.948678   \n",
       "2   -0.364952  0.050851 -0.969809 -0.780709  0.242240   1.407687    0.976263   \n",
       "3    2.348278  1.316816 -1.567406 -0.133519 -0.511211   2.437028   -1.285648   \n",
       "4   -0.867949  0.426933 -0.127741  0.766918  0.909582  -0.987572    1.017639   \n",
       "\n",
       "   total_fer      gdpp  \n",
       "0   1.895626 -0.865741  \n",
       "1  -0.954703 -0.286957  \n",
       "2  -0.107123 -0.226411  \n",
       "3   2.128027 -0.378593  \n",
       "4  -0.626608  1.040140  "
      ]
     },
     "execution_count": 50,
     "metadata": {},
     "output_type": "execute_result"
    }
   ],
   "source": [
    "Country_dt_norm = pd.DataFrame(Country_dt_norm)\n",
    "Country_dt_norm.columns = ['child_mort','exports','health','imports','income','inflation','life_expec','total_fer','gdpp']\n",
    "Country_dt_norm.head()"
   ]
  },
  {
   "cell_type": "code",
   "execution_count": 45,
   "metadata": {
    "collapsed": true
   },
   "outputs": [],
   "source": [
    "from sklearn.neighbors import NearestNeighbors\n",
    "from random import sample\n",
    "from numpy.random import uniform\n",
    "import numpy as np\n",
    "from math import isnan\n",
    " \n",
    "def hopkins(X):\n",
    "    d = X.shape[1]\n",
    "    #d = len(vars) # columns\n",
    "    n = len(X) # rows\n",
    "    m = int(0.1 * n) \n",
    "    nbrs = NearestNeighbors(n_neighbors=1).fit(X.values)\n",
    " \n",
    "    rand_X = sample(range(0, n, 1), m)\n",
    " \n",
    "    ujd = []\n",
    "    wjd = []\n",
    "    for j in range(0, m):\n",
    "        u_dist, _ = nbrs.kneighbors(uniform(np.amin(X,axis=0),np.amax(X,axis=0),d).reshape(1, -1), 2, return_distance=True)\n",
    "        ujd.append(u_dist[0][1])\n",
    "        w_dist, _ = nbrs.kneighbors(X.iloc[rand_X[j]].values.reshape(1, -1), 2, return_distance=True)\n",
    "        wjd.append(w_dist[0][1])\n",
    " \n",
    "    H = sum(ujd) / (sum(ujd) + sum(wjd))\n",
    "    if isnan(H):\n",
    "        print(ujd, wjd)\n",
    "        H = 0\n",
    " \n",
    "    return H"
   ]
  },
  {
   "cell_type": "code",
   "execution_count": 51,
   "metadata": {},
   "outputs": [
    {
     "data": {
      "text/plain": [
       "0.71627935688847388"
      ]
     },
     "execution_count": 51,
     "metadata": {},
     "output_type": "execute_result"
    }
   ],
   "source": [
    "hopkins(Country_dt_norm)"
   ]
  },
  {
   "cell_type": "code",
   "execution_count": 48,
   "metadata": {},
   "outputs": [
    {
     "data": {
      "text/plain": [
       "array([[ 1.49614048, -1.45347596,  0.57398277, ..., -1.82354141,\n",
       "         1.89562582, -0.86574074],\n",
       "       [-0.68154434, -0.50002935,  0.1076761 , ...,  0.94867847,\n",
       "        -0.95470291, -0.28695653],\n",
       "       [-0.36495157,  0.05085091, -0.96980923, ...,  0.97626275,\n",
       "        -0.10712315, -0.22641083],\n",
       "       ..., \n",
       "       [-0.48330401,  1.83061791,  0.23896633, ...,  0.50733003,\n",
       "        -0.74964329, -0.7418675 ],\n",
       "       [ 0.49310359, -0.39409084, -0.51255705, ..., -0.26502974,\n",
       "         1.10956394, -0.7418675 ],\n",
       "       [ 1.28606491, -0.02330605, -0.19112235, ..., -2.40281124,\n",
       "         1.60854235, -0.71732194]])"
      ]
     },
     "execution_count": 48,
     "metadata": {},
     "output_type": "execute_result"
    }
   ],
   "source": [
    "Country_dt_norm"
   ]
  },
  {
   "cell_type": "code",
   "execution_count": 52,
   "metadata": {
    "collapsed": true
   },
   "outputs": [],
   "source": [
    "from sklearn.metrics import silhouette_score\n",
    "sse_ = []\n",
    "for k in range(2, 15):\n",
    "    kmeans = KMeans(n_clusters=k).fit(Country_dt_norm)\n",
    "    sse_.append([k, silhouette_score(Country_dt_norm, kmeans.labels_)])"
   ]
  },
  {
   "cell_type": "code",
   "execution_count": 53,
   "metadata": {},
   "outputs": [
    {
     "data": {
      "image/png": "[encoded data removed]",
      "text/plain": [
       "<matplotlib.figure.Figure at 0x1a1aa5bcc0>"
      ]
     },
     "metadata": {},
     "output_type": "display_data"
    }
   ],
   "source": [
    "plt.plot(pd.DataFrame(sse_)[0], pd.DataFrame(sse_)[1]);"
   ]
  },
  {
   "cell_type": "code",
   "execution_count": 54,
   "metadata": {},
   "outputs": [
    {
     "data": {
      "text/plain": [
       "KMeans(algorithm='auto', copy_x=True, init='k-means++', max_iter=50,\n",
       "    n_clusters=5, n_init=10, n_jobs=1, precompute_distances='auto',\n",
       "    random_state=None, tol=0.0001, verbose=0)"
      ]
     },
     "execution_count": 54,
     "metadata": {},
     "output_type": "execute_result"
    }
   ],
   "source": [
    "# Kmeans with K=3\n",
    "model_clus3 = KMeans(n_clusters = 5, max_iter=50)\n",
    "model_clus3.fit(Country_dt_norm)"
   ]
  },
  {
   "cell_type": "code",
   "execution_count": 55,
   "metadata": {},
   "outputs": [
    {
     "data": {
      "text/plain": [
       "[<matplotlib.lines.Line2D at 0x1a1b2bcdd8>]"
      ]
     },
     "execution_count": 55,
     "metadata": {},
     "output_type": "execute_result"
    },
    {
     "data": {
      "image/png": "[encoded data removed]",
      "text/plain": [
       "<matplotlib.figure.Figure at 0x1a1241c128>"
      ]
     },
     "metadata": {},
     "output_type": "display_data"
    }
   ],
   "source": [
    "# sum of squared distances\n",
    "ssd = []\n",
    "for num_clusters in list(range(1,21)):\n",
    "    model_clus = KMeans(n_clusters = num_clusters, max_iter=50)\n",
    "    model_clus.fit(Country_dt_norm)\n",
    "    ssd.append(model_clus.inertia_)\n",
    "\n",
    "plt.plot(ssd)"
   ]
  },
  {
   "cell_type": "code",
   "execution_count": 57,
   "metadata": {},
   "outputs": [],
   "source": [
    "# analysis of clusters formed\n",
    "Country_dt.index = pd.RangeIndex(len(Country_dt.index))\n",
    "Country_dt_km = pd.concat([Country_dt, pd.Series(model_clus3.labels_)], axis=1)\n",
    "Country_dt_km.columns = ['country','child_mort','exports','health','imports','income','inflation','life_expec','total_fer','gdpp','ClusterID']\n"
   ]
  },
  {
   "cell_type": "code",
   "execution_count": 58,
   "metadata": {},
   "outputs": [
    {
     "data": {
      "text/html": [
       "<div>\n",
       "<style>\n",
       "    .dataframe thead tr:only-child th {\n",
       "        text-align: right;\n",
       "    }\n",
       "\n",
       "    .dataframe thead th {\n",
       "        text-align: left;\n",
       "    }\n",
       "\n",
       "    .dataframe tbody tr th {\n",
       "        vertical-align: top;\n",
       "    }\n",
       "</style>\n",
       "<table border=\"1\" class=\"dataframe\">\n",
       "  <thead>\n",
       "    <tr style=\"text-align: right;\">\n",
       "      <th></th>\n",
       "      <th>country</th>\n",
       "      <th>child_mort</th>\n",
       "      <th>exports</th>\n",
       "      <th>health</th>\n",
       "      <th>imports</th>\n",
       "      <th>income</th>\n",
       "      <th>inflation</th>\n",
       "      <th>life_expec</th>\n",
       "      <th>total_fer</th>\n",
       "      <th>gdpp</th>\n",
       "      <th>ClusterID</th>\n",
       "    </tr>\n",
       "  </thead>\n",
       "  <tbody>\n",
       "    <tr>\n",
       "      <th>0</th>\n",
       "      <td>Afghanistan</td>\n",
       "      <td>90.2</td>\n",
       "      <td>10.00</td>\n",
       "      <td>7.58</td>\n",
       "      <td>44.9</td>\n",
       "      <td>1610</td>\n",
       "      <td>9.440</td>\n",
       "      <td>56.2</td>\n",
       "      <td>5.82</td>\n",
       "      <td>553</td>\n",
       "      <td>2</td>\n",
       "    </tr>\n",
       "    <tr>\n",
       "      <th>1</th>\n",
       "      <td>Albania</td>\n",
       "      <td>16.6</td>\n",
       "      <td>28.00</td>\n",
       "      <td>6.55</td>\n",
       "      <td>48.6</td>\n",
       "      <td>9930</td>\n",
       "      <td>4.490</td>\n",
       "      <td>76.3</td>\n",
       "      <td>1.65</td>\n",
       "      <td>4090</td>\n",
       "      <td>1</td>\n",
       "    </tr>\n",
       "    <tr>\n",
       "      <th>2</th>\n",
       "      <td>Algeria</td>\n",
       "      <td>27.3</td>\n",
       "      <td>38.40</td>\n",
       "      <td>4.17</td>\n",
       "      <td>31.4</td>\n",
       "      <td>12900</td>\n",
       "      <td>16.100</td>\n",
       "      <td>76.5</td>\n",
       "      <td>2.89</td>\n",
       "      <td>4460</td>\n",
       "      <td>0</td>\n",
       "    </tr>\n",
       "    <tr>\n",
       "      <th>3</th>\n",
       "      <td>Angola</td>\n",
       "      <td>119.0</td>\n",
       "      <td>62.30</td>\n",
       "      <td>2.85</td>\n",
       "      <td>42.9</td>\n",
       "      <td>5900</td>\n",
       "      <td>22.400</td>\n",
       "      <td>60.1</td>\n",
       "      <td>6.16</td>\n",
       "      <td>3530</td>\n",
       "      <td>4</td>\n",
       "    </tr>\n",
       "    <tr>\n",
       "      <th>4</th>\n",
       "      <td>Antigua and Barbuda</td>\n",
       "      <td>10.3</td>\n",
       "      <td>45.50</td>\n",
       "      <td>6.03</td>\n",
       "      <td>58.9</td>\n",
       "      <td>19100</td>\n",
       "      <td>1.440</td>\n",
       "      <td>76.8</td>\n",
       "      <td>2.13</td>\n",
       "      <td>12200</td>\n",
       "      <td>3</td>\n",
       "    </tr>\n",
       "    <tr>\n",
       "      <th>5</th>\n",
       "      <td>Argentina</td>\n",
       "      <td>14.5</td>\n",
       "      <td>18.90</td>\n",
       "      <td>8.10</td>\n",
       "      <td>16.0</td>\n",
       "      <td>18700</td>\n",
       "      <td>20.900</td>\n",
       "      <td>75.8</td>\n",
       "      <td>2.37</td>\n",
       "      <td>10300</td>\n",
       "      <td>0</td>\n",
       "    </tr>\n",
       "    <tr>\n",
       "      <th>6</th>\n",
       "      <td>Armenia</td>\n",
       "      <td>18.1</td>\n",
       "      <td>20.80</td>\n",
       "      <td>4.40</td>\n",
       "      <td>45.3</td>\n",
       "      <td>6700</td>\n",
       "      <td>7.770</td>\n",
       "      <td>73.3</td>\n",
       "      <td>1.69</td>\n",
       "      <td>3220</td>\n",
       "      <td>0</td>\n",
       "    </tr>\n",
       "    <tr>\n",
       "      <th>7</th>\n",
       "      <td>Azerbaijan</td>\n",
       "      <td>39.2</td>\n",
       "      <td>54.30</td>\n",
       "      <td>5.88</td>\n",
       "      <td>20.7</td>\n",
       "      <td>16000</td>\n",
       "      <td>13.800</td>\n",
       "      <td>69.1</td>\n",
       "      <td>1.92</td>\n",
       "      <td>5840</td>\n",
       "      <td>0</td>\n",
       "    </tr>\n",
       "    <tr>\n",
       "      <th>8</th>\n",
       "      <td>Bahamas</td>\n",
       "      <td>13.8</td>\n",
       "      <td>35.00</td>\n",
       "      <td>7.89</td>\n",
       "      <td>43.7</td>\n",
       "      <td>22900</td>\n",
       "      <td>-0.393</td>\n",
       "      <td>73.8</td>\n",
       "      <td>1.86</td>\n",
       "      <td>28000</td>\n",
       "      <td>3</td>\n",
       "    </tr>\n",
       "    <tr>\n",
       "      <th>9</th>\n",
       "      <td>Bahrain</td>\n",
       "      <td>8.6</td>\n",
       "      <td>69.50</td>\n",
       "      <td>4.97</td>\n",
       "      <td>50.9</td>\n",
       "      <td>41100</td>\n",
       "      <td>7.440</td>\n",
       "      <td>76.0</td>\n",
       "      <td>2.16</td>\n",
       "      <td>20700</td>\n",
       "      <td>3</td>\n",
       "    </tr>\n",
       "    <tr>\n",
       "      <th>10</th>\n",
       "      <td>Bangladesh</td>\n",
       "      <td>49.4</td>\n",
       "      <td>16.00</td>\n",
       "      <td>3.52</td>\n",
       "      <td>21.8</td>\n",
       "      <td>2440</td>\n",
       "      <td>7.140</td>\n",
       "      <td>70.4</td>\n",
       "      <td>2.33</td>\n",
       "      <td>758</td>\n",
       "      <td>0</td>\n",
       "    </tr>\n",
       "    <tr>\n",
       "      <th>11</th>\n",
       "      <td>Barbados</td>\n",
       "      <td>14.2</td>\n",
       "      <td>39.50</td>\n",
       "      <td>7.97</td>\n",
       "      <td>48.7</td>\n",
       "      <td>15300</td>\n",
       "      <td>0.321</td>\n",
       "      <td>76.7</td>\n",
       "      <td>1.78</td>\n",
       "      <td>16000</td>\n",
       "      <td>3</td>\n",
       "    </tr>\n",
       "    <tr>\n",
       "      <th>12</th>\n",
       "      <td>Belarus</td>\n",
       "      <td>5.5</td>\n",
       "      <td>51.40</td>\n",
       "      <td>5.61</td>\n",
       "      <td>64.5</td>\n",
       "      <td>16200</td>\n",
       "      <td>15.100</td>\n",
       "      <td>70.4</td>\n",
       "      <td>1.49</td>\n",
       "      <td>6030</td>\n",
       "      <td>1</td>\n",
       "    </tr>\n",
       "    <tr>\n",
       "      <th>13</th>\n",
       "      <td>Belize</td>\n",
       "      <td>18.8</td>\n",
       "      <td>58.20</td>\n",
       "      <td>5.20</td>\n",
       "      <td>57.5</td>\n",
       "      <td>7880</td>\n",
       "      <td>1.140</td>\n",
       "      <td>71.4</td>\n",
       "      <td>2.71</td>\n",
       "      <td>4340</td>\n",
       "      <td>1</td>\n",
       "    </tr>\n",
       "    <tr>\n",
       "      <th>14</th>\n",
       "      <td>Benin</td>\n",
       "      <td>111.0</td>\n",
       "      <td>23.80</td>\n",
       "      <td>4.10</td>\n",
       "      <td>37.2</td>\n",
       "      <td>1820</td>\n",
       "      <td>0.885</td>\n",
       "      <td>61.8</td>\n",
       "      <td>5.36</td>\n",
       "      <td>758</td>\n",
       "      <td>2</td>\n",
       "    </tr>\n",
       "    <tr>\n",
       "      <th>15</th>\n",
       "      <td>Bhutan</td>\n",
       "      <td>42.7</td>\n",
       "      <td>42.50</td>\n",
       "      <td>5.20</td>\n",
       "      <td>70.7</td>\n",
       "      <td>6420</td>\n",
       "      <td>5.990</td>\n",
       "      <td>72.1</td>\n",
       "      <td>2.38</td>\n",
       "      <td>2180</td>\n",
       "      <td>1</td>\n",
       "    </tr>\n",
       "    <tr>\n",
       "      <th>16</th>\n",
       "      <td>Bolivia</td>\n",
       "      <td>46.6</td>\n",
       "      <td>41.20</td>\n",
       "      <td>4.84</td>\n",
       "      <td>34.3</td>\n",
       "      <td>5410</td>\n",
       "      <td>8.780</td>\n",
       "      <td>71.6</td>\n",
       "      <td>3.20</td>\n",
       "      <td>1980</td>\n",
       "      <td>0</td>\n",
       "    </tr>\n",
       "    <tr>\n",
       "      <th>17</th>\n",
       "      <td>Bosnia and Herzegovina</td>\n",
       "      <td>6.9</td>\n",
       "      <td>29.70</td>\n",
       "      <td>11.10</td>\n",
       "      <td>51.3</td>\n",
       "      <td>9720</td>\n",
       "      <td>1.400</td>\n",
       "      <td>76.8</td>\n",
       "      <td>1.31</td>\n",
       "      <td>4610</td>\n",
       "      <td>1</td>\n",
       "    </tr>\n",
       "    <tr>\n",
       "      <th>18</th>\n",
       "      <td>Botswana</td>\n",
       "      <td>52.5</td>\n",
       "      <td>43.60</td>\n",
       "      <td>8.30</td>\n",
       "      <td>51.3</td>\n",
       "      <td>13300</td>\n",
       "      <td>8.920</td>\n",
       "      <td>57.1</td>\n",
       "      <td>2.88</td>\n",
       "      <td>6350</td>\n",
       "      <td>1</td>\n",
       "    </tr>\n",
       "    <tr>\n",
       "      <th>19</th>\n",
       "      <td>Brazil</td>\n",
       "      <td>19.8</td>\n",
       "      <td>10.70</td>\n",
       "      <td>9.01</td>\n",
       "      <td>11.8</td>\n",
       "      <td>14500</td>\n",
       "      <td>8.410</td>\n",
       "      <td>74.2</td>\n",
       "      <td>1.80</td>\n",
       "      <td>11200</td>\n",
       "      <td>0</td>\n",
       "    </tr>\n",
       "    <tr>\n",
       "      <th>20</th>\n",
       "      <td>Bulgaria</td>\n",
       "      <td>10.8</td>\n",
       "      <td>50.20</td>\n",
       "      <td>6.87</td>\n",
       "      <td>53.0</td>\n",
       "      <td>15300</td>\n",
       "      <td>1.110</td>\n",
       "      <td>73.9</td>\n",
       "      <td>1.57</td>\n",
       "      <td>6840</td>\n",
       "      <td>1</td>\n",
       "    </tr>\n",
       "    <tr>\n",
       "      <th>21</th>\n",
       "      <td>Burkina Faso</td>\n",
       "      <td>116.0</td>\n",
       "      <td>19.20</td>\n",
       "      <td>6.74</td>\n",
       "      <td>29.6</td>\n",
       "      <td>1430</td>\n",
       "      <td>6.810</td>\n",
       "      <td>57.9</td>\n",
       "      <td>5.87</td>\n",
       "      <td>575</td>\n",
       "      <td>2</td>\n",
       "    </tr>\n",
       "    <tr>\n",
       "      <th>22</th>\n",
       "      <td>Burundi</td>\n",
       "      <td>93.6</td>\n",
       "      <td>8.92</td>\n",
       "      <td>11.60</td>\n",
       "      <td>39.2</td>\n",
       "      <td>764</td>\n",
       "      <td>12.300</td>\n",
       "      <td>57.7</td>\n",
       "      <td>6.26</td>\n",
       "      <td>231</td>\n",
       "      <td>2</td>\n",
       "    </tr>\n",
       "    <tr>\n",
       "      <th>23</th>\n",
       "      <td>Cambodia</td>\n",
       "      <td>44.4</td>\n",
       "      <td>54.10</td>\n",
       "      <td>5.68</td>\n",
       "      <td>59.5</td>\n",
       "      <td>2520</td>\n",
       "      <td>3.120</td>\n",
       "      <td>66.1</td>\n",
       "      <td>2.88</td>\n",
       "      <td>786</td>\n",
       "      <td>1</td>\n",
       "    </tr>\n",
       "    <tr>\n",
       "      <th>24</th>\n",
       "      <td>Cameroon</td>\n",
       "      <td>108.0</td>\n",
       "      <td>22.20</td>\n",
       "      <td>5.13</td>\n",
       "      <td>27.0</td>\n",
       "      <td>2660</td>\n",
       "      <td>1.910</td>\n",
       "      <td>57.3</td>\n",
       "      <td>5.11</td>\n",
       "      <td>1310</td>\n",
       "      <td>2</td>\n",
       "    </tr>\n",
       "    <tr>\n",
       "      <th>25</th>\n",
       "      <td>Cape Verde</td>\n",
       "      <td>26.5</td>\n",
       "      <td>32.70</td>\n",
       "      <td>4.09</td>\n",
       "      <td>61.8</td>\n",
       "      <td>5830</td>\n",
       "      <td>0.505</td>\n",
       "      <td>72.5</td>\n",
       "      <td>2.67</td>\n",
       "      <td>3310</td>\n",
       "      <td>1</td>\n",
       "    </tr>\n",
       "    <tr>\n",
       "      <th>26</th>\n",
       "      <td>Chile</td>\n",
       "      <td>8.7</td>\n",
       "      <td>37.70</td>\n",
       "      <td>7.96</td>\n",
       "      <td>31.3</td>\n",
       "      <td>19400</td>\n",
       "      <td>8.960</td>\n",
       "      <td>79.1</td>\n",
       "      <td>1.88</td>\n",
       "      <td>12900</td>\n",
       "      <td>3</td>\n",
       "    </tr>\n",
       "    <tr>\n",
       "      <th>27</th>\n",
       "      <td>China</td>\n",
       "      <td>15.7</td>\n",
       "      <td>26.30</td>\n",
       "      <td>5.07</td>\n",
       "      <td>22.6</td>\n",
       "      <td>9530</td>\n",
       "      <td>6.940</td>\n",
       "      <td>74.6</td>\n",
       "      <td>1.59</td>\n",
       "      <td>4560</td>\n",
       "      <td>0</td>\n",
       "    </tr>\n",
       "    <tr>\n",
       "      <th>28</th>\n",
       "      <td>Colombia</td>\n",
       "      <td>18.6</td>\n",
       "      <td>15.90</td>\n",
       "      <td>7.59</td>\n",
       "      <td>17.8</td>\n",
       "      <td>10900</td>\n",
       "      <td>3.860</td>\n",
       "      <td>76.4</td>\n",
       "      <td>2.01</td>\n",
       "      <td>6250</td>\n",
       "      <td>0</td>\n",
       "    </tr>\n",
       "    <tr>\n",
       "      <th>29</th>\n",
       "      <td>Comoros</td>\n",
       "      <td>88.2</td>\n",
       "      <td>16.50</td>\n",
       "      <td>4.51</td>\n",
       "      <td>51.7</td>\n",
       "      <td>1410</td>\n",
       "      <td>3.870</td>\n",
       "      <td>65.9</td>\n",
       "      <td>4.75</td>\n",
       "      <td>769</td>\n",
       "      <td>2</td>\n",
       "    </tr>\n",
       "    <tr>\n",
       "      <th>...</th>\n",
       "      <td>...</td>\n",
       "      <td>...</td>\n",
       "      <td>...</td>\n",
       "      <td>...</td>\n",
       "      <td>...</td>\n",
       "      <td>...</td>\n",
       "      <td>...</td>\n",
       "      <td>...</td>\n",
       "      <td>...</td>\n",
       "      <td>...</td>\n",
       "      <td>...</td>\n",
       "    </tr>\n",
       "    <tr>\n",
       "      <th>95</th>\n",
       "      <td>Rwanda</td>\n",
       "      <td>63.6</td>\n",
       "      <td>12.00</td>\n",
       "      <td>10.50</td>\n",
       "      <td>30.0</td>\n",
       "      <td>1350</td>\n",
       "      <td>2.610</td>\n",
       "      <td>64.6</td>\n",
       "      <td>4.51</td>\n",
       "      <td>563</td>\n",
       "      <td>2</td>\n",
       "    </tr>\n",
       "    <tr>\n",
       "      <th>96</th>\n",
       "      <td>Samoa</td>\n",
       "      <td>18.9</td>\n",
       "      <td>29.20</td>\n",
       "      <td>6.47</td>\n",
       "      <td>53.1</td>\n",
       "      <td>5400</td>\n",
       "      <td>1.720</td>\n",
       "      <td>71.5</td>\n",
       "      <td>4.34</td>\n",
       "      <td>3450</td>\n",
       "      <td>1</td>\n",
       "    </tr>\n",
       "    <tr>\n",
       "      <th>97</th>\n",
       "      <td>Saudi Arabia</td>\n",
       "      <td>15.7</td>\n",
       "      <td>49.60</td>\n",
       "      <td>4.29</td>\n",
       "      <td>33.0</td>\n",
       "      <td>45400</td>\n",
       "      <td>17.200</td>\n",
       "      <td>75.1</td>\n",
       "      <td>2.96</td>\n",
       "      <td>19300</td>\n",
       "      <td>3</td>\n",
       "    </tr>\n",
       "    <tr>\n",
       "      <th>98</th>\n",
       "      <td>Senegal</td>\n",
       "      <td>66.8</td>\n",
       "      <td>24.90</td>\n",
       "      <td>5.66</td>\n",
       "      <td>40.3</td>\n",
       "      <td>2180</td>\n",
       "      <td>1.850</td>\n",
       "      <td>64.0</td>\n",
       "      <td>5.06</td>\n",
       "      <td>1000</td>\n",
       "      <td>2</td>\n",
       "    </tr>\n",
       "    <tr>\n",
       "      <th>99</th>\n",
       "      <td>Serbia</td>\n",
       "      <td>7.6</td>\n",
       "      <td>32.90</td>\n",
       "      <td>10.40</td>\n",
       "      <td>47.9</td>\n",
       "      <td>12700</td>\n",
       "      <td>5.880</td>\n",
       "      <td>74.7</td>\n",
       "      <td>1.40</td>\n",
       "      <td>5410</td>\n",
       "      <td>1</td>\n",
       "    </tr>\n",
       "    <tr>\n",
       "      <th>100</th>\n",
       "      <td>Slovak Republic</td>\n",
       "      <td>7.0</td>\n",
       "      <td>76.30</td>\n",
       "      <td>8.79</td>\n",
       "      <td>77.8</td>\n",
       "      <td>25200</td>\n",
       "      <td>0.485</td>\n",
       "      <td>75.5</td>\n",
       "      <td>1.43</td>\n",
       "      <td>16600</td>\n",
       "      <td>3</td>\n",
       "    </tr>\n",
       "    <tr>\n",
       "      <th>101</th>\n",
       "      <td>Slovenia</td>\n",
       "      <td>3.2</td>\n",
       "      <td>64.30</td>\n",
       "      <td>9.41</td>\n",
       "      <td>62.9</td>\n",
       "      <td>28700</td>\n",
       "      <td>-0.987</td>\n",
       "      <td>79.5</td>\n",
       "      <td>1.57</td>\n",
       "      <td>23400</td>\n",
       "      <td>3</td>\n",
       "    </tr>\n",
       "    <tr>\n",
       "      <th>102</th>\n",
       "      <td>Solomon Islands</td>\n",
       "      <td>28.1</td>\n",
       "      <td>49.30</td>\n",
       "      <td>8.55</td>\n",
       "      <td>81.2</td>\n",
       "      <td>1780</td>\n",
       "      <td>6.810</td>\n",
       "      <td>61.7</td>\n",
       "      <td>4.24</td>\n",
       "      <td>1290</td>\n",
       "      <td>1</td>\n",
       "    </tr>\n",
       "    <tr>\n",
       "      <th>103</th>\n",
       "      <td>South Africa</td>\n",
       "      <td>53.7</td>\n",
       "      <td>28.60</td>\n",
       "      <td>8.94</td>\n",
       "      <td>27.4</td>\n",
       "      <td>12000</td>\n",
       "      <td>6.350</td>\n",
       "      <td>54.3</td>\n",
       "      <td>2.59</td>\n",
       "      <td>7280</td>\n",
       "      <td>2</td>\n",
       "    </tr>\n",
       "    <tr>\n",
       "      <th>104</th>\n",
       "      <td>South Korea</td>\n",
       "      <td>4.1</td>\n",
       "      <td>49.40</td>\n",
       "      <td>6.93</td>\n",
       "      <td>46.2</td>\n",
       "      <td>30400</td>\n",
       "      <td>3.160</td>\n",
       "      <td>80.1</td>\n",
       "      <td>1.23</td>\n",
       "      <td>22100</td>\n",
       "      <td>3</td>\n",
       "    </tr>\n",
       "    <tr>\n",
       "      <th>105</th>\n",
       "      <td>Sri Lanka</td>\n",
       "      <td>11.2</td>\n",
       "      <td>19.60</td>\n",
       "      <td>2.94</td>\n",
       "      <td>26.8</td>\n",
       "      <td>8560</td>\n",
       "      <td>22.800</td>\n",
       "      <td>74.4</td>\n",
       "      <td>2.20</td>\n",
       "      <td>2810</td>\n",
       "      <td>0</td>\n",
       "    </tr>\n",
       "    <tr>\n",
       "      <th>106</th>\n",
       "      <td>St. Vincent and the Grenadines</td>\n",
       "      <td>20.7</td>\n",
       "      <td>26.90</td>\n",
       "      <td>4.47</td>\n",
       "      <td>57.1</td>\n",
       "      <td>9920</td>\n",
       "      <td>4.440</td>\n",
       "      <td>71.6</td>\n",
       "      <td>2.07</td>\n",
       "      <td>6230</td>\n",
       "      <td>1</td>\n",
       "    </tr>\n",
       "    <tr>\n",
       "      <th>107</th>\n",
       "      <td>Sudan</td>\n",
       "      <td>76.7</td>\n",
       "      <td>19.70</td>\n",
       "      <td>6.32</td>\n",
       "      <td>17.2</td>\n",
       "      <td>3370</td>\n",
       "      <td>19.600</td>\n",
       "      <td>66.3</td>\n",
       "      <td>4.88</td>\n",
       "      <td>1480</td>\n",
       "      <td>4</td>\n",
       "    </tr>\n",
       "    <tr>\n",
       "      <th>108</th>\n",
       "      <td>Suriname</td>\n",
       "      <td>24.1</td>\n",
       "      <td>52.50</td>\n",
       "      <td>7.01</td>\n",
       "      <td>38.4</td>\n",
       "      <td>14200</td>\n",
       "      <td>7.200</td>\n",
       "      <td>70.3</td>\n",
       "      <td>2.52</td>\n",
       "      <td>8300</td>\n",
       "      <td>1</td>\n",
       "    </tr>\n",
       "    <tr>\n",
       "      <th>109</th>\n",
       "      <td>Tajikistan</td>\n",
       "      <td>52.4</td>\n",
       "      <td>14.90</td>\n",
       "      <td>5.98</td>\n",
       "      <td>58.6</td>\n",
       "      <td>2110</td>\n",
       "      <td>12.500</td>\n",
       "      <td>69.6</td>\n",
       "      <td>3.51</td>\n",
       "      <td>738</td>\n",
       "      <td>0</td>\n",
       "    </tr>\n",
       "    <tr>\n",
       "      <th>110</th>\n",
       "      <td>Tanzania</td>\n",
       "      <td>71.9</td>\n",
       "      <td>18.70</td>\n",
       "      <td>6.01</td>\n",
       "      <td>29.1</td>\n",
       "      <td>2090</td>\n",
       "      <td>9.250</td>\n",
       "      <td>59.3</td>\n",
       "      <td>5.43</td>\n",
       "      <td>702</td>\n",
       "      <td>2</td>\n",
       "    </tr>\n",
       "    <tr>\n",
       "      <th>111</th>\n",
       "      <td>Thailand</td>\n",
       "      <td>14.9</td>\n",
       "      <td>66.50</td>\n",
       "      <td>3.88</td>\n",
       "      <td>60.8</td>\n",
       "      <td>13500</td>\n",
       "      <td>4.080</td>\n",
       "      <td>76.6</td>\n",
       "      <td>1.55</td>\n",
       "      <td>5080</td>\n",
       "      <td>1</td>\n",
       "    </tr>\n",
       "    <tr>\n",
       "      <th>112</th>\n",
       "      <td>Togo</td>\n",
       "      <td>90.3</td>\n",
       "      <td>40.20</td>\n",
       "      <td>7.65</td>\n",
       "      <td>57.3</td>\n",
       "      <td>1210</td>\n",
       "      <td>1.180</td>\n",
       "      <td>58.7</td>\n",
       "      <td>4.87</td>\n",
       "      <td>488</td>\n",
       "      <td>2</td>\n",
       "    </tr>\n",
       "    <tr>\n",
       "      <th>113</th>\n",
       "      <td>Tonga</td>\n",
       "      <td>17.4</td>\n",
       "      <td>12.40</td>\n",
       "      <td>5.07</td>\n",
       "      <td>60.3</td>\n",
       "      <td>4980</td>\n",
       "      <td>3.680</td>\n",
       "      <td>69.9</td>\n",
       "      <td>3.91</td>\n",
       "      <td>3550</td>\n",
       "      <td>1</td>\n",
       "    </tr>\n",
       "    <tr>\n",
       "      <th>114</th>\n",
       "      <td>Tunisia</td>\n",
       "      <td>17.4</td>\n",
       "      <td>50.50</td>\n",
       "      <td>6.21</td>\n",
       "      <td>55.3</td>\n",
       "      <td>10400</td>\n",
       "      <td>3.820</td>\n",
       "      <td>76.9</td>\n",
       "      <td>2.14</td>\n",
       "      <td>4140</td>\n",
       "      <td>1</td>\n",
       "    </tr>\n",
       "    <tr>\n",
       "      <th>115</th>\n",
       "      <td>Turkey</td>\n",
       "      <td>19.1</td>\n",
       "      <td>20.40</td>\n",
       "      <td>6.74</td>\n",
       "      <td>25.5</td>\n",
       "      <td>18000</td>\n",
       "      <td>7.010</td>\n",
       "      <td>78.2</td>\n",
       "      <td>2.15</td>\n",
       "      <td>10700</td>\n",
       "      <td>0</td>\n",
       "    </tr>\n",
       "    <tr>\n",
       "      <th>116</th>\n",
       "      <td>Turkmenistan</td>\n",
       "      <td>62.0</td>\n",
       "      <td>76.30</td>\n",
       "      <td>2.50</td>\n",
       "      <td>44.5</td>\n",
       "      <td>9940</td>\n",
       "      <td>2.310</td>\n",
       "      <td>67.9</td>\n",
       "      <td>2.83</td>\n",
       "      <td>4440</td>\n",
       "      <td>1</td>\n",
       "    </tr>\n",
       "    <tr>\n",
       "      <th>117</th>\n",
       "      <td>Uganda</td>\n",
       "      <td>81.0</td>\n",
       "      <td>17.10</td>\n",
       "      <td>9.01</td>\n",
       "      <td>28.6</td>\n",
       "      <td>1540</td>\n",
       "      <td>10.600</td>\n",
       "      <td>56.8</td>\n",
       "      <td>6.15</td>\n",
       "      <td>595</td>\n",
       "      <td>2</td>\n",
       "    </tr>\n",
       "    <tr>\n",
       "      <th>118</th>\n",
       "      <td>Ukraine</td>\n",
       "      <td>11.7</td>\n",
       "      <td>47.10</td>\n",
       "      <td>7.72</td>\n",
       "      <td>51.1</td>\n",
       "      <td>7820</td>\n",
       "      <td>13.400</td>\n",
       "      <td>70.4</td>\n",
       "      <td>1.44</td>\n",
       "      <td>2970</td>\n",
       "      <td>1</td>\n",
       "    </tr>\n",
       "    <tr>\n",
       "      <th>119</th>\n",
       "      <td>Uruguay</td>\n",
       "      <td>10.6</td>\n",
       "      <td>26.30</td>\n",
       "      <td>8.35</td>\n",
       "      <td>25.4</td>\n",
       "      <td>17100</td>\n",
       "      <td>4.910</td>\n",
       "      <td>76.4</td>\n",
       "      <td>2.08</td>\n",
       "      <td>11900</td>\n",
       "      <td>0</td>\n",
       "    </tr>\n",
       "    <tr>\n",
       "      <th>120</th>\n",
       "      <td>Uzbekistan</td>\n",
       "      <td>36.3</td>\n",
       "      <td>31.70</td>\n",
       "      <td>5.81</td>\n",
       "      <td>28.5</td>\n",
       "      <td>4240</td>\n",
       "      <td>16.500</td>\n",
       "      <td>68.8</td>\n",
       "      <td>2.34</td>\n",
       "      <td>1380</td>\n",
       "      <td>0</td>\n",
       "    </tr>\n",
       "    <tr>\n",
       "      <th>121</th>\n",
       "      <td>Vanuatu</td>\n",
       "      <td>29.2</td>\n",
       "      <td>46.60</td>\n",
       "      <td>5.25</td>\n",
       "      <td>52.7</td>\n",
       "      <td>2950</td>\n",
       "      <td>2.620</td>\n",
       "      <td>63.0</td>\n",
       "      <td>3.50</td>\n",
       "      <td>2970</td>\n",
       "      <td>1</td>\n",
       "    </tr>\n",
       "    <tr>\n",
       "      <th>122</th>\n",
       "      <td>Vietnam</td>\n",
       "      <td>23.3</td>\n",
       "      <td>72.00</td>\n",
       "      <td>6.84</td>\n",
       "      <td>80.2</td>\n",
       "      <td>4490</td>\n",
       "      <td>12.100</td>\n",
       "      <td>73.1</td>\n",
       "      <td>1.95</td>\n",
       "      <td>1310</td>\n",
       "      <td>1</td>\n",
       "    </tr>\n",
       "    <tr>\n",
       "      <th>123</th>\n",
       "      <td>Yemen</td>\n",
       "      <td>56.3</td>\n",
       "      <td>30.00</td>\n",
       "      <td>5.18</td>\n",
       "      <td>34.4</td>\n",
       "      <td>4480</td>\n",
       "      <td>23.600</td>\n",
       "      <td>67.5</td>\n",
       "      <td>4.67</td>\n",
       "      <td>1310</td>\n",
       "      <td>4</td>\n",
       "    </tr>\n",
       "    <tr>\n",
       "      <th>124</th>\n",
       "      <td>Zambia</td>\n",
       "      <td>83.1</td>\n",
       "      <td>37.00</td>\n",
       "      <td>5.89</td>\n",
       "      <td>30.9</td>\n",
       "      <td>3280</td>\n",
       "      <td>14.000</td>\n",
       "      <td>52.0</td>\n",
       "      <td>5.40</td>\n",
       "      <td>1460</td>\n",
       "      <td>4</td>\n",
       "    </tr>\n",
       "  </tbody>\n",
       "</table>\n",
       "<p>125 rows × 11 columns</p>\n",
       "</div>"
      ],
      "text/plain": [
       "                            country  child_mort  exports  health  imports  \\\n",
       "0                       Afghanistan        90.2    10.00    7.58     44.9   \n",
       "1                           Albania        16.6    28.00    6.55     48.6   \n",
       "2                           Algeria        27.3    38.40    4.17     31.4   \n",
       "3                            Angola       119.0    62.30    2.85     42.9   \n",
       "4               Antigua and Barbuda        10.3    45.50    6.03     58.9   \n",
       "5                         Argentina        14.5    18.90    8.10     16.0   \n",
       "6                           Armenia        18.1    20.80    4.40     45.3   \n",
       "7                        Azerbaijan        39.2    54.30    5.88     20.7   \n",
       "8                           Bahamas        13.8    35.00    7.89     43.7   \n",
       "9                           Bahrain         8.6    69.50    4.97     50.9   \n",
       "10                       Bangladesh        49.4    16.00    3.52     21.8   \n",
       "11                         Barbados        14.2    39.50    7.97     48.7   \n",
       "12                          Belarus         5.5    51.40    5.61     64.5   \n",
       "13                           Belize        18.8    58.20    5.20     57.5   \n",
       "14                            Benin       111.0    23.80    4.10     37.2   \n",
       "15                           Bhutan        42.7    42.50    5.20     70.7   \n",
       "16                          Bolivia        46.6    41.20    4.84     34.3   \n",
       "17           Bosnia and Herzegovina         6.9    29.70   11.10     51.3   \n",
       "18                         Botswana        52.5    43.60    8.30     51.3   \n",
       "19                           Brazil        19.8    10.70    9.01     11.8   \n",
       "20                         Bulgaria        10.8    50.20    6.87     53.0   \n",
       "21                     Burkina Faso       116.0    19.20    6.74     29.6   \n",
       "22                          Burundi        93.6     8.92   11.60     39.2   \n",
       "23                         Cambodia        44.4    54.10    5.68     59.5   \n",
       "24                         Cameroon       108.0    22.20    5.13     27.0   \n",
       "25                       Cape Verde        26.5    32.70    4.09     61.8   \n",
       "26                            Chile         8.7    37.70    7.96     31.3   \n",
       "27                            China        15.7    26.30    5.07     22.6   \n",
       "28                         Colombia        18.6    15.90    7.59     17.8   \n",
       "29                          Comoros        88.2    16.50    4.51     51.7   \n",
       "..                              ...         ...      ...     ...      ...   \n",
       "95                           Rwanda        63.6    12.00   10.50     30.0   \n",
       "96                            Samoa        18.9    29.20    6.47     53.1   \n",
       "97                     Saudi Arabia        15.7    49.60    4.29     33.0   \n",
       "98                          Senegal        66.8    24.90    5.66     40.3   \n",
       "99                           Serbia         7.6    32.90   10.40     47.9   \n",
       "100                 Slovak Republic         7.0    76.30    8.79     77.8   \n",
       "101                        Slovenia         3.2    64.30    9.41     62.9   \n",
       "102                 Solomon Islands        28.1    49.30    8.55     81.2   \n",
       "103                    South Africa        53.7    28.60    8.94     27.4   \n",
       "104                     South Korea         4.1    49.40    6.93     46.2   \n",
       "105                       Sri Lanka        11.2    19.60    2.94     26.8   \n",
       "106  St. Vincent and the Grenadines        20.7    26.90    4.47     57.1   \n",
       "107                           Sudan        76.7    19.70    6.32     17.2   \n",
       "108                        Suriname        24.1    52.50    7.01     38.4   \n",
       "109                      Tajikistan        52.4    14.90    5.98     58.6   \n",
       "110                        Tanzania        71.9    18.70    6.01     29.1   \n",
       "111                        Thailand        14.9    66.50    3.88     60.8   \n",
       "112                            Togo        90.3    40.20    7.65     57.3   \n",
       "113                           Tonga        17.4    12.40    5.07     60.3   \n",
       "114                         Tunisia        17.4    50.50    6.21     55.3   \n",
       "115                          Turkey        19.1    20.40    6.74     25.5   \n",
       "116                    Turkmenistan        62.0    76.30    2.50     44.5   \n",
       "117                          Uganda        81.0    17.10    9.01     28.6   \n",
       "118                         Ukraine        11.7    47.10    7.72     51.1   \n",
       "119                         Uruguay        10.6    26.30    8.35     25.4   \n",
       "120                      Uzbekistan        36.3    31.70    5.81     28.5   \n",
       "121                         Vanuatu        29.2    46.60    5.25     52.7   \n",
       "122                         Vietnam        23.3    72.00    6.84     80.2   \n",
       "123                           Yemen        56.3    30.00    5.18     34.4   \n",
       "124                          Zambia        83.1    37.00    5.89     30.9   \n",
       "\n",
       "     income  inflation  life_expec  total_fer   gdpp  ClusterID  \n",
       "0      1610      9.440        56.2       5.82    553          2  \n",
       "1      9930      4.490        76.3       1.65   4090          1  \n",
       "2     12900     16.100        76.5       2.89   4460          0  \n",
       "3      5900     22.400        60.1       6.16   3530          4  \n",
       "4     19100      1.440        76.8       2.13  12200          3  \n",
       "5     18700     20.900        75.8       2.37  10300          0  \n",
       "6      6700      7.770        73.3       1.69   3220          0  \n",
       "7     16000     13.800        69.1       1.92   5840          0  \n",
       "8     22900     -0.393        73.8       1.86  28000          3  \n",
       "9     41100      7.440        76.0       2.16  20700          3  \n",
       "10     2440      7.140        70.4       2.33    758          0  \n",
       "11    15300      0.321        76.7       1.78  16000          3  \n",
       "12    16200     15.100        70.4       1.49   6030          1  \n",
       "13     7880      1.140        71.4       2.71   4340          1  \n",
       "14     1820      0.885        61.8       5.36    758          2  \n",
       "15     6420      5.990        72.1       2.38   2180          1  \n",
       "16     5410      8.780        71.6       3.20   1980          0  \n",
       "17     9720      1.400        76.8       1.31   4610          1  \n",
       "18    13300      8.920        57.1       2.88   6350          1  \n",
       "19    14500      8.410        74.2       1.80  11200          0  \n",
       "20    15300      1.110        73.9       1.57   6840          1  \n",
       "21     1430      6.810        57.9       5.87    575          2  \n",
       "22      764     12.300        57.7       6.26    231          2  \n",
       "23     2520      3.120        66.1       2.88    786          1  \n",
       "24     2660      1.910        57.3       5.11   1310          2  \n",
       "25     5830      0.505        72.5       2.67   3310          1  \n",
       "26    19400      8.960        79.1       1.88  12900          3  \n",
       "27     9530      6.940        74.6       1.59   4560          0  \n",
       "28    10900      3.860        76.4       2.01   6250          0  \n",
       "29     1410      3.870        65.9       4.75    769          2  \n",
       "..      ...        ...         ...        ...    ...        ...  \n",
       "95     1350      2.610        64.6       4.51    563          2  \n",
       "96     5400      1.720        71.5       4.34   3450          1  \n",
       "97    45400     17.200        75.1       2.96  19300          3  \n",
       "98     2180      1.850        64.0       5.06   1000          2  \n",
       "99    12700      5.880        74.7       1.40   5410          1  \n",
       "100   25200      0.485        75.5       1.43  16600          3  \n",
       "101   28700     -0.987        79.5       1.57  23400          3  \n",
       "102    1780      6.810        61.7       4.24   1290          1  \n",
       "103   12000      6.350        54.3       2.59   7280          2  \n",
       "104   30400      3.160        80.1       1.23  22100          3  \n",
       "105    8560     22.800        74.4       2.20   2810          0  \n",
       "106    9920      4.440        71.6       2.07   6230          1  \n",
       "107    3370     19.600        66.3       4.88   1480          4  \n",
       "108   14200      7.200        70.3       2.52   8300          1  \n",
       "109    2110     12.500        69.6       3.51    738          0  \n",
       "110    2090      9.250        59.3       5.43    702          2  \n",
       "111   13500      4.080        76.6       1.55   5080          1  \n",
       "112    1210      1.180        58.7       4.87    488          2  \n",
       "113    4980      3.680        69.9       3.91   3550          1  \n",
       "114   10400      3.820        76.9       2.14   4140          1  \n",
       "115   18000      7.010        78.2       2.15  10700          0  \n",
       "116    9940      2.310        67.9       2.83   4440          1  \n",
       "117    1540     10.600        56.8       6.15    595          2  \n",
       "118    7820     13.400        70.4       1.44   2970          1  \n",
       "119   17100      4.910        76.4       2.08  11900          0  \n",
       "120    4240     16.500        68.8       2.34   1380          0  \n",
       "121    2950      2.620        63.0       3.50   2970          1  \n",
       "122    4490     12.100        73.1       1.95   1310          1  \n",
       "123    4480     23.600        67.5       4.67   1310          4  \n",
       "124    3280     14.000        52.0       5.40   1460          4  \n",
       "\n",
       "[125 rows x 11 columns]"
      ]
     },
     "execution_count": 58,
     "metadata": {},
     "output_type": "execute_result"
    }
   ],
   "source": [
    "Country_dt_km"
   ]
  },
  {
   "cell_type": "code",
   "execution_count": 63,
   "metadata": {},
   "outputs": [],
   "source": [
    "\n",
    "Country_dt_child_mort = \tpd.DataFrame(Country_dt_km.groupby([\"ClusterID\"]).child_mort.mean())\n",
    "Country_dt_exports = \tpd.DataFrame(Country_dt_km.groupby([\"ClusterID\"]).exports.mean())\n",
    "Country_dt_health = \tpd.DataFrame(Country_dt_km.groupby([\"ClusterID\"]).health.mean())\n",
    "Country_dt_imports = \tpd.DataFrame(Country_dt_km.groupby([\"ClusterID\"]).imports.mean())\n",
    "Country_dt_income = \tpd.DataFrame(Country_dt_km.groupby([\"ClusterID\"]).income.mean())\n",
    "Country_dt_inflation = \tpd.DataFrame(Country_dt_km.groupby([\"ClusterID\"]).inflation.mean())\n",
    "Country_dt_life_expec = \tpd.DataFrame(Country_dt_km.groupby([\"ClusterID\"]).life_expec.mean())\n",
    "Country_dt_total_fer = \tpd.DataFrame(Country_dt_km.groupby([\"ClusterID\"]).total_fer.mean())\n",
    "Country_dt_gdpp = \tpd.DataFrame(Country_dt_km.groupby([\"ClusterID\"]).gdpp.mean())\n",
    "\n"
   ]
  },
  {
   "cell_type": "code",
   "execution_count": 81,
   "metadata": {},
   "outputs": [
    {
     "data": {
      "text/html": [
       "<div>\n",
       "<style>\n",
       "    .dataframe thead tr:only-child th {\n",
       "        text-align: right;\n",
       "    }\n",
       "\n",
       "    .dataframe thead th {\n",
       "        text-align: left;\n",
       "    }\n",
       "\n",
       "    .dataframe tbody tr th {\n",
       "        vertical-align: top;\n",
       "    }\n",
       "</style>\n",
       "<table border=\"1\" class=\"dataframe\">\n",
       "  <thead>\n",
       "    <tr style=\"text-align: right;\">\n",
       "      <th></th>\n",
       "      <th>ClusterID</th>\n",
       "      <th>child_mort</th>\n",
       "      <th>exports</th>\n",
       "      <th>health</th>\n",
       "      <th>imports</th>\n",
       "      <th>income</th>\n",
       "      <th>inflation</th>\n",
       "      <th>life_expec</th>\n",
       "      <th>total_fer</th>\n",
       "      <th>gdpp</th>\n",
       "    </tr>\n",
       "    <tr>\n",
       "      <th>ClusterID</th>\n",
       "      <th></th>\n",
       "      <th></th>\n",
       "      <th></th>\n",
       "      <th></th>\n",
       "      <th></th>\n",
       "      <th></th>\n",
       "      <th></th>\n",
       "      <th></th>\n",
       "      <th></th>\n",
       "      <th></th>\n",
       "    </tr>\n",
       "  </thead>\n",
       "  <tbody>\n",
       "    <tr>\n",
       "      <th>0</th>\n",
       "      <td>0.0</td>\n",
       "      <td>29.803448</td>\n",
       "      <td>25.544448</td>\n",
       "      <td>5.481034</td>\n",
       "      <td>28.122962</td>\n",
       "      <td>10328.275862</td>\n",
       "      <td>10.963103</td>\n",
       "      <td>72.224138</td>\n",
       "      <td>2.495517</td>\n",
       "      <td>4838.137931</td>\n",
       "    </tr>\n",
       "    <tr>\n",
       "      <th>1</th>\n",
       "      <td>1.0</td>\n",
       "      <td>22.265000</td>\n",
       "      <td>44.972500</td>\n",
       "      <td>6.749750</td>\n",
       "      <td>58.435000</td>\n",
       "      <td>9406.500000</td>\n",
       "      <td>4.805475</td>\n",
       "      <td>71.670000</td>\n",
       "      <td>2.372500</td>\n",
       "      <td>4620.400000</td>\n",
       "    </tr>\n",
       "    <tr>\n",
       "      <th>2</th>\n",
       "      <td>2.0</td>\n",
       "      <td>86.828000</td>\n",
       "      <td>21.612400</td>\n",
       "      <td>6.586000</td>\n",
       "      <td>40.832000</td>\n",
       "      <td>2224.080000</td>\n",
       "      <td>6.135800</td>\n",
       "      <td>59.796000</td>\n",
       "      <td>4.986800</td>\n",
       "      <td>983.920000</td>\n",
       "    </tr>\n",
       "    <tr>\n",
       "      <th>3</th>\n",
       "      <td>NaN</td>\n",
       "      <td>8.042857</td>\n",
       "      <td>55.076190</td>\n",
       "      <td>6.988571</td>\n",
       "      <td>51.733333</td>\n",
       "      <td>26380.952381</td>\n",
       "      <td>3.938143</td>\n",
       "      <td>76.495238</td>\n",
       "      <td>1.791905</td>\n",
       "      <td>17046.190476</td>\n",
       "    </tr>\n",
       "    <tr>\n",
       "      <th>4</th>\n",
       "      <td>NaN</td>\n",
       "      <td>85.980000</td>\n",
       "      <td>44.340000</td>\n",
       "      <td>4.867000</td>\n",
       "      <td>39.890000</td>\n",
       "      <td>4579.900000</td>\n",
       "      <td>18.930000</td>\n",
       "      <td>61.510000</td>\n",
       "      <td>5.127000</td>\n",
       "      <td>2276.200000</td>\n",
       "    </tr>\n",
       "  </tbody>\n",
       "</table>\n",
       "</div>"
      ],
      "text/plain": [
       "           ClusterID  child_mort    exports    health    imports  \\\n",
       "ClusterID                                                          \n",
       "0                0.0   29.803448  25.544448  5.481034  28.122962   \n",
       "1                1.0   22.265000  44.972500  6.749750  58.435000   \n",
       "2                2.0   86.828000  21.612400  6.586000  40.832000   \n",
       "3                NaN    8.042857  55.076190  6.988571  51.733333   \n",
       "4                NaN   85.980000  44.340000  4.867000  39.890000   \n",
       "\n",
       "                 income  inflation  life_expec  total_fer          gdpp  \n",
       "ClusterID                                                                \n",
       "0          10328.275862  10.963103   72.224138   2.495517   4838.137931  \n",
       "1           9406.500000   4.805475   71.670000   2.372500   4620.400000  \n",
       "2           2224.080000   6.135800   59.796000   4.986800    983.920000  \n",
       "3          26380.952381   3.938143   76.495238   1.791905  17046.190476  \n",
       "4           4579.900000  18.930000   61.510000   5.127000   2276.200000  "
      ]
     },
     "execution_count": 81,
     "metadata": {},
     "output_type": "execute_result"
    }
   ],
   "source": [
    "df = pd.concat([pd.Series([0,1,2]), Country_dt_child_mort, Country_dt_exports, Country_dt_health,Country_dt_imports,Country_dt_income,Country_dt_inflation,Country_dt_life_expec,Country_dt_total_fer,Country_dt_gdpp], axis=1)\n",
    "df.columns = [\"ClusterID\",'child_mort','exports','health','imports','income','inflation','life_expec','total_fer','gdpp']\n",
    "df.head()"
   ]
  },
  {
   "cell_type": "code",
   "execution_count": 82,
   "metadata": {},
   "outputs": [
    {
     "data": {
      "text/plain": [
       "<matplotlib.axes._subplots.AxesSubplot at 0x1a1b7d62e8>"
      ]
     },
     "execution_count": 82,
     "metadata": {},
     "output_type": "execute_result"
    },
    {
     "data": {
      "image/png": "[encoded data removed]",
      "text/plain": [
       "<matplotlib.figure.Figure at 0x1a1b7a3978>"
      ]
     },
     "metadata": {},
     "output_type": "display_data"
    }
   ],
   "source": [
    "sns.barplot(x=df.ClusterID, y=df.child_mort)"
   ]
  },
  {
   "cell_type": "code",
   "execution_count": 83,
   "metadata": {},
   "outputs": [
    {
     "data": {
      "text/plain": [
       "<matplotlib.axes._subplots.AxesSubplot at 0x1a1b76f630>"
      ]
     },
     "execution_count": 83,
     "metadata": {},
     "output_type": "execute_result"
    },
    {
     "data": {
      "image/png": "[encoded data removed]",
      "text/plain": [
       "<matplotlib.figure.Figure at 0x1a1b4695f8>"
      ]
     },
     "metadata": {},
     "output_type": "display_data"
    }
   ],
   "source": [
    "sns.barplot(x=df.ClusterID, y=df.exports)"
   ]
  },
  {
   "cell_type": "code",
   "execution_count": 84,
   "metadata": {},
   "outputs": [
    {
     "data": {
      "text/plain": [
       "<matplotlib.axes._subplots.AxesSubplot at 0x1a1b45ab38>"
      ]
     },
     "execution_count": 84,
     "metadata": {},
     "output_type": "execute_result"
    },
    {
     "data": {
      "image/png": "[encoded data removed]",
      "text/plain": [
       "<matplotlib.figure.Figure at 0x1a1b15ab00>"
      ]
     },
     "metadata": {},
     "output_type": "display_data"
    }
   ],
   "source": [
    "sns.barplot(x=df.ClusterID, y=df.health)"
   ]
  },
  {
   "cell_type": "code",
   "execution_count": 85,
   "metadata": {},
   "outputs": [
    {
     "data": {
      "text/plain": [
       "<matplotlib.axes._subplots.AxesSubplot at 0x1a1b758710>"
      ]
     },
     "execution_count": 85,
     "metadata": {},
     "output_type": "execute_result"
    },
    {
     "data": {
      "image/png": "[encoded data removed]",
      "text/plain": [
       "<matplotlib.figure.Figure at 0x1a1b93d828>"
      ]
     },
     "metadata": {},
     "output_type": "display_data"
    }
   ],
   "source": [
    "sns.barplot(x=df.ClusterID, y=df.imports)"
   ]
  },
  {
   "cell_type": "code",
   "execution_count": 86,
   "metadata": {},
   "outputs": [
    {
     "data": {
      "text/plain": [
       "<matplotlib.axes._subplots.AxesSubplot at 0x1a1b74d908>"
      ]
     },
     "execution_count": 86,
     "metadata": {},
     "output_type": "execute_result"
    },
    {
     "data": {
      "image/png": "[encoded data removed]",
      "text/plain": [
       "<matplotlib.figure.Figure at 0x1a1b975e80>"
      ]
     },
     "metadata": {},
     "output_type": "display_data"
    }
   ],
   "source": [
    "#'income','inflation','life_expec','total_fer','gdpp'\n",
    "sns.barplot(x=df.ClusterID, y=df.income)"
   ]
  },
  {
   "cell_type": "code",
   "execution_count": 87,
   "metadata": {},
   "outputs": [
    {
     "data": {
      "text/plain": [
       "<matplotlib.axes._subplots.AxesSubplot at 0x1a1b7e57f0>"
      ]
     },
     "execution_count": 87,
     "metadata": {},
     "output_type": "execute_result"
    },
    {
     "data": {
      "image/png": "[encoded data removed]",
      "text/plain": [
       "<matplotlib.figure.Figure at 0x1a1b7e9a58>"
      ]
     },
     "metadata": {},
     "output_type": "display_data"
    }
   ],
   "source": [
    "#'income','inflation','life_expec','total_fer','gdpp'\n",
    "sns.barplot(x=df.ClusterID, y=df.inflation)"
   ]
  },
  {
   "cell_type": "code",
   "execution_count": 88,
   "metadata": {},
   "outputs": [
    {
     "data": {
      "text/plain": [
       "<matplotlib.axes._subplots.AxesSubplot at 0x1a1b43e1d0>"
      ]
     },
     "execution_count": 88,
     "metadata": {},
     "output_type": "execute_result"
    },
    {
     "data": {
      "image/png": "[encoded data removed]",
      "text/plain": [
       "<matplotlib.figure.Figure at 0x1a1b128400>"
      ]
     },
     "metadata": {},
     "output_type": "display_data"
    }
   ],
   "source": [
    "#'income','inflation','life_expec','total_fer','gdpp'\n",
    "sns.barplot(x=df.ClusterID, y=df.life_expec)"
   ]
  },
  {
   "cell_type": "code",
   "execution_count": 89,
   "metadata": {},
   "outputs": [
    {
     "data": {
      "text/plain": [
       "<matplotlib.axes._subplots.AxesSubplot at 0x1a1b9d90f0>"
      ]
     },
     "execution_count": 89,
     "metadata": {},
     "output_type": "execute_result"
    },
    {
     "data": {
      "image/png": "[encoded data removed]",
      "text/plain": [
       "<matplotlib.figure.Figure at 0x1a1b19a080>"
      ]
     },
     "metadata": {},
     "output_type": "display_data"
    }
   ],
   "source": [
    "#'income','inflation','life_expec','total_fer','gdpp'\n",
    "sns.barplot(x=df.ClusterID, y=df.total_fer)"
   ]
  },
  {
   "cell_type": "code",
   "execution_count": 90,
   "metadata": {},
   "outputs": [
    {
     "data": {
      "text/plain": [
       "<matplotlib.axes._subplots.AxesSubplot at 0x1a1b19a3c8>"
      ]
     },
     "execution_count": 90,
     "metadata": {},
     "output_type": "execute_result"
    },
    {
     "data": {
      "image/png": "[encoded data removed]",
      "text/plain": [
       "<matplotlib.figure.Figure at 0x1a1ae6d6d8>"
      ]
     },
     "metadata": {},
     "output_type": "display_data"
    }
   ],
   "source": [
    "#'income','inflation','life_expec','total_fer','gdpp'\n",
    "sns.barplot(x=df.ClusterID, y=df.gdpp)"
   ]
  },
  {
   "cell_type": "code",
   "execution_count": 77,
   "metadata": {},
   "outputs": [
    {
     "data": {
      "image/png": "[encoded data removed]",
      "text/plain": [
       "<matplotlib.figure.Figure at 0x1a1aeb4940>"
      ]
     },
     "metadata": {},
     "output_type": "display_data"
    }
   ],
   "source": [
    "# heirarchical clustering\n",
    "mergings = linkage(Country_dt_norm, method = \"single\", metric='euclidean')\n",
    "dendrogram(mergings)\n",
    "plt.show()"
   ]
  },
  {
   "cell_type": "code",
   "execution_count": 78,
   "metadata": {},
   "outputs": [
    {
     "data": {
      "image/png": "[encoded data removed]",
      "text/plain": [
       "<matplotlib.figure.Figure at 0x1a1b474c50>"
      ]
     },
     "metadata": {},
     "output_type": "display_data"
    }
   ],
   "source": [
    "mergings = linkage(Country_dt_norm, method = \"complete\", metric='euclidean')\n",
    "dendrogram(mergings)\n",
    "plt.show()"
   ]
  },
  {
   "cell_type": "code",
   "execution_count": 79,
   "metadata": {
    "collapsed": true
   },
   "outputs": [],
   "source": [
    "clusterCut = pd.Series(cut_tree(mergings, n_clusters = 3).reshape(-1,))\n",
    "RFM_hc = pd.concat([Country_dt, clusterCut], axis=1)\n",
    "RFM_hc.columns = ['country','child_mort','exports','health','imports','income','inflation','life_expec','total_fer','gdpp', 'ClusterID']"
   ]
  },
  {
   "cell_type": "code",
   "execution_count": 80,
   "metadata": {
    "collapsed": true
   },
   "outputs": [],
   "source": [
    "#summarise\n",
    "Country_dt1_child_mort = \tpd.DataFrame(RFM_hc.groupby([\"ClusterID\"]).child_mort.mean())\n",
    "Country_dt1_exports = \tpd.DataFrame(RFM_hc.groupby([\"ClusterID\"]).exports.mean())\n",
    "Country_dt1_health = \tpd.DataFrame(RFM_hc.groupby([\"ClusterID\"]).health.mean())\n",
    "Country_dt1_imports = \tpd.DataFrame(RFM_hc.groupby([\"ClusterID\"]).imports.mean())\n",
    "Country_dt1_income = \tpd.DataFrame(RFM_hc.groupby([\"ClusterID\"]).income.mean())\n",
    "Country_dt1_inflation = \tpd.DataFrame(RFM_hc.groupby([\"ClusterID\"]).inflation.mean())\n",
    "Country_dt1_life_expec = \tpd.DataFrame(RFM_hc.groupby([\"ClusterID\"]).life_expec.mean())\n",
    "Country_dt1_total_fer = \tpd.DataFrame(RFM_hc.groupby([\"ClusterID\"]).total_fer.mean())\n",
    "Country_dt1_gdpp = \tpd.DataFrame(RFM_hc.groupby([\"ClusterID\"]).gdpp.mean())\n",
    "\n"
   ]
  },
  {
   "cell_type": "code",
   "execution_count": 91,
   "metadata": {},
   "outputs": [
    {
     "data": {
      "text/html": [
       "<div>\n",
       "<style>\n",
       "    .dataframe thead tr:only-child th {\n",
       "        text-align: right;\n",
       "    }\n",
       "\n",
       "    .dataframe thead th {\n",
       "        text-align: left;\n",
       "    }\n",
       "\n",
       "    .dataframe tbody tr th {\n",
       "        vertical-align: top;\n",
       "    }\n",
       "</style>\n",
       "<table border=\"1\" class=\"dataframe\">\n",
       "  <thead>\n",
       "    <tr style=\"text-align: right;\">\n",
       "      <th></th>\n",
       "      <th>ClusterID</th>\n",
       "      <th>child_mort</th>\n",
       "      <th>exports</th>\n",
       "      <th>health</th>\n",
       "      <th>imports</th>\n",
       "      <th>income</th>\n",
       "      <th>inflation</th>\n",
       "      <th>life_expec</th>\n",
       "      <th>total_fer</th>\n",
       "      <th>gdpp</th>\n",
       "    </tr>\n",
       "  </thead>\n",
       "  <tbody>\n",
       "    <tr>\n",
       "      <th>0</th>\n",
       "      <td>0</td>\n",
       "      <td>72.680952</td>\n",
       "      <td>28.605214</td>\n",
       "      <td>5.488571</td>\n",
       "      <td>33.784902</td>\n",
       "      <td>5582.404762</td>\n",
       "      <td>11.723690</td>\n",
       "      <td>63.159524</td>\n",
       "      <td>4.506905</td>\n",
       "      <td>2334.071429</td>\n",
       "    </tr>\n",
       "    <tr>\n",
       "      <th>1</th>\n",
       "      <td>1</td>\n",
       "      <td>25.988406</td>\n",
       "      <td>38.593913</td>\n",
       "      <td>6.666522</td>\n",
       "      <td>50.708696</td>\n",
       "      <td>9823.478261</td>\n",
       "      <td>5.508826</td>\n",
       "      <td>71.759420</td>\n",
       "      <td>2.408406</td>\n",
       "      <td>5246.681159</td>\n",
       "    </tr>\n",
       "    <tr>\n",
       "      <th>2</th>\n",
       "      <td>2</td>\n",
       "      <td>7.750000</td>\n",
       "      <td>58.257143</td>\n",
       "      <td>7.036429</td>\n",
       "      <td>52.942857</td>\n",
       "      <td>29921.428571</td>\n",
       "      <td>4.502929</td>\n",
       "      <td>76.685714</td>\n",
       "      <td>1.812143</td>\n",
       "      <td>19314.285714</td>\n",
       "    </tr>\n",
       "  </tbody>\n",
       "</table>\n",
       "</div>"
      ],
      "text/plain": [
       "   ClusterID  child_mort    exports    health    imports        income  \\\n",
       "0          0   72.680952  28.605214  5.488571  33.784902   5582.404762   \n",
       "1          1   25.988406  38.593913  6.666522  50.708696   9823.478261   \n",
       "2          2    7.750000  58.257143  7.036429  52.942857  29921.428571   \n",
       "\n",
       "   inflation  life_expec  total_fer          gdpp  \n",
       "0  11.723690   63.159524   4.506905   2334.071429  \n",
       "1   5.508826   71.759420   2.408406   5246.681159  \n",
       "2   4.502929   76.685714   1.812143  19314.285714  "
      ]
     },
     "execution_count": 91,
     "metadata": {},
     "output_type": "execute_result"
    }
   ],
   "source": [
    "df = pd.concat([pd.Series([0,1,2]), Country_dt1_child_mort, Country_dt1_exports, Country_dt1_health,Country_dt1_imports,Country_dt1_income,Country_dt1_inflation,Country_dt1_life_expec,Country_dt1_total_fer,Country_dt1_gdpp], axis=1)\n",
    "df.columns = [\"ClusterID\",'child_mort','exports','health','imports','income','inflation','life_expec','total_fer','gdpp']\n",
    "df.head()"
   ]
  },
  {
   "cell_type": "code",
   "execution_count": 92,
   "metadata": {},
   "outputs": [
    {
     "data": {
      "text/plain": [
       "<matplotlib.axes._subplots.AxesSubplot at 0x1a1b7ee5c0>"
      ]
     },
     "execution_count": 92,
     "metadata": {},
     "output_type": "execute_result"
    },
    {
     "data": {
      "image/png": "[encoded data removed]",
      "text/plain": [
       "<matplotlib.figure.Figure at 0x1a1b8e0400>"
      ]
     },
     "metadata": {},
     "output_type": "display_data"
    }
   ],
   "source": [
    "#plotting barplot\n",
    "sns.barplot(x=df.ClusterID, y=df.child_mort)"
   ]
  },
  {
   "cell_type": "code",
   "execution_count": 93,
   "metadata": {},
   "outputs": [
    {
     "data": {
      "text/plain": [
       "<matplotlib.axes._subplots.AxesSubplot at 0x1a1b749828>"
      ]
     },
     "execution_count": 93,
     "metadata": {},
     "output_type": "execute_result"
    },
    {
     "data": {
      "image/png": "[encoded data removed]",
      "text/plain": [
       "<matplotlib.figure.Figure at 0x1a1b161160>"
      ]
     },
     "metadata": {},
     "output_type": "display_data"
    }
   ],
   "source": [
    "#plotting barplot\n",
    "sns.barplot(x=df.ClusterID, y=df.exports)"
   ]
  },
  {
   "cell_type": "code",
   "execution_count": null,
   "metadata": {
    "collapsed": true
   },
   "outputs": [],
   "source": []
  }
 ],
 "metadata": {
  "kernelspec": {
   "display_name": "Python 3",
   "language": "python",
   "name": "python3"
  },
  "language_info": {
   "codemirror_mode": {
    "name": "ipython",
    "version": 3
   },
   "file_extension": ".py",
   "mimetype": "text/x-python",
   "name": "python",
   "nbconvert_exporter": "python",
   "pygments_lexer": "ipython3",
   "version": "3.6.8"
  }
 },
 "nbformat": 4,
 "nbformat_minor": 2
}
