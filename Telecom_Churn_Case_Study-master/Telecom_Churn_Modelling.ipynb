{
 "cells": [
  {
   "cell_type": "markdown",
   "metadata": {},
   "source": [
    "### Business Overview\n",
    "\n",
    "In the telecom industry, customers are able to choose from multiple service providers and actively switch from one operator to another. In this highly competitive market, the telecommunications industry experiences an average of 15-25% annual churn rate. Given the fact that it costs 5-10 times more to acquire a new customer than to retain an existing one, customer retention has now become even more important than customer acquisition.\n",
    "**For many incumbent operators, retaining high profitable customers is the number one business goal.**\n",
    "\n",
    "**To reduce customer churn, telecom companies need to predict which customers are at high risk of churn.**\n",
    "\n",
    "### Objective\n",
    "\n",
    "In this project, we will \n",
    "* analyze customer-level data of a leading telecom firm, \n",
    "* build predictive models to identify customers at high risk of churn and \n",
    "* identify the main indicators of churn."
   ]
  },
  {
   "cell_type": "markdown",
   "metadata": {},
   "source": [
    "#### Churn Definition\n",
    "\n",
    "This project is based on Indian and Southeast Asian market and fillowing **Usage-based Churn definition** will be used:\n",
    "\n",
    "*Usage-based churn:Customers who have not done any usage, either incoming or outgoing - in terms of calls, internet etc. over a period of time.*\n",
    "\n",
    "#### High Value Churn\n",
    "\n",
    "In the Indian and the southeast Asian market, approximately 80% of revenue comes from the top 20% customers (called high-value customers). Thus, if we can reduce churn of the high-value customers, we will be able to reduce significant revenue leakage."
   ]
  },
  {
   "cell_type": "markdown",
   "metadata": {},
   "source": [
    "#### Data and Business Objective\n",
    "\n",
    "**dataset**: The dataset contains customer-level information for a span of four consecutive months - June, July, August and September. The months are encoded as 6, 7, 8 and 9, respectively.\n",
    "\n",
    "**business objective**: is to predict the churn in the last (i.e. the ninth) month using the data (features) from the first three months. "
   ]
  },
  {
   "cell_type": "markdown",
   "metadata": {},
   "source": [
    "####  Understanding Customer Behaviour during Churn\n",
    "\n",
    "Customers usually do not decide to switch to another competitor instantly, but rather over a period of time (this is especially applicable to high-value customers). In churn prediction, we assume that there are three phases of customer lifecycle :\n",
    "\n",
    "1. The **‘good’ phase**: In this phase, the customer is happy with the service and behaves as usual.\n",
    "\n",
    "2. The **‘action’ phase**: The customer experience starts to sore in this phase, for e.g. he/she gets a compelling offer from a  competitor, faces unjust charges, becomes unhappy with service quality etc. In this phase, the customer usually shows different behaviour than the ‘good’ months. Also, it is crucial to identify high-churn-risk customers in this phase, since some corrective actions can be taken at this point (such as matching the competitor’s offer/improving the service quality etc.)\n",
    "\n",
    "3. The **‘churn’ phase**: In this phase, the customer is said to have churned. We define churn based on this phase.\n",
    "\n",
    "In this project, since we are working over a four-month window:\n",
    "* the first two months (6th and 7th month data) are the ‘good’ phase, \n",
    "* the third month (8th month) is the ‘action’ phase, \n",
    "* while the fourth month (9th month) is the ‘churn’ phase."
   ]
  },
  {
   "cell_type": "markdown",
   "metadata": {},
   "source": [
    "### Approach and final solution\n",
    "\n",
    "The following approach was followed for churn modeling:\n",
    "\n",
    "1. Data load, cleaning and Exploratory Data Analysis was done.\n",
    "2. From above steps useful patterns were identified, in particular a significant drop in many features was observed during action phase.\n",
    "3. Handling of NA values and outliers was done on a feature by feature basis.\n",
    "4. Relationships among different features were also identified during EDA phase, and feature for which there were component features present in the data set were dropped.\n",
    "3. Feature engineering was done, in particular the following broad steps were taken:\n",
    "   * New features were created for good phase by taking the average of 6th and 7th month values.\n",
    "   * New features were derived from date related values.\n",
    "   * New features were derived in action phase by taking the difference between good phase and 8th month corresponding features.\n",
    "4. Feature standardization was done.\n",
    "5. As the data set is highly imbalanced towards the 'Non-churn' majority class, imbalanced data set handling was done, specifically the following two techniques were followed.\n",
    "    * SMOTE: synthetic sample generation for minority class.\n",
    "    * Majority class under sampling.\n",
    "6. From above majority class under sampling gave better results and hence was used for final model building. Data was divided into training and test set.\n",
    "7. Basic model was created using Logistic Regression.\n",
    "8. As churn prediction is primary motive **sensitivity and f1 score** were looked into to be maximized.\n",
    "9. Feature reduction was done using PCA (the reduced feature set contained ~ 35 feature).\n",
    "10. Baseline model was created.\n",
    "11. Multiple boosting models were tried namely - Ada Boost,Gradient Boosting and XgBoost.\n",
    "12. An ensemble model using majority vote strategy was also created using Logistic Regression, Decision trees, Random Forest and Linear SVM.\n",
    "13. The best prediction model was obtained using XgBoost were a **sensitivity of approx. 90% a precision of 33% and f1 score of 48% was obtained**.\n",
    "14. For understanding factors for churn a logistic regression model was build and features influencing churn were obtained using LASSO and feature elimination using high p-value and VIF for multicollinearity.\n",
    "15. Finally recommendation and strategies were suggested for reducing churn."
   ]
  },
  {
   "cell_type": "markdown",
   "metadata": {},
   "source": [
    "### Import all the required Libraries"
   ]
  },
  {
   "cell_type": "code",
   "execution_count": 269,
   "metadata": {},
   "outputs": [],
   "source": [
    "# import numpy and pandas\n",
    "import pandas as pd\n",
    "import numpy as np\n",
    "\n",
    "# import libraries for plotting\n",
    "import matplotlib.pyplot as plt\n",
    "import seaborn as sns\n",
    "# do an inline so that plt.show() is not required everytime\n",
    "%matplotlib inline\n",
    "\n",
    "# import for pre-processing\n",
    "# scale (this is same as standard scalar)\n",
    "from sklearn.preprocessing import scale\n",
    "# label encoding\n",
    "from sklearn.preprocessing import LabelEncoder\n",
    "\n",
    "# import for model selection:\n",
    "# splitting data into training and test data (validation set)\n",
    "from sklearn.model_selection import train_test_split\n",
    "# import for creating K-folds\n",
    "from sklearn.model_selection import KFold\n",
    "# import for CV using folds created\n",
    "from sklearn.model_selection import cross_val_score\n",
    "# import for grid search cv for Hyperparameter tuning\n",
    "from sklearn.model_selection import GridSearchCV\n",
    "\n",
    "# for deleting unused variables\n",
    "import gc\n",
    "\n",
    "# filter warnings\n",
    "import os\n",
    "import warnings\n",
    "warnings.filterwarnings('ignore')"
   ]
  },
  {
   "cell_type": "markdown",
   "metadata": {},
   "source": [
    "### Generic Function (Used multiple times)"
   ]
  },
  {
   "cell_type": "code",
   "execution_count": 270,
   "metadata": {},
   "outputs": [],
   "source": [
    "def get_nulls_report(df,apply_style=\"Y\"):\n",
    "    if apply_style==\"Y\":\n",
    "        cm = sns.light_palette(\"orange\", as_cmap=True)\n",
    "        return pd.DataFrame([df.isnull().sum(),round(100*(df.isnull().sum()/len(df.index)), 2)]).T.rename(columns={0:'Total Nulls',1:'Nulls Percentage'}).\\\n",
    "sort_values(by='Nulls Percentage',ascending=False).style.background_gradient(cmap=cm)\n",
    "    else:\n",
    "        return pd.DataFrame([df.isnull().sum(),round(100*(df.isnull().sum()/len(df.index)), 2)]).T.rename(columns={0:'Total Nulls',1:'Nulls Percentage'}).\\\n",
    "sort_values(by='Nulls Percentage',ascending=False)"
   ]
  },
  {
   "cell_type": "markdown",
   "metadata": {},
   "source": [
    "### Load Data and Data Cleaning"
   ]
  },
  {
   "cell_type": "code",
   "execution_count": 271,
   "metadata": {},
   "outputs": [],
   "source": [
    "# Fetch the Telecom Churn Data\n",
    "telecom_data = pd.read_csv('./telecom_churn_data.csv')"
   ]
  },
  {
   "cell_type": "code",
   "execution_count": 272,
   "metadata": {},
   "outputs": [
    {
     "data": {
      "text/html": [
       "<div>\n",
       "<style>\n",
       "    .dataframe thead tr:only-child th {\n",
       "        text-align: right;\n",
       "    }\n",
       "\n",
       "    .dataframe thead th {\n",
       "        text-align: left;\n",
       "    }\n",
       "\n",
       "    .dataframe tbody tr th {\n",
       "        vertical-align: top;\n",
       "    }\n",
       "</style>\n",
       "<table border=\"1\" class=\"dataframe\">\n",
       "  <thead>\n",
       "    <tr style=\"text-align: right;\">\n",
       "      <th></th>\n",
       "      <th>mobile_number</th>\n",
       "      <th>circle_id</th>\n",
       "      <th>loc_og_t2o_mou</th>\n",
       "      <th>std_og_t2o_mou</th>\n",
       "      <th>loc_ic_t2o_mou</th>\n",
       "      <th>last_date_of_month_6</th>\n",
       "      <th>last_date_of_month_7</th>\n",
       "      <th>last_date_of_month_8</th>\n",
       "      <th>last_date_of_month_9</th>\n",
       "      <th>arpu_6</th>\n",
       "      <th>...</th>\n",
       "      <th>sachet_3g_9</th>\n",
       "      <th>fb_user_6</th>\n",
       "      <th>fb_user_7</th>\n",
       "      <th>fb_user_8</th>\n",
       "      <th>fb_user_9</th>\n",
       "      <th>aon</th>\n",
       "      <th>aug_vbc_3g</th>\n",
       "      <th>jul_vbc_3g</th>\n",
       "      <th>jun_vbc_3g</th>\n",
       "      <th>sep_vbc_3g</th>\n",
       "    </tr>\n",
       "  </thead>\n",
       "  <tbody>\n",
       "    <tr>\n",
       "      <th>0</th>\n",
       "      <td>7000842753</td>\n",
       "      <td>109</td>\n",
       "      <td>0.0</td>\n",
       "      <td>0.0</td>\n",
       "      <td>0.0</td>\n",
       "      <td>6/30/2014</td>\n",
       "      <td>7/31/2014</td>\n",
       "      <td>8/31/2014</td>\n",
       "      <td>9/30/2014</td>\n",
       "      <td>197.385</td>\n",
       "      <td>...</td>\n",
       "      <td>0</td>\n",
       "      <td>1.0</td>\n",
       "      <td>1.0</td>\n",
       "      <td>1.0</td>\n",
       "      <td>NaN</td>\n",
       "      <td>968</td>\n",
       "      <td>30.4</td>\n",
       "      <td>0.0</td>\n",
       "      <td>101.20</td>\n",
       "      <td>3.58</td>\n",
       "    </tr>\n",
       "    <tr>\n",
       "      <th>1</th>\n",
       "      <td>7001865778</td>\n",
       "      <td>109</td>\n",
       "      <td>0.0</td>\n",
       "      <td>0.0</td>\n",
       "      <td>0.0</td>\n",
       "      <td>6/30/2014</td>\n",
       "      <td>7/31/2014</td>\n",
       "      <td>8/31/2014</td>\n",
       "      <td>9/30/2014</td>\n",
       "      <td>34.047</td>\n",
       "      <td>...</td>\n",
       "      <td>0</td>\n",
       "      <td>NaN</td>\n",
       "      <td>1.0</td>\n",
       "      <td>1.0</td>\n",
       "      <td>NaN</td>\n",
       "      <td>1006</td>\n",
       "      <td>0.0</td>\n",
       "      <td>0.0</td>\n",
       "      <td>0.00</td>\n",
       "      <td>0.00</td>\n",
       "    </tr>\n",
       "    <tr>\n",
       "      <th>2</th>\n",
       "      <td>7001625959</td>\n",
       "      <td>109</td>\n",
       "      <td>0.0</td>\n",
       "      <td>0.0</td>\n",
       "      <td>0.0</td>\n",
       "      <td>6/30/2014</td>\n",
       "      <td>7/31/2014</td>\n",
       "      <td>8/31/2014</td>\n",
       "      <td>9/30/2014</td>\n",
       "      <td>167.690</td>\n",
       "      <td>...</td>\n",
       "      <td>0</td>\n",
       "      <td>NaN</td>\n",
       "      <td>NaN</td>\n",
       "      <td>NaN</td>\n",
       "      <td>1.0</td>\n",
       "      <td>1103</td>\n",
       "      <td>0.0</td>\n",
       "      <td>0.0</td>\n",
       "      <td>4.17</td>\n",
       "      <td>0.00</td>\n",
       "    </tr>\n",
       "    <tr>\n",
       "      <th>3</th>\n",
       "      <td>7001204172</td>\n",
       "      <td>109</td>\n",
       "      <td>0.0</td>\n",
       "      <td>0.0</td>\n",
       "      <td>0.0</td>\n",
       "      <td>6/30/2014</td>\n",
       "      <td>7/31/2014</td>\n",
       "      <td>8/31/2014</td>\n",
       "      <td>9/30/2014</td>\n",
       "      <td>221.338</td>\n",
       "      <td>...</td>\n",
       "      <td>0</td>\n",
       "      <td>NaN</td>\n",
       "      <td>NaN</td>\n",
       "      <td>NaN</td>\n",
       "      <td>NaN</td>\n",
       "      <td>2491</td>\n",
       "      <td>0.0</td>\n",
       "      <td>0.0</td>\n",
       "      <td>0.00</td>\n",
       "      <td>0.00</td>\n",
       "    </tr>\n",
       "    <tr>\n",
       "      <th>4</th>\n",
       "      <td>7000142493</td>\n",
       "      <td>109</td>\n",
       "      <td>0.0</td>\n",
       "      <td>0.0</td>\n",
       "      <td>0.0</td>\n",
       "      <td>6/30/2014</td>\n",
       "      <td>7/31/2014</td>\n",
       "      <td>8/31/2014</td>\n",
       "      <td>9/30/2014</td>\n",
       "      <td>261.636</td>\n",
       "      <td>...</td>\n",
       "      <td>0</td>\n",
       "      <td>0.0</td>\n",
       "      <td>NaN</td>\n",
       "      <td>NaN</td>\n",
       "      <td>NaN</td>\n",
       "      <td>1526</td>\n",
       "      <td>0.0</td>\n",
       "      <td>0.0</td>\n",
       "      <td>0.00</td>\n",
       "      <td>0.00</td>\n",
       "    </tr>\n",
       "  </tbody>\n",
       "</table>\n",
       "<p>5 rows × 226 columns</p>\n",
       "</div>"
      ],
      "text/plain": [
       "   mobile_number  circle_id  loc_og_t2o_mou  std_og_t2o_mou  loc_ic_t2o_mou  \\\n",
       "0     7000842753        109             0.0             0.0             0.0   \n",
       "1     7001865778        109             0.0             0.0             0.0   \n",
       "2     7001625959        109             0.0             0.0             0.0   \n",
       "3     7001204172        109             0.0             0.0             0.0   \n",
       "4     7000142493        109             0.0             0.0             0.0   \n",
       "\n",
       "  last_date_of_month_6 last_date_of_month_7 last_date_of_month_8  \\\n",
       "0            6/30/2014            7/31/2014            8/31/2014   \n",
       "1            6/30/2014            7/31/2014            8/31/2014   \n",
       "2            6/30/2014            7/31/2014            8/31/2014   \n",
       "3            6/30/2014            7/31/2014            8/31/2014   \n",
       "4            6/30/2014            7/31/2014            8/31/2014   \n",
       "\n",
       "  last_date_of_month_9   arpu_6     ...      sachet_3g_9  fb_user_6  \\\n",
       "0            9/30/2014  197.385     ...                0        1.0   \n",
       "1            9/30/2014   34.047     ...                0        NaN   \n",
       "2            9/30/2014  167.690     ...                0        NaN   \n",
       "3            9/30/2014  221.338     ...                0        NaN   \n",
       "4            9/30/2014  261.636     ...                0        0.0   \n",
       "\n",
       "   fb_user_7  fb_user_8  fb_user_9   aon  aug_vbc_3g  jul_vbc_3g  jun_vbc_3g  \\\n",
       "0        1.0        1.0        NaN   968        30.4         0.0      101.20   \n",
       "1        1.0        1.0        NaN  1006         0.0         0.0        0.00   \n",
       "2        NaN        NaN        1.0  1103         0.0         0.0        4.17   \n",
       "3        NaN        NaN        NaN  2491         0.0         0.0        0.00   \n",
       "4        NaN        NaN        NaN  1526         0.0         0.0        0.00   \n",
       "\n",
       "   sep_vbc_3g  \n",
       "0        3.58  \n",
       "1        0.00  \n",
       "2        0.00  \n",
       "3        0.00  \n",
       "4        0.00  \n",
       "\n",
       "[5 rows x 226 columns]"
      ]
     },
     "execution_count": 272,
     "metadata": {},
     "output_type": "execute_result"
    }
   ],
   "source": [
    "# Inspect the data from the dataframe\n",
    "telecom_data.head()"
   ]
  },
  {
   "cell_type": "code",
   "execution_count": 273,
   "metadata": {},
   "outputs": [
    {
     "data": {
      "text/plain": [
       "(99999, 226)"
      ]
     },
     "execution_count": 273,
     "metadata": {},
     "output_type": "execute_result"
    }
   ],
   "source": [
    "# Checking the Shape of the Dataframe\n",
    "telecom_data.shape"
   ]
  },
  {
   "cell_type": "markdown",
   "metadata": {},
   "source": [
    "**INFO** - The Dataframe Contains below details\n",
    "      - No Of Records - 99999\n",
    "      - No Of Columne - 226 (This is a big number , we definetly needs feature reduction)"
   ]
  },
  {
   "cell_type": "code",
   "execution_count": 274,
   "metadata": {},
   "outputs": [
    {
     "name": "stdout",
     "output_type": "stream",
     "text": [
      "<class 'pandas.core.frame.DataFrame'>\n",
      "RangeIndex: 99999 entries, 0 to 99998\n",
      "Columns: 226 entries, mobile_number to sep_vbc_3g\n",
      "dtypes: float64(179), int64(35), object(12)\n",
      "memory usage: 172.4+ MB\n"
     ]
    }
   ],
   "source": [
    "telecom_data.info()"
   ]
  },
  {
   "cell_type": "code",
   "execution_count": 275,
   "metadata": {},
   "outputs": [
    {
     "data": {
      "text/html": [
       "<style  type=\"text/css\" >\n",
       "    #T_23c246e8_bc11_11e9_afb5_4c3275917579row0_col0 {\n",
       "            background-color:  #ffa500;\n",
       "        }    #T_23c246e8_bc11_11e9_afb5_4c3275917579row0_col1 {\n",
       "            background-color:  #ffa500;\n",
       "        }    #T_23c246e8_bc11_11e9_afb5_4c3275917579row1_col0 {\n",
       "            background-color:  #ffa500;\n",
       "        }    #T_23c246e8_bc11_11e9_afb5_4c3275917579row1_col1 {\n",
       "            background-color:  #ffa500;\n",
       "        }    #T_23c246e8_bc11_11e9_afb5_4c3275917579row2_col0 {\n",
       "            background-color:  #ffa500;\n",
       "        }    #T_23c246e8_bc11_11e9_afb5_4c3275917579row2_col1 {\n",
       "            background-color:  #ffa500;\n",
       "        }    #T_23c246e8_bc11_11e9_afb5_4c3275917579row3_col0 {\n",
       "            background-color:  #ffa500;\n",
       "        }    #T_23c246e8_bc11_11e9_afb5_4c3275917579row3_col1 {\n",
       "            background-color:  #ffa500;\n",
       "        }    #T_23c246e8_bc11_11e9_afb5_4c3275917579row4_col0 {\n",
       "            background-color:  #ffa500;\n",
       "        }    #T_23c246e8_bc11_11e9_afb5_4c3275917579row4_col1 {\n",
       "            background-color:  #ffa500;\n",
       "        }    #T_23c246e8_bc11_11e9_afb5_4c3275917579row5_col0 {\n",
       "            background-color:  #ffa500;\n",
       "        }    #T_23c246e8_bc11_11e9_afb5_4c3275917579row5_col1 {\n",
       "            background-color:  #ffa500;\n",
       "        }    #T_23c246e8_bc11_11e9_afb5_4c3275917579row6_col0 {\n",
       "            background-color:  #ffa500;\n",
       "        }    #T_23c246e8_bc11_11e9_afb5_4c3275917579row6_col1 {\n",
       "            background-color:  #ffa500;\n",
       "        }    #T_23c246e8_bc11_11e9_afb5_4c3275917579row7_col0 {\n",
       "            background-color:  #ffa500;\n",
       "        }    #T_23c246e8_bc11_11e9_afb5_4c3275917579row7_col1 {\n",
       "            background-color:  #ffa500;\n",
       "        }    #T_23c246e8_bc11_11e9_afb5_4c3275917579row8_col0 {\n",
       "            background-color:  #ffa500;\n",
       "        }    #T_23c246e8_bc11_11e9_afb5_4c3275917579row8_col1 {\n",
       "            background-color:  #ffa500;\n",
       "        }    #T_23c246e8_bc11_11e9_afb5_4c3275917579row9_col0 {\n",
       "            background-color:  #ffa500;\n",
       "        }    #T_23c246e8_bc11_11e9_afb5_4c3275917579row9_col1 {\n",
       "            background-color:  #ffa500;\n",
       "        }    #T_23c246e8_bc11_11e9_afb5_4c3275917579row10_col0 {\n",
       "            background-color:  #ffa501;\n",
       "        }    #T_23c246e8_bc11_11e9_afb5_4c3275917579row10_col1 {\n",
       "            background-color:  #ffa501;\n",
       "        }    #T_23c246e8_bc11_11e9_afb5_4c3275917579row11_col0 {\n",
       "            background-color:  #ffa501;\n",
       "        }    #T_23c246e8_bc11_11e9_afb5_4c3275917579row11_col1 {\n",
       "            background-color:  #ffa501;\n",
       "        }    #T_23c246e8_bc11_11e9_afb5_4c3275917579row12_col0 {\n",
       "            background-color:  #ffa501;\n",
       "        }    #T_23c246e8_bc11_11e9_afb5_4c3275917579row12_col1 {\n",
       "            background-color:  #ffa501;\n",
       "        }    #T_23c246e8_bc11_11e9_afb5_4c3275917579row13_col0 {\n",
       "            background-color:  #ffa501;\n",
       "        }    #T_23c246e8_bc11_11e9_afb5_4c3275917579row13_col1 {\n",
       "            background-color:  #ffa501;\n",
       "        }    #T_23c246e8_bc11_11e9_afb5_4c3275917579row14_col0 {\n",
       "            background-color:  #ffa501;\n",
       "        }    #T_23c246e8_bc11_11e9_afb5_4c3275917579row14_col1 {\n",
       "            background-color:  #ffa501;\n",
       "        }    #T_23c246e8_bc11_11e9_afb5_4c3275917579row15_col0 {\n",
       "            background-color:  #ffa501;\n",
       "        }    #T_23c246e8_bc11_11e9_afb5_4c3275917579row15_col1 {\n",
       "            background-color:  #ffa501;\n",
       "        }    #T_23c246e8_bc11_11e9_afb5_4c3275917579row16_col0 {\n",
       "            background-color:  #ffa501;\n",
       "        }    #T_23c246e8_bc11_11e9_afb5_4c3275917579row16_col1 {\n",
       "            background-color:  #ffa501;\n",
       "        }    #T_23c246e8_bc11_11e9_afb5_4c3275917579row17_col0 {\n",
       "            background-color:  #ffa501;\n",
       "        }    #T_23c246e8_bc11_11e9_afb5_4c3275917579row17_col1 {\n",
       "            background-color:  #ffa501;\n",
       "        }    #T_23c246e8_bc11_11e9_afb5_4c3275917579row18_col0 {\n",
       "            background-color:  #ffa501;\n",
       "        }    #T_23c246e8_bc11_11e9_afb5_4c3275917579row18_col1 {\n",
       "            background-color:  #ffa501;\n",
       "        }    #T_23c246e8_bc11_11e9_afb5_4c3275917579row19_col0 {\n",
       "            background-color:  #ffa501;\n",
       "        }    #T_23c246e8_bc11_11e9_afb5_4c3275917579row19_col1 {\n",
       "            background-color:  #ffa501;\n",
       "        }    #T_23c246e8_bc11_11e9_afb5_4c3275917579row20_col0 {\n",
       "            background-color:  #ffa602;\n",
       "        }    #T_23c246e8_bc11_11e9_afb5_4c3275917579row20_col1 {\n",
       "            background-color:  #ffa602;\n",
       "        }    #T_23c246e8_bc11_11e9_afb5_4c3275917579row21_col0 {\n",
       "            background-color:  #ffa602;\n",
       "        }    #T_23c246e8_bc11_11e9_afb5_4c3275917579row21_col1 {\n",
       "            background-color:  #ffa602;\n",
       "        }    #T_23c246e8_bc11_11e9_afb5_4c3275917579row22_col0 {\n",
       "            background-color:  #ffa602;\n",
       "        }    #T_23c246e8_bc11_11e9_afb5_4c3275917579row22_col1 {\n",
       "            background-color:  #ffa602;\n",
       "        }    #T_23c246e8_bc11_11e9_afb5_4c3275917579row23_col0 {\n",
       "            background-color:  #ffa602;\n",
       "        }    #T_23c246e8_bc11_11e9_afb5_4c3275917579row23_col1 {\n",
       "            background-color:  #ffa602;\n",
       "        }    #T_23c246e8_bc11_11e9_afb5_4c3275917579row24_col0 {\n",
       "            background-color:  #ffa602;\n",
       "        }    #T_23c246e8_bc11_11e9_afb5_4c3275917579row24_col1 {\n",
       "            background-color:  #ffa602;\n",
       "        }    #T_23c246e8_bc11_11e9_afb5_4c3275917579row25_col0 {\n",
       "            background-color:  #ffa602;\n",
       "        }    #T_23c246e8_bc11_11e9_afb5_4c3275917579row25_col1 {\n",
       "            background-color:  #ffa602;\n",
       "        }    #T_23c246e8_bc11_11e9_afb5_4c3275917579row26_col0 {\n",
       "            background-color:  #ffa602;\n",
       "        }    #T_23c246e8_bc11_11e9_afb5_4c3275917579row26_col1 {\n",
       "            background-color:  #ffa602;\n",
       "        }    #T_23c246e8_bc11_11e9_afb5_4c3275917579row27_col0 {\n",
       "            background-color:  #ffa602;\n",
       "        }    #T_23c246e8_bc11_11e9_afb5_4c3275917579row27_col1 {\n",
       "            background-color:  #ffa602;\n",
       "        }    #T_23c246e8_bc11_11e9_afb5_4c3275917579row28_col0 {\n",
       "            background-color:  #ffa602;\n",
       "        }    #T_23c246e8_bc11_11e9_afb5_4c3275917579row28_col1 {\n",
       "            background-color:  #ffa602;\n",
       "        }    #T_23c246e8_bc11_11e9_afb5_4c3275917579row29_col0 {\n",
       "            background-color:  #ffa602;\n",
       "        }    #T_23c246e8_bc11_11e9_afb5_4c3275917579row29_col1 {\n",
       "            background-color:  #ffa602;\n",
       "        }    #T_23c246e8_bc11_11e9_afb5_4c3275917579row30_col0 {\n",
       "            background-color:  #ffa604;\n",
       "        }    #T_23c246e8_bc11_11e9_afb5_4c3275917579row30_col1 {\n",
       "            background-color:  #ffa604;\n",
       "        }    #T_23c246e8_bc11_11e9_afb5_4c3275917579row31_col0 {\n",
       "            background-color:  #ffa604;\n",
       "        }    #T_23c246e8_bc11_11e9_afb5_4c3275917579row31_col1 {\n",
       "            background-color:  #ffa604;\n",
       "        }    #T_23c246e8_bc11_11e9_afb5_4c3275917579row32_col0 {\n",
       "            background-color:  #ffa604;\n",
       "        }    #T_23c246e8_bc11_11e9_afb5_4c3275917579row32_col1 {\n",
       "            background-color:  #ffa604;\n",
       "        }    #T_23c246e8_bc11_11e9_afb5_4c3275917579row33_col0 {\n",
       "            background-color:  #ffa604;\n",
       "        }    #T_23c246e8_bc11_11e9_afb5_4c3275917579row33_col1 {\n",
       "            background-color:  #ffa604;\n",
       "        }    #T_23c246e8_bc11_11e9_afb5_4c3275917579row34_col0 {\n",
       "            background-color:  #ffa604;\n",
       "        }    #T_23c246e8_bc11_11e9_afb5_4c3275917579row34_col1 {\n",
       "            background-color:  #ffa604;\n",
       "        }    #T_23c246e8_bc11_11e9_afb5_4c3275917579row35_col0 {\n",
       "            background-color:  #ffa604;\n",
       "        }    #T_23c246e8_bc11_11e9_afb5_4c3275917579row35_col1 {\n",
       "            background-color:  #ffa604;\n",
       "        }    #T_23c246e8_bc11_11e9_afb5_4c3275917579row36_col0 {\n",
       "            background-color:  #ffa604;\n",
       "        }    #T_23c246e8_bc11_11e9_afb5_4c3275917579row36_col1 {\n",
       "            background-color:  #ffa604;\n",
       "        }    #T_23c246e8_bc11_11e9_afb5_4c3275917579row37_col0 {\n",
       "            background-color:  #ffa604;\n",
       "        }    #T_23c246e8_bc11_11e9_afb5_4c3275917579row37_col1 {\n",
       "            background-color:  #ffa604;\n",
       "        }    #T_23c246e8_bc11_11e9_afb5_4c3275917579row38_col0 {\n",
       "            background-color:  #ffa604;\n",
       "        }    #T_23c246e8_bc11_11e9_afb5_4c3275917579row38_col1 {\n",
       "            background-color:  #ffa604;\n",
       "        }    #T_23c246e8_bc11_11e9_afb5_4c3275917579row39_col0 {\n",
       "            background-color:  #ffa604;\n",
       "        }    #T_23c246e8_bc11_11e9_afb5_4c3275917579row39_col1 {\n",
       "            background-color:  #ffa604;\n",
       "        }    #T_23c246e8_bc11_11e9_afb5_4c3275917579row40_col0 {\n",
       "            background-color:  #ffeece;\n",
       "        }    #T_23c246e8_bc11_11e9_afb5_4c3275917579row40_col1 {\n",
       "            background-color:  #ffeece;\n",
       "        }    #T_23c246e8_bc11_11e9_afb5_4c3275917579row41_col0 {\n",
       "            background-color:  #ffeece;\n",
       "        }    #T_23c246e8_bc11_11e9_afb5_4c3275917579row41_col1 {\n",
       "            background-color:  #ffeece;\n",
       "        }    #T_23c246e8_bc11_11e9_afb5_4c3275917579row42_col0 {\n",
       "            background-color:  #ffeece;\n",
       "        }    #T_23c246e8_bc11_11e9_afb5_4c3275917579row42_col1 {\n",
       "            background-color:  #ffeece;\n",
       "        }    #T_23c246e8_bc11_11e9_afb5_4c3275917579row43_col0 {\n",
       "            background-color:  #ffeece;\n",
       "        }    #T_23c246e8_bc11_11e9_afb5_4c3275917579row43_col1 {\n",
       "            background-color:  #ffeece;\n",
       "        }    #T_23c246e8_bc11_11e9_afb5_4c3275917579row44_col0 {\n",
       "            background-color:  #ffeece;\n",
       "        }    #T_23c246e8_bc11_11e9_afb5_4c3275917579row44_col1 {\n",
       "            background-color:  #ffeece;\n",
       "        }    #T_23c246e8_bc11_11e9_afb5_4c3275917579row45_col0 {\n",
       "            background-color:  #ffeece;\n",
       "        }    #T_23c246e8_bc11_11e9_afb5_4c3275917579row45_col1 {\n",
       "            background-color:  #ffeece;\n",
       "        }    #T_23c246e8_bc11_11e9_afb5_4c3275917579row46_col0 {\n",
       "            background-color:  #ffeece;\n",
       "        }    #T_23c246e8_bc11_11e9_afb5_4c3275917579row46_col1 {\n",
       "            background-color:  #ffeece;\n",
       "        }    #T_23c246e8_bc11_11e9_afb5_4c3275917579row47_col0 {\n",
       "            background-color:  #ffeece;\n",
       "        }    #T_23c246e8_bc11_11e9_afb5_4c3275917579row47_col1 {\n",
       "            background-color:  #ffeece;\n",
       "        }    #T_23c246e8_bc11_11e9_afb5_4c3275917579row48_col0 {\n",
       "            background-color:  #ffeece;\n",
       "        }    #T_23c246e8_bc11_11e9_afb5_4c3275917579row48_col1 {\n",
       "            background-color:  #ffeece;\n",
       "        }    #T_23c246e8_bc11_11e9_afb5_4c3275917579row49_col0 {\n",
       "            background-color:  #ffeece;\n",
       "        }    #T_23c246e8_bc11_11e9_afb5_4c3275917579row49_col1 {\n",
       "            background-color:  #ffeece;\n",
       "        }    #T_23c246e8_bc11_11e9_afb5_4c3275917579row50_col0 {\n",
       "            background-color:  #ffeece;\n",
       "        }    #T_23c246e8_bc11_11e9_afb5_4c3275917579row50_col1 {\n",
       "            background-color:  #ffeece;\n",
       "        }    #T_23c246e8_bc11_11e9_afb5_4c3275917579row51_col0 {\n",
       "            background-color:  #ffeece;\n",
       "        }    #T_23c246e8_bc11_11e9_afb5_4c3275917579row51_col1 {\n",
       "            background-color:  #ffeece;\n",
       "        }    #T_23c246e8_bc11_11e9_afb5_4c3275917579row52_col0 {\n",
       "            background-color:  #ffeece;\n",
       "        }    #T_23c246e8_bc11_11e9_afb5_4c3275917579row52_col1 {\n",
       "            background-color:  #ffeece;\n",
       "        }    #T_23c246e8_bc11_11e9_afb5_4c3275917579row53_col0 {\n",
       "            background-color:  #ffeece;\n",
       "        }    #T_23c246e8_bc11_11e9_afb5_4c3275917579row53_col1 {\n",
       "            background-color:  #ffeece;\n",
       "        }    #T_23c246e8_bc11_11e9_afb5_4c3275917579row54_col0 {\n",
       "            background-color:  #ffeece;\n",
       "        }    #T_23c246e8_bc11_11e9_afb5_4c3275917579row54_col1 {\n",
       "            background-color:  #ffeece;\n",
       "        }    #T_23c246e8_bc11_11e9_afb5_4c3275917579row55_col0 {\n",
       "            background-color:  #ffeece;\n",
       "        }    #T_23c246e8_bc11_11e9_afb5_4c3275917579row55_col1 {\n",
       "            background-color:  #ffeece;\n",
       "        }    #T_23c246e8_bc11_11e9_afb5_4c3275917579row56_col0 {\n",
       "            background-color:  #ffeece;\n",
       "        }    #T_23c246e8_bc11_11e9_afb5_4c3275917579row56_col1 {\n",
       "            background-color:  #ffeece;\n",
       "        }    #T_23c246e8_bc11_11e9_afb5_4c3275917579row57_col0 {\n",
       "            background-color:  #ffeece;\n",
       "        }    #T_23c246e8_bc11_11e9_afb5_4c3275917579row57_col1 {\n",
       "            background-color:  #ffeece;\n",
       "        }    #T_23c246e8_bc11_11e9_afb5_4c3275917579row58_col0 {\n",
       "            background-color:  #ffeece;\n",
       "        }    #T_23c246e8_bc11_11e9_afb5_4c3275917579row58_col1 {\n",
       "            background-color:  #ffeece;\n",
       "        }    #T_23c246e8_bc11_11e9_afb5_4c3275917579row59_col0 {\n",
       "            background-color:  #ffeece;\n",
       "        }    #T_23c246e8_bc11_11e9_afb5_4c3275917579row59_col1 {\n",
       "            background-color:  #ffeece;\n",
       "        }    #T_23c246e8_bc11_11e9_afb5_4c3275917579row60_col0 {\n",
       "            background-color:  #ffeece;\n",
       "        }    #T_23c246e8_bc11_11e9_afb5_4c3275917579row60_col1 {\n",
       "            background-color:  #ffeece;\n",
       "        }    #T_23c246e8_bc11_11e9_afb5_4c3275917579row61_col0 {\n",
       "            background-color:  #ffeece;\n",
       "        }    #T_23c246e8_bc11_11e9_afb5_4c3275917579row61_col1 {\n",
       "            background-color:  #ffeece;\n",
       "        }    #T_23c246e8_bc11_11e9_afb5_4c3275917579row62_col0 {\n",
       "            background-color:  #ffeece;\n",
       "        }    #T_23c246e8_bc11_11e9_afb5_4c3275917579row62_col1 {\n",
       "            background-color:  #ffeece;\n",
       "        }    #T_23c246e8_bc11_11e9_afb5_4c3275917579row63_col0 {\n",
       "            background-color:  #ffeece;\n",
       "        }    #T_23c246e8_bc11_11e9_afb5_4c3275917579row63_col1 {\n",
       "            background-color:  #ffeece;\n",
       "        }    #T_23c246e8_bc11_11e9_afb5_4c3275917579row64_col0 {\n",
       "            background-color:  #ffeece;\n",
       "        }    #T_23c246e8_bc11_11e9_afb5_4c3275917579row64_col1 {\n",
       "            background-color:  #ffeece;\n",
       "        }    #T_23c246e8_bc11_11e9_afb5_4c3275917579row65_col0 {\n",
       "            background-color:  #ffeece;\n",
       "        }    #T_23c246e8_bc11_11e9_afb5_4c3275917579row65_col1 {\n",
       "            background-color:  #ffeece;\n",
       "        }    #T_23c246e8_bc11_11e9_afb5_4c3275917579row66_col0 {\n",
       "            background-color:  #ffeece;\n",
       "        }    #T_23c246e8_bc11_11e9_afb5_4c3275917579row66_col1 {\n",
       "            background-color:  #ffeece;\n",
       "        }    #T_23c246e8_bc11_11e9_afb5_4c3275917579row67_col0 {\n",
       "            background-color:  #ffeece;\n",
       "        }    #T_23c246e8_bc11_11e9_afb5_4c3275917579row67_col1 {\n",
       "            background-color:  #ffeece;\n",
       "        }    #T_23c246e8_bc11_11e9_afb5_4c3275917579row68_col0 {\n",
       "            background-color:  #ffeece;\n",
       "        }    #T_23c246e8_bc11_11e9_afb5_4c3275917579row68_col1 {\n",
       "            background-color:  #ffeece;\n",
       "        }    #T_23c246e8_bc11_11e9_afb5_4c3275917579row69_col0 {\n",
       "            background-color:  #fff0d5;\n",
       "        }    #T_23c246e8_bc11_11e9_afb5_4c3275917579row69_col1 {\n",
       "            background-color:  #fff0d5;\n",
       "        }    #T_23c246e8_bc11_11e9_afb5_4c3275917579row70_col0 {\n",
       "            background-color:  #fff0d5;\n",
       "        }    #T_23c246e8_bc11_11e9_afb5_4c3275917579row70_col1 {\n",
       "            background-color:  #fff0d5;\n",
       "        }    #T_23c246e8_bc11_11e9_afb5_4c3275917579row71_col0 {\n",
       "            background-color:  #fff0d5;\n",
       "        }    #T_23c246e8_bc11_11e9_afb5_4c3275917579row71_col1 {\n",
       "            background-color:  #fff0d5;\n",
       "        }    #T_23c246e8_bc11_11e9_afb5_4c3275917579row72_col0 {\n",
       "            background-color:  #fff0d5;\n",
       "        }    #T_23c246e8_bc11_11e9_afb5_4c3275917579row72_col1 {\n",
       "            background-color:  #fff0d5;\n",
       "        }    #T_23c246e8_bc11_11e9_afb5_4c3275917579row73_col0 {\n",
       "            background-color:  #fff0d5;\n",
       "        }    #T_23c246e8_bc11_11e9_afb5_4c3275917579row73_col1 {\n",
       "            background-color:  #fff0d5;\n",
       "        }    #T_23c246e8_bc11_11e9_afb5_4c3275917579row74_col0 {\n",
       "            background-color:  #fff0d5;\n",
       "        }    #T_23c246e8_bc11_11e9_afb5_4c3275917579row74_col1 {\n",
       "            background-color:  #fff0d5;\n",
       "        }    #T_23c246e8_bc11_11e9_afb5_4c3275917579row75_col0 {\n",
       "            background-color:  #fff0d5;\n",
       "        }    #T_23c246e8_bc11_11e9_afb5_4c3275917579row75_col1 {\n",
       "            background-color:  #fff0d5;\n",
       "        }    #T_23c246e8_bc11_11e9_afb5_4c3275917579row76_col0 {\n",
       "            background-color:  #fff0d5;\n",
       "        }    #T_23c246e8_bc11_11e9_afb5_4c3275917579row76_col1 {\n",
       "            background-color:  #fff0d5;\n",
       "        }    #T_23c246e8_bc11_11e9_afb5_4c3275917579row77_col0 {\n",
       "            background-color:  #fff0d5;\n",
       "        }    #T_23c246e8_bc11_11e9_afb5_4c3275917579row77_col1 {\n",
       "            background-color:  #fff0d5;\n",
       "        }    #T_23c246e8_bc11_11e9_afb5_4c3275917579row78_col0 {\n",
       "            background-color:  #fff0d5;\n",
       "        }    #T_23c246e8_bc11_11e9_afb5_4c3275917579row78_col1 {\n",
       "            background-color:  #fff0d5;\n",
       "        }    #T_23c246e8_bc11_11e9_afb5_4c3275917579row79_col0 {\n",
       "            background-color:  #fff0d5;\n",
       "        }    #T_23c246e8_bc11_11e9_afb5_4c3275917579row79_col1 {\n",
       "            background-color:  #fff0d5;\n",
       "        }    #T_23c246e8_bc11_11e9_afb5_4c3275917579row80_col0 {\n",
       "            background-color:  #fff0d5;\n",
       "        }    #T_23c246e8_bc11_11e9_afb5_4c3275917579row80_col1 {\n",
       "            background-color:  #fff0d5;\n",
       "        }    #T_23c246e8_bc11_11e9_afb5_4c3275917579row81_col0 {\n",
       "            background-color:  #fff0d5;\n",
       "        }    #T_23c246e8_bc11_11e9_afb5_4c3275917579row81_col1 {\n",
       "            background-color:  #fff0d5;\n",
       "        }    #T_23c246e8_bc11_11e9_afb5_4c3275917579row82_col0 {\n",
       "            background-color:  #fff0d5;\n",
       "        }    #T_23c246e8_bc11_11e9_afb5_4c3275917579row82_col1 {\n",
       "            background-color:  #fff0d5;\n",
       "        }    #T_23c246e8_bc11_11e9_afb5_4c3275917579row83_col0 {\n",
       "            background-color:  #fff0d5;\n",
       "        }    #T_23c246e8_bc11_11e9_afb5_4c3275917579row83_col1 {\n",
       "            background-color:  #fff0d5;\n",
       "        }    #T_23c246e8_bc11_11e9_afb5_4c3275917579row84_col0 {\n",
       "            background-color:  #fff0d5;\n",
       "        }    #T_23c246e8_bc11_11e9_afb5_4c3275917579row84_col1 {\n",
       "            background-color:  #fff0d5;\n",
       "        }    #T_23c246e8_bc11_11e9_afb5_4c3275917579row85_col0 {\n",
       "            background-color:  #fff0d5;\n",
       "        }    #T_23c246e8_bc11_11e9_afb5_4c3275917579row85_col1 {\n",
       "            background-color:  #fff0d5;\n",
       "        }    #T_23c246e8_bc11_11e9_afb5_4c3275917579row86_col0 {\n",
       "            background-color:  #fff0d5;\n",
       "        }    #T_23c246e8_bc11_11e9_afb5_4c3275917579row86_col1 {\n",
       "            background-color:  #fff0d5;\n",
       "        }    #T_23c246e8_bc11_11e9_afb5_4c3275917579row87_col0 {\n",
       "            background-color:  #fff0d5;\n",
       "        }    #T_23c246e8_bc11_11e9_afb5_4c3275917579row87_col1 {\n",
       "            background-color:  #fff0d5;\n",
       "        }    #T_23c246e8_bc11_11e9_afb5_4c3275917579row88_col0 {\n",
       "            background-color:  #fff0d5;\n",
       "        }    #T_23c246e8_bc11_11e9_afb5_4c3275917579row88_col1 {\n",
       "            background-color:  #fff0d5;\n",
       "        }    #T_23c246e8_bc11_11e9_afb5_4c3275917579row89_col0 {\n",
       "            background-color:  #fff0d5;\n",
       "        }    #T_23c246e8_bc11_11e9_afb5_4c3275917579row89_col1 {\n",
       "            background-color:  #fff0d5;\n",
       "        }    #T_23c246e8_bc11_11e9_afb5_4c3275917579row90_col0 {\n",
       "            background-color:  #fff0d5;\n",
       "        }    #T_23c246e8_bc11_11e9_afb5_4c3275917579row90_col1 {\n",
       "            background-color:  #fff0d5;\n",
       "        }    #T_23c246e8_bc11_11e9_afb5_4c3275917579row91_col0 {\n",
       "            background-color:  #fff0d5;\n",
       "        }    #T_23c246e8_bc11_11e9_afb5_4c3275917579row91_col1 {\n",
       "            background-color:  #fff0d5;\n",
       "        }    #T_23c246e8_bc11_11e9_afb5_4c3275917579row92_col0 {\n",
       "            background-color:  #fff0d5;\n",
       "        }    #T_23c246e8_bc11_11e9_afb5_4c3275917579row92_col1 {\n",
       "            background-color:  #fff0d5;\n",
       "        }    #T_23c246e8_bc11_11e9_afb5_4c3275917579row93_col0 {\n",
       "            background-color:  #fff0d5;\n",
       "        }    #T_23c246e8_bc11_11e9_afb5_4c3275917579row93_col1 {\n",
       "            background-color:  #fff0d5;\n",
       "        }    #T_23c246e8_bc11_11e9_afb5_4c3275917579row94_col0 {\n",
       "            background-color:  #fff0d5;\n",
       "        }    #T_23c246e8_bc11_11e9_afb5_4c3275917579row94_col1 {\n",
       "            background-color:  #fff0d5;\n",
       "        }    #T_23c246e8_bc11_11e9_afb5_4c3275917579row95_col0 {\n",
       "            background-color:  #fff0d5;\n",
       "        }    #T_23c246e8_bc11_11e9_afb5_4c3275917579row95_col1 {\n",
       "            background-color:  #fff0d5;\n",
       "        }    #T_23c246e8_bc11_11e9_afb5_4c3275917579row96_col0 {\n",
       "            background-color:  #fff0d5;\n",
       "        }    #T_23c246e8_bc11_11e9_afb5_4c3275917579row96_col1 {\n",
       "            background-color:  #fff0d5;\n",
       "        }    #T_23c246e8_bc11_11e9_afb5_4c3275917579row97_col0 {\n",
       "            background-color:  #fff0d5;\n",
       "        }    #T_23c246e8_bc11_11e9_afb5_4c3275917579row97_col1 {\n",
       "            background-color:  #fff0d5;\n",
       "        }    #T_23c246e8_bc11_11e9_afb5_4c3275917579row98_col0 {\n",
       "            background-color:  #fff1d7;\n",
       "        }    #T_23c246e8_bc11_11e9_afb5_4c3275917579row98_col1 {\n",
       "            background-color:  #fff1d7;\n",
       "        }    #T_23c246e8_bc11_11e9_afb5_4c3275917579row99_col0 {\n",
       "            background-color:  #fff2da;\n",
       "        }    #T_23c246e8_bc11_11e9_afb5_4c3275917579row99_col1 {\n",
       "            background-color:  #fff2da;\n",
       "        }    #T_23c246e8_bc11_11e9_afb5_4c3275917579row100_col0 {\n",
       "            background-color:  #fff2da;\n",
       "        }    #T_23c246e8_bc11_11e9_afb5_4c3275917579row100_col1 {\n",
       "            background-color:  #fff2da;\n",
       "        }    #T_23c246e8_bc11_11e9_afb5_4c3275917579row101_col0 {\n",
       "            background-color:  #fff2da;\n",
       "        }    #T_23c246e8_bc11_11e9_afb5_4c3275917579row101_col1 {\n",
       "            background-color:  #fff2da;\n",
       "        }    #T_23c246e8_bc11_11e9_afb5_4c3275917579row102_col0 {\n",
       "            background-color:  #fff2da;\n",
       "        }    #T_23c246e8_bc11_11e9_afb5_4c3275917579row102_col1 {\n",
       "            background-color:  #fff2da;\n",
       "        }    #T_23c246e8_bc11_11e9_afb5_4c3275917579row103_col0 {\n",
       "            background-color:  #fff2da;\n",
       "        }    #T_23c246e8_bc11_11e9_afb5_4c3275917579row103_col1 {\n",
       "            background-color:  #fff2da;\n",
       "        }    #T_23c246e8_bc11_11e9_afb5_4c3275917579row104_col0 {\n",
       "            background-color:  #fff2da;\n",
       "        }    #T_23c246e8_bc11_11e9_afb5_4c3275917579row104_col1 {\n",
       "            background-color:  #fff2da;\n",
       "        }    #T_23c246e8_bc11_11e9_afb5_4c3275917579row105_col0 {\n",
       "            background-color:  #fff2da;\n",
       "        }    #T_23c246e8_bc11_11e9_afb5_4c3275917579row105_col1 {\n",
       "            background-color:  #fff2da;\n",
       "        }    #T_23c246e8_bc11_11e9_afb5_4c3275917579row106_col0 {\n",
       "            background-color:  #fff2da;\n",
       "        }    #T_23c246e8_bc11_11e9_afb5_4c3275917579row106_col1 {\n",
       "            background-color:  #fff2da;\n",
       "        }    #T_23c246e8_bc11_11e9_afb5_4c3275917579row107_col0 {\n",
       "            background-color:  #fff2da;\n",
       "        }    #T_23c246e8_bc11_11e9_afb5_4c3275917579row107_col1 {\n",
       "            background-color:  #fff2da;\n",
       "        }    #T_23c246e8_bc11_11e9_afb5_4c3275917579row108_col0 {\n",
       "            background-color:  #fff2da;\n",
       "        }    #T_23c246e8_bc11_11e9_afb5_4c3275917579row108_col1 {\n",
       "            background-color:  #fff2da;\n",
       "        }    #T_23c246e8_bc11_11e9_afb5_4c3275917579row109_col0 {\n",
       "            background-color:  #fff2da;\n",
       "        }    #T_23c246e8_bc11_11e9_afb5_4c3275917579row109_col1 {\n",
       "            background-color:  #fff2da;\n",
       "        }    #T_23c246e8_bc11_11e9_afb5_4c3275917579row110_col0 {\n",
       "            background-color:  #fff2da;\n",
       "        }    #T_23c246e8_bc11_11e9_afb5_4c3275917579row110_col1 {\n",
       "            background-color:  #fff2da;\n",
       "        }    #T_23c246e8_bc11_11e9_afb5_4c3275917579row111_col0 {\n",
       "            background-color:  #fff2da;\n",
       "        }    #T_23c246e8_bc11_11e9_afb5_4c3275917579row111_col1 {\n",
       "            background-color:  #fff2da;\n",
       "        }    #T_23c246e8_bc11_11e9_afb5_4c3275917579row112_col0 {\n",
       "            background-color:  #fff2da;\n",
       "        }    #T_23c246e8_bc11_11e9_afb5_4c3275917579row112_col1 {\n",
       "            background-color:  #fff2da;\n",
       "        }    #T_23c246e8_bc11_11e9_afb5_4c3275917579row113_col0 {\n",
       "            background-color:  #fff2da;\n",
       "        }    #T_23c246e8_bc11_11e9_afb5_4c3275917579row113_col1 {\n",
       "            background-color:  #fff2da;\n",
       "        }    #T_23c246e8_bc11_11e9_afb5_4c3275917579row114_col0 {\n",
       "            background-color:  #fff2da;\n",
       "        }    #T_23c246e8_bc11_11e9_afb5_4c3275917579row114_col1 {\n",
       "            background-color:  #fff2da;\n",
       "        }    #T_23c246e8_bc11_11e9_afb5_4c3275917579row115_col0 {\n",
       "            background-color:  #fff2da;\n",
       "        }    #T_23c246e8_bc11_11e9_afb5_4c3275917579row115_col1 {\n",
       "            background-color:  #fff2da;\n",
       "        }    #T_23c246e8_bc11_11e9_afb5_4c3275917579row116_col0 {\n",
       "            background-color:  #fff2da;\n",
       "        }    #T_23c246e8_bc11_11e9_afb5_4c3275917579row116_col1 {\n",
       "            background-color:  #fff2da;\n",
       "        }    #T_23c246e8_bc11_11e9_afb5_4c3275917579row117_col0 {\n",
       "            background-color:  #fff2da;\n",
       "        }    #T_23c246e8_bc11_11e9_afb5_4c3275917579row117_col1 {\n",
       "            background-color:  #fff2da;\n",
       "        }    #T_23c246e8_bc11_11e9_afb5_4c3275917579row118_col0 {\n",
       "            background-color:  #fff2da;\n",
       "        }    #T_23c246e8_bc11_11e9_afb5_4c3275917579row118_col1 {\n",
       "            background-color:  #fff2da;\n",
       "        }    #T_23c246e8_bc11_11e9_afb5_4c3275917579row119_col0 {\n",
       "            background-color:  #fff2da;\n",
       "        }    #T_23c246e8_bc11_11e9_afb5_4c3275917579row119_col1 {\n",
       "            background-color:  #fff2da;\n",
       "        }    #T_23c246e8_bc11_11e9_afb5_4c3275917579row120_col0 {\n",
       "            background-color:  #fff2da;\n",
       "        }    #T_23c246e8_bc11_11e9_afb5_4c3275917579row120_col1 {\n",
       "            background-color:  #fff2da;\n",
       "        }    #T_23c246e8_bc11_11e9_afb5_4c3275917579row121_col0 {\n",
       "            background-color:  #fff2da;\n",
       "        }    #T_23c246e8_bc11_11e9_afb5_4c3275917579row121_col1 {\n",
       "            background-color:  #fff2da;\n",
       "        }    #T_23c246e8_bc11_11e9_afb5_4c3275917579row122_col0 {\n",
       "            background-color:  #fff2da;\n",
       "        }    #T_23c246e8_bc11_11e9_afb5_4c3275917579row122_col1 {\n",
       "            background-color:  #fff2da;\n",
       "        }    #T_23c246e8_bc11_11e9_afb5_4c3275917579row123_col0 {\n",
       "            background-color:  #fff2da;\n",
       "        }    #T_23c246e8_bc11_11e9_afb5_4c3275917579row123_col1 {\n",
       "            background-color:  #fff2da;\n",
       "        }    #T_23c246e8_bc11_11e9_afb5_4c3275917579row124_col0 {\n",
       "            background-color:  #fff2da;\n",
       "        }    #T_23c246e8_bc11_11e9_afb5_4c3275917579row124_col1 {\n",
       "            background-color:  #fff2da;\n",
       "        }    #T_23c246e8_bc11_11e9_afb5_4c3275917579row125_col0 {\n",
       "            background-color:  #fff2da;\n",
       "        }    #T_23c246e8_bc11_11e9_afb5_4c3275917579row125_col1 {\n",
       "            background-color:  #fff2da;\n",
       "        }    #T_23c246e8_bc11_11e9_afb5_4c3275917579row126_col0 {\n",
       "            background-color:  #fff2da;\n",
       "        }    #T_23c246e8_bc11_11e9_afb5_4c3275917579row126_col1 {\n",
       "            background-color:  #fff2da;\n",
       "        }    #T_23c246e8_bc11_11e9_afb5_4c3275917579row127_col0 {\n",
       "            background-color:  #fff2da;\n",
       "        }    #T_23c246e8_bc11_11e9_afb5_4c3275917579row127_col1 {\n",
       "            background-color:  #fff2da;\n",
       "        }    #T_23c246e8_bc11_11e9_afb5_4c3275917579row128_col0 {\n",
       "            background-color:  #fff2da;\n",
       "        }    #T_23c246e8_bc11_11e9_afb5_4c3275917579row128_col1 {\n",
       "            background-color:  #fff2da;\n",
       "        }    #T_23c246e8_bc11_11e9_afb5_4c3275917579row129_col0 {\n",
       "            background-color:  #fff2da;\n",
       "        }    #T_23c246e8_bc11_11e9_afb5_4c3275917579row129_col1 {\n",
       "            background-color:  #fff2da;\n",
       "        }    #T_23c246e8_bc11_11e9_afb5_4c3275917579row130_col0 {\n",
       "            background-color:  #fff2da;\n",
       "        }    #T_23c246e8_bc11_11e9_afb5_4c3275917579row130_col1 {\n",
       "            background-color:  #fff2da;\n",
       "        }    #T_23c246e8_bc11_11e9_afb5_4c3275917579row131_col0 {\n",
       "            background-color:  #fff2da;\n",
       "        }    #T_23c246e8_bc11_11e9_afb5_4c3275917579row131_col1 {\n",
       "            background-color:  #fff2da;\n",
       "        }    #T_23c246e8_bc11_11e9_afb5_4c3275917579row132_col0 {\n",
       "            background-color:  #fff2da;\n",
       "        }    #T_23c246e8_bc11_11e9_afb5_4c3275917579row132_col1 {\n",
       "            background-color:  #fff2da;\n",
       "        }    #T_23c246e8_bc11_11e9_afb5_4c3275917579row133_col0 {\n",
       "            background-color:  #fff2da;\n",
       "        }    #T_23c246e8_bc11_11e9_afb5_4c3275917579row133_col1 {\n",
       "            background-color:  #fff2da;\n",
       "        }    #T_23c246e8_bc11_11e9_afb5_4c3275917579row134_col0 {\n",
       "            background-color:  #fff2da;\n",
       "        }    #T_23c246e8_bc11_11e9_afb5_4c3275917579row134_col1 {\n",
       "            background-color:  #fff2da;\n",
       "        }    #T_23c246e8_bc11_11e9_afb5_4c3275917579row135_col0 {\n",
       "            background-color:  #fff2da;\n",
       "        }    #T_23c246e8_bc11_11e9_afb5_4c3275917579row135_col1 {\n",
       "            background-color:  #fff2da;\n",
       "        }    #T_23c246e8_bc11_11e9_afb5_4c3275917579row136_col0 {\n",
       "            background-color:  #fff2da;\n",
       "        }    #T_23c246e8_bc11_11e9_afb5_4c3275917579row136_col1 {\n",
       "            background-color:  #fff2da;\n",
       "        }    #T_23c246e8_bc11_11e9_afb5_4c3275917579row137_col0 {\n",
       "            background-color:  #fff2da;\n",
       "        }    #T_23c246e8_bc11_11e9_afb5_4c3275917579row137_col1 {\n",
       "            background-color:  #fff2da;\n",
       "        }    #T_23c246e8_bc11_11e9_afb5_4c3275917579row138_col0 {\n",
       "            background-color:  #fff2da;\n",
       "        }    #T_23c246e8_bc11_11e9_afb5_4c3275917579row138_col1 {\n",
       "            background-color:  #fff2da;\n",
       "        }    #T_23c246e8_bc11_11e9_afb5_4c3275917579row139_col0 {\n",
       "            background-color:  #fff2da;\n",
       "        }    #T_23c246e8_bc11_11e9_afb5_4c3275917579row139_col1 {\n",
       "            background-color:  #fff2da;\n",
       "        }    #T_23c246e8_bc11_11e9_afb5_4c3275917579row140_col0 {\n",
       "            background-color:  #fff2da;\n",
       "        }    #T_23c246e8_bc11_11e9_afb5_4c3275917579row140_col1 {\n",
       "            background-color:  #fff2da;\n",
       "        }    #T_23c246e8_bc11_11e9_afb5_4c3275917579row141_col0 {\n",
       "            background-color:  #fff2da;\n",
       "        }    #T_23c246e8_bc11_11e9_afb5_4c3275917579row141_col1 {\n",
       "            background-color:  #fff2da;\n",
       "        }    #T_23c246e8_bc11_11e9_afb5_4c3275917579row142_col0 {\n",
       "            background-color:  #fff2da;\n",
       "        }    #T_23c246e8_bc11_11e9_afb5_4c3275917579row142_col1 {\n",
       "            background-color:  #fff2da;\n",
       "        }    #T_23c246e8_bc11_11e9_afb5_4c3275917579row143_col0 {\n",
       "            background-color:  #fff2da;\n",
       "        }    #T_23c246e8_bc11_11e9_afb5_4c3275917579row143_col1 {\n",
       "            background-color:  #fff2da;\n",
       "        }    #T_23c246e8_bc11_11e9_afb5_4c3275917579row144_col0 {\n",
       "            background-color:  #fff2da;\n",
       "        }    #T_23c246e8_bc11_11e9_afb5_4c3275917579row144_col1 {\n",
       "            background-color:  #fff2da;\n",
       "        }    #T_23c246e8_bc11_11e9_afb5_4c3275917579row145_col0 {\n",
       "            background-color:  #fff2da;\n",
       "        }    #T_23c246e8_bc11_11e9_afb5_4c3275917579row145_col1 {\n",
       "            background-color:  #fff2da;\n",
       "        }    #T_23c246e8_bc11_11e9_afb5_4c3275917579row146_col0 {\n",
       "            background-color:  #fff2da;\n",
       "        }    #T_23c246e8_bc11_11e9_afb5_4c3275917579row146_col1 {\n",
       "            background-color:  #fff2da;\n",
       "        }    #T_23c246e8_bc11_11e9_afb5_4c3275917579row147_col0 {\n",
       "            background-color:  #fff2da;\n",
       "        }    #T_23c246e8_bc11_11e9_afb5_4c3275917579row147_col1 {\n",
       "            background-color:  #fff2da;\n",
       "        }    #T_23c246e8_bc11_11e9_afb5_4c3275917579row148_col0 {\n",
       "            background-color:  #fff2da;\n",
       "        }    #T_23c246e8_bc11_11e9_afb5_4c3275917579row148_col1 {\n",
       "            background-color:  #fff2da;\n",
       "        }    #T_23c246e8_bc11_11e9_afb5_4c3275917579row149_col0 {\n",
       "            background-color:  #fff2da;\n",
       "        }    #T_23c246e8_bc11_11e9_afb5_4c3275917579row149_col1 {\n",
       "            background-color:  #fff2da;\n",
       "        }    #T_23c246e8_bc11_11e9_afb5_4c3275917579row150_col0 {\n",
       "            background-color:  #fff2da;\n",
       "        }    #T_23c246e8_bc11_11e9_afb5_4c3275917579row150_col1 {\n",
       "            background-color:  #fff2da;\n",
       "        }    #T_23c246e8_bc11_11e9_afb5_4c3275917579row151_col0 {\n",
       "            background-color:  #fff2da;\n",
       "        }    #T_23c246e8_bc11_11e9_afb5_4c3275917579row151_col1 {\n",
       "            background-color:  #fff2da;\n",
       "        }    #T_23c246e8_bc11_11e9_afb5_4c3275917579row152_col0 {\n",
       "            background-color:  #fff2da;\n",
       "        }    #T_23c246e8_bc11_11e9_afb5_4c3275917579row152_col1 {\n",
       "            background-color:  #fff2da;\n",
       "        }    #T_23c246e8_bc11_11e9_afb5_4c3275917579row153_col0 {\n",
       "            background-color:  #fff2da;\n",
       "        }    #T_23c246e8_bc11_11e9_afb5_4c3275917579row153_col1 {\n",
       "            background-color:  #fff2da;\n",
       "        }    #T_23c246e8_bc11_11e9_afb5_4c3275917579row154_col0 {\n",
       "            background-color:  #fff2da;\n",
       "        }    #T_23c246e8_bc11_11e9_afb5_4c3275917579row154_col1 {\n",
       "            background-color:  #fff2da;\n",
       "        }    #T_23c246e8_bc11_11e9_afb5_4c3275917579row155_col0 {\n",
       "            background-color:  #fff2da;\n",
       "        }    #T_23c246e8_bc11_11e9_afb5_4c3275917579row155_col1 {\n",
       "            background-color:  #fff2da;\n",
       "        }    #T_23c246e8_bc11_11e9_afb5_4c3275917579row156_col0 {\n",
       "            background-color:  #fff2da;\n",
       "        }    #T_23c246e8_bc11_11e9_afb5_4c3275917579row156_col1 {\n",
       "            background-color:  #fff2da;\n",
       "        }    #T_23c246e8_bc11_11e9_afb5_4c3275917579row157_col0 {\n",
       "            background-color:  #fff2db;\n",
       "        }    #T_23c246e8_bc11_11e9_afb5_4c3275917579row157_col1 {\n",
       "            background-color:  #fff2db;\n",
       "        }    #T_23c246e8_bc11_11e9_afb5_4c3275917579row158_col0 {\n",
       "            background-color:  #fff4e0;\n",
       "        }    #T_23c246e8_bc11_11e9_afb5_4c3275917579row158_col1 {\n",
       "            background-color:  #fff4e0;\n",
       "        }    #T_23c246e8_bc11_11e9_afb5_4c3275917579row159_col0 {\n",
       "            background-color:  #fff4e1;\n",
       "        }    #T_23c246e8_bc11_11e9_afb5_4c3275917579row159_col1 {\n",
       "            background-color:  #fff4e1;\n",
       "        }    #T_23c246e8_bc11_11e9_afb5_4c3275917579row160_col0 {\n",
       "            background-color:  #fff4e1;\n",
       "        }    #T_23c246e8_bc11_11e9_afb5_4c3275917579row160_col1 {\n",
       "            background-color:  #fff4e1;\n",
       "        }    #T_23c246e8_bc11_11e9_afb5_4c3275917579row161_col0 {\n",
       "            background-color:  #fff5e3;\n",
       "        }    #T_23c246e8_bc11_11e9_afb5_4c3275917579row161_col1 {\n",
       "            background-color:  #fff5e3;\n",
       "        }    #T_23c246e8_bc11_11e9_afb5_4c3275917579row162_col0 {\n",
       "            background-color:  #fff5e3;\n",
       "        }    #T_23c246e8_bc11_11e9_afb5_4c3275917579row162_col1 {\n",
       "            background-color:  #fff5e3;\n",
       "        }    #T_23c246e8_bc11_11e9_afb5_4c3275917579row163_col0 {\n",
       "            background-color:  #fff5e3;\n",
       "        }    #T_23c246e8_bc11_11e9_afb5_4c3275917579row163_col1 {\n",
       "            background-color:  #fff5e3;\n",
       "        }    #T_23c246e8_bc11_11e9_afb5_4c3275917579row164_col0 {\n",
       "            background-color:  #fff5e3;\n",
       "        }    #T_23c246e8_bc11_11e9_afb5_4c3275917579row164_col1 {\n",
       "            background-color:  #fff5e3;\n",
       "        }    #T_23c246e8_bc11_11e9_afb5_4c3275917579row165_col0 {\n",
       "            background-color:  #fff5e4;\n",
       "        }    #T_23c246e8_bc11_11e9_afb5_4c3275917579row165_col1 {\n",
       "            background-color:  #fff5e4;\n",
       "        }    #T_23c246e8_bc11_11e9_afb5_4c3275917579row166_col0 {\n",
       "            background-color:  #fff6e5;\n",
       "        }    #T_23c246e8_bc11_11e9_afb5_4c3275917579row166_col1 {\n",
       "            background-color:  #fff6e5;\n",
       "        }    #T_23c246e8_bc11_11e9_afb5_4c3275917579row167_col0 {\n",
       "            background-color:  #fff6e5;\n",
       "        }    #T_23c246e8_bc11_11e9_afb5_4c3275917579row167_col1 {\n",
       "            background-color:  #fff6e5;\n",
       "        }    #T_23c246e8_bc11_11e9_afb5_4c3275917579row168_col0 {\n",
       "            background-color:  #fff6e5;\n",
       "        }    #T_23c246e8_bc11_11e9_afb5_4c3275917579row168_col1 {\n",
       "            background-color:  #fff6e5;\n",
       "        }    #T_23c246e8_bc11_11e9_afb5_4c3275917579row169_col0 {\n",
       "            background-color:  #fff6e5;\n",
       "        }    #T_23c246e8_bc11_11e9_afb5_4c3275917579row169_col1 {\n",
       "            background-color:  #fff6e5;\n",
       "        }    #T_23c246e8_bc11_11e9_afb5_4c3275917579row170_col0 {\n",
       "            background-color:  #fff6e5;\n",
       "        }    #T_23c246e8_bc11_11e9_afb5_4c3275917579row170_col1 {\n",
       "            background-color:  #fff6e5;\n",
       "        }    #T_23c246e8_bc11_11e9_afb5_4c3275917579row171_col0 {\n",
       "            background-color:  #fff6e5;\n",
       "        }    #T_23c246e8_bc11_11e9_afb5_4c3275917579row171_col1 {\n",
       "            background-color:  #fff6e5;\n",
       "        }    #T_23c246e8_bc11_11e9_afb5_4c3275917579row172_col0 {\n",
       "            background-color:  #fff6e5;\n",
       "        }    #T_23c246e8_bc11_11e9_afb5_4c3275917579row172_col1 {\n",
       "            background-color:  #fff6e5;\n",
       "        }    #T_23c246e8_bc11_11e9_afb5_4c3275917579row173_col0 {\n",
       "            background-color:  #fff6e5;\n",
       "        }    #T_23c246e8_bc11_11e9_afb5_4c3275917579row173_col1 {\n",
       "            background-color:  #fff6e5;\n",
       "        }    #T_23c246e8_bc11_11e9_afb5_4c3275917579row174_col0 {\n",
       "            background-color:  #fff6e5;\n",
       "        }    #T_23c246e8_bc11_11e9_afb5_4c3275917579row174_col1 {\n",
       "            background-color:  #fff6e5;\n",
       "        }    #T_23c246e8_bc11_11e9_afb5_4c3275917579row175_col0 {\n",
       "            background-color:  #fff6e5;\n",
       "        }    #T_23c246e8_bc11_11e9_afb5_4c3275917579row175_col1 {\n",
       "            background-color:  #fff6e5;\n",
       "        }    #T_23c246e8_bc11_11e9_afb5_4c3275917579row176_col0 {\n",
       "            background-color:  #fff6e5;\n",
       "        }    #T_23c246e8_bc11_11e9_afb5_4c3275917579row176_col1 {\n",
       "            background-color:  #fff6e5;\n",
       "        }    #T_23c246e8_bc11_11e9_afb5_4c3275917579row177_col0 {\n",
       "            background-color:  #fff6e5;\n",
       "        }    #T_23c246e8_bc11_11e9_afb5_4c3275917579row177_col1 {\n",
       "            background-color:  #fff6e5;\n",
       "        }    #T_23c246e8_bc11_11e9_afb5_4c3275917579row178_col0 {\n",
       "            background-color:  #fff6e5;\n",
       "        }    #T_23c246e8_bc11_11e9_afb5_4c3275917579row178_col1 {\n",
       "            background-color:  #fff6e5;\n",
       "        }    #T_23c246e8_bc11_11e9_afb5_4c3275917579row179_col0 {\n",
       "            background-color:  #fff6e5;\n",
       "        }    #T_23c246e8_bc11_11e9_afb5_4c3275917579row179_col1 {\n",
       "            background-color:  #fff6e5;\n",
       "        }    #T_23c246e8_bc11_11e9_afb5_4c3275917579row180_col0 {\n",
       "            background-color:  #fff6e5;\n",
       "        }    #T_23c246e8_bc11_11e9_afb5_4c3275917579row180_col1 {\n",
       "            background-color:  #fff6e5;\n",
       "        }    #T_23c246e8_bc11_11e9_afb5_4c3275917579row181_col0 {\n",
       "            background-color:  #fff6e5;\n",
       "        }    #T_23c246e8_bc11_11e9_afb5_4c3275917579row181_col1 {\n",
       "            background-color:  #fff6e5;\n",
       "        }    #T_23c246e8_bc11_11e9_afb5_4c3275917579row182_col0 {\n",
       "            background-color:  #fff6e5;\n",
       "        }    #T_23c246e8_bc11_11e9_afb5_4c3275917579row182_col1 {\n",
       "            background-color:  #fff6e5;\n",
       "        }    #T_23c246e8_bc11_11e9_afb5_4c3275917579row183_col0 {\n",
       "            background-color:  #fff6e5;\n",
       "        }    #T_23c246e8_bc11_11e9_afb5_4c3275917579row183_col1 {\n",
       "            background-color:  #fff6e5;\n",
       "        }    #T_23c246e8_bc11_11e9_afb5_4c3275917579row184_col0 {\n",
       "            background-color:  #fff6e5;\n",
       "        }    #T_23c246e8_bc11_11e9_afb5_4c3275917579row184_col1 {\n",
       "            background-color:  #fff6e5;\n",
       "        }    #T_23c246e8_bc11_11e9_afb5_4c3275917579row185_col0 {\n",
       "            background-color:  #fff6e5;\n",
       "        }    #T_23c246e8_bc11_11e9_afb5_4c3275917579row185_col1 {\n",
       "            background-color:  #fff6e5;\n",
       "        }    #T_23c246e8_bc11_11e9_afb5_4c3275917579row186_col0 {\n",
       "            background-color:  #fff6e5;\n",
       "        }    #T_23c246e8_bc11_11e9_afb5_4c3275917579row186_col1 {\n",
       "            background-color:  #fff6e5;\n",
       "        }    #T_23c246e8_bc11_11e9_afb5_4c3275917579row187_col0 {\n",
       "            background-color:  #fff6e5;\n",
       "        }    #T_23c246e8_bc11_11e9_afb5_4c3275917579row187_col1 {\n",
       "            background-color:  #fff6e5;\n",
       "        }    #T_23c246e8_bc11_11e9_afb5_4c3275917579row188_col0 {\n",
       "            background-color:  #fff6e5;\n",
       "        }    #T_23c246e8_bc11_11e9_afb5_4c3275917579row188_col1 {\n",
       "            background-color:  #fff6e5;\n",
       "        }    #T_23c246e8_bc11_11e9_afb5_4c3275917579row189_col0 {\n",
       "            background-color:  #fff6e5;\n",
       "        }    #T_23c246e8_bc11_11e9_afb5_4c3275917579row189_col1 {\n",
       "            background-color:  #fff6e5;\n",
       "        }    #T_23c246e8_bc11_11e9_afb5_4c3275917579row190_col0 {\n",
       "            background-color:  #fff6e5;\n",
       "        }    #T_23c246e8_bc11_11e9_afb5_4c3275917579row190_col1 {\n",
       "            background-color:  #fff6e5;\n",
       "        }    #T_23c246e8_bc11_11e9_afb5_4c3275917579row191_col0 {\n",
       "            background-color:  #fff6e5;\n",
       "        }    #T_23c246e8_bc11_11e9_afb5_4c3275917579row191_col1 {\n",
       "            background-color:  #fff6e5;\n",
       "        }    #T_23c246e8_bc11_11e9_afb5_4c3275917579row192_col0 {\n",
       "            background-color:  #fff6e5;\n",
       "        }    #T_23c246e8_bc11_11e9_afb5_4c3275917579row192_col1 {\n",
       "            background-color:  #fff6e5;\n",
       "        }    #T_23c246e8_bc11_11e9_afb5_4c3275917579row193_col0 {\n",
       "            background-color:  #fff6e5;\n",
       "        }    #T_23c246e8_bc11_11e9_afb5_4c3275917579row193_col1 {\n",
       "            background-color:  #fff6e5;\n",
       "        }    #T_23c246e8_bc11_11e9_afb5_4c3275917579row194_col0 {\n",
       "            background-color:  #fff6e5;\n",
       "        }    #T_23c246e8_bc11_11e9_afb5_4c3275917579row194_col1 {\n",
       "            background-color:  #fff6e5;\n",
       "        }    #T_23c246e8_bc11_11e9_afb5_4c3275917579row195_col0 {\n",
       "            background-color:  #fff6e5;\n",
       "        }    #T_23c246e8_bc11_11e9_afb5_4c3275917579row195_col1 {\n",
       "            background-color:  #fff6e5;\n",
       "        }    #T_23c246e8_bc11_11e9_afb5_4c3275917579row196_col0 {\n",
       "            background-color:  #fff6e5;\n",
       "        }    #T_23c246e8_bc11_11e9_afb5_4c3275917579row196_col1 {\n",
       "            background-color:  #fff6e5;\n",
       "        }    #T_23c246e8_bc11_11e9_afb5_4c3275917579row197_col0 {\n",
       "            background-color:  #fff6e5;\n",
       "        }    #T_23c246e8_bc11_11e9_afb5_4c3275917579row197_col1 {\n",
       "            background-color:  #fff6e5;\n",
       "        }    #T_23c246e8_bc11_11e9_afb5_4c3275917579row198_col0 {\n",
       "            background-color:  #fff6e5;\n",
       "        }    #T_23c246e8_bc11_11e9_afb5_4c3275917579row198_col1 {\n",
       "            background-color:  #fff6e5;\n",
       "        }    #T_23c246e8_bc11_11e9_afb5_4c3275917579row199_col0 {\n",
       "            background-color:  #fff6e5;\n",
       "        }    #T_23c246e8_bc11_11e9_afb5_4c3275917579row199_col1 {\n",
       "            background-color:  #fff6e5;\n",
       "        }    #T_23c246e8_bc11_11e9_afb5_4c3275917579row200_col0 {\n",
       "            background-color:  #fff6e5;\n",
       "        }    #T_23c246e8_bc11_11e9_afb5_4c3275917579row200_col1 {\n",
       "            background-color:  #fff6e5;\n",
       "        }    #T_23c246e8_bc11_11e9_afb5_4c3275917579row201_col0 {\n",
       "            background-color:  #fff6e5;\n",
       "        }    #T_23c246e8_bc11_11e9_afb5_4c3275917579row201_col1 {\n",
       "            background-color:  #fff6e5;\n",
       "        }    #T_23c246e8_bc11_11e9_afb5_4c3275917579row202_col0 {\n",
       "            background-color:  #fff6e5;\n",
       "        }    #T_23c246e8_bc11_11e9_afb5_4c3275917579row202_col1 {\n",
       "            background-color:  #fff6e5;\n",
       "        }    #T_23c246e8_bc11_11e9_afb5_4c3275917579row203_col0 {\n",
       "            background-color:  #fff6e5;\n",
       "        }    #T_23c246e8_bc11_11e9_afb5_4c3275917579row203_col1 {\n",
       "            background-color:  #fff6e5;\n",
       "        }    #T_23c246e8_bc11_11e9_afb5_4c3275917579row204_col0 {\n",
       "            background-color:  #fff6e5;\n",
       "        }    #T_23c246e8_bc11_11e9_afb5_4c3275917579row204_col1 {\n",
       "            background-color:  #fff6e5;\n",
       "        }    #T_23c246e8_bc11_11e9_afb5_4c3275917579row205_col0 {\n",
       "            background-color:  #fff6e5;\n",
       "        }    #T_23c246e8_bc11_11e9_afb5_4c3275917579row205_col1 {\n",
       "            background-color:  #fff6e5;\n",
       "        }    #T_23c246e8_bc11_11e9_afb5_4c3275917579row206_col0 {\n",
       "            background-color:  #fff6e5;\n",
       "        }    #T_23c246e8_bc11_11e9_afb5_4c3275917579row206_col1 {\n",
       "            background-color:  #fff6e5;\n",
       "        }    #T_23c246e8_bc11_11e9_afb5_4c3275917579row207_col0 {\n",
       "            background-color:  #fff6e5;\n",
       "        }    #T_23c246e8_bc11_11e9_afb5_4c3275917579row207_col1 {\n",
       "            background-color:  #fff6e5;\n",
       "        }    #T_23c246e8_bc11_11e9_afb5_4c3275917579row208_col0 {\n",
       "            background-color:  #fff6e5;\n",
       "        }    #T_23c246e8_bc11_11e9_afb5_4c3275917579row208_col1 {\n",
       "            background-color:  #fff6e5;\n",
       "        }    #T_23c246e8_bc11_11e9_afb5_4c3275917579row209_col0 {\n",
       "            background-color:  #fff6e5;\n",
       "        }    #T_23c246e8_bc11_11e9_afb5_4c3275917579row209_col1 {\n",
       "            background-color:  #fff6e5;\n",
       "        }    #T_23c246e8_bc11_11e9_afb5_4c3275917579row210_col0 {\n",
       "            background-color:  #fff6e5;\n",
       "        }    #T_23c246e8_bc11_11e9_afb5_4c3275917579row210_col1 {\n",
       "            background-color:  #fff6e5;\n",
       "        }    #T_23c246e8_bc11_11e9_afb5_4c3275917579row211_col0 {\n",
       "            background-color:  #fff6e5;\n",
       "        }    #T_23c246e8_bc11_11e9_afb5_4c3275917579row211_col1 {\n",
       "            background-color:  #fff6e5;\n",
       "        }    #T_23c246e8_bc11_11e9_afb5_4c3275917579row212_col0 {\n",
       "            background-color:  #fff6e5;\n",
       "        }    #T_23c246e8_bc11_11e9_afb5_4c3275917579row212_col1 {\n",
       "            background-color:  #fff6e5;\n",
       "        }    #T_23c246e8_bc11_11e9_afb5_4c3275917579row213_col0 {\n",
       "            background-color:  #fff6e5;\n",
       "        }    #T_23c246e8_bc11_11e9_afb5_4c3275917579row213_col1 {\n",
       "            background-color:  #fff6e5;\n",
       "        }    #T_23c246e8_bc11_11e9_afb5_4c3275917579row214_col0 {\n",
       "            background-color:  #fff6e5;\n",
       "        }    #T_23c246e8_bc11_11e9_afb5_4c3275917579row214_col1 {\n",
       "            background-color:  #fff6e5;\n",
       "        }    #T_23c246e8_bc11_11e9_afb5_4c3275917579row215_col0 {\n",
       "            background-color:  #fff6e5;\n",
       "        }    #T_23c246e8_bc11_11e9_afb5_4c3275917579row215_col1 {\n",
       "            background-color:  #fff6e5;\n",
       "        }    #T_23c246e8_bc11_11e9_afb5_4c3275917579row216_col0 {\n",
       "            background-color:  #fff6e5;\n",
       "        }    #T_23c246e8_bc11_11e9_afb5_4c3275917579row216_col1 {\n",
       "            background-color:  #fff6e5;\n",
       "        }    #T_23c246e8_bc11_11e9_afb5_4c3275917579row217_col0 {\n",
       "            background-color:  #fff6e5;\n",
       "        }    #T_23c246e8_bc11_11e9_afb5_4c3275917579row217_col1 {\n",
       "            background-color:  #fff6e5;\n",
       "        }    #T_23c246e8_bc11_11e9_afb5_4c3275917579row218_col0 {\n",
       "            background-color:  #fff6e5;\n",
       "        }    #T_23c246e8_bc11_11e9_afb5_4c3275917579row218_col1 {\n",
       "            background-color:  #fff6e5;\n",
       "        }    #T_23c246e8_bc11_11e9_afb5_4c3275917579row219_col0 {\n",
       "            background-color:  #fff6e5;\n",
       "        }    #T_23c246e8_bc11_11e9_afb5_4c3275917579row219_col1 {\n",
       "            background-color:  #fff6e5;\n",
       "        }    #T_23c246e8_bc11_11e9_afb5_4c3275917579row220_col0 {\n",
       "            background-color:  #fff6e5;\n",
       "        }    #T_23c246e8_bc11_11e9_afb5_4c3275917579row220_col1 {\n",
       "            background-color:  #fff6e5;\n",
       "        }    #T_23c246e8_bc11_11e9_afb5_4c3275917579row221_col0 {\n",
       "            background-color:  #fff6e5;\n",
       "        }    #T_23c246e8_bc11_11e9_afb5_4c3275917579row221_col1 {\n",
       "            background-color:  #fff6e5;\n",
       "        }    #T_23c246e8_bc11_11e9_afb5_4c3275917579row222_col0 {\n",
       "            background-color:  #fff6e5;\n",
       "        }    #T_23c246e8_bc11_11e9_afb5_4c3275917579row222_col1 {\n",
       "            background-color:  #fff6e5;\n",
       "        }    #T_23c246e8_bc11_11e9_afb5_4c3275917579row223_col0 {\n",
       "            background-color:  #fff6e5;\n",
       "        }    #T_23c246e8_bc11_11e9_afb5_4c3275917579row223_col1 {\n",
       "            background-color:  #fff6e5;\n",
       "        }    #T_23c246e8_bc11_11e9_afb5_4c3275917579row224_col0 {\n",
       "            background-color:  #fff6e5;\n",
       "        }    #T_23c246e8_bc11_11e9_afb5_4c3275917579row224_col1 {\n",
       "            background-color:  #fff6e5;\n",
       "        }    #T_23c246e8_bc11_11e9_afb5_4c3275917579row225_col0 {\n",
       "            background-color:  #fff6e5;\n",
       "        }    #T_23c246e8_bc11_11e9_afb5_4c3275917579row225_col1 {\n",
       "            background-color:  #fff6e5;\n",
       "        }</style>  \n",
       "<table id=\"T_23c246e8_bc11_11e9_afb5_4c3275917579\" > \n",
       "<thead>    <tr> \n",
       "        <th class=\"blank level0\" ></th> \n",
       "        <th class=\"col_heading level0 col0\" >Total Nulls</th> \n",
       "        <th class=\"col_heading level0 col1\" >Nulls Percentage</th> \n",
       "    </tr></thead> \n",
       "<tbody>    <tr> \n",
       "        <th id=\"T_23c246e8_bc11_11e9_afb5_4c3275917579level0_row0\" class=\"row_heading level0 row0\" >arpu_3g_6</th> \n",
       "        <td id=\"T_23c246e8_bc11_11e9_afb5_4c3275917579row0_col0\" class=\"data row0 col0\" >74846</td> \n",
       "        <td id=\"T_23c246e8_bc11_11e9_afb5_4c3275917579row0_col1\" class=\"data row0 col1\" >74.85</td> \n",
       "    </tr>    <tr> \n",
       "        <th id=\"T_23c246e8_bc11_11e9_afb5_4c3275917579level0_row1\" class=\"row_heading level0 row1\" >night_pck_user_6</th> \n",
       "        <td id=\"T_23c246e8_bc11_11e9_afb5_4c3275917579row1_col0\" class=\"data row1 col0\" >74846</td> \n",
       "        <td id=\"T_23c246e8_bc11_11e9_afb5_4c3275917579row1_col1\" class=\"data row1 col1\" >74.85</td> \n",
       "    </tr>    <tr> \n",
       "        <th id=\"T_23c246e8_bc11_11e9_afb5_4c3275917579level0_row2\" class=\"row_heading level0 row2\" >total_rech_data_6</th> \n",
       "        <td id=\"T_23c246e8_bc11_11e9_afb5_4c3275917579row2_col0\" class=\"data row2 col0\" >74846</td> \n",
       "        <td id=\"T_23c246e8_bc11_11e9_afb5_4c3275917579row2_col1\" class=\"data row2 col1\" >74.85</td> \n",
       "    </tr>    <tr> \n",
       "        <th id=\"T_23c246e8_bc11_11e9_afb5_4c3275917579level0_row3\" class=\"row_heading level0 row3\" >arpu_2g_6</th> \n",
       "        <td id=\"T_23c246e8_bc11_11e9_afb5_4c3275917579row3_col0\" class=\"data row3 col0\" >74846</td> \n",
       "        <td id=\"T_23c246e8_bc11_11e9_afb5_4c3275917579row3_col1\" class=\"data row3 col1\" >74.85</td> \n",
       "    </tr>    <tr> \n",
       "        <th id=\"T_23c246e8_bc11_11e9_afb5_4c3275917579level0_row4\" class=\"row_heading level0 row4\" >max_rech_data_6</th> \n",
       "        <td id=\"T_23c246e8_bc11_11e9_afb5_4c3275917579row4_col0\" class=\"data row4 col0\" >74846</td> \n",
       "        <td id=\"T_23c246e8_bc11_11e9_afb5_4c3275917579row4_col1\" class=\"data row4 col1\" >74.85</td> \n",
       "    </tr>    <tr> \n",
       "        <th id=\"T_23c246e8_bc11_11e9_afb5_4c3275917579level0_row5\" class=\"row_heading level0 row5\" >fb_user_6</th> \n",
       "        <td id=\"T_23c246e8_bc11_11e9_afb5_4c3275917579row5_col0\" class=\"data row5 col0\" >74846</td> \n",
       "        <td id=\"T_23c246e8_bc11_11e9_afb5_4c3275917579row5_col1\" class=\"data row5 col1\" >74.85</td> \n",
       "    </tr>    <tr> \n",
       "        <th id=\"T_23c246e8_bc11_11e9_afb5_4c3275917579level0_row6\" class=\"row_heading level0 row6\" >av_rech_amt_data_6</th> \n",
       "        <td id=\"T_23c246e8_bc11_11e9_afb5_4c3275917579row6_col0\" class=\"data row6 col0\" >74846</td> \n",
       "        <td id=\"T_23c246e8_bc11_11e9_afb5_4c3275917579row6_col1\" class=\"data row6 col1\" >74.85</td> \n",
       "    </tr>    <tr> \n",
       "        <th id=\"T_23c246e8_bc11_11e9_afb5_4c3275917579level0_row7\" class=\"row_heading level0 row7\" >date_of_last_rech_data_6</th> \n",
       "        <td id=\"T_23c246e8_bc11_11e9_afb5_4c3275917579row7_col0\" class=\"data row7 col0\" >74846</td> \n",
       "        <td id=\"T_23c246e8_bc11_11e9_afb5_4c3275917579row7_col1\" class=\"data row7 col1\" >74.85</td> \n",
       "    </tr>    <tr> \n",
       "        <th id=\"T_23c246e8_bc11_11e9_afb5_4c3275917579level0_row8\" class=\"row_heading level0 row8\" >count_rech_2g_6</th> \n",
       "        <td id=\"T_23c246e8_bc11_11e9_afb5_4c3275917579row8_col0\" class=\"data row8 col0\" >74846</td> \n",
       "        <td id=\"T_23c246e8_bc11_11e9_afb5_4c3275917579row8_col1\" class=\"data row8 col1\" >74.85</td> \n",
       "    </tr>    <tr> \n",
       "        <th id=\"T_23c246e8_bc11_11e9_afb5_4c3275917579level0_row9\" class=\"row_heading level0 row9\" >count_rech_3g_6</th> \n",
       "        <td id=\"T_23c246e8_bc11_11e9_afb5_4c3275917579row9_col0\" class=\"data row9 col0\" >74846</td> \n",
       "        <td id=\"T_23c246e8_bc11_11e9_afb5_4c3275917579row9_col1\" class=\"data row9 col1\" >74.85</td> \n",
       "    </tr>    <tr> \n",
       "        <th id=\"T_23c246e8_bc11_11e9_afb5_4c3275917579level0_row10\" class=\"row_heading level0 row10\" >date_of_last_rech_data_7</th> \n",
       "        <td id=\"T_23c246e8_bc11_11e9_afb5_4c3275917579row10_col0\" class=\"data row10 col0\" >74428</td> \n",
       "        <td id=\"T_23c246e8_bc11_11e9_afb5_4c3275917579row10_col1\" class=\"data row10 col1\" >74.43</td> \n",
       "    </tr>    <tr> \n",
       "        <th id=\"T_23c246e8_bc11_11e9_afb5_4c3275917579level0_row11\" class=\"row_heading level0 row11\" >total_rech_data_7</th> \n",
       "        <td id=\"T_23c246e8_bc11_11e9_afb5_4c3275917579row11_col0\" class=\"data row11 col0\" >74428</td> \n",
       "        <td id=\"T_23c246e8_bc11_11e9_afb5_4c3275917579row11_col1\" class=\"data row11 col1\" >74.43</td> \n",
       "    </tr>    <tr> \n",
       "        <th id=\"T_23c246e8_bc11_11e9_afb5_4c3275917579level0_row12\" class=\"row_heading level0 row12\" >fb_user_7</th> \n",
       "        <td id=\"T_23c246e8_bc11_11e9_afb5_4c3275917579row12_col0\" class=\"data row12 col0\" >74428</td> \n",
       "        <td id=\"T_23c246e8_bc11_11e9_afb5_4c3275917579row12_col1\" class=\"data row12 col1\" >74.43</td> \n",
       "    </tr>    <tr> \n",
       "        <th id=\"T_23c246e8_bc11_11e9_afb5_4c3275917579level0_row13\" class=\"row_heading level0 row13\" >max_rech_data_7</th> \n",
       "        <td id=\"T_23c246e8_bc11_11e9_afb5_4c3275917579row13_col0\" class=\"data row13 col0\" >74428</td> \n",
       "        <td id=\"T_23c246e8_bc11_11e9_afb5_4c3275917579row13_col1\" class=\"data row13 col1\" >74.43</td> \n",
       "    </tr>    <tr> \n",
       "        <th id=\"T_23c246e8_bc11_11e9_afb5_4c3275917579level0_row14\" class=\"row_heading level0 row14\" >night_pck_user_7</th> \n",
       "        <td id=\"T_23c246e8_bc11_11e9_afb5_4c3275917579row14_col0\" class=\"data row14 col0\" >74428</td> \n",
       "        <td id=\"T_23c246e8_bc11_11e9_afb5_4c3275917579row14_col1\" class=\"data row14 col1\" >74.43</td> \n",
       "    </tr>    <tr> \n",
       "        <th id=\"T_23c246e8_bc11_11e9_afb5_4c3275917579level0_row15\" class=\"row_heading level0 row15\" >count_rech_2g_7</th> \n",
       "        <td id=\"T_23c246e8_bc11_11e9_afb5_4c3275917579row15_col0\" class=\"data row15 col0\" >74428</td> \n",
       "        <td id=\"T_23c246e8_bc11_11e9_afb5_4c3275917579row15_col1\" class=\"data row15 col1\" >74.43</td> \n",
       "    </tr>    <tr> \n",
       "        <th id=\"T_23c246e8_bc11_11e9_afb5_4c3275917579level0_row16\" class=\"row_heading level0 row16\" >av_rech_amt_data_7</th> \n",
       "        <td id=\"T_23c246e8_bc11_11e9_afb5_4c3275917579row16_col0\" class=\"data row16 col0\" >74428</td> \n",
       "        <td id=\"T_23c246e8_bc11_11e9_afb5_4c3275917579row16_col1\" class=\"data row16 col1\" >74.43</td> \n",
       "    </tr>    <tr> \n",
       "        <th id=\"T_23c246e8_bc11_11e9_afb5_4c3275917579level0_row17\" class=\"row_heading level0 row17\" >arpu_2g_7</th> \n",
       "        <td id=\"T_23c246e8_bc11_11e9_afb5_4c3275917579row17_col0\" class=\"data row17 col0\" >74428</td> \n",
       "        <td id=\"T_23c246e8_bc11_11e9_afb5_4c3275917579row17_col1\" class=\"data row17 col1\" >74.43</td> \n",
       "    </tr>    <tr> \n",
       "        <th id=\"T_23c246e8_bc11_11e9_afb5_4c3275917579level0_row18\" class=\"row_heading level0 row18\" >count_rech_3g_7</th> \n",
       "        <td id=\"T_23c246e8_bc11_11e9_afb5_4c3275917579row18_col0\" class=\"data row18 col0\" >74428</td> \n",
       "        <td id=\"T_23c246e8_bc11_11e9_afb5_4c3275917579row18_col1\" class=\"data row18 col1\" >74.43</td> \n",
       "    </tr>    <tr> \n",
       "        <th id=\"T_23c246e8_bc11_11e9_afb5_4c3275917579level0_row19\" class=\"row_heading level0 row19\" >arpu_3g_7</th> \n",
       "        <td id=\"T_23c246e8_bc11_11e9_afb5_4c3275917579row19_col0\" class=\"data row19 col0\" >74428</td> \n",
       "        <td id=\"T_23c246e8_bc11_11e9_afb5_4c3275917579row19_col1\" class=\"data row19 col1\" >74.43</td> \n",
       "    </tr>    <tr> \n",
       "        <th id=\"T_23c246e8_bc11_11e9_afb5_4c3275917579level0_row20\" class=\"row_heading level0 row20\" >total_rech_data_9</th> \n",
       "        <td id=\"T_23c246e8_bc11_11e9_afb5_4c3275917579row20_col0\" class=\"data row20 col0\" >74077</td> \n",
       "        <td id=\"T_23c246e8_bc11_11e9_afb5_4c3275917579row20_col1\" class=\"data row20 col1\" >74.08</td> \n",
       "    </tr>    <tr> \n",
       "        <th id=\"T_23c246e8_bc11_11e9_afb5_4c3275917579level0_row21\" class=\"row_heading level0 row21\" >count_rech_3g_9</th> \n",
       "        <td id=\"T_23c246e8_bc11_11e9_afb5_4c3275917579row21_col0\" class=\"data row21 col0\" >74077</td> \n",
       "        <td id=\"T_23c246e8_bc11_11e9_afb5_4c3275917579row21_col1\" class=\"data row21 col1\" >74.08</td> \n",
       "    </tr>    <tr> \n",
       "        <th id=\"T_23c246e8_bc11_11e9_afb5_4c3275917579level0_row22\" class=\"row_heading level0 row22\" >fb_user_9</th> \n",
       "        <td id=\"T_23c246e8_bc11_11e9_afb5_4c3275917579row22_col0\" class=\"data row22 col0\" >74077</td> \n",
       "        <td id=\"T_23c246e8_bc11_11e9_afb5_4c3275917579row22_col1\" class=\"data row22 col1\" >74.08</td> \n",
       "    </tr>    <tr> \n",
       "        <th id=\"T_23c246e8_bc11_11e9_afb5_4c3275917579level0_row23\" class=\"row_heading level0 row23\" >max_rech_data_9</th> \n",
       "        <td id=\"T_23c246e8_bc11_11e9_afb5_4c3275917579row23_col0\" class=\"data row23 col0\" >74077</td> \n",
       "        <td id=\"T_23c246e8_bc11_11e9_afb5_4c3275917579row23_col1\" class=\"data row23 col1\" >74.08</td> \n",
       "    </tr>    <tr> \n",
       "        <th id=\"T_23c246e8_bc11_11e9_afb5_4c3275917579level0_row24\" class=\"row_heading level0 row24\" >arpu_3g_9</th> \n",
       "        <td id=\"T_23c246e8_bc11_11e9_afb5_4c3275917579row24_col0\" class=\"data row24 col0\" >74077</td> \n",
       "        <td id=\"T_23c246e8_bc11_11e9_afb5_4c3275917579row24_col1\" class=\"data row24 col1\" >74.08</td> \n",
       "    </tr>    <tr> \n",
       "        <th id=\"T_23c246e8_bc11_11e9_afb5_4c3275917579level0_row25\" class=\"row_heading level0 row25\" >date_of_last_rech_data_9</th> \n",
       "        <td id=\"T_23c246e8_bc11_11e9_afb5_4c3275917579row25_col0\" class=\"data row25 col0\" >74077</td> \n",
       "        <td id=\"T_23c246e8_bc11_11e9_afb5_4c3275917579row25_col1\" class=\"data row25 col1\" >74.08</td> \n",
       "    </tr>    <tr> \n",
       "        <th id=\"T_23c246e8_bc11_11e9_afb5_4c3275917579level0_row26\" class=\"row_heading level0 row26\" >night_pck_user_9</th> \n",
       "        <td id=\"T_23c246e8_bc11_11e9_afb5_4c3275917579row26_col0\" class=\"data row26 col0\" >74077</td> \n",
       "        <td id=\"T_23c246e8_bc11_11e9_afb5_4c3275917579row26_col1\" class=\"data row26 col1\" >74.08</td> \n",
       "    </tr>    <tr> \n",
       "        <th id=\"T_23c246e8_bc11_11e9_afb5_4c3275917579level0_row27\" class=\"row_heading level0 row27\" >arpu_2g_9</th> \n",
       "        <td id=\"T_23c246e8_bc11_11e9_afb5_4c3275917579row27_col0\" class=\"data row27 col0\" >74077</td> \n",
       "        <td id=\"T_23c246e8_bc11_11e9_afb5_4c3275917579row27_col1\" class=\"data row27 col1\" >74.08</td> \n",
       "    </tr>    <tr> \n",
       "        <th id=\"T_23c246e8_bc11_11e9_afb5_4c3275917579level0_row28\" class=\"row_heading level0 row28\" >count_rech_2g_9</th> \n",
       "        <td id=\"T_23c246e8_bc11_11e9_afb5_4c3275917579row28_col0\" class=\"data row28 col0\" >74077</td> \n",
       "        <td id=\"T_23c246e8_bc11_11e9_afb5_4c3275917579row28_col1\" class=\"data row28 col1\" >74.08</td> \n",
       "    </tr>    <tr> \n",
       "        <th id=\"T_23c246e8_bc11_11e9_afb5_4c3275917579level0_row29\" class=\"row_heading level0 row29\" >av_rech_amt_data_9</th> \n",
       "        <td id=\"T_23c246e8_bc11_11e9_afb5_4c3275917579row29_col0\" class=\"data row29 col0\" >74077</td> \n",
       "        <td id=\"T_23c246e8_bc11_11e9_afb5_4c3275917579row29_col1\" class=\"data row29 col1\" >74.08</td> \n",
       "    </tr>    <tr> \n",
       "        <th id=\"T_23c246e8_bc11_11e9_afb5_4c3275917579level0_row30\" class=\"row_heading level0 row30\" >total_rech_data_8</th> \n",
       "        <td id=\"T_23c246e8_bc11_11e9_afb5_4c3275917579row30_col0\" class=\"data row30 col0\" >73660</td> \n",
       "        <td id=\"T_23c246e8_bc11_11e9_afb5_4c3275917579row30_col1\" class=\"data row30 col1\" >73.66</td> \n",
       "    </tr>    <tr> \n",
       "        <th id=\"T_23c246e8_bc11_11e9_afb5_4c3275917579level0_row31\" class=\"row_heading level0 row31\" >arpu_3g_8</th> \n",
       "        <td id=\"T_23c246e8_bc11_11e9_afb5_4c3275917579row31_col0\" class=\"data row31 col0\" >73660</td> \n",
       "        <td id=\"T_23c246e8_bc11_11e9_afb5_4c3275917579row31_col1\" class=\"data row31 col1\" >73.66</td> \n",
       "    </tr>    <tr> \n",
       "        <th id=\"T_23c246e8_bc11_11e9_afb5_4c3275917579level0_row32\" class=\"row_heading level0 row32\" >fb_user_8</th> \n",
       "        <td id=\"T_23c246e8_bc11_11e9_afb5_4c3275917579row32_col0\" class=\"data row32 col0\" >73660</td> \n",
       "        <td id=\"T_23c246e8_bc11_11e9_afb5_4c3275917579row32_col1\" class=\"data row32 col1\" >73.66</td> \n",
       "    </tr>    <tr> \n",
       "        <th id=\"T_23c246e8_bc11_11e9_afb5_4c3275917579level0_row33\" class=\"row_heading level0 row33\" >night_pck_user_8</th> \n",
       "        <td id=\"T_23c246e8_bc11_11e9_afb5_4c3275917579row33_col0\" class=\"data row33 col0\" >73660</td> \n",
       "        <td id=\"T_23c246e8_bc11_11e9_afb5_4c3275917579row33_col1\" class=\"data row33 col1\" >73.66</td> \n",
       "    </tr>    <tr> \n",
       "        <th id=\"T_23c246e8_bc11_11e9_afb5_4c3275917579level0_row34\" class=\"row_heading level0 row34\" >av_rech_amt_data_8</th> \n",
       "        <td id=\"T_23c246e8_bc11_11e9_afb5_4c3275917579row34_col0\" class=\"data row34 col0\" >73660</td> \n",
       "        <td id=\"T_23c246e8_bc11_11e9_afb5_4c3275917579row34_col1\" class=\"data row34 col1\" >73.66</td> \n",
       "    </tr>    <tr> \n",
       "        <th id=\"T_23c246e8_bc11_11e9_afb5_4c3275917579level0_row35\" class=\"row_heading level0 row35\" >max_rech_data_8</th> \n",
       "        <td id=\"T_23c246e8_bc11_11e9_afb5_4c3275917579row35_col0\" class=\"data row35 col0\" >73660</td> \n",
       "        <td id=\"T_23c246e8_bc11_11e9_afb5_4c3275917579row35_col1\" class=\"data row35 col1\" >73.66</td> \n",
       "    </tr>    <tr> \n",
       "        <th id=\"T_23c246e8_bc11_11e9_afb5_4c3275917579level0_row36\" class=\"row_heading level0 row36\" >count_rech_3g_8</th> \n",
       "        <td id=\"T_23c246e8_bc11_11e9_afb5_4c3275917579row36_col0\" class=\"data row36 col0\" >73660</td> \n",
       "        <td id=\"T_23c246e8_bc11_11e9_afb5_4c3275917579row36_col1\" class=\"data row36 col1\" >73.66</td> \n",
       "    </tr>    <tr> \n",
       "        <th id=\"T_23c246e8_bc11_11e9_afb5_4c3275917579level0_row37\" class=\"row_heading level0 row37\" >arpu_2g_8</th> \n",
       "        <td id=\"T_23c246e8_bc11_11e9_afb5_4c3275917579row37_col0\" class=\"data row37 col0\" >73660</td> \n",
       "        <td id=\"T_23c246e8_bc11_11e9_afb5_4c3275917579row37_col1\" class=\"data row37 col1\" >73.66</td> \n",
       "    </tr>    <tr> \n",
       "        <th id=\"T_23c246e8_bc11_11e9_afb5_4c3275917579level0_row38\" class=\"row_heading level0 row38\" >count_rech_2g_8</th> \n",
       "        <td id=\"T_23c246e8_bc11_11e9_afb5_4c3275917579row38_col0\" class=\"data row38 col0\" >73660</td> \n",
       "        <td id=\"T_23c246e8_bc11_11e9_afb5_4c3275917579row38_col1\" class=\"data row38 col1\" >73.66</td> \n",
       "    </tr>    <tr> \n",
       "        <th id=\"T_23c246e8_bc11_11e9_afb5_4c3275917579level0_row39\" class=\"row_heading level0 row39\" >date_of_last_rech_data_8</th> \n",
       "        <td id=\"T_23c246e8_bc11_11e9_afb5_4c3275917579row39_col0\" class=\"data row39 col0\" >73660</td> \n",
       "        <td id=\"T_23c246e8_bc11_11e9_afb5_4c3275917579row39_col1\" class=\"data row39 col1\" >73.66</td> \n",
       "    </tr>    <tr> \n",
       "        <th id=\"T_23c246e8_bc11_11e9_afb5_4c3275917579level0_row40\" class=\"row_heading level0 row40\" >ic_others_9</th> \n",
       "        <td id=\"T_23c246e8_bc11_11e9_afb5_4c3275917579row40_col0\" class=\"data row40 col0\" >7745</td> \n",
       "        <td id=\"T_23c246e8_bc11_11e9_afb5_4c3275917579row40_col1\" class=\"data row40 col1\" >7.75</td> \n",
       "    </tr>    <tr> \n",
       "        <th id=\"T_23c246e8_bc11_11e9_afb5_4c3275917579level0_row41\" class=\"row_heading level0 row41\" >std_og_mou_9</th> \n",
       "        <td id=\"T_23c246e8_bc11_11e9_afb5_4c3275917579row41_col0\" class=\"data row41 col0\" >7745</td> \n",
       "        <td id=\"T_23c246e8_bc11_11e9_afb5_4c3275917579row41_col1\" class=\"data row41 col1\" >7.75</td> \n",
       "    </tr>    <tr> \n",
       "        <th id=\"T_23c246e8_bc11_11e9_afb5_4c3275917579level0_row42\" class=\"row_heading level0 row42\" >std_og_t2c_mou_9</th> \n",
       "        <td id=\"T_23c246e8_bc11_11e9_afb5_4c3275917579row42_col0\" class=\"data row42 col0\" >7745</td> \n",
       "        <td id=\"T_23c246e8_bc11_11e9_afb5_4c3275917579row42_col1\" class=\"data row42 col1\" >7.75</td> \n",
       "    </tr>    <tr> \n",
       "        <th id=\"T_23c246e8_bc11_11e9_afb5_4c3275917579level0_row43\" class=\"row_heading level0 row43\" >isd_ic_mou_9</th> \n",
       "        <td id=\"T_23c246e8_bc11_11e9_afb5_4c3275917579row43_col0\" class=\"data row43 col0\" >7745</td> \n",
       "        <td id=\"T_23c246e8_bc11_11e9_afb5_4c3275917579row43_col1\" class=\"data row43 col1\" >7.75</td> \n",
       "    </tr>    <tr> \n",
       "        <th id=\"T_23c246e8_bc11_11e9_afb5_4c3275917579level0_row44\" class=\"row_heading level0 row44\" >std_ic_mou_9</th> \n",
       "        <td id=\"T_23c246e8_bc11_11e9_afb5_4c3275917579row44_col0\" class=\"data row44 col0\" >7745</td> \n",
       "        <td id=\"T_23c246e8_bc11_11e9_afb5_4c3275917579row44_col1\" class=\"data row44 col1\" >7.75</td> \n",
       "    </tr>    <tr> \n",
       "        <th id=\"T_23c246e8_bc11_11e9_afb5_4c3275917579level0_row45\" class=\"row_heading level0 row45\" >isd_og_mou_9</th> \n",
       "        <td id=\"T_23c246e8_bc11_11e9_afb5_4c3275917579row45_col0\" class=\"data row45 col0\" >7745</td> \n",
       "        <td id=\"T_23c246e8_bc11_11e9_afb5_4c3275917579row45_col1\" class=\"data row45 col1\" >7.75</td> \n",
       "    </tr>    <tr> \n",
       "        <th id=\"T_23c246e8_bc11_11e9_afb5_4c3275917579level0_row46\" class=\"row_heading level0 row46\" >spl_og_mou_9</th> \n",
       "        <td id=\"T_23c246e8_bc11_11e9_afb5_4c3275917579row46_col0\" class=\"data row46 col0\" >7745</td> \n",
       "        <td id=\"T_23c246e8_bc11_11e9_afb5_4c3275917579row46_col1\" class=\"data row46 col1\" >7.75</td> \n",
       "    </tr>    <tr> \n",
       "        <th id=\"T_23c246e8_bc11_11e9_afb5_4c3275917579level0_row47\" class=\"row_heading level0 row47\" >spl_ic_mou_9</th> \n",
       "        <td id=\"T_23c246e8_bc11_11e9_afb5_4c3275917579row47_col0\" class=\"data row47 col0\" >7745</td> \n",
       "        <td id=\"T_23c246e8_bc11_11e9_afb5_4c3275917579row47_col1\" class=\"data row47 col1\" >7.75</td> \n",
       "    </tr>    <tr> \n",
       "        <th id=\"T_23c246e8_bc11_11e9_afb5_4c3275917579level0_row48\" class=\"row_heading level0 row48\" >og_others_9</th> \n",
       "        <td id=\"T_23c246e8_bc11_11e9_afb5_4c3275917579row48_col0\" class=\"data row48 col0\" >7745</td> \n",
       "        <td id=\"T_23c246e8_bc11_11e9_afb5_4c3275917579row48_col1\" class=\"data row48 col1\" >7.75</td> \n",
       "    </tr>    <tr> \n",
       "        <th id=\"T_23c246e8_bc11_11e9_afb5_4c3275917579level0_row49\" class=\"row_heading level0 row49\" >loc_ic_t2t_mou_9</th> \n",
       "        <td id=\"T_23c246e8_bc11_11e9_afb5_4c3275917579row49_col0\" class=\"data row49 col0\" >7745</td> \n",
       "        <td id=\"T_23c246e8_bc11_11e9_afb5_4c3275917579row49_col1\" class=\"data row49 col1\" >7.75</td> \n",
       "    </tr>    <tr> \n",
       "        <th id=\"T_23c246e8_bc11_11e9_afb5_4c3275917579level0_row50\" class=\"row_heading level0 row50\" >std_ic_t2o_mou_9</th> \n",
       "        <td id=\"T_23c246e8_bc11_11e9_afb5_4c3275917579row50_col0\" class=\"data row50 col0\" >7745</td> \n",
       "        <td id=\"T_23c246e8_bc11_11e9_afb5_4c3275917579row50_col1\" class=\"data row50 col1\" >7.75</td> \n",
       "    </tr>    <tr> \n",
       "        <th id=\"T_23c246e8_bc11_11e9_afb5_4c3275917579level0_row51\" class=\"row_heading level0 row51\" >loc_ic_t2m_mou_9</th> \n",
       "        <td id=\"T_23c246e8_bc11_11e9_afb5_4c3275917579row51_col0\" class=\"data row51 col0\" >7745</td> \n",
       "        <td id=\"T_23c246e8_bc11_11e9_afb5_4c3275917579row51_col1\" class=\"data row51 col1\" >7.75</td> \n",
       "    </tr>    <tr> \n",
       "        <th id=\"T_23c246e8_bc11_11e9_afb5_4c3275917579level0_row52\" class=\"row_heading level0 row52\" >std_ic_t2f_mou_9</th> \n",
       "        <td id=\"T_23c246e8_bc11_11e9_afb5_4c3275917579row52_col0\" class=\"data row52 col0\" >7745</td> \n",
       "        <td id=\"T_23c246e8_bc11_11e9_afb5_4c3275917579row52_col1\" class=\"data row52 col1\" >7.75</td> \n",
       "    </tr>    <tr> \n",
       "        <th id=\"T_23c246e8_bc11_11e9_afb5_4c3275917579level0_row53\" class=\"row_heading level0 row53\" >loc_ic_t2f_mou_9</th> \n",
       "        <td id=\"T_23c246e8_bc11_11e9_afb5_4c3275917579row53_col0\" class=\"data row53 col0\" >7745</td> \n",
       "        <td id=\"T_23c246e8_bc11_11e9_afb5_4c3275917579row53_col1\" class=\"data row53 col1\" >7.75</td> \n",
       "    </tr>    <tr> \n",
       "        <th id=\"T_23c246e8_bc11_11e9_afb5_4c3275917579level0_row54\" class=\"row_heading level0 row54\" >loc_ic_mou_9</th> \n",
       "        <td id=\"T_23c246e8_bc11_11e9_afb5_4c3275917579row54_col0\" class=\"data row54 col0\" >7745</td> \n",
       "        <td id=\"T_23c246e8_bc11_11e9_afb5_4c3275917579row54_col1\" class=\"data row54 col1\" >7.75</td> \n",
       "    </tr>    <tr> \n",
       "        <th id=\"T_23c246e8_bc11_11e9_afb5_4c3275917579level0_row55\" class=\"row_heading level0 row55\" >std_ic_t2m_mou_9</th> \n",
       "        <td id=\"T_23c246e8_bc11_11e9_afb5_4c3275917579row55_col0\" class=\"data row55 col0\" >7745</td> \n",
       "        <td id=\"T_23c246e8_bc11_11e9_afb5_4c3275917579row55_col1\" class=\"data row55 col1\" >7.75</td> \n",
       "    </tr>    <tr> \n",
       "        <th id=\"T_23c246e8_bc11_11e9_afb5_4c3275917579level0_row56\" class=\"row_heading level0 row56\" >std_og_t2f_mou_9</th> \n",
       "        <td id=\"T_23c246e8_bc11_11e9_afb5_4c3275917579row56_col0\" class=\"data row56 col0\" >7745</td> \n",
       "        <td id=\"T_23c246e8_bc11_11e9_afb5_4c3275917579row56_col1\" class=\"data row56 col1\" >7.75</td> \n",
       "    </tr>    <tr> \n",
       "        <th id=\"T_23c246e8_bc11_11e9_afb5_4c3275917579level0_row57\" class=\"row_heading level0 row57\" >std_og_t2t_mou_9</th> \n",
       "        <td id=\"T_23c246e8_bc11_11e9_afb5_4c3275917579row57_col0\" class=\"data row57 col0\" >7745</td> \n",
       "        <td id=\"T_23c246e8_bc11_11e9_afb5_4c3275917579row57_col1\" class=\"data row57 col1\" >7.75</td> \n",
       "    </tr>    <tr> \n",
       "        <th id=\"T_23c246e8_bc11_11e9_afb5_4c3275917579level0_row58\" class=\"row_heading level0 row58\" >std_ic_t2t_mou_9</th> \n",
       "        <td id=\"T_23c246e8_bc11_11e9_afb5_4c3275917579row58_col0\" class=\"data row58 col0\" >7745</td> \n",
       "        <td id=\"T_23c246e8_bc11_11e9_afb5_4c3275917579row58_col1\" class=\"data row58 col1\" >7.75</td> \n",
       "    </tr>    <tr> \n",
       "        <th id=\"T_23c246e8_bc11_11e9_afb5_4c3275917579level0_row59\" class=\"row_heading level0 row59\" >loc_og_mou_9</th> \n",
       "        <td id=\"T_23c246e8_bc11_11e9_afb5_4c3275917579row59_col0\" class=\"data row59 col0\" >7745</td> \n",
       "        <td id=\"T_23c246e8_bc11_11e9_afb5_4c3275917579row59_col1\" class=\"data row59 col1\" >7.75</td> \n",
       "    </tr>    <tr> \n",
       "        <th id=\"T_23c246e8_bc11_11e9_afb5_4c3275917579level0_row60\" class=\"row_heading level0 row60\" >roam_og_mou_9</th> \n",
       "        <td id=\"T_23c246e8_bc11_11e9_afb5_4c3275917579row60_col0\" class=\"data row60 col0\" >7745</td> \n",
       "        <td id=\"T_23c246e8_bc11_11e9_afb5_4c3275917579row60_col1\" class=\"data row60 col1\" >7.75</td> \n",
       "    </tr>    <tr> \n",
       "        <th id=\"T_23c246e8_bc11_11e9_afb5_4c3275917579level0_row61\" class=\"row_heading level0 row61\" >loc_og_t2m_mou_9</th> \n",
       "        <td id=\"T_23c246e8_bc11_11e9_afb5_4c3275917579row61_col0\" class=\"data row61 col0\" >7745</td> \n",
       "        <td id=\"T_23c246e8_bc11_11e9_afb5_4c3275917579row61_col1\" class=\"data row61 col1\" >7.75</td> \n",
       "    </tr>    <tr> \n",
       "        <th id=\"T_23c246e8_bc11_11e9_afb5_4c3275917579level0_row62\" class=\"row_heading level0 row62\" >loc_og_t2f_mou_9</th> \n",
       "        <td id=\"T_23c246e8_bc11_11e9_afb5_4c3275917579row62_col0\" class=\"data row62 col0\" >7745</td> \n",
       "        <td id=\"T_23c246e8_bc11_11e9_afb5_4c3275917579row62_col1\" class=\"data row62 col1\" >7.75</td> \n",
       "    </tr>    <tr> \n",
       "        <th id=\"T_23c246e8_bc11_11e9_afb5_4c3275917579level0_row63\" class=\"row_heading level0 row63\" >roam_ic_mou_9</th> \n",
       "        <td id=\"T_23c246e8_bc11_11e9_afb5_4c3275917579row63_col0\" class=\"data row63 col0\" >7745</td> \n",
       "        <td id=\"T_23c246e8_bc11_11e9_afb5_4c3275917579row63_col1\" class=\"data row63 col1\" >7.75</td> \n",
       "    </tr>    <tr> \n",
       "        <th id=\"T_23c246e8_bc11_11e9_afb5_4c3275917579level0_row64\" class=\"row_heading level0 row64\" >offnet_mou_9</th> \n",
       "        <td id=\"T_23c246e8_bc11_11e9_afb5_4c3275917579row64_col0\" class=\"data row64 col0\" >7745</td> \n",
       "        <td id=\"T_23c246e8_bc11_11e9_afb5_4c3275917579row64_col1\" class=\"data row64 col1\" >7.75</td> \n",
       "    </tr>    <tr> \n",
       "        <th id=\"T_23c246e8_bc11_11e9_afb5_4c3275917579level0_row65\" class=\"row_heading level0 row65\" >loc_og_t2c_mou_9</th> \n",
       "        <td id=\"T_23c246e8_bc11_11e9_afb5_4c3275917579row65_col0\" class=\"data row65 col0\" >7745</td> \n",
       "        <td id=\"T_23c246e8_bc11_11e9_afb5_4c3275917579row65_col1\" class=\"data row65 col1\" >7.75</td> \n",
       "    </tr>    <tr> \n",
       "        <th id=\"T_23c246e8_bc11_11e9_afb5_4c3275917579level0_row66\" class=\"row_heading level0 row66\" >loc_og_t2t_mou_9</th> \n",
       "        <td id=\"T_23c246e8_bc11_11e9_afb5_4c3275917579row66_col0\" class=\"data row66 col0\" >7745</td> \n",
       "        <td id=\"T_23c246e8_bc11_11e9_afb5_4c3275917579row66_col1\" class=\"data row66 col1\" >7.75</td> \n",
       "    </tr>    <tr> \n",
       "        <th id=\"T_23c246e8_bc11_11e9_afb5_4c3275917579level0_row67\" class=\"row_heading level0 row67\" >std_og_t2m_mou_9</th> \n",
       "        <td id=\"T_23c246e8_bc11_11e9_afb5_4c3275917579row67_col0\" class=\"data row67 col0\" >7745</td> \n",
       "        <td id=\"T_23c246e8_bc11_11e9_afb5_4c3275917579row67_col1\" class=\"data row67 col1\" >7.75</td> \n",
       "    </tr>    <tr> \n",
       "        <th id=\"T_23c246e8_bc11_11e9_afb5_4c3275917579level0_row68\" class=\"row_heading level0 row68\" >onnet_mou_9</th> \n",
       "        <td id=\"T_23c246e8_bc11_11e9_afb5_4c3275917579row68_col0\" class=\"data row68 col0\" >7745</td> \n",
       "        <td id=\"T_23c246e8_bc11_11e9_afb5_4c3275917579row68_col1\" class=\"data row68 col1\" >7.75</td> \n",
       "    </tr>    <tr> \n",
       "        <th id=\"T_23c246e8_bc11_11e9_afb5_4c3275917579level0_row69\" class=\"row_heading level0 row69\" >onnet_mou_8</th> \n",
       "        <td id=\"T_23c246e8_bc11_11e9_afb5_4c3275917579row69_col0\" class=\"data row69 col0\" >5378</td> \n",
       "        <td id=\"T_23c246e8_bc11_11e9_afb5_4c3275917579row69_col1\" class=\"data row69 col1\" >5.38</td> \n",
       "    </tr>    <tr> \n",
       "        <th id=\"T_23c246e8_bc11_11e9_afb5_4c3275917579level0_row70\" class=\"row_heading level0 row70\" >std_ic_t2t_mou_8</th> \n",
       "        <td id=\"T_23c246e8_bc11_11e9_afb5_4c3275917579row70_col0\" class=\"data row70 col0\" >5378</td> \n",
       "        <td id=\"T_23c246e8_bc11_11e9_afb5_4c3275917579row70_col1\" class=\"data row70 col1\" >5.38</td> \n",
       "    </tr>    <tr> \n",
       "        <th id=\"T_23c246e8_bc11_11e9_afb5_4c3275917579level0_row71\" class=\"row_heading level0 row71\" >std_ic_mou_8</th> \n",
       "        <td id=\"T_23c246e8_bc11_11e9_afb5_4c3275917579row71_col0\" class=\"data row71 col0\" >5378</td> \n",
       "        <td id=\"T_23c246e8_bc11_11e9_afb5_4c3275917579row71_col1\" class=\"data row71 col1\" >5.38</td> \n",
       "    </tr>    <tr> \n",
       "        <th id=\"T_23c246e8_bc11_11e9_afb5_4c3275917579level0_row72\" class=\"row_heading level0 row72\" >loc_ic_t2t_mou_8</th> \n",
       "        <td id=\"T_23c246e8_bc11_11e9_afb5_4c3275917579row72_col0\" class=\"data row72 col0\" >5378</td> \n",
       "        <td id=\"T_23c246e8_bc11_11e9_afb5_4c3275917579row72_col1\" class=\"data row72 col1\" >5.38</td> \n",
       "    </tr>    <tr> \n",
       "        <th id=\"T_23c246e8_bc11_11e9_afb5_4c3275917579level0_row73\" class=\"row_heading level0 row73\" >roam_og_mou_8</th> \n",
       "        <td id=\"T_23c246e8_bc11_11e9_afb5_4c3275917579row73_col0\" class=\"data row73 col0\" >5378</td> \n",
       "        <td id=\"T_23c246e8_bc11_11e9_afb5_4c3275917579row73_col1\" class=\"data row73 col1\" >5.38</td> \n",
       "    </tr>    <tr> \n",
       "        <th id=\"T_23c246e8_bc11_11e9_afb5_4c3275917579level0_row74\" class=\"row_heading level0 row74\" >std_ic_t2m_mou_8</th> \n",
       "        <td id=\"T_23c246e8_bc11_11e9_afb5_4c3275917579row74_col0\" class=\"data row74 col0\" >5378</td> \n",
       "        <td id=\"T_23c246e8_bc11_11e9_afb5_4c3275917579row74_col1\" class=\"data row74 col1\" >5.38</td> \n",
       "    </tr>    <tr> \n",
       "        <th id=\"T_23c246e8_bc11_11e9_afb5_4c3275917579level0_row75\" class=\"row_heading level0 row75\" >loc_ic_mou_8</th> \n",
       "        <td id=\"T_23c246e8_bc11_11e9_afb5_4c3275917579row75_col0\" class=\"data row75 col0\" >5378</td> \n",
       "        <td id=\"T_23c246e8_bc11_11e9_afb5_4c3275917579row75_col1\" class=\"data row75 col1\" >5.38</td> \n",
       "    </tr>    <tr> \n",
       "        <th id=\"T_23c246e8_bc11_11e9_afb5_4c3275917579level0_row76\" class=\"row_heading level0 row76\" >std_ic_t2f_mou_8</th> \n",
       "        <td id=\"T_23c246e8_bc11_11e9_afb5_4c3275917579row76_col0\" class=\"data row76 col0\" >5378</td> \n",
       "        <td id=\"T_23c246e8_bc11_11e9_afb5_4c3275917579row76_col1\" class=\"data row76 col1\" >5.38</td> \n",
       "    </tr>    <tr> \n",
       "        <th id=\"T_23c246e8_bc11_11e9_afb5_4c3275917579level0_row77\" class=\"row_heading level0 row77\" >roam_ic_mou_8</th> \n",
       "        <td id=\"T_23c246e8_bc11_11e9_afb5_4c3275917579row77_col0\" class=\"data row77 col0\" >5378</td> \n",
       "        <td id=\"T_23c246e8_bc11_11e9_afb5_4c3275917579row77_col1\" class=\"data row77 col1\" >5.38</td> \n",
       "    </tr>    <tr> \n",
       "        <th id=\"T_23c246e8_bc11_11e9_afb5_4c3275917579level0_row78\" class=\"row_heading level0 row78\" >std_ic_t2o_mou_8</th> \n",
       "        <td id=\"T_23c246e8_bc11_11e9_afb5_4c3275917579row78_col0\" class=\"data row78 col0\" >5378</td> \n",
       "        <td id=\"T_23c246e8_bc11_11e9_afb5_4c3275917579row78_col1\" class=\"data row78 col1\" >5.38</td> \n",
       "    </tr>    <tr> \n",
       "        <th id=\"T_23c246e8_bc11_11e9_afb5_4c3275917579level0_row79\" class=\"row_heading level0 row79\" >loc_og_t2t_mou_8</th> \n",
       "        <td id=\"T_23c246e8_bc11_11e9_afb5_4c3275917579row79_col0\" class=\"data row79 col0\" >5378</td> \n",
       "        <td id=\"T_23c246e8_bc11_11e9_afb5_4c3275917579row79_col1\" class=\"data row79 col1\" >5.38</td> \n",
       "    </tr>    <tr> \n",
       "        <th id=\"T_23c246e8_bc11_11e9_afb5_4c3275917579level0_row80\" class=\"row_heading level0 row80\" >loc_ic_t2f_mou_8</th> \n",
       "        <td id=\"T_23c246e8_bc11_11e9_afb5_4c3275917579row80_col0\" class=\"data row80 col0\" >5378</td> \n",
       "        <td id=\"T_23c246e8_bc11_11e9_afb5_4c3275917579row80_col1\" class=\"data row80 col1\" >5.38</td> \n",
       "    </tr>    <tr> \n",
       "        <th id=\"T_23c246e8_bc11_11e9_afb5_4c3275917579level0_row81\" class=\"row_heading level0 row81\" >offnet_mou_8</th> \n",
       "        <td id=\"T_23c246e8_bc11_11e9_afb5_4c3275917579row81_col0\" class=\"data row81 col0\" >5378</td> \n",
       "        <td id=\"T_23c246e8_bc11_11e9_afb5_4c3275917579row81_col1\" class=\"data row81 col1\" >5.38</td> \n",
       "    </tr>    <tr> \n",
       "        <th id=\"T_23c246e8_bc11_11e9_afb5_4c3275917579level0_row82\" class=\"row_heading level0 row82\" >loc_ic_t2m_mou_8</th> \n",
       "        <td id=\"T_23c246e8_bc11_11e9_afb5_4c3275917579row82_col0\" class=\"data row82 col0\" >5378</td> \n",
       "        <td id=\"T_23c246e8_bc11_11e9_afb5_4c3275917579row82_col1\" class=\"data row82 col1\" >5.38</td> \n",
       "    </tr>    <tr> \n",
       "        <th id=\"T_23c246e8_bc11_11e9_afb5_4c3275917579level0_row83\" class=\"row_heading level0 row83\" >loc_og_t2m_mou_8</th> \n",
       "        <td id=\"T_23c246e8_bc11_11e9_afb5_4c3275917579row83_col0\" class=\"data row83 col0\" >5378</td> \n",
       "        <td id=\"T_23c246e8_bc11_11e9_afb5_4c3275917579row83_col1\" class=\"data row83 col1\" >5.38</td> \n",
       "    </tr>    <tr> \n",
       "        <th id=\"T_23c246e8_bc11_11e9_afb5_4c3275917579level0_row84\" class=\"row_heading level0 row84\" >isd_og_mou_8</th> \n",
       "        <td id=\"T_23c246e8_bc11_11e9_afb5_4c3275917579row84_col0\" class=\"data row84 col0\" >5378</td> \n",
       "        <td id=\"T_23c246e8_bc11_11e9_afb5_4c3275917579row84_col1\" class=\"data row84 col1\" >5.38</td> \n",
       "    </tr>    <tr> \n",
       "        <th id=\"T_23c246e8_bc11_11e9_afb5_4c3275917579level0_row85\" class=\"row_heading level0 row85\" >ic_others_8</th> \n",
       "        <td id=\"T_23c246e8_bc11_11e9_afb5_4c3275917579row85_col0\" class=\"data row85 col0\" >5378</td> \n",
       "        <td id=\"T_23c246e8_bc11_11e9_afb5_4c3275917579row85_col1\" class=\"data row85 col1\" >5.38</td> \n",
       "    </tr>    <tr> \n",
       "        <th id=\"T_23c246e8_bc11_11e9_afb5_4c3275917579level0_row86\" class=\"row_heading level0 row86\" >og_others_8</th> \n",
       "        <td id=\"T_23c246e8_bc11_11e9_afb5_4c3275917579row86_col0\" class=\"data row86 col0\" >5378</td> \n",
       "        <td id=\"T_23c246e8_bc11_11e9_afb5_4c3275917579row86_col1\" class=\"data row86 col1\" >5.38</td> \n",
       "    </tr>    <tr> \n",
       "        <th id=\"T_23c246e8_bc11_11e9_afb5_4c3275917579level0_row87\" class=\"row_heading level0 row87\" >spl_ic_mou_8</th> \n",
       "        <td id=\"T_23c246e8_bc11_11e9_afb5_4c3275917579row87_col0\" class=\"data row87 col0\" >5378</td> \n",
       "        <td id=\"T_23c246e8_bc11_11e9_afb5_4c3275917579row87_col1\" class=\"data row87 col1\" >5.38</td> \n",
       "    </tr>    <tr> \n",
       "        <th id=\"T_23c246e8_bc11_11e9_afb5_4c3275917579level0_row88\" class=\"row_heading level0 row88\" >loc_og_t2f_mou_8</th> \n",
       "        <td id=\"T_23c246e8_bc11_11e9_afb5_4c3275917579row88_col0\" class=\"data row88 col0\" >5378</td> \n",
       "        <td id=\"T_23c246e8_bc11_11e9_afb5_4c3275917579row88_col1\" class=\"data row88 col1\" >5.38</td> \n",
       "    </tr>    <tr> \n",
       "        <th id=\"T_23c246e8_bc11_11e9_afb5_4c3275917579level0_row89\" class=\"row_heading level0 row89\" >std_og_t2m_mou_8</th> \n",
       "        <td id=\"T_23c246e8_bc11_11e9_afb5_4c3275917579row89_col0\" class=\"data row89 col0\" >5378</td> \n",
       "        <td id=\"T_23c246e8_bc11_11e9_afb5_4c3275917579row89_col1\" class=\"data row89 col1\" >5.38</td> \n",
       "    </tr>    <tr> \n",
       "        <th id=\"T_23c246e8_bc11_11e9_afb5_4c3275917579level0_row90\" class=\"row_heading level0 row90\" >spl_og_mou_8</th> \n",
       "        <td id=\"T_23c246e8_bc11_11e9_afb5_4c3275917579row90_col0\" class=\"data row90 col0\" >5378</td> \n",
       "        <td id=\"T_23c246e8_bc11_11e9_afb5_4c3275917579row90_col1\" class=\"data row90 col1\" >5.38</td> \n",
       "    </tr>    <tr> \n",
       "        <th id=\"T_23c246e8_bc11_11e9_afb5_4c3275917579level0_row91\" class=\"row_heading level0 row91\" >std_og_t2c_mou_8</th> \n",
       "        <td id=\"T_23c246e8_bc11_11e9_afb5_4c3275917579row91_col0\" class=\"data row91 col0\" >5378</td> \n",
       "        <td id=\"T_23c246e8_bc11_11e9_afb5_4c3275917579row91_col1\" class=\"data row91 col1\" >5.38</td> \n",
       "    </tr>    <tr> \n",
       "        <th id=\"T_23c246e8_bc11_11e9_afb5_4c3275917579level0_row92\" class=\"row_heading level0 row92\" >isd_ic_mou_8</th> \n",
       "        <td id=\"T_23c246e8_bc11_11e9_afb5_4c3275917579row92_col0\" class=\"data row92 col0\" >5378</td> \n",
       "        <td id=\"T_23c246e8_bc11_11e9_afb5_4c3275917579row92_col1\" class=\"data row92 col1\" >5.38</td> \n",
       "    </tr>    <tr> \n",
       "        <th id=\"T_23c246e8_bc11_11e9_afb5_4c3275917579level0_row93\" class=\"row_heading level0 row93\" >loc_og_t2c_mou_8</th> \n",
       "        <td id=\"T_23c246e8_bc11_11e9_afb5_4c3275917579row93_col0\" class=\"data row93 col0\" >5378</td> \n",
       "        <td id=\"T_23c246e8_bc11_11e9_afb5_4c3275917579row93_col1\" class=\"data row93 col1\" >5.38</td> \n",
       "    </tr>    <tr> \n",
       "        <th id=\"T_23c246e8_bc11_11e9_afb5_4c3275917579level0_row94\" class=\"row_heading level0 row94\" >std_og_t2f_mou_8</th> \n",
       "        <td id=\"T_23c246e8_bc11_11e9_afb5_4c3275917579row94_col0\" class=\"data row94 col0\" >5378</td> \n",
       "        <td id=\"T_23c246e8_bc11_11e9_afb5_4c3275917579row94_col1\" class=\"data row94 col1\" >5.38</td> \n",
       "    </tr>    <tr> \n",
       "        <th id=\"T_23c246e8_bc11_11e9_afb5_4c3275917579level0_row95\" class=\"row_heading level0 row95\" >std_og_t2t_mou_8</th> \n",
       "        <td id=\"T_23c246e8_bc11_11e9_afb5_4c3275917579row95_col0\" class=\"data row95 col0\" >5378</td> \n",
       "        <td id=\"T_23c246e8_bc11_11e9_afb5_4c3275917579row95_col1\" class=\"data row95 col1\" >5.38</td> \n",
       "    </tr>    <tr> \n",
       "        <th id=\"T_23c246e8_bc11_11e9_afb5_4c3275917579level0_row96\" class=\"row_heading level0 row96\" >loc_og_mou_8</th> \n",
       "        <td id=\"T_23c246e8_bc11_11e9_afb5_4c3275917579row96_col0\" class=\"data row96 col0\" >5378</td> \n",
       "        <td id=\"T_23c246e8_bc11_11e9_afb5_4c3275917579row96_col1\" class=\"data row96 col1\" >5.38</td> \n",
       "    </tr>    <tr> \n",
       "        <th id=\"T_23c246e8_bc11_11e9_afb5_4c3275917579level0_row97\" class=\"row_heading level0 row97\" >std_og_mou_8</th> \n",
       "        <td id=\"T_23c246e8_bc11_11e9_afb5_4c3275917579row97_col0\" class=\"data row97 col0\" >5378</td> \n",
       "        <td id=\"T_23c246e8_bc11_11e9_afb5_4c3275917579row97_col1\" class=\"data row97 col1\" >5.38</td> \n",
       "    </tr>    <tr> \n",
       "        <th id=\"T_23c246e8_bc11_11e9_afb5_4c3275917579level0_row98\" class=\"row_heading level0 row98\" >date_of_last_rech_9</th> \n",
       "        <td id=\"T_23c246e8_bc11_11e9_afb5_4c3275917579row98_col0\" class=\"data row98 col0\" >4760</td> \n",
       "        <td id=\"T_23c246e8_bc11_11e9_afb5_4c3275917579row98_col1\" class=\"data row98 col1\" >4.76</td> \n",
       "    </tr>    <tr> \n",
       "        <th id=\"T_23c246e8_bc11_11e9_afb5_4c3275917579level0_row99\" class=\"row_heading level0 row99\" >std_ic_t2f_mou_6</th> \n",
       "        <td id=\"T_23c246e8_bc11_11e9_afb5_4c3275917579row99_col0\" class=\"data row99 col0\" >3937</td> \n",
       "        <td id=\"T_23c246e8_bc11_11e9_afb5_4c3275917579row99_col1\" class=\"data row99 col1\" >3.94</td> \n",
       "    </tr>    <tr> \n",
       "        <th id=\"T_23c246e8_bc11_11e9_afb5_4c3275917579level0_row100\" class=\"row_heading level0 row100\" >ic_others_6</th> \n",
       "        <td id=\"T_23c246e8_bc11_11e9_afb5_4c3275917579row100_col0\" class=\"data row100 col0\" >3937</td> \n",
       "        <td id=\"T_23c246e8_bc11_11e9_afb5_4c3275917579row100_col1\" class=\"data row100 col1\" >3.94</td> \n",
       "    </tr>    <tr> \n",
       "        <th id=\"T_23c246e8_bc11_11e9_afb5_4c3275917579level0_row101\" class=\"row_heading level0 row101\" >isd_ic_mou_6</th> \n",
       "        <td id=\"T_23c246e8_bc11_11e9_afb5_4c3275917579row101_col0\" class=\"data row101 col0\" >3937</td> \n",
       "        <td id=\"T_23c246e8_bc11_11e9_afb5_4c3275917579row101_col1\" class=\"data row101 col1\" >3.94</td> \n",
       "    </tr>    <tr> \n",
       "        <th id=\"T_23c246e8_bc11_11e9_afb5_4c3275917579level0_row102\" class=\"row_heading level0 row102\" >std_ic_t2m_mou_6</th> \n",
       "        <td id=\"T_23c246e8_bc11_11e9_afb5_4c3275917579row102_col0\" class=\"data row102 col0\" >3937</td> \n",
       "        <td id=\"T_23c246e8_bc11_11e9_afb5_4c3275917579row102_col1\" class=\"data row102 col1\" >3.94</td> \n",
       "    </tr>    <tr> \n",
       "        <th id=\"T_23c246e8_bc11_11e9_afb5_4c3275917579level0_row103\" class=\"row_heading level0 row103\" >std_ic_mou_6</th> \n",
       "        <td id=\"T_23c246e8_bc11_11e9_afb5_4c3275917579row103_col0\" class=\"data row103 col0\" >3937</td> \n",
       "        <td id=\"T_23c246e8_bc11_11e9_afb5_4c3275917579row103_col1\" class=\"data row103 col1\" >3.94</td> \n",
       "    </tr>    <tr> \n",
       "        <th id=\"T_23c246e8_bc11_11e9_afb5_4c3275917579level0_row104\" class=\"row_heading level0 row104\" >spl_ic_mou_6</th> \n",
       "        <td id=\"T_23c246e8_bc11_11e9_afb5_4c3275917579row104_col0\" class=\"data row104 col0\" >3937</td> \n",
       "        <td id=\"T_23c246e8_bc11_11e9_afb5_4c3275917579row104_col1\" class=\"data row104 col1\" >3.94</td> \n",
       "    </tr>    <tr> \n",
       "        <th id=\"T_23c246e8_bc11_11e9_afb5_4c3275917579level0_row105\" class=\"row_heading level0 row105\" >std_ic_t2o_mou_6</th> \n",
       "        <td id=\"T_23c246e8_bc11_11e9_afb5_4c3275917579row105_col0\" class=\"data row105 col0\" >3937</td> \n",
       "        <td id=\"T_23c246e8_bc11_11e9_afb5_4c3275917579row105_col1\" class=\"data row105 col1\" >3.94</td> \n",
       "    </tr>    <tr> \n",
       "        <th id=\"T_23c246e8_bc11_11e9_afb5_4c3275917579level0_row106\" class=\"row_heading level0 row106\" >loc_ic_t2f_mou_6</th> \n",
       "        <td id=\"T_23c246e8_bc11_11e9_afb5_4c3275917579row106_col0\" class=\"data row106 col0\" >3937</td> \n",
       "        <td id=\"T_23c246e8_bc11_11e9_afb5_4c3275917579row106_col1\" class=\"data row106 col1\" >3.94</td> \n",
       "    </tr>    <tr> \n",
       "        <th id=\"T_23c246e8_bc11_11e9_afb5_4c3275917579level0_row107\" class=\"row_heading level0 row107\" >loc_ic_t2t_mou_6</th> \n",
       "        <td id=\"T_23c246e8_bc11_11e9_afb5_4c3275917579row107_col0\" class=\"data row107 col0\" >3937</td> \n",
       "        <td id=\"T_23c246e8_bc11_11e9_afb5_4c3275917579row107_col1\" class=\"data row107 col1\" >3.94</td> \n",
       "    </tr>    <tr> \n",
       "        <th id=\"T_23c246e8_bc11_11e9_afb5_4c3275917579level0_row108\" class=\"row_heading level0 row108\" >std_og_t2c_mou_6</th> \n",
       "        <td id=\"T_23c246e8_bc11_11e9_afb5_4c3275917579row108_col0\" class=\"data row108 col0\" >3937</td> \n",
       "        <td id=\"T_23c246e8_bc11_11e9_afb5_4c3275917579row108_col1\" class=\"data row108 col1\" >3.94</td> \n",
       "    </tr>    <tr> \n",
       "        <th id=\"T_23c246e8_bc11_11e9_afb5_4c3275917579level0_row109\" class=\"row_heading level0 row109\" >std_og_t2f_mou_6</th> \n",
       "        <td id=\"T_23c246e8_bc11_11e9_afb5_4c3275917579row109_col0\" class=\"data row109 col0\" >3937</td> \n",
       "        <td id=\"T_23c246e8_bc11_11e9_afb5_4c3275917579row109_col1\" class=\"data row109 col1\" >3.94</td> \n",
       "    </tr>    <tr> \n",
       "        <th id=\"T_23c246e8_bc11_11e9_afb5_4c3275917579level0_row110\" class=\"row_heading level0 row110\" >std_og_mou_6</th> \n",
       "        <td id=\"T_23c246e8_bc11_11e9_afb5_4c3275917579row110_col0\" class=\"data row110 col0\" >3937</td> \n",
       "        <td id=\"T_23c246e8_bc11_11e9_afb5_4c3275917579row110_col1\" class=\"data row110 col1\" >3.94</td> \n",
       "    </tr>    <tr> \n",
       "        <th id=\"T_23c246e8_bc11_11e9_afb5_4c3275917579level0_row111\" class=\"row_heading level0 row111\" >std_og_t2m_mou_6</th> \n",
       "        <td id=\"T_23c246e8_bc11_11e9_afb5_4c3275917579row111_col0\" class=\"data row111 col0\" >3937</td> \n",
       "        <td id=\"T_23c246e8_bc11_11e9_afb5_4c3275917579row111_col1\" class=\"data row111 col1\" >3.94</td> \n",
       "    </tr>    <tr> \n",
       "        <th id=\"T_23c246e8_bc11_11e9_afb5_4c3275917579level0_row112\" class=\"row_heading level0 row112\" >isd_og_mou_6</th> \n",
       "        <td id=\"T_23c246e8_bc11_11e9_afb5_4c3275917579row112_col0\" class=\"data row112 col0\" >3937</td> \n",
       "        <td id=\"T_23c246e8_bc11_11e9_afb5_4c3275917579row112_col1\" class=\"data row112 col1\" >3.94</td> \n",
       "    </tr>    <tr> \n",
       "        <th id=\"T_23c246e8_bc11_11e9_afb5_4c3275917579level0_row113\" class=\"row_heading level0 row113\" >std_og_t2t_mou_6</th> \n",
       "        <td id=\"T_23c246e8_bc11_11e9_afb5_4c3275917579row113_col0\" class=\"data row113 col0\" >3937</td> \n",
       "        <td id=\"T_23c246e8_bc11_11e9_afb5_4c3275917579row113_col1\" class=\"data row113 col1\" >3.94</td> \n",
       "    </tr>    <tr> \n",
       "        <th id=\"T_23c246e8_bc11_11e9_afb5_4c3275917579level0_row114\" class=\"row_heading level0 row114\" >spl_og_mou_6</th> \n",
       "        <td id=\"T_23c246e8_bc11_11e9_afb5_4c3275917579row114_col0\" class=\"data row114 col0\" >3937</td> \n",
       "        <td id=\"T_23c246e8_bc11_11e9_afb5_4c3275917579row114_col1\" class=\"data row114 col1\" >3.94</td> \n",
       "    </tr>    <tr> \n",
       "        <th id=\"T_23c246e8_bc11_11e9_afb5_4c3275917579level0_row115\" class=\"row_heading level0 row115\" >loc_og_mou_6</th> \n",
       "        <td id=\"T_23c246e8_bc11_11e9_afb5_4c3275917579row115_col0\" class=\"data row115 col0\" >3937</td> \n",
       "        <td id=\"T_23c246e8_bc11_11e9_afb5_4c3275917579row115_col1\" class=\"data row115 col1\" >3.94</td> \n",
       "    </tr>    <tr> \n",
       "        <th id=\"T_23c246e8_bc11_11e9_afb5_4c3275917579level0_row116\" class=\"row_heading level0 row116\" >og_others_6</th> \n",
       "        <td id=\"T_23c246e8_bc11_11e9_afb5_4c3275917579row116_col0\" class=\"data row116 col0\" >3937</td> \n",
       "        <td id=\"T_23c246e8_bc11_11e9_afb5_4c3275917579row116_col1\" class=\"data row116 col1\" >3.94</td> \n",
       "    </tr>    <tr> \n",
       "        <th id=\"T_23c246e8_bc11_11e9_afb5_4c3275917579level0_row117\" class=\"row_heading level0 row117\" >loc_og_t2c_mou_6</th> \n",
       "        <td id=\"T_23c246e8_bc11_11e9_afb5_4c3275917579row117_col0\" class=\"data row117 col0\" >3937</td> \n",
       "        <td id=\"T_23c246e8_bc11_11e9_afb5_4c3275917579row117_col1\" class=\"data row117 col1\" >3.94</td> \n",
       "    </tr>    <tr> \n",
       "        <th id=\"T_23c246e8_bc11_11e9_afb5_4c3275917579level0_row118\" class=\"row_heading level0 row118\" >loc_og_t2m_mou_6</th> \n",
       "        <td id=\"T_23c246e8_bc11_11e9_afb5_4c3275917579row118_col0\" class=\"data row118 col0\" >3937</td> \n",
       "        <td id=\"T_23c246e8_bc11_11e9_afb5_4c3275917579row118_col1\" class=\"data row118 col1\" >3.94</td> \n",
       "    </tr>    <tr> \n",
       "        <th id=\"T_23c246e8_bc11_11e9_afb5_4c3275917579level0_row119\" class=\"row_heading level0 row119\" >loc_og_t2f_mou_6</th> \n",
       "        <td id=\"T_23c246e8_bc11_11e9_afb5_4c3275917579row119_col0\" class=\"data row119 col0\" >3937</td> \n",
       "        <td id=\"T_23c246e8_bc11_11e9_afb5_4c3275917579row119_col1\" class=\"data row119 col1\" >3.94</td> \n",
       "    </tr>    <tr> \n",
       "        <th id=\"T_23c246e8_bc11_11e9_afb5_4c3275917579level0_row120\" class=\"row_heading level0 row120\" >loc_og_t2t_mou_6</th> \n",
       "        <td id=\"T_23c246e8_bc11_11e9_afb5_4c3275917579row120_col0\" class=\"data row120 col0\" >3937</td> \n",
       "        <td id=\"T_23c246e8_bc11_11e9_afb5_4c3275917579row120_col1\" class=\"data row120 col1\" >3.94</td> \n",
       "    </tr>    <tr> \n",
       "        <th id=\"T_23c246e8_bc11_11e9_afb5_4c3275917579level0_row121\" class=\"row_heading level0 row121\" >roam_og_mou_6</th> \n",
       "        <td id=\"T_23c246e8_bc11_11e9_afb5_4c3275917579row121_col0\" class=\"data row121 col0\" >3937</td> \n",
       "        <td id=\"T_23c246e8_bc11_11e9_afb5_4c3275917579row121_col1\" class=\"data row121 col1\" >3.94</td> \n",
       "    </tr>    <tr> \n",
       "        <th id=\"T_23c246e8_bc11_11e9_afb5_4c3275917579level0_row122\" class=\"row_heading level0 row122\" >std_ic_t2t_mou_6</th> \n",
       "        <td id=\"T_23c246e8_bc11_11e9_afb5_4c3275917579row122_col0\" class=\"data row122 col0\" >3937</td> \n",
       "        <td id=\"T_23c246e8_bc11_11e9_afb5_4c3275917579row122_col1\" class=\"data row122 col1\" >3.94</td> \n",
       "    </tr>    <tr> \n",
       "        <th id=\"T_23c246e8_bc11_11e9_afb5_4c3275917579level0_row123\" class=\"row_heading level0 row123\" >onnet_mou_6</th> \n",
       "        <td id=\"T_23c246e8_bc11_11e9_afb5_4c3275917579row123_col0\" class=\"data row123 col0\" >3937</td> \n",
       "        <td id=\"T_23c246e8_bc11_11e9_afb5_4c3275917579row123_col1\" class=\"data row123 col1\" >3.94</td> \n",
       "    </tr>    <tr> \n",
       "        <th id=\"T_23c246e8_bc11_11e9_afb5_4c3275917579level0_row124\" class=\"row_heading level0 row124\" >loc_ic_mou_6</th> \n",
       "        <td id=\"T_23c246e8_bc11_11e9_afb5_4c3275917579row124_col0\" class=\"data row124 col0\" >3937</td> \n",
       "        <td id=\"T_23c246e8_bc11_11e9_afb5_4c3275917579row124_col1\" class=\"data row124 col1\" >3.94</td> \n",
       "    </tr>    <tr> \n",
       "        <th id=\"T_23c246e8_bc11_11e9_afb5_4c3275917579level0_row125\" class=\"row_heading level0 row125\" >offnet_mou_6</th> \n",
       "        <td id=\"T_23c246e8_bc11_11e9_afb5_4c3275917579row125_col0\" class=\"data row125 col0\" >3937</td> \n",
       "        <td id=\"T_23c246e8_bc11_11e9_afb5_4c3275917579row125_col1\" class=\"data row125 col1\" >3.94</td> \n",
       "    </tr>    <tr> \n",
       "        <th id=\"T_23c246e8_bc11_11e9_afb5_4c3275917579level0_row126\" class=\"row_heading level0 row126\" >roam_ic_mou_6</th> \n",
       "        <td id=\"T_23c246e8_bc11_11e9_afb5_4c3275917579row126_col0\" class=\"data row126 col0\" >3937</td> \n",
       "        <td id=\"T_23c246e8_bc11_11e9_afb5_4c3275917579row126_col1\" class=\"data row126 col1\" >3.94</td> \n",
       "    </tr>    <tr> \n",
       "        <th id=\"T_23c246e8_bc11_11e9_afb5_4c3275917579level0_row127\" class=\"row_heading level0 row127\" >loc_ic_t2m_mou_6</th> \n",
       "        <td id=\"T_23c246e8_bc11_11e9_afb5_4c3275917579row127_col0\" class=\"data row127 col0\" >3937</td> \n",
       "        <td id=\"T_23c246e8_bc11_11e9_afb5_4c3275917579row127_col1\" class=\"data row127 col1\" >3.94</td> \n",
       "    </tr>    <tr> \n",
       "        <th id=\"T_23c246e8_bc11_11e9_afb5_4c3275917579level0_row128\" class=\"row_heading level0 row128\" >loc_og_t2c_mou_7</th> \n",
       "        <td id=\"T_23c246e8_bc11_11e9_afb5_4c3275917579row128_col0\" class=\"data row128 col0\" >3859</td> \n",
       "        <td id=\"T_23c246e8_bc11_11e9_afb5_4c3275917579row128_col1\" class=\"data row128 col1\" >3.86</td> \n",
       "    </tr>    <tr> \n",
       "        <th id=\"T_23c246e8_bc11_11e9_afb5_4c3275917579level0_row129\" class=\"row_heading level0 row129\" >roam_ic_mou_7</th> \n",
       "        <td id=\"T_23c246e8_bc11_11e9_afb5_4c3275917579row129_col0\" class=\"data row129 col0\" >3859</td> \n",
       "        <td id=\"T_23c246e8_bc11_11e9_afb5_4c3275917579row129_col1\" class=\"data row129 col1\" >3.86</td> \n",
       "    </tr>    <tr> \n",
       "        <th id=\"T_23c246e8_bc11_11e9_afb5_4c3275917579level0_row130\" class=\"row_heading level0 row130\" >loc_og_mou_7</th> \n",
       "        <td id=\"T_23c246e8_bc11_11e9_afb5_4c3275917579row130_col0\" class=\"data row130 col0\" >3859</td> \n",
       "        <td id=\"T_23c246e8_bc11_11e9_afb5_4c3275917579row130_col1\" class=\"data row130 col1\" >3.86</td> \n",
       "    </tr>    <tr> \n",
       "        <th id=\"T_23c246e8_bc11_11e9_afb5_4c3275917579level0_row131\" class=\"row_heading level0 row131\" >loc_og_t2t_mou_7</th> \n",
       "        <td id=\"T_23c246e8_bc11_11e9_afb5_4c3275917579row131_col0\" class=\"data row131 col0\" >3859</td> \n",
       "        <td id=\"T_23c246e8_bc11_11e9_afb5_4c3275917579row131_col1\" class=\"data row131 col1\" >3.86</td> \n",
       "    </tr>    <tr> \n",
       "        <th id=\"T_23c246e8_bc11_11e9_afb5_4c3275917579level0_row132\" class=\"row_heading level0 row132\" >offnet_mou_7</th> \n",
       "        <td id=\"T_23c246e8_bc11_11e9_afb5_4c3275917579row132_col0\" class=\"data row132 col0\" >3859</td> \n",
       "        <td id=\"T_23c246e8_bc11_11e9_afb5_4c3275917579row132_col1\" class=\"data row132 col1\" >3.86</td> \n",
       "    </tr>    <tr> \n",
       "        <th id=\"T_23c246e8_bc11_11e9_afb5_4c3275917579level0_row133\" class=\"row_heading level0 row133\" >loc_og_t2f_mou_7</th> \n",
       "        <td id=\"T_23c246e8_bc11_11e9_afb5_4c3275917579row133_col0\" class=\"data row133 col0\" >3859</td> \n",
       "        <td id=\"T_23c246e8_bc11_11e9_afb5_4c3275917579row133_col1\" class=\"data row133 col1\" >3.86</td> \n",
       "    </tr>    <tr> \n",
       "        <th id=\"T_23c246e8_bc11_11e9_afb5_4c3275917579level0_row134\" class=\"row_heading level0 row134\" >std_og_t2t_mou_7</th> \n",
       "        <td id=\"T_23c246e8_bc11_11e9_afb5_4c3275917579row134_col0\" class=\"data row134 col0\" >3859</td> \n",
       "        <td id=\"T_23c246e8_bc11_11e9_afb5_4c3275917579row134_col1\" class=\"data row134 col1\" >3.86</td> \n",
       "    </tr>    <tr> \n",
       "        <th id=\"T_23c246e8_bc11_11e9_afb5_4c3275917579level0_row135\" class=\"row_heading level0 row135\" >std_ic_t2t_mou_7</th> \n",
       "        <td id=\"T_23c246e8_bc11_11e9_afb5_4c3275917579row135_col0\" class=\"data row135 col0\" >3859</td> \n",
       "        <td id=\"T_23c246e8_bc11_11e9_afb5_4c3275917579row135_col1\" class=\"data row135 col1\" >3.86</td> \n",
       "    </tr>    <tr> \n",
       "        <th id=\"T_23c246e8_bc11_11e9_afb5_4c3275917579level0_row136\" class=\"row_heading level0 row136\" >onnet_mou_7</th> \n",
       "        <td id=\"T_23c246e8_bc11_11e9_afb5_4c3275917579row136_col0\" class=\"data row136 col0\" >3859</td> \n",
       "        <td id=\"T_23c246e8_bc11_11e9_afb5_4c3275917579row136_col1\" class=\"data row136 col1\" >3.86</td> \n",
       "    </tr>    <tr> \n",
       "        <th id=\"T_23c246e8_bc11_11e9_afb5_4c3275917579level0_row137\" class=\"row_heading level0 row137\" >std_og_t2m_mou_7</th> \n",
       "        <td id=\"T_23c246e8_bc11_11e9_afb5_4c3275917579row137_col0\" class=\"data row137 col0\" >3859</td> \n",
       "        <td id=\"T_23c246e8_bc11_11e9_afb5_4c3275917579row137_col1\" class=\"data row137 col1\" >3.86</td> \n",
       "    </tr>    <tr> \n",
       "        <th id=\"T_23c246e8_bc11_11e9_afb5_4c3275917579level0_row138\" class=\"row_heading level0 row138\" >loc_og_t2m_mou_7</th> \n",
       "        <td id=\"T_23c246e8_bc11_11e9_afb5_4c3275917579row138_col0\" class=\"data row138 col0\" >3859</td> \n",
       "        <td id=\"T_23c246e8_bc11_11e9_afb5_4c3275917579row138_col1\" class=\"data row138 col1\" >3.86</td> \n",
       "    </tr>    <tr> \n",
       "        <th id=\"T_23c246e8_bc11_11e9_afb5_4c3275917579level0_row139\" class=\"row_heading level0 row139\" >std_og_t2f_mou_7</th> \n",
       "        <td id=\"T_23c246e8_bc11_11e9_afb5_4c3275917579row139_col0\" class=\"data row139 col0\" >3859</td> \n",
       "        <td id=\"T_23c246e8_bc11_11e9_afb5_4c3275917579row139_col1\" class=\"data row139 col1\" >3.86</td> \n",
       "    </tr>    <tr> \n",
       "        <th id=\"T_23c246e8_bc11_11e9_afb5_4c3275917579level0_row140\" class=\"row_heading level0 row140\" >roam_og_mou_7</th> \n",
       "        <td id=\"T_23c246e8_bc11_11e9_afb5_4c3275917579row140_col0\" class=\"data row140 col0\" >3859</td> \n",
       "        <td id=\"T_23c246e8_bc11_11e9_afb5_4c3275917579row140_col1\" class=\"data row140 col1\" >3.86</td> \n",
       "    </tr>    <tr> \n",
       "        <th id=\"T_23c246e8_bc11_11e9_afb5_4c3275917579level0_row141\" class=\"row_heading level0 row141\" >std_og_t2c_mou_7</th> \n",
       "        <td id=\"T_23c246e8_bc11_11e9_afb5_4c3275917579row141_col0\" class=\"data row141 col0\" >3859</td> \n",
       "        <td id=\"T_23c246e8_bc11_11e9_afb5_4c3275917579row141_col1\" class=\"data row141 col1\" >3.86</td> \n",
       "    </tr>    <tr> \n",
       "        <th id=\"T_23c246e8_bc11_11e9_afb5_4c3275917579level0_row142\" class=\"row_heading level0 row142\" >std_ic_t2m_mou_7</th> \n",
       "        <td id=\"T_23c246e8_bc11_11e9_afb5_4c3275917579row142_col0\" class=\"data row142 col0\" >3859</td> \n",
       "        <td id=\"T_23c246e8_bc11_11e9_afb5_4c3275917579row142_col1\" class=\"data row142 col1\" >3.86</td> \n",
       "    </tr>    <tr> \n",
       "        <th id=\"T_23c246e8_bc11_11e9_afb5_4c3275917579level0_row143\" class=\"row_heading level0 row143\" >isd_og_mou_7</th> \n",
       "        <td id=\"T_23c246e8_bc11_11e9_afb5_4c3275917579row143_col0\" class=\"data row143 col0\" >3859</td> \n",
       "        <td id=\"T_23c246e8_bc11_11e9_afb5_4c3275917579row143_col1\" class=\"data row143 col1\" >3.86</td> \n",
       "    </tr>    <tr> \n",
       "        <th id=\"T_23c246e8_bc11_11e9_afb5_4c3275917579level0_row144\" class=\"row_heading level0 row144\" >ic_others_7</th> \n",
       "        <td id=\"T_23c246e8_bc11_11e9_afb5_4c3275917579row144_col0\" class=\"data row144 col0\" >3859</td> \n",
       "        <td id=\"T_23c246e8_bc11_11e9_afb5_4c3275917579row144_col1\" class=\"data row144 col1\" >3.86</td> \n",
       "    </tr>    <tr> \n",
       "        <th id=\"T_23c246e8_bc11_11e9_afb5_4c3275917579level0_row145\" class=\"row_heading level0 row145\" >loc_ic_t2f_mou_7</th> \n",
       "        <td id=\"T_23c246e8_bc11_11e9_afb5_4c3275917579row145_col0\" class=\"data row145 col0\" >3859</td> \n",
       "        <td id=\"T_23c246e8_bc11_11e9_afb5_4c3275917579row145_col1\" class=\"data row145 col1\" >3.86</td> \n",
       "    </tr>    <tr> \n",
       "        <th id=\"T_23c246e8_bc11_11e9_afb5_4c3275917579level0_row146\" class=\"row_heading level0 row146\" >loc_ic_t2m_mou_7</th> \n",
       "        <td id=\"T_23c246e8_bc11_11e9_afb5_4c3275917579row146_col0\" class=\"data row146 col0\" >3859</td> \n",
       "        <td id=\"T_23c246e8_bc11_11e9_afb5_4c3275917579row146_col1\" class=\"data row146 col1\" >3.86</td> \n",
       "    </tr>    <tr> \n",
       "        <th id=\"T_23c246e8_bc11_11e9_afb5_4c3275917579level0_row147\" class=\"row_heading level0 row147\" >std_ic_mou_7</th> \n",
       "        <td id=\"T_23c246e8_bc11_11e9_afb5_4c3275917579row147_col0\" class=\"data row147 col0\" >3859</td> \n",
       "        <td id=\"T_23c246e8_bc11_11e9_afb5_4c3275917579row147_col1\" class=\"data row147 col1\" >3.86</td> \n",
       "    </tr>    <tr> \n",
       "        <th id=\"T_23c246e8_bc11_11e9_afb5_4c3275917579level0_row148\" class=\"row_heading level0 row148\" >loc_ic_t2t_mou_7</th> \n",
       "        <td id=\"T_23c246e8_bc11_11e9_afb5_4c3275917579row148_col0\" class=\"data row148 col0\" >3859</td> \n",
       "        <td id=\"T_23c246e8_bc11_11e9_afb5_4c3275917579row148_col1\" class=\"data row148 col1\" >3.86</td> \n",
       "    </tr>    <tr> \n",
       "        <th id=\"T_23c246e8_bc11_11e9_afb5_4c3275917579level0_row149\" class=\"row_heading level0 row149\" >std_ic_t2f_mou_7</th> \n",
       "        <td id=\"T_23c246e8_bc11_11e9_afb5_4c3275917579row149_col0\" class=\"data row149 col0\" >3859</td> \n",
       "        <td id=\"T_23c246e8_bc11_11e9_afb5_4c3275917579row149_col1\" class=\"data row149 col1\" >3.86</td> \n",
       "    </tr>    <tr> \n",
       "        <th id=\"T_23c246e8_bc11_11e9_afb5_4c3275917579level0_row150\" class=\"row_heading level0 row150\" >loc_ic_mou_7</th> \n",
       "        <td id=\"T_23c246e8_bc11_11e9_afb5_4c3275917579row150_col0\" class=\"data row150 col0\" >3859</td> \n",
       "        <td id=\"T_23c246e8_bc11_11e9_afb5_4c3275917579row150_col1\" class=\"data row150 col1\" >3.86</td> \n",
       "    </tr>    <tr> \n",
       "        <th id=\"T_23c246e8_bc11_11e9_afb5_4c3275917579level0_row151\" class=\"row_heading level0 row151\" >spl_ic_mou_7</th> \n",
       "        <td id=\"T_23c246e8_bc11_11e9_afb5_4c3275917579row151_col0\" class=\"data row151 col0\" >3859</td> \n",
       "        <td id=\"T_23c246e8_bc11_11e9_afb5_4c3275917579row151_col1\" class=\"data row151 col1\" >3.86</td> \n",
       "    </tr>    <tr> \n",
       "        <th id=\"T_23c246e8_bc11_11e9_afb5_4c3275917579level0_row152\" class=\"row_heading level0 row152\" >og_others_7</th> \n",
       "        <td id=\"T_23c246e8_bc11_11e9_afb5_4c3275917579row152_col0\" class=\"data row152 col0\" >3859</td> \n",
       "        <td id=\"T_23c246e8_bc11_11e9_afb5_4c3275917579row152_col1\" class=\"data row152 col1\" >3.86</td> \n",
       "    </tr>    <tr> \n",
       "        <th id=\"T_23c246e8_bc11_11e9_afb5_4c3275917579level0_row153\" class=\"row_heading level0 row153\" >spl_og_mou_7</th> \n",
       "        <td id=\"T_23c246e8_bc11_11e9_afb5_4c3275917579row153_col0\" class=\"data row153 col0\" >3859</td> \n",
       "        <td id=\"T_23c246e8_bc11_11e9_afb5_4c3275917579row153_col1\" class=\"data row153 col1\" >3.86</td> \n",
       "    </tr>    <tr> \n",
       "        <th id=\"T_23c246e8_bc11_11e9_afb5_4c3275917579level0_row154\" class=\"row_heading level0 row154\" >isd_ic_mou_7</th> \n",
       "        <td id=\"T_23c246e8_bc11_11e9_afb5_4c3275917579row154_col0\" class=\"data row154 col0\" >3859</td> \n",
       "        <td id=\"T_23c246e8_bc11_11e9_afb5_4c3275917579row154_col1\" class=\"data row154 col1\" >3.86</td> \n",
       "    </tr>    <tr> \n",
       "        <th id=\"T_23c246e8_bc11_11e9_afb5_4c3275917579level0_row155\" class=\"row_heading level0 row155\" >std_ic_t2o_mou_7</th> \n",
       "        <td id=\"T_23c246e8_bc11_11e9_afb5_4c3275917579row155_col0\" class=\"data row155 col0\" >3859</td> \n",
       "        <td id=\"T_23c246e8_bc11_11e9_afb5_4c3275917579row155_col1\" class=\"data row155 col1\" >3.86</td> \n",
       "    </tr>    <tr> \n",
       "        <th id=\"T_23c246e8_bc11_11e9_afb5_4c3275917579level0_row156\" class=\"row_heading level0 row156\" >std_og_mou_7</th> \n",
       "        <td id=\"T_23c246e8_bc11_11e9_afb5_4c3275917579row156_col0\" class=\"data row156 col0\" >3859</td> \n",
       "        <td id=\"T_23c246e8_bc11_11e9_afb5_4c3275917579row156_col1\" class=\"data row156 col1\" >3.86</td> \n",
       "    </tr>    <tr> \n",
       "        <th id=\"T_23c246e8_bc11_11e9_afb5_4c3275917579level0_row157\" class=\"row_heading level0 row157\" >date_of_last_rech_8</th> \n",
       "        <td id=\"T_23c246e8_bc11_11e9_afb5_4c3275917579row157_col0\" class=\"data row157 col0\" >3622</td> \n",
       "        <td id=\"T_23c246e8_bc11_11e9_afb5_4c3275917579row157_col1\" class=\"data row157 col1\" >3.62</td> \n",
       "    </tr>    <tr> \n",
       "        <th id=\"T_23c246e8_bc11_11e9_afb5_4c3275917579level0_row158\" class=\"row_heading level0 row158\" >date_of_last_rech_7</th> \n",
       "        <td id=\"T_23c246e8_bc11_11e9_afb5_4c3275917579row158_col0\" class=\"data row158 col0\" >1767</td> \n",
       "        <td id=\"T_23c246e8_bc11_11e9_afb5_4c3275917579row158_col1\" class=\"data row158 col1\" >1.77</td> \n",
       "    </tr>    <tr> \n",
       "        <th id=\"T_23c246e8_bc11_11e9_afb5_4c3275917579level0_row159\" class=\"row_heading level0 row159\" >last_date_of_month_9</th> \n",
       "        <td id=\"T_23c246e8_bc11_11e9_afb5_4c3275917579row159_col0\" class=\"data row159 col0\" >1659</td> \n",
       "        <td id=\"T_23c246e8_bc11_11e9_afb5_4c3275917579row159_col1\" class=\"data row159 col1\" >1.66</td> \n",
       "    </tr>    <tr> \n",
       "        <th id=\"T_23c246e8_bc11_11e9_afb5_4c3275917579level0_row160\" class=\"row_heading level0 row160\" >date_of_last_rech_6</th> \n",
       "        <td id=\"T_23c246e8_bc11_11e9_afb5_4c3275917579row160_col0\" class=\"data row160 col0\" >1607</td> \n",
       "        <td id=\"T_23c246e8_bc11_11e9_afb5_4c3275917579row160_col1\" class=\"data row160 col1\" >1.61</td> \n",
       "    </tr>    <tr> \n",
       "        <th id=\"T_23c246e8_bc11_11e9_afb5_4c3275917579level0_row161\" class=\"row_heading level0 row161\" >last_date_of_month_8</th> \n",
       "        <td id=\"T_23c246e8_bc11_11e9_afb5_4c3275917579row161_col0\" class=\"data row161 col0\" >1100</td> \n",
       "        <td id=\"T_23c246e8_bc11_11e9_afb5_4c3275917579row161_col1\" class=\"data row161 col1\" >1.1</td> \n",
       "    </tr>    <tr> \n",
       "        <th id=\"T_23c246e8_bc11_11e9_afb5_4c3275917579level0_row162\" class=\"row_heading level0 row162\" >loc_ic_t2o_mou</th> \n",
       "        <td id=\"T_23c246e8_bc11_11e9_afb5_4c3275917579row162_col0\" class=\"data row162 col0\" >1018</td> \n",
       "        <td id=\"T_23c246e8_bc11_11e9_afb5_4c3275917579row162_col1\" class=\"data row162 col1\" >1.02</td> \n",
       "    </tr>    <tr> \n",
       "        <th id=\"T_23c246e8_bc11_11e9_afb5_4c3275917579level0_row163\" class=\"row_heading level0 row163\" >std_og_t2o_mou</th> \n",
       "        <td id=\"T_23c246e8_bc11_11e9_afb5_4c3275917579row163_col0\" class=\"data row163 col0\" >1018</td> \n",
       "        <td id=\"T_23c246e8_bc11_11e9_afb5_4c3275917579row163_col1\" class=\"data row163 col1\" >1.02</td> \n",
       "    </tr>    <tr> \n",
       "        <th id=\"T_23c246e8_bc11_11e9_afb5_4c3275917579level0_row164\" class=\"row_heading level0 row164\" >loc_og_t2o_mou</th> \n",
       "        <td id=\"T_23c246e8_bc11_11e9_afb5_4c3275917579row164_col0\" class=\"data row164 col0\" >1018</td> \n",
       "        <td id=\"T_23c246e8_bc11_11e9_afb5_4c3275917579row164_col1\" class=\"data row164 col1\" >1.02</td> \n",
       "    </tr>    <tr> \n",
       "        <th id=\"T_23c246e8_bc11_11e9_afb5_4c3275917579level0_row165\" class=\"row_heading level0 row165\" >last_date_of_month_7</th> \n",
       "        <td id=\"T_23c246e8_bc11_11e9_afb5_4c3275917579row165_col0\" class=\"data row165 col0\" >601</td> \n",
       "        <td id=\"T_23c246e8_bc11_11e9_afb5_4c3275917579row165_col1\" class=\"data row165 col1\" >0.6</td> \n",
       "    </tr>    <tr> \n",
       "        <th id=\"T_23c246e8_bc11_11e9_afb5_4c3275917579level0_row166\" class=\"row_heading level0 row166\" >sachet_3g_8</th> \n",
       "        <td id=\"T_23c246e8_bc11_11e9_afb5_4c3275917579row166_col0\" class=\"data row166 col0\" >0</td> \n",
       "        <td id=\"T_23c246e8_bc11_11e9_afb5_4c3275917579row166_col1\" class=\"data row166 col1\" >0</td> \n",
       "    </tr>    <tr> \n",
       "        <th id=\"T_23c246e8_bc11_11e9_afb5_4c3275917579level0_row167\" class=\"row_heading level0 row167\" >jul_vbc_3g</th> \n",
       "        <td id=\"T_23c246e8_bc11_11e9_afb5_4c3275917579row167_col0\" class=\"data row167 col0\" >0</td> \n",
       "        <td id=\"T_23c246e8_bc11_11e9_afb5_4c3275917579row167_col1\" class=\"data row167 col1\" >0</td> \n",
       "    </tr>    <tr> \n",
       "        <th id=\"T_23c246e8_bc11_11e9_afb5_4c3275917579level0_row168\" class=\"row_heading level0 row168\" >aug_vbc_3g</th> \n",
       "        <td id=\"T_23c246e8_bc11_11e9_afb5_4c3275917579row168_col0\" class=\"data row168 col0\" >0</td> \n",
       "        <td id=\"T_23c246e8_bc11_11e9_afb5_4c3275917579row168_col1\" class=\"data row168 col1\" >0</td> \n",
       "    </tr>    <tr> \n",
       "        <th id=\"T_23c246e8_bc11_11e9_afb5_4c3275917579level0_row169\" class=\"row_heading level0 row169\" >aon</th> \n",
       "        <td id=\"T_23c246e8_bc11_11e9_afb5_4c3275917579row169_col0\" class=\"data row169 col0\" >0</td> \n",
       "        <td id=\"T_23c246e8_bc11_11e9_afb5_4c3275917579row169_col1\" class=\"data row169 col1\" >0</td> \n",
       "    </tr>    <tr> \n",
       "        <th id=\"T_23c246e8_bc11_11e9_afb5_4c3275917579level0_row170\" class=\"row_heading level0 row170\" >jun_vbc_3g</th> \n",
       "        <td id=\"T_23c246e8_bc11_11e9_afb5_4c3275917579row170_col0\" class=\"data row170 col0\" >0</td> \n",
       "        <td id=\"T_23c246e8_bc11_11e9_afb5_4c3275917579row170_col1\" class=\"data row170 col1\" >0</td> \n",
       "    </tr>    <tr> \n",
       "        <th id=\"T_23c246e8_bc11_11e9_afb5_4c3275917579level0_row171\" class=\"row_heading level0 row171\" >monthly_2g_9</th> \n",
       "        <td id=\"T_23c246e8_bc11_11e9_afb5_4c3275917579row171_col0\" class=\"data row171 col0\" >0</td> \n",
       "        <td id=\"T_23c246e8_bc11_11e9_afb5_4c3275917579row171_col1\" class=\"data row171 col1\" >0</td> \n",
       "    </tr>    <tr> \n",
       "        <th id=\"T_23c246e8_bc11_11e9_afb5_4c3275917579level0_row172\" class=\"row_heading level0 row172\" >sachet_3g_6</th> \n",
       "        <td id=\"T_23c246e8_bc11_11e9_afb5_4c3275917579row172_col0\" class=\"data row172 col0\" >0</td> \n",
       "        <td id=\"T_23c246e8_bc11_11e9_afb5_4c3275917579row172_col1\" class=\"data row172 col1\" >0</td> \n",
       "    </tr>    <tr> \n",
       "        <th id=\"T_23c246e8_bc11_11e9_afb5_4c3275917579level0_row173\" class=\"row_heading level0 row173\" >vol_3g_mb_9</th> \n",
       "        <td id=\"T_23c246e8_bc11_11e9_afb5_4c3275917579row173_col0\" class=\"data row173 col0\" >0</td> \n",
       "        <td id=\"T_23c246e8_bc11_11e9_afb5_4c3275917579row173_col1\" class=\"data row173 col1\" >0</td> \n",
       "    </tr>    <tr> \n",
       "        <th id=\"T_23c246e8_bc11_11e9_afb5_4c3275917579level0_row174\" class=\"row_heading level0 row174\" >sachet_3g_7</th> \n",
       "        <td id=\"T_23c246e8_bc11_11e9_afb5_4c3275917579row174_col0\" class=\"data row174 col0\" >0</td> \n",
       "        <td id=\"T_23c246e8_bc11_11e9_afb5_4c3275917579row174_col1\" class=\"data row174 col1\" >0</td> \n",
       "    </tr>    <tr> \n",
       "        <th id=\"T_23c246e8_bc11_11e9_afb5_4c3275917579level0_row175\" class=\"row_heading level0 row175\" >monthly_2g_8</th> \n",
       "        <td id=\"T_23c246e8_bc11_11e9_afb5_4c3275917579row175_col0\" class=\"data row175 col0\" >0</td> \n",
       "        <td id=\"T_23c246e8_bc11_11e9_afb5_4c3275917579row175_col1\" class=\"data row175 col1\" >0</td> \n",
       "    </tr>    <tr> \n",
       "        <th id=\"T_23c246e8_bc11_11e9_afb5_4c3275917579level0_row176\" class=\"row_heading level0 row176\" >monthly_3g_9</th> \n",
       "        <td id=\"T_23c246e8_bc11_11e9_afb5_4c3275917579row176_col0\" class=\"data row176 col0\" >0</td> \n",
       "        <td id=\"T_23c246e8_bc11_11e9_afb5_4c3275917579row176_col1\" class=\"data row176 col1\" >0</td> \n",
       "    </tr>    <tr> \n",
       "        <th id=\"T_23c246e8_bc11_11e9_afb5_4c3275917579level0_row177\" class=\"row_heading level0 row177\" >monthly_3g_8</th> \n",
       "        <td id=\"T_23c246e8_bc11_11e9_afb5_4c3275917579row177_col0\" class=\"data row177 col0\" >0</td> \n",
       "        <td id=\"T_23c246e8_bc11_11e9_afb5_4c3275917579row177_col1\" class=\"data row177 col1\" >0</td> \n",
       "    </tr>    <tr> \n",
       "        <th id=\"T_23c246e8_bc11_11e9_afb5_4c3275917579level0_row178\" class=\"row_heading level0 row178\" >sachet_3g_9</th> \n",
       "        <td id=\"T_23c246e8_bc11_11e9_afb5_4c3275917579row178_col0\" class=\"data row178 col0\" >0</td> \n",
       "        <td id=\"T_23c246e8_bc11_11e9_afb5_4c3275917579row178_col1\" class=\"data row178 col1\" >0</td> \n",
       "    </tr>    <tr> \n",
       "        <th id=\"T_23c246e8_bc11_11e9_afb5_4c3275917579level0_row179\" class=\"row_heading level0 row179\" >monthly_3g_7</th> \n",
       "        <td id=\"T_23c246e8_bc11_11e9_afb5_4c3275917579row179_col0\" class=\"data row179 col0\" >0</td> \n",
       "        <td id=\"T_23c246e8_bc11_11e9_afb5_4c3275917579row179_col1\" class=\"data row179 col1\" >0</td> \n",
       "    </tr>    <tr> \n",
       "        <th id=\"T_23c246e8_bc11_11e9_afb5_4c3275917579level0_row180\" class=\"row_heading level0 row180\" >monthly_3g_6</th> \n",
       "        <td id=\"T_23c246e8_bc11_11e9_afb5_4c3275917579row180_col0\" class=\"data row180 col0\" >0</td> \n",
       "        <td id=\"T_23c246e8_bc11_11e9_afb5_4c3275917579row180_col1\" class=\"data row180 col1\" >0</td> \n",
       "    </tr>    <tr> \n",
       "        <th id=\"T_23c246e8_bc11_11e9_afb5_4c3275917579level0_row181\" class=\"row_heading level0 row181\" >sachet_2g_9</th> \n",
       "        <td id=\"T_23c246e8_bc11_11e9_afb5_4c3275917579row181_col0\" class=\"data row181 col0\" >0</td> \n",
       "        <td id=\"T_23c246e8_bc11_11e9_afb5_4c3275917579row181_col1\" class=\"data row181 col1\" >0</td> \n",
       "    </tr>    <tr> \n",
       "        <th id=\"T_23c246e8_bc11_11e9_afb5_4c3275917579level0_row182\" class=\"row_heading level0 row182\" >sachet_2g_8</th> \n",
       "        <td id=\"T_23c246e8_bc11_11e9_afb5_4c3275917579row182_col0\" class=\"data row182 col0\" >0</td> \n",
       "        <td id=\"T_23c246e8_bc11_11e9_afb5_4c3275917579row182_col1\" class=\"data row182 col1\" >0</td> \n",
       "    </tr>    <tr> \n",
       "        <th id=\"T_23c246e8_bc11_11e9_afb5_4c3275917579level0_row183\" class=\"row_heading level0 row183\" >sachet_2g_7</th> \n",
       "        <td id=\"T_23c246e8_bc11_11e9_afb5_4c3275917579row183_col0\" class=\"data row183 col0\" >0</td> \n",
       "        <td id=\"T_23c246e8_bc11_11e9_afb5_4c3275917579row183_col1\" class=\"data row183 col1\" >0</td> \n",
       "    </tr>    <tr> \n",
       "        <th id=\"T_23c246e8_bc11_11e9_afb5_4c3275917579level0_row184\" class=\"row_heading level0 row184\" >sachet_2g_6</th> \n",
       "        <td id=\"T_23c246e8_bc11_11e9_afb5_4c3275917579row184_col0\" class=\"data row184 col0\" >0</td> \n",
       "        <td id=\"T_23c246e8_bc11_11e9_afb5_4c3275917579row184_col1\" class=\"data row184 col1\" >0</td> \n",
       "    </tr>    <tr> \n",
       "        <th id=\"T_23c246e8_bc11_11e9_afb5_4c3275917579level0_row185\" class=\"row_heading level0 row185\" >monthly_2g_7</th> \n",
       "        <td id=\"T_23c246e8_bc11_11e9_afb5_4c3275917579row185_col0\" class=\"data row185 col0\" >0</td> \n",
       "        <td id=\"T_23c246e8_bc11_11e9_afb5_4c3275917579row185_col1\" class=\"data row185 col1\" >0</td> \n",
       "    </tr>    <tr> \n",
       "        <th id=\"T_23c246e8_bc11_11e9_afb5_4c3275917579level0_row186\" class=\"row_heading level0 row186\" >monthly_2g_6</th> \n",
       "        <td id=\"T_23c246e8_bc11_11e9_afb5_4c3275917579row186_col0\" class=\"data row186 col0\" >0</td> \n",
       "        <td id=\"T_23c246e8_bc11_11e9_afb5_4c3275917579row186_col1\" class=\"data row186 col1\" >0</td> \n",
       "    </tr>    <tr> \n",
       "        <th id=\"T_23c246e8_bc11_11e9_afb5_4c3275917579level0_row187\" class=\"row_heading level0 row187\" >mobile_number</th> \n",
       "        <td id=\"T_23c246e8_bc11_11e9_afb5_4c3275917579row187_col0\" class=\"data row187 col0\" >0</td> \n",
       "        <td id=\"T_23c246e8_bc11_11e9_afb5_4c3275917579row187_col1\" class=\"data row187 col1\" >0</td> \n",
       "    </tr>    <tr> \n",
       "        <th id=\"T_23c246e8_bc11_11e9_afb5_4c3275917579level0_row188\" class=\"row_heading level0 row188\" >vol_3g_mb_8</th> \n",
       "        <td id=\"T_23c246e8_bc11_11e9_afb5_4c3275917579row188_col0\" class=\"data row188 col0\" >0</td> \n",
       "        <td id=\"T_23c246e8_bc11_11e9_afb5_4c3275917579row188_col1\" class=\"data row188 col1\" >0</td> \n",
       "    </tr>    <tr> \n",
       "        <th id=\"T_23c246e8_bc11_11e9_afb5_4c3275917579level0_row189\" class=\"row_heading level0 row189\" >total_og_mou_9</th> \n",
       "        <td id=\"T_23c246e8_bc11_11e9_afb5_4c3275917579row189_col0\" class=\"data row189 col0\" >0</td> \n",
       "        <td id=\"T_23c246e8_bc11_11e9_afb5_4c3275917579row189_col1\" class=\"data row189 col1\" >0</td> \n",
       "    </tr>    <tr> \n",
       "        <th id=\"T_23c246e8_bc11_11e9_afb5_4c3275917579level0_row190\" class=\"row_heading level0 row190\" >total_rech_num_7</th> \n",
       "        <td id=\"T_23c246e8_bc11_11e9_afb5_4c3275917579row190_col0\" class=\"data row190 col0\" >0</td> \n",
       "        <td id=\"T_23c246e8_bc11_11e9_afb5_4c3275917579row190_col1\" class=\"data row190 col1\" >0</td> \n",
       "    </tr>    <tr> \n",
       "        <th id=\"T_23c246e8_bc11_11e9_afb5_4c3275917579level0_row191\" class=\"row_heading level0 row191\" >total_rech_num_6</th> \n",
       "        <td id=\"T_23c246e8_bc11_11e9_afb5_4c3275917579row191_col0\" class=\"data row191 col0\" >0</td> \n",
       "        <td id=\"T_23c246e8_bc11_11e9_afb5_4c3275917579row191_col1\" class=\"data row191 col1\" >0</td> \n",
       "    </tr>    <tr> \n",
       "        <th id=\"T_23c246e8_bc11_11e9_afb5_4c3275917579level0_row192\" class=\"row_heading level0 row192\" >total_ic_mou_9</th> \n",
       "        <td id=\"T_23c246e8_bc11_11e9_afb5_4c3275917579row192_col0\" class=\"data row192 col0\" >0</td> \n",
       "        <td id=\"T_23c246e8_bc11_11e9_afb5_4c3275917579row192_col1\" class=\"data row192 col1\" >0</td> \n",
       "    </tr>    <tr> \n",
       "        <th id=\"T_23c246e8_bc11_11e9_afb5_4c3275917579level0_row193\" class=\"row_heading level0 row193\" >total_ic_mou_8</th> \n",
       "        <td id=\"T_23c246e8_bc11_11e9_afb5_4c3275917579row193_col0\" class=\"data row193 col0\" >0</td> \n",
       "        <td id=\"T_23c246e8_bc11_11e9_afb5_4c3275917579row193_col1\" class=\"data row193 col1\" >0</td> \n",
       "    </tr>    <tr> \n",
       "        <th id=\"T_23c246e8_bc11_11e9_afb5_4c3275917579level0_row194\" class=\"row_heading level0 row194\" >total_ic_mou_7</th> \n",
       "        <td id=\"T_23c246e8_bc11_11e9_afb5_4c3275917579row194_col0\" class=\"data row194 col0\" >0</td> \n",
       "        <td id=\"T_23c246e8_bc11_11e9_afb5_4c3275917579row194_col1\" class=\"data row194 col1\" >0</td> \n",
       "    </tr>    <tr> \n",
       "        <th id=\"T_23c246e8_bc11_11e9_afb5_4c3275917579level0_row195\" class=\"row_heading level0 row195\" >total_ic_mou_6</th> \n",
       "        <td id=\"T_23c246e8_bc11_11e9_afb5_4c3275917579row195_col0\" class=\"data row195 col0\" >0</td> \n",
       "        <td id=\"T_23c246e8_bc11_11e9_afb5_4c3275917579row195_col1\" class=\"data row195 col1\" >0</td> \n",
       "    </tr>    <tr> \n",
       "        <th id=\"T_23c246e8_bc11_11e9_afb5_4c3275917579level0_row196\" class=\"row_heading level0 row196\" >circle_id</th> \n",
       "        <td id=\"T_23c246e8_bc11_11e9_afb5_4c3275917579row196_col0\" class=\"data row196 col0\" >0</td> \n",
       "        <td id=\"T_23c246e8_bc11_11e9_afb5_4c3275917579row196_col1\" class=\"data row196 col1\" >0</td> \n",
       "    </tr>    <tr> \n",
       "        <th id=\"T_23c246e8_bc11_11e9_afb5_4c3275917579level0_row197\" class=\"row_heading level0 row197\" >total_og_mou_8</th> \n",
       "        <td id=\"T_23c246e8_bc11_11e9_afb5_4c3275917579row197_col0\" class=\"data row197 col0\" >0</td> \n",
       "        <td id=\"T_23c246e8_bc11_11e9_afb5_4c3275917579row197_col1\" class=\"data row197 col1\" >0</td> \n",
       "    </tr>    <tr> \n",
       "        <th id=\"T_23c246e8_bc11_11e9_afb5_4c3275917579level0_row198\" class=\"row_heading level0 row198\" >vol_3g_mb_7</th> \n",
       "        <td id=\"T_23c246e8_bc11_11e9_afb5_4c3275917579row198_col0\" class=\"data row198 col0\" >0</td> \n",
       "        <td id=\"T_23c246e8_bc11_11e9_afb5_4c3275917579row198_col1\" class=\"data row198 col1\" >0</td> \n",
       "    </tr>    <tr> \n",
       "        <th id=\"T_23c246e8_bc11_11e9_afb5_4c3275917579level0_row199\" class=\"row_heading level0 row199\" >total_og_mou_7</th> \n",
       "        <td id=\"T_23c246e8_bc11_11e9_afb5_4c3275917579row199_col0\" class=\"data row199 col0\" >0</td> \n",
       "        <td id=\"T_23c246e8_bc11_11e9_afb5_4c3275917579row199_col1\" class=\"data row199 col1\" >0</td> \n",
       "    </tr>    <tr> \n",
       "        <th id=\"T_23c246e8_bc11_11e9_afb5_4c3275917579level0_row200\" class=\"row_heading level0 row200\" >total_og_mou_6</th> \n",
       "        <td id=\"T_23c246e8_bc11_11e9_afb5_4c3275917579row200_col0\" class=\"data row200 col0\" >0</td> \n",
       "        <td id=\"T_23c246e8_bc11_11e9_afb5_4c3275917579row200_col1\" class=\"data row200 col1\" >0</td> \n",
       "    </tr>    <tr> \n",
       "        <th id=\"T_23c246e8_bc11_11e9_afb5_4c3275917579level0_row201\" class=\"row_heading level0 row201\" >arpu_9</th> \n",
       "        <td id=\"T_23c246e8_bc11_11e9_afb5_4c3275917579row201_col0\" class=\"data row201 col0\" >0</td> \n",
       "        <td id=\"T_23c246e8_bc11_11e9_afb5_4c3275917579row201_col1\" class=\"data row201 col1\" >0</td> \n",
       "    </tr>    <tr> \n",
       "        <th id=\"T_23c246e8_bc11_11e9_afb5_4c3275917579level0_row202\" class=\"row_heading level0 row202\" >arpu_8</th> \n",
       "        <td id=\"T_23c246e8_bc11_11e9_afb5_4c3275917579row202_col0\" class=\"data row202 col0\" >0</td> \n",
       "        <td id=\"T_23c246e8_bc11_11e9_afb5_4c3275917579row202_col1\" class=\"data row202 col1\" >0</td> \n",
       "    </tr>    <tr> \n",
       "        <th id=\"T_23c246e8_bc11_11e9_afb5_4c3275917579level0_row203\" class=\"row_heading level0 row203\" >arpu_7</th> \n",
       "        <td id=\"T_23c246e8_bc11_11e9_afb5_4c3275917579row203_col0\" class=\"data row203 col0\" >0</td> \n",
       "        <td id=\"T_23c246e8_bc11_11e9_afb5_4c3275917579row203_col1\" class=\"data row203 col1\" >0</td> \n",
       "    </tr>    <tr> \n",
       "        <th id=\"T_23c246e8_bc11_11e9_afb5_4c3275917579level0_row204\" class=\"row_heading level0 row204\" >arpu_6</th> \n",
       "        <td id=\"T_23c246e8_bc11_11e9_afb5_4c3275917579row204_col0\" class=\"data row204 col0\" >0</td> \n",
       "        <td id=\"T_23c246e8_bc11_11e9_afb5_4c3275917579row204_col1\" class=\"data row204 col1\" >0</td> \n",
       "    </tr>    <tr> \n",
       "        <th id=\"T_23c246e8_bc11_11e9_afb5_4c3275917579level0_row205\" class=\"row_heading level0 row205\" >last_date_of_month_6</th> \n",
       "        <td id=\"T_23c246e8_bc11_11e9_afb5_4c3275917579row205_col0\" class=\"data row205 col0\" >0</td> \n",
       "        <td id=\"T_23c246e8_bc11_11e9_afb5_4c3275917579row205_col1\" class=\"data row205 col1\" >0</td> \n",
       "    </tr>    <tr> \n",
       "        <th id=\"T_23c246e8_bc11_11e9_afb5_4c3275917579level0_row206\" class=\"row_heading level0 row206\" >total_rech_num_8</th> \n",
       "        <td id=\"T_23c246e8_bc11_11e9_afb5_4c3275917579row206_col0\" class=\"data row206 col0\" >0</td> \n",
       "        <td id=\"T_23c246e8_bc11_11e9_afb5_4c3275917579row206_col1\" class=\"data row206 col1\" >0</td> \n",
       "    </tr>    <tr> \n",
       "        <th id=\"T_23c246e8_bc11_11e9_afb5_4c3275917579level0_row207\" class=\"row_heading level0 row207\" >total_rech_num_9</th> \n",
       "        <td id=\"T_23c246e8_bc11_11e9_afb5_4c3275917579row207_col0\" class=\"data row207 col0\" >0</td> \n",
       "        <td id=\"T_23c246e8_bc11_11e9_afb5_4c3275917579row207_col1\" class=\"data row207 col1\" >0</td> \n",
       "    </tr>    <tr> \n",
       "        <th id=\"T_23c246e8_bc11_11e9_afb5_4c3275917579level0_row208\" class=\"row_heading level0 row208\" >total_rech_amt_6</th> \n",
       "        <td id=\"T_23c246e8_bc11_11e9_afb5_4c3275917579row208_col0\" class=\"data row208 col0\" >0</td> \n",
       "        <td id=\"T_23c246e8_bc11_11e9_afb5_4c3275917579row208_col1\" class=\"data row208 col1\" >0</td> \n",
       "    </tr>    <tr> \n",
       "        <th id=\"T_23c246e8_bc11_11e9_afb5_4c3275917579level0_row209\" class=\"row_heading level0 row209\" >total_rech_amt_7</th> \n",
       "        <td id=\"T_23c246e8_bc11_11e9_afb5_4c3275917579row209_col0\" class=\"data row209 col0\" >0</td> \n",
       "        <td id=\"T_23c246e8_bc11_11e9_afb5_4c3275917579row209_col1\" class=\"data row209 col1\" >0</td> \n",
       "    </tr>    <tr> \n",
       "        <th id=\"T_23c246e8_bc11_11e9_afb5_4c3275917579level0_row210\" class=\"row_heading level0 row210\" >vol_3g_mb_6</th> \n",
       "        <td id=\"T_23c246e8_bc11_11e9_afb5_4c3275917579row210_col0\" class=\"data row210 col0\" >0</td> \n",
       "        <td id=\"T_23c246e8_bc11_11e9_afb5_4c3275917579row210_col1\" class=\"data row210 col1\" >0</td> \n",
       "    </tr>    <tr> \n",
       "        <th id=\"T_23c246e8_bc11_11e9_afb5_4c3275917579level0_row211\" class=\"row_heading level0 row211\" >vol_2g_mb_9</th> \n",
       "        <td id=\"T_23c246e8_bc11_11e9_afb5_4c3275917579row211_col0\" class=\"data row211 col0\" >0</td> \n",
       "        <td id=\"T_23c246e8_bc11_11e9_afb5_4c3275917579row211_col1\" class=\"data row211 col1\" >0</td> \n",
       "    </tr>    <tr> \n",
       "        <th id=\"T_23c246e8_bc11_11e9_afb5_4c3275917579level0_row212\" class=\"row_heading level0 row212\" >vol_2g_mb_8</th> \n",
       "        <td id=\"T_23c246e8_bc11_11e9_afb5_4c3275917579row212_col0\" class=\"data row212 col0\" >0</td> \n",
       "        <td id=\"T_23c246e8_bc11_11e9_afb5_4c3275917579row212_col1\" class=\"data row212 col1\" >0</td> \n",
       "    </tr>    <tr> \n",
       "        <th id=\"T_23c246e8_bc11_11e9_afb5_4c3275917579level0_row213\" class=\"row_heading level0 row213\" >vol_2g_mb_7</th> \n",
       "        <td id=\"T_23c246e8_bc11_11e9_afb5_4c3275917579row213_col0\" class=\"data row213 col0\" >0</td> \n",
       "        <td id=\"T_23c246e8_bc11_11e9_afb5_4c3275917579row213_col1\" class=\"data row213 col1\" >0</td> \n",
       "    </tr>    <tr> \n",
       "        <th id=\"T_23c246e8_bc11_11e9_afb5_4c3275917579level0_row214\" class=\"row_heading level0 row214\" >vol_2g_mb_6</th> \n",
       "        <td id=\"T_23c246e8_bc11_11e9_afb5_4c3275917579row214_col0\" class=\"data row214 col0\" >0</td> \n",
       "        <td id=\"T_23c246e8_bc11_11e9_afb5_4c3275917579row214_col1\" class=\"data row214 col1\" >0</td> \n",
       "    </tr>    <tr> \n",
       "        <th id=\"T_23c246e8_bc11_11e9_afb5_4c3275917579level0_row215\" class=\"row_heading level0 row215\" >last_day_rch_amt_9</th> \n",
       "        <td id=\"T_23c246e8_bc11_11e9_afb5_4c3275917579row215_col0\" class=\"data row215 col0\" >0</td> \n",
       "        <td id=\"T_23c246e8_bc11_11e9_afb5_4c3275917579row215_col1\" class=\"data row215 col1\" >0</td> \n",
       "    </tr>    <tr> \n",
       "        <th id=\"T_23c246e8_bc11_11e9_afb5_4c3275917579level0_row216\" class=\"row_heading level0 row216\" >last_day_rch_amt_8</th> \n",
       "        <td id=\"T_23c246e8_bc11_11e9_afb5_4c3275917579row216_col0\" class=\"data row216 col0\" >0</td> \n",
       "        <td id=\"T_23c246e8_bc11_11e9_afb5_4c3275917579row216_col1\" class=\"data row216 col1\" >0</td> \n",
       "    </tr>    <tr> \n",
       "        <th id=\"T_23c246e8_bc11_11e9_afb5_4c3275917579level0_row217\" class=\"row_heading level0 row217\" >last_day_rch_amt_7</th> \n",
       "        <td id=\"T_23c246e8_bc11_11e9_afb5_4c3275917579row217_col0\" class=\"data row217 col0\" >0</td> \n",
       "        <td id=\"T_23c246e8_bc11_11e9_afb5_4c3275917579row217_col1\" class=\"data row217 col1\" >0</td> \n",
       "    </tr>    <tr> \n",
       "        <th id=\"T_23c246e8_bc11_11e9_afb5_4c3275917579level0_row218\" class=\"row_heading level0 row218\" >last_day_rch_amt_6</th> \n",
       "        <td id=\"T_23c246e8_bc11_11e9_afb5_4c3275917579row218_col0\" class=\"data row218 col0\" >0</td> \n",
       "        <td id=\"T_23c246e8_bc11_11e9_afb5_4c3275917579row218_col1\" class=\"data row218 col1\" >0</td> \n",
       "    </tr>    <tr> \n",
       "        <th id=\"T_23c246e8_bc11_11e9_afb5_4c3275917579level0_row219\" class=\"row_heading level0 row219\" >max_rech_amt_9</th> \n",
       "        <td id=\"T_23c246e8_bc11_11e9_afb5_4c3275917579row219_col0\" class=\"data row219 col0\" >0</td> \n",
       "        <td id=\"T_23c246e8_bc11_11e9_afb5_4c3275917579row219_col1\" class=\"data row219 col1\" >0</td> \n",
       "    </tr>    <tr> \n",
       "        <th id=\"T_23c246e8_bc11_11e9_afb5_4c3275917579level0_row220\" class=\"row_heading level0 row220\" >max_rech_amt_8</th> \n",
       "        <td id=\"T_23c246e8_bc11_11e9_afb5_4c3275917579row220_col0\" class=\"data row220 col0\" >0</td> \n",
       "        <td id=\"T_23c246e8_bc11_11e9_afb5_4c3275917579row220_col1\" class=\"data row220 col1\" >0</td> \n",
       "    </tr>    <tr> \n",
       "        <th id=\"T_23c246e8_bc11_11e9_afb5_4c3275917579level0_row221\" class=\"row_heading level0 row221\" >max_rech_amt_7</th> \n",
       "        <td id=\"T_23c246e8_bc11_11e9_afb5_4c3275917579row221_col0\" class=\"data row221 col0\" >0</td> \n",
       "        <td id=\"T_23c246e8_bc11_11e9_afb5_4c3275917579row221_col1\" class=\"data row221 col1\" >0</td> \n",
       "    </tr>    <tr> \n",
       "        <th id=\"T_23c246e8_bc11_11e9_afb5_4c3275917579level0_row222\" class=\"row_heading level0 row222\" >max_rech_amt_6</th> \n",
       "        <td id=\"T_23c246e8_bc11_11e9_afb5_4c3275917579row222_col0\" class=\"data row222 col0\" >0</td> \n",
       "        <td id=\"T_23c246e8_bc11_11e9_afb5_4c3275917579row222_col1\" class=\"data row222 col1\" >0</td> \n",
       "    </tr>    <tr> \n",
       "        <th id=\"T_23c246e8_bc11_11e9_afb5_4c3275917579level0_row223\" class=\"row_heading level0 row223\" >total_rech_amt_9</th> \n",
       "        <td id=\"T_23c246e8_bc11_11e9_afb5_4c3275917579row223_col0\" class=\"data row223 col0\" >0</td> \n",
       "        <td id=\"T_23c246e8_bc11_11e9_afb5_4c3275917579row223_col1\" class=\"data row223 col1\" >0</td> \n",
       "    </tr>    <tr> \n",
       "        <th id=\"T_23c246e8_bc11_11e9_afb5_4c3275917579level0_row224\" class=\"row_heading level0 row224\" >total_rech_amt_8</th> \n",
       "        <td id=\"T_23c246e8_bc11_11e9_afb5_4c3275917579row224_col0\" class=\"data row224 col0\" >0</td> \n",
       "        <td id=\"T_23c246e8_bc11_11e9_afb5_4c3275917579row224_col1\" class=\"data row224 col1\" >0</td> \n",
       "    </tr>    <tr> \n",
       "        <th id=\"T_23c246e8_bc11_11e9_afb5_4c3275917579level0_row225\" class=\"row_heading level0 row225\" >sep_vbc_3g</th> \n",
       "        <td id=\"T_23c246e8_bc11_11e9_afb5_4c3275917579row225_col0\" class=\"data row225 col0\" >0</td> \n",
       "        <td id=\"T_23c246e8_bc11_11e9_afb5_4c3275917579row225_col1\" class=\"data row225 col1\" >0</td> \n",
       "    </tr></tbody> \n",
       "</table> "
      ],
      "text/plain": [
       "<pandas.io.formats.style.Styler at 0x1a1a31a518>"
      ]
     },
     "execution_count": 275,
     "metadata": {},
     "output_type": "execute_result"
    }
   ],
   "source": [
    "# Fetching the Null Reports of the Dataset\n",
    "get_nulls_report(telecom_data)"
   ]
  },
  {
   "cell_type": "markdown",
   "metadata": {},
   "source": [
    "**INFO** - It looks like lots of the data contains Nulls Value\n",
    "     - We need to clean or Impute such records/Columns"
   ]
  },
  {
   "cell_type": "markdown",
   "metadata": {},
   "source": [
    "##### For many incumbent operators, retaining high profitable customers is the number one business goal.We will do the same in our Analysis."
   ]
  },
  {
   "cell_type": "raw",
   "metadata": {},
   "source": [
    "To Determine the High Value Customer , it depends upon how much revenue it generates to the operator. "
   ]
  },
  {
   "cell_type": "markdown",
   "metadata": {},
   "source": [
    "#### Data Analysis on the Recharge the customer made"
   ]
  },
  {
   "cell_type": "code",
   "execution_count": 276,
   "metadata": {},
   "outputs": [],
   "source": [
    "recharge_amnt_columns = [col for col in telecom_data.columns if 'rech_amt' in col or  'rech_data' in col]"
   ]
  },
  {
   "cell_type": "code",
   "execution_count": 277,
   "metadata": {},
   "outputs": [
    {
     "data": {
      "text/plain": [
       "['total_rech_amt_6',\n",
       " 'total_rech_amt_7',\n",
       " 'total_rech_amt_8',\n",
       " 'total_rech_amt_9',\n",
       " 'max_rech_amt_6',\n",
       " 'max_rech_amt_7',\n",
       " 'max_rech_amt_8',\n",
       " 'max_rech_amt_9',\n",
       " 'date_of_last_rech_data_6',\n",
       " 'date_of_last_rech_data_7',\n",
       " 'date_of_last_rech_data_8',\n",
       " 'date_of_last_rech_data_9',\n",
       " 'total_rech_data_6',\n",
       " 'total_rech_data_7',\n",
       " 'total_rech_data_8',\n",
       " 'total_rech_data_9',\n",
       " 'max_rech_data_6',\n",
       " 'max_rech_data_7',\n",
       " 'max_rech_data_8',\n",
       " 'max_rech_data_9',\n",
       " 'av_rech_amt_data_6',\n",
       " 'av_rech_amt_data_7',\n",
       " 'av_rech_amt_data_8',\n",
       " 'av_rech_amt_data_9']"
      ]
     },
     "execution_count": 277,
     "metadata": {},
     "output_type": "execute_result"
    }
   ],
   "source": [
    "recharge_amnt_columns"
   ]
  },
  {
   "cell_type": "markdown",
   "metadata": {},
   "source": [
    "INFO - We have 3 categories of columns which will be used to indetify the top customers\n",
    "\n",
    "- **CATEGORY 1** -> total recharge amount,\n",
    "- **CATEGORY 2** -> maximum recharge amount and \n",
    "- **CATEGORY 3** -> average recharge amount for data.\n",
    "- **CATEGORY 4** -> total recharge for data\n",
    "- **CATEGORY 5** -> maximum recharge for data"
   ]
  },
  {
   "cell_type": "code",
   "execution_count": 278,
   "metadata": {},
   "outputs": [
    {
     "data": {
      "text/html": [
       "<style  type=\"text/css\" >\n",
       "    #T_23e7fa6e_bc11_11e9_b0ce_4c3275917579row0_col0 {\n",
       "            background-color:  #ffa500;\n",
       "        }    #T_23e7fa6e_bc11_11e9_b0ce_4c3275917579row0_col1 {\n",
       "            background-color:  #ffa500;\n",
       "        }    #T_23e7fa6e_bc11_11e9_b0ce_4c3275917579row1_col0 {\n",
       "            background-color:  #ffa500;\n",
       "        }    #T_23e7fa6e_bc11_11e9_b0ce_4c3275917579row1_col1 {\n",
       "            background-color:  #ffa500;\n",
       "        }    #T_23e7fa6e_bc11_11e9_b0ce_4c3275917579row2_col0 {\n",
       "            background-color:  #ffa500;\n",
       "        }    #T_23e7fa6e_bc11_11e9_b0ce_4c3275917579row2_col1 {\n",
       "            background-color:  #ffa500;\n",
       "        }    #T_23e7fa6e_bc11_11e9_b0ce_4c3275917579row3_col0 {\n",
       "            background-color:  #ffa500;\n",
       "        }    #T_23e7fa6e_bc11_11e9_b0ce_4c3275917579row3_col1 {\n",
       "            background-color:  #ffa500;\n",
       "        }    #T_23e7fa6e_bc11_11e9_b0ce_4c3275917579row4_col0 {\n",
       "            background-color:  #ffa501;\n",
       "        }    #T_23e7fa6e_bc11_11e9_b0ce_4c3275917579row4_col1 {\n",
       "            background-color:  #ffa501;\n",
       "        }    #T_23e7fa6e_bc11_11e9_b0ce_4c3275917579row5_col0 {\n",
       "            background-color:  #ffa501;\n",
       "        }    #T_23e7fa6e_bc11_11e9_b0ce_4c3275917579row5_col1 {\n",
       "            background-color:  #ffa501;\n",
       "        }    #T_23e7fa6e_bc11_11e9_b0ce_4c3275917579row6_col0 {\n",
       "            background-color:  #ffa501;\n",
       "        }    #T_23e7fa6e_bc11_11e9_b0ce_4c3275917579row6_col1 {\n",
       "            background-color:  #ffa501;\n",
       "        }    #T_23e7fa6e_bc11_11e9_b0ce_4c3275917579row7_col0 {\n",
       "            background-color:  #ffa501;\n",
       "        }    #T_23e7fa6e_bc11_11e9_b0ce_4c3275917579row7_col1 {\n",
       "            background-color:  #ffa501;\n",
       "        }    #T_23e7fa6e_bc11_11e9_b0ce_4c3275917579row8_col0 {\n",
       "            background-color:  #ffa602;\n",
       "        }    #T_23e7fa6e_bc11_11e9_b0ce_4c3275917579row8_col1 {\n",
       "            background-color:  #ffa602;\n",
       "        }    #T_23e7fa6e_bc11_11e9_b0ce_4c3275917579row9_col0 {\n",
       "            background-color:  #ffa602;\n",
       "        }    #T_23e7fa6e_bc11_11e9_b0ce_4c3275917579row9_col1 {\n",
       "            background-color:  #ffa602;\n",
       "        }    #T_23e7fa6e_bc11_11e9_b0ce_4c3275917579row10_col0 {\n",
       "            background-color:  #ffa602;\n",
       "        }    #T_23e7fa6e_bc11_11e9_b0ce_4c3275917579row10_col1 {\n",
       "            background-color:  #ffa602;\n",
       "        }    #T_23e7fa6e_bc11_11e9_b0ce_4c3275917579row11_col0 {\n",
       "            background-color:  #ffa602;\n",
       "        }    #T_23e7fa6e_bc11_11e9_b0ce_4c3275917579row11_col1 {\n",
       "            background-color:  #ffa602;\n",
       "        }    #T_23e7fa6e_bc11_11e9_b0ce_4c3275917579row12_col0 {\n",
       "            background-color:  #ffa604;\n",
       "        }    #T_23e7fa6e_bc11_11e9_b0ce_4c3275917579row12_col1 {\n",
       "            background-color:  #ffa604;\n",
       "        }    #T_23e7fa6e_bc11_11e9_b0ce_4c3275917579row13_col0 {\n",
       "            background-color:  #ffa604;\n",
       "        }    #T_23e7fa6e_bc11_11e9_b0ce_4c3275917579row13_col1 {\n",
       "            background-color:  #ffa604;\n",
       "        }    #T_23e7fa6e_bc11_11e9_b0ce_4c3275917579row14_col0 {\n",
       "            background-color:  #ffa604;\n",
       "        }    #T_23e7fa6e_bc11_11e9_b0ce_4c3275917579row14_col1 {\n",
       "            background-color:  #ffa604;\n",
       "        }    #T_23e7fa6e_bc11_11e9_b0ce_4c3275917579row15_col0 {\n",
       "            background-color:  #ffa604;\n",
       "        }    #T_23e7fa6e_bc11_11e9_b0ce_4c3275917579row15_col1 {\n",
       "            background-color:  #ffa604;\n",
       "        }    #T_23e7fa6e_bc11_11e9_b0ce_4c3275917579row16_col0 {\n",
       "            background-color:  #fff6e5;\n",
       "        }    #T_23e7fa6e_bc11_11e9_b0ce_4c3275917579row16_col1 {\n",
       "            background-color:  #fff6e5;\n",
       "        }    #T_23e7fa6e_bc11_11e9_b0ce_4c3275917579row17_col0 {\n",
       "            background-color:  #fff6e5;\n",
       "        }    #T_23e7fa6e_bc11_11e9_b0ce_4c3275917579row17_col1 {\n",
       "            background-color:  #fff6e5;\n",
       "        }    #T_23e7fa6e_bc11_11e9_b0ce_4c3275917579row18_col0 {\n",
       "            background-color:  #fff6e5;\n",
       "        }    #T_23e7fa6e_bc11_11e9_b0ce_4c3275917579row18_col1 {\n",
       "            background-color:  #fff6e5;\n",
       "        }    #T_23e7fa6e_bc11_11e9_b0ce_4c3275917579row19_col0 {\n",
       "            background-color:  #fff6e5;\n",
       "        }    #T_23e7fa6e_bc11_11e9_b0ce_4c3275917579row19_col1 {\n",
       "            background-color:  #fff6e5;\n",
       "        }    #T_23e7fa6e_bc11_11e9_b0ce_4c3275917579row20_col0 {\n",
       "            background-color:  #fff6e5;\n",
       "        }    #T_23e7fa6e_bc11_11e9_b0ce_4c3275917579row20_col1 {\n",
       "            background-color:  #fff6e5;\n",
       "        }    #T_23e7fa6e_bc11_11e9_b0ce_4c3275917579row21_col0 {\n",
       "            background-color:  #fff6e5;\n",
       "        }    #T_23e7fa6e_bc11_11e9_b0ce_4c3275917579row21_col1 {\n",
       "            background-color:  #fff6e5;\n",
       "        }    #T_23e7fa6e_bc11_11e9_b0ce_4c3275917579row22_col0 {\n",
       "            background-color:  #fff6e5;\n",
       "        }    #T_23e7fa6e_bc11_11e9_b0ce_4c3275917579row22_col1 {\n",
       "            background-color:  #fff6e5;\n",
       "        }    #T_23e7fa6e_bc11_11e9_b0ce_4c3275917579row23_col0 {\n",
       "            background-color:  #fff6e5;\n",
       "        }    #T_23e7fa6e_bc11_11e9_b0ce_4c3275917579row23_col1 {\n",
       "            background-color:  #fff6e5;\n",
       "        }</style>  \n",
       "<table id=\"T_23e7fa6e_bc11_11e9_b0ce_4c3275917579\" > \n",
       "<thead>    <tr> \n",
       "        <th class=\"blank level0\" ></th> \n",
       "        <th class=\"col_heading level0 col0\" >Total Nulls</th> \n",
       "        <th class=\"col_heading level0 col1\" >Nulls Percentage</th> \n",
       "    </tr></thead> \n",
       "<tbody>    <tr> \n",
       "        <th id=\"T_23e7fa6e_bc11_11e9_b0ce_4c3275917579level0_row0\" class=\"row_heading level0 row0\" >total_rech_data_6</th> \n",
       "        <td id=\"T_23e7fa6e_bc11_11e9_b0ce_4c3275917579row0_col0\" class=\"data row0 col0\" >74846</td> \n",
       "        <td id=\"T_23e7fa6e_bc11_11e9_b0ce_4c3275917579row0_col1\" class=\"data row0 col1\" >74.85</td> \n",
       "    </tr>    <tr> \n",
       "        <th id=\"T_23e7fa6e_bc11_11e9_b0ce_4c3275917579level0_row1\" class=\"row_heading level0 row1\" >av_rech_amt_data_6</th> \n",
       "        <td id=\"T_23e7fa6e_bc11_11e9_b0ce_4c3275917579row1_col0\" class=\"data row1 col0\" >74846</td> \n",
       "        <td id=\"T_23e7fa6e_bc11_11e9_b0ce_4c3275917579row1_col1\" class=\"data row1 col1\" >74.85</td> \n",
       "    </tr>    <tr> \n",
       "        <th id=\"T_23e7fa6e_bc11_11e9_b0ce_4c3275917579level0_row2\" class=\"row_heading level0 row2\" >max_rech_data_6</th> \n",
       "        <td id=\"T_23e7fa6e_bc11_11e9_b0ce_4c3275917579row2_col0\" class=\"data row2 col0\" >74846</td> \n",
       "        <td id=\"T_23e7fa6e_bc11_11e9_b0ce_4c3275917579row2_col1\" class=\"data row2 col1\" >74.85</td> \n",
       "    </tr>    <tr> \n",
       "        <th id=\"T_23e7fa6e_bc11_11e9_b0ce_4c3275917579level0_row3\" class=\"row_heading level0 row3\" >date_of_last_rech_data_6</th> \n",
       "        <td id=\"T_23e7fa6e_bc11_11e9_b0ce_4c3275917579row3_col0\" class=\"data row3 col0\" >74846</td> \n",
       "        <td id=\"T_23e7fa6e_bc11_11e9_b0ce_4c3275917579row3_col1\" class=\"data row3 col1\" >74.85</td> \n",
       "    </tr>    <tr> \n",
       "        <th id=\"T_23e7fa6e_bc11_11e9_b0ce_4c3275917579level0_row4\" class=\"row_heading level0 row4\" >av_rech_amt_data_7</th> \n",
       "        <td id=\"T_23e7fa6e_bc11_11e9_b0ce_4c3275917579row4_col0\" class=\"data row4 col0\" >74428</td> \n",
       "        <td id=\"T_23e7fa6e_bc11_11e9_b0ce_4c3275917579row4_col1\" class=\"data row4 col1\" >74.43</td> \n",
       "    </tr>    <tr> \n",
       "        <th id=\"T_23e7fa6e_bc11_11e9_b0ce_4c3275917579level0_row5\" class=\"row_heading level0 row5\" >max_rech_data_7</th> \n",
       "        <td id=\"T_23e7fa6e_bc11_11e9_b0ce_4c3275917579row5_col0\" class=\"data row5 col0\" >74428</td> \n",
       "        <td id=\"T_23e7fa6e_bc11_11e9_b0ce_4c3275917579row5_col1\" class=\"data row5 col1\" >74.43</td> \n",
       "    </tr>    <tr> \n",
       "        <th id=\"T_23e7fa6e_bc11_11e9_b0ce_4c3275917579level0_row6\" class=\"row_heading level0 row6\" >date_of_last_rech_data_7</th> \n",
       "        <td id=\"T_23e7fa6e_bc11_11e9_b0ce_4c3275917579row6_col0\" class=\"data row6 col0\" >74428</td> \n",
       "        <td id=\"T_23e7fa6e_bc11_11e9_b0ce_4c3275917579row6_col1\" class=\"data row6 col1\" >74.43</td> \n",
       "    </tr>    <tr> \n",
       "        <th id=\"T_23e7fa6e_bc11_11e9_b0ce_4c3275917579level0_row7\" class=\"row_heading level0 row7\" >total_rech_data_7</th> \n",
       "        <td id=\"T_23e7fa6e_bc11_11e9_b0ce_4c3275917579row7_col0\" class=\"data row7 col0\" >74428</td> \n",
       "        <td id=\"T_23e7fa6e_bc11_11e9_b0ce_4c3275917579row7_col1\" class=\"data row7 col1\" >74.43</td> \n",
       "    </tr>    <tr> \n",
       "        <th id=\"T_23e7fa6e_bc11_11e9_b0ce_4c3275917579level0_row8\" class=\"row_heading level0 row8\" >date_of_last_rech_data_9</th> \n",
       "        <td id=\"T_23e7fa6e_bc11_11e9_b0ce_4c3275917579row8_col0\" class=\"data row8 col0\" >74077</td> \n",
       "        <td id=\"T_23e7fa6e_bc11_11e9_b0ce_4c3275917579row8_col1\" class=\"data row8 col1\" >74.08</td> \n",
       "    </tr>    <tr> \n",
       "        <th id=\"T_23e7fa6e_bc11_11e9_b0ce_4c3275917579level0_row9\" class=\"row_heading level0 row9\" >max_rech_data_9</th> \n",
       "        <td id=\"T_23e7fa6e_bc11_11e9_b0ce_4c3275917579row9_col0\" class=\"data row9 col0\" >74077</td> \n",
       "        <td id=\"T_23e7fa6e_bc11_11e9_b0ce_4c3275917579row9_col1\" class=\"data row9 col1\" >74.08</td> \n",
       "    </tr>    <tr> \n",
       "        <th id=\"T_23e7fa6e_bc11_11e9_b0ce_4c3275917579level0_row10\" class=\"row_heading level0 row10\" >total_rech_data_9</th> \n",
       "        <td id=\"T_23e7fa6e_bc11_11e9_b0ce_4c3275917579row10_col0\" class=\"data row10 col0\" >74077</td> \n",
       "        <td id=\"T_23e7fa6e_bc11_11e9_b0ce_4c3275917579row10_col1\" class=\"data row10 col1\" >74.08</td> \n",
       "    </tr>    <tr> \n",
       "        <th id=\"T_23e7fa6e_bc11_11e9_b0ce_4c3275917579level0_row11\" class=\"row_heading level0 row11\" >av_rech_amt_data_9</th> \n",
       "        <td id=\"T_23e7fa6e_bc11_11e9_b0ce_4c3275917579row11_col0\" class=\"data row11 col0\" >74077</td> \n",
       "        <td id=\"T_23e7fa6e_bc11_11e9_b0ce_4c3275917579row11_col1\" class=\"data row11 col1\" >74.08</td> \n",
       "    </tr>    <tr> \n",
       "        <th id=\"T_23e7fa6e_bc11_11e9_b0ce_4c3275917579level0_row12\" class=\"row_heading level0 row12\" >date_of_last_rech_data_8</th> \n",
       "        <td id=\"T_23e7fa6e_bc11_11e9_b0ce_4c3275917579row12_col0\" class=\"data row12 col0\" >73660</td> \n",
       "        <td id=\"T_23e7fa6e_bc11_11e9_b0ce_4c3275917579row12_col1\" class=\"data row12 col1\" >73.66</td> \n",
       "    </tr>    <tr> \n",
       "        <th id=\"T_23e7fa6e_bc11_11e9_b0ce_4c3275917579level0_row13\" class=\"row_heading level0 row13\" >total_rech_data_8</th> \n",
       "        <td id=\"T_23e7fa6e_bc11_11e9_b0ce_4c3275917579row13_col0\" class=\"data row13 col0\" >73660</td> \n",
       "        <td id=\"T_23e7fa6e_bc11_11e9_b0ce_4c3275917579row13_col1\" class=\"data row13 col1\" >73.66</td> \n",
       "    </tr>    <tr> \n",
       "        <th id=\"T_23e7fa6e_bc11_11e9_b0ce_4c3275917579level0_row14\" class=\"row_heading level0 row14\" >max_rech_data_8</th> \n",
       "        <td id=\"T_23e7fa6e_bc11_11e9_b0ce_4c3275917579row14_col0\" class=\"data row14 col0\" >73660</td> \n",
       "        <td id=\"T_23e7fa6e_bc11_11e9_b0ce_4c3275917579row14_col1\" class=\"data row14 col1\" >73.66</td> \n",
       "    </tr>    <tr> \n",
       "        <th id=\"T_23e7fa6e_bc11_11e9_b0ce_4c3275917579level0_row15\" class=\"row_heading level0 row15\" >av_rech_amt_data_8</th> \n",
       "        <td id=\"T_23e7fa6e_bc11_11e9_b0ce_4c3275917579row15_col0\" class=\"data row15 col0\" >73660</td> \n",
       "        <td id=\"T_23e7fa6e_bc11_11e9_b0ce_4c3275917579row15_col1\" class=\"data row15 col1\" >73.66</td> \n",
       "    </tr>    <tr> \n",
       "        <th id=\"T_23e7fa6e_bc11_11e9_b0ce_4c3275917579level0_row16\" class=\"row_heading level0 row16\" >total_rech_amt_7</th> \n",
       "        <td id=\"T_23e7fa6e_bc11_11e9_b0ce_4c3275917579row16_col0\" class=\"data row16 col0\" >0</td> \n",
       "        <td id=\"T_23e7fa6e_bc11_11e9_b0ce_4c3275917579row16_col1\" class=\"data row16 col1\" >0</td> \n",
       "    </tr>    <tr> \n",
       "        <th id=\"T_23e7fa6e_bc11_11e9_b0ce_4c3275917579level0_row17\" class=\"row_heading level0 row17\" >max_rech_amt_9</th> \n",
       "        <td id=\"T_23e7fa6e_bc11_11e9_b0ce_4c3275917579row17_col0\" class=\"data row17 col0\" >0</td> \n",
       "        <td id=\"T_23e7fa6e_bc11_11e9_b0ce_4c3275917579row17_col1\" class=\"data row17 col1\" >0</td> \n",
       "    </tr>    <tr> \n",
       "        <th id=\"T_23e7fa6e_bc11_11e9_b0ce_4c3275917579level0_row18\" class=\"row_heading level0 row18\" >max_rech_amt_8</th> \n",
       "        <td id=\"T_23e7fa6e_bc11_11e9_b0ce_4c3275917579row18_col0\" class=\"data row18 col0\" >0</td> \n",
       "        <td id=\"T_23e7fa6e_bc11_11e9_b0ce_4c3275917579row18_col1\" class=\"data row18 col1\" >0</td> \n",
       "    </tr>    <tr> \n",
       "        <th id=\"T_23e7fa6e_bc11_11e9_b0ce_4c3275917579level0_row19\" class=\"row_heading level0 row19\" >max_rech_amt_7</th> \n",
       "        <td id=\"T_23e7fa6e_bc11_11e9_b0ce_4c3275917579row19_col0\" class=\"data row19 col0\" >0</td> \n",
       "        <td id=\"T_23e7fa6e_bc11_11e9_b0ce_4c3275917579row19_col1\" class=\"data row19 col1\" >0</td> \n",
       "    </tr>    <tr> \n",
       "        <th id=\"T_23e7fa6e_bc11_11e9_b0ce_4c3275917579level0_row20\" class=\"row_heading level0 row20\" >max_rech_amt_6</th> \n",
       "        <td id=\"T_23e7fa6e_bc11_11e9_b0ce_4c3275917579row20_col0\" class=\"data row20 col0\" >0</td> \n",
       "        <td id=\"T_23e7fa6e_bc11_11e9_b0ce_4c3275917579row20_col1\" class=\"data row20 col1\" >0</td> \n",
       "    </tr>    <tr> \n",
       "        <th id=\"T_23e7fa6e_bc11_11e9_b0ce_4c3275917579level0_row21\" class=\"row_heading level0 row21\" >total_rech_amt_9</th> \n",
       "        <td id=\"T_23e7fa6e_bc11_11e9_b0ce_4c3275917579row21_col0\" class=\"data row21 col0\" >0</td> \n",
       "        <td id=\"T_23e7fa6e_bc11_11e9_b0ce_4c3275917579row21_col1\" class=\"data row21 col1\" >0</td> \n",
       "    </tr>    <tr> \n",
       "        <th id=\"T_23e7fa6e_bc11_11e9_b0ce_4c3275917579level0_row22\" class=\"row_heading level0 row22\" >total_rech_amt_8</th> \n",
       "        <td id=\"T_23e7fa6e_bc11_11e9_b0ce_4c3275917579row22_col0\" class=\"data row22 col0\" >0</td> \n",
       "        <td id=\"T_23e7fa6e_bc11_11e9_b0ce_4c3275917579row22_col1\" class=\"data row22 col1\" >0</td> \n",
       "    </tr>    <tr> \n",
       "        <th id=\"T_23e7fa6e_bc11_11e9_b0ce_4c3275917579level0_row23\" class=\"row_heading level0 row23\" >total_rech_amt_6</th> \n",
       "        <td id=\"T_23e7fa6e_bc11_11e9_b0ce_4c3275917579row23_col0\" class=\"data row23 col0\" >0</td> \n",
       "        <td id=\"T_23e7fa6e_bc11_11e9_b0ce_4c3275917579row23_col1\" class=\"data row23 col1\" >0</td> \n",
       "    </tr></tbody> \n",
       "</table> "
      ],
      "text/plain": [
       "<pandas.io.formats.style.Styler at 0x1a1a31acf8>"
      ]
     },
     "execution_count": 278,
     "metadata": {},
     "output_type": "execute_result"
    }
   ],
   "source": [
    "# let us check if there are any missing values for recharge amount\n",
    "get_nulls_report(telecom_data[recharge_amnt_columns])"
   ]
  },
  {
   "cell_type": "markdown",
   "metadata": {},
   "source": [
    "INFO - \n",
    "  - Obsrervation is **74-75%** of data is missing or null in all the 5 category mentioned above"
   ]
  },
  {
   "cell_type": "code",
   "execution_count": 279,
   "metadata": {},
   "outputs": [
    {
     "data": {
      "text/html": [
       "<div>\n",
       "<style>\n",
       "    .dataframe thead tr:only-child th {\n",
       "        text-align: right;\n",
       "    }\n",
       "\n",
       "    .dataframe thead th {\n",
       "        text-align: left;\n",
       "    }\n",
       "\n",
       "    .dataframe tbody tr th {\n",
       "        vertical-align: top;\n",
       "    }\n",
       "</style>\n",
       "<table border=\"1\" class=\"dataframe\">\n",
       "  <thead>\n",
       "    <tr style=\"text-align: right;\">\n",
       "      <th></th>\n",
       "      <th>total_rech_amt_6</th>\n",
       "      <th>max_rech_amt_6</th>\n",
       "      <th>total_rech_data_6</th>\n",
       "      <th>max_rech_data_6</th>\n",
       "      <th>av_rech_amt_data_6</th>\n",
       "    </tr>\n",
       "  </thead>\n",
       "  <tbody>\n",
       "    <tr>\n",
       "      <th>count</th>\n",
       "      <td>99999.000000</td>\n",
       "      <td>99999.000000</td>\n",
       "      <td>25153.000000</td>\n",
       "      <td>25153.000000</td>\n",
       "      <td>25153.000000</td>\n",
       "    </tr>\n",
       "    <tr>\n",
       "      <th>mean</th>\n",
       "      <td>327.514615</td>\n",
       "      <td>104.637486</td>\n",
       "      <td>2.463802</td>\n",
       "      <td>126.393392</td>\n",
       "      <td>192.600982</td>\n",
       "    </tr>\n",
       "    <tr>\n",
       "      <th>std</th>\n",
       "      <td>398.019701</td>\n",
       "      <td>120.614894</td>\n",
       "      <td>2.789128</td>\n",
       "      <td>108.477235</td>\n",
       "      <td>192.646318</td>\n",
       "    </tr>\n",
       "    <tr>\n",
       "      <th>min</th>\n",
       "      <td>0.000000</td>\n",
       "      <td>0.000000</td>\n",
       "      <td>1.000000</td>\n",
       "      <td>1.000000</td>\n",
       "      <td>1.000000</td>\n",
       "    </tr>\n",
       "    <tr>\n",
       "      <th>25%</th>\n",
       "      <td>109.000000</td>\n",
       "      <td>30.000000</td>\n",
       "      <td>1.000000</td>\n",
       "      <td>25.000000</td>\n",
       "      <td>82.000000</td>\n",
       "    </tr>\n",
       "    <tr>\n",
       "      <th>50%</th>\n",
       "      <td>230.000000</td>\n",
       "      <td>110.000000</td>\n",
       "      <td>1.000000</td>\n",
       "      <td>145.000000</td>\n",
       "      <td>154.000000</td>\n",
       "    </tr>\n",
       "    <tr>\n",
       "      <th>75%</th>\n",
       "      <td>437.500000</td>\n",
       "      <td>120.000000</td>\n",
       "      <td>3.000000</td>\n",
       "      <td>177.000000</td>\n",
       "      <td>252.000000</td>\n",
       "    </tr>\n",
       "    <tr>\n",
       "      <th>max</th>\n",
       "      <td>35190.000000</td>\n",
       "      <td>4010.000000</td>\n",
       "      <td>61.000000</td>\n",
       "      <td>1555.000000</td>\n",
       "      <td>7546.000000</td>\n",
       "    </tr>\n",
       "  </tbody>\n",
       "</table>\n",
       "</div>"
      ],
      "text/plain": [
       "       total_rech_amt_6  max_rech_amt_6  total_rech_data_6  max_rech_data_6  \\\n",
       "count      99999.000000    99999.000000       25153.000000     25153.000000   \n",
       "mean         327.514615      104.637486           2.463802       126.393392   \n",
       "std          398.019701      120.614894           2.789128       108.477235   \n",
       "min            0.000000        0.000000           1.000000         1.000000   \n",
       "25%          109.000000       30.000000           1.000000        25.000000   \n",
       "50%          230.000000      110.000000           1.000000       145.000000   \n",
       "75%          437.500000      120.000000           3.000000       177.000000   \n",
       "max        35190.000000     4010.000000          61.000000      1555.000000   \n",
       "\n",
       "       av_rech_amt_data_6  \n",
       "count        25153.000000  \n",
       "mean           192.600982  \n",
       "std            192.646318  \n",
       "min              1.000000  \n",
       "25%             82.000000  \n",
       "50%            154.000000  \n",
       "75%            252.000000  \n",
       "max           7546.000000  "
      ]
     },
     "execution_count": 279,
     "metadata": {},
     "output_type": "execute_result"
    }
   ],
   "source": [
    "recharge_amnt_columns_6 = telecom_data.columns[telecom_data.columns.str.contains('rech_amt_6|rech_data_6|rech_amt_data_6')]\n",
    "\n",
    "telecom_data.loc[:,recharge_amnt_columns_6].describe()"
   ]
  },
  {
   "cell_type": "markdown",
   "metadata": {},
   "source": [
    "We can see that total_rech_data has discrete values and the non NA values for total_rech_data and av_rech_amt_data is the same, thus we can find out the total recharge amount for data from the two."
   ]
  },
  {
   "cell_type": "code",
   "execution_count": 280,
   "metadata": {},
   "outputs": [
    {
     "name": "stdout",
     "output_type": "stream",
     "text": [
      "Total Recharge Data 6 Nulls are - 0.0\n",
      "Total Recharge Data 7 Nulls are - 0.0\n",
      "Total Recharge Data 8 Nulls are - 0.0\n",
      "Avg Recharge amt 6 Nulls are - 0.0\n",
      "Avg Recharge amt 7 Nulls are - 0.0\n",
      "Avg Recharge amt 8 Nulls are - 0.0\n"
     ]
    }
   ],
   "source": [
    "# Checking the total_rech_data is NA/null and value is present for av_rech_amt_data and vice versa\n",
    "# check how many av_rech_amt_data_6 is NA\n",
    "null_data_6 = telecom_data['total_rech_data_6'].isnull()\n",
    "null_data_7 = telecom_data['total_rech_data_7'].isnull()\n",
    "null_data_8 = telecom_data['total_rech_data_8'].isnull()\n",
    "\n",
    "# check if any value is present for these rows for total_rech_data_x\n",
    "print(\"Total Recharge Data 6 Nulls are -\",telecom_data.loc[null_data_6,'total_rech_data_6'].sum())\n",
    "print(\"Total Recharge Data 7 Nulls are -\",telecom_data.loc[null_data_7,'total_rech_data_7'].sum())\n",
    "print(\"Total Recharge Data 8 Nulls are -\",telecom_data.loc[null_data_8,'total_rech_data_8'].sum())\n",
    "\n",
    "# check if any value is present for these rows for av_rech_amt_data_x\n",
    "print(\"Avg Recharge amt 6 Nulls are -\",telecom_data.loc[null_data_6,'av_rech_amt_data_6'].sum())\n",
    "print(\"Avg Recharge amt 7 Nulls are -\",telecom_data.loc[null_data_7,'av_rech_amt_data_7'].sum())\n",
    "print(\"Avg Recharge amt 8 Nulls are -\",telecom_data.loc[null_data_8,'av_rech_amt_data_8'].sum())"
   ]
  },
  {
   "cell_type": "markdown",
   "metadata": {},
   "source": [
    "INFO - The observation is ,if the total_rech_data is null , then the avg_rech_amt is also null\n",
    "     - The above is true for Vice Versa\n",
    "     - We are good to impute 0 for all the above records , as this means no recharge"
   ]
  },
  {
   "cell_type": "code",
   "execution_count": 281,
   "metadata": {},
   "outputs": [],
   "source": [
    "telecom_data[['total_rech_data_6','total_rech_data_7','total_rech_data_8']]=telecom_data[['total_rech_data_6','total_rech_data_7','total_rech_data_8']].fillna(0)\n",
    "telecom_data[['av_rech_amt_data_6','av_rech_amt_data_7','av_rech_amt_data_8']]=telecom_data[['av_rech_amt_data_6','av_rech_amt_data_7','av_rech_amt_data_8']].fillna(0)"
   ]
  },
  {
   "cell_type": "code",
   "execution_count": 282,
   "metadata": {},
   "outputs": [],
   "source": [
    "# New derived variable total recharge amount for data: av_rech_amt_data_x*total_rech_data_x\n",
    "telecom_data['total_rech_amt_data_6'] = telecom_data.av_rech_amt_data_6*telecom_data.total_rech_data_6\n",
    "telecom_data['total_rech_amt_data_7'] = telecom_data.av_rech_amt_data_7*telecom_data.total_rech_data_7\n",
    "telecom_data['total_rech_amt_data_8'] = telecom_data.av_rech_amt_data_8*telecom_data.total_rech_data_8"
   ]
  },
  {
   "cell_type": "markdown",
   "metadata": {},
   "source": [
    "##### New Derived Variable \n",
    "- total_avg_rech_amnt_good_ph : We will define total average recharge amount for good phase as the average of total recharge amount and total recharge amount for data for months 6 and 7 (good phase months)."
   ]
  },
  {
   "cell_type": "code",
   "execution_count": 283,
   "metadata": {},
   "outputs": [],
   "source": [
    "telecom_data['total_avg_rech_amnt_good_ph'] = (telecom_data.total_rech_amt_6 +telecom_data.total_rech_amt_data_6 \\\n",
    "                                               + telecom_data.total_rech_amt_7+telecom_data.total_rech_amt_data_7)/4"
   ]
  },
  {
   "cell_type": "markdown",
   "metadata": {},
   "source": [
    "#### Criteria to Filter High Value Customers####\n",
    "- Those people who have total average recharge amount for good phase greater than the 70th percentile value."
   ]
  },
  {
   "cell_type": "code",
   "execution_count": 284,
   "metadata": {},
   "outputs": [],
   "source": [
    "high_value_filter = telecom_data.total_avg_rech_amnt_good_ph >= telecom_data.total_avg_rech_amnt_good_ph.quantile(0.7)"
   ]
  },
  {
   "cell_type": "code",
   "execution_count": 285,
   "metadata": {},
   "outputs": [],
   "source": [
    "# Update the Dataframe with only High Value Customers\n",
    "telecom_data = telecom_data.loc[high_value_filter,:]"
   ]
  },
  {
   "cell_type": "code",
   "execution_count": 286,
   "metadata": {},
   "outputs": [
    {
     "data": {
      "text/plain": [
       "30001"
      ]
     },
     "execution_count": 286,
     "metadata": {},
     "output_type": "execute_result"
    }
   ],
   "source": [
    "# Total High Value Customers after filtering the data are\n",
    "len(telecom_data.index)"
   ]
  },
  {
   "cell_type": "markdown",
   "metadata": {},
   "source": [
    "#### creating labels for churned customers."
   ]
  },
  {
   "cell_type": "code",
   "execution_count": 287,
   "metadata": {},
   "outputs": [],
   "source": [
    "# Now let us label the churned customers\n",
    "# define a new column in data frame as 'churn' with value as 1 if customer has churned and 0 if customer has not churned\n",
    "# Initially set all the values as 0\n",
    "telecom_data['churn']= 0"
   ]
  },
  {
   "cell_type": "code",
   "execution_count": 288,
   "metadata": {},
   "outputs": [
    {
     "data": {
      "text/plain": [
       "total_ic_mou_9    0.0\n",
       "total_ic_mou_9    0.0\n",
       "vol_2g_mb_9       0.0\n",
       "vol_3g_mb_9       0.0\n",
       "dtype: float64"
      ]
     },
     "execution_count": 288,
     "metadata": {},
     "output_type": "execute_result"
    }
   ],
   "source": [
    "# the following columns will be used to find the churned customers in the 9th month \n",
    "# total_ic_mou_9, total_ic_mou_9, vol_2g_mb_9 and vol_3g_mb_9\n",
    "# let's check if any NA/Null values are present\n",
    "ls_9 = ['total_ic_mou_9', 'total_ic_mou_9', 'vol_2g_mb_9','vol_3g_mb_9']\n",
    "100*telecom_data.loc[:,ls_9].isnull().sum()/len(telecom_data)"
   ]
  },
  {
   "cell_type": "code",
   "execution_count": 289,
   "metadata": {},
   "outputs": [],
   "source": [
    "# define is_churned boolean flag for customers where above values are zero\n",
    "is_churned = (telecom_data.total_ic_mou_9 == 0) & (telecom_data.total_ic_mou_9 == 0) & (telecom_data.vol_2g_mb_9 ==0)& \\\n",
    "(telecom_data.vol_3g_mb_9 ==0)"
   ]
  },
  {
   "cell_type": "code",
   "execution_count": 290,
   "metadata": {},
   "outputs": [],
   "source": [
    "# set all such rows fulfilling is_churned condition as 1\n",
    "telecom_data.loc[is_churned,'churn']=1"
   ]
  },
  {
   "cell_type": "code",
   "execution_count": 291,
   "metadata": {},
   "outputs": [
    {
     "data": {
      "text/plain": [
       "8.406386453784874"
      ]
     },
     "execution_count": 291,
     "metadata": {},
     "output_type": "execute_result"
    }
   ],
   "source": [
    "# let us check what's the % of churned customers\n",
    "100*telecom_data.churn.sum()/len(is_churned)"
   ]
  },
  {
   "cell_type": "markdown",
   "metadata": {},
   "source": [
    "INFO \n",
    " - We see that approx. 8.4% of high value customers have churned"
   ]
  },
  {
   "cell_type": "code",
   "execution_count": 292,
   "metadata": {},
   "outputs": [],
   "source": [
    "# let's extract all list of 9th Month (churned month) Columns\n",
    "month_9_columns =  telecom_data.columns[telecom_data.columns.str.contains('_9')]"
   ]
  },
  {
   "cell_type": "code",
   "execution_count": 293,
   "metadata": {},
   "outputs": [],
   "source": [
    "# drop all columns corresponding to the attributes of churn phase\n",
    "telecom_data.drop(month_9_columns,axis=1,inplace=True)"
   ]
  },
  {
   "cell_type": "code",
   "execution_count": 294,
   "metadata": {},
   "outputs": [
    {
     "name": "stdout",
     "output_type": "stream",
     "text": [
      "<class 'pandas.core.frame.DataFrame'>\n",
      "Int64Index: 30001 entries, 0 to 99997\n",
      "Columns: 177 entries, mobile_number to churn\n",
      "dtypes: float64(140), int64(28), object(9)\n",
      "memory usage: 40.7+ MB\n"
     ]
    }
   ],
   "source": [
    "# let's check how many columns remain\n",
    "telecom_data.info()"
   ]
  },
  {
   "cell_type": "code",
   "execution_count": 295,
   "metadata": {},
   "outputs": [
    {
     "name": "stdout",
     "output_type": "stream",
     "text": [
      "<class 'pandas.core.frame.DataFrame'>\n",
      "Int64Index: 30001 entries, 0 to 99997\n",
      "Columns: 177 entries, mobile_number to churn\n",
      "dtypes: float64(140), int64(28), object(9)\n",
      "memory usage: 40.7+ MB\n"
     ]
    }
   ],
   "source": [
    "telecom_data.info()"
   ]
  },
  {
   "cell_type": "code",
   "execution_count": 296,
   "metadata": {},
   "outputs": [
    {
     "data": {
      "text/plain": [
       "mobile_number                   0.000000\n",
       "circle_id                       0.000000\n",
       "loc_og_t2o_mou                  0.746642\n",
       "std_og_t2o_mou                  0.746642\n",
       "loc_ic_t2o_mou                  0.746642\n",
       "last_date_of_month_6            0.000000\n",
       "last_date_of_month_7            0.089997\n",
       "last_date_of_month_8            0.549982\n",
       "arpu_6                          0.000000\n",
       "arpu_7                          0.000000\n",
       "arpu_8                          0.000000\n",
       "onnet_mou_6                     1.816606\n",
       "onnet_mou_7                     1.789940\n",
       "onnet_mou_8                     3.913203\n",
       "offnet_mou_6                    1.816606\n",
       "offnet_mou_7                    1.789940\n",
       "offnet_mou_8                    3.913203\n",
       "roam_ic_mou_6                   1.816606\n",
       "roam_ic_mou_7                   1.789940\n",
       "roam_ic_mou_8                   3.913203\n",
       "roam_og_mou_6                   1.816606\n",
       "roam_og_mou_7                   1.789940\n",
       "roam_og_mou_8                   3.913203\n",
       "loc_og_t2t_mou_6                1.816606\n",
       "loc_og_t2t_mou_7                1.789940\n",
       "loc_og_t2t_mou_8                3.913203\n",
       "loc_og_t2m_mou_6                1.816606\n",
       "loc_og_t2m_mou_7                1.789940\n",
       "loc_og_t2m_mou_8                3.913203\n",
       "loc_og_t2f_mou_6                1.816606\n",
       "                                 ...    \n",
       "arpu_2g_7                      43.145228\n",
       "arpu_2g_8                      46.825106\n",
       "night_pck_user_6               44.148528\n",
       "night_pck_user_7               43.145228\n",
       "night_pck_user_8               46.825106\n",
       "monthly_2g_6                    0.000000\n",
       "monthly_2g_7                    0.000000\n",
       "monthly_2g_8                    0.000000\n",
       "sachet_2g_6                     0.000000\n",
       "sachet_2g_7                     0.000000\n",
       "sachet_2g_8                     0.000000\n",
       "monthly_3g_6                    0.000000\n",
       "monthly_3g_7                    0.000000\n",
       "monthly_3g_8                    0.000000\n",
       "sachet_3g_6                     0.000000\n",
       "sachet_3g_7                     0.000000\n",
       "sachet_3g_8                     0.000000\n",
       "fb_user_6                      44.148528\n",
       "fb_user_7                      43.145228\n",
       "fb_user_8                      46.825106\n",
       "aon                             0.000000\n",
       "aug_vbc_3g                      0.000000\n",
       "jul_vbc_3g                      0.000000\n",
       "jun_vbc_3g                      0.000000\n",
       "sep_vbc_3g                      0.000000\n",
       "total_rech_amt_data_6           0.000000\n",
       "total_rech_amt_data_7           0.000000\n",
       "total_rech_amt_data_8           0.000000\n",
       "total_avg_rech_amnt_good_ph     0.000000\n",
       "churn                           0.000000\n",
       "Length: 177, dtype: float64"
      ]
     },
     "execution_count": 296,
     "metadata": {},
     "output_type": "execute_result"
    }
   ],
   "source": [
    "100*telecom_data.isnull().sum()/len(telecom_data.index)"
   ]
  },
  {
   "cell_type": "markdown",
   "metadata": {},
   "source": [
    "Let's create a function to **analyze_feature** across months 6,7 (good phase) and 8.This function will do the following:\n",
    "* create box plots to compare variable distribution across months 6,7 and 8 for churn and non-churn customers.\n",
    "* create summary of the mean and standard deviation of variable distribution across months 6,7 and 8 for churn and non-churn customers."
   ]
  },
  {
   "cell_type": "code",
   "execution_count": 297,
   "metadata": {},
   "outputs": [],
   "source": [
    "# create function to anlyze the features across 6th, 7th and 8th month\n",
    "def analyze_feature(feature_start):\n",
    "    sns.set_style(\"whitegrid\")\n",
    "    plt.rcParams[\"figure.figsize\"] = [17, 7]\n",
    "    fig = plt.figure()\n",
    "    print(\"Churn Stats (mean and standard deviation):\")\n",
    "    cols = {c: feature_start + \"_\" + str(c) for c in [6,7,8]}\n",
    "    print(cols)\n",
    "    frame_data = []\n",
    "    [frame_data.append({\n",
    "        \"mean_6\": telecom_data[telecom_data[\"churn\"] == churn][cols[6]].mean(),\n",
    "        \"mean_7\": telecom_data[telecom_data[\"churn\"] == churn][cols[7]].mean(),\n",
    "        \"mean_8\": telecom_data[telecom_data[\"churn\"] == churn][cols[8]].mean(),\n",
    "        \"std_6\": telecom_data[telecom_data[\"churn\"] == churn][cols[6]].std(),\n",
    "        \"std_7\": telecom_data[telecom_data[\"churn\"] == churn][cols[7]].std(),\n",
    "        \"std_8\": telecom_data[telecom_data[\"churn\"] == churn][cols[8]].std()\n",
    "    }) for churn in [0,1]]\n",
    "    \n",
    "    f,axes = plt.subplots(nrows=1, ncols=3)\n",
    "    sns.boxplot(data=telecom_data, y=feature_start + \"_6\", x=\"churn\",\n",
    "                hue=\"churn\", linewidth=2.5, showfliers=False, ax=axes[0], palette=\"BrBG\", color=\"skyblue\")\n",
    "    sns.boxplot(data=telecom_data, y=feature_start + \"_7\",  x=\"churn\",\n",
    "                hue=\"churn\", linewidth=2.5, showfliers=False, ax=axes[1], palette=\"BrBG\", color=\"skyblue\")\n",
    "    sns.boxplot(data=telecom_data, y=feature_start + \"_8\",  x=\"churn\",\n",
    "                hue=\"churn\", linewidth=2.5, showfliers=False, ax=axes[2], palette=\"BrBG\", color=\"skyblue\")\n",
    "    return pd.DataFrame(frame_data,index={\"Non Churned\",\"Churned\"}).round(2)"
   ]
  },
  {
   "cell_type": "markdown",
   "metadata": {},
   "source": [
    "#### recharge amount related variables"
   ]
  },
  {
   "cell_type": "code",
   "execution_count": 298,
   "metadata": {},
   "outputs": [
    {
     "data": {
      "text/plain": [
       "Index(['total_rech_amt_6', 'total_rech_amt_7', 'total_rech_amt_8',\n",
       "       'max_rech_amt_6', 'max_rech_amt_7', 'max_rech_amt_8',\n",
       "       'av_rech_amt_data_6', 'av_rech_amt_data_7', 'av_rech_amt_data_8',\n",
       "       'total_rech_amt_data_6', 'total_rech_amt_data_7',\n",
       "       'total_rech_amt_data_8'],\n",
       "      dtype='object')"
      ]
     },
     "execution_count": 298,
     "metadata": {},
     "output_type": "execute_result"
    }
   ],
   "source": [
    "#let's again extract the recharge amount related columns\n",
    "recharge_amnt_columns =  telecom_data.columns[telecom_data.columns.str.contains('rech_amt')]\n",
    "\n",
    "recharge_amnt_columns"
   ]
  },
  {
   "cell_type": "code",
   "execution_count": 299,
   "metadata": {},
   "outputs": [
    {
     "name": "stdout",
     "output_type": "stream",
     "text": [
      "Churn Stats (mean and standard deviation):\n",
      "{6: 'total_rech_amt_6', 7: 'total_rech_amt_7', 8: 'total_rech_amt_8'}\n"
     ]
    },
    {
     "data": {
      "text/html": [
       "<div>\n",
       "<style>\n",
       "    .dataframe thead tr:only-child th {\n",
       "        text-align: right;\n",
       "    }\n",
       "\n",
       "    .dataframe thead th {\n",
       "        text-align: left;\n",
       "    }\n",
       "\n",
       "    .dataframe tbody tr th {\n",
       "        vertical-align: top;\n",
       "    }\n",
       "</style>\n",
       "<table border=\"1\" class=\"dataframe\">\n",
       "  <thead>\n",
       "    <tr style=\"text-align: right;\">\n",
       "      <th></th>\n",
       "      <th>mean_6</th>\n",
       "      <th>mean_7</th>\n",
       "      <th>mean_8</th>\n",
       "      <th>std_6</th>\n",
       "      <th>std_7</th>\n",
       "      <th>std_8</th>\n",
       "    </tr>\n",
       "  </thead>\n",
       "  <tbody>\n",
       "    <tr>\n",
       "      <th>Churned</th>\n",
       "      <td>649.56</td>\n",
       "      <td>663.82</td>\n",
       "      <td>614.54</td>\n",
       "      <td>548.02</td>\n",
       "      <td>574.33</td>\n",
       "      <td>615.19</td>\n",
       "    </tr>\n",
       "    <tr>\n",
       "      <th>Non Churned</th>\n",
       "      <td>782.50</td>\n",
       "      <td>624.30</td>\n",
       "      <td>255.57</td>\n",
       "      <td>675.28</td>\n",
       "      <td>663.40</td>\n",
       "      <td>450.55</td>\n",
       "    </tr>\n",
       "  </tbody>\n",
       "</table>\n",
       "</div>"
      ],
      "text/plain": [
       "             mean_6  mean_7  mean_8   std_6   std_7   std_8\n",
       "Churned      649.56  663.82  614.54  548.02  574.33  615.19\n",
       "Non Churned  782.50  624.30  255.57  675.28  663.40  450.55"
      ]
     },
     "execution_count": 299,
     "metadata": {},
     "output_type": "execute_result"
    },
    {
     "data": {
      "text/plain": [
       "<matplotlib.figure.Figure at 0x1a1a716748>"
      ]
     },
     "metadata": {},
     "output_type": "display_data"
    },
    {
     "data": {
      "image/png": "[encoded data removed]",
      "text/plain": [
       "<matplotlib.figure.Figure at 0x1a1a716b38>"
      ]
     },
     "metadata": {},
     "output_type": "display_data"
    }
   ],
   "source": [
    "# let's analyze total recharge amount:\n",
    "analyze_feature('total_rech_amt')"
   ]
  },
  {
   "cell_type": "markdown",
   "metadata": {},
   "source": [
    "We do see a drop in the total recharge amount for churned customers."
   ]
  },
  {
   "cell_type": "code",
   "execution_count": 300,
   "metadata": {},
   "outputs": [
    {
     "name": "stdout",
     "output_type": "stream",
     "text": [
      "Churn Stats (mean and standard deviation):\n",
      "{6: 'total_rech_amt_data_6', 7: 'total_rech_amt_data_7', 8: 'total_rech_amt_data_8'}\n"
     ]
    },
    {
     "data": {
      "text/html": [
       "<div>\n",
       "<style>\n",
       "    .dataframe thead tr:only-child th {\n",
       "        text-align: right;\n",
       "    }\n",
       "\n",
       "    .dataframe thead th {\n",
       "        text-align: left;\n",
       "    }\n",
       "\n",
       "    .dataframe tbody tr th {\n",
       "        vertical-align: top;\n",
       "    }\n",
       "</style>\n",
       "<table border=\"1\" class=\"dataframe\">\n",
       "  <thead>\n",
       "    <tr style=\"text-align: right;\">\n",
       "      <th></th>\n",
       "      <th>mean_6</th>\n",
       "      <th>mean_7</th>\n",
       "      <th>mean_8</th>\n",
       "      <th>std_6</th>\n",
       "      <th>std_7</th>\n",
       "      <th>std_8</th>\n",
       "    </tr>\n",
       "  </thead>\n",
       "  <tbody>\n",
       "    <tr>\n",
       "      <th>Churned</th>\n",
       "      <td>460.70</td>\n",
       "      <td>545.73</td>\n",
       "      <td>498.19</td>\n",
       "      <td>1447.90</td>\n",
       "      <td>1500.10</td>\n",
       "      <td>1685.29</td>\n",
       "    </tr>\n",
       "    <tr>\n",
       "      <th>Non Churned</th>\n",
       "      <td>402.12</td>\n",
       "      <td>337.63</td>\n",
       "      <td>82.54</td>\n",
       "      <td>1047.33</td>\n",
       "      <td>1165.83</td>\n",
       "      <td>470.96</td>\n",
       "    </tr>\n",
       "  </tbody>\n",
       "</table>\n",
       "</div>"
      ],
      "text/plain": [
       "             mean_6  mean_7  mean_8    std_6    std_7    std_8\n",
       "Churned      460.70  545.73  498.19  1447.90  1500.10  1685.29\n",
       "Non Churned  402.12  337.63   82.54  1047.33  1165.83   470.96"
      ]
     },
     "execution_count": 300,
     "metadata": {},
     "output_type": "execute_result"
    },
    {
     "data": {
      "text/plain": [
       "<matplotlib.figure.Figure at 0x1a1ed977f0>"
      ]
     },
     "metadata": {},
     "output_type": "display_data"
    },
    {
     "data": {
      "image/png": "[encoded data removed]",
      "text/plain": [
       "<matplotlib.figure.Figure at 0x1a1a31aba8>"
      ]
     },
     "metadata": {},
     "output_type": "display_data"
    }
   ],
   "source": [
    "# let's analyze total recharge amount for data:\n",
    "analyze_feature('total_rech_amt_data')"
   ]
  },
  {
   "cell_type": "markdown",
   "metadata": {},
   "source": [
    "INFO \n",
    " - We see that there is a significant drop in total recharge amount for data in 8th month (action phase) for churned customers."
   ]
  },
  {
   "cell_type": "code",
   "execution_count": 301,
   "metadata": {},
   "outputs": [
    {
     "name": "stdout",
     "output_type": "stream",
     "text": [
      "Churn Stats (mean and standard deviation):\n",
      "{6: 'max_rech_amt_6', 7: 'max_rech_amt_7', 8: 'max_rech_amt_8'}\n"
     ]
    },
    {
     "data": {
      "text/html": [
       "<div>\n",
       "<style>\n",
       "    .dataframe thead tr:only-child th {\n",
       "        text-align: right;\n",
       "    }\n",
       "\n",
       "    .dataframe thead th {\n",
       "        text-align: left;\n",
       "    }\n",
       "\n",
       "    .dataframe tbody tr th {\n",
       "        vertical-align: top;\n",
       "    }\n",
       "</style>\n",
       "<table border=\"1\" class=\"dataframe\">\n",
       "  <thead>\n",
       "    <tr style=\"text-align: right;\">\n",
       "      <th></th>\n",
       "      <th>mean_6</th>\n",
       "      <th>mean_7</th>\n",
       "      <th>mean_8</th>\n",
       "      <th>std_6</th>\n",
       "      <th>std_7</th>\n",
       "      <th>std_8</th>\n",
       "    </tr>\n",
       "  </thead>\n",
       "  <tbody>\n",
       "    <tr>\n",
       "      <th>Churned</th>\n",
       "      <td>168.85</td>\n",
       "      <td>173.23</td>\n",
       "      <td>166.78</td>\n",
       "      <td>171.50</td>\n",
       "      <td>176.37</td>\n",
       "      <td>170.97</td>\n",
       "    </tr>\n",
       "    <tr>\n",
       "      <th>Non Churned</th>\n",
       "      <td>173.98</td>\n",
       "      <td>161.00</td>\n",
       "      <td>87.89</td>\n",
       "      <td>212.49</td>\n",
       "      <td>228.85</td>\n",
       "      <td>180.84</td>\n",
       "    </tr>\n",
       "  </tbody>\n",
       "</table>\n",
       "</div>"
      ],
      "text/plain": [
       "             mean_6  mean_7  mean_8   std_6   std_7   std_8\n",
       "Churned      168.85  173.23  166.78  171.50  176.37  170.97\n",
       "Non Churned  173.98  161.00   87.89  212.49  228.85  180.84"
      ]
     },
     "execution_count": 301,
     "metadata": {},
     "output_type": "execute_result"
    },
    {
     "data": {
      "text/plain": [
       "<matplotlib.figure.Figure at 0x117a07f98>"
      ]
     },
     "metadata": {},
     "output_type": "display_data"
    },
    {
     "data": {
      "image/png": "[encoded data removed]",
      "text/plain": [
       "<matplotlib.figure.Figure at 0x1a1ee0f9e8>"
      ]
     },
     "metadata": {},
     "output_type": "display_data"
    }
   ],
   "source": [
    "# let's analyze maximum recharge amount for data:\n",
    "analyze_feature('max_rech_amt')"
   ]
  },
  {
   "cell_type": "markdown",
   "metadata": {},
   "source": [
    "INFO \n",
    " - We observe drop in maximum recharge amount as well."
   ]
  },
  {
   "cell_type": "markdown",
   "metadata": {},
   "source": [
    "- As we have already derived total recharge amount for data using average recharge amount for data and total recharge for data let's drop these columns."
   ]
  },
  {
   "cell_type": "code",
   "execution_count": 302,
   "metadata": {},
   "outputs": [],
   "source": [
    "# drop av_rech_amt_data and total_rech_data columns as total_rech_amt_data derived using these columns.\n",
    "telecom_data.drop(['av_rech_amt_data_6','av_rech_amt_data_7'\n",
    "                   ,'av_rech_amt_data_8','total_rech_data_6','total_rech_data_7','total_rech_data_8'],axis=1,inplace=True)"
   ]
  },
  {
   "cell_type": "code",
   "execution_count": 303,
   "metadata": {},
   "outputs": [],
   "source": [
    "# Let us define 3 new derived columns\n",
    "# total recharge amount for good phase: total_rech_amt_good_ph\n",
    "# total recharge amount data for good phase: total_rech_amt_data_good_ph\n",
    "# max recharge amount for good phase: max_rech_amt_good_ph\n",
    "\n",
    "telecom_data['total_rech_amt_good_ph'] = (telecom_data.total_rech_amt_6 + telecom_data.total_rech_amt_7)/2\n",
    "telecom_data['total_rech_amt_data_good_ph'] = (telecom_data.total_rech_amt_data_6 + telecom_data.total_rech_amt_data_7)/2\n",
    "telecom_data['max_rech_amt_good_ph'] = (telecom_data.max_rech_amt_6 + telecom_data.max_rech_amt_7)/2\n",
    "\n",
    "# drop the original columns as these are not longer required\n",
    "telecom_data.drop(['total_rech_amt_6','total_rech_amt_7'\n",
    "              ,'max_rech_amt_6','max_rech_amt_7','total_rech_amt_data_6','total_rech_amt_data_7'],axis=1,inplace=True)\n",
    "\n",
    "# also drop total_avg_rech_amnt_good_ph as we are using the component columns defined above\n",
    "telecom_data.drop('total_avg_rech_amnt_good_ph',axis=1,inplace=True)"
   ]
  },
  {
   "cell_type": "markdown",
   "metadata": {},
   "source": [
    "#### last day recharge amount"
   ]
  },
  {
   "cell_type": "code",
   "execution_count": 304,
   "metadata": {},
   "outputs": [],
   "source": [
    "#let's extract the last day recharge amount columns\n",
    "last_day_rech_amt = telecom_data.columns[telecom_data.columns.str.contains('day')]"
   ]
  },
  {
   "cell_type": "code",
   "execution_count": 305,
   "metadata": {},
   "outputs": [
    {
     "name": "stdout",
     "output_type": "stream",
     "text": [
      "Churn Stats (mean and standard deviation):\n",
      "{6: 'last_day_rch_amt_6', 7: 'last_day_rch_amt_7', 8: 'last_day_rch_amt_8'}\n"
     ]
    },
    {
     "data": {
      "text/html": [
       "<div>\n",
       "<style>\n",
       "    .dataframe thead tr:only-child th {\n",
       "        text-align: right;\n",
       "    }\n",
       "\n",
       "    .dataframe thead th {\n",
       "        text-align: left;\n",
       "    }\n",
       "\n",
       "    .dataframe tbody tr th {\n",
       "        vertical-align: top;\n",
       "    }\n",
       "</style>\n",
       "<table border=\"1\" class=\"dataframe\">\n",
       "  <thead>\n",
       "    <tr style=\"text-align: right;\">\n",
       "      <th></th>\n",
       "      <th>mean_6</th>\n",
       "      <th>mean_7</th>\n",
       "      <th>mean_8</th>\n",
       "      <th>std_6</th>\n",
       "      <th>std_7</th>\n",
       "      <th>std_8</th>\n",
       "    </tr>\n",
       "  </thead>\n",
       "  <tbody>\n",
       "    <tr>\n",
       "      <th>Churned</th>\n",
       "      <td>100.36</td>\n",
       "      <td>102.08</td>\n",
       "      <td>97.35</td>\n",
       "      <td>140.19</td>\n",
       "      <td>138.95</td>\n",
       "      <td>145.09</td>\n",
       "    </tr>\n",
       "    <tr>\n",
       "      <th>Non Churned</th>\n",
       "      <td>106.67</td>\n",
       "      <td>81.52</td>\n",
       "      <td>38.43</td>\n",
       "      <td>177.76</td>\n",
       "      <td>159.67</td>\n",
       "      <td>134.92</td>\n",
       "    </tr>\n",
       "  </tbody>\n",
       "</table>\n",
       "</div>"
      ],
      "text/plain": [
       "             mean_6  mean_7  mean_8   std_6   std_7   std_8\n",
       "Churned      100.36  102.08   97.35  140.19  138.95  145.09\n",
       "Non Churned  106.67   81.52   38.43  177.76  159.67  134.92"
      ]
     },
     "execution_count": 305,
     "metadata": {},
     "output_type": "execute_result"
    },
    {
     "data": {
      "text/plain": [
       "<matplotlib.figure.Figure at 0x1a1e912d68>"
      ]
     },
     "metadata": {},
     "output_type": "display_data"
    },
    {
     "data": {
      "image/png": "[encoded data removed]",
      "text/plain": [
       "<matplotlib.figure.Figure at 0x1a1afbe898>"
      ]
     },
     "metadata": {},
     "output_type": "display_data"
    }
   ],
   "source": [
    "# let's check the mean variation in last day recharge for churned and non churned customers\n",
    "analyze_feature('last_day_rch_amt')"
   ]
  },
  {
   "cell_type": "markdown",
   "metadata": {},
   "source": [
    "INFO - We can see that there is a significant drop in last month recharge amount for churned customers."
   ]
  },
  {
   "cell_type": "code",
   "execution_count": 306,
   "metadata": {},
   "outputs": [],
   "source": [
    "# Let us define new derived column\n",
    "# last day recharge amount for good phase: last_day_rch_amt_good_ph\n",
    "telecom_data['last_day_rch_amt_good_ph'] = (telecom_data.last_day_rch_amt_6 + telecom_data.last_day_rch_amt_7)/2\n",
    "\n",
    "# drop the original columns as these are not longer required\n",
    "telecom_data.drop(['last_day_rch_amt_6','last_day_rch_amt_7'],axis=1,inplace=True)"
   ]
  },
  {
   "cell_type": "markdown",
   "metadata": {},
   "source": [
    "**Other recharge related variables**"
   ]
  },
  {
   "cell_type": "code",
   "execution_count": 307,
   "metadata": {},
   "outputs": [],
   "source": [
    "# Let's check other recharge related variables:\n",
    "ls_recharge = telecom_data.columns[telecom_data.columns.str.contains('rech_num|max_rech_data',regex=True)]"
   ]
  },
  {
   "cell_type": "code",
   "execution_count": 308,
   "metadata": {},
   "outputs": [
    {
     "data": {
      "text/plain": [
       "total_rech_num_6     0.000000\n",
       "total_rech_num_7     0.000000\n",
       "total_rech_num_8     0.000000\n",
       "max_rech_data_6     44.148528\n",
       "max_rech_data_7     43.145228\n",
       "max_rech_data_8     46.825106\n",
       "dtype: float64"
      ]
     },
     "execution_count": 308,
     "metadata": {},
     "output_type": "execute_result"
    }
   ],
   "source": [
    "# lets check the % of NA values for recharge related variables\n",
    "100*telecom_data.loc[:,ls_recharge].isnull().sum()/len(telecom_data)"
   ]
  },
  {
   "cell_type": "code",
   "execution_count": 309,
   "metadata": {},
   "outputs": [
    {
     "data": {
      "text/html": [
       "<div>\n",
       "<style>\n",
       "    .dataframe thead tr:only-child th {\n",
       "        text-align: right;\n",
       "    }\n",
       "\n",
       "    .dataframe thead th {\n",
       "        text-align: left;\n",
       "    }\n",
       "\n",
       "    .dataframe tbody tr th {\n",
       "        vertical-align: top;\n",
       "    }\n",
       "</style>\n",
       "<table border=\"1\" class=\"dataframe\">\n",
       "  <thead>\n",
       "    <tr style=\"text-align: right;\">\n",
       "      <th></th>\n",
       "      <th>max_rech_data_6</th>\n",
       "      <th>max_rech_data_7</th>\n",
       "      <th>max_rech_data_8</th>\n",
       "    </tr>\n",
       "  </thead>\n",
       "  <tbody>\n",
       "    <tr>\n",
       "      <th>count</th>\n",
       "      <td>16756.000000</td>\n",
       "      <td>17057.000000</td>\n",
       "      <td>15953.000000</td>\n",
       "    </tr>\n",
       "    <tr>\n",
       "      <th>mean</th>\n",
       "      <td>139.798580</td>\n",
       "      <td>140.431143</td>\n",
       "      <td>136.329217</td>\n",
       "    </tr>\n",
       "    <tr>\n",
       "      <th>std</th>\n",
       "      <td>118.851784</td>\n",
       "      <td>120.247247</td>\n",
       "      <td>119.531924</td>\n",
       "    </tr>\n",
       "    <tr>\n",
       "      <th>min</th>\n",
       "      <td>1.000000</td>\n",
       "      <td>1.000000</td>\n",
       "      <td>1.000000</td>\n",
       "    </tr>\n",
       "    <tr>\n",
       "      <th>25%</th>\n",
       "      <td>25.000000</td>\n",
       "      <td>25.000000</td>\n",
       "      <td>25.000000</td>\n",
       "    </tr>\n",
       "    <tr>\n",
       "      <th>50%</th>\n",
       "      <td>152.000000</td>\n",
       "      <td>152.000000</td>\n",
       "      <td>152.000000</td>\n",
       "    </tr>\n",
       "    <tr>\n",
       "      <th>75%</th>\n",
       "      <td>198.000000</td>\n",
       "      <td>198.000000</td>\n",
       "      <td>198.000000</td>\n",
       "    </tr>\n",
       "    <tr>\n",
       "      <th>max</th>\n",
       "      <td>1555.000000</td>\n",
       "      <td>1555.000000</td>\n",
       "      <td>1555.000000</td>\n",
       "    </tr>\n",
       "  </tbody>\n",
       "</table>\n",
       "</div>"
      ],
      "text/plain": [
       "       max_rech_data_6  max_rech_data_7  max_rech_data_8\n",
       "count     16756.000000     17057.000000     15953.000000\n",
       "mean        139.798580       140.431143       136.329217\n",
       "std         118.851784       120.247247       119.531924\n",
       "min           1.000000         1.000000         1.000000\n",
       "25%          25.000000        25.000000        25.000000\n",
       "50%         152.000000       152.000000       152.000000\n",
       "75%         198.000000       198.000000       198.000000\n",
       "max        1555.000000      1555.000000      1555.000000"
      ]
     },
     "execution_count": 309,
     "metadata": {},
     "output_type": "execute_result"
    }
   ],
   "source": [
    "# let's check the distribution for max_rech_data\n",
    "telecom_data.loc[:,['max_rech_data_6','max_rech_data_7','max_rech_data_8']].describe()"
   ]
  },
  {
   "cell_type": "markdown",
   "metadata": {},
   "source": [
    "We see that the minimum value is 1 while the max is 1555 across months, which implies the missing values are cases where there was no recharge for data, let's impute the missing values by 0 indicating no recharge."
   ]
  },
  {
   "cell_type": "code",
   "execution_count": 310,
   "metadata": {},
   "outputs": [],
   "source": [
    "telecom_data.loc[:,['max_rech_data_6','max_rech_data_7','max_rech_data_8']] \\\n",
    "= telecom_data.loc[:,['max_rech_data_6','max_rech_data_7','max_rech_data_8']].replace(np.nan,0)"
   ]
  },
  {
   "cell_type": "code",
   "execution_count": 311,
   "metadata": {},
   "outputs": [],
   "source": [
    "# Let us define new derived column\n",
    "# maximum recharge for data for good phase: max_rech_data_good_ph\n",
    "telecom_data['max_rech_data_good_ph'] = (telecom_data.max_rech_data_6 + telecom_data.max_rech_data_7)/2\n",
    "\n",
    "# drop the original columns as these are not longer required\n",
    "telecom_data.drop(['max_rech_data_6','max_rech_data_7'],axis=1,inplace=True)"
   ]
  },
  {
   "cell_type": "code",
   "execution_count": 312,
   "metadata": {},
   "outputs": [
    {
     "name": "stdout",
     "output_type": "stream",
     "text": [
      "       total_rech_num_6  total_rech_num_7  total_rech_num_8\n",
      "count      30001.000000      30001.000000      30001.000000\n",
      "mean          11.851005         11.718843          9.972868\n",
      "std            9.429132          9.432418          9.274370\n",
      "min            0.000000          0.000000          0.000000\n",
      "25%            6.000000          6.000000          4.000000\n",
      "50%            9.000000          9.000000          8.000000\n",
      "75%           15.000000         15.000000         13.000000\n",
      "max          307.000000        138.000000        196.000000\n"
     ]
    },
    {
     "data": {
      "text/html": [
       "<div>\n",
       "<style>\n",
       "    .dataframe thead tr:only-child th {\n",
       "        text-align: right;\n",
       "    }\n",
       "\n",
       "    .dataframe thead th {\n",
       "        text-align: left;\n",
       "    }\n",
       "\n",
       "    .dataframe tbody tr th {\n",
       "        vertical-align: top;\n",
       "    }\n",
       "</style>\n",
       "<table border=\"1\" class=\"dataframe\">\n",
       "  <thead>\n",
       "    <tr style=\"text-align: right;\">\n",
       "      <th></th>\n",
       "      <th>total_rech_num_6</th>\n",
       "      <th>total_rech_num_7</th>\n",
       "      <th>total_rech_num_8</th>\n",
       "    </tr>\n",
       "  </thead>\n",
       "  <tbody>\n",
       "    <tr>\n",
       "      <th>Churned</th>\n",
       "      <td>9.0</td>\n",
       "      <td>9.0</td>\n",
       "      <td>8.0</td>\n",
       "    </tr>\n",
       "    <tr>\n",
       "      <th>Non Churned</th>\n",
       "      <td>11.0</td>\n",
       "      <td>9.0</td>\n",
       "      <td>3.0</td>\n",
       "    </tr>\n",
       "  </tbody>\n",
       "</table>\n",
       "</div>"
      ],
      "text/plain": [
       "             total_rech_num_6  total_rech_num_7  total_rech_num_8\n",
       "Churned                   9.0               9.0               8.0\n",
       "Non Churned              11.0               9.0               3.0"
      ]
     },
     "execution_count": 312,
     "metadata": {},
     "output_type": "execute_result"
    }
   ],
   "source": [
    "# let's check total recharge number\n",
    "ls_tot_recharge_num = telecom_data.columns[telecom_data.columns.str.contains('total_rech_num')]\n",
    "\n",
    "# check the summary stats:\n",
    "print(telecom_data.loc[:,ls_tot_recharge_num].describe())\n",
    "\n",
    "# let's check the median variation in total recharge numbers for churned and non churned customers\n",
    "pd.DataFrame([telecom_data.loc[telecom_data.churn==0,ls_tot_recharge_num].median()\n",
    "              ,telecom_data.loc[telecom_data.churn==1,ls_tot_recharge_num].median()],index={'Non Churned','Churned'})"
   ]
  },
  {
   "cell_type": "markdown",
   "metadata": {},
   "source": [
    "while there are some outliers in 6th month overall distribution is similar for 6,7 and 8th month, we do see a drop in median recharge numbers"
   ]
  },
  {
   "cell_type": "code",
   "execution_count": 313,
   "metadata": {},
   "outputs": [],
   "source": [
    "# Let us define new derived column\n",
    "# total recharge number for good phase: total_rech_num_good_ph\n",
    "telecom_data['total_rech_num_good_ph'] = (telecom_data.total_rech_num_6 + telecom_data.total_rech_num_7)/2\n",
    "\n",
    "# drop the original columns as these are not longer required\n",
    "telecom_data.drop(['total_rech_num_6','total_rech_num_7'],axis=1,inplace=True)"
   ]
  },
  {
   "cell_type": "markdown",
   "metadata": {},
   "source": [
    "#### 2G and 3G usage related variables"
   ]
  },
  {
   "cell_type": "code",
   "execution_count": 314,
   "metadata": {},
   "outputs": [],
   "source": [
    "#let's extract the 2G and 3G usage related columns\n",
    "typ_2g_or_3g = telecom_data.columns[telecom_data.columns.str.contains('2g|3g',regex=True)]"
   ]
  },
  {
   "cell_type": "code",
   "execution_count": 315,
   "metadata": {},
   "outputs": [
    {
     "data": {
      "text/plain": [
       "count_rech_2g_6    0.441485\n",
       "count_rech_2g_7    0.431452\n",
       "count_rech_2g_8    0.468251\n",
       "count_rech_3g_6    0.441485\n",
       "count_rech_3g_7    0.431452\n",
       "count_rech_3g_8    0.468251\n",
       "vol_2g_mb_6        0.000000\n",
       "vol_2g_mb_7        0.000000\n",
       "vol_2g_mb_8        0.000000\n",
       "vol_3g_mb_6        0.000000\n",
       "vol_3g_mb_7        0.000000\n",
       "vol_3g_mb_8        0.000000\n",
       "arpu_3g_6          0.441485\n",
       "arpu_3g_7          0.431452\n",
       "arpu_3g_8          0.468251\n",
       "arpu_2g_6          0.441485\n",
       "arpu_2g_7          0.431452\n",
       "arpu_2g_8          0.468251\n",
       "monthly_2g_6       0.000000\n",
       "monthly_2g_7       0.000000\n",
       "monthly_2g_8       0.000000\n",
       "sachet_2g_6        0.000000\n",
       "sachet_2g_7        0.000000\n",
       "sachet_2g_8        0.000000\n",
       "monthly_3g_6       0.000000\n",
       "monthly_3g_7       0.000000\n",
       "monthly_3g_8       0.000000\n",
       "sachet_3g_6        0.000000\n",
       "sachet_3g_7        0.000000\n",
       "sachet_3g_8        0.000000\n",
       "aug_vbc_3g         0.000000\n",
       "jul_vbc_3g         0.000000\n",
       "jun_vbc_3g         0.000000\n",
       "sep_vbc_3g         0.000000\n",
       "dtype: float64"
      ]
     },
     "execution_count": 315,
     "metadata": {},
     "output_type": "execute_result"
    }
   ],
   "source": [
    "#let us check the % of NA values present\n",
    "telecom_data.loc[:,typ_2g_or_3g].isnull().sum()/len(telecom_data.loc[:,typ_2g_or_3g])"
   ]
  },
  {
   "cell_type": "markdown",
   "metadata": {},
   "source": [
    "We see from above that about 60% values are not available for count of recharge and average revenue for 2G/3G per user. As we aleady have 2G/3G volume usage based data available, let's drop these columns."
   ]
  },
  {
   "cell_type": "code",
   "execution_count": 316,
   "metadata": {},
   "outputs": [],
   "source": [
    "telecom_data.drop(['count_rech_2g_6','count_rech_2g_7',\n",
    "              'count_rech_2g_8','count_rech_3g_6','count_rech_3g_7','count_rech_3g_8'\n",
    "               ,'arpu_3g_6','arpu_3g_7','arpu_3g_8','arpu_2g_6','arpu_2g_7','arpu_2g_8'],axis=1,inplace=True)"
   ]
  },
  {
   "cell_type": "code",
   "execution_count": 317,
   "metadata": {},
   "outputs": [
    {
     "name": "stdout",
     "output_type": "stream",
     "text": [
      "        vol_2g_mb_6   vol_2g_mb_7   vol_2g_mb_8   vol_3g_mb_6   vol_3g_mb_7  \\\n",
      "count  30001.000000  30001.000000  30001.000000  30001.000000  30001.000000   \n",
      "mean     126.522185    125.097326    105.913072    344.258568    370.196701   \n",
      "std      330.530793    331.548010    313.384838    913.747778    915.525911   \n",
      "min        0.000000      0.000000      0.000000      0.000000      0.000000   \n",
      "25%        0.000000      0.000000      0.000000      0.000000      0.000000   \n",
      "50%        0.000000      0.050000      0.000000      0.000000      0.000000   \n",
      "75%       83.450000     77.770000     51.650000    358.740000    410.700000   \n",
      "max    10285.900000   7873.550000  11117.610000  45735.400000  28144.120000   \n",
      "\n",
      "        vol_3g_mb_8  \n",
      "count  30001.000000  \n",
      "mean     351.493998  \n",
      "std      919.021056  \n",
      "min        0.000000  \n",
      "25%        0.000000  \n",
      "50%        0.000000  \n",
      "75%      356.190000  \n",
      "max    30036.060000  \n"
     ]
    }
   ],
   "source": [
    "# let's extract volume of 2G and 3G usage columns\n",
    "volume_of_usage_3g_and_2g = telecom_data.columns[telecom_data.columns.str.contains('vol_2g|vol_3g',regex=True)]\n",
    "\n",
    "# let's check the summary stats:\n",
    "print(telecom_data.loc[:,volume_of_usage_3g_and_2g].describe())"
   ]
  },
  {
   "cell_type": "code",
   "execution_count": 318,
   "metadata": {},
   "outputs": [
    {
     "data": {
      "text/html": [
       "<div>\n",
       "<style>\n",
       "    .dataframe thead tr:only-child th {\n",
       "        text-align: right;\n",
       "    }\n",
       "\n",
       "    .dataframe thead th {\n",
       "        text-align: left;\n",
       "    }\n",
       "\n",
       "    .dataframe tbody tr th {\n",
       "        vertical-align: top;\n",
       "    }\n",
       "</style>\n",
       "<table border=\"1\" class=\"dataframe\">\n",
       "  <thead>\n",
       "    <tr style=\"text-align: right;\">\n",
       "      <th></th>\n",
       "      <th>vol_2g_mb_6</th>\n",
       "      <th>vol_2g_mb_7</th>\n",
       "      <th>vol_2g_mb_8</th>\n",
       "      <th>vol_3g_mb_6</th>\n",
       "      <th>vol_3g_mb_7</th>\n",
       "      <th>vol_3g_mb_8</th>\n",
       "    </tr>\n",
       "  </thead>\n",
       "  <tbody>\n",
       "    <tr>\n",
       "      <th>Churned</th>\n",
       "      <td>128.074912</td>\n",
       "      <td>128.464723</td>\n",
       "      <td>113.562745</td>\n",
       "      <td>350.312362</td>\n",
       "      <td>384.200039</td>\n",
       "      <td>375.776694</td>\n",
       "    </tr>\n",
       "    <tr>\n",
       "      <th>Non Churned</th>\n",
       "      <td>109.604104</td>\n",
       "      <td>88.407121</td>\n",
       "      <td>22.564389</td>\n",
       "      <td>278.298136</td>\n",
       "      <td>217.620278</td>\n",
       "      <td>86.916594</td>\n",
       "    </tr>\n",
       "  </tbody>\n",
       "</table>\n",
       "</div>"
      ],
      "text/plain": [
       "             vol_2g_mb_6  vol_2g_mb_7  vol_2g_mb_8  vol_3g_mb_6  vol_3g_mb_7  \\\n",
       "Churned       128.074912   128.464723   113.562745   350.312362   384.200039   \n",
       "Non Churned   109.604104    88.407121    22.564389   278.298136   217.620278   \n",
       "\n",
       "             vol_3g_mb_8  \n",
       "Churned       375.776694  \n",
       "Non Churned    86.916594  "
      ]
     },
     "execution_count": 318,
     "metadata": {},
     "output_type": "execute_result"
    }
   ],
   "source": [
    "# let's check the mean variation in volume of 2G/3G usage for churned and non churned customers\n",
    "pd.DataFrame([telecom_data.loc[telecom_data.churn==0,volume_of_usage_3g_and_2g].mean()\n",
    "              ,telecom_data.loc[telecom_data.churn==1,volume_of_usage_3g_and_2g].mean()],index={'Non Churned','Churned'})"
   ]
  },
  {
   "cell_type": "markdown",
   "metadata": {},
   "source": [
    "We have two observations from above:\n",
    "* the 2G and 3G usage for churned customers drops in 8th month \n",
    "* we also see that average 3G usage is higher for non-churned customers indicating that churned customers might be from areas where 3G service is not properly available."
   ]
  },
  {
   "cell_type": "code",
   "execution_count": 319,
   "metadata": {},
   "outputs": [],
   "source": [
    "# Let us define two new derived columns\n",
    "# 2G volume usage for good phase: vol_2g_mb_good_ph\n",
    "# 3G volume usage for good phase: vol_3g_mb_good_ph\n",
    "telecom_data['vol_2g_mb_good_ph'] = (telecom_data.vol_2g_mb_6 + telecom_data.vol_2g_mb_7)/2\n",
    "telecom_data['vol_3g_mb_good_ph'] = (telecom_data.vol_3g_mb_6 + telecom_data.vol_3g_mb_7)/2\n",
    "\n",
    "# drop the original columns as these are not longer required\n",
    "telecom_data.drop(['vol_2g_mb_6','vol_2g_mb_7'\n",
    "              ,'vol_3g_mb_6','vol_3g_mb_7'],axis=1,inplace=True)"
   ]
  },
  {
   "cell_type": "code",
   "execution_count": 320,
   "metadata": {},
   "outputs": [
    {
     "name": "stdout",
     "output_type": "stream",
     "text": [
      "       monthly_2g_6  monthly_2g_7  monthly_2g_8  monthly_3g_6  monthly_3g_7  \\\n",
      "count  30001.000000  30001.000000  30001.000000  30001.000000  30001.000000   \n",
      "mean       0.174494      0.183261      0.153628      0.217759      0.229026   \n",
      "std        0.434953      0.450423      0.406486      0.613199      0.659125   \n",
      "min        0.000000      0.000000      0.000000      0.000000      0.000000   \n",
      "25%        0.000000      0.000000      0.000000      0.000000      0.000000   \n",
      "50%        0.000000      0.000000      0.000000      0.000000      0.000000   \n",
      "75%        0.000000      0.000000      0.000000      0.000000      0.000000   \n",
      "max        4.000000      5.000000      5.000000     14.000000     16.000000   \n",
      "\n",
      "       monthly_3g_8  \n",
      "count  30001.000000  \n",
      "mean       0.211026  \n",
      "std        0.617549  \n",
      "min        0.000000  \n",
      "25%        0.000000  \n",
      "50%        0.000000  \n",
      "75%        0.000000  \n",
      "max       16.000000  \n"
     ]
    }
   ],
   "source": [
    "# let's check monthly 2G/3G service schemes\n",
    "monthly_2g_3g = telecom_data.columns[telecom_data.columns.str.contains('monthly_2g|monthly_3g',regex=True)]\n",
    "\n",
    "# let's check the summary stats:\n",
    "print(telecom_data.loc[:,monthly_2g_3g].describe())"
   ]
  },
  {
   "cell_type": "code",
   "execution_count": 321,
   "metadata": {},
   "outputs": [
    {
     "data": {
      "text/html": [
       "<div>\n",
       "<style>\n",
       "    .dataframe thead tr:only-child th {\n",
       "        text-align: right;\n",
       "    }\n",
       "\n",
       "    .dataframe thead th {\n",
       "        text-align: left;\n",
       "    }\n",
       "\n",
       "    .dataframe tbody tr th {\n",
       "        vertical-align: top;\n",
       "    }\n",
       "</style>\n",
       "<table border=\"1\" class=\"dataframe\">\n",
       "  <thead>\n",
       "    <tr style=\"text-align: right;\">\n",
       "      <th></th>\n",
       "      <th>monthly_2g_6</th>\n",
       "      <th>monthly_2g_7</th>\n",
       "      <th>monthly_2g_8</th>\n",
       "      <th>monthly_3g_6</th>\n",
       "      <th>monthly_3g_7</th>\n",
       "      <th>monthly_3g_8</th>\n",
       "    </tr>\n",
       "  </thead>\n",
       "  <tbody>\n",
       "    <tr>\n",
       "      <th>Churned</th>\n",
       "      <td>0.182030</td>\n",
       "      <td>0.193675</td>\n",
       "      <td>0.165581</td>\n",
       "      <td>0.219950</td>\n",
       "      <td>0.237017</td>\n",
       "      <td>0.225227</td>\n",
       "    </tr>\n",
       "    <tr>\n",
       "      <th>Non Churned</th>\n",
       "      <td>0.092387</td>\n",
       "      <td>0.069786</td>\n",
       "      <td>0.023394</td>\n",
       "      <td>0.193894</td>\n",
       "      <td>0.141951</td>\n",
       "      <td>0.056305</td>\n",
       "    </tr>\n",
       "  </tbody>\n",
       "</table>\n",
       "</div>"
      ],
      "text/plain": [
       "             monthly_2g_6  monthly_2g_7  monthly_2g_8  monthly_3g_6  \\\n",
       "Churned          0.182030      0.193675      0.165581      0.219950   \n",
       "Non Churned      0.092387      0.069786      0.023394      0.193894   \n",
       "\n",
       "             monthly_3g_7  monthly_3g_8  \n",
       "Churned          0.237017      0.225227  \n",
       "Non Churned      0.141951      0.056305  "
      ]
     },
     "execution_count": 321,
     "metadata": {},
     "output_type": "execute_result"
    }
   ],
   "source": [
    "# let's check the mean variation in monthly schemes of 2G/3G usage for churned and non churned customers\n",
    "pd.DataFrame([telecom_data.loc[telecom_data.churn==0,monthly_2g_3g].mean()\n",
    "              ,telecom_data.loc[telecom_data.churn==1,monthly_2g_3g].mean()],index={'Non Churned','Churned'})"
   ]
  },
  {
   "cell_type": "markdown",
   "metadata": {},
   "source": [
    "Again we see a drop in monthly subscription for churned customers in action month (8th month) as compared ot non churned customers."
   ]
  },
  {
   "cell_type": "code",
   "execution_count": 322,
   "metadata": {},
   "outputs": [],
   "source": [
    "# Let us define two new derived columns\n",
    "# 2G monthly for good phase: monthly_2g_good_ph\n",
    "# 3G monthly for good phase: monthly_3g_good_ph\n",
    "telecom_data['monthly_2g_good_ph'] = (telecom_data.monthly_2g_6 + telecom_data.monthly_2g_7)/2\n",
    "telecom_data['monthly_3g_good_ph'] = (telecom_data.monthly_3g_6 + telecom_data.monthly_3g_7)/2\n",
    "\n",
    "# drop the original columns as these are not longer required\n",
    "telecom_data.drop(['monthly_2g_6','monthly_2g_7'\n",
    "              ,'monthly_3g_6','monthly_3g_7'],axis=1,inplace=True)"
   ]
  },
  {
   "cell_type": "markdown",
   "metadata": {},
   "source": [
    "#### volume based cost"
   ]
  },
  {
   "cell_type": "code",
   "execution_count": 323,
   "metadata": {},
   "outputs": [],
   "source": [
    "# let us rename month named vbc columns to 6,7,8,9 format\n",
    "telecom_data.rename(columns={'jun_vbc_3g':'vbc_3g_6','jul_vbc_3g':'vbc_3g_7','aug_vbc_3g':'vbc_3g_8'\n",
    "                         ,'sep_vbc_3g':'vbc_3g_9'}, inplace=True)\n",
    "\n",
    "# drop 9th month column as it is not needed\n",
    "telecom_data.drop('vbc_3g_9',axis=1,inplace=True)"
   ]
  },
  {
   "cell_type": "code",
   "execution_count": 324,
   "metadata": {},
   "outputs": [
    {
     "name": "stdout",
     "output_type": "stream",
     "text": [
      "Churn Stats (mean and standard deviation):\n",
      "{6: 'vbc_3g_6', 7: 'vbc_3g_7', 8: 'vbc_3g_8'}\n"
     ]
    },
    {
     "data": {
      "text/html": [
       "<div>\n",
       "<style>\n",
       "    .dataframe thead tr:only-child th {\n",
       "        text-align: right;\n",
       "    }\n",
       "\n",
       "    .dataframe thead th {\n",
       "        text-align: left;\n",
       "    }\n",
       "\n",
       "    .dataframe tbody tr th {\n",
       "        vertical-align: top;\n",
       "    }\n",
       "</style>\n",
       "<table border=\"1\" class=\"dataframe\">\n",
       "  <thead>\n",
       "    <tr style=\"text-align: right;\">\n",
       "      <th></th>\n",
       "      <th>mean_6</th>\n",
       "      <th>mean_7</th>\n",
       "      <th>mean_8</th>\n",
       "      <th>std_6</th>\n",
       "      <th>std_7</th>\n",
       "      <th>std_8</th>\n",
       "    </tr>\n",
       "  </thead>\n",
       "  <tbody>\n",
       "    <tr>\n",
       "      <th>Churned</th>\n",
       "      <td>162.62</td>\n",
       "      <td>186.49</td>\n",
       "      <td>180.93</td>\n",
       "      <td>421.60</td>\n",
       "      <td>452.97</td>\n",
       "      <td>433.33</td>\n",
       "    </tr>\n",
       "    <tr>\n",
       "      <th>Non Churned</th>\n",
       "      <td>113.95</td>\n",
       "      <td>95.86</td>\n",
       "      <td>40.64</td>\n",
       "      <td>356.49</td>\n",
       "      <td>311.75</td>\n",
       "      <td>210.34</td>\n",
       "    </tr>\n",
       "  </tbody>\n",
       "</table>\n",
       "</div>"
      ],
      "text/plain": [
       "             mean_6  mean_7  mean_8   std_6   std_7   std_8\n",
       "Churned      162.62  186.49  180.93  421.60  452.97  433.33\n",
       "Non Churned  113.95   95.86   40.64  356.49  311.75  210.34"
      ]
     },
     "execution_count": 324,
     "metadata": {},
     "output_type": "execute_result"
    },
    {
     "data": {
      "text/plain": [
       "<matplotlib.figure.Figure at 0x1a1a3f6748>"
      ]
     },
     "metadata": {},
     "output_type": "display_data"
    },
    {
     "data": {
      "image/png": "[encoded data removed]",
      "text/plain": [
       "<matplotlib.figure.Figure at 0x1a1a3c4b00>"
      ]
     },
     "metadata": {},
     "output_type": "display_data"
    }
   ],
   "source": [
    "# let's check the volumne based cost for 3G\n",
    "volumn_based_cost_3g = telecom_data.columns[telecom_data.columns.str.contains('vbc_3g')]\n",
    "\n",
    "# analyze volume based cost\n",
    "analyze_feature('vbc_3g')"
   ]
  },
  {
   "cell_type": "markdown",
   "metadata": {},
   "source": [
    "We can clearly see that volume based cost for 3G is much lower for Churned customers as compared to Non-Churned Customers and also there is a drop in vbc in 8th month."
   ]
  },
  {
   "cell_type": "code",
   "execution_count": 325,
   "metadata": {},
   "outputs": [],
   "source": [
    "# Let us define new derived columns\n",
    "# 3g volume based cost for good phase: vbc_3g_good_ph\n",
    "telecom_data['vbc_3g_good_ph'] = (telecom_data['vbc_3g_6'] + telecom_data['vbc_3g_7'])/2\n",
    "\n",
    "# drop the original columns as these are not longer required\n",
    "telecom_data.drop(['vbc_3g_6','vbc_3g_7'],axis=1,inplace=True)"
   ]
  },
  {
   "cell_type": "markdown",
   "metadata": {},
   "source": [
    "#### sachet subscription"
   ]
  },
  {
   "cell_type": "code",
   "execution_count": 326,
   "metadata": {},
   "outputs": [
    {
     "name": "stdout",
     "output_type": "stream",
     "text": [
      "        sachet_2g_6   sachet_2g_7   sachet_2g_8   sachet_3g_6   sachet_3g_7  \\\n",
      "count  30001.000000  30001.000000  30001.000000  30001.000000  30001.000000   \n",
      "mean       1.066064      1.214026      1.054865      0.209393      0.227492   \n",
      "std        2.507197      2.736158      2.535940      0.985674      1.089929   \n",
      "min        0.000000      0.000000      0.000000      0.000000      0.000000   \n",
      "25%        0.000000      0.000000      0.000000      0.000000      0.000000   \n",
      "50%        0.000000      0.000000      0.000000      0.000000      0.000000   \n",
      "75%        1.000000      1.000000      1.000000      0.000000      0.000000   \n",
      "max       42.000000     48.000000     44.000000     29.000000     35.000000   \n",
      "\n",
      "        sachet_3g_8  \n",
      "count  30001.000000  \n",
      "mean       0.202393  \n",
      "std        1.100107  \n",
      "min        0.000000  \n",
      "25%        0.000000  \n",
      "50%        0.000000  \n",
      "75%        0.000000  \n",
      "max       41.000000  \n"
     ]
    },
    {
     "data": {
      "text/html": [
       "<div>\n",
       "<style>\n",
       "    .dataframe thead tr:only-child th {\n",
       "        text-align: right;\n",
       "    }\n",
       "\n",
       "    .dataframe thead th {\n",
       "        text-align: left;\n",
       "    }\n",
       "\n",
       "    .dataframe tbody tr th {\n",
       "        vertical-align: top;\n",
       "    }\n",
       "</style>\n",
       "<table border=\"1\" class=\"dataframe\">\n",
       "  <thead>\n",
       "    <tr style=\"text-align: right;\">\n",
       "      <th></th>\n",
       "      <th>sachet_2g_6</th>\n",
       "      <th>sachet_2g_7</th>\n",
       "      <th>sachet_2g_8</th>\n",
       "      <th>sachet_3g_6</th>\n",
       "      <th>sachet_3g_7</th>\n",
       "      <th>sachet_3g_8</th>\n",
       "    </tr>\n",
       "  </thead>\n",
       "  <tbody>\n",
       "    <tr>\n",
       "      <th>Churned</th>\n",
       "      <td>1.069289</td>\n",
       "      <td>1.244368</td>\n",
       "      <td>1.127042</td>\n",
       "      <td>0.206703</td>\n",
       "      <td>0.228247</td>\n",
       "      <td>0.215110</td>\n",
       "    </tr>\n",
       "    <tr>\n",
       "      <th>Non Churned</th>\n",
       "      <td>1.030928</td>\n",
       "      <td>0.883426</td>\n",
       "      <td>0.268438</td>\n",
       "      <td>0.238699</td>\n",
       "      <td>0.219270</td>\n",
       "      <td>0.063838</td>\n",
       "    </tr>\n",
       "  </tbody>\n",
       "</table>\n",
       "</div>"
      ],
      "text/plain": [
       "             sachet_2g_6  sachet_2g_7  sachet_2g_8  sachet_3g_6  sachet_3g_7  \\\n",
       "Churned         1.069289     1.244368     1.127042     0.206703     0.228247   \n",
       "Non Churned     1.030928     0.883426     0.268438     0.238699     0.219270   \n",
       "\n",
       "             sachet_3g_8  \n",
       "Churned         0.215110  \n",
       "Non Churned     0.063838  "
      ]
     },
     "execution_count": 326,
     "metadata": {},
     "output_type": "execute_result"
    }
   ],
   "source": [
    "# let's check sachet subscription for 2G/3G\n",
    "sachet_2g_or_3g = telecom_data.columns[telecom_data.columns.str.contains('sachet_2g|sachet_3g',regex=True)]\n",
    "\n",
    "print(telecom_data.loc[:,sachet_2g_or_3g].describe())\n",
    "\n",
    "pd.DataFrame([telecom_data.loc[telecom_data.churn==0,sachet_2g_or_3g].mean()\n",
    "              ,telecom_data.loc[telecom_data.churn==1,sachet_2g_or_3g].mean()],index={'Non Churned','Churned'})"
   ]
  },
  {
   "cell_type": "markdown",
   "metadata": {},
   "source": [
    "There is a steep drop in sachet services in 8th month for churned cutsomers as compared to non churned customers"
   ]
  },
  {
   "cell_type": "code",
   "execution_count": 327,
   "metadata": {},
   "outputs": [],
   "source": [
    "# Let us define two new derived columns\n",
    "# 2G sachet for good phase: sachet_2g_good_ph\n",
    "# 3G sachet for good phase: sachet_3g_good_ph\n",
    "telecom_data['sachet_2g_good_ph'] = (telecom_data.sachet_2g_6 + telecom_data.sachet_2g_7)/2\n",
    "telecom_data['sachet_3g_good_ph'] = (telecom_data.sachet_3g_6 + telecom_data.sachet_3g_7)/2\n",
    "\n",
    "# drop the original columns as these are not longer required\n",
    "telecom_data.drop(['sachet_2g_6','sachet_2g_7'\n",
    "              ,'sachet_3g_6','sachet_3g_7'],axis=1,inplace=True)"
   ]
  },
  {
   "cell_type": "markdown",
   "metadata": {},
   "source": [
    "#### Age on network"
   ]
  },
  {
   "cell_type": "code",
   "execution_count": 328,
   "metadata": {},
   "outputs": [
    {
     "name": "stdout",
     "output_type": "stream",
     "text": [
      "859.3049167327517\n",
      "1241.4973252301759\n"
     ]
    }
   ],
   "source": [
    "# let's check the age on n/w for churned and non churned customers\n",
    "print(telecom_data.loc[telecom_data.churn==1,'aon'].mean())\n",
    "print(telecom_data.loc[telecom_data.churn==0,'aon'].mean())"
   ]
  },
  {
   "cell_type": "code",
   "execution_count": 329,
   "metadata": {},
   "outputs": [
    {
     "data": {
      "text/plain": [
       "<matplotlib.axes._subplots.AxesSubplot at 0x1a1e3ca3c8>"
      ]
     },
     "execution_count": 329,
     "metadata": {},
     "output_type": "execute_result"
    },
    {
     "data": {
      "image/png": "[encoded data removed]",
      "text/plain": [
       "<matplotlib.figure.Figure at 0x1a1e3c04e0>"
      ]
     },
     "metadata": {},
     "output_type": "display_data"
    }
   ],
   "source": [
    "# let's check the age distribution for non churned customers\n",
    "plt.figure(figsize=(5,3))\n",
    "telecom_data.loc[telecom_data.churn==0,'aon'].plot.hist()"
   ]
  },
  {
   "cell_type": "code",
   "execution_count": 330,
   "metadata": {},
   "outputs": [
    {
     "data": {
      "text/plain": [
       "<matplotlib.axes._subplots.AxesSubplot at 0x1a1e101c88>"
      ]
     },
     "execution_count": 330,
     "metadata": {},
     "output_type": "execute_result"
    },
    {
     "data": {
      "image/png": "[encoded data removed]",
      "text/plain": [
       "<matplotlib.figure.Figure at 0x1a1e1ca390>"
      ]
     },
     "metadata": {},
     "output_type": "display_data"
    }
   ],
   "source": [
    "# let's check the age distribution for churned customers\n",
    "plt.figure(figsize=(5,3))\n",
    "telecom_data.loc[telecom_data.churn==1,'aon'].plot.hist()"
   ]
  },
  {
   "cell_type": "markdown",
   "metadata": {},
   "source": [
    "We see from above that most of the churn cases are happening before age 1500 days."
   ]
  },
  {
   "cell_type": "code",
   "execution_count": 331,
   "metadata": {},
   "outputs": [],
   "source": [
    "# let's check the circle id values\n",
    "telecom_data.circle_id.unique()\n",
    "\n",
    "# let's drop this column as there is only one circle id\n",
    "telecom_data.drop('circle_id',inplace=True,axis=1)"
   ]
  },
  {
   "cell_type": "markdown",
   "metadata": {},
   "source": [
    "#### date related variables"
   ]
  },
  {
   "cell_type": "code",
   "execution_count": 332,
   "metadata": {},
   "outputs": [],
   "source": [
    "# extract the date columns\n",
    "date_columns = telecom_data.columns[telecom_data.columns.str.contains('date')]\n",
    "\n",
    "# convert to datetime\n",
    "for date_col in list(date_columns):\n",
    "    telecom_data[date_col]= pd.to_datetime(telecom_data[date_col])"
   ]
  },
  {
   "cell_type": "code",
   "execution_count": 333,
   "metadata": {},
   "outputs": [
    {
     "name": "stdout",
     "output_type": "stream",
     "text": [
      "[30] [ 31.  nan] [ 31.  nan]\n"
     ]
    }
   ],
   "source": [
    "print(telecom_data.last_date_of_month_6.dt.day.unique(),telecom_data.last_date_of_month_7.dt.day.unique()\n",
    "      ,telecom_data.last_date_of_month_8.dt.day.unique())\n",
    "\n",
    "# as only 1 unique value last day of month is present these columns are not adding much information\n",
    "# let us drop the columns\n",
    "telecom_data.drop(['last_date_of_month_6','last_date_of_month_7','last_date_of_month_8'],axis=1,inplace=True)"
   ]
  },
  {
   "cell_type": "code",
   "execution_count": 334,
   "metadata": {},
   "outputs": [
    {
     "data": {
      "text/html": [
       "<div>\n",
       "<style>\n",
       "    .dataframe thead tr:only-child th {\n",
       "        text-align: right;\n",
       "    }\n",
       "\n",
       "    .dataframe thead th {\n",
       "        text-align: left;\n",
       "    }\n",
       "\n",
       "    .dataframe tbody tr th {\n",
       "        vertical-align: top;\n",
       "    }\n",
       "</style>\n",
       "<table border=\"1\" class=\"dataframe\">\n",
       "  <thead>\n",
       "    <tr style=\"text-align: right;\">\n",
       "      <th></th>\n",
       "      <th>day_of_last_rech_6</th>\n",
       "      <th>day_of_last_rech_7</th>\n",
       "      <th>day_of_last_rech_8</th>\n",
       "    </tr>\n",
       "  </thead>\n",
       "  <tbody>\n",
       "    <tr>\n",
       "      <th>Churned</th>\n",
       "      <td>28.0</td>\n",
       "      <td>29.0</td>\n",
       "      <td>29.0</td>\n",
       "    </tr>\n",
       "    <tr>\n",
       "      <th>Non Churned</th>\n",
       "      <td>28.0</td>\n",
       "      <td>27.0</td>\n",
       "      <td>26.0</td>\n",
       "    </tr>\n",
       "  </tbody>\n",
       "</table>\n",
       "</div>"
      ],
      "text/plain": [
       "             day_of_last_rech_6  day_of_last_rech_7  day_of_last_rech_8\n",
       "Churned                    28.0                29.0                29.0\n",
       "Non Churned                28.0                27.0                26.0"
      ]
     },
     "execution_count": 334,
     "metadata": {},
     "output_type": "execute_result"
    }
   ],
   "source": [
    "# let's extract the day of last recharge\n",
    "telecom_data['day_of_last_rech_6'] =  telecom_data.date_of_last_rech_6.dt.day\n",
    "telecom_data['day_of_last_rech_7'] =  telecom_data.date_of_last_rech_7.dt.day\n",
    "telecom_data['day_of_last_rech_8'] =  telecom_data.date_of_last_rech_8.dt.day\n",
    "\n",
    "dt_of_last_rech_cols = ['day_of_last_rech_6','day_of_last_rech_7','day_of_last_rech_8']\n",
    "\n",
    "pd.DataFrame([telecom_data.loc[telecom_data.churn==0,dt_of_last_rech_cols].median()\n",
    "              ,telecom_data.loc[telecom_data.churn==1,dt_of_last_rech_cols].median()],index={'Non Churned','Churned'})"
   ]
  },
  {
   "cell_type": "markdown",
   "metadata": {},
   "source": [
    "We can see that the median value for last recharge is bit lower for churned customers"
   ]
  },
  {
   "cell_type": "code",
   "execution_count": 335,
   "metadata": {},
   "outputs": [],
   "source": [
    "# let's define a new derived column indicating the shift in day of last recharge\n",
    "\n",
    "telecom_data['day_of_last_rech_shift'] = telecom_data.day_of_last_rech_8 -(telecom_data.day_of_last_rech_6+telecom_data.day_of_last_rech_7)/2"
   ]
  },
  {
   "cell_type": "code",
   "execution_count": 336,
   "metadata": {},
   "outputs": [
    {
     "data": {
      "text/html": [
       "<div>\n",
       "<style>\n",
       "    .dataframe thead tr:only-child th {\n",
       "        text-align: right;\n",
       "    }\n",
       "\n",
       "    .dataframe thead th {\n",
       "        text-align: left;\n",
       "    }\n",
       "\n",
       "    .dataframe tbody tr th {\n",
       "        vertical-align: top;\n",
       "    }\n",
       "</style>\n",
       "<table border=\"1\" class=\"dataframe\">\n",
       "  <thead>\n",
       "    <tr style=\"text-align: right;\">\n",
       "      <th></th>\n",
       "      <th>day_of_last_rech_shift</th>\n",
       "    </tr>\n",
       "  </thead>\n",
       "  <tbody>\n",
       "    <tr>\n",
       "      <th>Churned</th>\n",
       "      <td>0.5</td>\n",
       "    </tr>\n",
       "    <tr>\n",
       "      <th>Non Churned</th>\n",
       "      <td>-2.0</td>\n",
       "    </tr>\n",
       "  </tbody>\n",
       "</table>\n",
       "</div>"
      ],
      "text/plain": [
       "             day_of_last_rech_shift\n",
       "Churned                         0.5\n",
       "Non Churned                    -2.0"
      ]
     },
     "execution_count": 336,
     "metadata": {},
     "output_type": "execute_result"
    }
   ],
   "source": [
    "# let's check how the shift indicates pattern for Churned and non churn customers\n",
    "pd.DataFrame([telecom_data.loc[telecom_data.churn==0,['day_of_last_rech_shift']].median()\n",
    "              ,telecom_data.loc[telecom_data.churn==1,['day_of_last_rech_shift']].median()],index={'Non Churned','Churned'})"
   ]
  },
  {
   "cell_type": "markdown",
   "metadata": {},
   "source": [
    "We can clearly see that a large negative shift is highly indicative of churn"
   ]
  },
  {
   "cell_type": "code",
   "execution_count": 337,
   "metadata": {},
   "outputs": [],
   "source": [
    "# let's delete the other colummns derived as are no longer required\n",
    "telecom_data.drop(['day_of_last_rech_6','day_of_last_rech_7','day_of_last_rech_8'],axis=1,inplace=True)"
   ]
  },
  {
   "cell_type": "code",
   "execution_count": 338,
   "metadata": {},
   "outputs": [
    {
     "data": {
      "text/html": [
       "<div>\n",
       "<style>\n",
       "    .dataframe thead tr:only-child th {\n",
       "        text-align: right;\n",
       "    }\n",
       "\n",
       "    .dataframe thead th {\n",
       "        text-align: left;\n",
       "    }\n",
       "\n",
       "    .dataframe tbody tr th {\n",
       "        vertical-align: top;\n",
       "    }\n",
       "</style>\n",
       "<table border=\"1\" class=\"dataframe\">\n",
       "  <thead>\n",
       "    <tr style=\"text-align: right;\">\n",
       "      <th></th>\n",
       "      <th>day_of_last_rech_data_6</th>\n",
       "      <th>day_of_last_rech_data_7</th>\n",
       "      <th>day_of_last_rech_data_8</th>\n",
       "    </tr>\n",
       "  </thead>\n",
       "  <tbody>\n",
       "    <tr>\n",
       "      <th>Churned</th>\n",
       "      <td>22.0</td>\n",
       "      <td>24.0</td>\n",
       "      <td>23.0</td>\n",
       "    </tr>\n",
       "    <tr>\n",
       "      <th>Non Churned</th>\n",
       "      <td>23.0</td>\n",
       "      <td>20.0</td>\n",
       "      <td>15.0</td>\n",
       "    </tr>\n",
       "  </tbody>\n",
       "</table>\n",
       "</div>"
      ],
      "text/plain": [
       "             day_of_last_rech_data_6  day_of_last_rech_data_7  \\\n",
       "Churned                         22.0                     24.0   \n",
       "Non Churned                     23.0                     20.0   \n",
       "\n",
       "             day_of_last_rech_data_8  \n",
       "Churned                         23.0  \n",
       "Non Churned                     15.0  "
      ]
     },
     "execution_count": 338,
     "metadata": {},
     "output_type": "execute_result"
    }
   ],
   "source": [
    "# let's extract the day of last recharge for data\n",
    "telecom_data['day_of_last_rech_data_6'] =  telecom_data.date_of_last_rech_data_6.dt.day\n",
    "telecom_data['day_of_last_rech_data_7'] =  telecom_data.date_of_last_rech_data_7.dt.day\n",
    "telecom_data['day_of_last_rech_data_8'] =  telecom_data.date_of_last_rech_data_8.dt.day\n",
    "\n",
    "dt_of_last_rech_cols = ['day_of_last_rech_data_6','day_of_last_rech_data_7','day_of_last_rech_data_8']\n",
    "\n",
    "pd.DataFrame([telecom_data.loc[telecom_data.churn==0,dt_of_last_rech_cols].median()\n",
    "              ,telecom_data.loc[telecom_data.churn==1,dt_of_last_rech_cols].median()],index={'Non Churned','Churned'})"
   ]
  },
  {
   "cell_type": "code",
   "execution_count": 339,
   "metadata": {},
   "outputs": [],
   "source": [
    "# let's define a new derived column indicating the shift in day of last data recharge\n",
    "\n",
    "telecom_data['day_of_last_rech_data_shift'] = telecom_data.day_of_last_rech_data_8 -(telecom_data.day_of_last_rech_data_6+telecom_data.day_of_last_rech_data_7)/2"
   ]
  },
  {
   "cell_type": "code",
   "execution_count": 340,
   "metadata": {},
   "outputs": [
    {
     "data": {
      "text/html": [
       "<div>\n",
       "<style>\n",
       "    .dataframe thead tr:only-child th {\n",
       "        text-align: right;\n",
       "    }\n",
       "\n",
       "    .dataframe thead th {\n",
       "        text-align: left;\n",
       "    }\n",
       "\n",
       "    .dataframe tbody tr th {\n",
       "        vertical-align: top;\n",
       "    }\n",
       "</style>\n",
       "<table border=\"1\" class=\"dataframe\">\n",
       "  <thead>\n",
       "    <tr style=\"text-align: right;\">\n",
       "      <th></th>\n",
       "      <th>day_of_last_rech_data_shift</th>\n",
       "    </tr>\n",
       "  </thead>\n",
       "  <tbody>\n",
       "    <tr>\n",
       "      <th>Churned</th>\n",
       "      <td>-0.5</td>\n",
       "    </tr>\n",
       "    <tr>\n",
       "      <th>Non Churned</th>\n",
       "      <td>-6.0</td>\n",
       "    </tr>\n",
       "  </tbody>\n",
       "</table>\n",
       "</div>"
      ],
      "text/plain": [
       "             day_of_last_rech_data_shift\n",
       "Churned                             -0.5\n",
       "Non Churned                         -6.0"
      ]
     },
     "execution_count": 340,
     "metadata": {},
     "output_type": "execute_result"
    }
   ],
   "source": [
    "# let's check how the shift indicates pattern for Churned and non churn customers\n",
    "pd.DataFrame([telecom_data.loc[telecom_data.churn==0,['day_of_last_rech_data_shift']].median()\n",
    "              ,telecom_data.loc[telecom_data.churn==1,['day_of_last_rech_data_shift']].median()],index={'Non Churned','Churned'})"
   ]
  },
  {
   "cell_type": "code",
   "execution_count": 341,
   "metadata": {},
   "outputs": [],
   "source": [
    "# let's delete the other colummns derived as are no longer required\n",
    "telecom_data.drop(['day_of_last_rech_data_6','day_of_last_rech_data_7','day_of_last_rech_data_8'],axis=1,inplace=True)"
   ]
  },
  {
   "cell_type": "code",
   "execution_count": 342,
   "metadata": {},
   "outputs": [],
   "source": [
    "# let us drop the date columns as we have derived day of month variables from them\n",
    "telecom_data.drop(['date_of_last_rech_6','date_of_last_rech_7','date_of_last_rech_8'],axis=1,inplace=True)\n",
    "telecom_data.drop(['date_of_last_rech_data_6','date_of_last_rech_data_7','date_of_last_rech_data_8'],axis=1,inplace=True)"
   ]
  },
  {
   "cell_type": "markdown",
   "metadata": {},
   "source": [
    "#### average revenue per user"
   ]
  },
  {
   "cell_type": "code",
   "execution_count": 343,
   "metadata": {},
   "outputs": [
    {
     "name": "stdout",
     "output_type": "stream",
     "text": [
      "Churn Stats (mean and standard deviation):\n",
      "{6: 'arpu_6', 7: 'arpu_7', 8: 'arpu_8'}\n"
     ]
    },
    {
     "data": {
      "text/html": [
       "<div>\n",
       "<style>\n",
       "    .dataframe thead tr:only-child th {\n",
       "        text-align: right;\n",
       "    }\n",
       "\n",
       "    .dataframe thead th {\n",
       "        text-align: left;\n",
       "    }\n",
       "\n",
       "    .dataframe tbody tr th {\n",
       "        vertical-align: top;\n",
       "    }\n",
       "</style>\n",
       "<table border=\"1\" class=\"dataframe\">\n",
       "  <thead>\n",
       "    <tr style=\"text-align: right;\">\n",
       "      <th></th>\n",
       "      <th>mean_6</th>\n",
       "      <th>mean_7</th>\n",
       "      <th>mean_8</th>\n",
       "      <th>std_6</th>\n",
       "      <th>std_7</th>\n",
       "      <th>std_8</th>\n",
       "    </tr>\n",
       "  </thead>\n",
       "  <tbody>\n",
       "    <tr>\n",
       "      <th>Churned</th>\n",
       "      <td>549.23</td>\n",
       "      <td>562.86</td>\n",
       "      <td>533.26</td>\n",
       "      <td>447.05</td>\n",
       "      <td>474.10</td>\n",
       "      <td>504.14</td>\n",
       "    </tr>\n",
       "    <tr>\n",
       "      <th>Non Churned</th>\n",
       "      <td>659.36</td>\n",
       "      <td>538.11</td>\n",
       "      <td>239.87</td>\n",
       "      <td>579.28</td>\n",
       "      <td>537.32</td>\n",
       "      <td>386.45</td>\n",
       "    </tr>\n",
       "  </tbody>\n",
       "</table>\n",
       "</div>"
      ],
      "text/plain": [
       "             mean_6  mean_7  mean_8   std_6   std_7   std_8\n",
       "Churned      549.23  562.86  533.26  447.05  474.10  504.14\n",
       "Non Churned  659.36  538.11  239.87  579.28  537.32  386.45"
      ]
     },
     "execution_count": 343,
     "metadata": {},
     "output_type": "execute_result"
    },
    {
     "data": {
      "text/plain": [
       "<matplotlib.figure.Figure at 0x1a1e3b0b70>"
      ]
     },
     "metadata": {},
     "output_type": "display_data"
    },
    {
     "data": {
      "image/png": "[encoded data removed]",
      "text/plain": [
       "<matplotlib.figure.Figure at 0x1a1a7330b8>"
      ]
     },
     "metadata": {},
     "output_type": "display_data"
    }
   ],
   "source": [
    "# extract columns for average revenue per user\n",
    "arpu_cols = telecom_data.columns[telecom_data.columns.str.contains('arpu_')]\n",
    "\n",
    "# analyze arpu\n",
    "analyze_feature('arpu')"
   ]
  },
  {
   "cell_type": "markdown",
   "metadata": {},
   "source": [
    "We can see that arpu also drops signficantly in action phase for churned customers"
   ]
  },
  {
   "cell_type": "code",
   "execution_count": 344,
   "metadata": {},
   "outputs": [],
   "source": [
    "# Let us define new derived columns\n",
    "# arpu for good phase: arpu_good_ph\n",
    "telecom_data['arpu_good_ph'] = (telecom_data.arpu_6 + telecom_data.arpu_7)/2\n",
    "\n",
    "# drop the original columns as these are not longer required\n",
    "telecom_data.drop(['arpu_6','arpu_7'],axis=1,inplace=True)"
   ]
  },
  {
   "cell_type": "markdown",
   "metadata": {},
   "source": [
    "#### Minutes of Usage related variables"
   ]
  },
  {
   "cell_type": "code",
   "execution_count": 345,
   "metadata": {},
   "outputs": [],
   "source": [
    "# let's derive minutes of usage columns\n",
    "mou_cols = telecom_data.columns[telecom_data.columns.str.contains('mou')]"
   ]
  },
  {
   "cell_type": "code",
   "execution_count": 346,
   "metadata": {},
   "outputs": [
    {
     "data": {
      "text/plain": [
       "Index(['loc_og_t2o_mou', 'std_og_t2o_mou', 'loc_ic_t2o_mou', 'onnet_mou_6',\n",
       "       'onnet_mou_7', 'onnet_mou_8', 'offnet_mou_6', 'offnet_mou_7',\n",
       "       'offnet_mou_8', 'roam_ic_mou_6', 'roam_ic_mou_7', 'roam_ic_mou_8',\n",
       "       'roam_og_mou_6', 'roam_og_mou_7', 'roam_og_mou_8', 'loc_og_t2t_mou_6',\n",
       "       'loc_og_t2t_mou_7', 'loc_og_t2t_mou_8', 'loc_og_t2m_mou_6',\n",
       "       'loc_og_t2m_mou_7', 'loc_og_t2m_mou_8', 'loc_og_t2f_mou_6',\n",
       "       'loc_og_t2f_mou_7', 'loc_og_t2f_mou_8', 'loc_og_t2c_mou_6',\n",
       "       'loc_og_t2c_mou_7', 'loc_og_t2c_mou_8', 'loc_og_mou_6', 'loc_og_mou_7',\n",
       "       'loc_og_mou_8', 'std_og_t2t_mou_6', 'std_og_t2t_mou_7',\n",
       "       'std_og_t2t_mou_8', 'std_og_t2m_mou_6', 'std_og_t2m_mou_7',\n",
       "       'std_og_t2m_mou_8', 'std_og_t2f_mou_6', 'std_og_t2f_mou_7',\n",
       "       'std_og_t2f_mou_8', 'std_og_t2c_mou_6', 'std_og_t2c_mou_7',\n",
       "       'std_og_t2c_mou_8', 'std_og_mou_6', 'std_og_mou_7', 'std_og_mou_8',\n",
       "       'isd_og_mou_6', 'isd_og_mou_7', 'isd_og_mou_8', 'spl_og_mou_6',\n",
       "       'spl_og_mou_7', 'spl_og_mou_8', 'total_og_mou_6', 'total_og_mou_7',\n",
       "       'total_og_mou_8', 'loc_ic_t2t_mou_6', 'loc_ic_t2t_mou_7',\n",
       "       'loc_ic_t2t_mou_8', 'loc_ic_t2m_mou_6', 'loc_ic_t2m_mou_7',\n",
       "       'loc_ic_t2m_mou_8', 'loc_ic_t2f_mou_6', 'loc_ic_t2f_mou_7',\n",
       "       'loc_ic_t2f_mou_8', 'loc_ic_mou_6', 'loc_ic_mou_7', 'loc_ic_mou_8',\n",
       "       'std_ic_t2t_mou_6', 'std_ic_t2t_mou_7', 'std_ic_t2t_mou_8',\n",
       "       'std_ic_t2m_mou_6', 'std_ic_t2m_mou_7', 'std_ic_t2m_mou_8',\n",
       "       'std_ic_t2f_mou_6', 'std_ic_t2f_mou_7', 'std_ic_t2f_mou_8',\n",
       "       'std_ic_t2o_mou_6', 'std_ic_t2o_mou_7', 'std_ic_t2o_mou_8',\n",
       "       'std_ic_mou_6', 'std_ic_mou_7', 'std_ic_mou_8', 'total_ic_mou_6',\n",
       "       'total_ic_mou_7', 'total_ic_mou_8', 'spl_ic_mou_6', 'spl_ic_mou_7',\n",
       "       'spl_ic_mou_8', 'isd_ic_mou_6', 'isd_ic_mou_7', 'isd_ic_mou_8'],\n",
       "      dtype='object')"
      ]
     },
     "execution_count": 346,
     "metadata": {},
     "output_type": "execute_result"
    }
   ],
   "source": [
    "mou_cols"
   ]
  },
  {
   "cell_type": "code",
   "execution_count": 347,
   "metadata": {},
   "outputs": [
    {
     "data": {
      "text/plain": [
       "array(['loc_og_t2o_mou', 'std_og_t2o_mou', 'loc_ic_t2o_mou',\n",
       "       'std_og_t2c_mou_6', 'std_og_t2c_mou_7', 'std_og_t2c_mou_8',\n",
       "       'std_ic_t2o_mou_6', 'std_ic_t2o_mou_7', 'std_ic_t2o_mou_8'], dtype=object)"
      ]
     },
     "execution_count": 347,
     "metadata": {},
     "output_type": "execute_result"
    }
   ],
   "source": [
    "# let's check if there are any zero variation columns among these\n",
    "zero_var_cols = telecom_data.loc[:,mou_cols].std()[telecom_data.loc[:,mou_cols].std()==0].index.values\n",
    "\n",
    "zero_var_cols"
   ]
  },
  {
   "cell_type": "code",
   "execution_count": 348,
   "metadata": {},
   "outputs": [],
   "source": [
    "# let's drop these columns\n",
    "telecom_data.drop(list(zero_var_cols),axis=1,inplace=True)"
   ]
  },
  {
   "cell_type": "code",
   "execution_count": 349,
   "metadata": {},
   "outputs": [
    {
     "data": {
      "text/plain": [
       "onnet_mou_6         1.816606\n",
       "onnet_mou_7         1.789940\n",
       "onnet_mou_8         3.913203\n",
       "offnet_mou_6        1.816606\n",
       "offnet_mou_7        1.789940\n",
       "offnet_mou_8        3.913203\n",
       "roam_ic_mou_6       1.816606\n",
       "roam_ic_mou_7       1.789940\n",
       "roam_ic_mou_8       3.913203\n",
       "roam_og_mou_6       1.816606\n",
       "roam_og_mou_7       1.789940\n",
       "roam_og_mou_8       3.913203\n",
       "loc_og_t2t_mou_6    1.816606\n",
       "loc_og_t2t_mou_7    1.789940\n",
       "loc_og_t2t_mou_8    3.913203\n",
       "loc_og_t2m_mou_6    1.816606\n",
       "loc_og_t2m_mou_7    1.789940\n",
       "loc_og_t2m_mou_8    3.913203\n",
       "loc_og_t2f_mou_6    1.816606\n",
       "loc_og_t2f_mou_7    1.789940\n",
       "loc_og_t2f_mou_8    3.913203\n",
       "loc_og_t2c_mou_6    1.816606\n",
       "loc_og_t2c_mou_7    1.789940\n",
       "loc_og_t2c_mou_8    3.913203\n",
       "loc_og_mou_6        1.816606\n",
       "loc_og_mou_7        1.789940\n",
       "loc_og_mou_8        3.913203\n",
       "std_og_t2t_mou_6    1.816606\n",
       "std_og_t2t_mou_7    1.789940\n",
       "std_og_t2t_mou_8    3.913203\n",
       "                      ...   \n",
       "loc_ic_t2m_mou_6    1.816606\n",
       "loc_ic_t2m_mou_7    1.789940\n",
       "loc_ic_t2m_mou_8    3.913203\n",
       "loc_ic_t2f_mou_6    1.816606\n",
       "loc_ic_t2f_mou_7    1.789940\n",
       "loc_ic_t2f_mou_8    3.913203\n",
       "loc_ic_mou_6        1.816606\n",
       "loc_ic_mou_7        1.789940\n",
       "loc_ic_mou_8        3.913203\n",
       "std_ic_t2t_mou_6    1.816606\n",
       "std_ic_t2t_mou_7    1.789940\n",
       "std_ic_t2t_mou_8    3.913203\n",
       "std_ic_t2m_mou_6    1.816606\n",
       "std_ic_t2m_mou_7    1.789940\n",
       "std_ic_t2m_mou_8    3.913203\n",
       "std_ic_t2f_mou_6    1.816606\n",
       "std_ic_t2f_mou_7    1.789940\n",
       "std_ic_t2f_mou_8    3.913203\n",
       "std_ic_mou_6        1.816606\n",
       "std_ic_mou_7        1.789940\n",
       "std_ic_mou_8        3.913203\n",
       "total_ic_mou_6      0.000000\n",
       "total_ic_mou_7      0.000000\n",
       "total_ic_mou_8      0.000000\n",
       "spl_ic_mou_6        1.816606\n",
       "spl_ic_mou_7        1.789940\n",
       "spl_ic_mou_8        3.913203\n",
       "isd_ic_mou_6        1.816606\n",
       "isd_ic_mou_7        1.789940\n",
       "isd_ic_mou_8        3.913203\n",
       "Length: 81, dtype: float64"
      ]
     },
     "execution_count": 349,
     "metadata": {},
     "output_type": "execute_result"
    }
   ],
   "source": [
    "# let's check the % of null values among mou variables\n",
    "mou_cols = telecom_data.columns[telecom_data.columns.str.contains('mou')]\n",
    "100*telecom_data.loc[:,mou_cols].isnull().sum()/len(telecom_data.loc[:,mou_cols])"
   ]
  },
  {
   "cell_type": "code",
   "execution_count": 350,
   "metadata": {},
   "outputs": [
    {
     "data": {
      "text/plain": [
       "3.9132028932368921"
      ]
     },
     "execution_count": 350,
     "metadata": {},
     "output_type": "execute_result"
    }
   ],
   "source": [
    "# let's check the maximum % of missing value\n",
    "100*telecom_data.loc[:,mou_cols].isnull().sum().max()/len(telecom_data.loc[:,mou_cols])"
   ]
  },
  {
   "cell_type": "markdown",
   "metadata": {},
   "source": [
    "So for all minutes of usage columns the maximum missing % is 3.19 which seems that in these case the mobile has not been used at all for that particular call type(ic,std etc.), thus it is safe to assume that we can impute the missing values with zero."
   ]
  },
  {
   "cell_type": "code",
   "execution_count": 351,
   "metadata": {},
   "outputs": [],
   "source": [
    "# replaceing null values by 0 for minutes of usage variables\n",
    "telecom_data.loc[:,mou_cols] = telecom_data.loc[:,mou_cols].replace(np.NaN,0)"
   ]
  },
  {
   "cell_type": "markdown",
   "metadata": {},
   "source": [
    "Lets now now analyze the sub groups of minutes of usage, following groups are there:\n",
    "* og: outgoing calls\n",
    "* ic: incoming calls\n",
    "* offnet: all kinds of calls outside operator network\n",
    "* onnet: all kinds of call within same operator network\n",
    "\n",
    "Let us start by analyzing minutes for usage variables for month 6"
   ]
  },
  {
   "cell_type": "code",
   "execution_count": 352,
   "metadata": {},
   "outputs": [],
   "source": [
    "# let's collect mou variables for month 6\n",
    "mou_6 = telecom_data.columns[telecom_data.columns.str.contains('mou_6')]"
   ]
  },
  {
   "cell_type": "code",
   "execution_count": 353,
   "metadata": {},
   "outputs": [
    {
     "data": {
      "text/plain": [
       "Index(['onnet_mou_6', 'offnet_mou_6', 'roam_ic_mou_6', 'roam_og_mou_6',\n",
       "       'loc_og_t2t_mou_6', 'loc_og_t2m_mou_6', 'loc_og_t2f_mou_6',\n",
       "       'loc_og_t2c_mou_6', 'loc_og_mou_6', 'std_og_t2t_mou_6',\n",
       "       'std_og_t2m_mou_6', 'std_og_t2f_mou_6', 'std_og_mou_6', 'isd_og_mou_6',\n",
       "       'spl_og_mou_6', 'total_og_mou_6', 'loc_ic_t2t_mou_6',\n",
       "       'loc_ic_t2m_mou_6', 'loc_ic_t2f_mou_6', 'loc_ic_mou_6',\n",
       "       'std_ic_t2t_mou_6', 'std_ic_t2m_mou_6', 'std_ic_t2f_mou_6',\n",
       "       'std_ic_mou_6', 'total_ic_mou_6', 'spl_ic_mou_6', 'isd_ic_mou_6'],\n",
       "      dtype='object')"
      ]
     },
     "execution_count": 353,
     "metadata": {},
     "output_type": "execute_result"
    }
   ],
   "source": [
    "mou_6"
   ]
  },
  {
   "cell_type": "markdown",
   "metadata": {},
   "source": [
    "Let's check the outgoing mou variables."
   ]
  },
  {
   "cell_type": "code",
   "execution_count": 354,
   "metadata": {},
   "outputs": [],
   "source": [
    "mou_og_cols6 = telecom_data.columns[telecom_data.columns.str.contains('.*_og_.*mou_6',regex=True)]"
   ]
  },
  {
   "cell_type": "code",
   "execution_count": 355,
   "metadata": {},
   "outputs": [
    {
     "data": {
      "image/png": "[encoded data removed]",
      "text/plain": [
       "<matplotlib.figure.Figure at 0x1a1af40278>"
      ]
     },
     "metadata": {},
     "output_type": "display_data"
    }
   ],
   "source": [
    "#sns.heatmap(telecom_data.loc[:,mou_cols6].corr())\n",
    "\n",
    "# let us create a correlation matrix heatmap among quantitative varibales\n",
    "plt.figure(figsize=(10, 8))\n",
    "sns.heatmap(telecom_data.loc[:,mou_og_cols6].corr(), cmap=\"YlGnBu\")\n",
    "plt.show()"
   ]
  },
  {
   "cell_type": "markdown",
   "metadata": {},
   "source": [
    "After analyzing the variables, we acertain the following rlationships among variables: \n",
    "\n",
    "* **total_og_mou_6 = loc_og_mou_6+std_og_mou_6+spl_og_mou_6+isd_og_mou_6+ roam_og_mou_6+og_others_6**\n",
    "* **std_og_mou_6 = std_og_t2m_mou_6+std_og_t2t_mou_6+std_og_t2f_mou_6 + std_og_2tc_mou_6**\n",
    "* **loc_og_mou_6 = loc_og_t2m_mou_6+loc_og_t2t_mou_6+loc_og_t2f_mou_6 + loc_og_2tc_mou_6**"
   ]
  },
  {
   "cell_type": "code",
   "execution_count": 356,
   "metadata": {},
   "outputs": [
    {
     "name": "stdout",
     "output_type": "stream",
     "text": [
      "487.53 487.52000000000004\n",
      "60.86 60.849999999999994\n",
      "422.16 422.15\n"
     ]
    }
   ],
   "source": [
    "## fact checking!!\n",
    "print(telecom_data.loc[7,'total_og_mou_6'],telecom_data.loc[7,['loc_og_mou_6','std_og_mou_6','spl_og_mou_6','isd_og_mou_6','og_others_6']].sum())\n",
    "\n",
    "print(telecom_data.loc[7,'std_og_mou_6'],telecom_data.loc[7,['std_og_t2m_mou_6','std_og_t2t_mou_6','std_og_t2f_mou_6','std_og_loc_mou_6']].sum())\n",
    "\n",
    "print(telecom_data.loc[7,'loc_og_mou_6'],telecom_data.loc[7,['loc_og_t2m_mou_6','loc_og_t2t_mou_6','loc_og_t2f_mou_6','loc_og_2tc_mou_6']].sum())"
   ]
  },
  {
   "cell_type": "code",
   "execution_count": 357,
   "metadata": {},
   "outputs": [
    {
     "name": "stdout",
     "output_type": "stream",
     "text": [
      "Index(['loc_og_mou_6', 'loc_og_mou_7', 'loc_og_mou_8', 'std_og_mou_6',\n",
      "       'std_og_mou_7', 'std_og_mou_8', 'total_og_mou_6', 'total_og_mou_7',\n",
      "       'total_og_mou_8'],\n",
      "      dtype='object')\n"
     ]
    }
   ],
   "source": [
    "# As total_og_mou_6, std_og_mou_6 and loc_og_mou_6 already have component variables present in dataset\n",
    "# let's remove these columns for all months from the data set\n",
    "\n",
    "ls_total_og_cols = telecom_data.columns[telecom_data.columns.str.contains('total_og_mou|std_og_mou|loc_og_mou',regex=True)]\n",
    "\n",
    "print(ls_total_og_cols)\n",
    "\n",
    "telecom_data.drop(ls_total_og_cols,axis=1,inplace=True)"
   ]
  },
  {
   "cell_type": "code",
   "execution_count": 358,
   "metadata": {},
   "outputs": [],
   "source": [
    "# let's define good phase derived variables for all og components:\n",
    "telecom_data['spl_og_mou_good_ph'] = (telecom_data.spl_og_mou_6 + telecom_data.spl_og_mou_7)/2\n",
    "telecom_data['isd_og_mou_good_ph'] = (telecom_data.isd_og_mou_6 + telecom_data.isd_og_mou_7)/2\n",
    "telecom_data['roam_og_mou_good_ph'] = (telecom_data.roam_og_mou_6 + telecom_data.roam_og_mou_7)/2\n",
    "telecom_data['std_og_t2m_mou_good_ph'] = (telecom_data.std_og_t2m_mou_6 + telecom_data.std_og_t2m_mou_7)/2\n",
    "telecom_data['std_og_t2t_mou_good_ph'] = (telecom_data.std_og_t2t_mou_6 + telecom_data.std_og_t2t_mou_7)/2\n",
    "telecom_data['std_og_t2f_mou_good_ph'] = (telecom_data.std_og_t2f_mou_6 + telecom_data.std_og_t2f_mou_7)/2\n",
    "\n",
    "telecom_data['loc_og_t2m_mou_good_ph'] = (telecom_data.loc_og_t2m_mou_6 + telecom_data.loc_og_t2m_mou_7)/2\n",
    "telecom_data['loc_og_t2t_mou_good_ph'] = (telecom_data.loc_og_t2t_mou_6 + telecom_data.loc_og_t2t_mou_7)/2\n",
    "telecom_data['loc_og_t2f_mou_good_ph'] = (telecom_data.loc_og_t2f_mou_6 + telecom_data.loc_og_t2f_mou_7)/2\n",
    "telecom_data['loc_og_t2c_mou_good_ph'] = (telecom_data.loc_og_t2c_mou_6 + telecom_data.loc_og_t2c_mou_7)/2"
   ]
  },
  {
   "cell_type": "code",
   "execution_count": 359,
   "metadata": {},
   "outputs": [
    {
     "name": "stdout",
     "output_type": "stream",
     "text": [
      "Index(['roam_og_mou_6', 'roam_og_mou_7', 'loc_og_t2t_mou_6',\n",
      "       'loc_og_t2t_mou_7', 'loc_og_t2m_mou_6', 'loc_og_t2m_mou_7',\n",
      "       'loc_og_t2f_mou_6', 'loc_og_t2f_mou_7', 'loc_og_t2c_mou_6',\n",
      "       'loc_og_t2c_mou_7', 'std_og_t2t_mou_6', 'std_og_t2t_mou_7',\n",
      "       'std_og_t2m_mou_6', 'std_og_t2m_mou_7', 'std_og_t2f_mou_6',\n",
      "       'std_og_t2f_mou_7', 'isd_og_mou_6', 'isd_og_mou_7', 'spl_og_mou_6',\n",
      "       'spl_og_mou_7'],\n",
      "      dtype='object')\n"
     ]
    }
   ],
   "source": [
    "# drop all the original og mou variables\n",
    "ls_og = telecom_data.columns[telecom_data.columns.str.contains('.*_og_.*mou_6|.*_og_.*mou_7',regex=True)]\n",
    "\n",
    "print(ls_og)\n",
    "\n",
    "telecom_data.drop(ls_og,axis=1,inplace=True)"
   ]
  },
  {
   "cell_type": "markdown",
   "metadata": {},
   "source": [
    "**Let's check for incoming mou variables**"
   ]
  },
  {
   "cell_type": "code",
   "execution_count": 360,
   "metadata": {},
   "outputs": [
    {
     "data": {
      "text/plain": [
       "Index(['roam_ic_mou_6', 'loc_ic_t2t_mou_6', 'loc_ic_t2m_mou_6',\n",
       "       'loc_ic_t2f_mou_6', 'loc_ic_mou_6', 'std_ic_t2t_mou_6',\n",
       "       'std_ic_t2m_mou_6', 'std_ic_t2f_mou_6', 'std_ic_mou_6',\n",
       "       'total_ic_mou_6', 'spl_ic_mou_6', 'isd_ic_mou_6'],\n",
       "      dtype='object')"
      ]
     },
     "execution_count": 360,
     "metadata": {},
     "output_type": "execute_result"
    }
   ],
   "source": [
    "mou_ic_cols6 = telecom_data.columns[telecom_data.columns.str.contains('.*_ic_.*mou_6',regex=True)]\n",
    "\n",
    "mou_ic_cols6"
   ]
  },
  {
   "cell_type": "markdown",
   "metadata": {},
   "source": [
    "As with og mou variables above, we observe the following relationship among ic (incoming)mou variables:\n",
    "\n",
    "* **total_ic_mou_6 = loc_ic_mou_6 + std_ic_mou_6 + roam_ic_mou_6 + isd_ic_mou_6 + spl_ic_mou_6 + ic_others_6**\n",
    "* **loc_ic_mou_6 = loc_ic_t2t_mou_6 + loc_ic_t2m_mou_6+loc_ic_t2f_mou_6+loc_ic_t2c_mou_6**\n",
    "* **std_ic_mou_6 = std_ic_t2t_mou_6 + std_ic_t2m_mou_6 + std_ic_t2f_mou_6+std_ic_t2c_mou_6**"
   ]
  },
  {
   "cell_type": "code",
   "execution_count": 361,
   "metadata": {},
   "outputs": [
    {
     "name": "stdout",
     "output_type": "stream",
     "text": [
      "626.46 626.92\n",
      "427.88 427.86\n",
      "180.54 180.51999999999998\n"
     ]
    }
   ],
   "source": [
    "# fact checking!!\n",
    "print(telecom_data.loc[7,'total_ic_mou_6'],telecom_data.loc[7,['loc_ic_mou_6','roam_ic_mou_6','isd_ic_mou_6','spl_ic_mou_6','std_ic_mou_6']].sum())\n",
    "\n",
    "print(telecom_data.loc[7,'loc_ic_mou_6'],telecom_data.loc[7,['loc_ic_t2t_mou_6','loc_ic_t2m_mou_6','loc_ic_t2f_mou_6','loc_ic_t2c_mou_6']].sum())\n",
    "\n",
    "print(telecom_data.loc[7,'std_ic_mou_6'],telecom_data.loc[7,['std_ic_t2t_mou_6','std_ic_t2m_mou_6','std_ic_t2f_mou_6','std_ic_t2c_mou_6']].sum())"
   ]
  },
  {
   "cell_type": "code",
   "execution_count": 362,
   "metadata": {},
   "outputs": [
    {
     "name": "stdout",
     "output_type": "stream",
     "text": [
      "Index(['loc_ic_mou_6', 'loc_ic_mou_7', 'loc_ic_mou_8', 'std_ic_mou_6',\n",
      "       'std_ic_mou_7', 'std_ic_mou_8', 'total_ic_mou_6', 'total_ic_mou_7',\n",
      "       'total_ic_mou_8'],\n",
      "      dtype='object')\n"
     ]
    }
   ],
   "source": [
    "# As total_ic_mou_6, std_ic_mou_6 and loc_ic_mou_6 already have component variables present in dataset\n",
    "# let's remove these columns for all months from the data set\n",
    "\n",
    "ls_total_ic_cols = telecom_data.columns[telecom_data.columns.str.contains('total_ic_mou|std_ic_mou|loc_ic_mou',regex=True)]\n",
    "\n",
    "print(ls_total_ic_cols)\n",
    "\n",
    "telecom_data.drop(ls_total_ic_cols,axis=1,inplace=True)"
   ]
  },
  {
   "cell_type": "code",
   "execution_count": 363,
   "metadata": {},
   "outputs": [],
   "source": [
    "# let's define good phase derive variables for all ic components:\n",
    "telecom_data['spl_ic_mou_good_ph'] = (telecom_data.spl_ic_mou_6 + telecom_data.spl_ic_mou_7)/2\n",
    "telecom_data['isd_ic_mou_good_ph'] = (telecom_data.isd_ic_mou_6 + telecom_data.isd_ic_mou_7)/2\n",
    "telecom_data['roam_ic_mou_good_ph'] = (telecom_data.roam_ic_mou_6 + telecom_data.roam_ic_mou_7)/2\n",
    "telecom_data['std_ic_t2m_mou_good_ph'] = (telecom_data.std_ic_t2m_mou_6 + telecom_data.std_ic_t2m_mou_7)/2\n",
    "telecom_data['std_ic_t2t_mou_good_ph'] = (telecom_data.std_ic_t2t_mou_6 + telecom_data.std_ic_t2t_mou_7)/2\n",
    "telecom_data['std_ic_t2f_mou_good_ph'] = (telecom_data.std_ic_t2f_mou_6 + telecom_data.std_ic_t2f_mou_7)/2\n",
    "\n",
    "telecom_data['loc_ic_t2m_mou_good_ph'] = (telecom_data.loc_ic_t2m_mou_6 + telecom_data.loc_ic_t2m_mou_7)/2\n",
    "telecom_data['loc_ic_t2t_mou_good_ph'] = (telecom_data.loc_ic_t2t_mou_6 + telecom_data.loc_ic_t2t_mou_7)/2\n",
    "telecom_data['loc_ic_t2f_mou_good_ph'] = (telecom_data.loc_ic_t2f_mou_6 + telecom_data.loc_ic_t2f_mou_7)/2"
   ]
  },
  {
   "cell_type": "code",
   "execution_count": 364,
   "metadata": {},
   "outputs": [
    {
     "name": "stdout",
     "output_type": "stream",
     "text": [
      "Index(['roam_ic_mou_6', 'roam_ic_mou_7', 'loc_ic_t2t_mou_6',\n",
      "       'loc_ic_t2t_mou_7', 'loc_ic_t2m_mou_6', 'loc_ic_t2m_mou_7',\n",
      "       'loc_ic_t2f_mou_6', 'loc_ic_t2f_mou_7', 'std_ic_t2t_mou_6',\n",
      "       'std_ic_t2t_mou_7', 'std_ic_t2m_mou_6', 'std_ic_t2m_mou_7',\n",
      "       'std_ic_t2f_mou_6', 'std_ic_t2f_mou_7', 'spl_ic_mou_6', 'spl_ic_mou_7',\n",
      "       'isd_ic_mou_6', 'isd_ic_mou_7'],\n",
      "      dtype='object')\n"
     ]
    }
   ],
   "source": [
    "# drop all the original og mou variables\n",
    "ls_ic = telecom_data.columns[telecom_data.columns.str.contains('.*_ic_.*mou_6|.*_ic_.*mou_7',regex=True)]\n",
    "\n",
    "print(ls_ic)\n",
    "\n",
    "telecom_data.drop(ls_ic,axis=1,inplace=True)"
   ]
  },
  {
   "cell_type": "markdown",
   "metadata": {},
   "source": [
    "**offnet usage**"
   ]
  },
  {
   "cell_type": "code",
   "execution_count": 365,
   "metadata": {},
   "outputs": [],
   "source": [
    " offnet_cols = telecom_data.columns[telecom_data.columns.str.contains('offnet',regex=True)]"
   ]
  },
  {
   "cell_type": "code",
   "execution_count": 366,
   "metadata": {},
   "outputs": [
    {
     "name": "stdout",
     "output_type": "stream",
     "text": [
      "Churn Stats (mean and standard deviation):\n",
      "{6: 'offnet_mou_6', 7: 'offnet_mou_7', 8: 'offnet_mou_8'}\n"
     ]
    },
    {
     "data": {
      "text/html": [
       "<div>\n",
       "<style>\n",
       "    .dataframe thead tr:only-child th {\n",
       "        text-align: right;\n",
       "    }\n",
       "\n",
       "    .dataframe thead th {\n",
       "        text-align: left;\n",
       "    }\n",
       "\n",
       "    .dataframe tbody tr th {\n",
       "        vertical-align: top;\n",
       "    }\n",
       "</style>\n",
       "<table border=\"1\" class=\"dataframe\">\n",
       "  <thead>\n",
       "    <tr style=\"text-align: right;\">\n",
       "      <th></th>\n",
       "      <th>mean_6</th>\n",
       "      <th>mean_7</th>\n",
       "      <th>mean_8</th>\n",
       "      <th>std_6</th>\n",
       "      <th>std_7</th>\n",
       "      <th>std_8</th>\n",
       "    </tr>\n",
       "  </thead>\n",
       "  <tbody>\n",
       "    <tr>\n",
       "      <th>Churned</th>\n",
       "      <td>364.92</td>\n",
       "      <td>377.79</td>\n",
       "      <td>352.68</td>\n",
       "      <td>463.15</td>\n",
       "      <td>489.51</td>\n",
       "      <td>490.20</td>\n",
       "    </tr>\n",
       "    <tr>\n",
       "      <th>Non Churned</th>\n",
       "      <td>469.29</td>\n",
       "      <td>381.51</td>\n",
       "      <td>143.30</td>\n",
       "      <td>650.11</td>\n",
       "      <td>591.94</td>\n",
       "      <td>325.64</td>\n",
       "    </tr>\n",
       "  </tbody>\n",
       "</table>\n",
       "</div>"
      ],
      "text/plain": [
       "             mean_6  mean_7  mean_8   std_6   std_7   std_8\n",
       "Churned      364.92  377.79  352.68  463.15  489.51  490.20\n",
       "Non Churned  469.29  381.51  143.30  650.11  591.94  325.64"
      ]
     },
     "execution_count": 366,
     "metadata": {},
     "output_type": "execute_result"
    },
    {
     "data": {
      "text/plain": [
       "<matplotlib.figure.Figure at 0x1a19f0c4e0>"
      ]
     },
     "metadata": {},
     "output_type": "display_data"
    },
    {
     "data": {
      "image/png": "[encoded data removed]",
      "text/plain": [
       "<matplotlib.figure.Figure at 0x1179530f0>"
      ]
     },
     "metadata": {},
     "output_type": "display_data"
    }
   ],
   "source": [
    "# let's analyze for offnet mou values for churned and non churned customers\n",
    "analyze_feature('offnet_mou')"
   ]
  },
  {
   "cell_type": "markdown",
   "metadata": {},
   "source": [
    "there is a substantial decrease in offnet mou for action month."
   ]
  },
  {
   "cell_type": "code",
   "execution_count": 367,
   "metadata": {},
   "outputs": [],
   "source": [
    "# Let us define new derived column\n",
    "# minutes of usage for good phase: onnet_mou_good_ph\n",
    "telecom_data['offnet_mou_good_ph'] = (telecom_data.offnet_mou_6 + telecom_data.offnet_mou_7)/2\n",
    "\n",
    "# drop the original columns as these are not longer required\n",
    "telecom_data.drop(['offnet_mou_6','offnet_mou_7'],axis=1,inplace=True)"
   ]
  },
  {
   "cell_type": "markdown",
   "metadata": {},
   "source": [
    "#### minutes of usage related variables within same operator network"
   ]
  },
  {
   "cell_type": "code",
   "execution_count": 368,
   "metadata": {},
   "outputs": [],
   "source": [
    "#let's extract the minutes of usage related columns\n",
    "onnet_cols =  telecom_data.columns[telecom_data.columns.str.contains('^onnet.*mou',regex=True)]"
   ]
  },
  {
   "cell_type": "code",
   "execution_count": 369,
   "metadata": {},
   "outputs": [
    {
     "name": "stdout",
     "output_type": "stream",
     "text": [
      "Churn Stats (mean and standard deviation):\n",
      "{6: 'onnet_mou_6', 7: 'onnet_mou_7', 8: 'onnet_mou_8'}\n"
     ]
    },
    {
     "data": {
      "text/html": [
       "<div>\n",
       "<style>\n",
       "    .dataframe thead tr:only-child th {\n",
       "        text-align: right;\n",
       "    }\n",
       "\n",
       "    .dataframe thead th {\n",
       "        text-align: left;\n",
       "    }\n",
       "\n",
       "    .dataframe tbody tr th {\n",
       "        vertical-align: top;\n",
       "    }\n",
       "</style>\n",
       "<table border=\"1\" class=\"dataframe\">\n",
       "  <thead>\n",
       "    <tr style=\"text-align: right;\">\n",
       "      <th></th>\n",
       "      <th>mean_6</th>\n",
       "      <th>mean_7</th>\n",
       "      <th>mean_8</th>\n",
       "      <th>std_6</th>\n",
       "      <th>std_7</th>\n",
       "      <th>std_8</th>\n",
       "    </tr>\n",
       "  </thead>\n",
       "  <tbody>\n",
       "    <tr>\n",
       "      <th>Churned</th>\n",
       "      <td>250.86</td>\n",
       "      <td>265.59</td>\n",
       "      <td>244.98</td>\n",
       "      <td>441.95</td>\n",
       "      <td>474.22</td>\n",
       "      <td>466.25</td>\n",
       "    </tr>\n",
       "    <tr>\n",
       "      <th>Non Churned</th>\n",
       "      <td>369.03</td>\n",
       "      <td>292.15</td>\n",
       "      <td>115.71</td>\n",
       "      <td>610.30</td>\n",
       "      <td>538.45</td>\n",
       "      <td>341.05</td>\n",
       "    </tr>\n",
       "  </tbody>\n",
       "</table>\n",
       "</div>"
      ],
      "text/plain": [
       "             mean_6  mean_7  mean_8   std_6   std_7   std_8\n",
       "Churned      250.86  265.59  244.98  441.95  474.22  466.25\n",
       "Non Churned  369.03  292.15  115.71  610.30  538.45  341.05"
      ]
     },
     "execution_count": 369,
     "metadata": {},
     "output_type": "execute_result"
    },
    {
     "data": {
      "text/plain": [
       "<matplotlib.figure.Figure at 0x1a1e89ef60>"
      ]
     },
     "metadata": {},
     "output_type": "display_data"
    },
    {
     "data": {
      "image/png": "[encoded data removed]",
      "text/plain": [
       "<matplotlib.figure.Figure at 0x1a1b0cb240>"
      ]
     },
     "metadata": {},
     "output_type": "display_data"
    }
   ],
   "source": [
    "# let's analyze for offnet mou values for churned and non churned customers\n",
    "analyze_feature('onnet_mou')"
   ]
  },
  {
   "cell_type": "markdown",
   "metadata": {},
   "source": [
    "We again see that there is a drop in minutes of usage in the action month (8th month) for churned customers"
   ]
  },
  {
   "cell_type": "code",
   "execution_count": 370,
   "metadata": {},
   "outputs": [],
   "source": [
    "# Let us define new derived column\n",
    "# minutes of usage for good phase: onnet_mou_good_ph\n",
    "telecom_data['onnet_mou_good_ph'] = (telecom_data.onnet_mou_6 + telecom_data.onnet_mou_7)/2\n",
    "\n",
    "# drop the original columns as these are not longer required\n",
    "telecom_data.drop(['onnet_mou_6','onnet_mou_7'],axis=1,inplace=True)"
   ]
  },
  {
   "cell_type": "code",
   "execution_count": 371,
   "metadata": {},
   "outputs": [
    {
     "name": "stdout",
     "output_type": "stream",
     "text": [
      "        og_others_6   og_others_7   og_others_8   ic_others_6   ic_others_7  \\\n",
      "count  29456.000000  29464.000000  28827.000000  29456.000000  29464.000000   \n",
      "mean       0.673323      0.043687      0.059953      1.174790      1.527682   \n",
      "std        4.144797      2.701071      3.381939     14.113843     16.141140   \n",
      "min        0.000000      0.000000      0.000000      0.000000      0.000000   \n",
      "25%        0.000000      0.000000      0.000000      0.000000      0.000000   \n",
      "50%        0.000000      0.000000      0.000000      0.000000      0.000000   \n",
      "75%        0.000000      0.000000      0.000000      0.060000      0.000000   \n",
      "max      609.810000    370.130000    394.930000   1344.140000   1495.940000   \n",
      "\n",
      "        ic_others_8  \n",
      "count  28827.000000  \n",
      "mean       1.274322  \n",
      "std       13.038515  \n",
      "min        0.000000  \n",
      "25%        0.000000  \n",
      "50%        0.000000  \n",
      "75%        0.060000  \n",
      "max     1209.860000  \n"
     ]
    }
   ],
   "source": [
    "# let's check summary stats for oc others and ic others mou\n",
    "ls_others = telecom_data.columns[telecom_data.columns.str.contains('_others')]\n",
    "\n",
    "print(telecom_data.loc[:,ls_others].describe())"
   ]
  },
  {
   "cell_type": "markdown",
   "metadata": {},
   "source": [
    "we see from above that very few values are availabe for oc_others and ic_others."
   ]
  },
  {
   "cell_type": "code",
   "execution_count": 372,
   "metadata": {},
   "outputs": [],
   "source": [
    "# Let us define two new derived columns\n",
    "# OG others for good phase: og_others_good_ph\n",
    "# IC otherd for good phase: ic_others_good_ph\n",
    "telecom_data['og_others_good_ph'] = (telecom_data.og_others_6 + telecom_data.og_others_7)/2\n",
    "telecom_data['ic_others_good_ph'] = (telecom_data.ic_others_6 + telecom_data.ic_others_6)/2\n",
    "\n",
    "\n",
    "# drop the original columns as these are not longer required\n",
    "telecom_data.drop(['og_others_6','og_others_7','ic_others_6','ic_others_7'],axis=1,inplace=True)"
   ]
  },
  {
   "cell_type": "markdown",
   "metadata": {},
   "source": [
    "Let's check if there are any more columns with more than 20% NA values remaining."
   ]
  },
  {
   "cell_type": "code",
   "execution_count": 373,
   "metadata": {},
   "outputs": [
    {
     "data": {
      "text/plain": [
       "night_pck_user_6               44.148528\n",
       "night_pck_user_7               43.145228\n",
       "night_pck_user_8               46.825106\n",
       "fb_user_6                      44.148528\n",
       "fb_user_7                      43.145228\n",
       "fb_user_8                      46.825106\n",
       "day_of_last_rech_data_shift    59.904670\n",
       "dtype: float64"
      ]
     },
     "execution_count": 373,
     "metadata": {},
     "output_type": "execute_result"
    }
   ],
   "source": [
    "is_more_than_20 = telecom_data.isnull().sum()/len(telecom_data) > 0.2\n",
    "100*telecom_data.loc[:,is_more_than_20].isnull().sum()/len(telecom_data.loc[:,is_more_than_20])"
   ]
  },
  {
   "cell_type": "code",
   "execution_count": 374,
   "metadata": {},
   "outputs": [],
   "source": [
    "# lets drop these columns as we have already captured internet volume usage and total data amount recharged.\n",
    "# also we have captured day of last recharge shift as well.\n",
    "telecom_data.drop(telecom_data.columns[is_more_than_20],axis=1,inplace=True)"
   ]
  },
  {
   "cell_type": "code",
   "execution_count": 375,
   "metadata": {},
   "outputs": [
    {
     "data": {
      "text/plain": [
       "(30001, 78)"
      ]
     },
     "execution_count": 375,
     "metadata": {},
     "output_type": "execute_result"
    }
   ],
   "source": [
    "# let's check how many variables are remaining!!\n",
    "telecom_data.shape"
   ]
  },
  {
   "cell_type": "code",
   "execution_count": 376,
   "metadata": {},
   "outputs": [
    {
     "data": {
      "text/plain": [
       "og_others_8               3.913203\n",
       "ic_others_8               3.913203\n",
       "day_of_last_rech_shift    2.306590\n",
       "og_others_good_ph         2.606580\n",
       "ic_others_good_ph         1.816606\n",
       "dtype: float64"
      ]
     },
     "execution_count": 376,
     "metadata": {},
     "output_type": "execute_result"
    }
   ],
   "source": [
    "is_na = telecom_data.isnull().sum()/len(telecom_data) > 0\n",
    "100*telecom_data.loc[:,is_na].isnull().sum()/len(telecom_data.loc[:,is_na])"
   ]
  },
  {
   "cell_type": "markdown",
   "metadata": {},
   "source": [
    "We can observe that these have very few values a NA indicating that there is no usage in these variables by customer.\n",
    "Let's impute these values by 0."
   ]
  },
  {
   "cell_type": "code",
   "execution_count": 377,
   "metadata": {},
   "outputs": [],
   "source": [
    "telecom_data.loc[:,:] = telecom_data.loc[:,:].replace(np.NaN,0)"
   ]
  },
  {
   "cell_type": "markdown",
   "metadata": {},
   "source": [
    "### Model building\n",
    "\n",
    "In this section we will build multiple machine learning models to accurately predict customers who might churn in the action phase (8th Month)"
   ]
  },
  {
   "cell_type": "code",
   "execution_count": 378,
   "metadata": {},
   "outputs": [],
   "source": [
    "# Putting feature variable to X\n",
    "X = telecom_data.drop(['churn','mobile_number'],axis=1)\n",
    "\n",
    "# Putting response variable to y\n",
    "y = telecom_data['churn']"
   ]
  },
  {
   "cell_type": "markdown",
   "metadata": {},
   "source": [
    "#### Additional feature engineering\n",
    "\n",
    "We will do some additional feature transformation to achieve better accuracy in our predictive model. We know from EDA above that a drop in action phase parameter as compared to good phase value is highly indicative of a likely churn, let's use this heuristic to derive action phase column which is actually the difference between good phase feature value and action phase (8th month) feature value and discard the 8th month feature columns."
   ]
  },
  {
   "cell_type": "code",
   "execution_count": 379,
   "metadata": {},
   "outputs": [],
   "source": [
    "# extract good phase feature list and 8th month feature list\n",
    "f_good_ph = X.loc[:,X.columns.str.contains('good_ph')]\n",
    "f_8 = X.loc[:,X.columns.str.contains('_8')]"
   ]
  },
  {
   "cell_type": "code",
   "execution_count": 380,
   "metadata": {},
   "outputs": [],
   "source": [
    "# define function to calculate difference between 8th month feature and good phase feature\n",
    "def FindDiff(x,y):      \n",
    "    diff = 0.00\n",
    "    if np.isnan(x) and np.isnan(y):\n",
    "        diff = np.NAN\n",
    "    elif np.isnan(y) and ~np.isnan(x):\n",
    "        diff = x\n",
    "    elif ~np.isnan(y)and np.isnan(x):\n",
    "        diff = -y\n",
    "    else:\n",
    "        diff = x-y\n",
    "\n",
    "    return(diff)    "
   ]
  },
  {
   "cell_type": "code",
   "execution_count": 381,
   "metadata": {},
   "outputs": [],
   "source": [
    "# create a feature data frame copy from original features\n",
    "X_diff = X.copy()"
   ]
  },
  {
   "cell_type": "code",
   "execution_count": 382,
   "metadata": {},
   "outputs": [
    {
     "data": {
      "text/plain": [
       "{'arpu',\n",
       " 'ic_others',\n",
       " 'isd_ic_mou',\n",
       " 'isd_og_mou',\n",
       " 'last_day_rch_amt',\n",
       " 'loc_ic_t2f_mou',\n",
       " 'loc_ic_t2m_mou',\n",
       " 'loc_ic_t2t_mou',\n",
       " 'loc_og_t2c_mou',\n",
       " 'loc_og_t2f_mou',\n",
       " 'loc_og_t2m_mou',\n",
       " 'loc_og_t2t_mou',\n",
       " 'max_rech_amt',\n",
       " 'max_rech_data',\n",
       " 'monthly_2g',\n",
       " 'monthly_3g',\n",
       " 'offnet_mou',\n",
       " 'og_others',\n",
       " 'onnet_mou',\n",
       " 'roam_ic_mou',\n",
       " 'roam_og_mou',\n",
       " 'sachet_2g',\n",
       " 'sachet_3g',\n",
       " 'spl_ic_mou',\n",
       " 'spl_og_mou',\n",
       " 'std_ic_t2f_mou',\n",
       " 'std_ic_t2m_mou',\n",
       " 'std_ic_t2t_mou',\n",
       " 'std_og_t2f_mou',\n",
       " 'std_og_t2m_mou',\n",
       " 'std_og_t2t_mou',\n",
       " 'total_rech_amt',\n",
       " 'total_rech_amt_data',\n",
       " 'total_rech_num',\n",
       " 'vbc_3g',\n",
       " 'vol_2g_mb',\n",
       " 'vol_3g_mb'}"
      ]
     },
     "execution_count": 382,
     "metadata": {},
     "output_type": "execute_result"
    }
   ],
   "source": [
    "# extract features without any good phase or 8th month indicator.\n",
    "features_to_explore = set(map(lambda x: x.replace(\"_good_ph\", \"\"), f_good_ph))\n",
    "features_to_explore"
   ]
  },
  {
   "cell_type": "code",
   "execution_count": 383,
   "metadata": {},
   "outputs": [],
   "source": [
    "# create new derived columns for action phase.\n",
    "for feat in features_to_explore:\n",
    "    X_diff[feat+'_act_ph']= np.vectorize(FindDiff)(X_diff[feat+'_8'], X_diff[feat+'_good_ph'])"
   ]
  },
  {
   "cell_type": "code",
   "execution_count": 384,
   "metadata": {},
   "outputs": [],
   "source": [
    "# drop 8th month columns as we have already derived action phase columns.\n",
    "X_diff.drop(f_8,axis=1,inplace=True)"
   ]
  },
  {
   "cell_type": "markdown",
   "metadata": {},
   "source": [
    "#### feature standardisation\n",
    "\n",
    "Let's do a feature standardisation"
   ]
  },
  {
   "cell_type": "code",
   "execution_count": 385,
   "metadata": {},
   "outputs": [],
   "source": [
    "# import standard scalar\n",
    "from sklearn.preprocessing import StandardScaler\n",
    "\n",
    "# extract columns\n",
    "cols = X_diff.columns\n",
    "\n",
    "# apply standard scalar\n",
    "scaler = StandardScaler()\n",
    "\n",
    "# produce scaled features\n",
    "X_scaled = scaler.fit_transform(X_diff)\n",
    "\n",
    "# convert to data frame\n",
    "X_scaled = pd.DataFrame(X_diff, columns=cols)\n"
   ]
  },
  {
   "cell_type": "code",
   "execution_count": 386,
   "metadata": {},
   "outputs": [],
   "source": [
    "# Splitting the data into train and test\n",
    "X_train, X_test, y_train, y_test = train_test_split(X_scaled,y, train_size=0.7,test_size=0.3,random_state=100)"
   ]
  },
  {
   "cell_type": "markdown",
   "metadata": {},
   "source": [
    "Let's define a function to print out evaluation metrics, as we have customer churn as positive class (1) we would try to maximize sensitivity at the same time trying to keep auc_score at a good level."
   ]
  },
  {
   "cell_type": "code",
   "execution_count": 387,
   "metadata": {},
   "outputs": [],
   "source": [
    "from sklearn.metrics import confusion_matrix,roc_auc_score,f1_score\n",
    "\n",
    "# define function to calculate and print model metrics.\n",
    "def printMetrics(y_test,y_pred):\n",
    "    cp = confusion_matrix(y_test,y_pred)\n",
    "    sensitivity = cp[1,1]/(cp[1,0]+cp[1,1])\n",
    "    specificity =  cp[0,0]/(cp[0,1]+cp[0,0])\n",
    "    precision = cp[1,1]/(cp[0,1]+cp[1,1])\n",
    "    print('Confusion Matrix: \\n',cp)\n",
    "    print(\"Sensitivity: \", sensitivity)\n",
    "    print(\"Specificity: \",specificity)\n",
    "    print(\"AUC Score: \", roc_auc_score(y_test,y_pred)) \n",
    "    print(\"Precision: \",precision)\n",
    "    print(\"f1 Score: \",f1_score(y_test,y_pred))"
   ]
  },
  {
   "cell_type": "code",
   "execution_count": 388,
   "metadata": {},
   "outputs": [],
   "source": [
    "# let's start by building as basic logistic regression model\n",
    "from sklearn.linear_model import LogisticRegression\n",
    "lsr = LogisticRegression()"
   ]
  },
  {
   "cell_type": "code",
   "execution_count": 389,
   "metadata": {},
   "outputs": [
    {
     "data": {
      "text/plain": [
       "LogisticRegression(C=1.0, class_weight=None, dual=False, fit_intercept=True,\n",
       "          intercept_scaling=1, max_iter=100, multi_class='ovr', n_jobs=1,\n",
       "          penalty='l2', random_state=None, solver='liblinear', tol=0.0001,\n",
       "          verbose=0, warm_start=False)"
      ]
     },
     "execution_count": 389,
     "metadata": {},
     "output_type": "execute_result"
    }
   ],
   "source": [
    "lsr.fit(X_train,y_train)"
   ]
  },
  {
   "cell_type": "code",
   "execution_count": 390,
   "metadata": {},
   "outputs": [],
   "source": [
    "# predict results on test\n",
    "y_pred = lsr.predict(X_test)"
   ]
  },
  {
   "cell_type": "code",
   "execution_count": 391,
   "metadata": {},
   "outputs": [
    {
     "name": "stdout",
     "output_type": "stream",
     "text": [
      "Confusion Matrix: \n",
      " [[8118  113]\n",
      " [ 505  265]]\n",
      "Sensitivity:  0.344155844156\n",
      "Specificity:  0.986271412951\n",
      "AUC Score:  0.665213628553\n",
      "Precision:  0.701058201058\n",
      "f1 Score:  0.461672473868\n"
     ]
    }
   ],
   "source": [
    "# print model evaluation metrics\n",
    "printMetrics(y_test,y_pred)"
   ]
  },
  {
   "cell_type": "markdown",
   "metadata": {},
   "source": [
    "We do see from above that the sesitivity and auc score is pretty low, this is because the data imbalanced with only 8.4% values for churn. **We will do imbalanced class handling to rectify this**."
   ]
  },
  {
   "cell_type": "markdown",
   "metadata": {},
   "source": [
    "#### Imbalanced class handling\n",
    "\n",
    "In this section we will try to reduce class imbalance by trying out two techniques:\n",
    "\n",
    "* **SMOTE resampling**: by generating synthetic samples for the minority class.\n",
    "* **Majority Class Undersampling**: by deliberately undersampling the majority class."
   ]
  },
  {
   "cell_type": "markdown",
   "metadata": {},
   "source": [
    "#### SMOTE resampling"
   ]
  },
  {
   "cell_type": "code",
   "execution_count": 392,
   "metadata": {},
   "outputs": [
    {
     "ename": "ModuleNotFoundError",
     "evalue": "No module named 'imblearn'",
     "output_type": "error",
     "traceback": [
      "\u001b[0;31m---------------------------------------------------------------------------\u001b[0m",
      "\u001b[0;31mModuleNotFoundError\u001b[0m                       Traceback (most recent call last)",
      "\u001b[0;32m<ipython-input-392-995fc03fb1e0>\u001b[0m in \u001b[0;36m<module>\u001b[0;34m\u001b[0m\n\u001b[1;32m      1\u001b[0m \u001b[0;31m# import SMOTE sampler from imblearn library\u001b[0m\u001b[0;34m\u001b[0m\u001b[0;34m\u001b[0m\u001b[0;34m\u001b[0m\u001b[0m\n\u001b[0;32m----> 2\u001b[0;31m \u001b[0;32mfrom\u001b[0m \u001b[0mimblearn\u001b[0m\u001b[0;34m.\u001b[0m\u001b[0mover_sampling\u001b[0m \u001b[0;32mimport\u001b[0m \u001b[0mSMOTE\u001b[0m\u001b[0;34m\u001b[0m\u001b[0;34m\u001b[0m\u001b[0m\n\u001b[0m\u001b[1;32m      3\u001b[0m \u001b[0msmote\u001b[0m \u001b[0;34m=\u001b[0m \u001b[0mSMOTE\u001b[0m\u001b[0;34m(\u001b[0m\u001b[0mkind\u001b[0m \u001b[0;34m=\u001b[0m \u001b[0;34m\"regular\"\u001b[0m\u001b[0;34m)\u001b[0m\u001b[0;34m\u001b[0m\u001b[0;34m\u001b[0m\u001b[0m\n",
      "\u001b[0;31mModuleNotFoundError\u001b[0m: No module named 'imblearn'"
     ]
    }
   ],
   "source": [
    "# import SMOTE sampler from imblearn library\n",
    "from imblearn.over_sampling import SMOTE\n",
    "smote = SMOTE(kind = \"regular\")"
   ]
  },
  {
   "cell_type": "code",
   "execution_count": null,
   "metadata": {},
   "outputs": [],
   "source": [
    "# SMOTE sampling the training data\n",
    "X_sm, y_sm = smote.fit_sample(X_train, y_train)"
   ]
  },
  {
   "cell_type": "markdown",
   "metadata": {},
   "source": [
    "#### Majority Class Undersampling\n",
    "\n",
    "We will create our own funtion for majority class undersampling. This function will randomly sample the majority class equal to the number of minority class samples from training data."
   ]
  },
  {
   "cell_type": "code",
   "execution_count": null,
   "metadata": {},
   "outputs": [],
   "source": [
    "# function to undersample majority class\n",
    "def MajorityClassUnderSampler(X_train,y_train):\n",
    "    # create training data frame\n",
    "    df_train = pd.concat([X_train.reset_index(drop=True), y_train.reset_index(drop=True)],axis=1)\n",
    "    \n",
    "    # select the minority class (in our case churn)\n",
    "    df_train_minority_class  = df_train.loc[df_train.churn == 1,:]\n",
    "    \n",
    "    # create data frame with majority class samples same as minority class\n",
    "    df_train_majority_undersampled = pd.concat([df_train_minority_class,df_train.loc[df_train.churn == 0,:].sample(df_train_minority_class.shape[0])])\n",
    "\n",
    "    return df_train_majority_undersampled"
   ]
  },
  {
   "cell_type": "code",
   "execution_count": null,
   "metadata": {},
   "outputs": [],
   "source": [
    "# create majority class undersampled data frame from training data\n",
    "df_train_mju = MajorityClassUnderSampler(X_train,y_train)\n",
    "\n",
    "# extract features and labels\n",
    "X_mju = df_train_mju.drop('churn',axis=1)\n",
    "y_mju = df_train_mju.churn"
   ]
  },
  {
   "cell_type": "code",
   "execution_count": null,
   "metadata": {},
   "outputs": [],
   "source": [
    "lsr = LogisticRegression()\n",
    "lsr.fit(X_sm,y_sm)"
   ]
  },
  {
   "cell_type": "code",
   "execution_count": null,
   "metadata": {},
   "outputs": [],
   "source": [
    "y_pred = lsr.predict(X_test)\n",
    "printMetrics(y_test,y_pred)"
   ]
  },
  {
   "cell_type": "markdown",
   "metadata": {},
   "source": [
    "Let's generate model with majority class undersampling, as our function is doing random sampling of majority class, let's take the average of 10 runs to find the model metrics."
   ]
  },
  {
   "cell_type": "code",
   "execution_count": null,
   "metadata": {},
   "outputs": [],
   "source": [
    "sensitivity_avg = 0\n",
    "specificity_avg = 0\n",
    "auc_score_avg = 0\n",
    "precision_avg = 0\n",
    "\n",
    "for i in range(0,10):\n",
    "    #rus = RandomUnderSampler()\n",
    "    #X_rs, y_rs = rus.fit_sample(X_train, y_train)\n",
    "    df_train_mju = MajorityClassUnderSampler(X_train,y_train)\n",
    "    # extract features and labels\n",
    "    X_mju = df_train_mju.drop('churn',axis=1)\n",
    "    y_mju = df_train_mju.churn\n",
    "    lsr = LogisticRegression()\n",
    "    lsr.fit(X_mju,y_mju)\n",
    "    #lsr.fit(X_rs,y_rs)\n",
    "    y_pred = lsr.predict(X_test)\n",
    "    cp = confusion_matrix(y_test,y_pred)\n",
    "    sensitivity = cp[1,1]/(cp[1,0]+cp[1,1])\n",
    "    specificity =  cp[0,0]/(cp[0,1]+cp[0,0])\n",
    "    precision = cp[1,1]/(cp[0,1]+cp[1,1])\n",
    "    auc_score = roc_auc_score(y_test,y_pred)\n",
    "    sensitivity_avg = sensitivity_avg + sensitivity\n",
    "    specificity_avg = specificity_avg+ specificity\n",
    "    auc_score_avg = auc_score_avg + auc_score\n",
    "    precision_avg = precision_avg + precision "
   ]
  },
  {
   "cell_type": "code",
   "execution_count": null,
   "metadata": {},
   "outputs": [],
   "source": [
    "print('Sensitivity: ',sensitivity_avg/10)\n",
    "print('Specificity: ',specificity_avg/10)\n",
    "print('AUC Score: ',auc_score_avg/10)\n",
    "print('Precision: ',precision_avg/10)   "
   ]
  },
  {
   "cell_type": "markdown",
   "metadata": {},
   "source": [
    "### Dimenesionality Reduction with PCA\n",
    "\n",
    "As the number of features are quite high, let's try dimensionality reduction with PCA and try model creation on reduced feature set."
   ]
  },
  {
   "cell_type": "code",
   "execution_count": null,
   "metadata": {},
   "outputs": [],
   "source": [
    "from sklearn.decomposition import PCA"
   ]
  },
  {
   "cell_type": "code",
   "execution_count": null,
   "metadata": {},
   "outputs": [],
   "source": [
    "pca = PCA(svd_solver='randomized', random_state=101)"
   ]
  },
  {
   "cell_type": "code",
   "execution_count": null,
   "metadata": {},
   "outputs": [],
   "source": [
    "#pca.fit(X_sm)\n",
    "pca.fit(X_mju)"
   ]
  },
  {
   "cell_type": "code",
   "execution_count": null,
   "metadata": {},
   "outputs": [],
   "source": [
    "# let's check the features with top PCA components\n",
    "colnames = list(X_scaled.columns)\n",
    "pcs_df = pd.DataFrame({'PC1':pca.components_[0],'PC2':pca.components_[1], 'Feature':colnames})\n",
    "pcs_df.head()"
   ]
  },
  {
   "cell_type": "markdown",
   "metadata": {},
   "source": [
    "Let's draw a scree plot to determine number of features which capture the highest variance."
   ]
  },
  {
   "cell_type": "code",
   "execution_count": null,
   "metadata": {},
   "outputs": [],
   "source": [
    "#Making the screeplot - plotting the cumulative variance against the number of components\n",
    "%matplotlib inline\n",
    "fig = plt.figure(figsize = (12,8))\n",
    "plt.plot(np.cumsum(pca.explained_variance_ratio_))\n",
    "plt.xlabel('number of components')\n",
    "plt.ylabel('cumulative explained variance')\n",
    "plt.show()"
   ]
  },
  {
   "cell_type": "markdown",
   "metadata": {},
   "source": [
    "We see from above that around ~ 60 features capture 90% variance, let's reduce our feature set to 60"
   ]
  },
  {
   "cell_type": "code",
   "execution_count": null,
   "metadata": {},
   "outputs": [],
   "source": [
    "#Using incremental PCA for efficiency - saves a lot of time on larger datasets\n",
    "from sklearn.decomposition import IncrementalPCA\n",
    "pca_final = IncrementalPCA(n_components=40)"
   ]
  },
  {
   "cell_type": "code",
   "execution_count": null,
   "metadata": {},
   "outputs": [],
   "source": [
    "X_train_pca = pca_final.fit_transform(X_mju)\n",
    "\n",
    "X_train_pca.shape"
   ]
  },
  {
   "cell_type": "code",
   "execution_count": null,
   "metadata": {},
   "outputs": [],
   "source": [
    "X_test_pca = pca_final.transform(X_test)\n",
    "X_test_pca.shape"
   ]
  },
  {
   "cell_type": "code",
   "execution_count": null,
   "metadata": {},
   "outputs": [],
   "source": [
    "#creating correlation matrix for the principal components\n",
    "corrmat = np.corrcoef(X_train_pca.transpose())\n",
    "\n",
    "#plotting the correlation matrix\n",
    "%matplotlib inline\n",
    "plt.figure(figsize = (20,10))\n",
    "sns.heatmap(corrmat,annot = True)"
   ]
  },
  {
   "cell_type": "code",
   "execution_count": null,
   "metadata": {},
   "outputs": [],
   "source": [
    "lr_pca = LogisticRegression()\n",
    "model_pca = lr_pca.fit(X_train_pca,y_mju)"
   ]
  },
  {
   "cell_type": "code",
   "execution_count": null,
   "metadata": {},
   "outputs": [],
   "source": [
    "y_pred = lr_pca.predict(X_test_pca)"
   ]
  },
  {
   "cell_type": "code",
   "execution_count": null,
   "metadata": {},
   "outputs": [],
   "source": [
    "printMetrics(y_test,y_pred)"
   ]
  },
  {
   "cell_type": "markdown",
   "metadata": {},
   "source": [
    "#### Adjusting probability threshold cutoff for logistic regression\n",
    "\n",
    "We will now try to select the optimum probability threshold for our model"
   ]
  },
  {
   "cell_type": "code",
   "execution_count": null,
   "metadata": {},
   "outputs": [],
   "source": [
    "# check the predicted probabilities\n",
    "y_pred_prob = lr_pca.predict_proba(X_test_pca)"
   ]
  },
  {
   "cell_type": "code",
   "execution_count": null,
   "metadata": {},
   "outputs": [],
   "source": [
    "# create predicted probability data frame\n",
    "y_pred_prob_df = pd.DataFrame(y_pred_prob)\n",
    "y_pred_prob_df = y_pred_prob_df.iloc[:,[1]]\n",
    "\n",
    "y_test_df = pd.DataFrame(y_test)\n",
    "y_test_df['ID'] = y_test_df.index\n",
    "\n",
    "y_pred_prob_df.reset_index(drop=True, inplace=True)\n",
    "y_test_df.reset_index(drop=True, inplace=True)\n",
    "# Appending y_test_df and y_pred_prob_df\n",
    "y_pred_final = pd.concat([y_test_df,y_pred_prob_df],axis=1)"
   ]
  },
  {
   "cell_type": "code",
   "execution_count": null,
   "metadata": {},
   "outputs": [],
   "source": [
    "# renaming column\n",
    "y_pred_final= y_pred_final.rename(columns={ 1 : 'Churn_Prob'})\n",
    "y_pred_final.head()"
   ]
  },
  {
   "cell_type": "code",
   "execution_count": null,
   "metadata": {},
   "outputs": [],
   "source": [
    "# Rearranging the columns\n",
    "y_pred_final = y_pred_final.reindex_axis(['ID','churn','Churn_Prob'], axis=1)\n",
    "y_pred_final.head()"
   ]
  },
  {
   "cell_type": "code",
   "execution_count": null,
   "metadata": {},
   "outputs": [],
   "source": [
    "# Let's create columns with different probability cutoffs \n",
    "numbers = [float(x)/10 for x in range(10)]\n",
    "for i in numbers:\n",
    "    y_pred_final[i]= y_pred_final.Churn_Prob.map( lambda x: 1 if x > i else 0)\n",
    "y_pred_final.head()"
   ]
  },
  {
   "cell_type": "code",
   "execution_count": null,
   "metadata": {},
   "outputs": [],
   "source": [
    "# Now let's calculate accuracy sensitivity and specificity for various probability cutoffs.\n",
    "cutoff_df = pd.DataFrame( columns = ['prob','accuracy','speci','sensi','preci'])\n",
    "from sklearn.metrics import confusion_matrix\n",
    "num = [0.0,0.1,0.2,0.3,0.4,0.5,0.6,0.7,0.8,0.9]\n",
    "for i in num:\n",
    "    cm1 = confusion_matrix( y_pred_final.churn, y_pred_final[i] )\n",
    "    total1=sum(sum(cm1))\n",
    "    accuracy = (cm1[0,0]+cm1[1,1])/total1\n",
    "    speci = cm1[0,0]/(cm1[0,0]+cm1[0,1])\n",
    "    sensi = cm1[1,1]/(cm1[1,0]+cm1[1,1])\n",
    "    preci = cm1[1,1]/(cm1[0,1]+cm1[1,1])\n",
    "    cutoff_df.loc[i] =[ i ,accuracy,speci,sensi,preci]\n",
    "print(cutoff_df)"
   ]
  },
  {
   "cell_type": "code",
   "execution_count": null,
   "metadata": {},
   "outputs": [],
   "source": [
    "# Let's plot accuracy sensitivity and specificity for various probabilities.\n",
    "cutoff_df.plot.line(x='prob', y=['accuracy','speci','sensi','preci'])"
   ]
  },
  {
   "cell_type": "code",
   "execution_count": null,
   "metadata": {},
   "outputs": [],
   "source": [
    "y_pred_final['final_predicted'] = y_pred_final.Churn_Prob.map( lambda x: 1 if x > 0.51 else 0)"
   ]
  },
  {
   "cell_type": "markdown",
   "metadata": {},
   "source": [
    "#### Baseline Model"
   ]
  },
  {
   "cell_type": "code",
   "execution_count": null,
   "metadata": {},
   "outputs": [],
   "source": [
    "#Let's check the overall accuracy.\n",
    "printMetrics(y_pred_final.churn, y_pred_final.final_predicted)"
   ]
  },
  {
   "cell_type": "markdown",
   "metadata": {},
   "source": [
    "#### The above is our baseline model, which has been created\n",
    "\n",
    "Now in sections below we will create multiple models where we would try to maximize the **sensitivity and f1 score**."
   ]
  },
  {
   "cell_type": "markdown",
   "metadata": {},
   "source": [
    "#### AdaBoost Model\n",
    "First let us start with boosting models as they are known to perform better for imbalanced class problems"
   ]
  },
  {
   "cell_type": "code",
   "execution_count": null,
   "metadata": {},
   "outputs": [],
   "source": [
    "from sklearn.ensemble import AdaBoostClassifier\n",
    "from sklearn.tree import DecisionTreeClassifier"
   ]
  },
  {
   "cell_type": "code",
   "execution_count": null,
   "metadata": {},
   "outputs": [],
   "source": [
    "# create a shallow tree\n",
    "shallow_tree = DecisionTreeClassifier(max_depth=2, random_state = 100)"
   ]
  },
  {
   "cell_type": "code",
   "execution_count": null,
   "metadata": {},
   "outputs": [],
   "source": [
    "# estimating the optimum number of estimators\n",
    "estimators = list(range(40, 150, 10))\n",
    "\n",
    "auc_scores = []\n",
    "for n_est in estimators:\n",
    "    ABC = AdaBoostClassifier(\n",
    "    base_estimator=shallow_tree, \n",
    "    n_estimators = n_est)\n",
    "    \n",
    "    ABC.fit(X_mju, y_mju)\n",
    "    y_pred = ABC.predict(X_test)\n",
    "    score = roc_auc_score(y_test, y_pred)\n",
    "    auc_scores.append(score)    "
   ]
  },
  {
   "cell_type": "code",
   "execution_count": null,
   "metadata": {},
   "outputs": [],
   "source": [
    "# check the auc scores\n",
    "auc_scores"
   ]
  },
  {
   "cell_type": "code",
   "execution_count": null,
   "metadata": {},
   "outputs": [],
   "source": [
    "# plot test scores and n_estimators\n",
    "plt.plot(estimators, auc_scores)\n",
    "plt.xlabel('n_estimators')\n",
    "plt.ylabel('roc_auc_score')\n",
    "plt.ylim([0.75, 0.9])\n",
    "plt.show()"
   ]
  },
  {
   "cell_type": "code",
   "execution_count": null,
   "metadata": {},
   "outputs": [],
   "source": [
    "# create model for the best n estimators value\n",
    "ABC = AdaBoostClassifier(n_estimators=120,base_estimator=shallow_tree)"
   ]
  },
  {
   "cell_type": "code",
   "execution_count": null,
   "metadata": {},
   "outputs": [],
   "source": [
    "# fit the model\n",
    "ABC.fit(X_mju,y_mju)"
   ]
  },
  {
   "cell_type": "code",
   "execution_count": null,
   "metadata": {},
   "outputs": [],
   "source": [
    "# check prediction on test set\n",
    "y_pred_abc =  ABC.predict(X_test)"
   ]
  },
  {
   "cell_type": "code",
   "execution_count": null,
   "metadata": {},
   "outputs": [],
   "source": [
    "printMetrics(y_test,y_pred_abc)"
   ]
  },
  {
   "cell_type": "markdown",
   "metadata": {},
   "source": [
    "#### Gradient Boosting Model\n",
    "Next we will try Gradient Boosting"
   ]
  },
  {
   "cell_type": "code",
   "execution_count": null,
   "metadata": {},
   "outputs": [],
   "source": [
    "from sklearn.ensemble import GradientBoostingClassifier"
   ]
  },
  {
   "cell_type": "code",
   "execution_count": null,
   "metadata": {},
   "outputs": [],
   "source": [
    "# create parameter grid for learning rate and subsample\n",
    "# parameter grid\n",
    "param_grid = {\"learning_rate\": [0.1,0.2, 0.6, 0.9],\n",
    "              \"subsample\": [0.3, 0.6, 0.9]\n",
    "             }"
   ]
  },
  {
   "cell_type": "code",
   "execution_count": null,
   "metadata": {},
   "outputs": [],
   "source": [
    "# adaboost with the tree as base estimator\n",
    "GBC = GradientBoostingClassifier(max_depth=2, n_estimators=200)"
   ]
  },
  {
   "cell_type": "code",
   "execution_count": null,
   "metadata": {},
   "outputs": [],
   "source": [
    "# run grid search\n",
    "folds = 3\n",
    "grid_search_GBC = GridSearchCV(GBC, \n",
    "                               cv = folds,\n",
    "                               param_grid=param_grid, \n",
    "                               scoring = 'f1', \n",
    "                               return_train_score=True,                         \n",
    "                               verbose = 1,n_jobs=3)\n",
    "\n",
    "grid_search_GBC.fit(X_mju, y_mju)"
   ]
  },
  {
   "cell_type": "code",
   "execution_count": null,
   "metadata": {},
   "outputs": [],
   "source": [
    "# check the best parameters obtained\n",
    "grid_search_GBC.best_params_"
   ]
  },
  {
   "cell_type": "code",
   "execution_count": null,
   "metadata": {},
   "outputs": [],
   "source": [
    "# run gradient boosting with optimum parameters\n",
    "GBC = GradientBoostingClassifier(learning_rate=0.1,subsample=0.3)\n",
    "\n",
    "# fit and predict\n",
    "GBC.fit(X_mju,y_mju)\n",
    "y_pred_abc =  GBC.predict(X_test)\n",
    "printMetrics(y_test,y_pred_abc)"
   ]
  },
  {
   "cell_type": "markdown",
   "metadata": {},
   "source": [
    "#### Xtreme Gradient Boosting Model"
   ]
  },
  {
   "cell_type": "code",
   "execution_count": null,
   "metadata": {},
   "outputs": [],
   "source": [
    "# import xgboost libraries\n",
    "import xgboost as xgb\n",
    "from xgboost import XGBClassifier\n",
    "from xgboost import plot_importance"
   ]
  },
  {
   "cell_type": "code",
   "execution_count": null,
   "metadata": {},
   "outputs": [],
   "source": [
    "# first build default xgboost model\n",
    "XGB = XGBClassifier()\n",
    "\n",
    "XGB.fit(X_mju,y_mju)\n",
    "y_pred_xgb =  XGB.predict(X_test)\n",
    "printMetrics(y_test,y_pred_abc)"
   ]
  },
  {
   "cell_type": "markdown",
   "metadata": {},
   "source": [
    "We have got metrics similar to GBC model we created above, now let us check if we can tune the model"
   ]
  },
  {
   "cell_type": "markdown",
   "metadata": {},
   "source": [
    "**Note:** multiple parameters were tuned at this stage but the most relevant one was found to be **scale_pos_weight** which can be used to apply weightage to minority class."
   ]
  },
  {
   "cell_type": "code",
   "execution_count": null,
   "metadata": {},
   "outputs": [],
   "source": [
    "# creating a KFold cross validation \n",
    "folds = 3\n",
    "\n",
    "# specify range of hyperparameters\n",
    "param_grid = {'scale_pos_weight': [1.8,1.81,1.82,1.83,1.84,1.85,1.86,1.87,1.88,1.89]}\n",
    "\n",
    "# specify model\n",
    "xgb_model = XGBClassifier(max_depth=2, n_estimators=200)\n",
    "\n",
    "# set up GridSearchCV()\n",
    "model_cv = GridSearchCV(estimator = xgb_model, \n",
    "                        param_grid = param_grid, \n",
    "                        scoring= 'f1', \n",
    "                        cv = folds, \n",
    "                        verbose = 1,\n",
    "                        return_train_score=True,n_jobs=3)    "
   ]
  },
  {
   "cell_type": "code",
   "execution_count": null,
   "metadata": {},
   "outputs": [],
   "source": [
    "# fit the model\n",
    "model_cv.fit(X_train, y_train) "
   ]
  },
  {
   "cell_type": "code",
   "execution_count": null,
   "metadata": {},
   "outputs": [],
   "source": [
    "# check the best parameters\n",
    "model_cv.best_params_"
   ]
  },
  {
   "cell_type": "code",
   "execution_count": null,
   "metadata": {},
   "outputs": [],
   "source": [
    "# chosen hyperparameters\n",
    "# 'objective':'binary:logistic' outputs probability rather than label, which we need for auc\n",
    "params = {'learning_rate': 0.1,\n",
    "          'max_depth': 2, \n",
    "          'n_estimators':200,\n",
    "          'subsample':1,\n",
    "         'objective':'binary:logistic',\n",
    "          'scale_pos_weight': 1.87}\n",
    "\n",
    "# fit model on training data\n",
    "XGB = XGBClassifier(params = params)\n",
    "XGB.fit(X_mju,y_mju)"
   ]
  },
  {
   "cell_type": "code",
   "execution_count": null,
   "metadata": {},
   "outputs": [],
   "source": [
    "# check the preddiction\n",
    "y_pred_xgb =  XGB.predict(X_test)\n",
    "printMetrics(y_test,y_pred_xgb)"
   ]
  },
  {
   "cell_type": "markdown",
   "metadata": {},
   "source": [
    "We can increase the sensitivity a bit by trading off slightly on f1 score, let's increase scale_pos_weight to 1.9"
   ]
  },
  {
   "cell_type": "code",
   "execution_count": null,
   "metadata": {},
   "outputs": [],
   "source": [
    "XGB = XGBClassifier(scale_pos_weight=2.05)\n",
    "\n",
    "XGB.fit(X_mju,y_mju)\n",
    "y_pred_xgb =  XGB.predict(X_test)\n",
    "printMetrics(y_test,y_pred_xgb)"
   ]
  },
  {
   "cell_type": "markdown",
   "metadata": {},
   "source": [
    "#### Ensemble Model creation\n",
    "\n",
    "In this section we create an ensemble model using decision trees, random forest, linear regression and Linear SVM model. The final prediction is done using majority vote."
   ]
  },
  {
   "cell_type": "code",
   "execution_count": null,
   "metadata": {},
   "outputs": [],
   "source": [
    "# load the required libraries\n",
    "from sklearn.tree import DecisionTreeClassifier\n",
    "from sklearn.grid_search import GridSearchCV"
   ]
  },
  {
   "cell_type": "markdown",
   "metadata": {},
   "source": [
    "below do a grid search to find optimum hyperparameters for creating decision trees.\n",
    "\n",
    "**Note**: the below section is commented as takes a long time to run, uncomment and run if required."
   ]
  },
  {
   "cell_type": "code",
   "execution_count": null,
   "metadata": {},
   "outputs": [],
   "source": [
    "# ### Please note this run takes quite some time ~30 mins\n",
    "# ### ({'max_depth': 13,\n",
    "# ###   'max_features': 25,\n",
    "# ###   'min_samples_leaf': 95,\n",
    "# ###   'min_samples_split': 20},\n",
    "# ###  0.8818493150684932)\n",
    "\n",
    "# RUN_GRID_SEARCH = False\n",
    "\n",
    "# grid_search_best_params_ = {'max_depth': 13,\n",
    "#                             'max_features': 25,\n",
    "#                             'min_samples_leaf': 95,\n",
    "#                             'min_samples_split': 20,\n",
    "#                             'random_state': 10}\n",
    "\n",
    "# def sensitivity_scorer(estimator, X_sensi_scorer, y_sensi_scorer):\n",
    "#     cp = confusion_matrix(y_sensi_scorer, estimator.predict(X_sensi_scorer))\n",
    "#     return cp[1,1]/(cp[1,0]+cp[1,1])\n",
    "\n",
    "# if RUN_GRID_SEARCH:\n",
    "#     parameter_grid = {'max_depth': list(range(1, 20, 1)),\n",
    "#                       'max_features': list(range(10, 20, 2)),\n",
    "#                       'min_samples_leaf': list(range(10, 100, 5)),\n",
    "#                       'min_samples_split': list(range(20, 50, 5)),\n",
    "#                       'max_features': list(range(10, 60, 5)),\n",
    "#                       'random_state': [43]}\n",
    "\n",
    "#     grid_search = GridSearchCV(\n",
    "#         DecisionTreeClassifier(),\n",
    "#         param_grid=parameter_grid,\n",
    "#         scoring=sensitivity_scorer)\n",
    "#     grid_search.fit(X_mju, y_mju)\n",
    "#     grid_search.best_score_, grid_search.best_params_\n",
    "#     grid_search_best_params_ = grid_search.best_params_"
   ]
  },
  {
   "cell_type": "markdown",
   "metadata": {},
   "source": [
    "Use the final hyperparmeters obtained from grid search above"
   ]
  },
  {
   "cell_type": "code",
   "execution_count": null,
   "metadata": {},
   "outputs": [],
   "source": [
    "# set hyper parameters\n",
    "grid_search_best_params_ = {'max_depth': 13,\n",
    "                            'max_features': 25,\n",
    "                            'min_samples_leaf': 95,\n",
    "                            'min_samples_split': 20,\n",
    "                            'random_state': 10}\n",
    "\n",
    "# Build Decision tree using parameters obtained.\n",
    "dtree=DecisionTreeClassifier(**grid_search_best_params_)\n",
    "dtree.fit(X_mju, y_mju)\n",
    "printMetrics(y_test, dtree.predict(X_test))"
   ]
  },
  {
   "cell_type": "code",
   "execution_count": null,
   "metadata": {},
   "outputs": [],
   "source": [
    "# import linear SVM\n",
    "from sklearn.svm import LinearSVC\n",
    "\n",
    "# Build linear SVM model\n",
    "SVM = LinearSVC()\n",
    "SVM.fit(X_train_pca, y_mju)\n",
    "printMetrics(y_test, SVM.predict(X_test_pca))"
   ]
  },
  {
   "cell_type": "code",
   "execution_count": null,
   "metadata": {},
   "outputs": [],
   "source": [
    "from sklearn.ensemble import RandomForestClassifier\n",
    "\n",
    "# build random forest classifier\n",
    "RF = RandomForestClassifier(**grid_search_best_params_, n_estimators=20)\n",
    "RF.fit(X_mju, y_mju)\n",
    "printMetrics(y_test, RF.predict(X_test))"
   ]
  },
  {
   "cell_type": "code",
   "execution_count": null,
   "metadata": {},
   "outputs": [],
   "source": [
    "# build logistic regression model\n",
    "LR = LogisticRegression()\n",
    "LR.fit(X_mju, y_mju)\n",
    "printMetrics(y_test, RF.predict(X_test))"
   ]
  },
  {
   "cell_type": "markdown",
   "metadata": {},
   "source": [
    "Finally we will build ensemble mode below and take the majority vote!!"
   ]
  },
  {
   "cell_type": "code",
   "execution_count": null,
   "metadata": {},
   "outputs": [],
   "source": [
    "ENSEMBLE_MODEL_pred = list(map(lambda x: 1 if (sum(x)>=2) else 0, zip(LR.predict(X_test),\n",
    "                                                          dtree.predict(X_test),            \n",
    "                                                          RF.predict(X_test),                                                          \n",
    "                                                          SVM.predict(X_test_pca))))\n",
    "printMetrics(y_test, ENSEMBLE_MODEL_pred)"
   ]
  },
  {
   "cell_type": "markdown",
   "metadata": {},
   "source": [
    "### Summary of prediction models\n",
    "\n",
    "Below is the summary of the model scores obtained on test data:\n",
    "\n",
    "* Baseline Model: **sensitivity**:0.836 **specificity**:0.809 **f1 score**:0.431 **auc score**: 0.823\n",
    "* Best Model (XgBoost): **sensitivity**:0.901 **specificity**:0.83 **f1 score**:0.485 **auc score**: 0.866"
   ]
  },
  {
   "cell_type": "markdown",
   "metadata": {},
   "source": [
    "### Understanding the parameters for Customer Churn\n",
    "\n",
    "In this section we try to understand the parameters for customer churn and if any corrective action that can be taken by operator.We will be using the following approach:\n",
    "* Create logistic regression model without doing PCA on complete feature set.\n",
    "* remove initial unimportant features by doing a LASSO penalty, also tune alpha for the process.\n",
    "* On reduced feature set model obtained above do further reduction in features using p-value and VIF.\n",
    "* Obtain final model to do the analysis for churn."
   ]
  },
  {
   "cell_type": "code",
   "execution_count": null,
   "metadata": {},
   "outputs": [],
   "source": [
    "# import stats model\n",
    "import statsmodels.api as sm"
   ]
  },
  {
   "cell_type": "code",
   "execution_count": null,
   "metadata": {},
   "outputs": [],
   "source": [
    "# Putting feature variable to X\n",
    "X = telecom_data.drop(['churn','mobile_number'],axis=1)\n",
    "\n",
    "# Putting response variable to y\n",
    "y = telecom_data['churn']"
   ]
  },
  {
   "cell_type": "code",
   "execution_count": null,
   "metadata": {},
   "outputs": [],
   "source": [
    "# extract columns\n",
    "cols = X.columns\n",
    "\n",
    "# apply standard scalar\n",
    "scaler = StandardScaler()\n",
    "\n",
    "# produce scaled features\n",
    "X_scaled = scaler.fit_transform(X)\n",
    "\n",
    "# convert to data frame\n",
    "X_scaled = pd.DataFrame(X_scaled, columns=cols)"
   ]
  },
  {
   "cell_type": "code",
   "execution_count": null,
   "metadata": {},
   "outputs": [],
   "source": [
    "# Splitting the data into train and test\n",
    "X_train, X_test, y_train, y_test = train_test_split(X_scaled,y, train_size=0.7,test_size=0.3,random_state=100)\n",
    "\n",
    "# create majority class undersampled data frame from training data\n",
    "df_train_mju = MajorityClassUnderSampler(X_train,y_train)\n",
    "\n",
    "# extract features and labels\n",
    "X_mju = df_train_mju.drop('churn',axis=1)\n",
    "y_mju = df_train_mju.churn"
   ]
  },
  {
   "cell_type": "code",
   "execution_count": null,
   "metadata": {},
   "outputs": [],
   "source": [
    "X_mju.head()"
   ]
  },
  {
   "cell_type": "code",
   "execution_count": null,
   "metadata": {},
   "outputs": [],
   "source": [
    "## Lasso Regression Feature Selection\n",
    "possible_alpha = [i/10 for i in range(1, 100)]\n",
    "alpha_sensitivity = []\n",
    "\n",
    "for alpha in possible_alpha:\n",
    "    lassolr = LogisticRegression(C=alpha, penalty='l1', solver='liblinear')\n",
    "    lassolr.fit(X_mju, y_mju)\n",
    "    cp = confusion_matrix(y_test, lassolr.predict(X_test))\n",
    "    alpha_sensitivity.append({\"alpha\": alpha, \"sensitivity\": cp[1,1]/(cp[1,0]+cp[1,1])})\n",
    "\n",
    "pd.DataFrame(alpha_sensitivity).plot.line(x='alpha', y='sensitivity')"
   ]
  },
  {
   "cell_type": "markdown",
   "metadata": {},
   "source": [
    "From above we can see that sensitivity is maximized for alpha = 3. \n",
    "Let's run model with LASSO (l1) penalty and drop all features with zero coefficients."
   ]
  },
  {
   "cell_type": "code",
   "execution_count": null,
   "metadata": {},
   "outputs": [],
   "source": [
    "# run with alpha=0.4 and penalty = 'l1'\n",
    "lassolr = LogisticRegression(C=4, penalty='l1', solver='liblinear')\n",
    "lassolr.fit(X_mju, y_mju)\n",
    "LR_coefs = dict(zip(X_mju.columns, lassolr.coef_[0]))\n",
    "{k:v for k,v in LR_coefs.items() if v == 0}"
   ]
  },
  {
   "cell_type": "markdown",
   "metadata": {},
   "source": [
    "We will now create our model, let's create a function to train model and print the model metrics, VIF values with the additional facility to drop columns which are passed in 'cols_to_drop' parameter of the function.\n",
    "\n",
    "We will run the below function iteratively to reduce features and arrive at final model."
   ]
  },
  {
   "cell_type": "code",
   "execution_count": null,
   "metadata": {},
   "outputs": [],
   "source": [
    "# function to test model, print metrics, VIF score and can drop columns\n",
    "def test_model(x_train, x_test, y_train, y_test, cols_to_drop = None):\n",
    "    cols_to_drop = cols_to_drop or []\n",
    "    x_train = x_train.drop(cols_to_drop, axis=1)\n",
    "    x_test = x_test.drop(cols_to_drop, axis=1)\n",
    "    lr = LogisticRegression(C=4.0, penalty='l1', solver='liblinear')\n",
    "    lr.fit(x_train, y_train)\n",
    "    print(\"Scoring on TEST {}, TRAIN {}\".format(lr.score(x_test,y_test), lr.score(x_train,y_train)))\n",
    "    printMetrics(y_test,lr.predict(x_test))\n",
    "    x_train = sm.add_constant(x_train)\n",
    "    stat_model = sm.Logit(y_train, x_train).fit_regularized(method='l1')\n",
    "    print(stat_model.summary())\n",
    "    # calculate VIF\n",
    "    vif_df = pd.DataFrame( columns = ['Var', 'Vif'])\n",
    "    for i, var in enumerate(x_train.columns):\n",
    "        ## Even if we are doing a logistic regression above\n",
    "        ## Do a Linear Regression here as we are just trying \n",
    "        ## to fing the variance of the features, how multicollinear\n",
    "        rsq = sm.OLS(x_train[var], x_train.drop([var], axis=1)).fit().rsquared\n",
    "        vif = round( 1 / (1 - rsq + 0.00000000001), 2)\n",
    "        vif_df.loc[i] = [var, vif]\n",
    "    return vif_df.sort_values(by = 'Vif', axis=0, ascending=False, inplace=False)"
   ]
  },
  {
   "cell_type": "code",
   "execution_count": null,
   "metadata": {},
   "outputs": [],
   "source": [
    "# run model on majority undersampled training data\n",
    "test_model(X_mju, X_test, y_mju, y_test)"
   ]
  },
  {
   "cell_type": "markdown",
   "metadata": {},
   "source": [
    "#### Dropping variables with high p-value and high VIF\n",
    "We run the test_model function iteratively to arrive at the below list of features with high p-value and high VIF to be dropped:"
   ]
  },
  {
   "cell_type": "code",
   "execution_count": null,
   "metadata": {},
   "outputs": [],
   "source": [
    "cols_to_drop=[\"onnet_mou_8\", \"std_og_t2m_mou_8\", \"onnet_mou_good_ph\",\n",
    "       \"offnet_mou_good_ph\", \"roam_ic_mou_good_ph\", \"loc_og_t2m_mou_good_ph\",\n",
    "      \"og_others_8\", \"total_rech_amt_good_ph\", \"total_rech_amt_8\", \"isd_ic_mou_good_ph\",\n",
    "      \"arpu_8\", \"vol_3g_mb_8\", \"loc_og_t2f_mou_good_ph\", \"isd_og_mou_8\",\n",
    "      \"loc_ic_t2f_mou_good_ph\", \"spl_og_mou_good_ph\", \"std_ic_t2m_mou_good_ph\",\n",
    "      \"std_og_t2f_mou_good_ph\", \"total_rech_amt_data_good_ph\", \"max_rech_data_good_ph\",\n",
    "      \"std_ic_t2f_mou_good_ph\", \"loc_og_t2f_mou_8\", \"vbc_3g_good_ph\", \"isd_og_mou_good_ph\",\n",
    "      \"total_rech_amt_data_8\", \"max_rech_amt_good_ph\", \"total_rech_num_good_ph\",\n",
    "      \"sachet_2g_good_ph\", \"ic_others_8\", \"std_ic_t2f_mou_8\", \"og_others_good_ph\",\n",
    "      \"ic_others_good_ph\", \"roam_ic_mou_8\", \"monthly_3g_good_ph\", \"loc_ic_t2m_mou_8\",\n",
    "      \"loc_ic_t2m_mou_good_ph\", \"isd_ic_mou_8\", \"loc_og_t2c_mou_good_ph\", \"last_day_rch_amt_good_ph\",\n",
    "      \"std_og_t2f_mou_8\", \"sachet_3g_good_ph\", \"sachet_3g_8\", \"std_og_t2t_mou_good_ph\",\n",
    "      \"spl_ic_mou_good_ph\", \"loc_og_t2c_mou_8\", \"spl_og_mou_8\", \"vbc_3g_8\",\n",
    "      \"vol_3g_mb_good_ph\", \"roam_og_mou_good_ph\", \"monthly_2g_8\", \"monthly_3g_8\",\n",
    "      \"loc_og_t2t_mou_good_ph\", \"loc_og_t2t_mou_8\", \"max_rech_amt_8\", \"spl_ic_mou_8\",\n",
    "      \"std_ic_t2t_mou_good_ph\", \"std_ic_t2m_mou_8\", \"std_ic_t2t_mou_8\",\"std_og_t2m_mou_good_ph\"]\n",
    "\n",
    "\n",
    "LR_FEATURES = list(set(X_mju.columns) - set(cols_to_drop))"
   ]
  },
  {
   "cell_type": "code",
   "execution_count": null,
   "metadata": {},
   "outputs": [],
   "source": [
    "# run with columns to be dropped to check the final p-values and VIF\n",
    "test_model(X_mju, X_test, y_mju, y_test, cols_to_drop=cols_to_drop)"
   ]
  },
  {
   "cell_type": "markdown",
   "metadata": {},
   "source": [
    "#### We can see the impact of some of the variables in visualizations below"
   ]
  },
  {
   "cell_type": "code",
   "execution_count": null,
   "metadata": {},
   "outputs": [],
   "source": [
    "## Variables with positive coef\n",
    "## higher the value ==> more likely to churn\n",
    "\n",
    "plt.rcParams[\"figure.figsize\"] = [8, 6]\n",
    "fig = plt.figure()\n",
    "# High variance in Roam Outgoing Minutes of Usage, => probability of churn is high \n",
    "# if roaming minutes of usage increases. Same is apparent from the positive coef of the LR model\n",
    "sns.boxplot(data=telecom_data, y=\"roam_og_mou_8\", x=\"churn\", hue=\"churn\", linewidth=2.5, showfliers=False)"
   ]
  },
  {
   "cell_type": "code",
   "execution_count": null,
   "metadata": {},
   "outputs": [],
   "source": [
    "# High variance in ARPU of 8th month, => Customers are using some costly feature => high probability of churn\n",
    "plt.rcParams[\"figure.figsize\"] = [8, 6]\n",
    "fig = plt.figure()\n",
    "sns.boxplot(data=telecom_data, y=\"arpu_good_ph\", x=\"churn\", hue=\"churn\", linewidth=2.5, showfliers=False)"
   ]
  },
  {
   "cell_type": "code",
   "execution_count": null,
   "metadata": {},
   "outputs": [],
   "source": [
    "plt.rcParams[\"figure.figsize\"] = [6, 5]\n",
    "sns.stripplot(x=\"churn\", y=\"max_rech_data_8\", data=telecom_data, jitter=True)"
   ]
  },
  {
   "cell_type": "code",
   "execution_count": null,
   "metadata": {},
   "outputs": [],
   "source": [
    "f,axes = plt.subplots(nrows=2, ncols=2)\n",
    "\n",
    "sns.stripplot(x=\"churn\", y=\"loc_ic_t2f_mou_8\", data=telecom_data, jitter=True, ax=axes[0][0])\n",
    "sns.stripplot(x=\"churn\", y=\"loc_og_t2m_mou_8\", data=telecom_data, jitter=True, ax=axes[0][1])\n",
    "sns.stripplot(x=\"churn\", y=\"loc_ic_t2t_mou_good_ph\", data=telecom_data, jitter=True, ax=axes[1][0])\n",
    "sns.stripplot(x=\"churn\", y=\"loc_ic_t2t_mou_8\", data=telecom_data, jitter=True, ax=axes[1][1])"
   ]
  },
  {
   "cell_type": "markdown",
   "metadata": {},
   "source": [
    "Our model shows that good phase and action phase parameters have relative impact on customer churn. If some good phase indicator are in high range and we see a drop in some other action phase parameter value it indicates a strong possibility of churn.\n",
    "\n",
    "Some good phase indicators which when increase lower the possibility of churn are:\n",
    "\n",
    "* arpu_good_ph: **average revenue per user**: if the average revenue for customer is high in good phase then there is a less liklihood of default.\n",
    "\n",
    "* loc_ic_t2t_mou_good_ph: **incoming local calls within operator network**: if the minutes of usage for such calls is high in good phase then lower is the possibility of default.\n",
    "\n",
    "* vol_2g_mb_good_ph: **volume of 2G data usage**: if volumne of 2G data usage is high in good phase then there is less probability of default.\n",
    "\n",
    "* aon: **age on network**: as age on network increases for a customer there is a decrease in chances of churn."
   ]
  },
  {
   "cell_type": "markdown",
   "metadata": {},
   "source": [
    "Some of the action phase indicators for customer churn are as follows:\n",
    "\n",
    "* loc_ic_t2t_mou_8: **local incoming calls within same telecom network**: if the local incoming calls for t2t drop in action phase then there are high chances of default.\n",
    "\n",
    "* loc_og_t2m_mou_8: **local outgoing calls from telecom operator to other network mobile**: again indicates a high possibility of customer churn.\n",
    "\n",
    "* vol_2g_mb_8/sachet_2g_8: **volumne of 2G usage and sachet(small) topup for 2G data**: a drop in 2G usage volume of sachet top-ups is also highly indicative of churn.\n",
    "\n",
    "* max_rech_data_8: **maximum data recharge**: as above if the maximum data recharge done by customer drops in action phase then it also indicates a tendency to default.\n",
    "\n",
    "* loc_ic_t2f_mou_8: **local incoming calls from fixed line**: a drop in calls from fixed line to customer is also highly suggestive of churn.\n",
    "\n",
    "* day_of_last_rech_shift: **shift in day of last recharge as compared to previous month**: if the last recharge is not in the last week of month then this behaviour is also highly indicative of churn.\n",
    "\n",
    "* roam_og_mou_8: ** roaming outgoing calls**: if there is an increase in outgoing roaming calls can cause customer churn from the operator, this might be because customer is incurring high roaming charges and hence would want to switch to a local number."
   ]
  },
  {
   "cell_type": "markdown",
   "metadata": {},
   "source": [
    "Apart from the above model based features we have also noticed in EDA that the % of churn is higher for 2G usage as compared to 3G usage suggesting that some users may be migrating to other operators due to availability of better 3G network.\n",
    "\n",
    "Also, in some cases there is a small increase in calls to call centre in 7th month followed by drop in 8th month, which indicates that customers might be calling for some issues based on which they might have left the network."
   ]
  },
  {
   "cell_type": "code",
   "execution_count": null,
   "metadata": {},
   "outputs": [],
   "source": [
    "# vol 2g/3g usage\n",
    "ls_3g_2g = telecom_data.columns[telecom_data.columns.str.contains('vol_2g_mb|vol_3g_mb',regex=True)]\n",
    "\n",
    "# let's check the mean variation in total recharge numbers for churned and non churned customers\n",
    "pd.DataFrame([telecom_data.loc[telecom_data.churn==0,ls_3g_2g].mean()\n",
    "              ,telecom_data.loc[telecom_data.churn==1,ls_3g_2g].mean()],index={'Non Churned','Churned'})"
   ]
  },
  {
   "cell_type": "markdown",
   "metadata": {},
   "source": [
    "### Recommendations to reduce Customer Churn\n",
    "\n",
    "Based on modeling an EDA following are our recommendations to reduce customer churn:\n",
    "\n",
    "* **Lower tariffs on data usage**,a better 2G area coverage where 3G is not available.\n",
    "* **Expansion of 3G network** where 3G is currently not available.\n",
    "* **Lower roaming charges** as this is one of the reasons for pre-paid customers to seek out local operators when on roaming.\n",
    "* **Customized pre-paid plan offers**: Continuous monitoring of behavioural signs listed above in action phase to offer customized pe-paid plans to customers, for example customized plans based on where customer minutes of usage (mou) are higher (outgoing/std/t2t/t2m etc).\n",
    "* **Privilege Customer offers**: for customer who are staying longer with network to increase customer loyalty to the telecom operator."
   ]
  },
  {
   "cell_type": "markdown",
   "metadata": {},
   "source": [
    "### Thank You!!"
   ]
  }
 ],
 "metadata": {
  "kernelspec": {
   "display_name": "Python 3",
   "language": "python",
   "name": "python3"
  },
  "language_info": {
   "codemirror_mode": {
    "name": "ipython",
    "version": 3
   },
   "file_extension": ".py",
   "mimetype": "text/x-python",
   "name": "python",
   "nbconvert_exporter": "python",
   "pygments_lexer": "ipython3",
   "version": "3.6.7"
  },
  "latex_envs": {
   "LaTeX_envs_menu_present": true,
   "autoclose": false,
   "autocomplete": true,
   "bibliofile": "biblio.bib",
   "cite_by": "apalike",
   "current_citInitial": 1,
   "eqLabelWithNumbers": true,
   "eqNumInitial": 1,
   "hotkeys": {
    "equation": "Ctrl-E",
    "itemize": "Ctrl-I"
   },
   "labels_anchors": false,
   "latex_user_defs": false,
   "report_style_numbering": false,
   "user_envs_cfg": false
  }
 },
 "nbformat": 4,
 "nbformat_minor": 2
}
