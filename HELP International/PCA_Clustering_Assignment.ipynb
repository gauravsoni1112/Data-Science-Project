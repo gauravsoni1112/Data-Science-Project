{
 "cells": [
  {
   "cell_type": "markdown",
   "metadata": {},
   "source": [
    "### HELP International is an international humanitarian NGO"
   ]
  },
  {
   "cell_type": "markdown",
   "metadata": {},
   "source": [
    "### Objective :\n",
    "- Cluster the countries by the factors mentioned in the CSV above and then present your solution and recommendations to the CEO\n",
    "- 1 Perform PCA on the dataset and obtain the new dataset with the Principal Components. Choose the appropriate number of components k. You need to perform your clustering activity on this new dataset, i.e. the PCA modified dataset with the k components.\n",
    "- 2 Try both K-means and Hierarchical clustering on this dataset and create clusters.\n",
    "- 3 Analyse the clusters and identify the ones which are in dire need of aid. You can analyse the clusters by comparing how the original variables ( gdpp, child_mort, etc.) vary for each cluster of countries to recognise and differentiate the clusters of developed countries from the clusters of under-developed countries. Note that you perform clustering on the PCA modified dataset and the clusters that are formed are being analysed now using the original variables to identify the countries which you finally want to select.\n",
    "- 4 Also, you need to perform visualisations on the clusters that have been formed.  You can do this by choosing the first two Principal Components (on the X-Y axes) and plotting a scatter plot of all the countries and differentiating the clusters. You should also do the same visualisation using any two of the original variables (like gdpp, child_mort, etc.) on the X-Y axes as well. You can also choose other types of plots as well.\n",
    "- 5 The final list of countries depends on the number of components that you choose and the number of clusters that you finally form. Also, both K-means and Hierarchical may give different results. Hence, there might be some subjectivity in the final number of countries that you think should be reported back to the CEO. Here, make sure that you report back at least 5 countries which are in direst need of aid from the analysis work that you perform."
   ]
  },
  {
   "cell_type": "code",
   "execution_count": 754,
   "metadata": {
    "collapsed": true
   },
   "outputs": [],
   "source": [
    "#Import all the dependent libraries\n",
    "import warnings\n",
    "warnings.filterwarnings('ignore')\n",
    "import numpy as np\n",
    "import pandas as pd\n",
    "import matplotlib.pyplot as plt\n",
    "import seaborn as sns\n",
    "%matplotlib inline"
   ]
  },
  {
   "cell_type": "markdown",
   "metadata": {},
   "source": [
    "### STEP 0 - Data Understanding & Cleaning "
   ]
  },
  {
   "cell_type": "code",
   "execution_count": 755,
   "metadata": {},
   "outputs": [
    {
     "data": {
      "text/html": [
       "<div>\n",
       "<style>\n",
       "    .dataframe thead tr:only-child th {\n",
       "        text-align: right;\n",
       "    }\n",
       "\n",
       "    .dataframe thead th {\n",
       "        text-align: left;\n",
       "    }\n",
       "\n",
       "    .dataframe tbody tr th {\n",
       "        vertical-align: top;\n",
       "    }\n",
       "</style>\n",
       "<table border=\"1\" class=\"dataframe\">\n",
       "  <thead>\n",
       "    <tr style=\"text-align: right;\">\n",
       "      <th></th>\n",
       "      <th>country</th>\n",
       "      <th>child_mort</th>\n",
       "      <th>exports</th>\n",
       "      <th>health</th>\n",
       "      <th>imports</th>\n",
       "      <th>income</th>\n",
       "      <th>inflation</th>\n",
       "      <th>life_expec</th>\n",
       "      <th>total_fer</th>\n",
       "      <th>gdpp</th>\n",
       "    </tr>\n",
       "  </thead>\n",
       "  <tbody>\n",
       "    <tr>\n",
       "      <th>0</th>\n",
       "      <td>Afghanistan</td>\n",
       "      <td>90.2</td>\n",
       "      <td>10.0</td>\n",
       "      <td>7.58</td>\n",
       "      <td>44.9</td>\n",
       "      <td>1610</td>\n",
       "      <td>9.44</td>\n",
       "      <td>56.2</td>\n",
       "      <td>5.82</td>\n",
       "      <td>553</td>\n",
       "    </tr>\n",
       "    <tr>\n",
       "      <th>1</th>\n",
       "      <td>Albania</td>\n",
       "      <td>16.6</td>\n",
       "      <td>28.0</td>\n",
       "      <td>6.55</td>\n",
       "      <td>48.6</td>\n",
       "      <td>9930</td>\n",
       "      <td>4.49</td>\n",
       "      <td>76.3</td>\n",
       "      <td>1.65</td>\n",
       "      <td>4090</td>\n",
       "    </tr>\n",
       "    <tr>\n",
       "      <th>2</th>\n",
       "      <td>Algeria</td>\n",
       "      <td>27.3</td>\n",
       "      <td>38.4</td>\n",
       "      <td>4.17</td>\n",
       "      <td>31.4</td>\n",
       "      <td>12900</td>\n",
       "      <td>16.10</td>\n",
       "      <td>76.5</td>\n",
       "      <td>2.89</td>\n",
       "      <td>4460</td>\n",
       "    </tr>\n",
       "    <tr>\n",
       "      <th>3</th>\n",
       "      <td>Angola</td>\n",
       "      <td>119.0</td>\n",
       "      <td>62.3</td>\n",
       "      <td>2.85</td>\n",
       "      <td>42.9</td>\n",
       "      <td>5900</td>\n",
       "      <td>22.40</td>\n",
       "      <td>60.1</td>\n",
       "      <td>6.16</td>\n",
       "      <td>3530</td>\n",
       "    </tr>\n",
       "    <tr>\n",
       "      <th>4</th>\n",
       "      <td>Antigua and Barbuda</td>\n",
       "      <td>10.3</td>\n",
       "      <td>45.5</td>\n",
       "      <td>6.03</td>\n",
       "      <td>58.9</td>\n",
       "      <td>19100</td>\n",
       "      <td>1.44</td>\n",
       "      <td>76.8</td>\n",
       "      <td>2.13</td>\n",
       "      <td>12200</td>\n",
       "    </tr>\n",
       "  </tbody>\n",
       "</table>\n",
       "</div>"
      ],
      "text/plain": [
       "               country  child_mort  exports  health  imports  income  \\\n",
       "0          Afghanistan        90.2     10.0    7.58     44.9    1610   \n",
       "1              Albania        16.6     28.0    6.55     48.6    9930   \n",
       "2              Algeria        27.3     38.4    4.17     31.4   12900   \n",
       "3               Angola       119.0     62.3    2.85     42.9    5900   \n",
       "4  Antigua and Barbuda        10.3     45.5    6.03     58.9   19100   \n",
       "\n",
       "   inflation  life_expec  total_fer   gdpp  \n",
       "0       9.44        56.2       5.82    553  \n",
       "1       4.49        76.3       1.65   4090  \n",
       "2      16.10        76.5       2.89   4460  \n",
       "3      22.40        60.1       6.16   3530  \n",
       "4       1.44        76.8       2.13  12200  "
      ]
     },
     "execution_count": 755,
     "metadata": {},
     "output_type": "execute_result"
    }
   ],
   "source": [
    "#Load Data from CSV into a data frame\n",
    "countries_df = pd.read_csv(\"country-data.csv\")\n",
    "\n",
    "#Inspect dataframe\n",
    "countries_df.head()"
   ]
  },
  {
   "cell_type": "markdown",
   "metadata": {},
   "source": [
    "##### Check the metadata of the dataframe"
   ]
  },
  {
   "cell_type": "code",
   "execution_count": 756,
   "metadata": {},
   "outputs": [
    {
     "data": {
      "text/plain": [
       "(167, 10)"
      ]
     },
     "execution_count": 756,
     "metadata": {},
     "output_type": "execute_result"
    }
   ],
   "source": [
    "countries_df.shape"
   ]
  },
  {
   "cell_type": "raw",
   "metadata": {},
   "source": [
    "INFO - Dataframe contains data for 167 companies and total 9 columns/factors to evaluate"
   ]
  },
  {
   "cell_type": "code",
   "execution_count": 757,
   "metadata": {},
   "outputs": [
    {
     "name": "stdout",
     "output_type": "stream",
     "text": [
      "<class 'pandas.core.frame.DataFrame'>\n",
      "RangeIndex: 167 entries, 0 to 166\n",
      "Data columns (total 10 columns):\n",
      "country       167 non-null object\n",
      "child_mort    167 non-null float64\n",
      "exports       167 non-null float64\n",
      "health        167 non-null float64\n",
      "imports       167 non-null float64\n",
      "income        167 non-null int64\n",
      "inflation     167 non-null float64\n",
      "life_expec    167 non-null float64\n",
      "total_fer     167 non-null float64\n",
      "gdpp          167 non-null int64\n",
      "dtypes: float64(7), int64(2), object(1)\n",
      "memory usage: 13.1+ KB\n"
     ]
    }
   ],
   "source": [
    "countries_df.info()"
   ]
  },
  {
   "cell_type": "raw",
   "metadata": {},
   "source": [
    "INFO- There is no Null value found in the dataset ,which is really great "
   ]
  },
  {
   "cell_type": "code",
   "execution_count": 758,
   "metadata": {},
   "outputs": [
    {
     "data": {
      "text/html": [
       "<div>\n",
       "<style>\n",
       "    .dataframe thead tr:only-child th {\n",
       "        text-align: right;\n",
       "    }\n",
       "\n",
       "    .dataframe thead th {\n",
       "        text-align: left;\n",
       "    }\n",
       "\n",
       "    .dataframe tbody tr th {\n",
       "        vertical-align: top;\n",
       "    }\n",
       "</style>\n",
       "<table border=\"1\" class=\"dataframe\">\n",
       "  <thead>\n",
       "    <tr style=\"text-align: right;\">\n",
       "      <th></th>\n",
       "      <th>child_mort</th>\n",
       "      <th>exports</th>\n",
       "      <th>health</th>\n",
       "      <th>imports</th>\n",
       "      <th>income</th>\n",
       "      <th>inflation</th>\n",
       "      <th>life_expec</th>\n",
       "      <th>total_fer</th>\n",
       "      <th>gdpp</th>\n",
       "    </tr>\n",
       "  </thead>\n",
       "  <tbody>\n",
       "    <tr>\n",
       "      <th>count</th>\n",
       "      <td>167.000000</td>\n",
       "      <td>167.000000</td>\n",
       "      <td>167.000000</td>\n",
       "      <td>167.000000</td>\n",
       "      <td>167.000000</td>\n",
       "      <td>167.000000</td>\n",
       "      <td>167.000000</td>\n",
       "      <td>167.000000</td>\n",
       "      <td>167.000000</td>\n",
       "    </tr>\n",
       "    <tr>\n",
       "      <th>mean</th>\n",
       "      <td>38.270060</td>\n",
       "      <td>41.108976</td>\n",
       "      <td>6.815689</td>\n",
       "      <td>46.890215</td>\n",
       "      <td>17144.688623</td>\n",
       "      <td>7.781832</td>\n",
       "      <td>70.555689</td>\n",
       "      <td>2.947964</td>\n",
       "      <td>12964.155689</td>\n",
       "    </tr>\n",
       "    <tr>\n",
       "      <th>std</th>\n",
       "      <td>40.328931</td>\n",
       "      <td>27.412010</td>\n",
       "      <td>2.746837</td>\n",
       "      <td>24.209589</td>\n",
       "      <td>19278.067698</td>\n",
       "      <td>10.570704</td>\n",
       "      <td>8.893172</td>\n",
       "      <td>1.513848</td>\n",
       "      <td>18328.704809</td>\n",
       "    </tr>\n",
       "    <tr>\n",
       "      <th>min</th>\n",
       "      <td>2.600000</td>\n",
       "      <td>0.109000</td>\n",
       "      <td>1.810000</td>\n",
       "      <td>0.065900</td>\n",
       "      <td>609.000000</td>\n",
       "      <td>-4.210000</td>\n",
       "      <td>32.100000</td>\n",
       "      <td>1.150000</td>\n",
       "      <td>231.000000</td>\n",
       "    </tr>\n",
       "    <tr>\n",
       "      <th>25%</th>\n",
       "      <td>8.250000</td>\n",
       "      <td>23.800000</td>\n",
       "      <td>4.920000</td>\n",
       "      <td>30.200000</td>\n",
       "      <td>3355.000000</td>\n",
       "      <td>1.810000</td>\n",
       "      <td>65.300000</td>\n",
       "      <td>1.795000</td>\n",
       "      <td>1330.000000</td>\n",
       "    </tr>\n",
       "    <tr>\n",
       "      <th>50%</th>\n",
       "      <td>19.300000</td>\n",
       "      <td>35.000000</td>\n",
       "      <td>6.320000</td>\n",
       "      <td>43.300000</td>\n",
       "      <td>9960.000000</td>\n",
       "      <td>5.390000</td>\n",
       "      <td>73.100000</td>\n",
       "      <td>2.410000</td>\n",
       "      <td>4660.000000</td>\n",
       "    </tr>\n",
       "    <tr>\n",
       "      <th>75%</th>\n",
       "      <td>62.100000</td>\n",
       "      <td>51.350000</td>\n",
       "      <td>8.600000</td>\n",
       "      <td>58.750000</td>\n",
       "      <td>22800.000000</td>\n",
       "      <td>10.750000</td>\n",
       "      <td>76.800000</td>\n",
       "      <td>3.880000</td>\n",
       "      <td>14050.000000</td>\n",
       "    </tr>\n",
       "    <tr>\n",
       "      <th>max</th>\n",
       "      <td>208.000000</td>\n",
       "      <td>200.000000</td>\n",
       "      <td>17.900000</td>\n",
       "      <td>174.000000</td>\n",
       "      <td>125000.000000</td>\n",
       "      <td>104.000000</td>\n",
       "      <td>82.800000</td>\n",
       "      <td>7.490000</td>\n",
       "      <td>105000.000000</td>\n",
       "    </tr>\n",
       "  </tbody>\n",
       "</table>\n",
       "</div>"
      ],
      "text/plain": [
       "       child_mort     exports      health     imports         income  \\\n",
       "count  167.000000  167.000000  167.000000  167.000000     167.000000   \n",
       "mean    38.270060   41.108976    6.815689   46.890215   17144.688623   \n",
       "std     40.328931   27.412010    2.746837   24.209589   19278.067698   \n",
       "min      2.600000    0.109000    1.810000    0.065900     609.000000   \n",
       "25%      8.250000   23.800000    4.920000   30.200000    3355.000000   \n",
       "50%     19.300000   35.000000    6.320000   43.300000    9960.000000   \n",
       "75%     62.100000   51.350000    8.600000   58.750000   22800.000000   \n",
       "max    208.000000  200.000000   17.900000  174.000000  125000.000000   \n",
       "\n",
       "        inflation  life_expec   total_fer           gdpp  \n",
       "count  167.000000  167.000000  167.000000     167.000000  \n",
       "mean     7.781832   70.555689    2.947964   12964.155689  \n",
       "std     10.570704    8.893172    1.513848   18328.704809  \n",
       "min     -4.210000   32.100000    1.150000     231.000000  \n",
       "25%      1.810000   65.300000    1.795000    1330.000000  \n",
       "50%      5.390000   73.100000    2.410000    4660.000000  \n",
       "75%     10.750000   76.800000    3.880000   14050.000000  \n",
       "max    104.000000   82.800000    7.490000  105000.000000  "
      ]
     },
     "execution_count": 758,
     "metadata": {},
     "output_type": "execute_result"
    }
   ],
   "source": [
    "countries_df.describe()"
   ]
  },
  {
   "cell_type": "raw",
   "metadata": {},
   "source": [
    "INFO - Seems like we have outliers in the dataset which need to be handled"
   ]
  },
  {
   "cell_type": "code",
   "execution_count": 759,
   "metadata": {},
   "outputs": [
    {
     "data": {
      "text/plain": [
       "country       167\n",
       "child_mort    139\n",
       "exports       147\n",
       "health        147\n",
       "imports       151\n",
       "income        156\n",
       "inflation     156\n",
       "life_expec    127\n",
       "total_fer     138\n",
       "gdpp          157\n",
       "dtype: int64"
      ]
     },
     "execution_count": 759,
     "metadata": {},
     "output_type": "execute_result"
    }
   ],
   "source": [
    "countries_df.nunique()"
   ]
  },
  {
   "cell_type": "raw",
   "metadata": {},
   "source": [
    "INFO - Countries are unique which is desirable for the analysis"
   ]
  },
  {
   "cell_type": "code",
   "execution_count": 760,
   "metadata": {},
   "outputs": [
    {
     "data": {
      "text/html": [
       "<div>\n",
       "<style>\n",
       "    .dataframe thead tr:only-child th {\n",
       "        text-align: right;\n",
       "    }\n",
       "\n",
       "    .dataframe thead th {\n",
       "        text-align: left;\n",
       "    }\n",
       "\n",
       "    .dataframe tbody tr th {\n",
       "        vertical-align: top;\n",
       "    }\n",
       "</style>\n",
       "<table border=\"1\" class=\"dataframe\">\n",
       "  <thead>\n",
       "    <tr style=\"text-align: right;\">\n",
       "      <th></th>\n",
       "      <th>country</th>\n",
       "      <th>child_mort</th>\n",
       "      <th>exports</th>\n",
       "      <th>health</th>\n",
       "      <th>imports</th>\n",
       "      <th>income</th>\n",
       "      <th>inflation</th>\n",
       "      <th>life_expec</th>\n",
       "      <th>total_fer</th>\n",
       "      <th>gdpp</th>\n",
       "    </tr>\n",
       "  </thead>\n",
       "  <tbody>\n",
       "    <tr>\n",
       "      <th>0</th>\n",
       "      <td>Afghanistan</td>\n",
       "      <td>90.2</td>\n",
       "      <td>10.0</td>\n",
       "      <td>7.58</td>\n",
       "      <td>44.9</td>\n",
       "      <td>1610</td>\n",
       "      <td>9.44</td>\n",
       "      <td>56.2</td>\n",
       "      <td>5.82</td>\n",
       "      <td>553</td>\n",
       "    </tr>\n",
       "    <tr>\n",
       "      <th>1</th>\n",
       "      <td>Albania</td>\n",
       "      <td>16.6</td>\n",
       "      <td>28.0</td>\n",
       "      <td>6.55</td>\n",
       "      <td>48.6</td>\n",
       "      <td>9930</td>\n",
       "      <td>4.49</td>\n",
       "      <td>76.3</td>\n",
       "      <td>1.65</td>\n",
       "      <td>4090</td>\n",
       "    </tr>\n",
       "    <tr>\n",
       "      <th>2</th>\n",
       "      <td>Algeria</td>\n",
       "      <td>27.3</td>\n",
       "      <td>38.4</td>\n",
       "      <td>4.17</td>\n",
       "      <td>31.4</td>\n",
       "      <td>12900</td>\n",
       "      <td>16.10</td>\n",
       "      <td>76.5</td>\n",
       "      <td>2.89</td>\n",
       "      <td>4460</td>\n",
       "    </tr>\n",
       "    <tr>\n",
       "      <th>3</th>\n",
       "      <td>Angola</td>\n",
       "      <td>119.0</td>\n",
       "      <td>62.3</td>\n",
       "      <td>2.85</td>\n",
       "      <td>42.9</td>\n",
       "      <td>5900</td>\n",
       "      <td>22.40</td>\n",
       "      <td>60.1</td>\n",
       "      <td>6.16</td>\n",
       "      <td>3530</td>\n",
       "    </tr>\n",
       "    <tr>\n",
       "      <th>4</th>\n",
       "      <td>Antigua and Barbuda</td>\n",
       "      <td>10.3</td>\n",
       "      <td>45.5</td>\n",
       "      <td>6.03</td>\n",
       "      <td>58.9</td>\n",
       "      <td>19100</td>\n",
       "      <td>1.44</td>\n",
       "      <td>76.8</td>\n",
       "      <td>2.13</td>\n",
       "      <td>12200</td>\n",
       "    </tr>\n",
       "  </tbody>\n",
       "</table>\n",
       "</div>"
      ],
      "text/plain": [
       "               country  child_mort  exports  health  imports  income  \\\n",
       "0          Afghanistan        90.2     10.0    7.58     44.9    1610   \n",
       "1              Albania        16.6     28.0    6.55     48.6    9930   \n",
       "2              Algeria        27.3     38.4    4.17     31.4   12900   \n",
       "3               Angola       119.0     62.3    2.85     42.9    5900   \n",
       "4  Antigua and Barbuda        10.3     45.5    6.03     58.9   19100   \n",
       "\n",
       "   inflation  life_expec  total_fer   gdpp  \n",
       "0       9.44        56.2       5.82    553  \n",
       "1       4.49        76.3       1.65   4090  \n",
       "2      16.10        76.5       2.89   4460  \n",
       "3      22.40        60.1       6.16   3530  \n",
       "4       1.44        76.8       2.13  12200  "
      ]
     },
     "execution_count": 760,
     "metadata": {},
     "output_type": "execute_result"
    }
   ],
   "source": [
    "countries_df.head()"
   ]
  },
  {
   "cell_type": "markdown",
   "metadata": {},
   "source": [
    "##### Since below columns are percentage of Total GDP , it will be good to convert them to actual values \n",
    "- EXPORTS\n",
    "- IMPORTS\n",
    "- HEALTH"
   ]
  },
  {
   "cell_type": "code",
   "execution_count": 761,
   "metadata": {
    "collapsed": true
   },
   "outputs": [],
   "source": [
    "#Converting values to actual values \n",
    "countries_df['exports'] = countries_df['exports'] * countries_df['gdpp']/100\n",
    "countries_df['imports'] = countries_df['imports'] * countries_df['gdpp']/100\n",
    "countries_df['health']  = countries_df['health']  * countries_df['gdpp']/100"
   ]
  },
  {
   "cell_type": "code",
   "execution_count": 762,
   "metadata": {},
   "outputs": [
    {
     "data": {
      "text/html": [
       "<div>\n",
       "<style>\n",
       "    .dataframe thead tr:only-child th {\n",
       "        text-align: right;\n",
       "    }\n",
       "\n",
       "    .dataframe thead th {\n",
       "        text-align: left;\n",
       "    }\n",
       "\n",
       "    .dataframe tbody tr th {\n",
       "        vertical-align: top;\n",
       "    }\n",
       "</style>\n",
       "<table border=\"1\" class=\"dataframe\">\n",
       "  <thead>\n",
       "    <tr style=\"text-align: right;\">\n",
       "      <th></th>\n",
       "      <th>country</th>\n",
       "      <th>child_mort</th>\n",
       "      <th>exports</th>\n",
       "      <th>health</th>\n",
       "      <th>imports</th>\n",
       "      <th>income</th>\n",
       "      <th>inflation</th>\n",
       "      <th>life_expec</th>\n",
       "      <th>total_fer</th>\n",
       "      <th>gdpp</th>\n",
       "    </tr>\n",
       "  </thead>\n",
       "  <tbody>\n",
       "    <tr>\n",
       "      <th>0</th>\n",
       "      <td>Afghanistan</td>\n",
       "      <td>90.2</td>\n",
       "      <td>55.30</td>\n",
       "      <td>41.9174</td>\n",
       "      <td>248.297</td>\n",
       "      <td>1610</td>\n",
       "      <td>9.44</td>\n",
       "      <td>56.2</td>\n",
       "      <td>5.82</td>\n",
       "      <td>553</td>\n",
       "    </tr>\n",
       "    <tr>\n",
       "      <th>1</th>\n",
       "      <td>Albania</td>\n",
       "      <td>16.6</td>\n",
       "      <td>1145.20</td>\n",
       "      <td>267.8950</td>\n",
       "      <td>1987.740</td>\n",
       "      <td>9930</td>\n",
       "      <td>4.49</td>\n",
       "      <td>76.3</td>\n",
       "      <td>1.65</td>\n",
       "      <td>4090</td>\n",
       "    </tr>\n",
       "    <tr>\n",
       "      <th>2</th>\n",
       "      <td>Algeria</td>\n",
       "      <td>27.3</td>\n",
       "      <td>1712.64</td>\n",
       "      <td>185.9820</td>\n",
       "      <td>1400.440</td>\n",
       "      <td>12900</td>\n",
       "      <td>16.10</td>\n",
       "      <td>76.5</td>\n",
       "      <td>2.89</td>\n",
       "      <td>4460</td>\n",
       "    </tr>\n",
       "    <tr>\n",
       "      <th>3</th>\n",
       "      <td>Angola</td>\n",
       "      <td>119.0</td>\n",
       "      <td>2199.19</td>\n",
       "      <td>100.6050</td>\n",
       "      <td>1514.370</td>\n",
       "      <td>5900</td>\n",
       "      <td>22.40</td>\n",
       "      <td>60.1</td>\n",
       "      <td>6.16</td>\n",
       "      <td>3530</td>\n",
       "    </tr>\n",
       "    <tr>\n",
       "      <th>4</th>\n",
       "      <td>Antigua and Barbuda</td>\n",
       "      <td>10.3</td>\n",
       "      <td>5551.00</td>\n",
       "      <td>735.6600</td>\n",
       "      <td>7185.800</td>\n",
       "      <td>19100</td>\n",
       "      <td>1.44</td>\n",
       "      <td>76.8</td>\n",
       "      <td>2.13</td>\n",
       "      <td>12200</td>\n",
       "    </tr>\n",
       "  </tbody>\n",
       "</table>\n",
       "</div>"
      ],
      "text/plain": [
       "               country  child_mort  exports    health   imports  income  \\\n",
       "0          Afghanistan        90.2    55.30   41.9174   248.297    1610   \n",
       "1              Albania        16.6  1145.20  267.8950  1987.740    9930   \n",
       "2              Algeria        27.3  1712.64  185.9820  1400.440   12900   \n",
       "3               Angola       119.0  2199.19  100.6050  1514.370    5900   \n",
       "4  Antigua and Barbuda        10.3  5551.00  735.6600  7185.800   19100   \n",
       "\n",
       "   inflation  life_expec  total_fer   gdpp  \n",
       "0       9.44        56.2       5.82    553  \n",
       "1       4.49        76.3       1.65   4090  \n",
       "2      16.10        76.5       2.89   4460  \n",
       "3      22.40        60.1       6.16   3530  \n",
       "4       1.44        76.8       2.13  12200  "
      ]
     },
     "execution_count": 762,
     "metadata": {},
     "output_type": "execute_result"
    }
   ],
   "source": [
    "#Verify the data after conversion\n",
    "countries_df.head()"
   ]
  },
  {
   "cell_type": "markdown",
   "metadata": {},
   "source": [
    "### 1. Principal Component Analysis"
   ]
  },
  {
   "cell_type": "code",
   "execution_count": 763,
   "metadata": {},
   "outputs": [
    {
     "data": {
      "text/html": [
       "<div>\n",
       "<style>\n",
       "    .dataframe thead tr:only-child th {\n",
       "        text-align: right;\n",
       "    }\n",
       "\n",
       "    .dataframe thead th {\n",
       "        text-align: left;\n",
       "    }\n",
       "\n",
       "    .dataframe tbody tr th {\n",
       "        vertical-align: top;\n",
       "    }\n",
       "</style>\n",
       "<table border=\"1\" class=\"dataframe\">\n",
       "  <thead>\n",
       "    <tr style=\"text-align: right;\">\n",
       "      <th></th>\n",
       "      <th>child_mort</th>\n",
       "      <th>exports</th>\n",
       "      <th>health</th>\n",
       "      <th>imports</th>\n",
       "      <th>income</th>\n",
       "      <th>inflation</th>\n",
       "      <th>life_expec</th>\n",
       "      <th>total_fer</th>\n",
       "      <th>gdpp</th>\n",
       "    </tr>\n",
       "  </thead>\n",
       "  <tbody>\n",
       "    <tr>\n",
       "      <th>0</th>\n",
       "      <td>90.2</td>\n",
       "      <td>55.30</td>\n",
       "      <td>41.9174</td>\n",
       "      <td>248.297</td>\n",
       "      <td>1610</td>\n",
       "      <td>9.44</td>\n",
       "      <td>56.2</td>\n",
       "      <td>5.82</td>\n",
       "      <td>553</td>\n",
       "    </tr>\n",
       "    <tr>\n",
       "      <th>1</th>\n",
       "      <td>16.6</td>\n",
       "      <td>1145.20</td>\n",
       "      <td>267.8950</td>\n",
       "      <td>1987.740</td>\n",
       "      <td>9930</td>\n",
       "      <td>4.49</td>\n",
       "      <td>76.3</td>\n",
       "      <td>1.65</td>\n",
       "      <td>4090</td>\n",
       "    </tr>\n",
       "    <tr>\n",
       "      <th>2</th>\n",
       "      <td>27.3</td>\n",
       "      <td>1712.64</td>\n",
       "      <td>185.9820</td>\n",
       "      <td>1400.440</td>\n",
       "      <td>12900</td>\n",
       "      <td>16.10</td>\n",
       "      <td>76.5</td>\n",
       "      <td>2.89</td>\n",
       "      <td>4460</td>\n",
       "    </tr>\n",
       "    <tr>\n",
       "      <th>3</th>\n",
       "      <td>119.0</td>\n",
       "      <td>2199.19</td>\n",
       "      <td>100.6050</td>\n",
       "      <td>1514.370</td>\n",
       "      <td>5900</td>\n",
       "      <td>22.40</td>\n",
       "      <td>60.1</td>\n",
       "      <td>6.16</td>\n",
       "      <td>3530</td>\n",
       "    </tr>\n",
       "    <tr>\n",
       "      <th>4</th>\n",
       "      <td>10.3</td>\n",
       "      <td>5551.00</td>\n",
       "      <td>735.6600</td>\n",
       "      <td>7185.800</td>\n",
       "      <td>19100</td>\n",
       "      <td>1.44</td>\n",
       "      <td>76.8</td>\n",
       "      <td>2.13</td>\n",
       "      <td>12200</td>\n",
       "    </tr>\n",
       "  </tbody>\n",
       "</table>\n",
       "</div>"
      ],
      "text/plain": [
       "   child_mort  exports    health   imports  income  inflation  life_expec  \\\n",
       "0        90.2    55.30   41.9174   248.297    1610       9.44        56.2   \n",
       "1        16.6  1145.20  267.8950  1987.740    9930       4.49        76.3   \n",
       "2        27.3  1712.64  185.9820  1400.440   12900      16.10        76.5   \n",
       "3       119.0  2199.19  100.6050  1514.370    5900      22.40        60.1   \n",
       "4        10.3  5551.00  735.6600  7185.800   19100       1.44        76.8   \n",
       "\n",
       "   total_fer   gdpp  \n",
       "0       5.82    553  \n",
       "1       1.65   4090  \n",
       "2       2.89   4460  \n",
       "3       6.16   3530  \n",
       "4       2.13  12200  "
      ]
     },
     "execution_count": 763,
     "metadata": {},
     "output_type": "execute_result"
    }
   ],
   "source": [
    "#First step is to remove the country column from the data frame to normalize the dataframe to have only continous variables\n",
    "countries_df_pca = countries_df.drop(['country'], axis=1)\n",
    "\n",
    "#Inspect the dataframe again \n",
    "countries_df_pca.head()"
   ]
  },
  {
   "cell_type": "raw",
   "metadata": {},
   "source": [
    "INFO - Countries column is been dropped ,going forward all the analysis will be done on the countries_df_pca\n",
    "       and the countries_df will remain the original dataframe ,will be used to merge "
   ]
  },
  {
   "cell_type": "code",
   "execution_count": 764,
   "metadata": {},
   "outputs": [
    {
     "data": {
      "image/png": "[encoded data removed]",
      "text/plain": [
       "<matplotlib.figure.Figure at 0x1a163821d0>"
      ]
     },
     "metadata": {},
     "output_type": "display_data"
    }
   ],
   "source": [
    "plt.figure(figsize = (15,8)) \n",
    "sns.heatmap(countries_df_pca.corr(), annot=True)\n",
    "plt.show()"
   ]
  },
  {
   "cell_type": "raw",
   "metadata": {},
   "source": [
    "INFO - Relation can be find out looking to the above Heat Map\n",
    "     - child_mort is highly correlated with Total_Fer\n",
    "     - Export is very highly correlated with Imports\n",
    "     - Health is highly correlated with gdpp\n",
    "     - Income is highly correlated with gdpp\n",
    "     - life_exp is highly correlated(negatively) with the child_mort\n",
    "On a high level it does make sense with the correlation and gives some picture about the data    "
   ]
  },
  {
   "cell_type": "markdown",
   "metadata": {},
   "source": [
    "#### Scaling is required to have all the continous variable in a range "
   ]
  },
  {
   "cell_type": "code",
   "execution_count": 765,
   "metadata": {
    "collapsed": true
   },
   "outputs": [],
   "source": [
    "#Import the StandardScaler Library \n",
    "from sklearn.preprocessing import StandardScaler\n",
    "\n",
    "standard_scaler  = StandardScaler()\n",
    "countries_df_pca = standard_scaler.fit_transform(countries_df_pca)"
   ]
  },
  {
   "cell_type": "code",
   "execution_count": 766,
   "metadata": {},
   "outputs": [
    {
     "data": {
      "text/plain": [
       "array([[ 1.29153238, -0.4110113 , -0.56503989, ..., -1.61909203,\n",
       "         1.90288227, -0.67917961],\n",
       "       [-0.5389489 , -0.35019096, -0.43921769, ...,  0.64786643,\n",
       "        -0.85997281, -0.48562324],\n",
       "       [-0.27283273, -0.31852577, -0.48482608, ...,  0.67042323,\n",
       "        -0.0384044 , -0.46537561],\n",
       "       ..., \n",
       "       [-0.37231541, -0.36146329, -0.53848844, ...,  0.28695762,\n",
       "        -0.66120626, -0.63775406],\n",
       "       [ 0.44841668, -0.39216643, -0.55059641, ..., -0.34463279,\n",
       "         1.14094382, -0.63775406],\n",
       "       [ 1.11495062, -0.38395214, -0.54049845, ..., -2.09278484,\n",
       "         1.6246091 , -0.62954556]])"
      ]
     },
     "execution_count": 766,
     "metadata": {},
     "output_type": "execute_result"
    }
   ],
   "source": [
    "#Inspect the data\n",
    "countries_df_pca"
   ]
  },
  {
   "cell_type": "code",
   "execution_count": 767,
   "metadata": {
    "collapsed": true
   },
   "outputs": [],
   "source": [
    "#Importing the PCA module\n",
    "from sklearn.decomposition import PCA\n",
    "\n",
    "#Important to have random_state fixed ,otherwise we will get differnt result\n",
    "pca = PCA(svd_solver='randomized', random_state=42)"
   ]
  },
  {
   "cell_type": "code",
   "execution_count": 768,
   "metadata": {},
   "outputs": [
    {
     "data": {
      "text/plain": [
       "PCA(copy=True, iterated_power='auto', n_components=None, random_state=42,\n",
       "  svd_solver='randomized', tol=0.0, whiten=False)"
      ]
     },
     "execution_count": 768,
     "metadata": {},
     "output_type": "execute_result"
    }
   ],
   "source": [
    "#Performing the PCA\n",
    "pca.fit(countries_df_pca)"
   ]
  },
  {
   "cell_type": "code",
   "execution_count": 769,
   "metadata": {},
   "outputs": [
    {
     "data": {
      "text/plain": [
       "array([[-0.31639186,  0.34288671,  0.358535  ,  0.34486492,  0.38004113,\n",
       "        -0.14308531,  0.34385651, -0.30284224,  0.39998795],\n",
       "       [ 0.47626735,  0.39731091,  0.1550529 ,  0.37078075,  0.12838448,\n",
       "         0.22126089, -0.36981973,  0.4597152 ,  0.2006241 ],\n",
       "       [-0.15001225, -0.03057367, -0.07570322, -0.07217386,  0.14576421,\n",
       "         0.94841868,  0.19675173, -0.07783431,  0.01033941],\n",
       "       [-0.14805195,  0.44942527, -0.59971228,  0.46179779, -0.15480592,\n",
       "        -0.00762798, -0.01839465, -0.21392805, -0.36477239],\n",
       "       [ 0.1019948 , -0.03853829, -0.49319984, -0.2527867 ,  0.79407469,\n",
       "        -0.13642345, -0.15404105, -0.02033568,  0.08750149],\n",
       "       [ 0.19658519, -0.03891112,  0.18069888, -0.01217988, -0.03814681,\n",
       "         0.10840284, -0.58600986, -0.75390075,  0.04538167],\n",
       "       [ 0.76126725, -0.01366973, -0.06461567,  0.02718244, -0.02311312,\n",
       "        -0.02207663,  0.58120846, -0.27314534, -0.04402264],\n",
       "       [ 0.00644411, -0.05526371,  0.43007213,  0.1311355 ,  0.3938113 ,\n",
       "        -0.00607016,  0.002966  ,  0.03429334, -0.79902242],\n",
       "       [-0.00495137, -0.71792388, -0.13034593,  0.66568664,  0.07901102,\n",
       "         0.01128137, -0.03159406,  0.02368185,  0.12846398]])"
      ]
     },
     "execution_count": 769,
     "metadata": {},
     "output_type": "execute_result"
    }
   ],
   "source": [
    "#List of PCA components.\n",
    "pca.components_"
   ]
  },
  {
   "cell_type": "code",
   "execution_count": 770,
   "metadata": {},
   "outputs": [
    {
     "data": {
      "text/plain": [
       "array([  5.89372984e-01,   1.84451685e-01,   9.91147170e-02,\n",
       "         6.07227801e-02,   3.02917253e-02,   2.45982702e-02,\n",
       "         9.39743701e-03,   1.55641971e-03,   4.93981394e-04])"
      ]
     },
     "execution_count": 770,
     "metadata": {},
     "output_type": "execute_result"
    }
   ],
   "source": [
    "#Let's check the variance ratios\n",
    "pca.explained_variance_ratio_"
   ]
  },
  {
   "cell_type": "code",
   "execution_count": 771,
   "metadata": {},
   "outputs": [
    {
     "data": {
      "image/png": "[encoded data removed]",
      "text/plain": [
       "<matplotlib.figure.Figure at 0x1a157f20f0>"
      ]
     },
     "metadata": {},
     "output_type": "display_data"
    }
   ],
   "source": [
    "#Making the screeplot - plotting the cumulative variance against the number of components\n",
    "%matplotlib inline\n",
    "fig = plt.figure(figsize = (12,8))\n",
    "plt.plot(np.cumsum(pca.explained_variance_ratio_))\n",
    "plt.title('Scree Plot')\n",
    "plt.xlabel('number of components')\n",
    "plt.ylabel('cumulative explained variance')\n",
    "plt.show()"
   ]
  },
  {
   "cell_type": "code",
   "execution_count": 772,
   "metadata": {},
   "outputs": [
    {
     "data": {
      "text/plain": [
       "array([ 0.58937298,  0.77382467,  0.87293939,  0.93366217,  0.96395389,\n",
       "        0.98855216,  0.9979496 ,  0.99950602,  1.        ])"
      ]
     },
     "execution_count": 772,
     "metadata": {},
     "output_type": "execute_result"
    }
   ],
   "source": [
    "np.cumsum(pca.explained_variance_ratio_)"
   ]
  },
  {
   "cell_type": "markdown",
   "metadata": {},
   "source": [
    "INFO - Clearly 93% is been covered with 4 PCE component , I think this is a good start"
   ]
  },
  {
   "cell_type": "code",
   "execution_count": 773,
   "metadata": {},
   "outputs": [
    {
     "data": {
      "text/html": [
       "<div>\n",
       "<style>\n",
       "    .dataframe thead tr:only-child th {\n",
       "        text-align: right;\n",
       "    }\n",
       "\n",
       "    .dataframe thead th {\n",
       "        text-align: left;\n",
       "    }\n",
       "\n",
       "    .dataframe tbody tr th {\n",
       "        vertical-align: top;\n",
       "    }\n",
       "</style>\n",
       "<table border=\"1\" class=\"dataframe\">\n",
       "  <thead>\n",
       "    <tr style=\"text-align: right;\">\n",
       "      <th></th>\n",
       "      <th>Feature</th>\n",
       "      <th>PC1</th>\n",
       "      <th>PC2</th>\n",
       "      <th>PC3</th>\n",
       "      <th>PC4</th>\n",
       "    </tr>\n",
       "  </thead>\n",
       "  <tbody>\n",
       "    <tr>\n",
       "      <th>0</th>\n",
       "      <td>child_mort</td>\n",
       "      <td>-0.316392</td>\n",
       "      <td>0.476267</td>\n",
       "      <td>-0.150012</td>\n",
       "      <td>-0.148052</td>\n",
       "    </tr>\n",
       "    <tr>\n",
       "      <th>1</th>\n",
       "      <td>exports</td>\n",
       "      <td>0.342887</td>\n",
       "      <td>0.397311</td>\n",
       "      <td>-0.030574</td>\n",
       "      <td>0.449425</td>\n",
       "    </tr>\n",
       "    <tr>\n",
       "      <th>2</th>\n",
       "      <td>health</td>\n",
       "      <td>0.358535</td>\n",
       "      <td>0.155053</td>\n",
       "      <td>-0.075703</td>\n",
       "      <td>-0.599712</td>\n",
       "    </tr>\n",
       "    <tr>\n",
       "      <th>3</th>\n",
       "      <td>imports</td>\n",
       "      <td>0.344865</td>\n",
       "      <td>0.370781</td>\n",
       "      <td>-0.072174</td>\n",
       "      <td>0.461798</td>\n",
       "    </tr>\n",
       "    <tr>\n",
       "      <th>4</th>\n",
       "      <td>income</td>\n",
       "      <td>0.380041</td>\n",
       "      <td>0.128384</td>\n",
       "      <td>0.145764</td>\n",
       "      <td>-0.154806</td>\n",
       "    </tr>\n",
       "    <tr>\n",
       "      <th>5</th>\n",
       "      <td>inflation</td>\n",
       "      <td>-0.143085</td>\n",
       "      <td>0.221261</td>\n",
       "      <td>0.948419</td>\n",
       "      <td>-0.007628</td>\n",
       "    </tr>\n",
       "    <tr>\n",
       "      <th>6</th>\n",
       "      <td>life_expec</td>\n",
       "      <td>0.343857</td>\n",
       "      <td>-0.369820</td>\n",
       "      <td>0.196752</td>\n",
       "      <td>-0.018395</td>\n",
       "    </tr>\n",
       "    <tr>\n",
       "      <th>7</th>\n",
       "      <td>total_fer</td>\n",
       "      <td>-0.302842</td>\n",
       "      <td>0.459715</td>\n",
       "      <td>-0.077834</td>\n",
       "      <td>-0.213928</td>\n",
       "    </tr>\n",
       "    <tr>\n",
       "      <th>8</th>\n",
       "      <td>gdpp</td>\n",
       "      <td>0.399988</td>\n",
       "      <td>0.200624</td>\n",
       "      <td>0.010339</td>\n",
       "      <td>-0.364772</td>\n",
       "    </tr>\n",
       "  </tbody>\n",
       "</table>\n",
       "</div>"
      ],
      "text/plain": [
       "      Feature       PC1       PC2       PC3       PC4\n",
       "0  child_mort -0.316392  0.476267 -0.150012 -0.148052\n",
       "1     exports  0.342887  0.397311 -0.030574  0.449425\n",
       "2      health  0.358535  0.155053 -0.075703 -0.599712\n",
       "3     imports  0.344865  0.370781 -0.072174  0.461798\n",
       "4      income  0.380041  0.128384  0.145764 -0.154806\n",
       "5   inflation -0.143085  0.221261  0.948419 -0.007628\n",
       "6  life_expec  0.343857 -0.369820  0.196752 -0.018395\n",
       "7   total_fer -0.302842  0.459715 -0.077834 -0.213928\n",
       "8        gdpp  0.399988  0.200624  0.010339 -0.364772"
      ]
     },
     "execution_count": 773,
     "metadata": {},
     "output_type": "execute_result"
    }
   ],
   "source": [
    "#Understanding how the original features are loaded on the principal components. It can be verified from above as well.\n",
    "colnames = list(list(countries_df.drop('country',axis=1).columns))\n",
    "pcs_df = pd.DataFrame({ 'Feature':colnames,'PC1':pca.components_[0],'PC2':pca.components_[1],'PC3':pca.components_[2],'PC4':pca.components_[3]})\n",
    "pcs_df"
   ]
  },
  {
   "cell_type": "code",
   "execution_count": 774,
   "metadata": {},
   "outputs": [
    {
     "data": {
      "image/png": "[encoded data removed]",
      "text/plain": [
       "<matplotlib.figure.Figure at 0x1a123bb9e8>"
      ]
     },
     "metadata": {},
     "output_type": "display_data"
    }
   ],
   "source": [
    "%matplotlib inline\n",
    "fig = plt.figure(figsize = (8,6))\n",
    "plt.scatter(pcs_df.PC1, pcs_df.PC2)\n",
    "plt.xlabel('Principal Component 1')\n",
    "plt.ylabel('Principal Component 2')\n",
    "for i, txt in enumerate(pcs_df.Feature):\n",
    "    plt.annotate(txt, (pcs_df.PC1[i],pcs_df.PC2[i]))\n",
    "plt.tight_layout()\n",
    "plt.show()"
   ]
  },
  {
   "cell_type": "raw",
   "metadata": {},
   "source": [
    "INFO - Clearly we can see different clusters \n",
    "     - Child_mort & Total_Fer\n",
    "     - Export & Imports\n",
    "     - Gdpp, Health & Income\n",
    "     - Inflation \n",
    "This goes well with the heat map that we have created above     "
   ]
  },
  {
   "cell_type": "code",
   "execution_count": 775,
   "metadata": {
    "collapsed": true
   },
   "outputs": [],
   "source": [
    "#Finally let's go ahead and do dimenstionality reduction using the four Principal Components\n",
    "from sklearn.decomposition import IncrementalPCA\n",
    "pca_final = IncrementalPCA(n_components=4)"
   ]
  },
  {
   "cell_type": "code",
   "execution_count": 776,
   "metadata": {},
   "outputs": [
    {
     "data": {
      "text/plain": [
       "(167, 4)"
      ]
     },
     "execution_count": 776,
     "metadata": {},
     "output_type": "execute_result"
    }
   ],
   "source": [
    "df_pca = pca_final.fit_transform(countries_df_pca)\n",
    "df_pca.shape"
   ]
  },
  {
   "cell_type": "code",
   "execution_count": 777,
   "metadata": {},
   "outputs": [
    {
     "data": {
      "text/plain": [
       "array([[ -2.63664719e+00,   1.47208541e+00,  -5.46499687e-01,\n",
       "          2.37267111e-01],\n",
       "       [ -2.38453563e-02,  -1.43581581e+00,  -9.07965149e-03,\n",
       "         -4.42921246e-01],\n",
       "       [ -4.59260048e-01,  -6.78793979e-01,   9.67851701e-01,\n",
       "         -1.76389183e-01],\n",
       "       [ -2.72358099e+00,   2.17601815e+00,   5.97793905e-01,\n",
       "          4.38918801e-01],\n",
       "       [  6.48777079e-01,  -1.02649806e+00,  -2.44170307e-01,\n",
       "         -2.67513413e-01],\n",
       "       [  3.64467926e-02,  -6.84622218e-01,   1.46536060e+00,\n",
       "          6.60677268e-02],\n",
       "       [ -3.34274149e-01,  -1.27903261e+00,   1.90771929e-01,\n",
       "         -5.01435384e-01],\n",
       "       [  3.18436150e+00,  -2.38373184e-01,  -1.68539991e-01,\n",
       "          1.66969553e+00],\n",
       "       [  3.81813720e+00,   2.62613732e-01,  -2.97336122e-01,\n",
       "          9.74405166e-01],\n",
       "       [ -4.67475427e-01,  -4.94060580e-01,   6.08605487e-01,\n",
       "         -2.58516905e-01],\n",
       "       [  1.49957973e+00,  -4.25884552e-01,  -5.57799928e-01,\n",
       "          2.24968322e-01],\n",
       "       [  1.47129299e+00,  -3.25734384e-01,   4.26551347e-01,\n",
       "         -1.17964031e-01],\n",
       "       [ -1.01520291e+00,  -7.14449554e-01,  -1.05621660e-01,\n",
       "         -3.86759065e-01],\n",
       "       [  8.44516996e-01,  -1.00990198e+00,  -4.13553222e-01,\n",
       "         -1.46517736e-01],\n",
       "       [ -1.45349574e-02,  -9.86440094e-01,   8.94359751e-01,\n",
       "         -5.05126746e-01],\n",
       "       [  3.96110220e+00,   8.37658144e-01,  -2.95167840e-01,\n",
       "          2.43892243e-01],\n",
       "       [ -4.04074594e-01,  -9.24494729e-01,  -4.94882540e-01,\n",
       "         -3.70053291e-01],\n",
       "       [ -2.36500877e+00,   1.17323832e+00,  -1.24197992e+00,\n",
       "          2.38687739e-01],\n",
       "       [ -7.16069241e-01,  -7.70732948e-01,  -1.23956291e-01,\n",
       "         -3.62802120e-01],\n",
       "       [ -1.01892957e+00,  -4.29184859e-01,   5.84068340e-02,\n",
       "         -2.04314502e-01],\n",
       "       [  2.51204905e-01,  -1.70065961e+00,  -2.38844325e-01,\n",
       "         -4.62239372e-01],\n",
       "       [ -1.12955278e+00,   4.00938265e-01,  -2.37767352e-01,\n",
       "         -1.37561744e-01],\n",
       "       [  1.66174419e-01,  -1.01885419e+00,   2.74252555e-01,\n",
       "          2.65835724e-02],\n",
       "       [  2.69869864e+00,   3.76827900e-01,   1.62219931e+00,\n",
       "          3.06711709e-01],\n",
       "       [  2.79629898e-01,  -1.32292201e+00,  -3.14874227e-01,\n",
       "         -4.28776993e-01],\n",
       "       [ -2.75261023e+00,   1.66712140e+00,  -8.46749434e-01,\n",
       "          3.27235315e-01],\n",
       "       [ -2.76358752e+00,   1.62883424e+00,  -2.95656064e-01,\n",
       "          3.16530874e-01],\n",
       "       [ -1.17996011e+00,  -4.94620688e-01,  -5.69686299e-01,\n",
       "         -3.47361293e-01],\n",
       "       [ -2.43989940e+00,   1.28983370e+00,  -1.22482195e+00,\n",
       "          1.94814867e-01],\n",
       "       [  3.39776294e+00,  -6.53646264e-02,  -9.89529467e-02,\n",
       "          1.57429355e+00],\n",
       "       [ -5.24653624e-01,  -9.80778416e-01,  -5.63573998e-01,\n",
       "         -3.66937824e-01],\n",
       "       [ -3.23814324e+00,   2.18275448e+00,  -1.61356843e+00,\n",
       "          2.54537675e-01],\n",
       "       [ -3.18676012e+00,   2.35978275e+00,  -1.07793569e+00,\n",
       "          5.40646444e-01],\n",
       "       [  6.91455481e-01,  -1.11713348e+00,   4.98539809e-01,\n",
       "         -6.43689910e-02],\n",
       "       [ -1.30236879e-01,  -1.36588567e+00,   1.80696713e-01,\n",
       "         -4.36824538e-01],\n",
       "       [ -1.50391768e-02,  -1.29481386e+00,  -8.62051833e-02,\n",
       "         -2.28612945e-01],\n",
       "       [ -1.94993473e+00,   6.05857798e-01,  -7.70258711e-01,\n",
       "          8.70008373e-02],\n",
       "       [ -3.11605619e+00,   2.17273974e+00,   3.57523288e-01,\n",
       "          4.35244253e-01],\n",
       "       [ -2.04803223e+00,   1.08658489e+00,   7.17461693e-01,\n",
       "          3.66971919e-02],\n",
       "       [  4.29914646e-01,  -1.37698911e+00,   2.66801278e-01,\n",
       "         -1.56063895e-01],\n",
       "       [ -2.57320863e+00,   1.49961649e+00,  -9.56299913e-01,\n",
       "          2.13689756e-01],\n",
       "       [  8.45827832e-01,  -1.26444915e+00,  -2.65372808e-01,\n",
       "         -1.67261000e-01],\n",
       "       [  2.31364253e+00,  -5.50715213e-01,  -6.06424181e-02,\n",
       "         -1.21376258e-01],\n",
       "       [  1.67418313e+00,  -8.68746296e-01,  -4.31674221e-01,\n",
       "         -2.50297330e-01],\n",
       "       [  4.37942320e+00,   9.28432358e-01,  -2.25447938e-01,\n",
       "          1.50226447e+00],\n",
       "       [ -3.68711722e-01,  -8.14928566e-01,  -6.80072593e-02,\n",
       "         -1.75911321e-01],\n",
       "       [ -3.04235193e-01,  -9.76708239e-01,   1.78535140e-01,\n",
       "         -1.95187492e-01],\n",
       "       [ -8.37714212e-01,  -5.32419119e-01,   2.57239284e-01,\n",
       "         -1.91820488e-01],\n",
       "       [ -3.38121396e-01,  -1.22091320e+00,  -2.77391459e-01,\n",
       "         -3.85259300e-01],\n",
       "       [ -1.05325585e+00,   2.70200294e+00,   1.06073005e+00,\n",
       "          4.25477428e-01],\n",
       "       [ -1.94899697e+00,   4.92196712e-01,  -3.72425137e-02,\n",
       "         -4.63910673e-02],\n",
       "       [  1.06442426e+00,  -9.27164091e-01,  -1.91365135e-01,\n",
       "         -4.56407263e-01],\n",
       "       [ -7.63323577e-01,  -5.83201426e-01,  -3.76627671e-01,\n",
       "         -4.02809952e-01],\n",
       "       [  3.20389913e+00,   2.81163129e-03,  -3.07152465e-01,\n",
       "          9.89392577e-01],\n",
       "       [  2.89520532e+00,  -2.97691287e-01,  -2.55811715e-01,\n",
       "          1.47701000e+00],\n",
       "       [ -1.28198433e+00,   8.52402580e-01,   5.18753612e-01,\n",
       "          1.21448281e-01],\n",
       "       [ -2.10566152e+00,   8.25765468e-01,  -7.50257502e-01,\n",
       "          2.21167256e-01],\n",
       "       [ -3.62088512e-01,  -1.16882216e+00,   2.35045413e-01,\n",
       "         -4.37619444e-01],\n",
       "       [  3.30216131e+00,  -1.55142183e-01,  -2.80613541e-01,\n",
       "          1.12433873e+00],\n",
       "       [ -2.00244565e+00,   7.51030513e-01,   3.68342408e-01,\n",
       "         -8.97515332e-03],\n",
       "       [  1.93167149e+00,  -1.01738519e+00,  -2.17149011e-01,\n",
       "          6.05708726e-01],\n",
       "       [ -8.63735899e-02,  -1.04067316e+00,  -5.06107237e-01,\n",
       "         -3.20481879e-01],\n",
       "       [ -8.58723785e-01,  -5.37516510e-01,  -2.34012962e-01,\n",
       "         -1.63442310e-01],\n",
       "       [ -2.71346083e+00,   1.61566585e+00,   3.43058425e-02,\n",
       "          2.22578594e-01],\n",
       "       [ -2.60916678e+00,   1.40830043e+00,  -1.19821310e+00,\n",
       "          1.73184590e-01],\n",
       "       [ -9.32909863e-01,  -4.33964413e-01,  -3.01794442e-01,\n",
       "         -3.82064878e-01],\n",
       "       [ -3.93818385e+00,   3.04527919e+00,  -1.79886317e+00,\n",
       "          6.82523969e-02],\n",
       "       [  1.05106912e+00,  -9.96104021e-01,  -1.65464309e-01,\n",
       "         -5.36279347e-01],\n",
       "       [  3.10158963e+00,   1.69252114e-01,   1.75179633e-01,\n",
       "          7.59526500e-01],\n",
       "       [ -1.26551477e+00,  -2.74099493e-01,  -7.10128976e-02,\n",
       "         -3.02038482e-01],\n",
       "       [ -8.43090075e-01,  -5.68220775e-01,   7.13589698e-01,\n",
       "         -3.13556638e-01],\n",
       "       [ -7.91627783e-02,  -9.74926881e-01,   1.01588571e+00,\n",
       "         -2.45218784e-01],\n",
       "       [ -1.19815519e+00,   3.64739772e-01,   6.75340368e-01,\n",
       "          1.37709180e-01],\n",
       "       [  4.65994226e+00,   1.40153632e+00,  -7.53864610e-01,\n",
       "         -3.90515335e-01],\n",
       "       [  1.78372403e+00,  -3.96339073e-01,  -1.48938159e-01,\n",
       "          6.30935148e-01],\n",
       "       [  2.55525592e+00,  -7.69683918e-01,  -2.01040044e-01,\n",
       "          9.34319854e-01],\n",
       "       [ -2.94256386e-01,  -1.07627362e+00,   3.84727776e-01,\n",
       "         -3.94188844e-01],\n",
       "       [  2.86227852e+00,  -8.67783532e-01,  -3.97723063e-01,\n",
       "          1.52540131e+00],\n",
       "       [ -5.23407002e-01,  -6.42897781e-01,   2.14677342e-01,\n",
       "         -1.35611345e-01],\n",
       "       [ -3.56925338e-01,  -2.23996129e-01,   1.16546044e+00,\n",
       "         -1.48784152e-01],\n",
       "       [ -1.73762589e+00,   2.82076960e-01,  -8.72348674e-01,\n",
       "         -5.21180575e-02],\n",
       "       [ -1.66747643e+00,   2.34843050e-01,  -9.66715912e-01,\n",
       "         -1.34183637e-01],\n",
       "       [  2.78314537e+00,   4.17603376e-01,   1.08056725e+00,\n",
       "          2.71124248e-01],\n",
       "       [ -1.09209649e+00,  -5.49128134e-01,   1.47744440e-01,\n",
       "         -3.38032749e-01],\n",
       "       [ -1.63765953e+00,   2.39648238e-01,  -2.13412694e-01,\n",
       "         -1.80128168e-01],\n",
       "       [  6.65798676e-01,  -1.21090282e+00,  -4.89179693e-01,\n",
       "         -4.22216465e-01],\n",
       "       [  6.45933380e-01,  -1.50090227e+00,  -2.66629428e-01,\n",
       "         -3.48789138e-01],\n",
       "       [ -2.43372805e+00,   1.16191637e+00,  -1.16622881e+00,\n",
       "         -1.90070668e-01],\n",
       "       [ -2.25878758e+00,   9.34273419e-01,  -7.65320030e-01,\n",
       "          1.03323516e-01],\n",
       "       [  4.91727584e-01,  -5.19832692e-01,   9.56039438e-01,\n",
       "         -1.63576753e-01],\n",
       "       [  7.77197185e-01,  -1.00590181e+00,  -1.93214462e-01,\n",
       "         -4.34452177e-01],\n",
       "       [  1.26336338e+01,   8.21980036e+00,  -5.71183722e-01,\n",
       "         -4.58724505e+00],\n",
       "       [  8.27317662e-02,  -1.46945385e+00,  -2.42164793e-01,\n",
       "         -5.02201720e-01],\n",
       "       [ -1.99737834e+00,   5.53877162e-01,  -3.36365174e-01,\n",
       "         -3.93287079e-02],\n",
       "       [ -2.70988303e+00,   1.49778549e+00,  -3.61391284e-01,\n",
       "          1.34213421e-01],\n",
       "       [  4.25837206e-01,  -8.49811145e-01,   2.70370901e-01,\n",
       "         -4.57717568e-01],\n",
       "       [  2.29337535e-01,  -1.18446640e+00,  -1.52384484e-01,\n",
       "         -4.27954646e-01],\n",
       "       [ -2.94558907e+00,   2.01471902e+00,  -1.13725499e+00,\n",
       "          5.08644350e-01],\n",
       "       [  2.63240742e+00,   7.43951425e-02,  -3.73266156e-02,\n",
       "         -1.27436403e+00],\n",
       "       [ -2.11516632e+00,   1.04404267e+00,   5.91793687e-01,\n",
       "          1.92237037e-01],\n",
       "       [  3.10520304e-01,  -1.18535864e+00,  -3.43192096e-01,\n",
       "         -4.47120678e-01],\n",
       "       [ -1.11621290e+00,  -2.13966198e-01,  -5.56650471e-01,\n",
       "         -1.71396123e-01],\n",
       "       [ -5.12701772e-01,  -1.23628468e+00,   4.02687025e-01,\n",
       "         -6.21965123e-01],\n",
       "       [ -1.26989922e+00,   7.63013659e-02,   2.77137518e+00,\n",
       "         -3.30800799e-01],\n",
       "       [  3.54587682e-01,  -1.40920556e+00,  -2.28723976e-01,\n",
       "         -3.62292615e-01],\n",
       "       [ -5.48026483e-01,  -9.80915700e-01,  -5.13443597e-01,\n",
       "         -3.23429432e-01],\n",
       "       [ -2.73141820e+00,   1.54688013e+00,  -7.80908941e-01,\n",
       "          2.01502334e-01],\n",
       "       [ -1.26482449e+00,  -3.58765436e-01,  -2.45855356e-01,\n",
       "         -3.21292789e-01],\n",
       "       [ -1.33514881e+00,   4.15853521e-01,  -7.59340697e-01,\n",
       "         -1.24779434e-01],\n",
       "       [ -1.25370551e+00,  -4.07839996e-01,   5.50326358e-01,\n",
       "         -3.54226903e-01],\n",
       "       [  4.49591279e+00,   9.94064602e-01,  -3.99317923e-01,\n",
       "          7.65229629e-01],\n",
       "       [  2.20877733e+00,  -4.55078817e-01,   1.16235630e-02,\n",
       "          9.54892699e-01],\n",
       "       [ -3.06240988e+00,   2.10883187e+00,  -1.31109319e+00,\n",
       "          5.95812777e-01],\n",
       "       [ -3.93133281e+00,   3.82500511e+00,   7.86789800e+00,\n",
       "          5.76284454e-01],\n",
       "       [  5.84935070e+00,   1.66970142e+00,   1.08885527e-01,\n",
       "          2.69859611e+00],\n",
       "       [  1.05198320e+00,  -2.75579923e-02,   1.19177846e+00,\n",
       "          8.44598514e-03],\n",
       "       [ -1.86236201e+00,   5.67760857e-01,  -1.04179529e-01,\n",
       "         -5.94273013e-03],\n",
       "       [  3.01438150e-01,  -8.81296452e-01,  -2.01199565e-01,\n",
       "         -2.70421517e-01],\n",
       "       [ -4.89286999e-01,  -9.20505359e-01,  -1.04027888e-02,\n",
       "         -3.25064163e-01],\n",
       "       [ -1.81640099e-01,  -1.16571319e+00,   8.64132096e-02,\n",
       "         -2.43373376e-01],\n",
       "       [ -9.30031110e-01,  -6.01853461e-01,  -3.46482259e-01,\n",
       "         -2.75838182e-01],\n",
       "       [  8.54375094e-01,  -1.28797486e+00,  -1.65962979e-01,\n",
       "         -2.26983398e-01],\n",
       "       [  1.76020483e+00,  -1.08611145e+00,  -2.27274575e-01,\n",
       "          3.68527225e-01],\n",
       "       [  5.13151814e+00,   1.46310087e+00,   1.12046542e+00,\n",
       "          8.22405084e-01],\n",
       "       [  2.82917124e-01,  -1.24415053e+00,  -8.15174661e-02,\n",
       "         -3.39422930e-01],\n",
       "       [  1.41909985e-01,  -7.97548472e-01,   8.21420580e-01,\n",
       "         -2.07258598e-01],\n",
       "       [ -1.74877331e+00,   2.59280627e-01,  -8.06498444e-01,\n",
       "         -2.26119565e-02],\n",
       "       [ -8.49924371e-01,  -4.95012421e-01,  -5.30906880e-01,\n",
       "         -8.49416237e-02],\n",
       "       [  9.12249120e-01,   3.35118703e-02,   1.28844815e+00,\n",
       "          2.52008081e-01],\n",
       "       [ -1.86296100e+00,   4.94748150e-01,  -9.19142472e-01,\n",
       "          7.71608401e-02],\n",
       "       [  1.85258665e-01,  -1.43418341e+00,   1.28249918e-01,\n",
       "         -4.05631005e-01],\n",
       "       [  6.66860789e-01,  -7.70625747e-01,  -8.37679474e-01,\n",
       "         -6.64122326e-01],\n",
       "       [ -3.22458835e+00,   2.32256042e+00,  -1.28086650e-01,\n",
       "          3.52305355e-01],\n",
       "       [  6.58249368e+00,   2.91363335e+00,  -2.24591473e-01,\n",
       "         -3.49633927e+00],\n",
       "       [  1.40975018e+00,  -7.90932796e-01,  -3.39379646e-01,\n",
       "         -3.89568609e-01],\n",
       "       [  2.04122596e+00,  -7.26884482e-01,  -3.95427569e-01,\n",
       "         -7.73589301e-02],\n",
       "       [ -1.51849922e+00,   1.22797240e-02,  -3.50581448e-01,\n",
       "         -1.91078509e-01],\n",
       "       [ -1.17778837e+00,   3.55703539e-01,  -5.34096778e-01,\n",
       "         -9.44805925e-02],\n",
       "       [  1.75618557e+00,  -1.02241928e+00,   8.05101569e-02,\n",
       "         -9.18827155e-02],\n",
       "       [  2.24505677e+00,  -1.00137913e+00,  -2.01621058e-01,\n",
       "          7.09321699e-01],\n",
       "       [ -5.46367648e-01,  -9.53156543e-01,   1.58537901e+00,\n",
       "         -3.97248288e-01],\n",
       "       [ -2.26403737e-01,  -9.88159815e-01,  -1.63415826e-01,\n",
       "         -4.02810695e-01],\n",
       "       [ -2.01740914e+00,   8.48743368e-01,   6.97120101e-01,\n",
       "          1.47532322e-01],\n",
       "       [ -1.98169634e-01,  -5.68219224e-01,   3.81701940e-02,\n",
       "         -1.97885421e-01],\n",
       "       [  3.80853455e+00,   3.86906983e-01,  -2.70980526e-01,\n",
       "          1.15652683e+00],\n",
       "       [  6.26675986e+00,   1.85841617e+00,  -5.13418543e-01,\n",
       "          1.57952762e+00],\n",
       "       [ -1.37703058e+00,  -1.67223106e-01,   2.85240143e-01,\n",
       "         -1.88171299e-01],\n",
       "       [ -2.27820681e+00,   1.00703408e+00,  -4.00046363e-01,\n",
       "          1.39092033e-01],\n",
       "       [  1.73439561e-01,  -1.40174413e+00,  -5.00013577e-04,\n",
       "         -5.23404067e-01],\n",
       "       [ -2.00826808e+00,   1.08527874e+00,   1.38685245e+00,\n",
       "          4.37888138e-01],\n",
       "       [ -2.24442260e+00,   9.05619255e-01,  -1.18892745e+00,\n",
       "          7.19999981e-02],\n",
       "       [ -8.58737645e-01,  -5.46740284e-01,  -3.68778061e-01,\n",
       "         -1.76307212e-01],\n",
       "       [ -6.28721875e-02,  -1.28473396e+00,  -7.83028469e-02,\n",
       "         -3.89974245e-01],\n",
       "       [  3.28028293e-01,  -1.06692892e+00,   2.66149671e-01,\n",
       "         -3.85584981e-02],\n",
       "       [ -8.95487918e-01,  -1.90537198e-01,  -6.17520984e-01,\n",
       "         -2.52276543e-01],\n",
       "       [ -2.62206933e+00,   1.46245927e+00,  -4.09204084e-01,\n",
       "          2.72634318e-01],\n",
       "       [ -3.73030787e-01,  -1.16243217e+00,   6.67469093e-01,\n",
       "         -5.54336827e-01],\n",
       "       [  2.68993565e+00,   5.41348875e-01,   9.62262375e-01,\n",
       "         -3.38272082e-01],\n",
       "       [  2.60744484e+00,  -3.66948278e-01,  -1.78684571e-01,\n",
       "          1.05381911e+00],\n",
       "       [  3.78744875e+00,   1.42623972e-01,  -4.02690281e-01,\n",
       "          3.19565530e+00],\n",
       "       [  4.55561128e-01,  -1.09921201e+00,   4.78721368e-02,\n",
       "         -1.94849860e-02],\n",
       "       [ -1.03177878e+00,  -5.67628352e-01,   7.55918725e-01,\n",
       "         -3.88882776e-01],\n",
       "       [ -1.17572418e+00,  -2.82174357e-01,  -6.62106108e-01,\n",
       "         -2.84828104e-01],\n",
       "       [ -3.13053760e-01,  -1.68601008e-02,   3.66113720e+00,\n",
       "          3.45335082e-02],\n",
       "       [ -5.94294426e-01,  -1.08430697e+00,   5.26444426e-01,\n",
       "         -5.08115208e-01],\n",
       "       [ -1.80272917e+00,   5.85734111e-01,   1.18064203e+00,\n",
       "          5.23191368e-02],\n",
       "       [ -2.64540248e+00,   1.57149044e+00,  -1.77418700e-01,\n",
       "          1.62952524e-01]])"
      ]
     },
     "execution_count": 777,
     "metadata": {},
     "output_type": "execute_result"
    }
   ],
   "source": [
    "df_pca"
   ]
  },
  {
   "cell_type": "code",
   "execution_count": 778,
   "metadata": {
    "collapsed": true
   },
   "outputs": [],
   "source": [
    "#Creating a transpose so that the each column is properly arranged\n",
    "pc = np.transpose(df_pca)"
   ]
  },
  {
   "cell_type": "code",
   "execution_count": 779,
   "metadata": {
    "collapsed": true
   },
   "outputs": [],
   "source": [
    "pcs_df2 = pd.DataFrame({'PC1':pc[0],'PC2':pc[1],'PC3':pc[2],'PC4':pc[3]})"
   ]
  },
  {
   "cell_type": "code",
   "execution_count": 780,
   "metadata": {},
   "outputs": [
    {
     "data": {
      "text/html": [
       "<div>\n",
       "<style>\n",
       "    .dataframe thead tr:only-child th {\n",
       "        text-align: right;\n",
       "    }\n",
       "\n",
       "    .dataframe thead th {\n",
       "        text-align: left;\n",
       "    }\n",
       "\n",
       "    .dataframe tbody tr th {\n",
       "        vertical-align: top;\n",
       "    }\n",
       "</style>\n",
       "<table border=\"1\" class=\"dataframe\">\n",
       "  <thead>\n",
       "    <tr style=\"text-align: right;\">\n",
       "      <th></th>\n",
       "      <th>PC1</th>\n",
       "      <th>PC2</th>\n",
       "      <th>PC3</th>\n",
       "      <th>PC4</th>\n",
       "    </tr>\n",
       "  </thead>\n",
       "  <tbody>\n",
       "    <tr>\n",
       "      <th>0</th>\n",
       "      <td>-2.636647</td>\n",
       "      <td>1.472085</td>\n",
       "      <td>-0.546500</td>\n",
       "      <td>0.237267</td>\n",
       "    </tr>\n",
       "    <tr>\n",
       "      <th>1</th>\n",
       "      <td>-0.023845</td>\n",
       "      <td>-1.435816</td>\n",
       "      <td>-0.009080</td>\n",
       "      <td>-0.442921</td>\n",
       "    </tr>\n",
       "    <tr>\n",
       "      <th>2</th>\n",
       "      <td>-0.459260</td>\n",
       "      <td>-0.678794</td>\n",
       "      <td>0.967852</td>\n",
       "      <td>-0.176389</td>\n",
       "    </tr>\n",
       "    <tr>\n",
       "      <th>3</th>\n",
       "      <td>-2.723581</td>\n",
       "      <td>2.176018</td>\n",
       "      <td>0.597794</td>\n",
       "      <td>0.438919</td>\n",
       "    </tr>\n",
       "    <tr>\n",
       "      <th>4</th>\n",
       "      <td>0.648777</td>\n",
       "      <td>-1.026498</td>\n",
       "      <td>-0.244170</td>\n",
       "      <td>-0.267513</td>\n",
       "    </tr>\n",
       "  </tbody>\n",
       "</table>\n",
       "</div>"
      ],
      "text/plain": [
       "        PC1       PC2       PC3       PC4\n",
       "0 -2.636647  1.472085 -0.546500  0.237267\n",
       "1 -0.023845 -1.435816 -0.009080 -0.442921\n",
       "2 -0.459260 -0.678794  0.967852 -0.176389\n",
       "3 -2.723581  2.176018  0.597794  0.438919\n",
       "4  0.648777 -1.026498 -0.244170 -0.267513"
      ]
     },
     "execution_count": 780,
     "metadata": {},
     "output_type": "execute_result"
    }
   ],
   "source": [
    "pcs_df2.head()"
   ]
  },
  {
   "cell_type": "code",
   "execution_count": 781,
   "metadata": {},
   "outputs": [
    {
     "data": {
      "text/plain": [
       "<matplotlib.axes._subplots.AxesSubplot at 0x1a151bea20>"
      ]
     },
     "execution_count": 781,
     "metadata": {},
     "output_type": "execute_result"
    },
    {
     "data": {
      "image/png": "[encoded data removed]",
      "text/plain": [
       "<matplotlib.figure.Figure at 0x1a15867780>"
      ]
     },
     "metadata": {},
     "output_type": "display_data"
    }
   ],
   "source": [
    "import matplotlib.pyplot as plt\n",
    "\n",
    "\n",
    "pcs_df2.plot(kind='box')"
   ]
  },
  {
   "cell_type": "code",
   "execution_count": 782,
   "metadata": {},
   "outputs": [
    {
     "data": {
      "text/plain": [
       "Index(['PC1', 'PC2', 'PC3', 'PC4'], dtype='object')"
      ]
     },
     "execution_count": 782,
     "metadata": {},
     "output_type": "execute_result"
    }
   ],
   "source": [
    "pcs_df2.columns"
   ]
  },
  {
   "cell_type": "markdown",
   "metadata": {},
   "source": [
    "#### Generic Functions "
   ]
  },
  {
   "cell_type": "code",
   "execution_count": 783,
   "metadata": {
    "collapsed": true
   },
   "outputs": [],
   "source": [
    "def draw_univariate_plot(df):\n",
    " sns.set(style=\"darkgrid\")   \n",
    " sns.set_palette(sns.color_palette(\"hls\",20))\n",
    " \n",
    " for cols in df.columns:\n",
    "        fig, ax=plt.subplots(nrows =1,ncols=2,figsize=(20,8))\n",
    "        ax[0].set_title(\"Distribution Plot\")\n",
    "        sns.distplot(df[cols],ax=ax[0])\n",
    "        ax[1].set_title(\"Box Plot\")\n",
    "        sns.boxplot(data =df, x=cols,ax=ax[1],orient='v')\n",
    "        plt.xticks(rotation='vertical',fontsize=12)\n",
    "        plt.show()"
   ]
  },
  {
   "cell_type": "code",
   "execution_count": 834,
   "metadata": {
    "collapsed": true
   },
   "outputs": [],
   "source": [
    "def remove_outliers(df):\n",
    "    Q1 = df.quantile(0.25)\n",
    "    Q3 = df.quantile(0.75)\n",
    "    IQR = Q3 - Q1\n",
    "    print(\"Total Outlier removed are\",len(df[((df < (Q1 - 1.5*IQR)) | (df > (Q3 + 1.5*IQR))).any(axis=1)]))\n",
    "    df_out = df[((df >= (Q1 - 1.5*IQR)) & (df <= (Q3 + 1.5*IQR))).all(axis=1)]\n",
    "    return df_out"
   ]
  },
  {
   "cell_type": "markdown",
   "metadata": {},
   "source": [
    "#### Outlier Analysis"
   ]
  },
  {
   "cell_type": "code",
   "execution_count": 785,
   "metadata": {},
   "outputs": [
    {
     "data": {
      "image/png": "[encoded data removed]",
      "text/plain": [
       "<matplotlib.figure.Figure at 0x1a15203668>"
      ]
     },
     "metadata": {},
     "output_type": "display_data"
    },
    {
     "data": {
      "image/png": "[encoded data removed]",
      "text/plain": [
       "<matplotlib.figure.Figure at 0x1a14bcd320>"
      ]
     },
     "metadata": {},
     "output_type": "display_data"
    },
    {
     "data": {
      "image/png": "[encoded data removed]",
      "text/plain": [
       "<matplotlib.figure.Figure at 0x1a13f113c8>"
      ]
     },
     "metadata": {},
     "output_type": "display_data"
    },
    {
     "data": {
      "image/png": "[encoded data removed]",
      "text/plain": [
       "<matplotlib.figure.Figure at 0x1a1504ca58>"
      ]
     },
     "metadata": {},
     "output_type": "display_data"
    }
   ],
   "source": [
    "#Draw box plot for the data frame\n",
    "draw_univariate_plot(pcs_df2)"
   ]
  },
  {
   "cell_type": "raw",
   "metadata": {},
   "source": [
    "INFO - Seems like lots of outlier in the dataframe ,hence we need to remove them before proceeding with the clustering"
   ]
  },
  {
   "cell_type": "code",
   "execution_count": 786,
   "metadata": {},
   "outputs": [
    {
     "name": "stdout",
     "output_type": "stream",
     "text": [
      "Total Outlier removed are 26\n"
     ]
    }
   ],
   "source": [
    "#Remove the outlier based on the Quartile ranges\n",
    "pcs_df3=remove_outliers(pcs_df2)"
   ]
  },
  {
   "cell_type": "code",
   "execution_count": 787,
   "metadata": {},
   "outputs": [
    {
     "data": {
      "image/png": "[encoded data removed]",
      "text/plain": [
       "<matplotlib.figure.Figure at 0x1a18778c88>"
      ]
     },
     "metadata": {},
     "output_type": "display_data"
    },
    {
     "data": {
      "image/png": "[encoded data removed]",
      "text/plain": [
       "<matplotlib.figure.Figure at 0x1a1877d4a8>"
      ]
     },
     "metadata": {},
     "output_type": "display_data"
    },
    {
     "data": {
      "image/png": "[encoded data removed]",
      "text/plain": [
       "<matplotlib.figure.Figure at 0x1a189100f0>"
      ]
     },
     "metadata": {},
     "output_type": "display_data"
    },
    {
     "data": {
      "image/png": "[encoded data removed]",
      "text/plain": [
       "<matplotlib.figure.Figure at 0x1a1892dcc0>"
      ]
     },
     "metadata": {},
     "output_type": "display_data"
    }
   ],
   "source": [
    "#Again try to draw plot and check for the outliers\n",
    "draw_univariate_plot(pcs_df3)"
   ]
  },
  {
   "cell_type": "code",
   "execution_count": 788,
   "metadata": {},
   "outputs": [
    {
     "data": {
      "text/plain": [
       "(141, 4)"
      ]
     },
     "execution_count": 788,
     "metadata": {},
     "output_type": "execute_result"
    }
   ],
   "source": [
    "#Inspect the size of the dataframe \n",
    "pcs_df3.shape"
   ]
  },
  {
   "cell_type": "code",
   "execution_count": 789,
   "metadata": {},
   "outputs": [
    {
     "data": {
      "text/plain": [
       "<matplotlib.axes._subplots.AxesSubplot at 0x1a17626fd0>"
      ]
     },
     "execution_count": 789,
     "metadata": {},
     "output_type": "execute_result"
    },
    {
     "data": {
      "image/png": "[encoded data removed]",
      "text/plain": [
       "<matplotlib.figure.Figure at 0x1a1878cd68>"
      ]
     },
     "metadata": {},
     "output_type": "display_data"
    }
   ],
   "source": [
    "#Visualising the points on the PCs.\n",
    "# one of the prime advatanges of PCA is that you can visualise high dimensional data\n",
    "sns.scatterplot(x='PC1',y='PC2',data=pcs_df2)"
   ]
  },
  {
   "cell_type": "code",
   "execution_count": 790,
   "metadata": {
    "collapsed": true
   },
   "outputs": [],
   "source": [
    "countries_kmean_df = pcs_df3"
   ]
  },
  {
   "cell_type": "markdown",
   "metadata": {},
   "source": [
    "### Clustering\n",
    "- K Mean Clustering\n",
    "- Hierarchial Clustering"
   ]
  },
  {
   "cell_type": "code",
   "execution_count": 791,
   "metadata": {
    "collapsed": true
   },
   "outputs": [],
   "source": [
    "#Calculating the Hopkins statistic\n",
    "from sklearn.neighbors import NearestNeighbors\n",
    "from random import sample\n",
    "from numpy.random import uniform\n",
    "import numpy as np\n",
    "from math import isnan\n",
    " \n",
    "def hopkins(X):\n",
    "    d = X.shape[1]\n",
    "    #d = len(vars) # columns\n",
    "    n = len(X) # rows\n",
    "    m = int(0.1 * n) \n",
    "    nbrs = NearestNeighbors(n_neighbors=1).fit(X.values)\n",
    " \n",
    "    rand_X = sample(range(0, n, 1), m)\n",
    " \n",
    "    ujd = []\n",
    "    wjd = []\n",
    "    for j in range(0, m):\n",
    "        u_dist, _ = nbrs.kneighbors(uniform(np.amin(X,axis=0),np.amax(X,axis=0),d).reshape(1, -1), 2, return_distance=True)\n",
    "        ujd.append(u_dist[0][1])\n",
    "        w_dist, _ = nbrs.kneighbors(X.iloc[rand_X[j]].values.reshape(1, -1), 2, return_distance=True)\n",
    "        wjd.append(w_dist[0][1])\n",
    " \n",
    "    H = sum(ujd) / (sum(ujd) + sum(wjd))\n",
    "    if isnan(H):\n",
    "        print(ujd, wjd)\n",
    "        H = 0\n",
    " \n",
    "    return H"
   ]
  },
  {
   "cell_type": "code",
   "execution_count": 792,
   "metadata": {},
   "outputs": [
    {
     "data": {
      "text/plain": [
       "0.80998575224999547"
      ]
     },
     "execution_count": 792,
     "metadata": {},
     "output_type": "execute_result"
    }
   ],
   "source": [
    "#Let's check the Hopkins measure\n",
    "hopkins(pcs_df3)"
   ]
  },
  {
   "cell_type": "raw",
   "metadata": {},
   "source": [
    "INFO - 83% is the good Hopkin score ,hence the dataset is good for clustering"
   ]
  },
  {
   "cell_type": "markdown",
   "metadata": {},
   "source": [
    "#### K- means Clustering"
   ]
  },
  {
   "cell_type": "code",
   "execution_count": 793,
   "metadata": {
    "collapsed": true
   },
   "outputs": [],
   "source": [
    "#First we'll do the silhouette score analysis\n",
    "from sklearn.metrics import silhouette_score\n",
    "\n",
    "# To perform KMeans clustering \n",
    "from sklearn.cluster import KMeans\n",
    "sse_ = []\n",
    "for k in range(2, 10):\n",
    "    kmeans = KMeans(n_clusters=k).fit(countries_kmean_df)\n",
    "    sse_.append([k, silhouette_score(countries_kmean_df, kmeans.labels_)])"
   ]
  },
  {
   "cell_type": "code",
   "execution_count": 794,
   "metadata": {},
   "outputs": [
    {
     "data": {
      "image/png": "[encoded data removed]",
      "text/plain": [
       "<matplotlib.figure.Figure at 0x1a13d2b160>"
      ]
     },
     "metadata": {},
     "output_type": "display_data"
    }
   ],
   "source": [
    "plt.plot(pd.DataFrame(sse_)[0], pd.DataFrame(sse_)[1]);"
   ]
  },
  {
   "cell_type": "raw",
   "metadata": {},
   "source": [
    "INFO - Silhouette score plot we can see that k=3 is desired."
   ]
  },
  {
   "cell_type": "markdown",
   "metadata": {},
   "source": [
    "##### Sum of Squared Distances"
   ]
  },
  {
   "cell_type": "code",
   "execution_count": 795,
   "metadata": {},
   "outputs": [
    {
     "data": {
      "text/plain": [
       "[<matplotlib.lines.Line2D at 0x1a16347ba8>]"
      ]
     },
     "execution_count": 795,
     "metadata": {},
     "output_type": "execute_result"
    },
    {
     "data": {
      "image/png": "[encoded data removed]",
      "text/plain": [
       "<matplotlib.figure.Figure at 0x1a13e820b8>"
      ]
     },
     "metadata": {},
     "output_type": "display_data"
    }
   ],
   "source": [
    "# sum of squared distances\n",
    "ssd = []\n",
    "for num_clusters in list(range(2,10)):\n",
    "    model_clus = KMeans(n_clusters = num_clusters, max_iter=50)\n",
    "    model_clus.fit(countries_kmean_df)\n",
    "    ssd.append(model_clus.inertia_)\n",
    "\n",
    "plt.plot(ssd)"
   ]
  },
  {
   "cell_type": "raw",
   "metadata": {},
   "source": [
    "INFO - Lets Choose k=3 for our analysis"
   ]
  },
  {
   "cell_type": "code",
   "execution_count": 796,
   "metadata": {},
   "outputs": [
    {
     "data": {
      "text/plain": [
       "KMeans(algorithm='auto', copy_x=True, init='k-means++', max_iter=50,\n",
       "    n_clusters=3, n_init=10, n_jobs=1, precompute_distances='auto',\n",
       "    random_state=50, tol=0.0001, verbose=0)"
      ]
     },
     "execution_count": 796,
     "metadata": {},
     "output_type": "execute_result"
    }
   ],
   "source": [
    "#Here also we're seeing a distinct bend at around 3 clusters. Hence it seems a good K to choose.\n",
    "#Let's perform K means using K=3\n",
    "model_clus = KMeans(n_clusters = 3, max_iter=50,random_state = 50)\n",
    "model_clus.fit(countries_kmean_df)"
   ]
  },
  {
   "cell_type": "code",
   "execution_count": 797,
   "metadata": {},
   "outputs": [
    {
     "data": {
      "text/plain": [
       "array([2, 0, 0, 2, 0, 0, 1, 0, 1, 1, 0, 0, 0, 1, 0, 2, 0, 0, 0, 2, 0, 0, 2,\n",
       "       2, 0, 2, 0, 2, 0, 0, 0, 2, 2, 2, 0, 2, 0, 1, 1, 0, 0, 0, 0, 2, 2, 0,\n",
       "       0, 1, 2, 2, 0, 2, 1, 0, 0, 2, 2, 0, 0, 1, 0, 0, 0, 2, 1, 1, 0, 0, 0,\n",
       "       2, 2, 1, 0, 2, 0, 0, 2, 2, 0, 0, 0, 2, 2, 0, 0, 2, 2, 0, 0, 0, 0, 0,\n",
       "       2, 0, 2, 0, 1, 2, 1, 2, 0, 0, 0, 0, 0, 1, 0, 0, 2, 0, 2, 0, 0, 2, 1,\n",
       "       1, 2, 2, 1, 1, 0, 2, 0, 0, 2, 0, 2, 0, 0, 0, 0, 2, 0, 1, 1, 0, 0, 0,\n",
       "       0, 2, 2], dtype=int32)"
      ]
     },
     "execution_count": 797,
     "metadata": {},
     "output_type": "execute_result"
    }
   ],
   "source": [
    "model_clus.labels_"
   ]
  },
  {
   "cell_type": "code",
   "execution_count": 798,
   "metadata": {},
   "outputs": [
    {
     "data": {
      "text/html": [
       "<div>\n",
       "<style>\n",
       "    .dataframe thead tr:only-child th {\n",
       "        text-align: right;\n",
       "    }\n",
       "\n",
       "    .dataframe thead th {\n",
       "        text-align: left;\n",
       "    }\n",
       "\n",
       "    .dataframe tbody tr th {\n",
       "        vertical-align: top;\n",
       "    }\n",
       "</style>\n",
       "<table border=\"1\" class=\"dataframe\">\n",
       "  <thead>\n",
       "    <tr style=\"text-align: right;\">\n",
       "      <th></th>\n",
       "      <th>PC1</th>\n",
       "      <th>PC2</th>\n",
       "      <th>PC3</th>\n",
       "      <th>PC4</th>\n",
       "      <th>ClusterID</th>\n",
       "    </tr>\n",
       "  </thead>\n",
       "  <tbody>\n",
       "    <tr>\n",
       "      <th>0</th>\n",
       "      <td>-2.636647</td>\n",
       "      <td>1.472085</td>\n",
       "      <td>-0.546500</td>\n",
       "      <td>0.237267</td>\n",
       "      <td>2</td>\n",
       "    </tr>\n",
       "    <tr>\n",
       "      <th>1</th>\n",
       "      <td>-0.023845</td>\n",
       "      <td>-1.435816</td>\n",
       "      <td>-0.009080</td>\n",
       "      <td>-0.442921</td>\n",
       "      <td>0</td>\n",
       "    </tr>\n",
       "    <tr>\n",
       "      <th>2</th>\n",
       "      <td>-0.459260</td>\n",
       "      <td>-0.678794</td>\n",
       "      <td>0.967852</td>\n",
       "      <td>-0.176389</td>\n",
       "      <td>0</td>\n",
       "    </tr>\n",
       "    <tr>\n",
       "      <th>3</th>\n",
       "      <td>-2.723581</td>\n",
       "      <td>2.176018</td>\n",
       "      <td>0.597794</td>\n",
       "      <td>0.438919</td>\n",
       "      <td>2</td>\n",
       "    </tr>\n",
       "    <tr>\n",
       "      <th>4</th>\n",
       "      <td>0.648777</td>\n",
       "      <td>-1.026498</td>\n",
       "      <td>-0.244170</td>\n",
       "      <td>-0.267513</td>\n",
       "      <td>0</td>\n",
       "    </tr>\n",
       "  </tbody>\n",
       "</table>\n",
       "</div>"
      ],
      "text/plain": [
       "        PC1       PC2       PC3       PC4  ClusterID\n",
       "0 -2.636647  1.472085 -0.546500  0.237267          2\n",
       "1 -0.023845 -1.435816 -0.009080 -0.442921          0\n",
       "2 -0.459260 -0.678794  0.967852 -0.176389          0\n",
       "3 -2.723581  2.176018  0.597794  0.438919          2\n",
       "4  0.648777 -1.026498 -0.244170 -0.267513          0"
      ]
     },
     "execution_count": 798,
     "metadata": {},
     "output_type": "execute_result"
    }
   ],
   "source": [
    "countries_df2=pcs_df3\n",
    "countries_df2.index = pd.RangeIndex(len(countries_df2.index))\n",
    "countries_km = pd.concat([countries_df2, pd.Series(model_clus.labels_)], axis=1)\n",
    "countries_km.columns = ['PC1', 'PC2', 'PC3','PC4','ClusterID']\n",
    "countries_km.head()"
   ]
  },
  {
   "cell_type": "code",
   "execution_count": 799,
   "metadata": {},
   "outputs": [
    {
     "data": {
      "text/plain": [
       "0    76\n",
       "2    44\n",
       "1    21\n",
       "Name: ClusterID, dtype: int64"
      ]
     },
     "execution_count": 799,
     "metadata": {},
     "output_type": "execute_result"
    }
   ],
   "source": [
    "countries_km['ClusterID'].value_counts()"
   ]
  },
  {
   "cell_type": "code",
   "execution_count": 800,
   "metadata": {},
   "outputs": [
    {
     "data": {
      "text/plain": [
       "<matplotlib.axes._subplots.AxesSubplot at 0x1a14a0fa20>"
      ]
     },
     "execution_count": 800,
     "metadata": {},
     "output_type": "execute_result"
    },
    {
     "data": {
      "image/png": "[encoded data removed]",
      "text/plain": [
       "<matplotlib.figure.Figure at 0x1a15863a90>"
      ]
     },
     "metadata": {},
     "output_type": "display_data"
    }
   ],
   "source": [
    "sns.scatterplot(x='PC1',y='PC2',hue='ClusterID',legend='full',data=countries_km)"
   ]
  },
  {
   "cell_type": "raw",
   "metadata": {},
   "source": [
    "INFO - Scatter Plot is the truth for 3 clusters"
   ]
  },
  {
   "cell_type": "code",
   "execution_count": 801,
   "metadata": {},
   "outputs": [
    {
     "data": {
      "text/html": [
       "<div>\n",
       "<style>\n",
       "    .dataframe thead tr:only-child th {\n",
       "        text-align: right;\n",
       "    }\n",
       "\n",
       "    .dataframe thead th {\n",
       "        text-align: left;\n",
       "    }\n",
       "\n",
       "    .dataframe tbody tr th {\n",
       "        vertical-align: top;\n",
       "    }\n",
       "</style>\n",
       "<table border=\"1\" class=\"dataframe\">\n",
       "  <thead>\n",
       "    <tr style=\"text-align: right;\">\n",
       "      <th></th>\n",
       "      <th>country</th>\n",
       "      <th>child_mort</th>\n",
       "      <th>exports</th>\n",
       "      <th>health</th>\n",
       "      <th>imports</th>\n",
       "      <th>income</th>\n",
       "      <th>inflation</th>\n",
       "      <th>life_expec</th>\n",
       "      <th>total_fer</th>\n",
       "      <th>gdpp</th>\n",
       "      <th>PC1</th>\n",
       "      <th>PC2</th>\n",
       "      <th>PC3</th>\n",
       "      <th>PC4</th>\n",
       "      <th>ClusterID</th>\n",
       "    </tr>\n",
       "  </thead>\n",
       "  <tbody>\n",
       "    <tr>\n",
       "      <th>0</th>\n",
       "      <td>Afghanistan</td>\n",
       "      <td>90.2</td>\n",
       "      <td>55.30</td>\n",
       "      <td>41.9174</td>\n",
       "      <td>248.297</td>\n",
       "      <td>1610</td>\n",
       "      <td>9.44</td>\n",
       "      <td>56.2</td>\n",
       "      <td>5.82</td>\n",
       "      <td>553</td>\n",
       "      <td>-2.636647</td>\n",
       "      <td>1.472085</td>\n",
       "      <td>-0.546500</td>\n",
       "      <td>0.237267</td>\n",
       "      <td>2</td>\n",
       "    </tr>\n",
       "    <tr>\n",
       "      <th>1</th>\n",
       "      <td>Albania</td>\n",
       "      <td>16.6</td>\n",
       "      <td>1145.20</td>\n",
       "      <td>267.8950</td>\n",
       "      <td>1987.740</td>\n",
       "      <td>9930</td>\n",
       "      <td>4.49</td>\n",
       "      <td>76.3</td>\n",
       "      <td>1.65</td>\n",
       "      <td>4090</td>\n",
       "      <td>-0.023845</td>\n",
       "      <td>-1.435816</td>\n",
       "      <td>-0.009080</td>\n",
       "      <td>-0.442921</td>\n",
       "      <td>0</td>\n",
       "    </tr>\n",
       "    <tr>\n",
       "      <th>2</th>\n",
       "      <td>Algeria</td>\n",
       "      <td>27.3</td>\n",
       "      <td>1712.64</td>\n",
       "      <td>185.9820</td>\n",
       "      <td>1400.440</td>\n",
       "      <td>12900</td>\n",
       "      <td>16.10</td>\n",
       "      <td>76.5</td>\n",
       "      <td>2.89</td>\n",
       "      <td>4460</td>\n",
       "      <td>-0.459260</td>\n",
       "      <td>-0.678794</td>\n",
       "      <td>0.967852</td>\n",
       "      <td>-0.176389</td>\n",
       "      <td>0</td>\n",
       "    </tr>\n",
       "    <tr>\n",
       "      <th>3</th>\n",
       "      <td>Angola</td>\n",
       "      <td>119.0</td>\n",
       "      <td>2199.19</td>\n",
       "      <td>100.6050</td>\n",
       "      <td>1514.370</td>\n",
       "      <td>5900</td>\n",
       "      <td>22.40</td>\n",
       "      <td>60.1</td>\n",
       "      <td>6.16</td>\n",
       "      <td>3530</td>\n",
       "      <td>-2.723581</td>\n",
       "      <td>2.176018</td>\n",
       "      <td>0.597794</td>\n",
       "      <td>0.438919</td>\n",
       "      <td>2</td>\n",
       "    </tr>\n",
       "    <tr>\n",
       "      <th>4</th>\n",
       "      <td>Antigua and Barbuda</td>\n",
       "      <td>10.3</td>\n",
       "      <td>5551.00</td>\n",
       "      <td>735.6600</td>\n",
       "      <td>7185.800</td>\n",
       "      <td>19100</td>\n",
       "      <td>1.44</td>\n",
       "      <td>76.8</td>\n",
       "      <td>2.13</td>\n",
       "      <td>12200</td>\n",
       "      <td>0.648777</td>\n",
       "      <td>-1.026498</td>\n",
       "      <td>-0.244170</td>\n",
       "      <td>-0.267513</td>\n",
       "      <td>0</td>\n",
       "    </tr>\n",
       "  </tbody>\n",
       "</table>\n",
       "</div>"
      ],
      "text/plain": [
       "               country  child_mort  exports    health   imports  income  \\\n",
       "0          Afghanistan        90.2    55.30   41.9174   248.297    1610   \n",
       "1              Albania        16.6  1145.20  267.8950  1987.740    9930   \n",
       "2              Algeria        27.3  1712.64  185.9820  1400.440   12900   \n",
       "3               Angola       119.0  2199.19  100.6050  1514.370    5900   \n",
       "4  Antigua and Barbuda        10.3  5551.00  735.6600  7185.800   19100   \n",
       "\n",
       "   inflation  life_expec  total_fer   gdpp       PC1       PC2       PC3  \\\n",
       "0       9.44        56.2       5.82    553 -2.636647  1.472085 -0.546500   \n",
       "1       4.49        76.3       1.65   4090 -0.023845 -1.435816 -0.009080   \n",
       "2      16.10        76.5       2.89   4460 -0.459260 -0.678794  0.967852   \n",
       "3      22.40        60.1       6.16   3530 -2.723581  2.176018  0.597794   \n",
       "4       1.44        76.8       2.13  12200  0.648777 -1.026498 -0.244170   \n",
       "\n",
       "        PC4  ClusterID  \n",
       "0  0.237267          2  \n",
       "1 -0.442921          0  \n",
       "2 -0.176389          0  \n",
       "3  0.438919          2  \n",
       "4 -0.267513          0  "
      ]
     },
     "execution_count": 801,
     "metadata": {},
     "output_type": "execute_result"
    }
   ],
   "source": [
    "countries_df_final=pd.merge(countries_df,countries_km, left_index=True,right_index=True)\n",
    "countries_df_final.head()"
   ]
  },
  {
   "cell_type": "code",
   "execution_count": 802,
   "metadata": {},
   "outputs": [
    {
     "data": {
      "text/html": [
       "<div>\n",
       "<style>\n",
       "    .dataframe thead tr:only-child th {\n",
       "        text-align: right;\n",
       "    }\n",
       "\n",
       "    .dataframe thead th {\n",
       "        text-align: left;\n",
       "    }\n",
       "\n",
       "    .dataframe tbody tr th {\n",
       "        vertical-align: top;\n",
       "    }\n",
       "</style>\n",
       "<table border=\"1\" class=\"dataframe\">\n",
       "  <thead>\n",
       "    <tr style=\"text-align: right;\">\n",
       "      <th></th>\n",
       "      <th>country</th>\n",
       "      <th>child_mort</th>\n",
       "      <th>exports</th>\n",
       "      <th>health</th>\n",
       "      <th>imports</th>\n",
       "      <th>income</th>\n",
       "      <th>inflation</th>\n",
       "      <th>life_expec</th>\n",
       "      <th>total_fer</th>\n",
       "      <th>gdpp</th>\n",
       "      <th>ClusterID</th>\n",
       "    </tr>\n",
       "  </thead>\n",
       "  <tbody>\n",
       "    <tr>\n",
       "      <th>0</th>\n",
       "      <td>Afghanistan</td>\n",
       "      <td>90.2</td>\n",
       "      <td>55.30</td>\n",
       "      <td>41.9174</td>\n",
       "      <td>248.297</td>\n",
       "      <td>1610</td>\n",
       "      <td>9.44</td>\n",
       "      <td>56.2</td>\n",
       "      <td>5.82</td>\n",
       "      <td>553</td>\n",
       "      <td>2</td>\n",
       "    </tr>\n",
       "    <tr>\n",
       "      <th>1</th>\n",
       "      <td>Albania</td>\n",
       "      <td>16.6</td>\n",
       "      <td>1145.20</td>\n",
       "      <td>267.8950</td>\n",
       "      <td>1987.740</td>\n",
       "      <td>9930</td>\n",
       "      <td>4.49</td>\n",
       "      <td>76.3</td>\n",
       "      <td>1.65</td>\n",
       "      <td>4090</td>\n",
       "      <td>0</td>\n",
       "    </tr>\n",
       "    <tr>\n",
       "      <th>2</th>\n",
       "      <td>Algeria</td>\n",
       "      <td>27.3</td>\n",
       "      <td>1712.64</td>\n",
       "      <td>185.9820</td>\n",
       "      <td>1400.440</td>\n",
       "      <td>12900</td>\n",
       "      <td>16.10</td>\n",
       "      <td>76.5</td>\n",
       "      <td>2.89</td>\n",
       "      <td>4460</td>\n",
       "      <td>0</td>\n",
       "    </tr>\n",
       "    <tr>\n",
       "      <th>3</th>\n",
       "      <td>Angola</td>\n",
       "      <td>119.0</td>\n",
       "      <td>2199.19</td>\n",
       "      <td>100.6050</td>\n",
       "      <td>1514.370</td>\n",
       "      <td>5900</td>\n",
       "      <td>22.40</td>\n",
       "      <td>60.1</td>\n",
       "      <td>6.16</td>\n",
       "      <td>3530</td>\n",
       "      <td>2</td>\n",
       "    </tr>\n",
       "    <tr>\n",
       "      <th>4</th>\n",
       "      <td>Antigua and Barbuda</td>\n",
       "      <td>10.3</td>\n",
       "      <td>5551.00</td>\n",
       "      <td>735.6600</td>\n",
       "      <td>7185.800</td>\n",
       "      <td>19100</td>\n",
       "      <td>1.44</td>\n",
       "      <td>76.8</td>\n",
       "      <td>2.13</td>\n",
       "      <td>12200</td>\n",
       "      <td>0</td>\n",
       "    </tr>\n",
       "  </tbody>\n",
       "</table>\n",
       "</div>"
      ],
      "text/plain": [
       "               country  child_mort  exports    health   imports  income  \\\n",
       "0          Afghanistan        90.2    55.30   41.9174   248.297    1610   \n",
       "1              Albania        16.6  1145.20  267.8950  1987.740    9930   \n",
       "2              Algeria        27.3  1712.64  185.9820  1400.440   12900   \n",
       "3               Angola       119.0  2199.19  100.6050  1514.370    5900   \n",
       "4  Antigua and Barbuda        10.3  5551.00  735.6600  7185.800   19100   \n",
       "\n",
       "   inflation  life_expec  total_fer   gdpp  ClusterID  \n",
       "0       9.44        56.2       5.82    553          2  \n",
       "1       4.49        76.3       1.65   4090          0  \n",
       "2      16.10        76.5       2.89   4460          0  \n",
       "3      22.40        60.1       6.16   3530          2  \n",
       "4       1.44        76.8       2.13  12200          0  "
      ]
     },
     "execution_count": 802,
     "metadata": {},
     "output_type": "execute_result"
    }
   ],
   "source": [
    "countries_df_final=countries_df_final.drop(['PC1','PC2','PC3','PC4'],axis=1)\n",
    "countries_df_final.head()"
   ]
  },
  {
   "cell_type": "markdown",
   "metadata": {},
   "source": [
    "#### Analysis on the Clusters"
   ]
  },
  {
   "cell_type": "code",
   "execution_count": 803,
   "metadata": {
    "collapsed": true
   },
   "outputs": [],
   "source": [
    "cntry_child_mort = \tpd.DataFrame(countries_df_final.groupby([\"ClusterID\"]).child_mort.mean())\n",
    "cntry_exports= \tpd.DataFrame(countries_df_final.groupby([\"ClusterID\"]).exports.mean())\n",
    "cntry_health = \tpd.DataFrame(countries_df_final.groupby([\"ClusterID\"]).health.mean())\n",
    "cntry_imports = pd.DataFrame(countries_df_final.groupby([\"ClusterID\"]).imports.mean())\n",
    "cntry_income = pd.DataFrame(countries_df_final.groupby([\"ClusterID\"]).income.mean())\n",
    "cntry_inflation = pd.DataFrame(countries_df_final.groupby([\"ClusterID\"]).inflation.mean())\n",
    "cntry_life_expec = pd.DataFrame(countries_df_final.groupby([\"ClusterID\"]).life_expec.mean())\n",
    "cntry_total_fer = pd.DataFrame(countries_df_final.groupby([\"ClusterID\"]).total_fer.mean())\n",
    "cntry_gdpp = pd.DataFrame(countries_df_final.groupby([\"ClusterID\"]).gdpp.mean())"
   ]
  },
  {
   "cell_type": "code",
   "execution_count": 807,
   "metadata": {
    "collapsed": true
   },
   "outputs": [],
   "source": [
    "cntry_truth = pd.concat([pd.Series([0,1,2]),cntry_child_mort,cntry_exports,cntry_health,cntry_imports,cntry_income,cntry_inflation,cntry_life_expec,cntry_total_fer,cntry_gdpp], axis=1)"
   ]
  },
  {
   "cell_type": "code",
   "execution_count": 808,
   "metadata": {},
   "outputs": [
    {
     "data": {
      "text/html": [
       "<div>\n",
       "<style>\n",
       "    .dataframe thead tr:only-child th {\n",
       "        text-align: right;\n",
       "    }\n",
       "\n",
       "    .dataframe thead th {\n",
       "        text-align: left;\n",
       "    }\n",
       "\n",
       "    .dataframe tbody tr th {\n",
       "        vertical-align: top;\n",
       "    }\n",
       "</style>\n",
       "<table border=\"1\" class=\"dataframe\">\n",
       "  <thead>\n",
       "    <tr style=\"text-align: right;\">\n",
       "      <th></th>\n",
       "      <th>ClusterID</th>\n",
       "      <th>cntry_child_mort</th>\n",
       "      <th>cntry_exports</th>\n",
       "      <th>cntry_health</th>\n",
       "      <th>cntry_imports</th>\n",
       "      <th>cntry_income</th>\n",
       "      <th>cntry_inflation</th>\n",
       "      <th>cntry_life_expec</th>\n",
       "      <th>cntry_total_fer</th>\n",
       "      <th>cntry_gdpp</th>\n",
       "    </tr>\n",
       "  </thead>\n",
       "  <tbody>\n",
       "    <tr>\n",
       "      <th>0</th>\n",
       "      <td>0</td>\n",
       "      <td>35.230263</td>\n",
       "      <td>7144.943125</td>\n",
       "      <td>1024.212353</td>\n",
       "      <td>6438.803541</td>\n",
       "      <td>17304.947368</td>\n",
       "      <td>6.350987</td>\n",
       "      <td>70.642105</td>\n",
       "      <td>2.795000</td>\n",
       "      <td>12941.750000</td>\n",
       "    </tr>\n",
       "    <tr>\n",
       "      <th>1</th>\n",
       "      <td>1</td>\n",
       "      <td>32.242857</td>\n",
       "      <td>11345.646524</td>\n",
       "      <td>1094.507686</td>\n",
       "      <td>10010.349429</td>\n",
       "      <td>19013.761905</td>\n",
       "      <td>7.679952</td>\n",
       "      <td>71.909524</td>\n",
       "      <td>2.703810</td>\n",
       "      <td>14394.809524</td>\n",
       "    </tr>\n",
       "    <tr>\n",
       "      <th>2</th>\n",
       "      <td>2</td>\n",
       "      <td>48.404545</td>\n",
       "      <td>7079.355364</td>\n",
       "      <td>978.811768</td>\n",
       "      <td>6038.565705</td>\n",
       "      <td>17116.545455</td>\n",
       "      <td>8.950318</td>\n",
       "      <td>69.656818</td>\n",
       "      <td>3.222727</td>\n",
       "      <td>12347.886364</td>\n",
       "    </tr>\n",
       "  </tbody>\n",
       "</table>\n",
       "</div>"
      ],
      "text/plain": [
       "   ClusterID  cntry_child_mort  cntry_exports  cntry_health  cntry_imports  \\\n",
       "0          0         35.230263    7144.943125   1024.212353    6438.803541   \n",
       "1          1         32.242857   11345.646524   1094.507686   10010.349429   \n",
       "2          2         48.404545    7079.355364    978.811768    6038.565705   \n",
       "\n",
       "   cntry_income  cntry_inflation  cntry_life_expec  cntry_total_fer  \\\n",
       "0  17304.947368         6.350987         70.642105         2.795000   \n",
       "1  19013.761905         7.679952         71.909524         2.703810   \n",
       "2  17116.545455         8.950318         69.656818         3.222727   \n",
       "\n",
       "     cntry_gdpp  \n",
       "0  12941.750000  \n",
       "1  14394.809524  \n",
       "2  12347.886364  "
      ]
     },
     "execution_count": 808,
     "metadata": {},
     "output_type": "execute_result"
    }
   ],
   "source": [
    "cntry_truth.columns = [\"ClusterID\",\"cntry_child_mort\",\"cntry_exports\",\"cntry_health\",\"cntry_imports\",\"cntry_income\",\"cntry_inflation\",\"cntry_life_expec\",\"cntry_total_fer\",\"cntry_gdpp\"]\n",
    "cntry_truth"
   ]
  },
  {
   "cell_type": "code",
   "execution_count": 832,
   "metadata": {},
   "outputs": [
    {
     "data": {
      "text/html": [
       "<div>\n",
       "<style>\n",
       "    .dataframe thead tr:only-child th {\n",
       "        text-align: right;\n",
       "    }\n",
       "\n",
       "    .dataframe thead th {\n",
       "        text-align: left;\n",
       "    }\n",
       "\n",
       "    .dataframe tbody tr th {\n",
       "        vertical-align: top;\n",
       "    }\n",
       "</style>\n",
       "<table border=\"1\" class=\"dataframe\">\n",
       "  <thead>\n",
       "    <tr style=\"text-align: right;\">\n",
       "      <th></th>\n",
       "      <th>country</th>\n",
       "      <th>child_mort</th>\n",
       "      <th>exports</th>\n",
       "      <th>health</th>\n",
       "      <th>imports</th>\n",
       "      <th>income</th>\n",
       "      <th>inflation</th>\n",
       "      <th>life_expec</th>\n",
       "      <th>total_fer</th>\n",
       "      <th>gdpp</th>\n",
       "      <th>ClusterID</th>\n",
       "    </tr>\n",
       "  </thead>\n",
       "  <tbody>\n",
       "    <tr>\n",
       "      <th>0</th>\n",
       "      <td>Afghanistan</td>\n",
       "      <td>90.2</td>\n",
       "      <td>55.300</td>\n",
       "      <td>41.9174</td>\n",
       "      <td>248.297</td>\n",
       "      <td>1610</td>\n",
       "      <td>9.440</td>\n",
       "      <td>56.2</td>\n",
       "      <td>5.82</td>\n",
       "      <td>553</td>\n",
       "      <td>2</td>\n",
       "    </tr>\n",
       "    <tr>\n",
       "      <th>3</th>\n",
       "      <td>Angola</td>\n",
       "      <td>119.0</td>\n",
       "      <td>2199.190</td>\n",
       "      <td>100.6050</td>\n",
       "      <td>1514.370</td>\n",
       "      <td>5900</td>\n",
       "      <td>22.400</td>\n",
       "      <td>60.1</td>\n",
       "      <td>6.16</td>\n",
       "      <td>3530</td>\n",
       "      <td>2</td>\n",
       "    </tr>\n",
       "    <tr>\n",
       "      <th>15</th>\n",
       "      <td>Belgium</td>\n",
       "      <td>4.5</td>\n",
       "      <td>33921.600</td>\n",
       "      <td>4750.8000</td>\n",
       "      <td>33166.800</td>\n",
       "      <td>41100</td>\n",
       "      <td>1.880</td>\n",
       "      <td>80.0</td>\n",
       "      <td>1.86</td>\n",
       "      <td>44400</td>\n",
       "      <td>2</td>\n",
       "    </tr>\n",
       "    <tr>\n",
       "      <th>19</th>\n",
       "      <td>Bolivia</td>\n",
       "      <td>46.6</td>\n",
       "      <td>815.760</td>\n",
       "      <td>95.8320</td>\n",
       "      <td>679.140</td>\n",
       "      <td>5410</td>\n",
       "      <td>8.780</td>\n",
       "      <td>71.6</td>\n",
       "      <td>3.20</td>\n",
       "      <td>1980</td>\n",
       "      <td>2</td>\n",
       "    </tr>\n",
       "    <tr>\n",
       "      <th>22</th>\n",
       "      <td>Brazil</td>\n",
       "      <td>19.8</td>\n",
       "      <td>1198.400</td>\n",
       "      <td>1009.1200</td>\n",
       "      <td>1321.600</td>\n",
       "      <td>14500</td>\n",
       "      <td>8.410</td>\n",
       "      <td>74.2</td>\n",
       "      <td>1.80</td>\n",
       "      <td>11200</td>\n",
       "      <td>2</td>\n",
       "    </tr>\n",
       "    <tr>\n",
       "      <th>23</th>\n",
       "      <td>Brunei</td>\n",
       "      <td>10.5</td>\n",
       "      <td>23792.200</td>\n",
       "      <td>1002.5200</td>\n",
       "      <td>9884.000</td>\n",
       "      <td>80600</td>\n",
       "      <td>16.700</td>\n",
       "      <td>77.1</td>\n",
       "      <td>1.84</td>\n",
       "      <td>35300</td>\n",
       "      <td>2</td>\n",
       "    </tr>\n",
       "    <tr>\n",
       "      <th>25</th>\n",
       "      <td>Burkina Faso</td>\n",
       "      <td>116.0</td>\n",
       "      <td>110.400</td>\n",
       "      <td>38.7550</td>\n",
       "      <td>170.200</td>\n",
       "      <td>1430</td>\n",
       "      <td>6.810</td>\n",
       "      <td>57.9</td>\n",
       "      <td>5.87</td>\n",
       "      <td>575</td>\n",
       "      <td>2</td>\n",
       "    </tr>\n",
       "    <tr>\n",
       "      <th>27</th>\n",
       "      <td>Cambodia</td>\n",
       "      <td>44.4</td>\n",
       "      <td>425.226</td>\n",
       "      <td>44.6448</td>\n",
       "      <td>467.670</td>\n",
       "      <td>2520</td>\n",
       "      <td>3.120</td>\n",
       "      <td>66.1</td>\n",
       "      <td>2.88</td>\n",
       "      <td>786</td>\n",
       "      <td>2</td>\n",
       "    </tr>\n",
       "    <tr>\n",
       "      <th>31</th>\n",
       "      <td>Central African Republic</td>\n",
       "      <td>149.0</td>\n",
       "      <td>52.628</td>\n",
       "      <td>17.7508</td>\n",
       "      <td>118.190</td>\n",
       "      <td>888</td>\n",
       "      <td>2.010</td>\n",
       "      <td>47.5</td>\n",
       "      <td>5.21</td>\n",
       "      <td>446</td>\n",
       "      <td>2</td>\n",
       "    </tr>\n",
       "    <tr>\n",
       "      <th>32</th>\n",
       "      <td>Chad</td>\n",
       "      <td>150.0</td>\n",
       "      <td>330.096</td>\n",
       "      <td>40.6341</td>\n",
       "      <td>390.195</td>\n",
       "      <td>1930</td>\n",
       "      <td>6.390</td>\n",
       "      <td>56.5</td>\n",
       "      <td>6.59</td>\n",
       "      <td>897</td>\n",
       "      <td>2</td>\n",
       "    </tr>\n",
       "    <tr>\n",
       "      <th>33</th>\n",
       "      <td>Chile</td>\n",
       "      <td>8.7</td>\n",
       "      <td>4863.300</td>\n",
       "      <td>1026.8400</td>\n",
       "      <td>4037.700</td>\n",
       "      <td>19400</td>\n",
       "      <td>8.960</td>\n",
       "      <td>79.1</td>\n",
       "      <td>1.88</td>\n",
       "      <td>12900</td>\n",
       "      <td>2</td>\n",
       "    </tr>\n",
       "    <tr>\n",
       "      <th>35</th>\n",
       "      <td>Colombia</td>\n",
       "      <td>18.6</td>\n",
       "      <td>993.750</td>\n",
       "      <td>474.3750</td>\n",
       "      <td>1112.500</td>\n",
       "      <td>10900</td>\n",
       "      <td>3.860</td>\n",
       "      <td>76.4</td>\n",
       "      <td>2.01</td>\n",
       "      <td>6250</td>\n",
       "      <td>2</td>\n",
       "    </tr>\n",
       "    <tr>\n",
       "      <th>43</th>\n",
       "      <td>Czech Republic</td>\n",
       "      <td>3.4</td>\n",
       "      <td>13068.000</td>\n",
       "      <td>1560.2400</td>\n",
       "      <td>12454.200</td>\n",
       "      <td>28300</td>\n",
       "      <td>-1.430</td>\n",
       "      <td>77.5</td>\n",
       "      <td>1.51</td>\n",
       "      <td>19800</td>\n",
       "      <td>2</td>\n",
       "    </tr>\n",
       "    <tr>\n",
       "      <th>44</th>\n",
       "      <td>Denmark</td>\n",
       "      <td>4.1</td>\n",
       "      <td>29290.000</td>\n",
       "      <td>6612.0000</td>\n",
       "      <td>25288.000</td>\n",
       "      <td>44000</td>\n",
       "      <td>3.220</td>\n",
       "      <td>79.5</td>\n",
       "      <td>1.87</td>\n",
       "      <td>58000</td>\n",
       "      <td>2</td>\n",
       "    </tr>\n",
       "    <tr>\n",
       "      <th>48</th>\n",
       "      <td>El Salvador</td>\n",
       "      <td>19.2</td>\n",
       "      <td>804.310</td>\n",
       "      <td>206.6090</td>\n",
       "      <td>1393.340</td>\n",
       "      <td>7300</td>\n",
       "      <td>2.650</td>\n",
       "      <td>74.1</td>\n",
       "      <td>2.27</td>\n",
       "      <td>2990</td>\n",
       "      <td>2</td>\n",
       "    </tr>\n",
       "    <tr>\n",
       "      <th>49</th>\n",
       "      <td>Equatorial Guinea</td>\n",
       "      <td>111.0</td>\n",
       "      <td>14671.800</td>\n",
       "      <td>766.0800</td>\n",
       "      <td>10071.900</td>\n",
       "      <td>33700</td>\n",
       "      <td>24.900</td>\n",
       "      <td>60.9</td>\n",
       "      <td>5.21</td>\n",
       "      <td>17100</td>\n",
       "      <td>2</td>\n",
       "    </tr>\n",
       "    <tr>\n",
       "      <th>51</th>\n",
       "      <td>Estonia</td>\n",
       "      <td>4.5</td>\n",
       "      <td>10964.600</td>\n",
       "      <td>880.3800</td>\n",
       "      <td>10030.200</td>\n",
       "      <td>22700</td>\n",
       "      <td>1.740</td>\n",
       "      <td>76.0</td>\n",
       "      <td>1.72</td>\n",
       "      <td>14600</td>\n",
       "      <td>2</td>\n",
       "    </tr>\n",
       "    <tr>\n",
       "      <th>55</th>\n",
       "      <td>Gabon</td>\n",
       "      <td>63.7</td>\n",
       "      <td>5048.750</td>\n",
       "      <td>306.2500</td>\n",
       "      <td>1653.750</td>\n",
       "      <td>15400</td>\n",
       "      <td>16.600</td>\n",
       "      <td>62.9</td>\n",
       "      <td>4.08</td>\n",
       "      <td>8750</td>\n",
       "      <td>2</td>\n",
       "    </tr>\n",
       "    <tr>\n",
       "      <th>56</th>\n",
       "      <td>Gambia</td>\n",
       "      <td>80.3</td>\n",
       "      <td>133.756</td>\n",
       "      <td>31.9778</td>\n",
       "      <td>239.974</td>\n",
       "      <td>1660</td>\n",
       "      <td>4.300</td>\n",
       "      <td>65.5</td>\n",
       "      <td>5.71</td>\n",
       "      <td>562</td>\n",
       "      <td>2</td>\n",
       "    </tr>\n",
       "    <tr>\n",
       "      <th>63</th>\n",
       "      <td>Guinea</td>\n",
       "      <td>109.0</td>\n",
       "      <td>196.344</td>\n",
       "      <td>31.9464</td>\n",
       "      <td>279.936</td>\n",
       "      <td>1190</td>\n",
       "      <td>16.100</td>\n",
       "      <td>58.0</td>\n",
       "      <td>5.34</td>\n",
       "      <td>648</td>\n",
       "      <td>2</td>\n",
       "    </tr>\n",
       "    <tr>\n",
       "      <th>69</th>\n",
       "      <td>India</td>\n",
       "      <td>58.8</td>\n",
       "      <td>305.100</td>\n",
       "      <td>54.6750</td>\n",
       "      <td>365.850</td>\n",
       "      <td>4410</td>\n",
       "      <td>8.980</td>\n",
       "      <td>66.2</td>\n",
       "      <td>2.60</td>\n",
       "      <td>1350</td>\n",
       "      <td>2</td>\n",
       "    </tr>\n",
       "    <tr>\n",
       "      <th>70</th>\n",
       "      <td>Indonesia</td>\n",
       "      <td>33.3</td>\n",
       "      <td>755.730</td>\n",
       "      <td>81.1710</td>\n",
       "      <td>696.640</td>\n",
       "      <td>8430</td>\n",
       "      <td>15.300</td>\n",
       "      <td>69.9</td>\n",
       "      <td>2.48</td>\n",
       "      <td>3110</td>\n",
       "      <td>2</td>\n",
       "    </tr>\n",
       "    <tr>\n",
       "      <th>73</th>\n",
       "      <td>Ireland</td>\n",
       "      <td>4.2</td>\n",
       "      <td>50161.000</td>\n",
       "      <td>4475.5300</td>\n",
       "      <td>42125.500</td>\n",
       "      <td>45700</td>\n",
       "      <td>-3.220</td>\n",
       "      <td>80.4</td>\n",
       "      <td>2.05</td>\n",
       "      <td>48700</td>\n",
       "      <td>2</td>\n",
       "    </tr>\n",
       "    <tr>\n",
       "      <th>76</th>\n",
       "      <td>Jamaica</td>\n",
       "      <td>18.1</td>\n",
       "      <td>1464.840</td>\n",
       "      <td>225.1080</td>\n",
       "      <td>2321.280</td>\n",
       "      <td>8000</td>\n",
       "      <td>9.810</td>\n",
       "      <td>74.7</td>\n",
       "      <td>2.17</td>\n",
       "      <td>4680</td>\n",
       "      <td>2</td>\n",
       "    </tr>\n",
       "    <tr>\n",
       "      <th>77</th>\n",
       "      <td>Japan</td>\n",
       "      <td>3.2</td>\n",
       "      <td>6675.000</td>\n",
       "      <td>4223.0500</td>\n",
       "      <td>6052.000</td>\n",
       "      <td>35800</td>\n",
       "      <td>-1.900</td>\n",
       "      <td>82.8</td>\n",
       "      <td>1.39</td>\n",
       "      <td>44500</td>\n",
       "      <td>2</td>\n",
       "    </tr>\n",
       "    <tr>\n",
       "      <th>81</th>\n",
       "      <td>Kiribati</td>\n",
       "      <td>62.7</td>\n",
       "      <td>198.170</td>\n",
       "      <td>168.3700</td>\n",
       "      <td>1190.510</td>\n",
       "      <td>1730</td>\n",
       "      <td>1.520</td>\n",
       "      <td>60.7</td>\n",
       "      <td>3.84</td>\n",
       "      <td>1490</td>\n",
       "      <td>2</td>\n",
       "    </tr>\n",
       "    <tr>\n",
       "      <th>82</th>\n",
       "      <td>Kuwait</td>\n",
       "      <td>10.8</td>\n",
       "      <td>25679.500</td>\n",
       "      <td>1012.5500</td>\n",
       "      <td>11704.000</td>\n",
       "      <td>75200</td>\n",
       "      <td>11.200</td>\n",
       "      <td>78.2</td>\n",
       "      <td>2.21</td>\n",
       "      <td>38500</td>\n",
       "      <td>2</td>\n",
       "    </tr>\n",
       "    <tr>\n",
       "      <th>85</th>\n",
       "      <td>Latvia</td>\n",
       "      <td>7.8</td>\n",
       "      <td>6068.100</td>\n",
       "      <td>754.8400</td>\n",
       "      <td>6226.300</td>\n",
       "      <td>18300</td>\n",
       "      <td>-0.812</td>\n",
       "      <td>73.1</td>\n",
       "      <td>1.36</td>\n",
       "      <td>11300</td>\n",
       "      <td>2</td>\n",
       "    </tr>\n",
       "    <tr>\n",
       "      <th>86</th>\n",
       "      <td>Lebanon</td>\n",
       "      <td>10.3</td>\n",
       "      <td>3171.880</td>\n",
       "      <td>622.8580</td>\n",
       "      <td>5333.720</td>\n",
       "      <td>16300</td>\n",
       "      <td>0.238</td>\n",
       "      <td>79.8</td>\n",
       "      <td>1.61</td>\n",
       "      <td>8860</td>\n",
       "      <td>2</td>\n",
       "    </tr>\n",
       "    <tr>\n",
       "      <th>92</th>\n",
       "      <td>Macedonia, FYR</td>\n",
       "      <td>10.4</td>\n",
       "      <td>1806.920</td>\n",
       "      <td>321.8860</td>\n",
       "      <td>2637.740</td>\n",
       "      <td>11400</td>\n",
       "      <td>2.040</td>\n",
       "      <td>74.0</td>\n",
       "      <td>1.47</td>\n",
       "      <td>4540</td>\n",
       "      <td>2</td>\n",
       "    </tr>\n",
       "    <tr>\n",
       "      <th>94</th>\n",
       "      <td>Malawi</td>\n",
       "      <td>90.5</td>\n",
       "      <td>104.652</td>\n",
       "      <td>30.2481</td>\n",
       "      <td>160.191</td>\n",
       "      <td>1030</td>\n",
       "      <td>12.100</td>\n",
       "      <td>53.1</td>\n",
       "      <td>5.31</td>\n",
       "      <td>459</td>\n",
       "      <td>2</td>\n",
       "    </tr>\n",
       "    <tr>\n",
       "      <th>97</th>\n",
       "      <td>Mali</td>\n",
       "      <td>137.0</td>\n",
       "      <td>161.424</td>\n",
       "      <td>35.2584</td>\n",
       "      <td>248.508</td>\n",
       "      <td>1870</td>\n",
       "      <td>4.370</td>\n",
       "      <td>59.5</td>\n",
       "      <td>6.55</td>\n",
       "      <td>708</td>\n",
       "      <td>2</td>\n",
       "    </tr>\n",
       "    <tr>\n",
       "      <th>99</th>\n",
       "      <td>Mauritania</td>\n",
       "      <td>97.4</td>\n",
       "      <td>608.400</td>\n",
       "      <td>52.9200</td>\n",
       "      <td>734.400</td>\n",
       "      <td>3320</td>\n",
       "      <td>18.900</td>\n",
       "      <td>68.2</td>\n",
       "      <td>4.98</td>\n",
       "      <td>1200</td>\n",
       "      <td>2</td>\n",
       "    </tr>\n",
       "    <tr>\n",
       "      <th>108</th>\n",
       "      <td>Namibia</td>\n",
       "      <td>56.0</td>\n",
       "      <td>2480.820</td>\n",
       "      <td>351.8820</td>\n",
       "      <td>3150.330</td>\n",
       "      <td>8460</td>\n",
       "      <td>3.560</td>\n",
       "      <td>58.6</td>\n",
       "      <td>3.60</td>\n",
       "      <td>5190</td>\n",
       "      <td>2</td>\n",
       "    </tr>\n",
       "    <tr>\n",
       "      <th>110</th>\n",
       "      <td>Netherlands</td>\n",
       "      <td>4.5</td>\n",
       "      <td>36216.000</td>\n",
       "      <td>5985.7000</td>\n",
       "      <td>31990.800</td>\n",
       "      <td>45500</td>\n",
       "      <td>0.848</td>\n",
       "      <td>80.7</td>\n",
       "      <td>1.79</td>\n",
       "      <td>50300</td>\n",
       "      <td>2</td>\n",
       "    </tr>\n",
       "    <tr>\n",
       "      <th>113</th>\n",
       "      <td>Nigeria</td>\n",
       "      <td>130.0</td>\n",
       "      <td>589.490</td>\n",
       "      <td>118.1310</td>\n",
       "      <td>405.420</td>\n",
       "      <td>5150</td>\n",
       "      <td>104.000</td>\n",
       "      <td>60.5</td>\n",
       "      <td>5.84</td>\n",
       "      <td>2330</td>\n",
       "      <td>2</td>\n",
       "    </tr>\n",
       "    <tr>\n",
       "      <th>116</th>\n",
       "      <td>Pakistan</td>\n",
       "      <td>92.1</td>\n",
       "      <td>140.400</td>\n",
       "      <td>22.8800</td>\n",
       "      <td>201.760</td>\n",
       "      <td>4280</td>\n",
       "      <td>10.900</td>\n",
       "      <td>65.3</td>\n",
       "      <td>3.85</td>\n",
       "      <td>1040</td>\n",
       "      <td>2</td>\n",
       "    </tr>\n",
       "    <tr>\n",
       "      <th>117</th>\n",
       "      <td>Panama</td>\n",
       "      <td>19.7</td>\n",
       "      <td>5656.000</td>\n",
       "      <td>654.4800</td>\n",
       "      <td>6318.560</td>\n",
       "      <td>15400</td>\n",
       "      <td>2.590</td>\n",
       "      <td>77.8</td>\n",
       "      <td>2.62</td>\n",
       "      <td>8080</td>\n",
       "      <td>2</td>\n",
       "    </tr>\n",
       "    <tr>\n",
       "      <th>121</th>\n",
       "      <td>Poland</td>\n",
       "      <td>6.0</td>\n",
       "      <td>5052.600</td>\n",
       "      <td>939.9600</td>\n",
       "      <td>5304.600</td>\n",
       "      <td>21800</td>\n",
       "      <td>1.660</td>\n",
       "      <td>76.3</td>\n",
       "      <td>1.41</td>\n",
       "      <td>12600</td>\n",
       "      <td>2</td>\n",
       "    </tr>\n",
       "    <tr>\n",
       "      <th>124</th>\n",
       "      <td>Romania</td>\n",
       "      <td>11.5</td>\n",
       "      <td>2682.980</td>\n",
       "      <td>459.2340</td>\n",
       "      <td>3193.240</td>\n",
       "      <td>17800</td>\n",
       "      <td>3.530</td>\n",
       "      <td>73.7</td>\n",
       "      <td>1.59</td>\n",
       "      <td>8230</td>\n",
       "      <td>2</td>\n",
       "    </tr>\n",
       "    <tr>\n",
       "      <th>126</th>\n",
       "      <td>Rwanda</td>\n",
       "      <td>63.6</td>\n",
       "      <td>67.560</td>\n",
       "      <td>59.1150</td>\n",
       "      <td>168.900</td>\n",
       "      <td>1350</td>\n",
       "      <td>2.610</td>\n",
       "      <td>64.6</td>\n",
       "      <td>4.51</td>\n",
       "      <td>563</td>\n",
       "      <td>2</td>\n",
       "    </tr>\n",
       "    <tr>\n",
       "      <th>131</th>\n",
       "      <td>Seychelles</td>\n",
       "      <td>14.4</td>\n",
       "      <td>10130.400</td>\n",
       "      <td>367.2000</td>\n",
       "      <td>11664.000</td>\n",
       "      <td>20400</td>\n",
       "      <td>-4.210</td>\n",
       "      <td>73.4</td>\n",
       "      <td>2.17</td>\n",
       "      <td>10800</td>\n",
       "      <td>2</td>\n",
       "    </tr>\n",
       "    <tr>\n",
       "      <th>139</th>\n",
       "      <td>Spain</td>\n",
       "      <td>3.8</td>\n",
       "      <td>7828.500</td>\n",
       "      <td>2928.7800</td>\n",
       "      <td>8227.600</td>\n",
       "      <td>32500</td>\n",
       "      <td>0.160</td>\n",
       "      <td>81.9</td>\n",
       "      <td>1.37</td>\n",
       "      <td>30700</td>\n",
       "      <td>2</td>\n",
       "    </tr>\n",
       "    <tr>\n",
       "      <th>140</th>\n",
       "      <td>Sri Lanka</td>\n",
       "      <td>11.2</td>\n",
       "      <td>550.760</td>\n",
       "      <td>82.6140</td>\n",
       "      <td>753.080</td>\n",
       "      <td>8560</td>\n",
       "      <td>22.800</td>\n",
       "      <td>74.4</td>\n",
       "      <td>2.20</td>\n",
       "      <td>2810</td>\n",
       "      <td>2</td>\n",
       "    </tr>\n",
       "  </tbody>\n",
       "</table>\n",
       "</div>"
      ],
      "text/plain": [
       "                      country  child_mort    exports     health    imports  \\\n",
       "0                 Afghanistan        90.2     55.300    41.9174    248.297   \n",
       "3                      Angola       119.0   2199.190   100.6050   1514.370   \n",
       "15                    Belgium         4.5  33921.600  4750.8000  33166.800   \n",
       "19                    Bolivia        46.6    815.760    95.8320    679.140   \n",
       "22                     Brazil        19.8   1198.400  1009.1200   1321.600   \n",
       "23                     Brunei        10.5  23792.200  1002.5200   9884.000   \n",
       "25               Burkina Faso       116.0    110.400    38.7550    170.200   \n",
       "27                   Cambodia        44.4    425.226    44.6448    467.670   \n",
       "31   Central African Republic       149.0     52.628    17.7508    118.190   \n",
       "32                       Chad       150.0    330.096    40.6341    390.195   \n",
       "33                      Chile         8.7   4863.300  1026.8400   4037.700   \n",
       "35                   Colombia        18.6    993.750   474.3750   1112.500   \n",
       "43             Czech Republic         3.4  13068.000  1560.2400  12454.200   \n",
       "44                    Denmark         4.1  29290.000  6612.0000  25288.000   \n",
       "48                El Salvador        19.2    804.310   206.6090   1393.340   \n",
       "49          Equatorial Guinea       111.0  14671.800   766.0800  10071.900   \n",
       "51                    Estonia         4.5  10964.600   880.3800  10030.200   \n",
       "55                      Gabon        63.7   5048.750   306.2500   1653.750   \n",
       "56                     Gambia        80.3    133.756    31.9778    239.974   \n",
       "63                     Guinea       109.0    196.344    31.9464    279.936   \n",
       "69                      India        58.8    305.100    54.6750    365.850   \n",
       "70                  Indonesia        33.3    755.730    81.1710    696.640   \n",
       "73                    Ireland         4.2  50161.000  4475.5300  42125.500   \n",
       "76                    Jamaica        18.1   1464.840   225.1080   2321.280   \n",
       "77                      Japan         3.2   6675.000  4223.0500   6052.000   \n",
       "81                   Kiribati        62.7    198.170   168.3700   1190.510   \n",
       "82                     Kuwait        10.8  25679.500  1012.5500  11704.000   \n",
       "85                     Latvia         7.8   6068.100   754.8400   6226.300   \n",
       "86                    Lebanon        10.3   3171.880   622.8580   5333.720   \n",
       "92             Macedonia, FYR        10.4   1806.920   321.8860   2637.740   \n",
       "94                     Malawi        90.5    104.652    30.2481    160.191   \n",
       "97                       Mali       137.0    161.424    35.2584    248.508   \n",
       "99                 Mauritania        97.4    608.400    52.9200    734.400   \n",
       "108                   Namibia        56.0   2480.820   351.8820   3150.330   \n",
       "110               Netherlands         4.5  36216.000  5985.7000  31990.800   \n",
       "113                   Nigeria       130.0    589.490   118.1310    405.420   \n",
       "116                  Pakistan        92.1    140.400    22.8800    201.760   \n",
       "117                    Panama        19.7   5656.000   654.4800   6318.560   \n",
       "121                    Poland         6.0   5052.600   939.9600   5304.600   \n",
       "124                   Romania        11.5   2682.980   459.2340   3193.240   \n",
       "126                    Rwanda        63.6     67.560    59.1150    168.900   \n",
       "131                Seychelles        14.4  10130.400   367.2000  11664.000   \n",
       "139                     Spain         3.8   7828.500  2928.7800   8227.600   \n",
       "140                 Sri Lanka        11.2    550.760    82.6140    753.080   \n",
       "\n",
       "     income  inflation  life_expec  total_fer   gdpp  ClusterID  \n",
       "0      1610      9.440        56.2       5.82    553          2  \n",
       "3      5900     22.400        60.1       6.16   3530          2  \n",
       "15    41100      1.880        80.0       1.86  44400          2  \n",
       "19     5410      8.780        71.6       3.20   1980          2  \n",
       "22    14500      8.410        74.2       1.80  11200          2  \n",
       "23    80600     16.700        77.1       1.84  35300          2  \n",
       "25     1430      6.810        57.9       5.87    575          2  \n",
       "27     2520      3.120        66.1       2.88    786          2  \n",
       "31      888      2.010        47.5       5.21    446          2  \n",
       "32     1930      6.390        56.5       6.59    897          2  \n",
       "33    19400      8.960        79.1       1.88  12900          2  \n",
       "35    10900      3.860        76.4       2.01   6250          2  \n",
       "43    28300     -1.430        77.5       1.51  19800          2  \n",
       "44    44000      3.220        79.5       1.87  58000          2  \n",
       "48     7300      2.650        74.1       2.27   2990          2  \n",
       "49    33700     24.900        60.9       5.21  17100          2  \n",
       "51    22700      1.740        76.0       1.72  14600          2  \n",
       "55    15400     16.600        62.9       4.08   8750          2  \n",
       "56     1660      4.300        65.5       5.71    562          2  \n",
       "63     1190     16.100        58.0       5.34    648          2  \n",
       "69     4410      8.980        66.2       2.60   1350          2  \n",
       "70     8430     15.300        69.9       2.48   3110          2  \n",
       "73    45700     -3.220        80.4       2.05  48700          2  \n",
       "76     8000      9.810        74.7       2.17   4680          2  \n",
       "77    35800     -1.900        82.8       1.39  44500          2  \n",
       "81     1730      1.520        60.7       3.84   1490          2  \n",
       "82    75200     11.200        78.2       2.21  38500          2  \n",
       "85    18300     -0.812        73.1       1.36  11300          2  \n",
       "86    16300      0.238        79.8       1.61   8860          2  \n",
       "92    11400      2.040        74.0       1.47   4540          2  \n",
       "94     1030     12.100        53.1       5.31    459          2  \n",
       "97     1870      4.370        59.5       6.55    708          2  \n",
       "99     3320     18.900        68.2       4.98   1200          2  \n",
       "108    8460      3.560        58.6       3.60   5190          2  \n",
       "110   45500      0.848        80.7       1.79  50300          2  \n",
       "113    5150    104.000        60.5       5.84   2330          2  \n",
       "116    4280     10.900        65.3       3.85   1040          2  \n",
       "117   15400      2.590        77.8       2.62   8080          2  \n",
       "121   21800      1.660        76.3       1.41  12600          2  \n",
       "124   17800      3.530        73.7       1.59   8230          2  \n",
       "126    1350      2.610        64.6       4.51    563          2  \n",
       "131   20400     -4.210        73.4       2.17  10800          2  \n",
       "139   32500      0.160        81.9       1.37  30700          2  \n",
       "140    8560     22.800        74.4       2.20   2810          2  "
      ]
     },
     "execution_count": 832,
     "metadata": {},
     "output_type": "execute_result"
    }
   ],
   "source": [
    "countries_df_final[countries_df_final['ClusterID']==2]"
   ]
  },
  {
   "cell_type": "code",
   "execution_count": 844,
   "metadata": {},
   "outputs": [
    {
     "data": {
      "text/plain": [
       "<matplotlib.axes._subplots.AxesSubplot at 0x1a1471f9e8>"
      ]
     },
     "execution_count": 844,
     "metadata": {},
     "output_type": "execute_result"
    },
    {
     "data": {
      "image/png": "[encoded data removed]",
      "text/plain": [
       "<matplotlib.figure.Figure at 0x1a187cc208>"
      ]
     },
     "metadata": {},
     "output_type": "display_data"
    }
   ],
   "source": [
    "sns.barplot(x=cntry_truth.ClusterID, y=cntry_truth.cntry_child_mort)"
   ]
  },
  {
   "cell_type": "raw",
   "metadata": {},
   "source": [
    "INFO - Clearly ClusterId 2 has more Death of children under 5 years of age per 1000 live births"
   ]
  },
  {
   "cell_type": "code",
   "execution_count": 846,
   "metadata": {},
   "outputs": [
    {
     "data": {
      "text/plain": [
       "<matplotlib.axes._subplots.AxesSubplot at 0x1a18790128>"
      ]
     },
     "execution_count": 846,
     "metadata": {},
     "output_type": "execute_result"
    },
    {
     "data": {
      "image/png": "[encoded data removed]",
      "text/plain": [
       "<matplotlib.figure.Figure at 0x1a17eebfd0>"
      ]
     },
     "metadata": {},
     "output_type": "display_data"
    }
   ],
   "source": [
    "sns.barplot(x=cntry_truth.ClusterID, y=cntry_truth.cntry_exports)"
   ]
  },
  {
   "cell_type": "code",
   "execution_count": null,
   "metadata": {
    "collapsed": true
   },
   "outputs": [],
   "source": [
    "INFO - Clearly ClusterId 1 has more Exports of goods and services."
   ]
  },
  {
   "cell_type": "code",
   "execution_count": 848,
   "metadata": {},
   "outputs": [
    {
     "data": {
      "text/plain": [
       "<matplotlib.axes._subplots.AxesSubplot at 0x1a1760e3c8>"
      ]
     },
     "execution_count": 848,
     "metadata": {},
     "output_type": "execute_result"
    },
    {
     "data": {
      "image/png": "[encoded data removed]",
      "text/plain": [
       "<matplotlib.figure.Figure at 0x1a1381b2e8>"
      ]
     },
     "metadata": {},
     "output_type": "display_data"
    }
   ],
   "source": [
    "sns.barplot(x=cntry_truth.ClusterID, y=cntry_truth.cntry_health)"
   ]
  },
  {
   "cell_type": "raw",
   "metadata": {},
   "source": [
    "INFO - Clearly ClusterId 2 spent less on the Health"
   ]
  },
  {
   "cell_type": "code",
   "execution_count": 850,
   "metadata": {},
   "outputs": [
    {
     "data": {
      "text/plain": [
       "<matplotlib.axes._subplots.AxesSubplot at 0x1a190136a0>"
      ]
     },
     "execution_count": 850,
     "metadata": {},
     "output_type": "execute_result"
    },
    {
     "data": {
      "image/png": "[encoded data removed]",
      "text/plain": [
       "<matplotlib.figure.Figure at 0x1a17a06400>"
      ]
     },
     "metadata": {},
     "output_type": "display_data"
    }
   ],
   "source": [
    "sns.barplot(x=cntry_truth.ClusterID, y=cntry_truth.cntry_imports)"
   ]
  },
  {
   "cell_type": "raw",
   "metadata": {},
   "source": [
    "INFO - Clearly ClusterId 2 has less imports of goods and services"
   ]
  },
  {
   "cell_type": "code",
   "execution_count": 851,
   "metadata": {},
   "outputs": [
    {
     "data": {
      "text/plain": [
       "<matplotlib.axes._subplots.AxesSubplot at 0x1a120b9b70>"
      ]
     },
     "execution_count": 851,
     "metadata": {},
     "output_type": "execute_result"
    },
    {
     "data": {
      "image/png": "[encoded data removed]",
      "text/plain": [
       "<matplotlib.figure.Figure at 0x102618198>"
      ]
     },
     "metadata": {},
     "output_type": "display_data"
    }
   ],
   "source": [
    "sns.barplot(x=cntry_truth.ClusterID, y=cntry_truth.cntry_income)"
   ]
  },
  {
   "cell_type": "raw",
   "metadata": {},
   "source": [
    "INFO - Clearly ClusterId 2 has less net income per person"
   ]
  },
  {
   "cell_type": "code",
   "execution_count": 853,
   "metadata": {},
   "outputs": [
    {
     "data": {
      "text/plain": [
       "<matplotlib.axes._subplots.AxesSubplot at 0x1a120dd588>"
      ]
     },
     "execution_count": 853,
     "metadata": {},
     "output_type": "execute_result"
    },
    {
     "data": {
      "image/png": "[encoded data removed]",
      "text/plain": [
       "<matplotlib.figure.Figure at 0x1a19150080>"
      ]
     },
     "metadata": {},
     "output_type": "display_data"
    }
   ],
   "source": [
    "sns.barplot(x=cntry_truth.ClusterID, y=cntry_truth.cntry_inflation)"
   ]
  },
  {
   "cell_type": "raw",
   "metadata": {},
   "source": [
    "INFO - Clearly ClusterId 2 has more inflation"
   ]
  },
  {
   "cell_type": "code",
   "execution_count": 854,
   "metadata": {},
   "outputs": [
    {
     "data": {
      "text/plain": [
       "<matplotlib.axes._subplots.AxesSubplot at 0x1a1738ad30>"
      ]
     },
     "execution_count": 854,
     "metadata": {},
     "output_type": "execute_result"
    },
    {
     "data": {
      "image/png": "[encoded data removed]",
      "text/plain": [
       "<matplotlib.figure.Figure at 0x1a122b7588>"
      ]
     },
     "metadata": {},
     "output_type": "display_data"
    }
   ],
   "source": [
    "sns.barplot(x=cntry_truth.ClusterID, y=cntry_truth.cntry_life_expec)"
   ]
  },
  {
   "cell_type": "raw",
   "metadata": {},
   "source": [
    "INFO - Clearly ClusterId 2 has less  average number of years a new born child would live if the current mortality patterns are to remain the same"
   ]
  },
  {
   "cell_type": "code",
   "execution_count": 855,
   "metadata": {},
   "outputs": [
    {
     "data": {
      "text/plain": [
       "<matplotlib.axes._subplots.AxesSubplot at 0x1a18806da0>"
      ]
     },
     "execution_count": 855,
     "metadata": {},
     "output_type": "execute_result"
    },
    {
     "data": {
      "image/png": "[encoded data removed]",
      "text/plain": [
       "<matplotlib.figure.Figure at 0x1a187a1b70>"
      ]
     },
     "metadata": {},
     "output_type": "display_data"
    }
   ],
   "source": [
    "sns.barplot(x=cntry_truth.ClusterID, y=cntry_truth.cntry_total_fer)"
   ]
  },
  {
   "cell_type": "raw",
   "metadata": {},
   "source": [
    "INFO - Clearly ClusterId 2 has more total_ferility rate"
   ]
  },
  {
   "cell_type": "code",
   "execution_count": 856,
   "metadata": {},
   "outputs": [
    {
     "data": {
      "text/plain": [
       "<matplotlib.axes._subplots.AxesSubplot at 0x1a190918d0>"
      ]
     },
     "execution_count": 856,
     "metadata": {},
     "output_type": "execute_result"
    },
    {
     "data": {
      "image/png": "[encoded data removed]",
      "text/plain": [
       "<matplotlib.figure.Figure at 0x1a17d01160>"
      ]
     },
     "metadata": {},
     "output_type": "display_data"
    }
   ],
   "source": [
    "sns.barplot(x=cntry_truth.ClusterID, y=cntry_truth.cntry_gdpp)"
   ]
  },
  {
   "cell_type": "code",
   "execution_count": null,
   "metadata": {
    "collapsed": true
   },
   "outputs": [],
   "source": [
    "INFO - Clearly ClusterId 2 has less GDP per capita"
   ]
  },
  {
   "cell_type": "code",
   "execution_count": null,
   "metadata": {
    "collapsed": true
   },
   "outputs": [],
   "source": []
  },
  {
   "cell_type": "markdown",
   "metadata": {
    "collapsed": true
   },
   "source": [
    "#### Hierarchical Clusters"
   ]
  },
  {
   "cell_type": "code",
   "execution_count": 811,
   "metadata": {
    "collapsed": true
   },
   "outputs": [],
   "source": [
    "from scipy.cluster.hierarchy import linkage\n",
    "from scipy.cluster.hierarchy import dendrogram\n",
    "from scipy.cluster.hierarchy import cut_tree"
   ]
  },
  {
   "cell_type": "code",
   "execution_count": 812,
   "metadata": {},
   "outputs": [
    {
     "data": {
      "image/png": "[encoded data removed]",
      "text/plain": [
       "<matplotlib.figure.Figure at 0x1a16465eb8>"
      ]
     },
     "metadata": {},
     "output_type": "display_data"
    }
   ],
   "source": [
    "mergings = linkage(countries_kmean_df, method = \"complete\", metric='euclidean')\n",
    "dendrogram(mergings)\n",
    "plt.show()"
   ]
  },
  {
   "cell_type": "code",
   "execution_count": 822,
   "metadata": {},
   "outputs": [
    {
     "data": {
      "text/plain": [
       "(141,)"
      ]
     },
     "execution_count": 822,
     "metadata": {},
     "output_type": "execute_result"
    }
   ],
   "source": [
    "clusterCut = pd.Series(cut_tree(mergings, n_clusters = 3).reshape(-1,))\n",
    "clusterCut.shape"
   ]
  },
  {
   "cell_type": "code",
   "execution_count": 825,
   "metadata": {
    "collapsed": true
   },
   "outputs": [],
   "source": [
    "#Add the cluster Id to the df\n",
    "df_hc = pd.concat([countries_df, clusterCut.rename('ClusterID')], axis=1)"
   ]
  },
  {
   "cell_type": "code",
   "execution_count": 831,
   "metadata": {},
   "outputs": [
    {
     "data": {
      "text/html": [
       "<div>\n",
       "<style>\n",
       "    .dataframe thead tr:only-child th {\n",
       "        text-align: right;\n",
       "    }\n",
       "\n",
       "    .dataframe thead th {\n",
       "        text-align: left;\n",
       "    }\n",
       "\n",
       "    .dataframe tbody tr th {\n",
       "        vertical-align: top;\n",
       "    }\n",
       "</style>\n",
       "<table border=\"1\" class=\"dataframe\">\n",
       "  <thead>\n",
       "    <tr style=\"text-align: right;\">\n",
       "      <th></th>\n",
       "      <th>country</th>\n",
       "      <th>child_mort</th>\n",
       "      <th>exports</th>\n",
       "      <th>health</th>\n",
       "      <th>imports</th>\n",
       "      <th>income</th>\n",
       "      <th>inflation</th>\n",
       "      <th>life_expec</th>\n",
       "      <th>total_fer</th>\n",
       "      <th>gdpp</th>\n",
       "      <th>ClusterID</th>\n",
       "    </tr>\n",
       "  </thead>\n",
       "  <tbody>\n",
       "    <tr>\n",
       "      <th>0</th>\n",
       "      <td>Afghanistan</td>\n",
       "      <td>90.2</td>\n",
       "      <td>55.300</td>\n",
       "      <td>41.9174</td>\n",
       "      <td>248.297</td>\n",
       "      <td>1610</td>\n",
       "      <td>9.440</td>\n",
       "      <td>56.2</td>\n",
       "      <td>5.82</td>\n",
       "      <td>553</td>\n",
       "      <td>0.0</td>\n",
       "    </tr>\n",
       "    <tr>\n",
       "      <th>3</th>\n",
       "      <td>Angola</td>\n",
       "      <td>119.0</td>\n",
       "      <td>2199.190</td>\n",
       "      <td>100.6050</td>\n",
       "      <td>1514.370</td>\n",
       "      <td>5900</td>\n",
       "      <td>22.400</td>\n",
       "      <td>60.1</td>\n",
       "      <td>6.16</td>\n",
       "      <td>3530</td>\n",
       "      <td>0.0</td>\n",
       "    </tr>\n",
       "    <tr>\n",
       "      <th>15</th>\n",
       "      <td>Belgium</td>\n",
       "      <td>4.5</td>\n",
       "      <td>33921.600</td>\n",
       "      <td>4750.8000</td>\n",
       "      <td>33166.800</td>\n",
       "      <td>41100</td>\n",
       "      <td>1.880</td>\n",
       "      <td>80.0</td>\n",
       "      <td>1.86</td>\n",
       "      <td>44400</td>\n",
       "      <td>0.0</td>\n",
       "    </tr>\n",
       "    <tr>\n",
       "      <th>19</th>\n",
       "      <td>Bolivia</td>\n",
       "      <td>46.6</td>\n",
       "      <td>815.760</td>\n",
       "      <td>95.8320</td>\n",
       "      <td>679.140</td>\n",
       "      <td>5410</td>\n",
       "      <td>8.780</td>\n",
       "      <td>71.6</td>\n",
       "      <td>3.20</td>\n",
       "      <td>1980</td>\n",
       "      <td>0.0</td>\n",
       "    </tr>\n",
       "    <tr>\n",
       "      <th>22</th>\n",
       "      <td>Brazil</td>\n",
       "      <td>19.8</td>\n",
       "      <td>1198.400</td>\n",
       "      <td>1009.1200</td>\n",
       "      <td>1321.600</td>\n",
       "      <td>14500</td>\n",
       "      <td>8.410</td>\n",
       "      <td>74.2</td>\n",
       "      <td>1.80</td>\n",
       "      <td>11200</td>\n",
       "      <td>0.0</td>\n",
       "    </tr>\n",
       "    <tr>\n",
       "      <th>23</th>\n",
       "      <td>Brunei</td>\n",
       "      <td>10.5</td>\n",
       "      <td>23792.200</td>\n",
       "      <td>1002.5200</td>\n",
       "      <td>9884.000</td>\n",
       "      <td>80600</td>\n",
       "      <td>16.700</td>\n",
       "      <td>77.1</td>\n",
       "      <td>1.84</td>\n",
       "      <td>35300</td>\n",
       "      <td>0.0</td>\n",
       "    </tr>\n",
       "    <tr>\n",
       "      <th>25</th>\n",
       "      <td>Burkina Faso</td>\n",
       "      <td>116.0</td>\n",
       "      <td>110.400</td>\n",
       "      <td>38.7550</td>\n",
       "      <td>170.200</td>\n",
       "      <td>1430</td>\n",
       "      <td>6.810</td>\n",
       "      <td>57.9</td>\n",
       "      <td>5.87</td>\n",
       "      <td>575</td>\n",
       "      <td>0.0</td>\n",
       "    </tr>\n",
       "    <tr>\n",
       "      <th>27</th>\n",
       "      <td>Cambodia</td>\n",
       "      <td>44.4</td>\n",
       "      <td>425.226</td>\n",
       "      <td>44.6448</td>\n",
       "      <td>467.670</td>\n",
       "      <td>2520</td>\n",
       "      <td>3.120</td>\n",
       "      <td>66.1</td>\n",
       "      <td>2.88</td>\n",
       "      <td>786</td>\n",
       "      <td>0.0</td>\n",
       "    </tr>\n",
       "    <tr>\n",
       "      <th>31</th>\n",
       "      <td>Central African Republic</td>\n",
       "      <td>149.0</td>\n",
       "      <td>52.628</td>\n",
       "      <td>17.7508</td>\n",
       "      <td>118.190</td>\n",
       "      <td>888</td>\n",
       "      <td>2.010</td>\n",
       "      <td>47.5</td>\n",
       "      <td>5.21</td>\n",
       "      <td>446</td>\n",
       "      <td>0.0</td>\n",
       "    </tr>\n",
       "    <tr>\n",
       "      <th>32</th>\n",
       "      <td>Chad</td>\n",
       "      <td>150.0</td>\n",
       "      <td>330.096</td>\n",
       "      <td>40.6341</td>\n",
       "      <td>390.195</td>\n",
       "      <td>1930</td>\n",
       "      <td>6.390</td>\n",
       "      <td>56.5</td>\n",
       "      <td>6.59</td>\n",
       "      <td>897</td>\n",
       "      <td>0.0</td>\n",
       "    </tr>\n",
       "    <tr>\n",
       "      <th>33</th>\n",
       "      <td>Chile</td>\n",
       "      <td>8.7</td>\n",
       "      <td>4863.300</td>\n",
       "      <td>1026.8400</td>\n",
       "      <td>4037.700</td>\n",
       "      <td>19400</td>\n",
       "      <td>8.960</td>\n",
       "      <td>79.1</td>\n",
       "      <td>1.88</td>\n",
       "      <td>12900</td>\n",
       "      <td>0.0</td>\n",
       "    </tr>\n",
       "    <tr>\n",
       "      <th>35</th>\n",
       "      <td>Colombia</td>\n",
       "      <td>18.6</td>\n",
       "      <td>993.750</td>\n",
       "      <td>474.3750</td>\n",
       "      <td>1112.500</td>\n",
       "      <td>10900</td>\n",
       "      <td>3.860</td>\n",
       "      <td>76.4</td>\n",
       "      <td>2.01</td>\n",
       "      <td>6250</td>\n",
       "      <td>0.0</td>\n",
       "    </tr>\n",
       "    <tr>\n",
       "      <th>43</th>\n",
       "      <td>Czech Republic</td>\n",
       "      <td>3.4</td>\n",
       "      <td>13068.000</td>\n",
       "      <td>1560.2400</td>\n",
       "      <td>12454.200</td>\n",
       "      <td>28300</td>\n",
       "      <td>-1.430</td>\n",
       "      <td>77.5</td>\n",
       "      <td>1.51</td>\n",
       "      <td>19800</td>\n",
       "      <td>0.0</td>\n",
       "    </tr>\n",
       "    <tr>\n",
       "      <th>44</th>\n",
       "      <td>Denmark</td>\n",
       "      <td>4.1</td>\n",
       "      <td>29290.000</td>\n",
       "      <td>6612.0000</td>\n",
       "      <td>25288.000</td>\n",
       "      <td>44000</td>\n",
       "      <td>3.220</td>\n",
       "      <td>79.5</td>\n",
       "      <td>1.87</td>\n",
       "      <td>58000</td>\n",
       "      <td>0.0</td>\n",
       "    </tr>\n",
       "    <tr>\n",
       "      <th>48</th>\n",
       "      <td>El Salvador</td>\n",
       "      <td>19.2</td>\n",
       "      <td>804.310</td>\n",
       "      <td>206.6090</td>\n",
       "      <td>1393.340</td>\n",
       "      <td>7300</td>\n",
       "      <td>2.650</td>\n",
       "      <td>74.1</td>\n",
       "      <td>2.27</td>\n",
       "      <td>2990</td>\n",
       "      <td>0.0</td>\n",
       "    </tr>\n",
       "    <tr>\n",
       "      <th>49</th>\n",
       "      <td>Equatorial Guinea</td>\n",
       "      <td>111.0</td>\n",
       "      <td>14671.800</td>\n",
       "      <td>766.0800</td>\n",
       "      <td>10071.900</td>\n",
       "      <td>33700</td>\n",
       "      <td>24.900</td>\n",
       "      <td>60.9</td>\n",
       "      <td>5.21</td>\n",
       "      <td>17100</td>\n",
       "      <td>0.0</td>\n",
       "    </tr>\n",
       "    <tr>\n",
       "      <th>51</th>\n",
       "      <td>Estonia</td>\n",
       "      <td>4.5</td>\n",
       "      <td>10964.600</td>\n",
       "      <td>880.3800</td>\n",
       "      <td>10030.200</td>\n",
       "      <td>22700</td>\n",
       "      <td>1.740</td>\n",
       "      <td>76.0</td>\n",
       "      <td>1.72</td>\n",
       "      <td>14600</td>\n",
       "      <td>0.0</td>\n",
       "    </tr>\n",
       "    <tr>\n",
       "      <th>55</th>\n",
       "      <td>Gabon</td>\n",
       "      <td>63.7</td>\n",
       "      <td>5048.750</td>\n",
       "      <td>306.2500</td>\n",
       "      <td>1653.750</td>\n",
       "      <td>15400</td>\n",
       "      <td>16.600</td>\n",
       "      <td>62.9</td>\n",
       "      <td>4.08</td>\n",
       "      <td>8750</td>\n",
       "      <td>0.0</td>\n",
       "    </tr>\n",
       "    <tr>\n",
       "      <th>56</th>\n",
       "      <td>Gambia</td>\n",
       "      <td>80.3</td>\n",
       "      <td>133.756</td>\n",
       "      <td>31.9778</td>\n",
       "      <td>239.974</td>\n",
       "      <td>1660</td>\n",
       "      <td>4.300</td>\n",
       "      <td>65.5</td>\n",
       "      <td>5.71</td>\n",
       "      <td>562</td>\n",
       "      <td>0.0</td>\n",
       "    </tr>\n",
       "    <tr>\n",
       "      <th>63</th>\n",
       "      <td>Guinea</td>\n",
       "      <td>109.0</td>\n",
       "      <td>196.344</td>\n",
       "      <td>31.9464</td>\n",
       "      <td>279.936</td>\n",
       "      <td>1190</td>\n",
       "      <td>16.100</td>\n",
       "      <td>58.0</td>\n",
       "      <td>5.34</td>\n",
       "      <td>648</td>\n",
       "      <td>0.0</td>\n",
       "    </tr>\n",
       "    <tr>\n",
       "      <th>69</th>\n",
       "      <td>India</td>\n",
       "      <td>58.8</td>\n",
       "      <td>305.100</td>\n",
       "      <td>54.6750</td>\n",
       "      <td>365.850</td>\n",
       "      <td>4410</td>\n",
       "      <td>8.980</td>\n",
       "      <td>66.2</td>\n",
       "      <td>2.60</td>\n",
       "      <td>1350</td>\n",
       "      <td>0.0</td>\n",
       "    </tr>\n",
       "    <tr>\n",
       "      <th>70</th>\n",
       "      <td>Indonesia</td>\n",
       "      <td>33.3</td>\n",
       "      <td>755.730</td>\n",
       "      <td>81.1710</td>\n",
       "      <td>696.640</td>\n",
       "      <td>8430</td>\n",
       "      <td>15.300</td>\n",
       "      <td>69.9</td>\n",
       "      <td>2.48</td>\n",
       "      <td>3110</td>\n",
       "      <td>0.0</td>\n",
       "    </tr>\n",
       "    <tr>\n",
       "      <th>73</th>\n",
       "      <td>Ireland</td>\n",
       "      <td>4.2</td>\n",
       "      <td>50161.000</td>\n",
       "      <td>4475.5300</td>\n",
       "      <td>42125.500</td>\n",
       "      <td>45700</td>\n",
       "      <td>-3.220</td>\n",
       "      <td>80.4</td>\n",
       "      <td>2.05</td>\n",
       "      <td>48700</td>\n",
       "      <td>0.0</td>\n",
       "    </tr>\n",
       "    <tr>\n",
       "      <th>76</th>\n",
       "      <td>Jamaica</td>\n",
       "      <td>18.1</td>\n",
       "      <td>1464.840</td>\n",
       "      <td>225.1080</td>\n",
       "      <td>2321.280</td>\n",
       "      <td>8000</td>\n",
       "      <td>9.810</td>\n",
       "      <td>74.7</td>\n",
       "      <td>2.17</td>\n",
       "      <td>4680</td>\n",
       "      <td>0.0</td>\n",
       "    </tr>\n",
       "    <tr>\n",
       "      <th>77</th>\n",
       "      <td>Japan</td>\n",
       "      <td>3.2</td>\n",
       "      <td>6675.000</td>\n",
       "      <td>4223.0500</td>\n",
       "      <td>6052.000</td>\n",
       "      <td>35800</td>\n",
       "      <td>-1.900</td>\n",
       "      <td>82.8</td>\n",
       "      <td>1.39</td>\n",
       "      <td>44500</td>\n",
       "      <td>0.0</td>\n",
       "    </tr>\n",
       "    <tr>\n",
       "      <th>81</th>\n",
       "      <td>Kiribati</td>\n",
       "      <td>62.7</td>\n",
       "      <td>198.170</td>\n",
       "      <td>168.3700</td>\n",
       "      <td>1190.510</td>\n",
       "      <td>1730</td>\n",
       "      <td>1.520</td>\n",
       "      <td>60.7</td>\n",
       "      <td>3.84</td>\n",
       "      <td>1490</td>\n",
       "      <td>0.0</td>\n",
       "    </tr>\n",
       "    <tr>\n",
       "      <th>82</th>\n",
       "      <td>Kuwait</td>\n",
       "      <td>10.8</td>\n",
       "      <td>25679.500</td>\n",
       "      <td>1012.5500</td>\n",
       "      <td>11704.000</td>\n",
       "      <td>75200</td>\n",
       "      <td>11.200</td>\n",
       "      <td>78.2</td>\n",
       "      <td>2.21</td>\n",
       "      <td>38500</td>\n",
       "      <td>0.0</td>\n",
       "    </tr>\n",
       "    <tr>\n",
       "      <th>85</th>\n",
       "      <td>Latvia</td>\n",
       "      <td>7.8</td>\n",
       "      <td>6068.100</td>\n",
       "      <td>754.8400</td>\n",
       "      <td>6226.300</td>\n",
       "      <td>18300</td>\n",
       "      <td>-0.812</td>\n",
       "      <td>73.1</td>\n",
       "      <td>1.36</td>\n",
       "      <td>11300</td>\n",
       "      <td>0.0</td>\n",
       "    </tr>\n",
       "    <tr>\n",
       "      <th>86</th>\n",
       "      <td>Lebanon</td>\n",
       "      <td>10.3</td>\n",
       "      <td>3171.880</td>\n",
       "      <td>622.8580</td>\n",
       "      <td>5333.720</td>\n",
       "      <td>16300</td>\n",
       "      <td>0.238</td>\n",
       "      <td>79.8</td>\n",
       "      <td>1.61</td>\n",
       "      <td>8860</td>\n",
       "      <td>0.0</td>\n",
       "    </tr>\n",
       "    <tr>\n",
       "      <th>92</th>\n",
       "      <td>Macedonia, FYR</td>\n",
       "      <td>10.4</td>\n",
       "      <td>1806.920</td>\n",
       "      <td>321.8860</td>\n",
       "      <td>2637.740</td>\n",
       "      <td>11400</td>\n",
       "      <td>2.040</td>\n",
       "      <td>74.0</td>\n",
       "      <td>1.47</td>\n",
       "      <td>4540</td>\n",
       "      <td>0.0</td>\n",
       "    </tr>\n",
       "    <tr>\n",
       "      <th>94</th>\n",
       "      <td>Malawi</td>\n",
       "      <td>90.5</td>\n",
       "      <td>104.652</td>\n",
       "      <td>30.2481</td>\n",
       "      <td>160.191</td>\n",
       "      <td>1030</td>\n",
       "      <td>12.100</td>\n",
       "      <td>53.1</td>\n",
       "      <td>5.31</td>\n",
       "      <td>459</td>\n",
       "      <td>0.0</td>\n",
       "    </tr>\n",
       "    <tr>\n",
       "      <th>97</th>\n",
       "      <td>Mali</td>\n",
       "      <td>137.0</td>\n",
       "      <td>161.424</td>\n",
       "      <td>35.2584</td>\n",
       "      <td>248.508</td>\n",
       "      <td>1870</td>\n",
       "      <td>4.370</td>\n",
       "      <td>59.5</td>\n",
       "      <td>6.55</td>\n",
       "      <td>708</td>\n",
       "      <td>0.0</td>\n",
       "    </tr>\n",
       "    <tr>\n",
       "      <th>99</th>\n",
       "      <td>Mauritania</td>\n",
       "      <td>97.4</td>\n",
       "      <td>608.400</td>\n",
       "      <td>52.9200</td>\n",
       "      <td>734.400</td>\n",
       "      <td>3320</td>\n",
       "      <td>18.900</td>\n",
       "      <td>68.2</td>\n",
       "      <td>4.98</td>\n",
       "      <td>1200</td>\n",
       "      <td>0.0</td>\n",
       "    </tr>\n",
       "    <tr>\n",
       "      <th>108</th>\n",
       "      <td>Namibia</td>\n",
       "      <td>56.0</td>\n",
       "      <td>2480.820</td>\n",
       "      <td>351.8820</td>\n",
       "      <td>3150.330</td>\n",
       "      <td>8460</td>\n",
       "      <td>3.560</td>\n",
       "      <td>58.6</td>\n",
       "      <td>3.60</td>\n",
       "      <td>5190</td>\n",
       "      <td>0.0</td>\n",
       "    </tr>\n",
       "    <tr>\n",
       "      <th>110</th>\n",
       "      <td>Netherlands</td>\n",
       "      <td>4.5</td>\n",
       "      <td>36216.000</td>\n",
       "      <td>5985.7000</td>\n",
       "      <td>31990.800</td>\n",
       "      <td>45500</td>\n",
       "      <td>0.848</td>\n",
       "      <td>80.7</td>\n",
       "      <td>1.79</td>\n",
       "      <td>50300</td>\n",
       "      <td>0.0</td>\n",
       "    </tr>\n",
       "    <tr>\n",
       "      <th>113</th>\n",
       "      <td>Nigeria</td>\n",
       "      <td>130.0</td>\n",
       "      <td>589.490</td>\n",
       "      <td>118.1310</td>\n",
       "      <td>405.420</td>\n",
       "      <td>5150</td>\n",
       "      <td>104.000</td>\n",
       "      <td>60.5</td>\n",
       "      <td>5.84</td>\n",
       "      <td>2330</td>\n",
       "      <td>0.0</td>\n",
       "    </tr>\n",
       "    <tr>\n",
       "      <th>116</th>\n",
       "      <td>Pakistan</td>\n",
       "      <td>92.1</td>\n",
       "      <td>140.400</td>\n",
       "      <td>22.8800</td>\n",
       "      <td>201.760</td>\n",
       "      <td>4280</td>\n",
       "      <td>10.900</td>\n",
       "      <td>65.3</td>\n",
       "      <td>3.85</td>\n",
       "      <td>1040</td>\n",
       "      <td>0.0</td>\n",
       "    </tr>\n",
       "    <tr>\n",
       "      <th>117</th>\n",
       "      <td>Panama</td>\n",
       "      <td>19.7</td>\n",
       "      <td>5656.000</td>\n",
       "      <td>654.4800</td>\n",
       "      <td>6318.560</td>\n",
       "      <td>15400</td>\n",
       "      <td>2.590</td>\n",
       "      <td>77.8</td>\n",
       "      <td>2.62</td>\n",
       "      <td>8080</td>\n",
       "      <td>0.0</td>\n",
       "    </tr>\n",
       "    <tr>\n",
       "      <th>121</th>\n",
       "      <td>Poland</td>\n",
       "      <td>6.0</td>\n",
       "      <td>5052.600</td>\n",
       "      <td>939.9600</td>\n",
       "      <td>5304.600</td>\n",
       "      <td>21800</td>\n",
       "      <td>1.660</td>\n",
       "      <td>76.3</td>\n",
       "      <td>1.41</td>\n",
       "      <td>12600</td>\n",
       "      <td>0.0</td>\n",
       "    </tr>\n",
       "    <tr>\n",
       "      <th>124</th>\n",
       "      <td>Romania</td>\n",
       "      <td>11.5</td>\n",
       "      <td>2682.980</td>\n",
       "      <td>459.2340</td>\n",
       "      <td>3193.240</td>\n",
       "      <td>17800</td>\n",
       "      <td>3.530</td>\n",
       "      <td>73.7</td>\n",
       "      <td>1.59</td>\n",
       "      <td>8230</td>\n",
       "      <td>0.0</td>\n",
       "    </tr>\n",
       "    <tr>\n",
       "      <th>126</th>\n",
       "      <td>Rwanda</td>\n",
       "      <td>63.6</td>\n",
       "      <td>67.560</td>\n",
       "      <td>59.1150</td>\n",
       "      <td>168.900</td>\n",
       "      <td>1350</td>\n",
       "      <td>2.610</td>\n",
       "      <td>64.6</td>\n",
       "      <td>4.51</td>\n",
       "      <td>563</td>\n",
       "      <td>0.0</td>\n",
       "    </tr>\n",
       "    <tr>\n",
       "      <th>131</th>\n",
       "      <td>Seychelles</td>\n",
       "      <td>14.4</td>\n",
       "      <td>10130.400</td>\n",
       "      <td>367.2000</td>\n",
       "      <td>11664.000</td>\n",
       "      <td>20400</td>\n",
       "      <td>-4.210</td>\n",
       "      <td>73.4</td>\n",
       "      <td>2.17</td>\n",
       "      <td>10800</td>\n",
       "      <td>0.0</td>\n",
       "    </tr>\n",
       "    <tr>\n",
       "      <th>139</th>\n",
       "      <td>Spain</td>\n",
       "      <td>3.8</td>\n",
       "      <td>7828.500</td>\n",
       "      <td>2928.7800</td>\n",
       "      <td>8227.600</td>\n",
       "      <td>32500</td>\n",
       "      <td>0.160</td>\n",
       "      <td>81.9</td>\n",
       "      <td>1.37</td>\n",
       "      <td>30700</td>\n",
       "      <td>0.0</td>\n",
       "    </tr>\n",
       "    <tr>\n",
       "      <th>140</th>\n",
       "      <td>Sri Lanka</td>\n",
       "      <td>11.2</td>\n",
       "      <td>550.760</td>\n",
       "      <td>82.6140</td>\n",
       "      <td>753.080</td>\n",
       "      <td>8560</td>\n",
       "      <td>22.800</td>\n",
       "      <td>74.4</td>\n",
       "      <td>2.20</td>\n",
       "      <td>2810</td>\n",
       "      <td>0.0</td>\n",
       "    </tr>\n",
       "  </tbody>\n",
       "</table>\n",
       "</div>"
      ],
      "text/plain": [
       "                      country  child_mort    exports     health    imports  \\\n",
       "0                 Afghanistan        90.2     55.300    41.9174    248.297   \n",
       "3                      Angola       119.0   2199.190   100.6050   1514.370   \n",
       "15                    Belgium         4.5  33921.600  4750.8000  33166.800   \n",
       "19                    Bolivia        46.6    815.760    95.8320    679.140   \n",
       "22                     Brazil        19.8   1198.400  1009.1200   1321.600   \n",
       "23                     Brunei        10.5  23792.200  1002.5200   9884.000   \n",
       "25               Burkina Faso       116.0    110.400    38.7550    170.200   \n",
       "27                   Cambodia        44.4    425.226    44.6448    467.670   \n",
       "31   Central African Republic       149.0     52.628    17.7508    118.190   \n",
       "32                       Chad       150.0    330.096    40.6341    390.195   \n",
       "33                      Chile         8.7   4863.300  1026.8400   4037.700   \n",
       "35                   Colombia        18.6    993.750   474.3750   1112.500   \n",
       "43             Czech Republic         3.4  13068.000  1560.2400  12454.200   \n",
       "44                    Denmark         4.1  29290.000  6612.0000  25288.000   \n",
       "48                El Salvador        19.2    804.310   206.6090   1393.340   \n",
       "49          Equatorial Guinea       111.0  14671.800   766.0800  10071.900   \n",
       "51                    Estonia         4.5  10964.600   880.3800  10030.200   \n",
       "55                      Gabon        63.7   5048.750   306.2500   1653.750   \n",
       "56                     Gambia        80.3    133.756    31.9778    239.974   \n",
       "63                     Guinea       109.0    196.344    31.9464    279.936   \n",
       "69                      India        58.8    305.100    54.6750    365.850   \n",
       "70                  Indonesia        33.3    755.730    81.1710    696.640   \n",
       "73                    Ireland         4.2  50161.000  4475.5300  42125.500   \n",
       "76                    Jamaica        18.1   1464.840   225.1080   2321.280   \n",
       "77                      Japan         3.2   6675.000  4223.0500   6052.000   \n",
       "81                   Kiribati        62.7    198.170   168.3700   1190.510   \n",
       "82                     Kuwait        10.8  25679.500  1012.5500  11704.000   \n",
       "85                     Latvia         7.8   6068.100   754.8400   6226.300   \n",
       "86                    Lebanon        10.3   3171.880   622.8580   5333.720   \n",
       "92             Macedonia, FYR        10.4   1806.920   321.8860   2637.740   \n",
       "94                     Malawi        90.5    104.652    30.2481    160.191   \n",
       "97                       Mali       137.0    161.424    35.2584    248.508   \n",
       "99                 Mauritania        97.4    608.400    52.9200    734.400   \n",
       "108                   Namibia        56.0   2480.820   351.8820   3150.330   \n",
       "110               Netherlands         4.5  36216.000  5985.7000  31990.800   \n",
       "113                   Nigeria       130.0    589.490   118.1310    405.420   \n",
       "116                  Pakistan        92.1    140.400    22.8800    201.760   \n",
       "117                    Panama        19.7   5656.000   654.4800   6318.560   \n",
       "121                    Poland         6.0   5052.600   939.9600   5304.600   \n",
       "124                   Romania        11.5   2682.980   459.2340   3193.240   \n",
       "126                    Rwanda        63.6     67.560    59.1150    168.900   \n",
       "131                Seychelles        14.4  10130.400   367.2000  11664.000   \n",
       "139                     Spain         3.8   7828.500  2928.7800   8227.600   \n",
       "140                 Sri Lanka        11.2    550.760    82.6140    753.080   \n",
       "\n",
       "     income  inflation  life_expec  total_fer   gdpp  ClusterID  \n",
       "0      1610      9.440        56.2       5.82    553        0.0  \n",
       "3      5900     22.400        60.1       6.16   3530        0.0  \n",
       "15    41100      1.880        80.0       1.86  44400        0.0  \n",
       "19     5410      8.780        71.6       3.20   1980        0.0  \n",
       "22    14500      8.410        74.2       1.80  11200        0.0  \n",
       "23    80600     16.700        77.1       1.84  35300        0.0  \n",
       "25     1430      6.810        57.9       5.87    575        0.0  \n",
       "27     2520      3.120        66.1       2.88    786        0.0  \n",
       "31      888      2.010        47.5       5.21    446        0.0  \n",
       "32     1930      6.390        56.5       6.59    897        0.0  \n",
       "33    19400      8.960        79.1       1.88  12900        0.0  \n",
       "35    10900      3.860        76.4       2.01   6250        0.0  \n",
       "43    28300     -1.430        77.5       1.51  19800        0.0  \n",
       "44    44000      3.220        79.5       1.87  58000        0.0  \n",
       "48     7300      2.650        74.1       2.27   2990        0.0  \n",
       "49    33700     24.900        60.9       5.21  17100        0.0  \n",
       "51    22700      1.740        76.0       1.72  14600        0.0  \n",
       "55    15400     16.600        62.9       4.08   8750        0.0  \n",
       "56     1660      4.300        65.5       5.71    562        0.0  \n",
       "63     1190     16.100        58.0       5.34    648        0.0  \n",
       "69     4410      8.980        66.2       2.60   1350        0.0  \n",
       "70     8430     15.300        69.9       2.48   3110        0.0  \n",
       "73    45700     -3.220        80.4       2.05  48700        0.0  \n",
       "76     8000      9.810        74.7       2.17   4680        0.0  \n",
       "77    35800     -1.900        82.8       1.39  44500        0.0  \n",
       "81     1730      1.520        60.7       3.84   1490        0.0  \n",
       "82    75200     11.200        78.2       2.21  38500        0.0  \n",
       "85    18300     -0.812        73.1       1.36  11300        0.0  \n",
       "86    16300      0.238        79.8       1.61   8860        0.0  \n",
       "92    11400      2.040        74.0       1.47   4540        0.0  \n",
       "94     1030     12.100        53.1       5.31    459        0.0  \n",
       "97     1870      4.370        59.5       6.55    708        0.0  \n",
       "99     3320     18.900        68.2       4.98   1200        0.0  \n",
       "108    8460      3.560        58.6       3.60   5190        0.0  \n",
       "110   45500      0.848        80.7       1.79  50300        0.0  \n",
       "113    5150    104.000        60.5       5.84   2330        0.0  \n",
       "116    4280     10.900        65.3       3.85   1040        0.0  \n",
       "117   15400      2.590        77.8       2.62   8080        0.0  \n",
       "121   21800      1.660        76.3       1.41  12600        0.0  \n",
       "124   17800      3.530        73.7       1.59   8230        0.0  \n",
       "126    1350      2.610        64.6       4.51    563        0.0  \n",
       "131   20400     -4.210        73.4       2.17  10800        0.0  \n",
       "139   32500      0.160        81.9       1.37  30700        0.0  \n",
       "140    8560     22.800        74.4       2.20   2810        0.0  "
      ]
     },
     "execution_count": 831,
     "metadata": {},
     "output_type": "execute_result"
    }
   ],
   "source": [
    "df_hc[df_hc['ClusterID']==0]"
   ]
  },
  {
   "cell_type": "code",
   "execution_count": null,
   "metadata": {
    "collapsed": true
   },
   "outputs": [],
   "source": []
  }
 ],
 "metadata": {
  "kernelspec": {
   "display_name": "Python 3",
   "language": "python",
   "name": "python3"
  },
  "language_info": {
   "codemirror_mode": {
    "name": "ipython",
    "version": 3
   },
   "file_extension": ".py",
   "mimetype": "text/x-python",
   "name": "python",
   "nbconvert_exporter": "python",
   "pygments_lexer": "ipython3",
   "version": "3.6.8"
  }
 },
 "nbformat": 4,
 "nbformat_minor": 2
}
