{
 "cells": [
  {
   "cell_type": "markdown",
   "metadata": {
    "collapsed": true
   },
   "source": [
    "### GRAMENER CASE STUDY"
   ]
  },
  {
   "cell_type": "markdown",
   "metadata": {},
   "source": [
    "#### Problem Statement\n",
    "- The company wants to understand the driving factors (or driver variables) behind loan default, i.e. the variables which are strong indicators of default.  The company can utilise this knowledge for its portfolio and risk assessment. "
   ]
  },
  {
   "cell_type": "markdown",
   "metadata": {},
   "source": [
    "<dl>\n",
    "<dt>1.0 Understanding the Data</dt>\n",
    "<dt>2.0 Data Cleaning</dt>\n",
    "<dt>3.0 Data Analysis</dt>\n",
    "<dd>   3.1 Univariate Analysis</dd>\n",
    "<dd>   3.2 Bivariate Analysis </dd>\n",
    "</dl>\n"
   ]
  },
  {
   "cell_type": "code",
   "execution_count": 3,
   "metadata": {
    "collapsed": true
   },
   "outputs": [],
   "source": [
    "# Supress Warnings\n",
    "import warnings\n",
    "warnings.filterwarnings('ignore')"
   ]
  },
  {
   "cell_type": "code",
   "execution_count": 4,
   "metadata": {
    "collapsed": true
   },
   "outputs": [],
   "source": [
    "#import all the required libraries\n",
    "import numpy as np\n",
    "import pandas as pd\n",
    "import matplotlib.pyplot as plt\n",
    "import seaborn as sns\n",
    "import datetime as dt"
   ]
  },
  {
   "cell_type": "markdown",
   "metadata": {},
   "source": [
    "#### 1.0 Understanding the Data provided"
   ]
  },
  {
   "cell_type": "markdown",
   "metadata": {},
   "source": [
    "#####     1.1 Read the CSV file provided by consumer finance company for analysis"
   ]
  },
  {
   "cell_type": "code",
   "execution_count": 5,
   "metadata": {},
   "outputs": [
    {
     "data": {
      "text/html": [
       "<div>\n",
       "<style>\n",
       "    .dataframe thead tr:only-child th {\n",
       "        text-align: right;\n",
       "    }\n",
       "\n",
       "    .dataframe thead th {\n",
       "        text-align: left;\n",
       "    }\n",
       "\n",
       "    .dataframe tbody tr th {\n",
       "        vertical-align: top;\n",
       "    }\n",
       "</style>\n",
       "<table border=\"1\" class=\"dataframe\">\n",
       "  <thead>\n",
       "    <tr style=\"text-align: right;\">\n",
       "      <th></th>\n",
       "      <th>id</th>\n",
       "      <th>member_id</th>\n",
       "      <th>loan_amnt</th>\n",
       "      <th>funded_amnt</th>\n",
       "      <th>funded_amnt_inv</th>\n",
       "      <th>term</th>\n",
       "      <th>int_rate</th>\n",
       "      <th>installment</th>\n",
       "      <th>grade</th>\n",
       "      <th>sub_grade</th>\n",
       "      <th>...</th>\n",
       "      <th>num_tl_90g_dpd_24m</th>\n",
       "      <th>num_tl_op_past_12m</th>\n",
       "      <th>pct_tl_nvr_dlq</th>\n",
       "      <th>percent_bc_gt_75</th>\n",
       "      <th>pub_rec_bankruptcies</th>\n",
       "      <th>tax_liens</th>\n",
       "      <th>tot_hi_cred_lim</th>\n",
       "      <th>total_bal_ex_mort</th>\n",
       "      <th>total_bc_limit</th>\n",
       "      <th>total_il_high_credit_limit</th>\n",
       "    </tr>\n",
       "  </thead>\n",
       "  <tbody>\n",
       "    <tr>\n",
       "      <th>0</th>\n",
       "      <td>1077501</td>\n",
       "      <td>1296599</td>\n",
       "      <td>5000</td>\n",
       "      <td>5000</td>\n",
       "      <td>4975.0</td>\n",
       "      <td>36 months</td>\n",
       "      <td>10.65%</td>\n",
       "      <td>162.87</td>\n",
       "      <td>B</td>\n",
       "      <td>B2</td>\n",
       "      <td>...</td>\n",
       "      <td>NaN</td>\n",
       "      <td>NaN</td>\n",
       "      <td>NaN</td>\n",
       "      <td>NaN</td>\n",
       "      <td>0.0</td>\n",
       "      <td>0.0</td>\n",
       "      <td>NaN</td>\n",
       "      <td>NaN</td>\n",
       "      <td>NaN</td>\n",
       "      <td>NaN</td>\n",
       "    </tr>\n",
       "    <tr>\n",
       "      <th>1</th>\n",
       "      <td>1077430</td>\n",
       "      <td>1314167</td>\n",
       "      <td>2500</td>\n",
       "      <td>2500</td>\n",
       "      <td>2500.0</td>\n",
       "      <td>60 months</td>\n",
       "      <td>15.27%</td>\n",
       "      <td>59.83</td>\n",
       "      <td>C</td>\n",
       "      <td>C4</td>\n",
       "      <td>...</td>\n",
       "      <td>NaN</td>\n",
       "      <td>NaN</td>\n",
       "      <td>NaN</td>\n",
       "      <td>NaN</td>\n",
       "      <td>0.0</td>\n",
       "      <td>0.0</td>\n",
       "      <td>NaN</td>\n",
       "      <td>NaN</td>\n",
       "      <td>NaN</td>\n",
       "      <td>NaN</td>\n",
       "    </tr>\n",
       "    <tr>\n",
       "      <th>2</th>\n",
       "      <td>1077175</td>\n",
       "      <td>1313524</td>\n",
       "      <td>2400</td>\n",
       "      <td>2400</td>\n",
       "      <td>2400.0</td>\n",
       "      <td>36 months</td>\n",
       "      <td>15.96%</td>\n",
       "      <td>84.33</td>\n",
       "      <td>C</td>\n",
       "      <td>C5</td>\n",
       "      <td>...</td>\n",
       "      <td>NaN</td>\n",
       "      <td>NaN</td>\n",
       "      <td>NaN</td>\n",
       "      <td>NaN</td>\n",
       "      <td>0.0</td>\n",
       "      <td>0.0</td>\n",
       "      <td>NaN</td>\n",
       "      <td>NaN</td>\n",
       "      <td>NaN</td>\n",
       "      <td>NaN</td>\n",
       "    </tr>\n",
       "    <tr>\n",
       "      <th>3</th>\n",
       "      <td>1076863</td>\n",
       "      <td>1277178</td>\n",
       "      <td>10000</td>\n",
       "      <td>10000</td>\n",
       "      <td>10000.0</td>\n",
       "      <td>36 months</td>\n",
       "      <td>13.49%</td>\n",
       "      <td>339.31</td>\n",
       "      <td>C</td>\n",
       "      <td>C1</td>\n",
       "      <td>...</td>\n",
       "      <td>NaN</td>\n",
       "      <td>NaN</td>\n",
       "      <td>NaN</td>\n",
       "      <td>NaN</td>\n",
       "      <td>0.0</td>\n",
       "      <td>0.0</td>\n",
       "      <td>NaN</td>\n",
       "      <td>NaN</td>\n",
       "      <td>NaN</td>\n",
       "      <td>NaN</td>\n",
       "    </tr>\n",
       "    <tr>\n",
       "      <th>4</th>\n",
       "      <td>1075358</td>\n",
       "      <td>1311748</td>\n",
       "      <td>3000</td>\n",
       "      <td>3000</td>\n",
       "      <td>3000.0</td>\n",
       "      <td>60 months</td>\n",
       "      <td>12.69%</td>\n",
       "      <td>67.79</td>\n",
       "      <td>B</td>\n",
       "      <td>B5</td>\n",
       "      <td>...</td>\n",
       "      <td>NaN</td>\n",
       "      <td>NaN</td>\n",
       "      <td>NaN</td>\n",
       "      <td>NaN</td>\n",
       "      <td>0.0</td>\n",
       "      <td>0.0</td>\n",
       "      <td>NaN</td>\n",
       "      <td>NaN</td>\n",
       "      <td>NaN</td>\n",
       "      <td>NaN</td>\n",
       "    </tr>\n",
       "  </tbody>\n",
       "</table>\n",
       "<p>5 rows × 111 columns</p>\n",
       "</div>"
      ],
      "text/plain": [
       "        id  member_id  loan_amnt  funded_amnt  funded_amnt_inv        term  \\\n",
       "0  1077501    1296599       5000         5000           4975.0   36 months   \n",
       "1  1077430    1314167       2500         2500           2500.0   60 months   \n",
       "2  1077175    1313524       2400         2400           2400.0   36 months   \n",
       "3  1076863    1277178      10000        10000          10000.0   36 months   \n",
       "4  1075358    1311748       3000         3000           3000.0   60 months   \n",
       "\n",
       "  int_rate  installment grade sub_grade            ...              \\\n",
       "0   10.65%       162.87     B        B2            ...               \n",
       "1   15.27%        59.83     C        C4            ...               \n",
       "2   15.96%        84.33     C        C5            ...               \n",
       "3   13.49%       339.31     C        C1            ...               \n",
       "4   12.69%        67.79     B        B5            ...               \n",
       "\n",
       "  num_tl_90g_dpd_24m num_tl_op_past_12m pct_tl_nvr_dlq  percent_bc_gt_75  \\\n",
       "0                NaN                NaN            NaN               NaN   \n",
       "1                NaN                NaN            NaN               NaN   \n",
       "2                NaN                NaN            NaN               NaN   \n",
       "3                NaN                NaN            NaN               NaN   \n",
       "4                NaN                NaN            NaN               NaN   \n",
       "\n",
       "  pub_rec_bankruptcies tax_liens tot_hi_cred_lim total_bal_ex_mort  \\\n",
       "0                  0.0       0.0             NaN               NaN   \n",
       "1                  0.0       0.0             NaN               NaN   \n",
       "2                  0.0       0.0             NaN               NaN   \n",
       "3                  0.0       0.0             NaN               NaN   \n",
       "4                  0.0       0.0             NaN               NaN   \n",
       "\n",
       "  total_bc_limit total_il_high_credit_limit  \n",
       "0            NaN                        NaN  \n",
       "1            NaN                        NaN  \n",
       "2            NaN                        NaN  \n",
       "3            NaN                        NaN  \n",
       "4            NaN                        NaN  \n",
       "\n",
       "[5 rows x 111 columns]"
      ]
     },
     "execution_count": 5,
     "metadata": {},
     "output_type": "execute_result"
    }
   ],
   "source": [
    "loan_df = pd.read_csv('loan.csv')\n",
    "\n",
    "#review the dataframe\n",
    "loan_df.head()"
   ]
  },
  {
   "cell_type": "markdown",
   "metadata": {},
   "source": [
    "##### 1.2 Understand Meta Data\n",
    "- Total number of records in loan_df is 39717\n",
    "- Total number of Columns in loan_df is 111"
   ]
  },
  {
   "cell_type": "code",
   "execution_count": 6,
   "metadata": {},
   "outputs": [
    {
     "name": "stdout",
     "output_type": "stream",
     "text": [
      "<class 'pandas.core.frame.DataFrame'>\n",
      "RangeIndex: 39717 entries, 0 to 39716\n",
      "Columns: 111 entries, id to total_il_high_credit_limit\n",
      "dtypes: float64(74), int64(13), object(24)\n",
      "memory usage: 33.6+ MB\n"
     ]
    }
   ],
   "source": [
    "loan_df.info()"
   ]
  },
  {
   "cell_type": "code",
   "execution_count": 7,
   "metadata": {},
   "outputs": [
    {
     "data": {
      "text/plain": [
       "Index(['id', 'member_id', 'loan_amnt', 'funded_amnt', 'funded_amnt_inv',\n",
       "       'term', 'int_rate', 'installment', 'grade', 'sub_grade',\n",
       "       ...\n",
       "       'num_tl_90g_dpd_24m', 'num_tl_op_past_12m', 'pct_tl_nvr_dlq',\n",
       "       'percent_bc_gt_75', 'pub_rec_bankruptcies', 'tax_liens',\n",
       "       'tot_hi_cred_lim', 'total_bal_ex_mort', 'total_bc_limit',\n",
       "       'total_il_high_credit_limit'],\n",
       "      dtype='object', length=111)"
      ]
     },
     "execution_count": 7,
     "metadata": {},
     "output_type": "execute_result"
    }
   ],
   "source": [
    "#check the columns in the loan dataframe\n",
    "loan_df.columns"
   ]
  },
  {
   "cell_type": "code",
   "execution_count": 8,
   "metadata": {},
   "outputs": [
    {
     "data": {
      "text/plain": [
       "(39717, 111)"
      ]
     },
     "execution_count": 8,
     "metadata": {},
     "output_type": "execute_result"
    }
   ],
   "source": [
    "#check the shape of the loan dataframe\n",
    "loan_df.shape"
   ]
  },
  {
   "cell_type": "code",
   "execution_count": 9,
   "metadata": {},
   "outputs": [
    {
     "data": {
      "text/html": [
       "<div>\n",
       "<style>\n",
       "    .dataframe thead tr:only-child th {\n",
       "        text-align: right;\n",
       "    }\n",
       "\n",
       "    .dataframe thead th {\n",
       "        text-align: left;\n",
       "    }\n",
       "\n",
       "    .dataframe tbody tr th {\n",
       "        vertical-align: top;\n",
       "    }\n",
       "</style>\n",
       "<table border=\"1\" class=\"dataframe\">\n",
       "  <thead>\n",
       "    <tr style=\"text-align: right;\">\n",
       "      <th></th>\n",
       "      <th>id</th>\n",
       "      <th>member_id</th>\n",
       "      <th>loan_amnt</th>\n",
       "      <th>funded_amnt</th>\n",
       "      <th>funded_amnt_inv</th>\n",
       "      <th>installment</th>\n",
       "      <th>annual_inc</th>\n",
       "      <th>dti</th>\n",
       "      <th>delinq_2yrs</th>\n",
       "      <th>inq_last_6mths</th>\n",
       "      <th>...</th>\n",
       "      <th>num_tl_90g_dpd_24m</th>\n",
       "      <th>num_tl_op_past_12m</th>\n",
       "      <th>pct_tl_nvr_dlq</th>\n",
       "      <th>percent_bc_gt_75</th>\n",
       "      <th>pub_rec_bankruptcies</th>\n",
       "      <th>tax_liens</th>\n",
       "      <th>tot_hi_cred_lim</th>\n",
       "      <th>total_bal_ex_mort</th>\n",
       "      <th>total_bc_limit</th>\n",
       "      <th>total_il_high_credit_limit</th>\n",
       "    </tr>\n",
       "  </thead>\n",
       "  <tbody>\n",
       "    <tr>\n",
       "      <th>count</th>\n",
       "      <td>3.971700e+04</td>\n",
       "      <td>3.971700e+04</td>\n",
       "      <td>39717.000000</td>\n",
       "      <td>39717.000000</td>\n",
       "      <td>39717.000000</td>\n",
       "      <td>39717.000000</td>\n",
       "      <td>3.971700e+04</td>\n",
       "      <td>39717.000000</td>\n",
       "      <td>39717.000000</td>\n",
       "      <td>39717.000000</td>\n",
       "      <td>...</td>\n",
       "      <td>0.0</td>\n",
       "      <td>0.0</td>\n",
       "      <td>0.0</td>\n",
       "      <td>0.0</td>\n",
       "      <td>39020.000000</td>\n",
       "      <td>39678.0</td>\n",
       "      <td>0.0</td>\n",
       "      <td>0.0</td>\n",
       "      <td>0.0</td>\n",
       "      <td>0.0</td>\n",
       "    </tr>\n",
       "    <tr>\n",
       "      <th>mean</th>\n",
       "      <td>6.831319e+05</td>\n",
       "      <td>8.504636e+05</td>\n",
       "      <td>11219.443815</td>\n",
       "      <td>10947.713196</td>\n",
       "      <td>10397.448868</td>\n",
       "      <td>324.561922</td>\n",
       "      <td>6.896893e+04</td>\n",
       "      <td>13.315130</td>\n",
       "      <td>0.146512</td>\n",
       "      <td>0.869200</td>\n",
       "      <td>...</td>\n",
       "      <td>NaN</td>\n",
       "      <td>NaN</td>\n",
       "      <td>NaN</td>\n",
       "      <td>NaN</td>\n",
       "      <td>0.043260</td>\n",
       "      <td>0.0</td>\n",
       "      <td>NaN</td>\n",
       "      <td>NaN</td>\n",
       "      <td>NaN</td>\n",
       "      <td>NaN</td>\n",
       "    </tr>\n",
       "    <tr>\n",
       "      <th>std</th>\n",
       "      <td>2.106941e+05</td>\n",
       "      <td>2.656783e+05</td>\n",
       "      <td>7456.670694</td>\n",
       "      <td>7187.238670</td>\n",
       "      <td>7128.450439</td>\n",
       "      <td>208.874874</td>\n",
       "      <td>6.379377e+04</td>\n",
       "      <td>6.678594</td>\n",
       "      <td>0.491812</td>\n",
       "      <td>1.070219</td>\n",
       "      <td>...</td>\n",
       "      <td>NaN</td>\n",
       "      <td>NaN</td>\n",
       "      <td>NaN</td>\n",
       "      <td>NaN</td>\n",
       "      <td>0.204324</td>\n",
       "      <td>0.0</td>\n",
       "      <td>NaN</td>\n",
       "      <td>NaN</td>\n",
       "      <td>NaN</td>\n",
       "      <td>NaN</td>\n",
       "    </tr>\n",
       "    <tr>\n",
       "      <th>min</th>\n",
       "      <td>5.473400e+04</td>\n",
       "      <td>7.069900e+04</td>\n",
       "      <td>500.000000</td>\n",
       "      <td>500.000000</td>\n",
       "      <td>0.000000</td>\n",
       "      <td>15.690000</td>\n",
       "      <td>4.000000e+03</td>\n",
       "      <td>0.000000</td>\n",
       "      <td>0.000000</td>\n",
       "      <td>0.000000</td>\n",
       "      <td>...</td>\n",
       "      <td>NaN</td>\n",
       "      <td>NaN</td>\n",
       "      <td>NaN</td>\n",
       "      <td>NaN</td>\n",
       "      <td>0.000000</td>\n",
       "      <td>0.0</td>\n",
       "      <td>NaN</td>\n",
       "      <td>NaN</td>\n",
       "      <td>NaN</td>\n",
       "      <td>NaN</td>\n",
       "    </tr>\n",
       "    <tr>\n",
       "      <th>25%</th>\n",
       "      <td>5.162210e+05</td>\n",
       "      <td>6.667800e+05</td>\n",
       "      <td>5500.000000</td>\n",
       "      <td>5400.000000</td>\n",
       "      <td>5000.000000</td>\n",
       "      <td>167.020000</td>\n",
       "      <td>4.040400e+04</td>\n",
       "      <td>8.170000</td>\n",
       "      <td>0.000000</td>\n",
       "      <td>0.000000</td>\n",
       "      <td>...</td>\n",
       "      <td>NaN</td>\n",
       "      <td>NaN</td>\n",
       "      <td>NaN</td>\n",
       "      <td>NaN</td>\n",
       "      <td>0.000000</td>\n",
       "      <td>0.0</td>\n",
       "      <td>NaN</td>\n",
       "      <td>NaN</td>\n",
       "      <td>NaN</td>\n",
       "      <td>NaN</td>\n",
       "    </tr>\n",
       "    <tr>\n",
       "      <th>50%</th>\n",
       "      <td>6.656650e+05</td>\n",
       "      <td>8.508120e+05</td>\n",
       "      <td>10000.000000</td>\n",
       "      <td>9600.000000</td>\n",
       "      <td>8975.000000</td>\n",
       "      <td>280.220000</td>\n",
       "      <td>5.900000e+04</td>\n",
       "      <td>13.400000</td>\n",
       "      <td>0.000000</td>\n",
       "      <td>1.000000</td>\n",
       "      <td>...</td>\n",
       "      <td>NaN</td>\n",
       "      <td>NaN</td>\n",
       "      <td>NaN</td>\n",
       "      <td>NaN</td>\n",
       "      <td>0.000000</td>\n",
       "      <td>0.0</td>\n",
       "      <td>NaN</td>\n",
       "      <td>NaN</td>\n",
       "      <td>NaN</td>\n",
       "      <td>NaN</td>\n",
       "    </tr>\n",
       "    <tr>\n",
       "      <th>75%</th>\n",
       "      <td>8.377550e+05</td>\n",
       "      <td>1.047339e+06</td>\n",
       "      <td>15000.000000</td>\n",
       "      <td>15000.000000</td>\n",
       "      <td>14400.000000</td>\n",
       "      <td>430.780000</td>\n",
       "      <td>8.230000e+04</td>\n",
       "      <td>18.600000</td>\n",
       "      <td>0.000000</td>\n",
       "      <td>1.000000</td>\n",
       "      <td>...</td>\n",
       "      <td>NaN</td>\n",
       "      <td>NaN</td>\n",
       "      <td>NaN</td>\n",
       "      <td>NaN</td>\n",
       "      <td>0.000000</td>\n",
       "      <td>0.0</td>\n",
       "      <td>NaN</td>\n",
       "      <td>NaN</td>\n",
       "      <td>NaN</td>\n",
       "      <td>NaN</td>\n",
       "    </tr>\n",
       "    <tr>\n",
       "      <th>max</th>\n",
       "      <td>1.077501e+06</td>\n",
       "      <td>1.314167e+06</td>\n",
       "      <td>35000.000000</td>\n",
       "      <td>35000.000000</td>\n",
       "      <td>35000.000000</td>\n",
       "      <td>1305.190000</td>\n",
       "      <td>6.000000e+06</td>\n",
       "      <td>29.990000</td>\n",
       "      <td>11.000000</td>\n",
       "      <td>8.000000</td>\n",
       "      <td>...</td>\n",
       "      <td>NaN</td>\n",
       "      <td>NaN</td>\n",
       "      <td>NaN</td>\n",
       "      <td>NaN</td>\n",
       "      <td>2.000000</td>\n",
       "      <td>0.0</td>\n",
       "      <td>NaN</td>\n",
       "      <td>NaN</td>\n",
       "      <td>NaN</td>\n",
       "      <td>NaN</td>\n",
       "    </tr>\n",
       "  </tbody>\n",
       "</table>\n",
       "<p>8 rows × 87 columns</p>\n",
       "</div>"
      ],
      "text/plain": [
       "                 id     member_id     loan_amnt   funded_amnt  \\\n",
       "count  3.971700e+04  3.971700e+04  39717.000000  39717.000000   \n",
       "mean   6.831319e+05  8.504636e+05  11219.443815  10947.713196   \n",
       "std    2.106941e+05  2.656783e+05   7456.670694   7187.238670   \n",
       "min    5.473400e+04  7.069900e+04    500.000000    500.000000   \n",
       "25%    5.162210e+05  6.667800e+05   5500.000000   5400.000000   \n",
       "50%    6.656650e+05  8.508120e+05  10000.000000   9600.000000   \n",
       "75%    8.377550e+05  1.047339e+06  15000.000000  15000.000000   \n",
       "max    1.077501e+06  1.314167e+06  35000.000000  35000.000000   \n",
       "\n",
       "       funded_amnt_inv   installment    annual_inc           dti  \\\n",
       "count     39717.000000  39717.000000  3.971700e+04  39717.000000   \n",
       "mean      10397.448868    324.561922  6.896893e+04     13.315130   \n",
       "std        7128.450439    208.874874  6.379377e+04      6.678594   \n",
       "min           0.000000     15.690000  4.000000e+03      0.000000   \n",
       "25%        5000.000000    167.020000  4.040400e+04      8.170000   \n",
       "50%        8975.000000    280.220000  5.900000e+04     13.400000   \n",
       "75%       14400.000000    430.780000  8.230000e+04     18.600000   \n",
       "max       35000.000000   1305.190000  6.000000e+06     29.990000   \n",
       "\n",
       "        delinq_2yrs  inq_last_6mths             ...              \\\n",
       "count  39717.000000    39717.000000             ...               \n",
       "mean       0.146512        0.869200             ...               \n",
       "std        0.491812        1.070219             ...               \n",
       "min        0.000000        0.000000             ...               \n",
       "25%        0.000000        0.000000             ...               \n",
       "50%        0.000000        1.000000             ...               \n",
       "75%        0.000000        1.000000             ...               \n",
       "max       11.000000        8.000000             ...               \n",
       "\n",
       "       num_tl_90g_dpd_24m  num_tl_op_past_12m  pct_tl_nvr_dlq  \\\n",
       "count                 0.0                 0.0             0.0   \n",
       "mean                  NaN                 NaN             NaN   \n",
       "std                   NaN                 NaN             NaN   \n",
       "min                   NaN                 NaN             NaN   \n",
       "25%                   NaN                 NaN             NaN   \n",
       "50%                   NaN                 NaN             NaN   \n",
       "75%                   NaN                 NaN             NaN   \n",
       "max                   NaN                 NaN             NaN   \n",
       "\n",
       "       percent_bc_gt_75  pub_rec_bankruptcies  tax_liens  tot_hi_cred_lim  \\\n",
       "count               0.0          39020.000000    39678.0              0.0   \n",
       "mean                NaN              0.043260        0.0              NaN   \n",
       "std                 NaN              0.204324        0.0              NaN   \n",
       "min                 NaN              0.000000        0.0              NaN   \n",
       "25%                 NaN              0.000000        0.0              NaN   \n",
       "50%                 NaN              0.000000        0.0              NaN   \n",
       "75%                 NaN              0.000000        0.0              NaN   \n",
       "max                 NaN              2.000000        0.0              NaN   \n",
       "\n",
       "       total_bal_ex_mort  total_bc_limit  total_il_high_credit_limit  \n",
       "count                0.0             0.0                         0.0  \n",
       "mean                 NaN             NaN                         NaN  \n",
       "std                  NaN             NaN                         NaN  \n",
       "min                  NaN             NaN                         NaN  \n",
       "25%                  NaN             NaN                         NaN  \n",
       "50%                  NaN             NaN                         NaN  \n",
       "75%                  NaN             NaN                         NaN  \n",
       "max                  NaN             NaN                         NaN  \n",
       "\n",
       "[8 rows x 87 columns]"
      ]
     },
     "execution_count": 9,
     "metadata": {},
     "output_type": "execute_result"
    }
   ],
   "source": [
    "# describe the loan dataframe\n",
    "loan_df.describe()"
   ]
  },
  {
   "cell_type": "markdown",
   "metadata": {},
   "source": [
    "#### 2.0 Data Cleaning"
   ]
  },
  {
   "cell_type": "markdown",
   "metadata": {},
   "source": [
    "##### 2.1 Remove all the null's and NA column from the Dataframe\n",
    "- Fetch all the column stats on null values\n",
    "- Drop all the columns which has all the null or NA values ,as this will not help us in the analysis\n",
    "- Drop the columns where majority of data is null say 90%\n",
    "- Drop the columns which has no significance in the analysis "
   ]
  },
  {
   "cell_type": "code",
   "execution_count": 10,
   "metadata": {},
   "outputs": [
    {
     "data": {
      "text/plain": [
       "id                                    0\n",
       "member_id                             0\n",
       "loan_amnt                             0\n",
       "funded_amnt                           0\n",
       "funded_amnt_inv                       0\n",
       "term                                  0\n",
       "int_rate                              0\n",
       "installment                           0\n",
       "grade                                 0\n",
       "sub_grade                             0\n",
       "emp_title                          2458\n",
       "emp_length                            0\n",
       "home_ownership                        0\n",
       "annual_inc                            0\n",
       "verification_status                   0\n",
       "issue_d                               0\n",
       "loan_status                           0\n",
       "pymnt_plan                            0\n",
       "url                                   0\n",
       "desc                              12939\n",
       "purpose                               0\n",
       "title                                10\n",
       "zip_code                              0\n",
       "addr_state                            0\n",
       "dti                                   0\n",
       "delinq_2yrs                           0\n",
       "earliest_cr_line                      0\n",
       "inq_last_6mths                        0\n",
       "mths_since_last_delinq            25682\n",
       "mths_since_last_record            36931\n",
       "                                  ...  \n",
       "mo_sin_old_rev_tl_op              39717\n",
       "mo_sin_rcnt_rev_tl_op             39717\n",
       "mo_sin_rcnt_tl                    39717\n",
       "mort_acc                          39717\n",
       "mths_since_recent_bc              39717\n",
       "mths_since_recent_bc_dlq          39717\n",
       "mths_since_recent_inq             39717\n",
       "mths_since_recent_revol_delinq    39717\n",
       "num_accts_ever_120_pd             39717\n",
       "num_actv_bc_tl                    39717\n",
       "num_actv_rev_tl                   39717\n",
       "num_bc_sats                       39717\n",
       "num_bc_tl                         39717\n",
       "num_il_tl                         39717\n",
       "num_op_rev_tl                     39717\n",
       "num_rev_accts                     39717\n",
       "num_rev_tl_bal_gt_0               39717\n",
       "num_sats                          39717\n",
       "num_tl_120dpd_2m                  39717\n",
       "num_tl_30dpd                      39717\n",
       "num_tl_90g_dpd_24m                39717\n",
       "num_tl_op_past_12m                39717\n",
       "pct_tl_nvr_dlq                    39717\n",
       "percent_bc_gt_75                  39717\n",
       "pub_rec_bankruptcies                697\n",
       "tax_liens                            39\n",
       "tot_hi_cred_lim                   39717\n",
       "total_bal_ex_mort                 39717\n",
       "total_bc_limit                    39717\n",
       "total_il_high_credit_limit        39717\n",
       "Length: 111, dtype: int64"
      ]
     },
     "execution_count": 10,
     "metadata": {},
     "output_type": "execute_result"
    }
   ],
   "source": [
    "#Fetch all the column stats on null values\n",
    "loan_df.isnull().sum()"
   ]
  },
  {
   "cell_type": "code",
   "execution_count": 11,
   "metadata": {
    "collapsed": true
   },
   "outputs": [],
   "source": [
    "#Drop all the columns which has all the null or NA values ,as this will not help us in the analysis\n",
    "loan_df.dropna(axis='columns',how='all',inplace=True)"
   ]
  },
  {
   "cell_type": "code",
   "execution_count": 12,
   "metadata": {},
   "outputs": [
    {
     "data": {
      "text/plain": [
       "id                                0\n",
       "member_id                         0\n",
       "loan_amnt                         0\n",
       "funded_amnt                       0\n",
       "funded_amnt_inv                   0\n",
       "term                              0\n",
       "int_rate                          0\n",
       "installment                       0\n",
       "grade                             0\n",
       "sub_grade                         0\n",
       "emp_title                      2458\n",
       "emp_length                        0\n",
       "home_ownership                    0\n",
       "annual_inc                        0\n",
       "verification_status               0\n",
       "issue_d                           0\n",
       "loan_status                       0\n",
       "pymnt_plan                        0\n",
       "url                               0\n",
       "desc                          12939\n",
       "purpose                           0\n",
       "title                            10\n",
       "zip_code                          0\n",
       "addr_state                        0\n",
       "dti                               0\n",
       "delinq_2yrs                       0\n",
       "earliest_cr_line                  0\n",
       "inq_last_6mths                    0\n",
       "mths_since_last_delinq        25682\n",
       "mths_since_last_record        36931\n",
       "open_acc                          0\n",
       "pub_rec                           0\n",
       "revol_bal                         0\n",
       "revol_util                       50\n",
       "total_acc                         0\n",
       "initial_list_status               0\n",
       "out_prncp                         0\n",
       "out_prncp_inv                     0\n",
       "total_pymnt                       0\n",
       "total_pymnt_inv                   0\n",
       "total_rec_prncp                   0\n",
       "total_rec_int                     0\n",
       "total_rec_late_fee                0\n",
       "recoveries                        0\n",
       "collection_recovery_fee           0\n",
       "last_pymnt_d                     71\n",
       "last_pymnt_amnt                   0\n",
       "next_pymnt_d                  38577\n",
       "last_credit_pull_d                2\n",
       "collections_12_mths_ex_med       56\n",
       "policy_code                       0\n",
       "application_type                  0\n",
       "acc_now_delinq                    0\n",
       "chargeoff_within_12_mths         56\n",
       "delinq_amnt                       0\n",
       "pub_rec_bankruptcies            697\n",
       "tax_liens                        39\n",
       "dtype: int64"
      ]
     },
     "execution_count": 12,
     "metadata": {},
     "output_type": "execute_result"
    }
   ],
   "source": [
    "#analyse the dataframe ,whether the column actually dropped or not\n",
    "loan_df.isnull().sum()"
   ]
  },
  {
   "cell_type": "code",
   "execution_count": 13,
   "metadata": {},
   "outputs": [
    {
     "data": {
      "text/plain": [
       "(39717, 57)"
      ]
     },
     "execution_count": 13,
     "metadata": {},
     "output_type": "execute_result"
    }
   ],
   "source": [
    "# 54 columns are dropped out of 111 \n",
    "loan_df.shape"
   ]
  },
  {
   "cell_type": "code",
   "execution_count": 14,
   "metadata": {},
   "outputs": [
    {
     "data": {
      "text/plain": [
       "id                             0.0\n",
       "member_id                      0.0\n",
       "loan_amnt                      0.0\n",
       "funded_amnt                    0.0\n",
       "funded_amnt_inv                0.0\n",
       "term                           0.0\n",
       "int_rate                       0.0\n",
       "installment                    0.0\n",
       "grade                          0.0\n",
       "sub_grade                      0.0\n",
       "emp_title                      6.0\n",
       "emp_length                     0.0\n",
       "home_ownership                 0.0\n",
       "annual_inc                     0.0\n",
       "verification_status            0.0\n",
       "issue_d                        0.0\n",
       "loan_status                    0.0\n",
       "pymnt_plan                     0.0\n",
       "url                            0.0\n",
       "desc                          33.0\n",
       "purpose                        0.0\n",
       "title                          0.0\n",
       "zip_code                       0.0\n",
       "addr_state                     0.0\n",
       "dti                            0.0\n",
       "delinq_2yrs                    0.0\n",
       "earliest_cr_line               0.0\n",
       "inq_last_6mths                 0.0\n",
       "mths_since_last_delinq        65.0\n",
       "mths_since_last_record        93.0\n",
       "open_acc                       0.0\n",
       "pub_rec                        0.0\n",
       "revol_bal                      0.0\n",
       "revol_util                     0.0\n",
       "total_acc                      0.0\n",
       "initial_list_status            0.0\n",
       "out_prncp                      0.0\n",
       "out_prncp_inv                  0.0\n",
       "total_pymnt                    0.0\n",
       "total_pymnt_inv                0.0\n",
       "total_rec_prncp                0.0\n",
       "total_rec_int                  0.0\n",
       "total_rec_late_fee             0.0\n",
       "recoveries                     0.0\n",
       "collection_recovery_fee        0.0\n",
       "last_pymnt_d                   0.0\n",
       "last_pymnt_amnt                0.0\n",
       "next_pymnt_d                  97.0\n",
       "last_credit_pull_d             0.0\n",
       "collections_12_mths_ex_med     0.0\n",
       "policy_code                    0.0\n",
       "application_type               0.0\n",
       "acc_now_delinq                 0.0\n",
       "chargeoff_within_12_mths       0.0\n",
       "delinq_amnt                    0.0\n",
       "pub_rec_bankruptcies           2.0\n",
       "tax_liens                      0.0\n",
       "dtype: float64"
      ]
     },
     "execution_count": 14,
     "metadata": {},
     "output_type": "execute_result"
    }
   ],
   "source": [
    "# find the percentage of nulls or NA in the columns \n",
    "round(loan_df.isnull().sum()/len(loan_df.index), 2)*100"
   ]
  },
  {
   "cell_type": "code",
   "execution_count": 15,
   "metadata": {},
   "outputs": [
    {
     "data": {
      "text/plain": [
       "Index(['mths_since_last_record', 'next_pymnt_d'], dtype='object')"
      ]
     },
     "execution_count": 15,
     "metadata": {},
     "output_type": "execute_result"
    }
   ],
   "source": [
    "#find the columns whose total percentage of null values is 90%\n",
    "loan_df.columns[(loan_df.isnull().sum()/len(loan_df.index)) *100 > 90]"
   ]
  },
  {
   "cell_type": "code",
   "execution_count": 16,
   "metadata": {
    "collapsed": true
   },
   "outputs": [],
   "source": [
    "#drop the columns whose total percentage of null values is 90%\n",
    "loan_df.drop(loan_df.columns[100*(loan_df.isnull().sum()/len(loan_df.index)) > 90], axis=1,inplace=True)"
   ]
  },
  {
   "cell_type": "code",
   "execution_count": 17,
   "metadata": {},
   "outputs": [
    {
     "data": {
      "text/plain": [
       "(39717, 55)"
      ]
     },
     "execution_count": 17,
     "metadata": {},
     "output_type": "execute_result"
    }
   ],
   "source": [
    "#analyse the dataframe again \n",
    " ## 2 more column is dropped \n",
    "loan_df.shape"
   ]
  },
  {
   "cell_type": "code",
   "execution_count": 18,
   "metadata": {},
   "outputs": [
    {
     "data": {
      "text/plain": [
       "Index(['emp_title', 'desc', 'title', 'mths_since_last_delinq', 'revol_util',\n",
       "       'last_pymnt_d', 'last_credit_pull_d', 'collections_12_mths_ex_med',\n",
       "       'chargeoff_within_12_mths', 'pub_rec_bankruptcies', 'tax_liens'],\n",
       "      dtype='object')"
      ]
     },
     "execution_count": 18,
     "metadata": {},
     "output_type": "execute_result"
    }
   ],
   "source": [
    "#again check for whose\n",
    "loan_df.columns[(loan_df.isnull().sum()/len(loan_df.index)) *100 > 0]"
   ]
  },
  {
   "cell_type": "code",
   "execution_count": 19,
   "metadata": {
    "collapsed": true
   },
   "outputs": [],
   "source": [
    "# drop the columns which does not have any significance in the analsysis\n",
    "  ## desc - Loan description provided by the borrower\n",
    "  ## url  - URL for the LC page with listing data\n",
    "loan_df.drop(['desc','url'], axis=1,inplace=True)"
   ]
  },
  {
   "cell_type": "code",
   "execution_count": 20,
   "metadata": {},
   "outputs": [
    {
     "data": {
      "text/plain": [
       "(39717, 53)"
      ]
     },
     "execution_count": 20,
     "metadata": {},
     "output_type": "execute_result"
    }
   ],
   "source": [
    "#analyse the dataframe again\n",
    "loan_df.shape"
   ]
  },
  {
   "cell_type": "code",
   "execution_count": 21,
   "metadata": {},
   "outputs": [
    {
     "data": {
      "text/html": [
       "<div>\n",
       "<style>\n",
       "    .dataframe thead tr:only-child th {\n",
       "        text-align: right;\n",
       "    }\n",
       "\n",
       "    .dataframe thead th {\n",
       "        text-align: left;\n",
       "    }\n",
       "\n",
       "    .dataframe tbody tr th {\n",
       "        vertical-align: top;\n",
       "    }\n",
       "</style>\n",
       "<table border=\"1\" class=\"dataframe\">\n",
       "  <thead>\n",
       "    <tr style=\"text-align: right;\">\n",
       "      <th></th>\n",
       "      <th>id</th>\n",
       "      <th>member_id</th>\n",
       "      <th>loan_amnt</th>\n",
       "      <th>funded_amnt</th>\n",
       "      <th>funded_amnt_inv</th>\n",
       "      <th>term</th>\n",
       "      <th>int_rate</th>\n",
       "      <th>installment</th>\n",
       "      <th>grade</th>\n",
       "      <th>sub_grade</th>\n",
       "      <th>...</th>\n",
       "      <th>last_pymnt_amnt</th>\n",
       "      <th>last_credit_pull_d</th>\n",
       "      <th>collections_12_mths_ex_med</th>\n",
       "      <th>policy_code</th>\n",
       "      <th>application_type</th>\n",
       "      <th>acc_now_delinq</th>\n",
       "      <th>chargeoff_within_12_mths</th>\n",
       "      <th>delinq_amnt</th>\n",
       "      <th>pub_rec_bankruptcies</th>\n",
       "      <th>tax_liens</th>\n",
       "    </tr>\n",
       "  </thead>\n",
       "  <tbody>\n",
       "    <tr>\n",
       "      <th>39659</th>\n",
       "      <td>121568</td>\n",
       "      <td>121574</td>\n",
       "      <td>4000</td>\n",
       "      <td>4000</td>\n",
       "      <td>1925.0</td>\n",
       "      <td>36 months</td>\n",
       "      <td>9.64%</td>\n",
       "      <td>128.41</td>\n",
       "      <td>B</td>\n",
       "      <td>B4</td>\n",
       "      <td>...</td>\n",
       "      <td>129.76</td>\n",
       "      <td>Aug-07</td>\n",
       "      <td>NaN</td>\n",
       "      <td>1</td>\n",
       "      <td>INDIVIDUAL</td>\n",
       "      <td>0</td>\n",
       "      <td>NaN</td>\n",
       "      <td>0</td>\n",
       "      <td>NaN</td>\n",
       "      <td>NaN</td>\n",
       "    </tr>\n",
       "    <tr>\n",
       "      <th>39660</th>\n",
       "      <td>121535</td>\n",
       "      <td>121373</td>\n",
       "      <td>2800</td>\n",
       "      <td>2800</td>\n",
       "      <td>1625.0</td>\n",
       "      <td>36 months</td>\n",
       "      <td>8.70%</td>\n",
       "      <td>88.65</td>\n",
       "      <td>B</td>\n",
       "      <td>B1</td>\n",
       "      <td>...</td>\n",
       "      <td>89.80</td>\n",
       "      <td>Aug-07</td>\n",
       "      <td>NaN</td>\n",
       "      <td>1</td>\n",
       "      <td>INDIVIDUAL</td>\n",
       "      <td>0</td>\n",
       "      <td>NaN</td>\n",
       "      <td>0</td>\n",
       "      <td>NaN</td>\n",
       "      <td>NaN</td>\n",
       "    </tr>\n",
       "  </tbody>\n",
       "</table>\n",
       "<p>2 rows × 53 columns</p>\n",
       "</div>"
      ],
      "text/plain": [
       "           id  member_id  loan_amnt  funded_amnt  funded_amnt_inv        term  \\\n",
       "39659  121568     121574       4000         4000           1925.0   36 months   \n",
       "39660  121535     121373       2800         2800           1625.0   36 months   \n",
       "\n",
       "      int_rate  installment grade sub_grade    ...    last_pymnt_amnt  \\\n",
       "39659    9.64%       128.41     B        B4    ...             129.76   \n",
       "39660    8.70%        88.65     B        B1    ...              89.80   \n",
       "\n",
       "      last_credit_pull_d collections_12_mths_ex_med  policy_code  \\\n",
       "39659             Aug-07                        NaN            1   \n",
       "39660             Aug-07                        NaN            1   \n",
       "\n",
       "      application_type acc_now_delinq chargeoff_within_12_mths delinq_amnt  \\\n",
       "39659       INDIVIDUAL              0                      NaN           0   \n",
       "39660       INDIVIDUAL              0                      NaN           0   \n",
       "\n",
       "      pub_rec_bankruptcies tax_liens  \n",
       "39659                  NaN       NaN  \n",
       "39660                  NaN       NaN  \n",
       "\n",
       "[2 rows x 53 columns]"
      ]
     },
     "execution_count": 21,
     "metadata": {},
     "output_type": "execute_result"
    }
   ],
   "source": [
    "#check the missing values in the rows \n",
    "  #as of now dont know ,whether the null columns is been used for the analysis or not ,so ignoring this TODO\n",
    "loan_df[loan_df.isnull().sum(axis=1)>5]"
   ]
  },
  {
   "cell_type": "code",
   "execution_count": 22,
   "metadata": {
    "collapsed": true
   },
   "outputs": [],
   "source": [
    "#TODO DELETE THE ROWS "
   ]
  },
  {
   "cell_type": "code",
   "execution_count": 23,
   "metadata": {},
   "outputs": [
    {
     "data": {
      "text/plain": [
       "array(['RENT', 'OWN', 'MORTGAGE', 'OTHER', 'NONE'], dtype=object)"
      ]
     },
     "execution_count": 23,
     "metadata": {},
     "output_type": "execute_result"
    }
   ],
   "source": [
    "#check the values in home_ownership column\n",
    "  ## seems like OTHER and NONE will not provide any information ,hence it is better to remove them \n",
    "loan_df['home_ownership'].unique()"
   ]
  },
  {
   "cell_type": "code",
   "execution_count": 24,
   "metadata": {
    "collapsed": true
   },
   "outputs": [],
   "source": [
    "# remove columns with value 'OTHER', 'NONE' from the home_ownership column\n",
    "  # Total 101 records removed , as it dosent serve any business \n",
    "loan_df.drop(loan_df[loan_df['home_ownership'].isin(['NONE','OTHER'])].index,inplace=True)"
   ]
  },
  {
   "cell_type": "code",
   "execution_count": 25,
   "metadata": {},
   "outputs": [
    {
     "data": {
      "text/plain": [
       "array(['RENT', 'OWN', 'MORTGAGE'], dtype=object)"
      ]
     },
     "execution_count": 25,
     "metadata": {},
     "output_type": "execute_result"
    }
   ],
   "source": [
    "# again analze the dataframe for unique values\n",
    "loan_df['home_ownership'].unique()"
   ]
  },
  {
   "cell_type": "code",
   "execution_count": 26,
   "metadata": {},
   "outputs": [
    {
     "data": {
      "text/plain": [
       "array(['Verified', 'Source Verified', 'Not Verified'], dtype=object)"
      ]
     },
     "execution_count": 26,
     "metadata": {},
     "output_type": "execute_result"
    }
   ],
   "source": [
    "# check the values in verification_status column \n",
    "  #seems like source Verified and Verified is same \n",
    "loan_df['verification_status'].unique()"
   ]
  },
  {
   "cell_type": "code",
   "execution_count": 27,
   "metadata": {
    "collapsed": true
   },
   "outputs": [],
   "source": [
    "# rename Source Verified to Verified\n",
    "loan_df['verification_status'] = np.where(loan_df['verification_status'] == \"Source Verified\", \"Verified\", loan_df['verification_status'])"
   ]
  },
  {
   "cell_type": "code",
   "execution_count": 28,
   "metadata": {},
   "outputs": [
    {
     "data": {
      "text/plain": [
       "id                            False\n",
       "member_id                     False\n",
       "loan_amnt                     False\n",
       "funded_amnt                   False\n",
       "funded_amnt_inv               False\n",
       "term                          False\n",
       "int_rate                      False\n",
       "installment                   False\n",
       "grade                         False\n",
       "sub_grade                     False\n",
       "emp_title                     False\n",
       "emp_length                    False\n",
       "home_ownership                False\n",
       "annual_inc                    False\n",
       "verification_status           False\n",
       "issue_d                       False\n",
       "loan_status                   False\n",
       "pymnt_plan                     True\n",
       "purpose                       False\n",
       "title                         False\n",
       "zip_code                      False\n",
       "addr_state                    False\n",
       "dti                           False\n",
       "delinq_2yrs                   False\n",
       "earliest_cr_line              False\n",
       "inq_last_6mths                False\n",
       "mths_since_last_delinq        False\n",
       "open_acc                      False\n",
       "pub_rec                       False\n",
       "revol_bal                     False\n",
       "revol_util                    False\n",
       "total_acc                     False\n",
       "initial_list_status            True\n",
       "out_prncp                     False\n",
       "out_prncp_inv                 False\n",
       "total_pymnt                   False\n",
       "total_pymnt_inv               False\n",
       "total_rec_prncp               False\n",
       "total_rec_int                 False\n",
       "total_rec_late_fee            False\n",
       "recoveries                    False\n",
       "collection_recovery_fee       False\n",
       "last_pymnt_d                  False\n",
       "last_pymnt_amnt               False\n",
       "last_credit_pull_d            False\n",
       "collections_12_mths_ex_med     True\n",
       "policy_code                    True\n",
       "application_type               True\n",
       "acc_now_delinq                 True\n",
       "chargeoff_within_12_mths       True\n",
       "delinq_amnt                    True\n",
       "pub_rec_bankruptcies          False\n",
       "tax_liens                      True\n",
       "dtype: bool"
      ]
     },
     "execution_count": 28,
     "metadata": {},
     "output_type": "execute_result"
    }
   ],
   "source": [
    "#check the columns with unique values\n",
    "   #column with 1 unique value will not have any significance ,hence it can be dropped\n",
    "loan_df.nunique()==1"
   ]
  },
  {
   "cell_type": "code",
   "execution_count": 29,
   "metadata": {
    "collapsed": true
   },
   "outputs": [],
   "source": [
    "# drop column with only 1 unique value \n",
    "for col in loan_df.columns:\n",
    "    if loan_df[col].nunique() == 1:\n",
    "        loan_df.drop(col,inplace=True,axis=1)"
   ]
  },
  {
   "cell_type": "code",
   "execution_count": 30,
   "metadata": {},
   "outputs": [
    {
     "data": {
      "text/plain": [
       "id                 39616\n",
       "member_id          39616\n",
       "loan_amnt            885\n",
       "funded_amnt         1041\n",
       "funded_amnt_inv     8152\n",
       "dtype: int64"
      ]
     },
     "execution_count": 30,
     "metadata": {},
     "output_type": "execute_result"
    }
   ],
   "source": [
    "#check again\n",
    "loan_df.nunique().head()"
   ]
  },
  {
   "cell_type": "code",
   "execution_count": 31,
   "metadata": {
    "collapsed": true
   },
   "outputs": [],
   "source": [
    "#Drop all the irrelevant columns from the dataframe --PLACEHOLDER\n",
    "\n",
    "\n"
   ]
  },
  {
   "cell_type": "markdown",
   "metadata": {},
   "source": [
    "##### 2.2 Make the datatype consistent across dataframe\n",
    "- Fetch all the column stats on null values"
   ]
  },
  {
   "cell_type": "code",
   "execution_count": 32,
   "metadata": {},
   "outputs": [
    {
     "name": "stdout",
     "output_type": "stream",
     "text": [
      "<class 'pandas.core.frame.DataFrame'>\n",
      "Int64Index: 39616 entries, 0 to 39716\n",
      "Data columns (total 44 columns):\n",
      "id                         39616 non-null int64\n",
      "member_id                  39616 non-null int64\n",
      "loan_amnt                  39616 non-null int64\n",
      "funded_amnt                39616 non-null int64\n",
      "funded_amnt_inv            39616 non-null float64\n",
      "term                       39616 non-null object\n",
      "int_rate                   39616 non-null object\n",
      "installment                39616 non-null float64\n",
      "grade                      39616 non-null object\n",
      "sub_grade                  39616 non-null object\n",
      "emp_title                  37162 non-null object\n",
      "emp_length                 39616 non-null object\n",
      "home_ownership             39616 non-null object\n",
      "annual_inc                 39616 non-null float64\n",
      "verification_status        39616 non-null object\n",
      "issue_d                    39616 non-null object\n",
      "loan_status                39616 non-null object\n",
      "purpose                    39616 non-null object\n",
      "title                      39606 non-null object\n",
      "zip_code                   39616 non-null object\n",
      "addr_state                 39616 non-null object\n",
      "dti                        39616 non-null float64\n",
      "delinq_2yrs                39616 non-null int64\n",
      "earliest_cr_line           39616 non-null object\n",
      "inq_last_6mths             39616 non-null int64\n",
      "mths_since_last_delinq     13997 non-null float64\n",
      "open_acc                   39616 non-null int64\n",
      "pub_rec                    39616 non-null int64\n",
      "revol_bal                  39616 non-null int64\n",
      "revol_util                 39568 non-null object\n",
      "total_acc                  39616 non-null int64\n",
      "out_prncp                  39616 non-null float64\n",
      "out_prncp_inv              39616 non-null float64\n",
      "total_pymnt                39616 non-null float64\n",
      "total_pymnt_inv            39616 non-null float64\n",
      "total_rec_prncp            39616 non-null float64\n",
      "total_rec_int              39616 non-null float64\n",
      "total_rec_late_fee         39616 non-null float64\n",
      "recoveries                 39616 non-null float64\n",
      "collection_recovery_fee    39616 non-null float64\n",
      "last_pymnt_d               39545 non-null object\n",
      "last_pymnt_amnt            39616 non-null float64\n",
      "last_credit_pull_d         39614 non-null object\n",
      "pub_rec_bankruptcies       38922 non-null float64\n",
      "dtypes: float64(16), int64(10), object(18)\n",
      "memory usage: 13.6+ MB\n"
     ]
    }
   ],
   "source": [
    "loan_df.info()"
   ]
  },
  {
   "cell_type": "code",
   "execution_count": 33,
   "metadata": {
    "collapsed": true
   },
   "outputs": [],
   "source": [
    "#since the int_rate is object and contain symbol percentage ,better to remove that \n",
    "loan_df['int_rate']=pd.to_numeric(loan_df.int_rate.apply(lambda x: x.strip('%')))"
   ]
  },
  {
   "cell_type": "code",
   "execution_count": 34,
   "metadata": {
    "collapsed": true
   },
   "outputs": [],
   "source": [
    "#since the revol_util is object and contain symbol percentage ,better to remove that \n",
    "loan_df['revol_util']=loan_df['revol_util'].str.split('%', 1).str[0].astype(float)"
   ]
  },
  {
   "cell_type": "code",
   "execution_count": 35,
   "metadata": {},
   "outputs": [
    {
     "name": "stdout",
     "output_type": "stream",
     "text": [
      "<class 'pandas.core.frame.DataFrame'>\n",
      "Int64Index: 39616 entries, 0 to 39716\n",
      "Data columns (total 44 columns):\n",
      "id                         39616 non-null int64\n",
      "member_id                  39616 non-null int64\n",
      "loan_amnt                  39616 non-null int64\n",
      "funded_amnt                39616 non-null int64\n",
      "funded_amnt_inv            39616 non-null float64\n",
      "term                       39616 non-null object\n",
      "int_rate                   39616 non-null float64\n",
      "installment                39616 non-null float64\n",
      "grade                      39616 non-null object\n",
      "sub_grade                  39616 non-null object\n",
      "emp_title                  37162 non-null object\n",
      "emp_length                 39616 non-null object\n",
      "home_ownership             39616 non-null object\n",
      "annual_inc                 39616 non-null float64\n",
      "verification_status        39616 non-null object\n",
      "issue_d                    39616 non-null object\n",
      "loan_status                39616 non-null object\n",
      "purpose                    39616 non-null object\n",
      "title                      39606 non-null object\n",
      "zip_code                   39616 non-null object\n",
      "addr_state                 39616 non-null object\n",
      "dti                        39616 non-null float64\n",
      "delinq_2yrs                39616 non-null int64\n",
      "earliest_cr_line           39616 non-null object\n",
      "inq_last_6mths             39616 non-null int64\n",
      "mths_since_last_delinq     13997 non-null float64\n",
      "open_acc                   39616 non-null int64\n",
      "pub_rec                    39616 non-null int64\n",
      "revol_bal                  39616 non-null int64\n",
      "revol_util                 39568 non-null float64\n",
      "total_acc                  39616 non-null int64\n",
      "out_prncp                  39616 non-null float64\n",
      "out_prncp_inv              39616 non-null float64\n",
      "total_pymnt                39616 non-null float64\n",
      "total_pymnt_inv            39616 non-null float64\n",
      "total_rec_prncp            39616 non-null float64\n",
      "total_rec_int              39616 non-null float64\n",
      "total_rec_late_fee         39616 non-null float64\n",
      "recoveries                 39616 non-null float64\n",
      "collection_recovery_fee    39616 non-null float64\n",
      "last_pymnt_d               39545 non-null object\n",
      "last_pymnt_amnt            39616 non-null float64\n",
      "last_credit_pull_d         39614 non-null object\n",
      "pub_rec_bankruptcies       38922 non-null float64\n",
      "dtypes: float64(18), int64(10), object(16)\n",
      "memory usage: 13.6+ MB\n"
     ]
    }
   ],
   "source": [
    "loan_df.info()"
   ]
  },
  {
   "cell_type": "code",
   "execution_count": 36,
   "metadata": {
    "collapsed": true
   },
   "outputs": [],
   "source": [
    "#loan_df['issue_year']=loan_df['issue_d'].str.split('-', 1).str[1]\n",
    "loan_df['issue_d'] = pd.to_datetime(loan_df['issue_d'],format='%b-%y')"
   ]
  },
  {
   "cell_type": "code",
   "execution_count": 37,
   "metadata": {
    "collapsed": true
   },
   "outputs": [],
   "source": [
    "#create issue_month column from data frame\n",
    "#loan_df['issue_month']=loan_df['issue_d'].str.split('-', 1).str[0]\n",
    "loan_df['issue_month'] = loan_df['issue_d'].dt.month"
   ]
  },
  {
   "cell_type": "code",
   "execution_count": 38,
   "metadata": {
    "collapsed": true
   },
   "outputs": [],
   "source": [
    "#create issue_year column from data frame\n",
    "loan_df['issue_year'] =loan_df['issue_d'].dt.year"
   ]
  },
  {
   "cell_type": "code",
   "execution_count": 39,
   "metadata": {},
   "outputs": [
    {
     "data": {
      "text/html": [
       "<div>\n",
       "<style>\n",
       "    .dataframe thead tr:only-child th {\n",
       "        text-align: right;\n",
       "    }\n",
       "\n",
       "    .dataframe thead th {\n",
       "        text-align: left;\n",
       "    }\n",
       "\n",
       "    .dataframe tbody tr th {\n",
       "        vertical-align: top;\n",
       "    }\n",
       "</style>\n",
       "<table border=\"1\" class=\"dataframe\">\n",
       "  <thead>\n",
       "    <tr style=\"text-align: right;\">\n",
       "      <th></th>\n",
       "      <th>issue_d</th>\n",
       "      <th>issue_year</th>\n",
       "      <th>issue_month</th>\n",
       "    </tr>\n",
       "  </thead>\n",
       "  <tbody>\n",
       "    <tr>\n",
       "      <th>0</th>\n",
       "      <td>2011-12-01</td>\n",
       "      <td>2011</td>\n",
       "      <td>12</td>\n",
       "    </tr>\n",
       "    <tr>\n",
       "      <th>1</th>\n",
       "      <td>2011-12-01</td>\n",
       "      <td>2011</td>\n",
       "      <td>12</td>\n",
       "    </tr>\n",
       "    <tr>\n",
       "      <th>2</th>\n",
       "      <td>2011-12-01</td>\n",
       "      <td>2011</td>\n",
       "      <td>12</td>\n",
       "    </tr>\n",
       "    <tr>\n",
       "      <th>3</th>\n",
       "      <td>2011-12-01</td>\n",
       "      <td>2011</td>\n",
       "      <td>12</td>\n",
       "    </tr>\n",
       "    <tr>\n",
       "      <th>4</th>\n",
       "      <td>2011-12-01</td>\n",
       "      <td>2011</td>\n",
       "      <td>12</td>\n",
       "    </tr>\n",
       "  </tbody>\n",
       "</table>\n",
       "</div>"
      ],
      "text/plain": [
       "     issue_d  issue_year  issue_month\n",
       "0 2011-12-01        2011           12\n",
       "1 2011-12-01        2011           12\n",
       "2 2011-12-01        2011           12\n",
       "3 2011-12-01        2011           12\n",
       "4 2011-12-01        2011           12"
      ]
     },
     "execution_count": 39,
     "metadata": {},
     "output_type": "execute_result"
    }
   ],
   "source": [
    "loan_df[['issue_d','issue_year','issue_month']].head()"
   ]
  },
  {
   "cell_type": "code",
   "execution_count": 40,
   "metadata": {},
   "outputs": [
    {
     "data": {
      "text/html": [
       "<div>\n",
       "<style>\n",
       "    .dataframe thead tr:only-child th {\n",
       "        text-align: right;\n",
       "    }\n",
       "\n",
       "    .dataframe thead th {\n",
       "        text-align: left;\n",
       "    }\n",
       "\n",
       "    .dataframe tbody tr th {\n",
       "        vertical-align: top;\n",
       "    }\n",
       "</style>\n",
       "<table border=\"1\" class=\"dataframe\">\n",
       "  <thead>\n",
       "    <tr style=\"text-align: right;\">\n",
       "      <th></th>\n",
       "      <th>id</th>\n",
       "      <th>member_id</th>\n",
       "      <th>loan_amnt</th>\n",
       "      <th>funded_amnt</th>\n",
       "      <th>funded_amnt_inv</th>\n",
       "      <th>term</th>\n",
       "      <th>int_rate</th>\n",
       "      <th>installment</th>\n",
       "      <th>grade</th>\n",
       "      <th>sub_grade</th>\n",
       "      <th>...</th>\n",
       "      <th>total_rec_int</th>\n",
       "      <th>total_rec_late_fee</th>\n",
       "      <th>recoveries</th>\n",
       "      <th>collection_recovery_fee</th>\n",
       "      <th>last_pymnt_d</th>\n",
       "      <th>last_pymnt_amnt</th>\n",
       "      <th>last_credit_pull_d</th>\n",
       "      <th>pub_rec_bankruptcies</th>\n",
       "      <th>issue_month</th>\n",
       "      <th>issue_year</th>\n",
       "    </tr>\n",
       "  </thead>\n",
       "  <tbody>\n",
       "    <tr>\n",
       "      <th>0</th>\n",
       "      <td>1077501</td>\n",
       "      <td>1296599</td>\n",
       "      <td>5000</td>\n",
       "      <td>5000</td>\n",
       "      <td>4975.0</td>\n",
       "      <td>36 months</td>\n",
       "      <td>10.65</td>\n",
       "      <td>162.87</td>\n",
       "      <td>B</td>\n",
       "      <td>B2</td>\n",
       "      <td>...</td>\n",
       "      <td>863.16</td>\n",
       "      <td>0.00</td>\n",
       "      <td>0.00</td>\n",
       "      <td>0.00</td>\n",
       "      <td>Jan-15</td>\n",
       "      <td>171.62</td>\n",
       "      <td>May-16</td>\n",
       "      <td>0.0</td>\n",
       "      <td>12</td>\n",
       "      <td>2011</td>\n",
       "    </tr>\n",
       "    <tr>\n",
       "      <th>1</th>\n",
       "      <td>1077430</td>\n",
       "      <td>1314167</td>\n",
       "      <td>2500</td>\n",
       "      <td>2500</td>\n",
       "      <td>2500.0</td>\n",
       "      <td>60 months</td>\n",
       "      <td>15.27</td>\n",
       "      <td>59.83</td>\n",
       "      <td>C</td>\n",
       "      <td>C4</td>\n",
       "      <td>...</td>\n",
       "      <td>435.17</td>\n",
       "      <td>0.00</td>\n",
       "      <td>117.08</td>\n",
       "      <td>1.11</td>\n",
       "      <td>Apr-13</td>\n",
       "      <td>119.66</td>\n",
       "      <td>Sep-13</td>\n",
       "      <td>0.0</td>\n",
       "      <td>12</td>\n",
       "      <td>2011</td>\n",
       "    </tr>\n",
       "    <tr>\n",
       "      <th>2</th>\n",
       "      <td>1077175</td>\n",
       "      <td>1313524</td>\n",
       "      <td>2400</td>\n",
       "      <td>2400</td>\n",
       "      <td>2400.0</td>\n",
       "      <td>36 months</td>\n",
       "      <td>15.96</td>\n",
       "      <td>84.33</td>\n",
       "      <td>C</td>\n",
       "      <td>C5</td>\n",
       "      <td>...</td>\n",
       "      <td>605.67</td>\n",
       "      <td>0.00</td>\n",
       "      <td>0.00</td>\n",
       "      <td>0.00</td>\n",
       "      <td>Jun-14</td>\n",
       "      <td>649.91</td>\n",
       "      <td>May-16</td>\n",
       "      <td>0.0</td>\n",
       "      <td>12</td>\n",
       "      <td>2011</td>\n",
       "    </tr>\n",
       "    <tr>\n",
       "      <th>3</th>\n",
       "      <td>1076863</td>\n",
       "      <td>1277178</td>\n",
       "      <td>10000</td>\n",
       "      <td>10000</td>\n",
       "      <td>10000.0</td>\n",
       "      <td>36 months</td>\n",
       "      <td>13.49</td>\n",
       "      <td>339.31</td>\n",
       "      <td>C</td>\n",
       "      <td>C1</td>\n",
       "      <td>...</td>\n",
       "      <td>2214.92</td>\n",
       "      <td>16.97</td>\n",
       "      <td>0.00</td>\n",
       "      <td>0.00</td>\n",
       "      <td>Jan-15</td>\n",
       "      <td>357.48</td>\n",
       "      <td>Apr-16</td>\n",
       "      <td>0.0</td>\n",
       "      <td>12</td>\n",
       "      <td>2011</td>\n",
       "    </tr>\n",
       "    <tr>\n",
       "      <th>4</th>\n",
       "      <td>1075358</td>\n",
       "      <td>1311748</td>\n",
       "      <td>3000</td>\n",
       "      <td>3000</td>\n",
       "      <td>3000.0</td>\n",
       "      <td>60 months</td>\n",
       "      <td>12.69</td>\n",
       "      <td>67.79</td>\n",
       "      <td>B</td>\n",
       "      <td>B5</td>\n",
       "      <td>...</td>\n",
       "      <td>1037.39</td>\n",
       "      <td>0.00</td>\n",
       "      <td>0.00</td>\n",
       "      <td>0.00</td>\n",
       "      <td>May-16</td>\n",
       "      <td>67.79</td>\n",
       "      <td>May-16</td>\n",
       "      <td>0.0</td>\n",
       "      <td>12</td>\n",
       "      <td>2011</td>\n",
       "    </tr>\n",
       "  </tbody>\n",
       "</table>\n",
       "<p>5 rows × 46 columns</p>\n",
       "</div>"
      ],
      "text/plain": [
       "        id  member_id  loan_amnt  funded_amnt  funded_amnt_inv        term  \\\n",
       "0  1077501    1296599       5000         5000           4975.0   36 months   \n",
       "1  1077430    1314167       2500         2500           2500.0   60 months   \n",
       "2  1077175    1313524       2400         2400           2400.0   36 months   \n",
       "3  1076863    1277178      10000        10000          10000.0   36 months   \n",
       "4  1075358    1311748       3000         3000           3000.0   60 months   \n",
       "\n",
       "   int_rate  installment grade sub_grade    ...     total_rec_int  \\\n",
       "0     10.65       162.87     B        B2    ...            863.16   \n",
       "1     15.27        59.83     C        C4    ...            435.17   \n",
       "2     15.96        84.33     C        C5    ...            605.67   \n",
       "3     13.49       339.31     C        C1    ...           2214.92   \n",
       "4     12.69        67.79     B        B5    ...           1037.39   \n",
       "\n",
       "  total_rec_late_fee recoveries  collection_recovery_fee last_pymnt_d  \\\n",
       "0               0.00       0.00                     0.00       Jan-15   \n",
       "1               0.00     117.08                     1.11       Apr-13   \n",
       "2               0.00       0.00                     0.00       Jun-14   \n",
       "3              16.97       0.00                     0.00       Jan-15   \n",
       "4               0.00       0.00                     0.00       May-16   \n",
       "\n",
       "  last_pymnt_amnt last_credit_pull_d pub_rec_bankruptcies issue_month  \\\n",
       "0          171.62             May-16                  0.0          12   \n",
       "1          119.66             Sep-13                  0.0          12   \n",
       "2          649.91             May-16                  0.0          12   \n",
       "3          357.48             Apr-16                  0.0          12   \n",
       "4           67.79             May-16                  0.0          12   \n",
       "\n",
       "  issue_year  \n",
       "0       2011  \n",
       "1       2011  \n",
       "2       2011  \n",
       "3       2011  \n",
       "4       2011  \n",
       "\n",
       "[5 rows x 46 columns]"
      ]
     },
     "execution_count": 40,
     "metadata": {},
     "output_type": "execute_result"
    }
   ],
   "source": [
    "#analyze the dataframe again\n",
    "loan_df.head()"
   ]
  },
  {
   "cell_type": "code",
   "execution_count": 41,
   "metadata": {
    "collapsed": true
   },
   "outputs": [],
   "source": [
    "# emp_length also contain characters , we can make that to integer.By removing the years and the + synmbol\n",
    "# remove  the  nulls from the dataframe\n",
    "loan_df = loan_df[pd.notnull(loan_df['emp_length'])]"
   ]
  },
  {
   "cell_type": "code",
   "execution_count": 42,
   "metadata": {
    "collapsed": true
   },
   "outputs": [],
   "source": [
    "# change the type of the column to int\n",
    "loan_df['emp_length']=loan_df['emp_length'].str.extract('(\\d+)').fillna(0).astype(int)"
   ]
  },
  {
   "cell_type": "code",
   "execution_count": 43,
   "metadata": {},
   "outputs": [
    {
     "data": {
      "text/plain": [
       "0    10\n",
       "1     1\n",
       "2    10\n",
       "3    10\n",
       "4     1\n",
       "Name: emp_length, dtype: int64"
      ]
     },
     "execution_count": 43,
     "metadata": {},
     "output_type": "execute_result"
    }
   ],
   "source": [
    "# analyse the dataframe \n",
    "loan_df['emp_length'].head()"
   ]
  },
  {
   "cell_type": "code",
   "execution_count": 133,
   "metadata": {},
   "outputs": [
    {
     "name": "stdout",
     "output_type": "stream",
     "text": [
      "<class 'pandas.core.frame.DataFrame'>\n",
      "Int64Index: 39616 entries, 0 to 39716\n",
      "Data columns (total 46 columns):\n",
      "id                         39616 non-null int64\n",
      "member_id                  39616 non-null int64\n",
      "loan_amnt                  39616 non-null int64\n",
      "funded_amnt                39616 non-null int64\n",
      "funded_amnt_inv            39616 non-null float64\n",
      "term                       39616 non-null object\n",
      "int_rate                   39616 non-null float64\n",
      "installment                39616 non-null float64\n",
      "grade                      39616 non-null object\n",
      "sub_grade                  39616 non-null object\n",
      "emp_title                  37162 non-null object\n",
      "emp_length                 39616 non-null int64\n",
      "home_ownership             39616 non-null object\n",
      "annual_inc                 39616 non-null float64\n",
      "verification_status        39616 non-null object\n",
      "issue_d                    39616 non-null datetime64[ns]\n",
      "loan_status                39616 non-null object\n",
      "purpose                    39616 non-null object\n",
      "title                      39606 non-null object\n",
      "zip_code                   39616 non-null object\n",
      "addr_state                 39616 non-null object\n",
      "dti                        39616 non-null float64\n",
      "delinq_2yrs                39616 non-null int64\n",
      "earliest_cr_line           39616 non-null object\n",
      "inq_last_6mths             39616 non-null int64\n",
      "mths_since_last_delinq     13997 non-null float64\n",
      "open_acc                   39616 non-null int64\n",
      "pub_rec                    39616 non-null int64\n",
      "revol_bal                  39616 non-null int64\n",
      "revol_util                 39568 non-null float64\n",
      "total_acc                  39616 non-null int64\n",
      "out_prncp                  39616 non-null float64\n",
      "out_prncp_inv              39616 non-null float64\n",
      "total_pymnt                39616 non-null float64\n",
      "total_pymnt_inv            39616 non-null float64\n",
      "total_rec_prncp            39616 non-null float64\n",
      "total_rec_int              39616 non-null float64\n",
      "total_rec_late_fee         39616 non-null float64\n",
      "recoveries                 39616 non-null float64\n",
      "collection_recovery_fee    39616 non-null float64\n",
      "last_pymnt_d               39545 non-null object\n",
      "last_pymnt_amnt            39616 non-null float64\n",
      "last_credit_pull_d         39614 non-null object\n",
      "pub_rec_bankruptcies       38922 non-null float64\n",
      "issue_month                39616 non-null int64\n",
      "issue_year                 39616 non-null int64\n",
      "dtypes: datetime64[ns](1), float64(18), int64(13), object(14)\n",
      "memory usage: 14.2+ MB\n"
     ]
    }
   ],
   "source": [
    "#check the datatype of the dataframe\n",
    "loan_df.info()"
   ]
  },
  {
   "cell_type": "code",
   "execution_count": null,
   "metadata": {
    "collapsed": true
   },
   "outputs": [],
   "source": [
    "# Remove Outlier from the dataset "
   ]
  },
  {
   "cell_type": "code",
   "execution_count": 45,
   "metadata": {
    "collapsed": true
   },
   "outputs": [],
   "source": [
    "#export loan_data \n",
    "loan_df.to_csv(\"loan_data_chkpt1.csv\", sep='\\t', encoding='ISO-8859-1')"
   ]
  },
  {
   "cell_type": "markdown",
   "metadata": {},
   "source": [
    "### 3.0 Data Analysis"
   ]
  },
  {
   "cell_type": "markdown",
   "metadata": {},
   "source": [
    "##### 3.1 For Data Analysis , create a subset dataframe from the loans whose status is not \"Current\"\n",
    "- For the data analysis ,Loans in \"Current\" status does not give insites about the Problem statement ,hence filtering that"
   ]
  },
  {
   "cell_type": "code",
   "execution_count": 46,
   "metadata": {},
   "outputs": [
    {
     "data": {
      "text/plain": [
       "(39616, 46)"
      ]
     },
     "execution_count": 46,
     "metadata": {},
     "output_type": "execute_result"
    }
   ],
   "source": [
    "#before filtering the dataframe shape is \n",
    "loan_df.shape"
   ]
  },
  {
   "cell_type": "code",
   "execution_count": 47,
   "metadata": {
    "collapsed": true
   },
   "outputs": [],
   "source": [
    "#create a subset dataframe from the loans whose status is not \"Current\"\n",
    "loan_not_current_df = loan_df[loan_df['loan_status']!= 'Current']"
   ]
  },
  {
   "cell_type": "code",
   "execution_count": 48,
   "metadata": {},
   "outputs": [
    {
     "data": {
      "text/plain": [
       "array(['Fully Paid', 'Charged Off'], dtype=object)"
      ]
     },
     "execution_count": 48,
     "metadata": {},
     "output_type": "execute_result"
    }
   ],
   "source": [
    "#distinct loan status now in dataframe \n",
    "loan_not_current_df['loan_status'].unique()"
   ]
  },
  {
   "cell_type": "code",
   "execution_count": 49,
   "metadata": {},
   "outputs": [
    {
     "data": {
      "text/plain": [
       "(38476, 46)"
      ]
     },
     "execution_count": 49,
     "metadata": {},
     "output_type": "execute_result"
    }
   ],
   "source": [
    "#analyse the new dataframe shape\n",
    "loan_not_current_df.shape"
   ]
  },
  {
   "cell_type": "code",
   "execution_count": 50,
   "metadata": {},
   "outputs": [
    {
     "data": {
      "text/plain": [
       "14.577918702567835"
      ]
     },
     "execution_count": 50,
     "metadata": {},
     "output_type": "execute_result"
    }
   ],
   "source": [
    "# Total Defaulter percentage 14.6%\n",
    "(len(loan_not_current_df[loan_not_current_df['loan_status']=='Charged Off'].index)/len(loan_not_current_df.index))*100"
   ]
  },
  {
   "cell_type": "code",
   "execution_count": 51,
   "metadata": {},
   "outputs": [
    {
     "data": {
      "text/plain": [
       "home_ownership  loan_status\n",
       "MORTGAGE        Charged Off     6.047926\n",
       "                Fully Paid     38.190041\n",
       "OWN             Charged Off     1.151367\n",
       "                Fully Paid      6.580726\n",
       "RENT            Charged Off     7.378626\n",
       "                Fully Paid     40.651315\n",
       "Name: id, dtype: float64"
      ]
     },
     "execution_count": 51,
     "metadata": {},
     "output_type": "execute_result"
    }
   ],
   "source": [
    "# Total % Defaulter per home ownership\n",
    "(loan_not_current_df.groupby(['home_ownership','loan_status'])['id'].count()/len(loan_not_current_df.index))*100"
   ]
  },
  {
   "cell_type": "code",
   "execution_count": 52,
   "metadata": {},
   "outputs": [
    {
     "data": {
      "text/html": [
       "<style  type=\"text/css\" >\n",
       "    #T_9498be3a_5300_11e9_bfed_4c3275917579row0_col0 {\n",
       "            background-color:  #fff6e5;\n",
       "        }    #T_9498be3a_5300_11e9_bfed_4c3275917579row0_col1 {\n",
       "            background-color:  #fff6e5;\n",
       "        }    #T_9498be3a_5300_11e9_bfed_4c3275917579row0_col2 {\n",
       "            background-color:  #fff6e5;\n",
       "        }    #T_9498be3a_5300_11e9_bfed_4c3275917579row0_col3 {\n",
       "            background-color:  #fff6e5;\n",
       "        }    #T_9498be3a_5300_11e9_bfed_4c3275917579row1_col0 {\n",
       "            background-color:  #ffb224;\n",
       "        }    #T_9498be3a_5300_11e9_bfed_4c3275917579row1_col1 {\n",
       "            background-color:  #ffb328;\n",
       "        }    #T_9498be3a_5300_11e9_bfed_4c3275917579row1_col2 {\n",
       "            background-color:  #ffb429;\n",
       "        }    #T_9498be3a_5300_11e9_bfed_4c3275917579row1_col3 {\n",
       "            background-color:  #ffb327;\n",
       "        }    #T_9498be3a_5300_11e9_bfed_4c3275917579row2_col0 {\n",
       "            background-color:  #ffa500;\n",
       "        }    #T_9498be3a_5300_11e9_bfed_4c3275917579row2_col1 {\n",
       "            background-color:  #ffa500;\n",
       "        }    #T_9498be3a_5300_11e9_bfed_4c3275917579row2_col2 {\n",
       "            background-color:  #ffa500;\n",
       "        }    #T_9498be3a_5300_11e9_bfed_4c3275917579row2_col3 {\n",
       "            background-color:  #ffa500;\n",
       "        }</style>  \n",
       "<table id=\"T_9498be3a_5300_11e9_bfed_4c3275917579\" > \n",
       "<thead>    <tr> \n",
       "        <th class=\"index_name level0\" >home_ownership</th> \n",
       "        <th class=\"col_heading level0 col0\" >MORTGAGE</th> \n",
       "        <th class=\"col_heading level0 col1\" >OWN</th> \n",
       "        <th class=\"col_heading level0 col2\" >RENT</th> \n",
       "        <th class=\"col_heading level0 col3\" >All</th> \n",
       "    </tr>    <tr> \n",
       "        <th class=\"index_name level0\" >loan_status</th> \n",
       "        <th class=\"blank\" ></th> \n",
       "        <th class=\"blank\" ></th> \n",
       "        <th class=\"blank\" ></th> \n",
       "        <th class=\"blank\" ></th> \n",
       "    </tr></thead> \n",
       "<tbody>    <tr> \n",
       "        <th id=\"T_9498be3a_5300_11e9_bfed_4c3275917579level0_row0\" class=\"row_heading level0 row0\" >Charged Off</th> \n",
       "        <td id=\"T_9498be3a_5300_11e9_bfed_4c3275917579row0_col0\" class=\"data row0 col0\" >2327</td> \n",
       "        <td id=\"T_9498be3a_5300_11e9_bfed_4c3275917579row0_col1\" class=\"data row0 col1\" >443</td> \n",
       "        <td id=\"T_9498be3a_5300_11e9_bfed_4c3275917579row0_col2\" class=\"data row0 col2\" >2839</td> \n",
       "        <td id=\"T_9498be3a_5300_11e9_bfed_4c3275917579row0_col3\" class=\"data row0 col3\" >5609</td> \n",
       "    </tr>    <tr> \n",
       "        <th id=\"T_9498be3a_5300_11e9_bfed_4c3275917579level0_row1\" class=\"row_heading level0 row1\" >Fully Paid</th> \n",
       "        <td id=\"T_9498be3a_5300_11e9_bfed_4c3275917579row1_col0\" class=\"data row1 col0\" >14694</td> \n",
       "        <td id=\"T_9498be3a_5300_11e9_bfed_4c3275917579row1_col1\" class=\"data row1 col1\" >2532</td> \n",
       "        <td id=\"T_9498be3a_5300_11e9_bfed_4c3275917579row1_col2\" class=\"data row1 col2\" >15641</td> \n",
       "        <td id=\"T_9498be3a_5300_11e9_bfed_4c3275917579row1_col3\" class=\"data row1 col3\" >32867</td> \n",
       "    </tr>    <tr> \n",
       "        <th id=\"T_9498be3a_5300_11e9_bfed_4c3275917579level0_row2\" class=\"row_heading level0 row2\" >All</th> \n",
       "        <td id=\"T_9498be3a_5300_11e9_bfed_4c3275917579row2_col0\" class=\"data row2 col0\" >17021</td> \n",
       "        <td id=\"T_9498be3a_5300_11e9_bfed_4c3275917579row2_col1\" class=\"data row2 col1\" >2975</td> \n",
       "        <td id=\"T_9498be3a_5300_11e9_bfed_4c3275917579row2_col2\" class=\"data row2 col2\" >18480</td> \n",
       "        <td id=\"T_9498be3a_5300_11e9_bfed_4c3275917579row2_col3\" class=\"data row2 col3\" >38476</td> \n",
       "    </tr></tbody> \n",
       "</table> "
      ],
      "text/plain": [
       "<pandas.io.formats.style.Styler at 0x1a10952b70>"
      ]
     },
     "execution_count": 52,
     "metadata": {},
     "output_type": "execute_result"
    }
   ],
   "source": [
    "cm = sns.light_palette(\"orange\", as_cmap=True)\n",
    "pd.crosstab(loan_not_current_df['loan_status'], loan_not_current_df['home_ownership'], margins=True).style.background_gradient(cmap = cm)"
   ]
  },
  {
   "cell_type": "code",
   "execution_count": 53,
   "metadata": {},
   "outputs": [
    {
     "data": {
      "text/plain": [
       "term        loan_status\n",
       " 36 months  Charged Off     8.342863\n",
       "            Fully Paid     67.018401\n",
       " 60 months  Charged Off     6.235056\n",
       "            Fully Paid     18.403680\n",
       "Name: id, dtype: float64"
      ]
     },
     "execution_count": 53,
     "metadata": {},
     "output_type": "execute_result"
    }
   ],
   "source": [
    "# Total Defaulter per term\n",
    "(loan_not_current_df.groupby(['term','loan_status'])['id'].count()/len(loan_not_current_df.index))*100"
   ]
  },
  {
   "cell_type": "code",
   "execution_count": 54,
   "metadata": {},
   "outputs": [
    {
     "data": {
      "text/html": [
       "<style  type=\"text/css\" >\n",
       "    #T_94c2abb4_5300_11e9_bafd_4c3275917579row0_col0 {\n",
       "            background-color:  #fff6e5;\n",
       "        }    #T_94c2abb4_5300_11e9_bafd_4c3275917579row0_col1 {\n",
       "            background-color:  #fff6e5;\n",
       "        }    #T_94c2abb4_5300_11e9_bafd_4c3275917579row0_col2 {\n",
       "            background-color:  #fff6e5;\n",
       "        }    #T_94c2abb4_5300_11e9_bafd_4c3275917579row1_col0 {\n",
       "            background-color:  #ffaf1c;\n",
       "        }    #T_94c2abb4_5300_11e9_bafd_4c3275917579row1_col1 {\n",
       "            background-color:  #ffc04d;\n",
       "        }    #T_94c2abb4_5300_11e9_bafd_4c3275917579row1_col2 {\n",
       "            background-color:  #ffb327;\n",
       "        }    #T_94c2abb4_5300_11e9_bafd_4c3275917579row2_col0 {\n",
       "            background-color:  #ffa500;\n",
       "        }    #T_94c2abb4_5300_11e9_bafd_4c3275917579row2_col1 {\n",
       "            background-color:  #ffa500;\n",
       "        }    #T_94c2abb4_5300_11e9_bafd_4c3275917579row2_col2 {\n",
       "            background-color:  #ffa500;\n",
       "        }</style>  \n",
       "<table id=\"T_94c2abb4_5300_11e9_bafd_4c3275917579\" > \n",
       "<thead>    <tr> \n",
       "        <th class=\"index_name level0\" >term</th> \n",
       "        <th class=\"col_heading level0 col0\" > 36 months</th> \n",
       "        <th class=\"col_heading level0 col1\" > 60 months</th> \n",
       "        <th class=\"col_heading level0 col2\" >All</th> \n",
       "    </tr>    <tr> \n",
       "        <th class=\"index_name level0\" >loan_status</th> \n",
       "        <th class=\"blank\" ></th> \n",
       "        <th class=\"blank\" ></th> \n",
       "        <th class=\"blank\" ></th> \n",
       "    </tr></thead> \n",
       "<tbody>    <tr> \n",
       "        <th id=\"T_94c2abb4_5300_11e9_bafd_4c3275917579level0_row0\" class=\"row_heading level0 row0\" >Charged Off</th> \n",
       "        <td id=\"T_94c2abb4_5300_11e9_bafd_4c3275917579row0_col0\" class=\"data row0 col0\" >3210</td> \n",
       "        <td id=\"T_94c2abb4_5300_11e9_bafd_4c3275917579row0_col1\" class=\"data row0 col1\" >2399</td> \n",
       "        <td id=\"T_94c2abb4_5300_11e9_bafd_4c3275917579row0_col2\" class=\"data row0 col2\" >5609</td> \n",
       "    </tr>    <tr> \n",
       "        <th id=\"T_94c2abb4_5300_11e9_bafd_4c3275917579level0_row1\" class=\"row_heading level0 row1\" >Fully Paid</th> \n",
       "        <td id=\"T_94c2abb4_5300_11e9_bafd_4c3275917579row1_col0\" class=\"data row1 col0\" >25786</td> \n",
       "        <td id=\"T_94c2abb4_5300_11e9_bafd_4c3275917579row1_col1\" class=\"data row1 col1\" >7081</td> \n",
       "        <td id=\"T_94c2abb4_5300_11e9_bafd_4c3275917579row1_col2\" class=\"data row1 col2\" >32867</td> \n",
       "    </tr>    <tr> \n",
       "        <th id=\"T_94c2abb4_5300_11e9_bafd_4c3275917579level0_row2\" class=\"row_heading level0 row2\" >All</th> \n",
       "        <td id=\"T_94c2abb4_5300_11e9_bafd_4c3275917579row2_col0\" class=\"data row2 col0\" >28996</td> \n",
       "        <td id=\"T_94c2abb4_5300_11e9_bafd_4c3275917579row2_col1\" class=\"data row2 col1\" >9480</td> \n",
       "        <td id=\"T_94c2abb4_5300_11e9_bafd_4c3275917579row2_col2\" class=\"data row2 col2\" >38476</td> \n",
       "    </tr></tbody> \n",
       "</table> "
      ],
      "text/plain": [
       "<pandas.io.formats.style.Styler at 0x10cab0d68>"
      ]
     },
     "execution_count": 54,
     "metadata": {},
     "output_type": "execute_result"
    }
   ],
   "source": [
    "cm = sns.light_palette(\"orange\", as_cmap=True)\n",
    "pd.crosstab(loan_not_current_df['loan_status'], loan_not_current_df['term'], margins=True).style.background_gradient(cmap = cm)"
   ]
  },
  {
   "cell_type": "code",
   "execution_count": 55,
   "metadata": {},
   "outputs": [
    {
     "data": {
      "text/plain": [
       "purpose             loan_status\n",
       "car                 Charged Off     0.413245\n",
       "                    Fully Paid      3.477492\n",
       "credit_card         Charged Off     1.403472\n",
       "                    Fully Paid     11.633226\n",
       "debt_consolidation  Charged Off     7.173303\n",
       "                    Fully Paid     39.645493\n",
       "educational         Charged Off     0.145545\n",
       "                    Fully Paid      0.691340\n",
       "home_improvement    Charged Off     0.899262\n",
       "                    Fully Paid      6.559933\n",
       "house               Charged Off     0.153342\n",
       "                    Fully Paid      0.797900\n",
       "major_purchase      Charged Off     0.576983\n",
       "                    Fully Paid      4.992723\n",
       "medical             Charged Off     0.275496\n",
       "                    Fully Paid      1.486641\n",
       "moving              Charged Off     0.236511\n",
       "                    Fully Paid      1.257927\n",
       "other               Charged Off     1.639983\n",
       "                    Fully Paid      8.366254\n",
       "renewable_energy    Charged Off     0.049381\n",
       "                    Fully Paid      0.213120\n",
       "small_business      Charged Off     1.224140\n",
       "                    Fully Paid      3.308556\n",
       "vacation            Charged Off     0.137748\n",
       "                    Fully Paid      0.836885\n",
       "wedding             Charged Off     0.249506\n",
       "                    Fully Paid      2.154590\n",
       "Name: id, dtype: float64"
      ]
     },
     "execution_count": 55,
     "metadata": {},
     "output_type": "execute_result"
    }
   ],
   "source": [
    "# Total Defaulter based on purpose\n",
    "(loan_not_current_df.groupby(['purpose','loan_status'])['id'].count()/len(loan_not_current_df.index))*100"
   ]
  },
  {
   "cell_type": "code",
   "execution_count": 113,
   "metadata": {},
   "outputs": [
    {
     "data": {
      "text/html": [
       "<style  type=\"text/css\" >\n",
       "    #T_398bf2d4_5303_11e9_8673_4c3275917579row0_col0 {\n",
       "            background-color:  #fff4e0;\n",
       "        }    #T_398bf2d4_5303_11e9_8673_4c3275917579row0_col1 {\n",
       "            background-color:  #fff3dd;\n",
       "        }    #T_398bf2d4_5303_11e9_8673_4c3275917579row0_col2 {\n",
       "            background-color:  #fff3dd;\n",
       "        }    #T_398bf2d4_5303_11e9_8673_4c3275917579row1_col0 {\n",
       "            background-color:  #ffefd1;\n",
       "        }    #T_398bf2d4_5303_11e9_8673_4c3275917579row1_col1 {\n",
       "            background-color:  #ffebc7;\n",
       "        }    #T_398bf2d4_5303_11e9_8673_4c3275917579row1_col2 {\n",
       "            background-color:  #ffecc9;\n",
       "        }    #T_398bf2d4_5303_11e9_8673_4c3275917579row2_col0 {\n",
       "            background-color:  #ffce75;\n",
       "        }    #T_398bf2d4_5303_11e9_8673_4c3275917579row2_col1 {\n",
       "            background-color:  #ffd17b;\n",
       "        }    #T_398bf2d4_5303_11e9_8673_4c3275917579row2_col2 {\n",
       "            background-color:  #ffd07a;\n",
       "        }    #T_398bf2d4_5303_11e9_8673_4c3275917579row3_col0 {\n",
       "            background-color:  #fff6e5;\n",
       "        }    #T_398bf2d4_5303_11e9_8673_4c3275917579row3_col1 {\n",
       "            background-color:  #fff6e5;\n",
       "        }    #T_398bf2d4_5303_11e9_8673_4c3275917579row3_col2 {\n",
       "            background-color:  #fff6e5;\n",
       "        }    #T_398bf2d4_5303_11e9_8673_4c3275917579row4_col0 {\n",
       "            background-color:  #fff2d9;\n",
       "        }    #T_398bf2d4_5303_11e9_8673_4c3275917579row4_col1 {\n",
       "            background-color:  #fff0d4;\n",
       "        }    #T_398bf2d4_5303_11e9_8673_4c3275917579row4_col2 {\n",
       "            background-color:  #fff0d5;\n",
       "        }    #T_398bf2d4_5303_11e9_8673_4c3275917579row5_col0 {\n",
       "            background-color:  #fff6e5;\n",
       "        }    #T_398bf2d4_5303_11e9_8673_4c3275917579row5_col1 {\n",
       "            background-color:  #fff6e5;\n",
       "        }    #T_398bf2d4_5303_11e9_8673_4c3275917579row5_col2 {\n",
       "            background-color:  #fff6e5;\n",
       "        }    #T_398bf2d4_5303_11e9_8673_4c3275917579row6_col0 {\n",
       "            background-color:  #fff3dd;\n",
       "        }    #T_398bf2d4_5303_11e9_8673_4c3275917579row6_col1 {\n",
       "            background-color:  #fff2d9;\n",
       "        }    #T_398bf2d4_5303_11e9_8673_4c3275917579row6_col2 {\n",
       "            background-color:  #fff2da;\n",
       "        }    #T_398bf2d4_5303_11e9_8673_4c3275917579row7_col0 {\n",
       "            background-color:  #fff5e3;\n",
       "        }    #T_398bf2d4_5303_11e9_8673_4c3275917579row7_col1 {\n",
       "            background-color:  #fff5e3;\n",
       "        }    #T_398bf2d4_5303_11e9_8673_4c3275917579row7_col2 {\n",
       "            background-color:  #fff5e3;\n",
       "        }    #T_398bf2d4_5303_11e9_8673_4c3275917579row8_col0 {\n",
       "            background-color:  #fff5e3;\n",
       "        }    #T_398bf2d4_5303_11e9_8673_4c3275917579row8_col1 {\n",
       "            background-color:  #fff5e3;\n",
       "        }    #T_398bf2d4_5303_11e9_8673_4c3275917579row8_col2 {\n",
       "            background-color:  #fff5e3;\n",
       "        }    #T_398bf2d4_5303_11e9_8673_4c3275917579row9_col0 {\n",
       "            background-color:  #ffedcc;\n",
       "        }    #T_398bf2d4_5303_11e9_8673_4c3275917579row9_col1 {\n",
       "            background-color:  #ffeed0;\n",
       "        }    #T_398bf2d4_5303_11e9_8673_4c3275917579row9_col2 {\n",
       "            background-color:  #ffeecf;\n",
       "        }    #T_398bf2d4_5303_11e9_8673_4c3275917579row10_col0 {\n",
       "            background-color:  #fff6e5;\n",
       "        }    #T_398bf2d4_5303_11e9_8673_4c3275917579row10_col1 {\n",
       "            background-color:  #fff6e5;\n",
       "        }    #T_398bf2d4_5303_11e9_8673_4c3275917579row10_col2 {\n",
       "            background-color:  #fff6e5;\n",
       "        }    #T_398bf2d4_5303_11e9_8673_4c3275917579row11_col0 {\n",
       "            background-color:  #fff0d3;\n",
       "        }    #T_398bf2d4_5303_11e9_8673_4c3275917579row11_col1 {\n",
       "            background-color:  #fff3dd;\n",
       "        }    #T_398bf2d4_5303_11e9_8673_4c3275917579row11_col2 {\n",
       "            background-color:  #fff3dc;\n",
       "        }    #T_398bf2d4_5303_11e9_8673_4c3275917579row12_col0 {\n",
       "            background-color:  #fff6e5;\n",
       "        }    #T_398bf2d4_5303_11e9_8673_4c3275917579row12_col1 {\n",
       "            background-color:  #fff6e5;\n",
       "        }    #T_398bf2d4_5303_11e9_8673_4c3275917579row12_col2 {\n",
       "            background-color:  #fff6e5;\n",
       "        }    #T_398bf2d4_5303_11e9_8673_4c3275917579row13_col0 {\n",
       "            background-color:  #fff5e3;\n",
       "        }    #T_398bf2d4_5303_11e9_8673_4c3275917579row13_col1 {\n",
       "            background-color:  #fff4e1;\n",
       "        }    #T_398bf2d4_5303_11e9_8673_4c3275917579row13_col2 {\n",
       "            background-color:  #fff4e1;\n",
       "        }    #T_398bf2d4_5303_11e9_8673_4c3275917579row14_col0 {\n",
       "            background-color:  #ffa500;\n",
       "        }    #T_398bf2d4_5303_11e9_8673_4c3275917579row14_col1 {\n",
       "            background-color:  #ffa500;\n",
       "        }    #T_398bf2d4_5303_11e9_8673_4c3275917579row14_col2 {\n",
       "            background-color:  #ffa500;\n",
       "        }</style>  \n",
       "<table id=\"T_398bf2d4_5303_11e9_8673_4c3275917579\" > \n",
       "<thead>    <tr> \n",
       "        <th class=\"index_name level0\" >loan_status</th> \n",
       "        <th class=\"col_heading level0 col0\" >Charged Off</th> \n",
       "        <th class=\"col_heading level0 col1\" >Fully Paid</th> \n",
       "        <th class=\"col_heading level0 col2\" >All</th> \n",
       "    </tr>    <tr> \n",
       "        <th class=\"index_name level0\" >purpose</th> \n",
       "        <th class=\"blank\" ></th> \n",
       "        <th class=\"blank\" ></th> \n",
       "        <th class=\"blank\" ></th> \n",
       "    </tr></thead> \n",
       "<tbody>    <tr> \n",
       "        <th id=\"T_398bf2d4_5303_11e9_8673_4c3275917579level0_row0\" class=\"row_heading level0 row0\" >car</th> \n",
       "        <td id=\"T_398bf2d4_5303_11e9_8673_4c3275917579row0_col0\" class=\"data row0 col0\" >159</td> \n",
       "        <td id=\"T_398bf2d4_5303_11e9_8673_4c3275917579row0_col1\" class=\"data row0 col1\" >1338</td> \n",
       "        <td id=\"T_398bf2d4_5303_11e9_8673_4c3275917579row0_col2\" class=\"data row0 col2\" >1497</td> \n",
       "    </tr>    <tr> \n",
       "        <th id=\"T_398bf2d4_5303_11e9_8673_4c3275917579level0_row1\" class=\"row_heading level0 row1\" >credit_card</th> \n",
       "        <td id=\"T_398bf2d4_5303_11e9_8673_4c3275917579row1_col0\" class=\"data row1 col0\" >540</td> \n",
       "        <td id=\"T_398bf2d4_5303_11e9_8673_4c3275917579row1_col1\" class=\"data row1 col1\" >4476</td> \n",
       "        <td id=\"T_398bf2d4_5303_11e9_8673_4c3275917579row1_col2\" class=\"data row1 col2\" >5016</td> \n",
       "    </tr>    <tr> \n",
       "        <th id=\"T_398bf2d4_5303_11e9_8673_4c3275917579level0_row2\" class=\"row_heading level0 row2\" >debt_consolidation</th> \n",
       "        <td id=\"T_398bf2d4_5303_11e9_8673_4c3275917579row2_col0\" class=\"data row2 col0\" >2760</td> \n",
       "        <td id=\"T_398bf2d4_5303_11e9_8673_4c3275917579row2_col1\" class=\"data row2 col1\" >15254</td> \n",
       "        <td id=\"T_398bf2d4_5303_11e9_8673_4c3275917579row2_col2\" class=\"data row2 col2\" >18014</td> \n",
       "    </tr>    <tr> \n",
       "        <th id=\"T_398bf2d4_5303_11e9_8673_4c3275917579level0_row3\" class=\"row_heading level0 row3\" >educational</th> \n",
       "        <td id=\"T_398bf2d4_5303_11e9_8673_4c3275917579row3_col0\" class=\"data row3 col0\" >56</td> \n",
       "        <td id=\"T_398bf2d4_5303_11e9_8673_4c3275917579row3_col1\" class=\"data row3 col1\" >266</td> \n",
       "        <td id=\"T_398bf2d4_5303_11e9_8673_4c3275917579row3_col2\" class=\"data row3 col2\" >322</td> \n",
       "    </tr>    <tr> \n",
       "        <th id=\"T_398bf2d4_5303_11e9_8673_4c3275917579level0_row4\" class=\"row_heading level0 row4\" >home_improvement</th> \n",
       "        <td id=\"T_398bf2d4_5303_11e9_8673_4c3275917579row4_col0\" class=\"data row4 col0\" >346</td> \n",
       "        <td id=\"T_398bf2d4_5303_11e9_8673_4c3275917579row4_col1\" class=\"data row4 col1\" >2524</td> \n",
       "        <td id=\"T_398bf2d4_5303_11e9_8673_4c3275917579row4_col2\" class=\"data row4 col2\" >2870</td> \n",
       "    </tr>    <tr> \n",
       "        <th id=\"T_398bf2d4_5303_11e9_8673_4c3275917579level0_row5\" class=\"row_heading level0 row5\" >house</th> \n",
       "        <td id=\"T_398bf2d4_5303_11e9_8673_4c3275917579row5_col0\" class=\"data row5 col0\" >59</td> \n",
       "        <td id=\"T_398bf2d4_5303_11e9_8673_4c3275917579row5_col1\" class=\"data row5 col1\" >307</td> \n",
       "        <td id=\"T_398bf2d4_5303_11e9_8673_4c3275917579row5_col2\" class=\"data row5 col2\" >366</td> \n",
       "    </tr>    <tr> \n",
       "        <th id=\"T_398bf2d4_5303_11e9_8673_4c3275917579level0_row6\" class=\"row_heading level0 row6\" >major_purchase</th> \n",
       "        <td id=\"T_398bf2d4_5303_11e9_8673_4c3275917579row6_col0\" class=\"data row6 col0\" >222</td> \n",
       "        <td id=\"T_398bf2d4_5303_11e9_8673_4c3275917579row6_col1\" class=\"data row6 col1\" >1921</td> \n",
       "        <td id=\"T_398bf2d4_5303_11e9_8673_4c3275917579row6_col2\" class=\"data row6 col2\" >2143</td> \n",
       "    </tr>    <tr> \n",
       "        <th id=\"T_398bf2d4_5303_11e9_8673_4c3275917579level0_row7\" class=\"row_heading level0 row7\" >medical</th> \n",
       "        <td id=\"T_398bf2d4_5303_11e9_8673_4c3275917579row7_col0\" class=\"data row7 col0\" >106</td> \n",
       "        <td id=\"T_398bf2d4_5303_11e9_8673_4c3275917579row7_col1\" class=\"data row7 col1\" >572</td> \n",
       "        <td id=\"T_398bf2d4_5303_11e9_8673_4c3275917579row7_col2\" class=\"data row7 col2\" >678</td> \n",
       "    </tr>    <tr> \n",
       "        <th id=\"T_398bf2d4_5303_11e9_8673_4c3275917579level0_row8\" class=\"row_heading level0 row8\" >moving</th> \n",
       "        <td id=\"T_398bf2d4_5303_11e9_8673_4c3275917579row8_col0\" class=\"data row8 col0\" >91</td> \n",
       "        <td id=\"T_398bf2d4_5303_11e9_8673_4c3275917579row8_col1\" class=\"data row8 col1\" >484</td> \n",
       "        <td id=\"T_398bf2d4_5303_11e9_8673_4c3275917579row8_col2\" class=\"data row8 col2\" >575</td> \n",
       "    </tr>    <tr> \n",
       "        <th id=\"T_398bf2d4_5303_11e9_8673_4c3275917579level0_row9\" class=\"row_heading level0 row9\" >other</th> \n",
       "        <td id=\"T_398bf2d4_5303_11e9_8673_4c3275917579row9_col0\" class=\"data row9 col0\" >631</td> \n",
       "        <td id=\"T_398bf2d4_5303_11e9_8673_4c3275917579row9_col1\" class=\"data row9 col1\" >3219</td> \n",
       "        <td id=\"T_398bf2d4_5303_11e9_8673_4c3275917579row9_col2\" class=\"data row9 col2\" >3850</td> \n",
       "    </tr>    <tr> \n",
       "        <th id=\"T_398bf2d4_5303_11e9_8673_4c3275917579level0_row10\" class=\"row_heading level0 row10\" >renewable_energy</th> \n",
       "        <td id=\"T_398bf2d4_5303_11e9_8673_4c3275917579row10_col0\" class=\"data row10 col0\" >19</td> \n",
       "        <td id=\"T_398bf2d4_5303_11e9_8673_4c3275917579row10_col1\" class=\"data row10 col1\" >82</td> \n",
       "        <td id=\"T_398bf2d4_5303_11e9_8673_4c3275917579row10_col2\" class=\"data row10 col2\" >101</td> \n",
       "    </tr>    <tr> \n",
       "        <th id=\"T_398bf2d4_5303_11e9_8673_4c3275917579level0_row11\" class=\"row_heading level0 row11\" >small_business</th> \n",
       "        <td id=\"T_398bf2d4_5303_11e9_8673_4c3275917579row11_col0\" class=\"data row11 col0\" >471</td> \n",
       "        <td id=\"T_398bf2d4_5303_11e9_8673_4c3275917579row11_col1\" class=\"data row11 col1\" >1273</td> \n",
       "        <td id=\"T_398bf2d4_5303_11e9_8673_4c3275917579row11_col2\" class=\"data row11 col2\" >1744</td> \n",
       "    </tr>    <tr> \n",
       "        <th id=\"T_398bf2d4_5303_11e9_8673_4c3275917579level0_row12\" class=\"row_heading level0 row12\" >vacation</th> \n",
       "        <td id=\"T_398bf2d4_5303_11e9_8673_4c3275917579row12_col0\" class=\"data row12 col0\" >53</td> \n",
       "        <td id=\"T_398bf2d4_5303_11e9_8673_4c3275917579row12_col1\" class=\"data row12 col1\" >322</td> \n",
       "        <td id=\"T_398bf2d4_5303_11e9_8673_4c3275917579row12_col2\" class=\"data row12 col2\" >375</td> \n",
       "    </tr>    <tr> \n",
       "        <th id=\"T_398bf2d4_5303_11e9_8673_4c3275917579level0_row13\" class=\"row_heading level0 row13\" >wedding</th> \n",
       "        <td id=\"T_398bf2d4_5303_11e9_8673_4c3275917579row13_col0\" class=\"data row13 col0\" >96</td> \n",
       "        <td id=\"T_398bf2d4_5303_11e9_8673_4c3275917579row13_col1\" class=\"data row13 col1\" >829</td> \n",
       "        <td id=\"T_398bf2d4_5303_11e9_8673_4c3275917579row13_col2\" class=\"data row13 col2\" >925</td> \n",
       "    </tr>    <tr> \n",
       "        <th id=\"T_398bf2d4_5303_11e9_8673_4c3275917579level0_row14\" class=\"row_heading level0 row14\" >All</th> \n",
       "        <td id=\"T_398bf2d4_5303_11e9_8673_4c3275917579row14_col0\" class=\"data row14 col0\" >5609</td> \n",
       "        <td id=\"T_398bf2d4_5303_11e9_8673_4c3275917579row14_col1\" class=\"data row14 col1\" >32867</td> \n",
       "        <td id=\"T_398bf2d4_5303_11e9_8673_4c3275917579row14_col2\" class=\"data row14 col2\" >38476</td> \n",
       "    </tr></tbody> \n",
       "</table> "
      ],
      "text/plain": [
       "<pandas.io.formats.style.Styler at 0x1a11b03a58>"
      ]
     },
     "execution_count": 113,
     "metadata": {},
     "output_type": "execute_result"
    }
   ],
   "source": [
    "cm = sns.light_palette(\"orange\", as_cmap=True)\n",
    "pd.crosstab(loan_not_current_df['purpose'], loan_not_current_df['loan_status'], margins=True).style.background_gradient(cmap = cm)"
   ]
  },
  {
   "cell_type": "code",
   "execution_count": 57,
   "metadata": {},
   "outputs": [
    {
     "data": {
      "text/plain": [
       "verification_status  loan_status\n",
       "Not Verified         Charged Off     5.541117\n",
       "                     Fully Paid     37.704023\n",
       "Verified             Charged Off     9.036802\n",
       "                     Fully Paid     47.718058\n",
       "Name: id, dtype: float64"
      ]
     },
     "execution_count": 57,
     "metadata": {},
     "output_type": "execute_result"
    }
   ],
   "source": [
    "# Total Defaulter based on verification_status\n",
    "(loan_not_current_df.groupby(['verification_status','loan_status'])['id'].count()/len(loan_not_current_df.index))*100"
   ]
  },
  {
   "cell_type": "code",
   "execution_count": 58,
   "metadata": {},
   "outputs": [
    {
     "data": {
      "text/html": [
       "<style  type=\"text/css\" >\n",
       "    #T_95093d2c_5300_11e9_955d_4c3275917579row0_col0 {\n",
       "            background-color:  #fff6e5;\n",
       "        }    #T_95093d2c_5300_11e9_955d_4c3275917579row0_col1 {\n",
       "            background-color:  #fff6e5;\n",
       "        }    #T_95093d2c_5300_11e9_955d_4c3275917579row0_col2 {\n",
       "            background-color:  #fff6e5;\n",
       "        }    #T_95093d2c_5300_11e9_955d_4c3275917579row1_col0 {\n",
       "            background-color:  #ffb121;\n",
       "        }    #T_95093d2c_5300_11e9_955d_4c3275917579row1_col1 {\n",
       "            background-color:  #ffb42b;\n",
       "        }    #T_95093d2c_5300_11e9_955d_4c3275917579row1_col2 {\n",
       "            background-color:  #ffb327;\n",
       "        }    #T_95093d2c_5300_11e9_955d_4c3275917579row2_col0 {\n",
       "            background-color:  #ffa500;\n",
       "        }    #T_95093d2c_5300_11e9_955d_4c3275917579row2_col1 {\n",
       "            background-color:  #ffa500;\n",
       "        }    #T_95093d2c_5300_11e9_955d_4c3275917579row2_col2 {\n",
       "            background-color:  #ffa500;\n",
       "        }</style>  \n",
       "<table id=\"T_95093d2c_5300_11e9_955d_4c3275917579\" > \n",
       "<thead>    <tr> \n",
       "        <th class=\"index_name level0\" >verification_status</th> \n",
       "        <th class=\"col_heading level0 col0\" >Not Verified</th> \n",
       "        <th class=\"col_heading level0 col1\" >Verified</th> \n",
       "        <th class=\"col_heading level0 col2\" >All</th> \n",
       "    </tr>    <tr> \n",
       "        <th class=\"index_name level0\" >loan_status</th> \n",
       "        <th class=\"blank\" ></th> \n",
       "        <th class=\"blank\" ></th> \n",
       "        <th class=\"blank\" ></th> \n",
       "    </tr></thead> \n",
       "<tbody>    <tr> \n",
       "        <th id=\"T_95093d2c_5300_11e9_955d_4c3275917579level0_row0\" class=\"row_heading level0 row0\" >Charged Off</th> \n",
       "        <td id=\"T_95093d2c_5300_11e9_955d_4c3275917579row0_col0\" class=\"data row0 col0\" >2132</td> \n",
       "        <td id=\"T_95093d2c_5300_11e9_955d_4c3275917579row0_col1\" class=\"data row0 col1\" >3477</td> \n",
       "        <td id=\"T_95093d2c_5300_11e9_955d_4c3275917579row0_col2\" class=\"data row0 col2\" >5609</td> \n",
       "    </tr>    <tr> \n",
       "        <th id=\"T_95093d2c_5300_11e9_955d_4c3275917579level0_row1\" class=\"row_heading level0 row1\" >Fully Paid</th> \n",
       "        <td id=\"T_95093d2c_5300_11e9_955d_4c3275917579row1_col0\" class=\"data row1 col0\" >14507</td> \n",
       "        <td id=\"T_95093d2c_5300_11e9_955d_4c3275917579row1_col1\" class=\"data row1 col1\" >18360</td> \n",
       "        <td id=\"T_95093d2c_5300_11e9_955d_4c3275917579row1_col2\" class=\"data row1 col2\" >32867</td> \n",
       "    </tr>    <tr> \n",
       "        <th id=\"T_95093d2c_5300_11e9_955d_4c3275917579level0_row2\" class=\"row_heading level0 row2\" >All</th> \n",
       "        <td id=\"T_95093d2c_5300_11e9_955d_4c3275917579row2_col0\" class=\"data row2 col0\" >16639</td> \n",
       "        <td id=\"T_95093d2c_5300_11e9_955d_4c3275917579row2_col1\" class=\"data row2 col1\" >21837</td> \n",
       "        <td id=\"T_95093d2c_5300_11e9_955d_4c3275917579row2_col2\" class=\"data row2 col2\" >38476</td> \n",
       "    </tr></tbody> \n",
       "</table> "
      ],
      "text/plain": [
       "<pandas.io.formats.style.Styler at 0x10cab96a0>"
      ]
     },
     "execution_count": 58,
     "metadata": {},
     "output_type": "execute_result"
    }
   ],
   "source": [
    "cm = sns.light_palette(\"orange\", as_cmap=True)\n",
    "pd.crosstab(loan_not_current_df['loan_status'], loan_not_current_df['verification_status'], margins=True).style.background_gradient(cmap = cm)"
   ]
  },
  {
   "cell_type": "code",
   "execution_count": 59,
   "metadata": {},
   "outputs": [
    {
     "data": {
      "text/plain": [
       "grade  loan_status\n",
       "A      Charged Off     1.559414\n",
       "       Fully Paid     24.482794\n",
       "B      Charged Off     3.688013\n",
       "       Fully Paid     26.567211\n",
       "C      Charged Off     3.495686\n",
       "       Fully Paid     16.823474\n",
       "D      Charged Off     2.892712\n",
       "       Fully Paid     10.279135\n",
       "E      Charged Off     1.853103\n",
       "       Fully Paid      5.049901\n",
       "F      Charged Off     0.826489\n",
       "       Fully Paid      1.704959\n",
       "G      Charged Off     0.262501\n",
       "       Fully Paid      0.514607\n",
       "Name: id, dtype: float64"
      ]
     },
     "execution_count": 59,
     "metadata": {},
     "output_type": "execute_result"
    }
   ],
   "source": [
    "# Total Defaulter based on grade\n",
    "(loan_not_current_df.groupby(['grade','loan_status'])['id'].count()/len(loan_not_current_df.index))*100"
   ]
  },
  {
   "cell_type": "code",
   "execution_count": 60,
   "metadata": {},
   "outputs": [
    {
     "data": {
      "text/html": [
       "<style  type=\"text/css\" >\n",
       "    #T_9523bd0a_5300_11e9_a1e1_4c3275917579row0_col0 {\n",
       "            background-color:  #fff6e5;\n",
       "        }    #T_9523bd0a_5300_11e9_a1e1_4c3275917579row0_col1 {\n",
       "            background-color:  #ffa500;\n",
       "        }    #T_9523bd0a_5300_11e9_a1e1_4c3275917579row0_col2 {\n",
       "            background-color:  #fff6e5;\n",
       "        }    #T_9523bd0a_5300_11e9_a1e1_4c3275917579row1_col0 {\n",
       "            background-color:  #ffe4b2;\n",
       "        }    #T_9523bd0a_5300_11e9_a1e1_4c3275917579row1_col1 {\n",
       "            background-color:  #ffb733;\n",
       "        }    #T_9523bd0a_5300_11e9_a1e1_4c3275917579row1_col2 {\n",
       "            background-color:  #fff6e5;\n",
       "        }    #T_9523bd0a_5300_11e9_a1e1_4c3275917579row2_col0 {\n",
       "            background-color:  #ffd589;\n",
       "        }    #T_9523bd0a_5300_11e9_a1e1_4c3275917579row2_col1 {\n",
       "            background-color:  #ffc65d;\n",
       "        }    #T_9523bd0a_5300_11e9_a1e1_4c3275917579row2_col2 {\n",
       "            background-color:  #fff6e5;\n",
       "        }    #T_9523bd0a_5300_11e9_a1e1_4c3275917579row3_col0 {\n",
       "            background-color:  #ffc761;\n",
       "        }    #T_9523bd0a_5300_11e9_a1e1_4c3275917579row3_col1 {\n",
       "            background-color:  #ffd484;\n",
       "        }    #T_9523bd0a_5300_11e9_a1e1_4c3275917579row3_col2 {\n",
       "            background-color:  #fff6e5;\n",
       "        }    #T_9523bd0a_5300_11e9_a1e1_4c3275917579row4_col0 {\n",
       "            background-color:  #ffb939;\n",
       "        }    #T_9523bd0a_5300_11e9_a1e1_4c3275917579row4_col1 {\n",
       "            background-color:  #ffe2ad;\n",
       "        }    #T_9523bd0a_5300_11e9_a1e1_4c3275917579row4_col2 {\n",
       "            background-color:  #fff6e5;\n",
       "        }    #T_9523bd0a_5300_11e9_a1e1_4c3275917579row5_col0 {\n",
       "            background-color:  #ffa809;\n",
       "        }    #T_9523bd0a_5300_11e9_a1e1_4c3275917579row5_col1 {\n",
       "            background-color:  #fff3dc;\n",
       "        }    #T_9523bd0a_5300_11e9_a1e1_4c3275917579row5_col2 {\n",
       "            background-color:  #fff6e5;\n",
       "        }    #T_9523bd0a_5300_11e9_a1e1_4c3275917579row6_col0 {\n",
       "            background-color:  #ffa500;\n",
       "        }    #T_9523bd0a_5300_11e9_a1e1_4c3275917579row6_col1 {\n",
       "            background-color:  #fff6e5;\n",
       "        }    #T_9523bd0a_5300_11e9_a1e1_4c3275917579row6_col2 {\n",
       "            background-color:  #fff6e5;\n",
       "        }    #T_9523bd0a_5300_11e9_a1e1_4c3275917579row7_col0 {\n",
       "            background-color:  #ffdd9e;\n",
       "        }    #T_9523bd0a_5300_11e9_a1e1_4c3275917579row7_col1 {\n",
       "            background-color:  #ffbe47;\n",
       "        }    #T_9523bd0a_5300_11e9_a1e1_4c3275917579row7_col2 {\n",
       "            background-color:  #fff6e5;\n",
       "        }</style>  \n",
       "<table id=\"T_9523bd0a_5300_11e9_a1e1_4c3275917579\" > \n",
       "<thead>    <tr> \n",
       "        <th class=\"index_name level0\" >loan_status</th> \n",
       "        <th class=\"col_heading level0 col0\" >Charged Off</th> \n",
       "        <th class=\"col_heading level0 col1\" >Fully Paid</th> \n",
       "        <th class=\"col_heading level0 col2\" >All</th> \n",
       "    </tr>    <tr> \n",
       "        <th class=\"index_name level0\" >grade</th> \n",
       "        <th class=\"blank\" ></th> \n",
       "        <th class=\"blank\" ></th> \n",
       "        <th class=\"blank\" ></th> \n",
       "    </tr></thead> \n",
       "<tbody>    <tr> \n",
       "        <th id=\"T_9523bd0a_5300_11e9_a1e1_4c3275917579level0_row0\" class=\"row_heading level0 row0\" >A</th> \n",
       "        <td id=\"T_9523bd0a_5300_11e9_a1e1_4c3275917579row0_col0\" class=\"data row0 col0\" >0.0299401</td> \n",
       "        <td id=\"T_9523bd0a_5300_11e9_a1e1_4c3275917579row0_col1\" class=\"data row0 col1\" >0.47006</td> \n",
       "        <td id=\"T_9523bd0a_5300_11e9_a1e1_4c3275917579row0_col2\" class=\"data row0 col2\" >0.5</td> \n",
       "    </tr>    <tr> \n",
       "        <th id=\"T_9523bd0a_5300_11e9_a1e1_4c3275917579level0_row1\" class=\"row_heading level0 row1\" >B</th> \n",
       "        <td id=\"T_9523bd0a_5300_11e9_a1e1_4c3275917579row1_col0\" class=\"data row1 col0\" >0.0609484</td> \n",
       "        <td id=\"T_9523bd0a_5300_11e9_a1e1_4c3275917579row1_col1\" class=\"data row1 col1\" >0.439052</td> \n",
       "        <td id=\"T_9523bd0a_5300_11e9_a1e1_4c3275917579row1_col2\" class=\"data row1 col2\" >0.5</td> \n",
       "    </tr>    <tr> \n",
       "        <th id=\"T_9523bd0a_5300_11e9_a1e1_4c3275917579level0_row2\" class=\"row_heading level0 row2\" >C</th> \n",
       "        <td id=\"T_9523bd0a_5300_11e9_a1e1_4c3275917579row2_col0\" class=\"data row2 col0\" >0.0860194</td> \n",
       "        <td id=\"T_9523bd0a_5300_11e9_a1e1_4c3275917579row2_col1\" class=\"data row2 col1\" >0.413981</td> \n",
       "        <td id=\"T_9523bd0a_5300_11e9_a1e1_4c3275917579row2_col2\" class=\"data row2 col2\" >0.5</td> \n",
       "    </tr>    <tr> \n",
       "        <th id=\"T_9523bd0a_5300_11e9_a1e1_4c3275917579level0_row3\" class=\"row_heading level0 row3\" >D</th> \n",
       "        <td id=\"T_9523bd0a_5300_11e9_a1e1_4c3275917579row3_col0\" class=\"data row3 col0\" >0.109807</td> \n",
       "        <td id=\"T_9523bd0a_5300_11e9_a1e1_4c3275917579row3_col1\" class=\"data row3 col1\" >0.390193</td> \n",
       "        <td id=\"T_9523bd0a_5300_11e9_a1e1_4c3275917579row3_col2\" class=\"data row3 col2\" >0.5</td> \n",
       "    </tr>    <tr> \n",
       "        <th id=\"T_9523bd0a_5300_11e9_a1e1_4c3275917579level0_row4\" class=\"row_heading level0 row4\" >E</th> \n",
       "        <td id=\"T_9523bd0a_5300_11e9_a1e1_4c3275917579row4_col0\" class=\"data row4 col0\" >0.134224</td> \n",
       "        <td id=\"T_9523bd0a_5300_11e9_a1e1_4c3275917579row4_col1\" class=\"data row4 col1\" >0.365776</td> \n",
       "        <td id=\"T_9523bd0a_5300_11e9_a1e1_4c3275917579row4_col2\" class=\"data row4 col2\" >0.5</td> \n",
       "    </tr>    <tr> \n",
       "        <th id=\"T_9523bd0a_5300_11e9_a1e1_4c3275917579level0_row5\" class=\"row_heading level0 row5\" >F</th> \n",
       "        <td id=\"T_9523bd0a_5300_11e9_a1e1_4c3275917579row5_col0\" class=\"data row5 col0\" >0.163244</td> \n",
       "        <td id=\"T_9523bd0a_5300_11e9_a1e1_4c3275917579row5_col1\" class=\"data row5 col1\" >0.336756</td> \n",
       "        <td id=\"T_9523bd0a_5300_11e9_a1e1_4c3275917579row5_col2\" class=\"data row5 col2\" >0.5</td> \n",
       "    </tr>    <tr> \n",
       "        <th id=\"T_9523bd0a_5300_11e9_a1e1_4c3275917579level0_row6\" class=\"row_heading level0 row6\" >G</th> \n",
       "        <td id=\"T_9523bd0a_5300_11e9_a1e1_4c3275917579row6_col0\" class=\"data row6 col0\" >0.168896</td> \n",
       "        <td id=\"T_9523bd0a_5300_11e9_a1e1_4c3275917579row6_col1\" class=\"data row6 col1\" >0.331104</td> \n",
       "        <td id=\"T_9523bd0a_5300_11e9_a1e1_4c3275917579row6_col2\" class=\"data row6 col2\" >0.5</td> \n",
       "    </tr>    <tr> \n",
       "        <th id=\"T_9523bd0a_5300_11e9_a1e1_4c3275917579level0_row7\" class=\"row_heading level0 row7\" >All</th> \n",
       "        <td id=\"T_9523bd0a_5300_11e9_a1e1_4c3275917579row7_col0\" class=\"data row7 col0\" >0.0728896</td> \n",
       "        <td id=\"T_9523bd0a_5300_11e9_a1e1_4c3275917579row7_col1\" class=\"data row7 col1\" >0.42711</td> \n",
       "        <td id=\"T_9523bd0a_5300_11e9_a1e1_4c3275917579row7_col2\" class=\"data row7 col2\" >0.5</td> \n",
       "    </tr></tbody> \n",
       "</table> "
      ],
      "text/plain": [
       "<pandas.io.formats.style.Styler at 0x10cab9780>"
      ]
     },
     "execution_count": 60,
     "metadata": {},
     "output_type": "execute_result"
    }
   ],
   "source": [
    "cm = sns.light_palette(\"orange\", as_cmap=True)\n",
    "pd.crosstab(loan_not_current_df['grade'], loan_not_current_df['loan_status'], margins=True).apply(lambda r: r/r.sum(), axis=1).style.background_gradient(cmap = cm)"
   ]
  },
  {
   "cell_type": "code",
   "execution_count": 61,
   "metadata": {},
   "outputs": [
    {
     "data": {
      "text/html": [
       "<style  type=\"text/css\" >\n",
       "    #T_95352e9e_5300_11e9_aee8_4c3275917579row0_col0 {\n",
       "            background-color:  #ffefd1;\n",
       "        }    #T_95352e9e_5300_11e9_aee8_4c3275917579row0_col1 {\n",
       "            background-color:  #ffdfa5;\n",
       "        }    #T_95352e9e_5300_11e9_aee8_4c3275917579row0_col2 {\n",
       "            background-color:  #ffe1ab;\n",
       "        }    #T_95352e9e_5300_11e9_aee8_4c3275917579row1_col0 {\n",
       "            background-color:  #ffe3af;\n",
       "        }    #T_95352e9e_5300_11e9_aee8_4c3275917579row1_col1 {\n",
       "            background-color:  #ffdd9f;\n",
       "        }    #T_95352e9e_5300_11e9_aee8_4c3275917579row1_col2 {\n",
       "            background-color:  #ffdea1;\n",
       "        }    #T_95352e9e_5300_11e9_aee8_4c3275917579row2_col0 {\n",
       "            background-color:  #ffe4b2;\n",
       "        }    #T_95352e9e_5300_11e9_aee8_4c3275917579row2_col1 {\n",
       "            background-color:  #ffe6b9;\n",
       "        }    #T_95352e9e_5300_11e9_aee8_4c3275917579row2_col2 {\n",
       "            background-color:  #ffe6b8;\n",
       "        }    #T_95352e9e_5300_11e9_aee8_4c3275917579row3_col0 {\n",
       "            background-color:  #ffe7bb;\n",
       "        }    #T_95352e9e_5300_11e9_aee8_4c3275917579row3_col1 {\n",
       "            background-color:  #ffedcb;\n",
       "        }    #T_95352e9e_5300_11e9_aee8_4c3275917579row3_col2 {\n",
       "            background-color:  #ffecca;\n",
       "        }    #T_95352e9e_5300_11e9_aee8_4c3275917579row4_col0 {\n",
       "            background-color:  #ffedcc;\n",
       "        }    #T_95352e9e_5300_11e9_aee8_4c3275917579row4_col1 {\n",
       "            background-color:  #fff2da;\n",
       "        }    #T_95352e9e_5300_11e9_aee8_4c3275917579row4_col2 {\n",
       "            background-color:  #fff1d8;\n",
       "        }    #T_95352e9e_5300_11e9_aee8_4c3275917579row5_col0 {\n",
       "            background-color:  #fff3dc;\n",
       "        }    #T_95352e9e_5300_11e9_aee8_4c3275917579row5_col1 {\n",
       "            background-color:  #fff5e3;\n",
       "        }    #T_95352e9e_5300_11e9_aee8_4c3275917579row5_col2 {\n",
       "            background-color:  #fff5e2;\n",
       "        }    #T_95352e9e_5300_11e9_aee8_4c3275917579row6_col0 {\n",
       "            background-color:  #fff6e5;\n",
       "        }    #T_95352e9e_5300_11e9_aee8_4c3275917579row6_col1 {\n",
       "            background-color:  #fff6e5;\n",
       "        }    #T_95352e9e_5300_11e9_aee8_4c3275917579row6_col2 {\n",
       "            background-color:  #fff6e5;\n",
       "        }    #T_95352e9e_5300_11e9_aee8_4c3275917579row7_col0 {\n",
       "            background-color:  #ffa500;\n",
       "        }    #T_95352e9e_5300_11e9_aee8_4c3275917579row7_col1 {\n",
       "            background-color:  #ffa500;\n",
       "        }    #T_95352e9e_5300_11e9_aee8_4c3275917579row7_col2 {\n",
       "            background-color:  #ffa500;\n",
       "        }</style>  \n",
       "<table id=\"T_95352e9e_5300_11e9_aee8_4c3275917579\" > \n",
       "<thead>    <tr> \n",
       "        <th class=\"index_name level0\" >loan_status</th> \n",
       "        <th class=\"col_heading level0 col0\" >Charged Off</th> \n",
       "        <th class=\"col_heading level0 col1\" >Fully Paid</th> \n",
       "        <th class=\"col_heading level0 col2\" >All</th> \n",
       "    </tr>    <tr> \n",
       "        <th class=\"index_name level0\" >grade</th> \n",
       "        <th class=\"blank\" ></th> \n",
       "        <th class=\"blank\" ></th> \n",
       "        <th class=\"blank\" ></th> \n",
       "    </tr></thead> \n",
       "<tbody>    <tr> \n",
       "        <th id=\"T_95352e9e_5300_11e9_aee8_4c3275917579level0_row0\" class=\"row_heading level0 row0\" >A</th> \n",
       "        <td id=\"T_95352e9e_5300_11e9_aee8_4c3275917579row0_col0\" class=\"data row0 col0\" >600</td> \n",
       "        <td id=\"T_95352e9e_5300_11e9_aee8_4c3275917579row0_col1\" class=\"data row0 col1\" >9420</td> \n",
       "        <td id=\"T_95352e9e_5300_11e9_aee8_4c3275917579row0_col2\" class=\"data row0 col2\" >10020</td> \n",
       "    </tr>    <tr> \n",
       "        <th id=\"T_95352e9e_5300_11e9_aee8_4c3275917579level0_row1\" class=\"row_heading level0 row1\" >B</th> \n",
       "        <td id=\"T_95352e9e_5300_11e9_aee8_4c3275917579row1_col0\" class=\"data row1 col0\" >1419</td> \n",
       "        <td id=\"T_95352e9e_5300_11e9_aee8_4c3275917579row1_col1\" class=\"data row1 col1\" >10222</td> \n",
       "        <td id=\"T_95352e9e_5300_11e9_aee8_4c3275917579row1_col2\" class=\"data row1 col2\" >11641</td> \n",
       "    </tr>    <tr> \n",
       "        <th id=\"T_95352e9e_5300_11e9_aee8_4c3275917579level0_row2\" class=\"row_heading level0 row2\" >C</th> \n",
       "        <td id=\"T_95352e9e_5300_11e9_aee8_4c3275917579row2_col0\" class=\"data row2 col0\" >1345</td> \n",
       "        <td id=\"T_95352e9e_5300_11e9_aee8_4c3275917579row2_col1\" class=\"data row2 col1\" >6473</td> \n",
       "        <td id=\"T_95352e9e_5300_11e9_aee8_4c3275917579row2_col2\" class=\"data row2 col2\" >7818</td> \n",
       "    </tr>    <tr> \n",
       "        <th id=\"T_95352e9e_5300_11e9_aee8_4c3275917579level0_row3\" class=\"row_heading level0 row3\" >D</th> \n",
       "        <td id=\"T_95352e9e_5300_11e9_aee8_4c3275917579row3_col0\" class=\"data row3 col0\" >1113</td> \n",
       "        <td id=\"T_95352e9e_5300_11e9_aee8_4c3275917579row3_col1\" class=\"data row3 col1\" >3955</td> \n",
       "        <td id=\"T_95352e9e_5300_11e9_aee8_4c3275917579row3_col2\" class=\"data row3 col2\" >5068</td> \n",
       "    </tr>    <tr> \n",
       "        <th id=\"T_95352e9e_5300_11e9_aee8_4c3275917579level0_row4\" class=\"row_heading level0 row4\" >E</th> \n",
       "        <td id=\"T_95352e9e_5300_11e9_aee8_4c3275917579row4_col0\" class=\"data row4 col0\" >713</td> \n",
       "        <td id=\"T_95352e9e_5300_11e9_aee8_4c3275917579row4_col1\" class=\"data row4 col1\" >1943</td> \n",
       "        <td id=\"T_95352e9e_5300_11e9_aee8_4c3275917579row4_col2\" class=\"data row4 col2\" >2656</td> \n",
       "    </tr>    <tr> \n",
       "        <th id=\"T_95352e9e_5300_11e9_aee8_4c3275917579level0_row5\" class=\"row_heading level0 row5\" >F</th> \n",
       "        <td id=\"T_95352e9e_5300_11e9_aee8_4c3275917579row5_col0\" class=\"data row5 col0\" >318</td> \n",
       "        <td id=\"T_95352e9e_5300_11e9_aee8_4c3275917579row5_col1\" class=\"data row5 col1\" >656</td> \n",
       "        <td id=\"T_95352e9e_5300_11e9_aee8_4c3275917579row5_col2\" class=\"data row5 col2\" >974</td> \n",
       "    </tr>    <tr> \n",
       "        <th id=\"T_95352e9e_5300_11e9_aee8_4c3275917579level0_row6\" class=\"row_heading level0 row6\" >G</th> \n",
       "        <td id=\"T_95352e9e_5300_11e9_aee8_4c3275917579row6_col0\" class=\"data row6 col0\" >101</td> \n",
       "        <td id=\"T_95352e9e_5300_11e9_aee8_4c3275917579row6_col1\" class=\"data row6 col1\" >198</td> \n",
       "        <td id=\"T_95352e9e_5300_11e9_aee8_4c3275917579row6_col2\" class=\"data row6 col2\" >299</td> \n",
       "    </tr>    <tr> \n",
       "        <th id=\"T_95352e9e_5300_11e9_aee8_4c3275917579level0_row7\" class=\"row_heading level0 row7\" >All</th> \n",
       "        <td id=\"T_95352e9e_5300_11e9_aee8_4c3275917579row7_col0\" class=\"data row7 col0\" >5609</td> \n",
       "        <td id=\"T_95352e9e_5300_11e9_aee8_4c3275917579row7_col1\" class=\"data row7 col1\" >32867</td> \n",
       "        <td id=\"T_95352e9e_5300_11e9_aee8_4c3275917579row7_col2\" class=\"data row7 col2\" >38476</td> \n",
       "    </tr></tbody> \n",
       "</table> "
      ],
      "text/plain": [
       "<pandas.io.formats.style.Styler at 0x10cac20f0>"
      ]
     },
     "execution_count": 61,
     "metadata": {},
     "output_type": "execute_result"
    }
   ],
   "source": [
    "cm = sns.light_palette(\"orange\", as_cmap=True)\n",
    "pd.crosstab(loan_not_current_df['grade'], loan_not_current_df['loan_status'], margins=True).style.background_gradient(cmap = cm)"
   ]
  },
  {
   "cell_type": "code",
   "execution_count": 62,
   "metadata": {},
   "outputs": [
    {
     "data": {
      "text/plain": [
       "issue_year  loan_status\n",
       "2007        Charged Off     0.116956\n",
       "            Fully Paid      0.530201\n",
       "2008        Charged Off     0.636761\n",
       "            Fully Paid      3.350140\n",
       "2009        Charged Off     1.510032\n",
       "            Fully Paid     10.570226\n",
       "2010        Charged Off     3.854351\n",
       "            Fully Paid     26.112382\n",
       "2011        Charged Off     8.459819\n",
       "            Fully Paid     44.859133\n",
       "Name: id, dtype: float64"
      ]
     },
     "execution_count": 62,
     "metadata": {},
     "output_type": "execute_result"
    }
   ],
   "source": [
    "# Total Defaulter based on issue_year\n",
    "(loan_not_current_df.groupby(['issue_year','loan_status'])['id'].count()/len(loan_not_current_df.index))*100"
   ]
  },
  {
   "cell_type": "code",
   "execution_count": 63,
   "metadata": {},
   "outputs": [
    {
     "data": {
      "text/html": [
       "<style  type=\"text/css\" >\n",
       "    #T_954f0f64_5300_11e9_96c1_4c3275917579row0_col0 {\n",
       "            background-color:  #fff6e5;\n",
       "        }    #T_954f0f64_5300_11e9_96c1_4c3275917579row0_col1 {\n",
       "            background-color:  #fff6e5;\n",
       "        }    #T_954f0f64_5300_11e9_96c1_4c3275917579row0_col2 {\n",
       "            background-color:  #fff6e5;\n",
       "        }    #T_954f0f64_5300_11e9_96c1_4c3275917579row1_col0 {\n",
       "            background-color:  #fff3dd;\n",
       "        }    #T_954f0f64_5300_11e9_96c1_4c3275917579row1_col1 {\n",
       "            background-color:  #fff3de;\n",
       "        }    #T_954f0f64_5300_11e9_96c1_4c3275917579row1_col2 {\n",
       "            background-color:  #fff3de;\n",
       "        }    #T_954f0f64_5300_11e9_96c1_4c3275917579row2_col0 {\n",
       "            background-color:  #ffeed0;\n",
       "        }    #T_954f0f64_5300_11e9_96c1_4c3275917579row2_col1 {\n",
       "            background-color:  #ffecca;\n",
       "        }    #T_954f0f64_5300_11e9_96c1_4c3275917579row2_col2 {\n",
       "            background-color:  #ffedcb;\n",
       "        }    #T_954f0f64_5300_11e9_96c1_4c3275917579row3_col0 {\n",
       "            background-color:  #ffe1aa;\n",
       "        }    #T_954f0f64_5300_11e9_96c1_4c3275917579row3_col1 {\n",
       "            background-color:  #ffdea0;\n",
       "        }    #T_954f0f64_5300_11e9_96c1_4c3275917579row3_col2 {\n",
       "            background-color:  #ffdea2;\n",
       "        }    #T_954f0f64_5300_11e9_96c1_4c3275917579row4_col0 {\n",
       "            background-color:  #ffc761;\n",
       "        }    #T_954f0f64_5300_11e9_96c1_4c3275917579row4_col1 {\n",
       "            background-color:  #ffcc6e;\n",
       "        }    #T_954f0f64_5300_11e9_96c1_4c3275917579row4_col2 {\n",
       "            background-color:  #ffcb6c;\n",
       "        }    #T_954f0f64_5300_11e9_96c1_4c3275917579row5_col0 {\n",
       "            background-color:  #ffa500;\n",
       "        }    #T_954f0f64_5300_11e9_96c1_4c3275917579row5_col1 {\n",
       "            background-color:  #ffa500;\n",
       "        }    #T_954f0f64_5300_11e9_96c1_4c3275917579row5_col2 {\n",
       "            background-color:  #ffa500;\n",
       "        }</style>  \n",
       "<table id=\"T_954f0f64_5300_11e9_96c1_4c3275917579\" > \n",
       "<thead>    <tr> \n",
       "        <th class=\"index_name level0\" >loan_status</th> \n",
       "        <th class=\"col_heading level0 col0\" >Charged Off</th> \n",
       "        <th class=\"col_heading level0 col1\" >Fully Paid</th> \n",
       "        <th class=\"col_heading level0 col2\" >All</th> \n",
       "    </tr>    <tr> \n",
       "        <th class=\"index_name level0\" >issue_year</th> \n",
       "        <th class=\"blank\" ></th> \n",
       "        <th class=\"blank\" ></th> \n",
       "        <th class=\"blank\" ></th> \n",
       "    </tr></thead> \n",
       "<tbody>    <tr> \n",
       "        <th id=\"T_954f0f64_5300_11e9_96c1_4c3275917579level0_row0\" class=\"row_heading level0 row0\" >2007</th> \n",
       "        <td id=\"T_954f0f64_5300_11e9_96c1_4c3275917579row0_col0\" class=\"data row0 col0\" >45</td> \n",
       "        <td id=\"T_954f0f64_5300_11e9_96c1_4c3275917579row0_col1\" class=\"data row0 col1\" >204</td> \n",
       "        <td id=\"T_954f0f64_5300_11e9_96c1_4c3275917579row0_col2\" class=\"data row0 col2\" >249</td> \n",
       "    </tr>    <tr> \n",
       "        <th id=\"T_954f0f64_5300_11e9_96c1_4c3275917579level0_row1\" class=\"row_heading level0 row1\" >2008</th> \n",
       "        <td id=\"T_954f0f64_5300_11e9_96c1_4c3275917579row1_col0\" class=\"data row1 col0\" >245</td> \n",
       "        <td id=\"T_954f0f64_5300_11e9_96c1_4c3275917579row1_col1\" class=\"data row1 col1\" >1289</td> \n",
       "        <td id=\"T_954f0f64_5300_11e9_96c1_4c3275917579row1_col2\" class=\"data row1 col2\" >1534</td> \n",
       "    </tr>    <tr> \n",
       "        <th id=\"T_954f0f64_5300_11e9_96c1_4c3275917579level0_row2\" class=\"row_heading level0 row2\" >2009</th> \n",
       "        <td id=\"T_954f0f64_5300_11e9_96c1_4c3275917579row2_col0\" class=\"data row2 col0\" >581</td> \n",
       "        <td id=\"T_954f0f64_5300_11e9_96c1_4c3275917579row2_col1\" class=\"data row2 col1\" >4067</td> \n",
       "        <td id=\"T_954f0f64_5300_11e9_96c1_4c3275917579row2_col2\" class=\"data row2 col2\" >4648</td> \n",
       "    </tr>    <tr> \n",
       "        <th id=\"T_954f0f64_5300_11e9_96c1_4c3275917579level0_row3\" class=\"row_heading level0 row3\" >2010</th> \n",
       "        <td id=\"T_954f0f64_5300_11e9_96c1_4c3275917579row3_col0\" class=\"data row3 col0\" >1483</td> \n",
       "        <td id=\"T_954f0f64_5300_11e9_96c1_4c3275917579row3_col1\" class=\"data row3 col1\" >10047</td> \n",
       "        <td id=\"T_954f0f64_5300_11e9_96c1_4c3275917579row3_col2\" class=\"data row3 col2\" >11530</td> \n",
       "    </tr>    <tr> \n",
       "        <th id=\"T_954f0f64_5300_11e9_96c1_4c3275917579level0_row4\" class=\"row_heading level0 row4\" >2011</th> \n",
       "        <td id=\"T_954f0f64_5300_11e9_96c1_4c3275917579row4_col0\" class=\"data row4 col0\" >3255</td> \n",
       "        <td id=\"T_954f0f64_5300_11e9_96c1_4c3275917579row4_col1\" class=\"data row4 col1\" >17260</td> \n",
       "        <td id=\"T_954f0f64_5300_11e9_96c1_4c3275917579row4_col2\" class=\"data row4 col2\" >20515</td> \n",
       "    </tr>    <tr> \n",
       "        <th id=\"T_954f0f64_5300_11e9_96c1_4c3275917579level0_row5\" class=\"row_heading level0 row5\" >All</th> \n",
       "        <td id=\"T_954f0f64_5300_11e9_96c1_4c3275917579row5_col0\" class=\"data row5 col0\" >5609</td> \n",
       "        <td id=\"T_954f0f64_5300_11e9_96c1_4c3275917579row5_col1\" class=\"data row5 col1\" >32867</td> \n",
       "        <td id=\"T_954f0f64_5300_11e9_96c1_4c3275917579row5_col2\" class=\"data row5 col2\" >38476</td> \n",
       "    </tr></tbody> \n",
       "</table> "
      ],
      "text/plain": [
       "<pandas.io.formats.style.Styler at 0x1a11c5be10>"
      ]
     },
     "execution_count": 63,
     "metadata": {},
     "output_type": "execute_result"
    }
   ],
   "source": [
    "cm = sns.light_palette(\"orange\", as_cmap=True)\n",
    "pd.crosstab(loan_not_current_df['issue_year'], loan_not_current_df['loan_status'], margins=True).style.background_gradient(cmap = cm)"
   ]
  },
  {
   "cell_type": "code",
   "execution_count": 64,
   "metadata": {},
   "outputs": [
    {
     "data": {
      "text/plain": [
       "issue_month  loan_status\n",
       "1            Charged Off    0.823890\n",
       "             Fully Paid     5.335794\n",
       "2            Charged Off    0.748519\n",
       "             Fully Paid     5.359185\n",
       "3            Charged Off    0.899262\n",
       "             Fully Paid     6.073916\n",
       "4            Charged Off    0.956440\n",
       "             Fully Paid     6.370205\n",
       "5            Charged Off    1.208546\n",
       "             Fully Paid     6.357210\n",
       "6            Charged Off    1.252729\n",
       "             Fully Paid     6.996569\n",
       "7            Charged Off    1.237135\n",
       "             Fully Paid     7.435804\n",
       "8            Charged Off    1.213744\n",
       "             Fully Paid     7.573552\n",
       "9            Charged Off    1.413868\n",
       "             Fully Paid     7.651523\n",
       "10           Charged Off    1.507433\n",
       "             Fully Paid     8.249298\n",
       "11           Charged Off    1.554216\n",
       "             Fully Paid     8.841875\n",
       "12           Charged Off    1.762137\n",
       "             Fully Paid     9.177149\n",
       "Name: id, dtype: float64"
      ]
     },
     "execution_count": 64,
     "metadata": {},
     "output_type": "execute_result"
    }
   ],
   "source": [
    "# Total Defaulter based on issue_month\n",
    "(loan_not_current_df.groupby(['issue_month','loan_status'])['id'].count()/len(loan_not_current_df.index))*100"
   ]
  },
  {
   "cell_type": "code",
   "execution_count": 65,
   "metadata": {},
   "outputs": [
    {
     "data": {
      "text/html": [
       "<style  type=\"text/css\" >\n",
       "    #T_956485cc_5300_11e9_9c74_4c3275917579row0_col0 {\n",
       "            background-color:  #fff6e5;\n",
       "        }    #T_956485cc_5300_11e9_9c74_4c3275917579row0_col1 {\n",
       "            background-color:  #fff6e5;\n",
       "        }    #T_956485cc_5300_11e9_9c74_4c3275917579row0_col2 {\n",
       "            background-color:  #fff6e5;\n",
       "        }    #T_956485cc_5300_11e9_9c74_4c3275917579row1_col0 {\n",
       "            background-color:  #fff6e5;\n",
       "        }    #T_956485cc_5300_11e9_9c74_4c3275917579row1_col1 {\n",
       "            background-color:  #fff6e5;\n",
       "        }    #T_956485cc_5300_11e9_9c74_4c3275917579row1_col2 {\n",
       "            background-color:  #fff6e5;\n",
       "        }    #T_956485cc_5300_11e9_9c74_4c3275917579row2_col0 {\n",
       "            background-color:  #fff5e4;\n",
       "        }    #T_956485cc_5300_11e9_9c74_4c3275917579row2_col1 {\n",
       "            background-color:  #fff5e4;\n",
       "        }    #T_956485cc_5300_11e9_9c74_4c3275917579row2_col2 {\n",
       "            background-color:  #fff5e4;\n",
       "        }    #T_956485cc_5300_11e9_9c74_4c3275917579row3_col0 {\n",
       "            background-color:  #fff5e3;\n",
       "        }    #T_956485cc_5300_11e9_9c74_4c3275917579row3_col1 {\n",
       "            background-color:  #fff5e3;\n",
       "        }    #T_956485cc_5300_11e9_9c74_4c3275917579row3_col2 {\n",
       "            background-color:  #fff5e3;\n",
       "        }    #T_956485cc_5300_11e9_9c74_4c3275917579row4_col0 {\n",
       "            background-color:  #fff3de;\n",
       "        }    #T_956485cc_5300_11e9_9c74_4c3275917579row4_col1 {\n",
       "            background-color:  #fff5e3;\n",
       "        }    #T_956485cc_5300_11e9_9c74_4c3275917579row4_col2 {\n",
       "            background-color:  #fff5e3;\n",
       "        }    #T_956485cc_5300_11e9_9c74_4c3275917579row5_col0 {\n",
       "            background-color:  #fff3dd;\n",
       "        }    #T_956485cc_5300_11e9_9c74_4c3275917579row5_col1 {\n",
       "            background-color:  #fff4e1;\n",
       "        }    #T_956485cc_5300_11e9_9c74_4c3275917579row5_col2 {\n",
       "            background-color:  #fff4e1;\n",
       "        }    #T_956485cc_5300_11e9_9c74_4c3275917579row6_col0 {\n",
       "            background-color:  #fff3dd;\n",
       "        }    #T_956485cc_5300_11e9_9c74_4c3275917579row6_col1 {\n",
       "            background-color:  #fff4e0;\n",
       "        }    #T_956485cc_5300_11e9_9c74_4c3275917579row6_col2 {\n",
       "            background-color:  #fff4e0;\n",
       "        }    #T_956485cc_5300_11e9_9c74_4c3275917579row7_col0 {\n",
       "            background-color:  #fff3de;\n",
       "        }    #T_956485cc_5300_11e9_9c74_4c3275917579row7_col1 {\n",
       "            background-color:  #fff4df;\n",
       "        }    #T_956485cc_5300_11e9_9c74_4c3275917579row7_col2 {\n",
       "            background-color:  #fff4df;\n",
       "        }    #T_956485cc_5300_11e9_9c74_4c3275917579row8_col0 {\n",
       "            background-color:  #fff2db;\n",
       "        }    #T_956485cc_5300_11e9_9c74_4c3275917579row8_col1 {\n",
       "            background-color:  #fff4df;\n",
       "        }    #T_956485cc_5300_11e9_9c74_4c3275917579row8_col2 {\n",
       "            background-color:  #fff3de;\n",
       "        }    #T_956485cc_5300_11e9_9c74_4c3275917579row9_col0 {\n",
       "            background-color:  #fff2d9;\n",
       "        }    #T_956485cc_5300_11e9_9c74_4c3275917579row9_col1 {\n",
       "            background-color:  #fff3dd;\n",
       "        }    #T_956485cc_5300_11e9_9c74_4c3275917579row9_col2 {\n",
       "            background-color:  #fff3dd;\n",
       "        }    #T_956485cc_5300_11e9_9c74_4c3275917579row10_col0 {\n",
       "            background-color:  #fff2d9;\n",
       "        }    #T_956485cc_5300_11e9_9c74_4c3275917579row10_col1 {\n",
       "            background-color:  #fff3dc;\n",
       "        }    #T_956485cc_5300_11e9_9c74_4c3275917579row10_col2 {\n",
       "            background-color:  #fff3dc;\n",
       "        }    #T_956485cc_5300_11e9_9c74_4c3275917579row11_col0 {\n",
       "            background-color:  #fff0d5;\n",
       "        }    #T_956485cc_5300_11e9_9c74_4c3275917579row11_col1 {\n",
       "            background-color:  #fff2db;\n",
       "        }    #T_956485cc_5300_11e9_9c74_4c3275917579row11_col2 {\n",
       "            background-color:  #fff2da;\n",
       "        }    #T_956485cc_5300_11e9_9c74_4c3275917579row12_col0 {\n",
       "            background-color:  #ffa500;\n",
       "        }    #T_956485cc_5300_11e9_9c74_4c3275917579row12_col1 {\n",
       "            background-color:  #ffa500;\n",
       "        }    #T_956485cc_5300_11e9_9c74_4c3275917579row12_col2 {\n",
       "            background-color:  #ffa500;\n",
       "        }</style>  \n",
       "<table id=\"T_956485cc_5300_11e9_9c74_4c3275917579\" > \n",
       "<thead>    <tr> \n",
       "        <th class=\"index_name level0\" >loan_status</th> \n",
       "        <th class=\"col_heading level0 col0\" >Charged Off</th> \n",
       "        <th class=\"col_heading level0 col1\" >Fully Paid</th> \n",
       "        <th class=\"col_heading level0 col2\" >All</th> \n",
       "    </tr>    <tr> \n",
       "        <th class=\"index_name level0\" >issue_month</th> \n",
       "        <th class=\"blank\" ></th> \n",
       "        <th class=\"blank\" ></th> \n",
       "        <th class=\"blank\" ></th> \n",
       "    </tr></thead> \n",
       "<tbody>    <tr> \n",
       "        <th id=\"T_956485cc_5300_11e9_9c74_4c3275917579level0_row0\" class=\"row_heading level0 row0\" >1</th> \n",
       "        <td id=\"T_956485cc_5300_11e9_9c74_4c3275917579row0_col0\" class=\"data row0 col0\" >317</td> \n",
       "        <td id=\"T_956485cc_5300_11e9_9c74_4c3275917579row0_col1\" class=\"data row0 col1\" >2053</td> \n",
       "        <td id=\"T_956485cc_5300_11e9_9c74_4c3275917579row0_col2\" class=\"data row0 col2\" >2370</td> \n",
       "    </tr>    <tr> \n",
       "        <th id=\"T_956485cc_5300_11e9_9c74_4c3275917579level0_row1\" class=\"row_heading level0 row1\" >2</th> \n",
       "        <td id=\"T_956485cc_5300_11e9_9c74_4c3275917579row1_col0\" class=\"data row1 col0\" >288</td> \n",
       "        <td id=\"T_956485cc_5300_11e9_9c74_4c3275917579row1_col1\" class=\"data row1 col1\" >2062</td> \n",
       "        <td id=\"T_956485cc_5300_11e9_9c74_4c3275917579row1_col2\" class=\"data row1 col2\" >2350</td> \n",
       "    </tr>    <tr> \n",
       "        <th id=\"T_956485cc_5300_11e9_9c74_4c3275917579level0_row2\" class=\"row_heading level0 row2\" >3</th> \n",
       "        <td id=\"T_956485cc_5300_11e9_9c74_4c3275917579row2_col0\" class=\"data row2 col0\" >346</td> \n",
       "        <td id=\"T_956485cc_5300_11e9_9c74_4c3275917579row2_col1\" class=\"data row2 col1\" >2337</td> \n",
       "        <td id=\"T_956485cc_5300_11e9_9c74_4c3275917579row2_col2\" class=\"data row2 col2\" >2683</td> \n",
       "    </tr>    <tr> \n",
       "        <th id=\"T_956485cc_5300_11e9_9c74_4c3275917579level0_row3\" class=\"row_heading level0 row3\" >4</th> \n",
       "        <td id=\"T_956485cc_5300_11e9_9c74_4c3275917579row3_col0\" class=\"data row3 col0\" >368</td> \n",
       "        <td id=\"T_956485cc_5300_11e9_9c74_4c3275917579row3_col1\" class=\"data row3 col1\" >2451</td> \n",
       "        <td id=\"T_956485cc_5300_11e9_9c74_4c3275917579row3_col2\" class=\"data row3 col2\" >2819</td> \n",
       "    </tr>    <tr> \n",
       "        <th id=\"T_956485cc_5300_11e9_9c74_4c3275917579level0_row4\" class=\"row_heading level0 row4\" >5</th> \n",
       "        <td id=\"T_956485cc_5300_11e9_9c74_4c3275917579row4_col0\" class=\"data row4 col0\" >465</td> \n",
       "        <td id=\"T_956485cc_5300_11e9_9c74_4c3275917579row4_col1\" class=\"data row4 col1\" >2446</td> \n",
       "        <td id=\"T_956485cc_5300_11e9_9c74_4c3275917579row4_col2\" class=\"data row4 col2\" >2911</td> \n",
       "    </tr>    <tr> \n",
       "        <th id=\"T_956485cc_5300_11e9_9c74_4c3275917579level0_row5\" class=\"row_heading level0 row5\" >6</th> \n",
       "        <td id=\"T_956485cc_5300_11e9_9c74_4c3275917579row5_col0\" class=\"data row5 col0\" >482</td> \n",
       "        <td id=\"T_956485cc_5300_11e9_9c74_4c3275917579row5_col1\" class=\"data row5 col1\" >2692</td> \n",
       "        <td id=\"T_956485cc_5300_11e9_9c74_4c3275917579row5_col2\" class=\"data row5 col2\" >3174</td> \n",
       "    </tr>    <tr> \n",
       "        <th id=\"T_956485cc_5300_11e9_9c74_4c3275917579level0_row6\" class=\"row_heading level0 row6\" >7</th> \n",
       "        <td id=\"T_956485cc_5300_11e9_9c74_4c3275917579row6_col0\" class=\"data row6 col0\" >476</td> \n",
       "        <td id=\"T_956485cc_5300_11e9_9c74_4c3275917579row6_col1\" class=\"data row6 col1\" >2861</td> \n",
       "        <td id=\"T_956485cc_5300_11e9_9c74_4c3275917579row6_col2\" class=\"data row6 col2\" >3337</td> \n",
       "    </tr>    <tr> \n",
       "        <th id=\"T_956485cc_5300_11e9_9c74_4c3275917579level0_row7\" class=\"row_heading level0 row7\" >8</th> \n",
       "        <td id=\"T_956485cc_5300_11e9_9c74_4c3275917579row7_col0\" class=\"data row7 col0\" >467</td> \n",
       "        <td id=\"T_956485cc_5300_11e9_9c74_4c3275917579row7_col1\" class=\"data row7 col1\" >2914</td> \n",
       "        <td id=\"T_956485cc_5300_11e9_9c74_4c3275917579row7_col2\" class=\"data row7 col2\" >3381</td> \n",
       "    </tr>    <tr> \n",
       "        <th id=\"T_956485cc_5300_11e9_9c74_4c3275917579level0_row8\" class=\"row_heading level0 row8\" >9</th> \n",
       "        <td id=\"T_956485cc_5300_11e9_9c74_4c3275917579row8_col0\" class=\"data row8 col0\" >544</td> \n",
       "        <td id=\"T_956485cc_5300_11e9_9c74_4c3275917579row8_col1\" class=\"data row8 col1\" >2944</td> \n",
       "        <td id=\"T_956485cc_5300_11e9_9c74_4c3275917579row8_col2\" class=\"data row8 col2\" >3488</td> \n",
       "    </tr>    <tr> \n",
       "        <th id=\"T_956485cc_5300_11e9_9c74_4c3275917579level0_row9\" class=\"row_heading level0 row9\" >10</th> \n",
       "        <td id=\"T_956485cc_5300_11e9_9c74_4c3275917579row9_col0\" class=\"data row9 col0\" >580</td> \n",
       "        <td id=\"T_956485cc_5300_11e9_9c74_4c3275917579row9_col1\" class=\"data row9 col1\" >3174</td> \n",
       "        <td id=\"T_956485cc_5300_11e9_9c74_4c3275917579row9_col2\" class=\"data row9 col2\" >3754</td> \n",
       "    </tr>    <tr> \n",
       "        <th id=\"T_956485cc_5300_11e9_9c74_4c3275917579level0_row10\" class=\"row_heading level0 row10\" >11</th> \n",
       "        <td id=\"T_956485cc_5300_11e9_9c74_4c3275917579row10_col0\" class=\"data row10 col0\" >598</td> \n",
       "        <td id=\"T_956485cc_5300_11e9_9c74_4c3275917579row10_col1\" class=\"data row10 col1\" >3402</td> \n",
       "        <td id=\"T_956485cc_5300_11e9_9c74_4c3275917579row10_col2\" class=\"data row10 col2\" >4000</td> \n",
       "    </tr>    <tr> \n",
       "        <th id=\"T_956485cc_5300_11e9_9c74_4c3275917579level0_row11\" class=\"row_heading level0 row11\" >12</th> \n",
       "        <td id=\"T_956485cc_5300_11e9_9c74_4c3275917579row11_col0\" class=\"data row11 col0\" >678</td> \n",
       "        <td id=\"T_956485cc_5300_11e9_9c74_4c3275917579row11_col1\" class=\"data row11 col1\" >3531</td> \n",
       "        <td id=\"T_956485cc_5300_11e9_9c74_4c3275917579row11_col2\" class=\"data row11 col2\" >4209</td> \n",
       "    </tr>    <tr> \n",
       "        <th id=\"T_956485cc_5300_11e9_9c74_4c3275917579level0_row12\" class=\"row_heading level0 row12\" >All</th> \n",
       "        <td id=\"T_956485cc_5300_11e9_9c74_4c3275917579row12_col0\" class=\"data row12 col0\" >5609</td> \n",
       "        <td id=\"T_956485cc_5300_11e9_9c74_4c3275917579row12_col1\" class=\"data row12 col1\" >32867</td> \n",
       "        <td id=\"T_956485cc_5300_11e9_9c74_4c3275917579row12_col2\" class=\"data row12 col2\" >38476</td> \n",
       "    </tr></tbody> \n",
       "</table> "
      ],
      "text/plain": [
       "<pandas.io.formats.style.Styler at 0x1a11c898d0>"
      ]
     },
     "execution_count": 65,
     "metadata": {},
     "output_type": "execute_result"
    }
   ],
   "source": [
    "cm = sns.light_palette(\"orange\", as_cmap=True)\n",
    "pd.crosstab(loan_not_current_df['issue_month'], loan_not_current_df['loan_status'], margins=True).style.background_gradient(cmap = cm)"
   ]
  },
  {
   "cell_type": "code",
   "execution_count": 66,
   "metadata": {},
   "outputs": [
    {
     "data": {
      "text/html": [
       "<div>\n",
       "<style>\n",
       "    .dataframe thead tr:only-child th {\n",
       "        text-align: right;\n",
       "    }\n",
       "\n",
       "    .dataframe thead th {\n",
       "        text-align: left;\n",
       "    }\n",
       "\n",
       "    .dataframe tbody tr th {\n",
       "        vertical-align: top;\n",
       "    }\n",
       "</style>\n",
       "<table border=\"1\" class=\"dataframe\">\n",
       "  <thead>\n",
       "    <tr style=\"text-align: right;\">\n",
       "      <th></th>\n",
       "      <th>id</th>\n",
       "      <th>member_id</th>\n",
       "      <th>loan_amnt</th>\n",
       "      <th>funded_amnt</th>\n",
       "      <th>funded_amnt_inv</th>\n",
       "      <th>term</th>\n",
       "      <th>int_rate</th>\n",
       "      <th>installment</th>\n",
       "      <th>grade</th>\n",
       "      <th>sub_grade</th>\n",
       "      <th>...</th>\n",
       "      <th>total_rec_int</th>\n",
       "      <th>total_rec_late_fee</th>\n",
       "      <th>recoveries</th>\n",
       "      <th>collection_recovery_fee</th>\n",
       "      <th>last_pymnt_d</th>\n",
       "      <th>last_pymnt_amnt</th>\n",
       "      <th>last_credit_pull_d</th>\n",
       "      <th>pub_rec_bankruptcies</th>\n",
       "      <th>issue_month</th>\n",
       "      <th>issue_year</th>\n",
       "    </tr>\n",
       "  </thead>\n",
       "  <tbody>\n",
       "    <tr>\n",
       "      <th>0</th>\n",
       "      <td>1077501</td>\n",
       "      <td>1296599</td>\n",
       "      <td>5000</td>\n",
       "      <td>5000</td>\n",
       "      <td>4975.0</td>\n",
       "      <td>36 months</td>\n",
       "      <td>10.65</td>\n",
       "      <td>162.87</td>\n",
       "      <td>B</td>\n",
       "      <td>B2</td>\n",
       "      <td>...</td>\n",
       "      <td>863.16</td>\n",
       "      <td>0.00</td>\n",
       "      <td>0.00</td>\n",
       "      <td>0.00</td>\n",
       "      <td>Jan-15</td>\n",
       "      <td>171.62</td>\n",
       "      <td>May-16</td>\n",
       "      <td>0.0</td>\n",
       "      <td>12</td>\n",
       "      <td>2011</td>\n",
       "    </tr>\n",
       "    <tr>\n",
       "      <th>1</th>\n",
       "      <td>1077430</td>\n",
       "      <td>1314167</td>\n",
       "      <td>2500</td>\n",
       "      <td>2500</td>\n",
       "      <td>2500.0</td>\n",
       "      <td>60 months</td>\n",
       "      <td>15.27</td>\n",
       "      <td>59.83</td>\n",
       "      <td>C</td>\n",
       "      <td>C4</td>\n",
       "      <td>...</td>\n",
       "      <td>435.17</td>\n",
       "      <td>0.00</td>\n",
       "      <td>117.08</td>\n",
       "      <td>1.11</td>\n",
       "      <td>Apr-13</td>\n",
       "      <td>119.66</td>\n",
       "      <td>Sep-13</td>\n",
       "      <td>0.0</td>\n",
       "      <td>12</td>\n",
       "      <td>2011</td>\n",
       "    </tr>\n",
       "    <tr>\n",
       "      <th>2</th>\n",
       "      <td>1077175</td>\n",
       "      <td>1313524</td>\n",
       "      <td>2400</td>\n",
       "      <td>2400</td>\n",
       "      <td>2400.0</td>\n",
       "      <td>36 months</td>\n",
       "      <td>15.96</td>\n",
       "      <td>84.33</td>\n",
       "      <td>C</td>\n",
       "      <td>C5</td>\n",
       "      <td>...</td>\n",
       "      <td>605.67</td>\n",
       "      <td>0.00</td>\n",
       "      <td>0.00</td>\n",
       "      <td>0.00</td>\n",
       "      <td>Jun-14</td>\n",
       "      <td>649.91</td>\n",
       "      <td>May-16</td>\n",
       "      <td>0.0</td>\n",
       "      <td>12</td>\n",
       "      <td>2011</td>\n",
       "    </tr>\n",
       "    <tr>\n",
       "      <th>3</th>\n",
       "      <td>1076863</td>\n",
       "      <td>1277178</td>\n",
       "      <td>10000</td>\n",
       "      <td>10000</td>\n",
       "      <td>10000.0</td>\n",
       "      <td>36 months</td>\n",
       "      <td>13.49</td>\n",
       "      <td>339.31</td>\n",
       "      <td>C</td>\n",
       "      <td>C1</td>\n",
       "      <td>...</td>\n",
       "      <td>2214.92</td>\n",
       "      <td>16.97</td>\n",
       "      <td>0.00</td>\n",
       "      <td>0.00</td>\n",
       "      <td>Jan-15</td>\n",
       "      <td>357.48</td>\n",
       "      <td>Apr-16</td>\n",
       "      <td>0.0</td>\n",
       "      <td>12</td>\n",
       "      <td>2011</td>\n",
       "    </tr>\n",
       "    <tr>\n",
       "      <th>5</th>\n",
       "      <td>1075269</td>\n",
       "      <td>1311441</td>\n",
       "      <td>5000</td>\n",
       "      <td>5000</td>\n",
       "      <td>5000.0</td>\n",
       "      <td>36 months</td>\n",
       "      <td>7.90</td>\n",
       "      <td>156.46</td>\n",
       "      <td>A</td>\n",
       "      <td>A4</td>\n",
       "      <td>...</td>\n",
       "      <td>632.21</td>\n",
       "      <td>0.00</td>\n",
       "      <td>0.00</td>\n",
       "      <td>0.00</td>\n",
       "      <td>Jan-15</td>\n",
       "      <td>161.03</td>\n",
       "      <td>Jan-16</td>\n",
       "      <td>0.0</td>\n",
       "      <td>12</td>\n",
       "      <td>2011</td>\n",
       "    </tr>\n",
       "  </tbody>\n",
       "</table>\n",
       "<p>5 rows × 46 columns</p>\n",
       "</div>"
      ],
      "text/plain": [
       "        id  member_id  loan_amnt  funded_amnt  funded_amnt_inv        term  \\\n",
       "0  1077501    1296599       5000         5000           4975.0   36 months   \n",
       "1  1077430    1314167       2500         2500           2500.0   60 months   \n",
       "2  1077175    1313524       2400         2400           2400.0   36 months   \n",
       "3  1076863    1277178      10000        10000          10000.0   36 months   \n",
       "5  1075269    1311441       5000         5000           5000.0   36 months   \n",
       "\n",
       "   int_rate  installment grade sub_grade    ...     total_rec_int  \\\n",
       "0     10.65       162.87     B        B2    ...            863.16   \n",
       "1     15.27        59.83     C        C4    ...            435.17   \n",
       "2     15.96        84.33     C        C5    ...            605.67   \n",
       "3     13.49       339.31     C        C1    ...           2214.92   \n",
       "5      7.90       156.46     A        A4    ...            632.21   \n",
       "\n",
       "   total_rec_late_fee recoveries  collection_recovery_fee last_pymnt_d  \\\n",
       "0                0.00       0.00                     0.00       Jan-15   \n",
       "1                0.00     117.08                     1.11       Apr-13   \n",
       "2                0.00       0.00                     0.00       Jun-14   \n",
       "3               16.97       0.00                     0.00       Jan-15   \n",
       "5                0.00       0.00                     0.00       Jan-15   \n",
       "\n",
       "  last_pymnt_amnt last_credit_pull_d pub_rec_bankruptcies issue_month  \\\n",
       "0          171.62             May-16                  0.0          12   \n",
       "1          119.66             Sep-13                  0.0          12   \n",
       "2          649.91             May-16                  0.0          12   \n",
       "3          357.48             Apr-16                  0.0          12   \n",
       "5          161.03             Jan-16                  0.0          12   \n",
       "\n",
       "  issue_year  \n",
       "0       2011  \n",
       "1       2011  \n",
       "2       2011  \n",
       "3       2011  \n",
       "5       2011  \n",
       "\n",
       "[5 rows x 46 columns]"
      ]
     },
     "execution_count": 66,
     "metadata": {},
     "output_type": "execute_result"
    }
   ],
   "source": [
    "loan_not_current_df.head()"
   ]
  },
  {
   "cell_type": "code",
   "execution_count": 67,
   "metadata": {},
   "outputs": [
    {
     "data": {
      "text/html": [
       "<div>\n",
       "<style>\n",
       "    .dataframe thead tr:only-child th {\n",
       "        text-align: right;\n",
       "    }\n",
       "\n",
       "    .dataframe thead th {\n",
       "        text-align: left;\n",
       "    }\n",
       "\n",
       "    .dataframe tbody tr th {\n",
       "        vertical-align: top;\n",
       "    }\n",
       "</style>\n",
       "<table border=\"1\" class=\"dataframe\">\n",
       "  <thead>\n",
       "    <tr style=\"text-align: right;\">\n",
       "      <th></th>\n",
       "      <th>revol_util</th>\n",
       "      <th>loan_amnt</th>\n",
       "      <th>int_rate</th>\n",
       "      <th>annual_inc</th>\n",
       "      <th>emp_length</th>\n",
       "      <th>installment</th>\n",
       "      <th>dti</th>\n",
       "      <th>inq_last_6mths</th>\n",
       "      <th>delinq_2yrs</th>\n",
       "    </tr>\n",
       "  </thead>\n",
       "  <tbody>\n",
       "    <tr>\n",
       "      <th>count</th>\n",
       "      <td>38428.000000</td>\n",
       "      <td>38476.000000</td>\n",
       "      <td>38476.000000</td>\n",
       "      <td>3.847600e+04</td>\n",
       "      <td>38476.000000</td>\n",
       "      <td>38476.000000</td>\n",
       "      <td>38476.000000</td>\n",
       "      <td>38476.000000</td>\n",
       "      <td>38476.000000</td>\n",
       "    </tr>\n",
       "    <tr>\n",
       "      <th>mean</th>\n",
       "      <td>48.719144</td>\n",
       "      <td>11048.428241</td>\n",
       "      <td>11.932194</td>\n",
       "      <td>6.877059e+04</td>\n",
       "      <td>4.927721</td>\n",
       "      <td>322.436241</td>\n",
       "      <td>13.277993</td>\n",
       "      <td>0.871218</td>\n",
       "      <td>0.146247</td>\n",
       "    </tr>\n",
       "    <tr>\n",
       "      <th>std</th>\n",
       "      <td>28.358770</td>\n",
       "      <td>7351.912749</td>\n",
       "      <td>3.693647</td>\n",
       "      <td>6.421605e+04</td>\n",
       "      <td>3.453717</td>\n",
       "      <td>208.670657</td>\n",
       "      <td>6.673511</td>\n",
       "      <td>1.071588</td>\n",
       "      <td>0.491436</td>\n",
       "    </tr>\n",
       "    <tr>\n",
       "      <th>min</th>\n",
       "      <td>0.000000</td>\n",
       "      <td>500.000000</td>\n",
       "      <td>5.420000</td>\n",
       "      <td>4.000000e+03</td>\n",
       "      <td>0.000000</td>\n",
       "      <td>15.690000</td>\n",
       "      <td>0.000000</td>\n",
       "      <td>0.000000</td>\n",
       "      <td>0.000000</td>\n",
       "    </tr>\n",
       "    <tr>\n",
       "      <th>25%</th>\n",
       "      <td>25.200000</td>\n",
       "      <td>5300.000000</td>\n",
       "      <td>8.940000</td>\n",
       "      <td>4.000000e+04</td>\n",
       "      <td>2.000000</td>\n",
       "      <td>165.740000</td>\n",
       "      <td>8.140000</td>\n",
       "      <td>0.000000</td>\n",
       "      <td>0.000000</td>\n",
       "    </tr>\n",
       "    <tr>\n",
       "      <th>50%</th>\n",
       "      <td>49.100000</td>\n",
       "      <td>9600.000000</td>\n",
       "      <td>11.710000</td>\n",
       "      <td>5.882628e+04</td>\n",
       "      <td>4.000000</td>\n",
       "      <td>277.860000</td>\n",
       "      <td>13.380000</td>\n",
       "      <td>1.000000</td>\n",
       "      <td>0.000000</td>\n",
       "    </tr>\n",
       "    <tr>\n",
       "      <th>75%</th>\n",
       "      <td>72.300000</td>\n",
       "      <td>15000.000000</td>\n",
       "      <td>14.380000</td>\n",
       "      <td>8.200000e+04</td>\n",
       "      <td>9.000000</td>\n",
       "      <td>425.542500</td>\n",
       "      <td>18.560000</td>\n",
       "      <td>1.000000</td>\n",
       "      <td>0.000000</td>\n",
       "    </tr>\n",
       "    <tr>\n",
       "      <th>max</th>\n",
       "      <td>99.900000</td>\n",
       "      <td>35000.000000</td>\n",
       "      <td>24.400000</td>\n",
       "      <td>6.000000e+06</td>\n",
       "      <td>10.000000</td>\n",
       "      <td>1305.190000</td>\n",
       "      <td>29.990000</td>\n",
       "      <td>8.000000</td>\n",
       "      <td>11.000000</td>\n",
       "    </tr>\n",
       "  </tbody>\n",
       "</table>\n",
       "</div>"
      ],
      "text/plain": [
       "         revol_util     loan_amnt      int_rate    annual_inc    emp_length  \\\n",
       "count  38428.000000  38476.000000  38476.000000  3.847600e+04  38476.000000   \n",
       "mean      48.719144  11048.428241     11.932194  6.877059e+04      4.927721   \n",
       "std       28.358770   7351.912749      3.693647  6.421605e+04      3.453717   \n",
       "min        0.000000    500.000000      5.420000  4.000000e+03      0.000000   \n",
       "25%       25.200000   5300.000000      8.940000  4.000000e+04      2.000000   \n",
       "50%       49.100000   9600.000000     11.710000  5.882628e+04      4.000000   \n",
       "75%       72.300000  15000.000000     14.380000  8.200000e+04      9.000000   \n",
       "max       99.900000  35000.000000     24.400000  6.000000e+06     10.000000   \n",
       "\n",
       "        installment           dti  inq_last_6mths   delinq_2yrs  \n",
       "count  38476.000000  38476.000000    38476.000000  38476.000000  \n",
       "mean     322.436241     13.277993        0.871218      0.146247  \n",
       "std      208.670657      6.673511        1.071588      0.491436  \n",
       "min       15.690000      0.000000        0.000000      0.000000  \n",
       "25%      165.740000      8.140000        0.000000      0.000000  \n",
       "50%      277.860000     13.380000        1.000000      0.000000  \n",
       "75%      425.542500     18.560000        1.000000      0.000000  \n",
       "max     1305.190000     29.990000        8.000000     11.000000  "
      ]
     },
     "execution_count": 67,
     "metadata": {},
     "output_type": "execute_result"
    }
   ],
   "source": [
    "# loan_not_current_df description for continous variables and used for creating bins\n",
    "loan_not_current_df[['revol_util','loan_amnt','int_rate','annual_inc','emp_length','installment','dti','inq_last_6mths','delinq_2yrs']].describe()"
   ]
  },
  {
   "cell_type": "markdown",
   "metadata": {},
   "source": [
    "##### 3.2 Create Bins for continous variables"
   ]
  },
  {
   "cell_type": "code",
   "execution_count": 68,
   "metadata": {
    "collapsed": true
   },
   "outputs": [],
   "source": [
    "# Loan Amount ,looking to the above data \n",
    "loan_bins = [0, 5000, 10000, 15000, 20000, 25000,30000,40000]\n",
    "loan_slot = ['0-5000', '5000-10000', '10000-15000', '15000-20000', '20000-25000','25000-30000','30000 above']\n",
    "loan_not_current_df['loan_amnt_bin'] = pd.cut(loan_not_current_df['loan_amnt'], loan_bins, labels=loan_slot)"
   ]
  },
  {
   "cell_type": "code",
   "execution_count": 69,
   "metadata": {
    "collapsed": true
   },
   "outputs": [],
   "source": [
    "# Annual Income ,looking to the above data \n",
    "annual_inc_bins = [0, 10000, 20000, 30000, 40000, 50000,60000,70000,80000,90000,6000000]\n",
    "annual_inc_slot = ['0-10000', '10000-20000', '20000-30000', '30000-40000', '40000-50000','50000-60000','60000-70000','70000-80000','80000-90000','90000 above']\n",
    "loan_not_current_df['annual_inc_bin'] = pd.cut(loan_not_current_df['annual_inc'], annual_inc_bins, labels=annual_inc_slot)"
   ]
  },
  {
   "cell_type": "code",
   "execution_count": 70,
   "metadata": {
    "collapsed": true
   },
   "outputs": [],
   "source": [
    "# Interest Rate  ,looking to the above data \n",
    "int_rate_bins = [0, 6, 9, 12, 15,25]\n",
    "int_rate_slot = ['0-6', '6-9', '9-12', '12-15', '15 and above']\n",
    "loan_not_current_df['int_rate_range'] = pd.cut(loan_not_current_df['int_rate'], int_rate_bins, labels=int_rate_slot)"
   ]
  },
  {
   "cell_type": "code",
   "execution_count": 71,
   "metadata": {
    "collapsed": true
   },
   "outputs": [],
   "source": [
    "# Installement per month  ,looking to the above data \n",
    "installment_inc_bins = [0, 170, 280, 380, 450,1310]\n",
    "installment_inc_slot = ['0-170', '170-280', '280-380', '380-450', '450 and above']\n",
    "loan_not_current_df['installment_range'] = pd.cut(loan_not_current_df['installment'], installment_inc_bins, labels=installment_inc_slot)"
   ]
  },
  {
   "cell_type": "code",
   "execution_count": 72,
   "metadata": {
    "collapsed": true
   },
   "outputs": [],
   "source": [
    "# DTI  ,looking to the above data \n",
    "dti_bins = [0, 5, 10, 15, 20,25,30,35]\n",
    "dti_slot = ['0-5', '5-10', '10-15', '15-20', '20-25','25-30','30 and above']\n",
    "loan_not_current_df['dti_range'] = pd.cut(loan_not_current_df['dti'], dti_bins, labels=dti_slot)"
   ]
  },
  {
   "cell_type": "code",
   "execution_count": 73,
   "metadata": {
    "collapsed": true
   },
   "outputs": [],
   "source": [
    "# inq_last_6mths  ,looking to the above data \n",
    "inq_last_6mths_bins = [-np.inf, 1, 2, 3,4,8]\n",
    "inq_last_6mths_slot = ['0-1','1-2','2-3','3-4','4 and above']\n",
    "loan_not_current_df['inq_last_6mths_range'] = pd.cut(loan_not_current_df['inq_last_6mths'], inq_last_6mths_bins, labels=inq_last_6mths_slot)\n"
   ]
  },
  {
   "cell_type": "code",
   "execution_count": 74,
   "metadata": {
    "collapsed": true
   },
   "outputs": [],
   "source": [
    "# revol_util  ,looking to the above data \n",
    "revol_util_bins = [-np.inf, 25, 50,75,100]\n",
    "revol_util_slot = ['0-25','25-50','50-75','75-100']\n",
    "loan_not_current_df['revol_util_range'] = pd.cut(loan_not_current_df['revol_util'], revol_util_bins, labels=revol_util_slot)"
   ]
  },
  {
   "cell_type": "code",
   "execution_count": 75,
   "metadata": {
    "collapsed": true
   },
   "outputs": [],
   "source": [
    "#Impute 0 if  delinq_2yrs is Nan ,mean is also around 0 \n",
    "loan_not_current_df['delinq_2yrs'].fillna(0, inplace=True)"
   ]
  },
  {
   "cell_type": "code",
   "execution_count": 76,
   "metadata": {
    "collapsed": true
   },
   "outputs": [],
   "source": [
    "# delinq_2yrs  ,looking to the above data \n",
    "delinq_2yrs_bins = [-np.inf, 1, 2,3,10]\n",
    "delinq_2yrs_slot = ['0','1','2','3 and above']\n",
    "loan_not_current_df['delinq_2yrs_range'] = pd.cut(loan_not_current_df['delinq_2yrs'], delinq_2yrs_bins, labels=delinq_2yrs_slot)"
   ]
  },
  {
   "cell_type": "code",
   "execution_count": 77,
   "metadata": {},
   "outputs": [
    {
     "data": {
      "text/html": [
       "<div>\n",
       "<style>\n",
       "    .dataframe thead tr:only-child th {\n",
       "        text-align: right;\n",
       "    }\n",
       "\n",
       "    .dataframe thead th {\n",
       "        text-align: left;\n",
       "    }\n",
       "\n",
       "    .dataframe tbody tr th {\n",
       "        vertical-align: top;\n",
       "    }\n",
       "</style>\n",
       "<table border=\"1\" class=\"dataframe\">\n",
       "  <thead>\n",
       "    <tr style=\"text-align: right;\">\n",
       "      <th></th>\n",
       "      <th>annual_inc</th>\n",
       "      <th>annual_inc_bin</th>\n",
       "      <th>installment_range</th>\n",
       "      <th>dti_range</th>\n",
       "      <th>inq_last_6mths_range</th>\n",
       "      <th>revol_util_range</th>\n",
       "      <th>delinq_2yrs_range</th>\n",
       "    </tr>\n",
       "  </thead>\n",
       "  <tbody>\n",
       "    <tr>\n",
       "      <th>0</th>\n",
       "      <td>24000.0</td>\n",
       "      <td>20000-30000</td>\n",
       "      <td>0-170</td>\n",
       "      <td>25-30</td>\n",
       "      <td>0-1</td>\n",
       "      <td>75-100</td>\n",
       "      <td>0</td>\n",
       "    </tr>\n",
       "    <tr>\n",
       "      <th>1</th>\n",
       "      <td>30000.0</td>\n",
       "      <td>20000-30000</td>\n",
       "      <td>0-170</td>\n",
       "      <td>0-5</td>\n",
       "      <td>4 and above</td>\n",
       "      <td>0-25</td>\n",
       "      <td>0</td>\n",
       "    </tr>\n",
       "    <tr>\n",
       "      <th>2</th>\n",
       "      <td>12252.0</td>\n",
       "      <td>10000-20000</td>\n",
       "      <td>0-170</td>\n",
       "      <td>5-10</td>\n",
       "      <td>1-2</td>\n",
       "      <td>75-100</td>\n",
       "      <td>0</td>\n",
       "    </tr>\n",
       "    <tr>\n",
       "      <th>3</th>\n",
       "      <td>49200.0</td>\n",
       "      <td>40000-50000</td>\n",
       "      <td>280-380</td>\n",
       "      <td>15-20</td>\n",
       "      <td>0-1</td>\n",
       "      <td>0-25</td>\n",
       "      <td>0</td>\n",
       "    </tr>\n",
       "    <tr>\n",
       "      <th>5</th>\n",
       "      <td>36000.0</td>\n",
       "      <td>30000-40000</td>\n",
       "      <td>0-170</td>\n",
       "      <td>10-15</td>\n",
       "      <td>2-3</td>\n",
       "      <td>25-50</td>\n",
       "      <td>0</td>\n",
       "    </tr>\n",
       "  </tbody>\n",
       "</table>\n",
       "</div>"
      ],
      "text/plain": [
       "   annual_inc annual_inc_bin installment_range dti_range inq_last_6mths_range  \\\n",
       "0     24000.0    20000-30000             0-170     25-30                  0-1   \n",
       "1     30000.0    20000-30000             0-170       0-5          4 and above   \n",
       "2     12252.0    10000-20000             0-170      5-10                  1-2   \n",
       "3     49200.0    40000-50000           280-380     15-20                  0-1   \n",
       "5     36000.0    30000-40000             0-170     10-15                  2-3   \n",
       "\n",
       "  revol_util_range delinq_2yrs_range  \n",
       "0           75-100                 0  \n",
       "1             0-25                 0  \n",
       "2           75-100                 0  \n",
       "3             0-25                 0  \n",
       "5            25-50                 0  "
      ]
     },
     "execution_count": 77,
     "metadata": {},
     "output_type": "execute_result"
    }
   ],
   "source": [
    "#analyze the dataframe\n",
    "loan_not_current_df[['annual_inc','annual_inc_bin','installment_range','dti_range','inq_last_6mths_range','revol_util_range','delinq_2yrs_range']].head()"
   ]
  },
  {
   "cell_type": "markdown",
   "metadata": {},
   "source": [
    "##### 3.3 Univariate Analysis \n",
    "- Create functionalites for drwaning graph"
   ]
  },
  {
   "cell_type": "code",
   "execution_count": 78,
   "metadata": {
    "collapsed": true
   },
   "outputs": [],
   "source": [
    "#to be removed\n",
    "def draw_countplot(column_name,count_text,title,df):\n",
    "  sns.set(style=\"darkgrid\")\n",
    "  sns.set_palette(sns.color_palette(\"hls\",20))\n",
    "  plt.figure(figsize=(14,8))\n",
    "  plt.title(title)\n",
    "  ax =sns.countplot(x=column_name, data=df)\n",
    "  ax.set(xlabel='Loan Status', ylabel=count_text)\n",
    "\n",
    "  for p in ax.patches:\n",
    "    ax.text(p.get_x() + p.get_width()/2., p.get_height(), '%d' % int(p.get_height()), \n",
    "            fontsize=12, color='black', ha='center', va='bottom')\n",
    "\n",
    "  plt.show()"
   ]
  },
  {
   "cell_type": "code",
   "execution_count": 150,
   "metadata": {
    "collapsed": true
   },
   "outputs": [],
   "source": [
    "def draw_univariate_plot(column_name,df,type_of_variable,hue=None,title=None):\n",
    " sns.set(style=\"darkgrid\")   \n",
    " sns.set_palette(sns.color_palette(\"hls\",20))\n",
    " \n",
    " if type_of_variable == \"Continous\" :\n",
    "   fig, ax=plt.subplots(nrows =1,ncols=2,figsize=(20,8))\n",
    "   ax[0].set_title(\"Distribution Plot\")\n",
    "   sns.distplot(df[column_name],ax=ax[0])\n",
    "   ax[1].set_title(\"Box Plot\")\n",
    "   sns.boxplot(data =df, x=column_name,ax=ax[1],orient='v')\n",
    "   plt.xticks(rotation='vertical',fontsize=12)\n",
    "   plt.show()\n",
    "    \n",
    " if type_of_variable == \"Categorical\" :\n",
    "   fig, ax=plt.subplots(figsize=(14,8))\n",
    "   plt.title(title)\n",
    "   ax = sns.countplot(data = df, x= column_name, order=df[column_name].value_counts().index,hue = hue) \n",
    "   ax.set(xlabel=column_name, ylabel=\"Count\")\n",
    "   \n",
    "   for p in ax.patches:\n",
    "    ax.text(p.get_x() + p.get_width()/2., np.nan_to_num(p.get_height()), '%d' % int(np.nan_to_num(p.get_height())), \n",
    "            fontsize=12, color='black', ha='center', va='bottom')\n",
    "   plt.xticks(rotation='vertical',fontsize=12)\n",
    "   plt.show()"
   ]
  },
  {
   "cell_type": "code",
   "execution_count": 124,
   "metadata": {
    "collapsed": true
   },
   "outputs": [],
   "source": [
    "def draw_grade_bartplot(z,col1,col2):\n",
    "    loan_wrt_emp_title=loan_not_current_df[['grade',col1,col2]]\n",
    "    #loan_wrt_emp_title =loan_wrt_emp_title[loan_wrt_emp_title.grade==z].groupby([col1,col2]).sum().sort_values(by =col2,ascending= False)\n",
    "    #loan_wrt_emp_title =loan_wrt_emp_title.reset_index().head(50)\n",
    "    #loan_wrt_emp_title[col1] =loan_wrt_emp_title[col1].str.lower()\n",
    "\n",
    "    #plt.figure(figsize=(14,8))\n",
    "    #ax=sns.barplot(x=col1, y= col2,data =loan_wrt_emp_title)\n",
    "    #plt.xticks(rotation=90)\n",
    "    #plt.show()"
   ]
  },
  {
   "cell_type": "markdown",
   "metadata": {},
   "source": [
    "###### 3.2.1 Categorical Variables - Univariate Analysis\n",
    "- addr_state\n",
    "- loan_status \n",
    "- home_ownership\n",
    "- verification_status\n",
    "- purpose\n",
    "- Issue year\n",
    "- Grade\n",
    "- term\n"
   ]
  },
  {
   "cell_type": "markdown",
   "metadata": {},
   "source": [
    "##### addr_state\n",
    "- CA total amount is the highest\n",
    "- CA is also the highest in terms of load disbursements "
   ]
  },
  {
   "cell_type": "code",
   "execution_count": 83,
   "metadata": {
    "scrolled": true
   },
   "outputs": [
    {
     "data": {
      "text/html": [
       "<script type=\"text/javascript\">window.PlotlyConfig = {MathJaxConfig: 'local'};</script><script type=\"text/javascript\">if (window.MathJax) {MathJax.Hub.Config({SVG: {font: \"STIX-Web\"}});}</script><script>requirejs.config({paths: { 'plotly': ['https://cdn.plot.ly/plotly-latest.min']},});if(!window._Plotly) {require(['plotly'],function(plotly) {window._Plotly=plotly;});}</script>"
      ],
      "text/vnd.plotly.v1+html": [
       "<script type=\"text/javascript\">window.PlotlyConfig = {MathJaxConfig: 'local'};</script><script type=\"text/javascript\">if (window.MathJax) {MathJax.Hub.Config({SVG: {font: \"STIX-Web\"}});}</script><script>requirejs.config({paths: { 'plotly': ['https://cdn.plot.ly/plotly-latest.min']},});if(!window._Plotly) {require(['plotly'],function(plotly) {window._Plotly=plotly;});}</script>"
      ]
     },
     "metadata": {},
     "output_type": "display_data"
    },
    {
     "data": {
      "application/vnd.plotly.v1+json": {
       "config": {
        "linkText": "Export to plot.ly",
        "plotlyServerURL": "https://plot.ly",
        "showLink": false
       },
       "data": [
        {
         "colorbar": {
          "title": {
           "text": "Investment legend"
          }
         },
         "colorscale": "Portland",
         "locationmode": "USA-states",
         "locations": [
          "AK",
          "AL",
          "AR",
          "AZ",
          "CA",
          "CO",
          "CT",
          "DC",
          "DE",
          "FL",
          "GA",
          "HI",
          "ID",
          "IL",
          "KS",
          "KY",
          "LA",
          "MA",
          "MD",
          "MI",
          "MN",
          "MO",
          "MS",
          "MT",
          "NC",
          "NE",
          "NH",
          "NJ",
          "NM",
          "NV",
          "NY",
          "OH",
          "OK",
          "OR",
          "PA",
          "RI",
          "SC",
          "SD",
          "TN",
          "TX",
          "UT",
          "VA",
          "VT",
          "WA",
          "WI",
          "WV",
          "WY"
         ],
         "type": "choropleth",
         "uid": "fc2f64bc-03a9-4daa-b84c-ed8a9fb6caf3",
         "z": [
          210875,
          709025,
          264750,
          1440700,
          13687325,
          1220625,
          1078250,
          204500,
          134750,
          5887025,
          2442600,
          259900,
          3000,
          2395325,
          387700,
          558150,
          542975,
          1834750,
          1986350,
          1251500,
          901450,
          1222550,
          15000,
          158675,
          1375650,
          19400,
          343775,
          3510825,
          322125,
          1265325,
          6047700,
          1912650,
          485500,
          785375,
          2083700,
          306050,
          805775,
          145300,
          27500,
          3975400,
          591425,
          2222825,
          66700,
          1636425,
          812375,
          259375,
          65000
         ]
        }
       ],
       "layout": {
        "geo": {
         "scope": "usa"
        },
        "title": {
         "text": "Statewise  Representation of loan amount"
        }
       }
      },
      "text/html": [
       "<div id=\"5a73a2f9-ecac-4c67-aa91-ae2d559953ef\" style=\"height: 525px; width: 100%;\" class=\"plotly-graph-div\"></div><script type=\"text/javascript\">require([\"plotly\"], function(Plotly) { window.PLOTLYENV=window.PLOTLYENV || {};window.PLOTLYENV.BASE_URL=\"https://plot.ly\";\n",
       "if (document.getElementById(\"5a73a2f9-ecac-4c67-aa91-ae2d559953ef\")) {\n",
       "    Plotly.newPlot(\"5a73a2f9-ecac-4c67-aa91-ae2d559953ef\", [{\"colorbar\": {\"title\": {\"text\": \"Investment legend\"}}, \"colorscale\": \"Portland\", \"locationmode\": \"USA-states\", \"locations\": [\"AK\", \"AL\", \"AR\", \"AZ\", \"CA\", \"CO\", \"CT\", \"DC\", \"DE\", \"FL\", \"GA\", \"HI\", \"ID\", \"IL\", \"KS\", \"KY\", \"LA\", \"MA\", \"MD\", \"MI\", \"MN\", \"MO\", \"MS\", \"MT\", \"NC\", \"NE\", \"NH\", \"NJ\", \"NM\", \"NV\", \"NY\", \"OH\", \"OK\", \"OR\", \"PA\", \"RI\", \"SC\", \"SD\", \"TN\", \"TX\", \"UT\", \"VA\", \"VT\", \"WA\", \"WI\", \"WV\", \"WY\"], \"z\": [210875, 709025, 264750, 1440700, 13687325, 1220625, 1078250, 204500, 134750, 5887025, 2442600, 259900, 3000, 2395325, 387700, 558150, 542975, 1834750, 1986350, 1251500, 901450, 1222550, 15000, 158675, 1375650, 19400, 343775, 3510825, 322125, 1265325, 6047700, 1912650, 485500, 785375, 2083700, 306050, 805775, 145300, 27500, 3975400, 591425, 2222825, 66700, 1636425, 812375, 259375, 65000], \"type\": \"choropleth\", \"uid\": \"fc2f64bc-03a9-4daa-b84c-ed8a9fb6caf3\"}], {\"geo\": {\"scope\": \"usa\"}, \"title\": {\"text\": \"Statewise  Representation of loan amount\"}}, {\"showLink\": false, \"linkText\": \"Export to plot.ly\", \"plotlyServerURL\": \"https://plot.ly\"}); \n",
       "}\n",
       "});</script><script type=\"text/javascript\">window.addEventListener(\"resize\", function(){if (document.getElementById(\"5a73a2f9-ecac-4c67-aa91-ae2d559953ef\")) {window._Plotly.Plots.resize(document.getElementById(\"5a73a2f9-ecac-4c67-aa91-ae2d559953ef\"));};})</script>"
      ],
      "text/vnd.plotly.v1+html": [
       "<div id=\"5a73a2f9-ecac-4c67-aa91-ae2d559953ef\" style=\"height: 525px; width: 100%;\" class=\"plotly-graph-div\"></div><script type=\"text/javascript\">require([\"plotly\"], function(Plotly) { window.PLOTLYENV=window.PLOTLYENV || {};window.PLOTLYENV.BASE_URL=\"https://plot.ly\";\n",
       "if (document.getElementById(\"5a73a2f9-ecac-4c67-aa91-ae2d559953ef\")) {\n",
       "    Plotly.newPlot(\"5a73a2f9-ecac-4c67-aa91-ae2d559953ef\", [{\"colorbar\": {\"title\": {\"text\": \"Investment legend\"}}, \"colorscale\": \"Portland\", \"locationmode\": \"USA-states\", \"locations\": [\"AK\", \"AL\", \"AR\", \"AZ\", \"CA\", \"CO\", \"CT\", \"DC\", \"DE\", \"FL\", \"GA\", \"HI\", \"ID\", \"IL\", \"KS\", \"KY\", \"LA\", \"MA\", \"MD\", \"MI\", \"MN\", \"MO\", \"MS\", \"MT\", \"NC\", \"NE\", \"NH\", \"NJ\", \"NM\", \"NV\", \"NY\", \"OH\", \"OK\", \"OR\", \"PA\", \"RI\", \"SC\", \"SD\", \"TN\", \"TX\", \"UT\", \"VA\", \"VT\", \"WA\", \"WI\", \"WV\", \"WY\"], \"z\": [210875, 709025, 264750, 1440700, 13687325, 1220625, 1078250, 204500, 134750, 5887025, 2442600, 259900, 3000, 2395325, 387700, 558150, 542975, 1834750, 1986350, 1251500, 901450, 1222550, 15000, 158675, 1375650, 19400, 343775, 3510825, 322125, 1265325, 6047700, 1912650, 485500, 785375, 2083700, 306050, 805775, 145300, 27500, 3975400, 591425, 2222825, 66700, 1636425, 812375, 259375, 65000], \"type\": \"choropleth\", \"uid\": \"fc2f64bc-03a9-4daa-b84c-ed8a9fb6caf3\"}], {\"geo\": {\"scope\": \"usa\"}, \"title\": {\"text\": \"Statewise  Representation of loan amount\"}}, {\"showLink\": false, \"linkText\": \"Export to plot.ly\", \"plotlyServerURL\": \"https://plot.ly\"}); \n",
       "}\n",
       "});</script><script type=\"text/javascript\">window.addEventListener(\"resize\", function(){if (document.getElementById(\"5a73a2f9-ecac-4c67-aa91-ae2d559953ef\")) {window._Plotly.Plots.resize(document.getElementById(\"5a73a2f9-ecac-4c67-aa91-ae2d559953ef\"));};})</script>"
      ]
     },
     "metadata": {},
     "output_type": "display_data"
    }
   ],
   "source": [
    "# Total loan amount across States\n",
    "   \n",
    "# importing all necessary libraries \n",
    "import plotly.plotly as py \n",
    "import plotly.graph_objs as go  \n",
    "from plotly.offline import download_plotlyjs, init_notebook_mode, iplot, plot \n",
    "init_notebook_mode(connected = True) \n",
    "\n",
    "data_map =loan_not_current_df[loan_not_current_df['loan_status']=='Charged Off'].groupby(['addr_state'])['loan_amnt'].sum().reset_index(name ='Total Loan Amount')\n",
    "\n",
    "data = dict(type = 'choropleth', \n",
    "            # location: Arizoana, California, Newyork \n",
    "            locations = data_map['addr_state'], \n",
    "            # States of USA \n",
    "            locationmode = 'USA-states',  \n",
    "            # colorscale can be added as per requirement \n",
    "            colorscale = 'Portland',               \n",
    "            # text can be given anything you like \n",
    "            z = data_map['Total Loan Amount'], \n",
    "            colorbar = {'title': 'Investment legend'}) \n",
    "              \n",
    "layout = go.Layout(\n",
    "    title = go.layout.Title(\n",
    "        text = 'Statewise  Representation of loan amount'),\n",
    "        geo ={'scope': 'usa'}\n",
    "    )\n",
    "choromap = go.Figure(data = [data], layout = layout) \n",
    "iplot(choromap)"
   ]
  },
  {
   "cell_type": "code",
   "execution_count": 87,
   "metadata": {},
   "outputs": [
    {
     "data": {
      "text/html": [
       "<script type=\"text/javascript\">window.PlotlyConfig = {MathJaxConfig: 'local'};</script><script type=\"text/javascript\">if (window.MathJax) {MathJax.Hub.Config({SVG: {font: \"STIX-Web\"}});}</script><script>requirejs.config({paths: { 'plotly': ['https://cdn.plot.ly/plotly-latest.min']},});if(!window._Plotly) {require(['plotly'],function(plotly) {window._Plotly=plotly;});}</script>"
      ],
      "text/vnd.plotly.v1+html": [
       "<script type=\"text/javascript\">window.PlotlyConfig = {MathJaxConfig: 'local'};</script><script type=\"text/javascript\">if (window.MathJax) {MathJax.Hub.Config({SVG: {font: \"STIX-Web\"}});}</script><script>requirejs.config({paths: { 'plotly': ['https://cdn.plot.ly/plotly-latest.min']},});if(!window._Plotly) {require(['plotly'],function(plotly) {window._Plotly=plotly;});}</script>"
      ]
     },
     "metadata": {},
     "output_type": "display_data"
    },
    {
     "data": {
      "application/vnd.plotly.v1+json": {
       "config": {
        "linkText": "Export to plot.ly",
        "plotlyServerURL": "https://plot.ly",
        "showLink": false
       },
       "data": [
        {
         "colorbar": {
          "title": {
           "text": "Total Loans Count"
          }
         },
         "colorscale": "Portland",
         "locationmode": "USA-states",
         "locations": [
          "AK",
          "AL",
          "AR",
          "AZ",
          "CA",
          "CO",
          "CT",
          "DC",
          "DE",
          "FL",
          "GA",
          "HI",
          "ID",
          "IL",
          "KS",
          "KY",
          "LA",
          "MA",
          "MD",
          "MI",
          "MN",
          "MO",
          "MS",
          "MT",
          "NC",
          "NE",
          "NH",
          "NJ",
          "NM",
          "NV",
          "NY",
          "OH",
          "OK",
          "OR",
          "PA",
          "RI",
          "SC",
          "SD",
          "TN",
          "TX",
          "UT",
          "VA",
          "VT",
          "WA",
          "WI",
          "WV",
          "WY"
         ],
         "type": "choropleth",
         "uid": "cd993b0a-353f-4a2b-9528-76941cfdb795",
         "z": [
          15,
          54,
          26,
          121,
          1121,
          96,
          94,
          15,
          12,
          503,
          214,
          28,
          1,
          197,
          31,
          45,
          53,
          158,
          162,
          103,
          81,
          113,
          2,
          11,
          114,
          3,
          25,
          277,
          30,
          108,
          494,
          155,
          40,
          71,
          179,
          25,
          66,
          12,
          2,
          315,
          40,
          176,
          6,
          127,
          63,
          21,
          4
         ]
        }
       ],
       "layout": {
        "geo": {
         "scope": "usa"
        },
        "title": {
         "text": "Statewise  Representation of loan count"
        }
       }
      },
      "text/html": [
       "<div id=\"a1bc4c89-3c9d-4066-b8e3-bc215d5be738\" style=\"height: 525px; width: 100%;\" class=\"plotly-graph-div\"></div><script type=\"text/javascript\">require([\"plotly\"], function(Plotly) { window.PLOTLYENV=window.PLOTLYENV || {};window.PLOTLYENV.BASE_URL=\"https://plot.ly\";\n",
       "if (document.getElementById(\"a1bc4c89-3c9d-4066-b8e3-bc215d5be738\")) {\n",
       "    Plotly.newPlot(\"a1bc4c89-3c9d-4066-b8e3-bc215d5be738\", [{\"colorbar\": {\"title\": {\"text\": \"Total Loans Count\"}}, \"colorscale\": \"Portland\", \"locationmode\": \"USA-states\", \"locations\": [\"AK\", \"AL\", \"AR\", \"AZ\", \"CA\", \"CO\", \"CT\", \"DC\", \"DE\", \"FL\", \"GA\", \"HI\", \"ID\", \"IL\", \"KS\", \"KY\", \"LA\", \"MA\", \"MD\", \"MI\", \"MN\", \"MO\", \"MS\", \"MT\", \"NC\", \"NE\", \"NH\", \"NJ\", \"NM\", \"NV\", \"NY\", \"OH\", \"OK\", \"OR\", \"PA\", \"RI\", \"SC\", \"SD\", \"TN\", \"TX\", \"UT\", \"VA\", \"VT\", \"WA\", \"WI\", \"WV\", \"WY\"], \"z\": [15, 54, 26, 121, 1121, 96, 94, 15, 12, 503, 214, 28, 1, 197, 31, 45, 53, 158, 162, 103, 81, 113, 2, 11, 114, 3, 25, 277, 30, 108, 494, 155, 40, 71, 179, 25, 66, 12, 2, 315, 40, 176, 6, 127, 63, 21, 4], \"type\": \"choropleth\", \"uid\": \"cd993b0a-353f-4a2b-9528-76941cfdb795\"}], {\"geo\": {\"scope\": \"usa\"}, \"title\": {\"text\": \"Statewise  Representation of loan count\"}}, {\"showLink\": false, \"linkText\": \"Export to plot.ly\", \"plotlyServerURL\": \"https://plot.ly\"}); \n",
       "}\n",
       "});</script><script type=\"text/javascript\">window.addEventListener(\"resize\", function(){if (document.getElementById(\"a1bc4c89-3c9d-4066-b8e3-bc215d5be738\")) {window._Plotly.Plots.resize(document.getElementById(\"a1bc4c89-3c9d-4066-b8e3-bc215d5be738\"));};})</script>"
      ],
      "text/vnd.plotly.v1+html": [
       "<div id=\"a1bc4c89-3c9d-4066-b8e3-bc215d5be738\" style=\"height: 525px; width: 100%;\" class=\"plotly-graph-div\"></div><script type=\"text/javascript\">require([\"plotly\"], function(Plotly) { window.PLOTLYENV=window.PLOTLYENV || {};window.PLOTLYENV.BASE_URL=\"https://plot.ly\";\n",
       "if (document.getElementById(\"a1bc4c89-3c9d-4066-b8e3-bc215d5be738\")) {\n",
       "    Plotly.newPlot(\"a1bc4c89-3c9d-4066-b8e3-bc215d5be738\", [{\"colorbar\": {\"title\": {\"text\": \"Total Loans Count\"}}, \"colorscale\": \"Portland\", \"locationmode\": \"USA-states\", \"locations\": [\"AK\", \"AL\", \"AR\", \"AZ\", \"CA\", \"CO\", \"CT\", \"DC\", \"DE\", \"FL\", \"GA\", \"HI\", \"ID\", \"IL\", \"KS\", \"KY\", \"LA\", \"MA\", \"MD\", \"MI\", \"MN\", \"MO\", \"MS\", \"MT\", \"NC\", \"NE\", \"NH\", \"NJ\", \"NM\", \"NV\", \"NY\", \"OH\", \"OK\", \"OR\", \"PA\", \"RI\", \"SC\", \"SD\", \"TN\", \"TX\", \"UT\", \"VA\", \"VT\", \"WA\", \"WI\", \"WV\", \"WY\"], \"z\": [15, 54, 26, 121, 1121, 96, 94, 15, 12, 503, 214, 28, 1, 197, 31, 45, 53, 158, 162, 103, 81, 113, 2, 11, 114, 3, 25, 277, 30, 108, 494, 155, 40, 71, 179, 25, 66, 12, 2, 315, 40, 176, 6, 127, 63, 21, 4], \"type\": \"choropleth\", \"uid\": \"cd993b0a-353f-4a2b-9528-76941cfdb795\"}], {\"geo\": {\"scope\": \"usa\"}, \"title\": {\"text\": \"Statewise  Representation of loan count\"}}, {\"showLink\": false, \"linkText\": \"Export to plot.ly\", \"plotlyServerURL\": \"https://plot.ly\"}); \n",
       "}\n",
       "});</script><script type=\"text/javascript\">window.addEventListener(\"resize\", function(){if (document.getElementById(\"a1bc4c89-3c9d-4066-b8e3-bc215d5be738\")) {window._Plotly.Plots.resize(document.getElementById(\"a1bc4c89-3c9d-4066-b8e3-bc215d5be738\"));};})</script>"
      ]
     },
     "metadata": {},
     "output_type": "display_data"
    }
   ],
   "source": [
    "# Total loan amount across States\n",
    "   \n",
    "# importing all necessary libraries \n",
    "import plotly.plotly as py \n",
    "import plotly.graph_objs as go  \n",
    "from plotly.offline import download_plotlyjs, init_notebook_mode, iplot, plot \n",
    "init_notebook_mode(connected = True) \n",
    "\n",
    "data_map =loan_not_current_df[loan_not_current_df['loan_status']=='Charged Off'].groupby(['addr_state'])['id'].count().reset_index(name ='Total Loans Disbursed')\n",
    "\n",
    "data = dict(type = 'choropleth', \n",
    "            # location: Arizoana, California, Newyork \n",
    "            locations = data_map['addr_state'], \n",
    "            # States of USA \n",
    "            locationmode = 'USA-states',  \n",
    "            # colorscale can be added as per requirement \n",
    "            colorscale = 'Portland',               \n",
    "            # text can be given anything you like \n",
    "            z = data_map['Total Loans Disbursed'], \n",
    "            colorbar = {'title': 'Total Loans Count'}) \n",
    "              \n",
    "layout = go.Layout(\n",
    "    title = go.layout.Title(\n",
    "        text = 'Statewise  Representation of loan count'),\n",
    "        geo ={'scope': 'usa'}\n",
    "    )\n",
    "choromap = go.Figure(data = [data], layout = layout) \n",
    "iplot(choromap)"
   ]
  },
  {
   "cell_type": "markdown",
   "metadata": {},
   "source": [
    "###### 3.2.1.1 Loan Status \n",
    "Conclusion\n",
    "- 14% of the Applicants Defaults\n",
    "- Already cleaned records with Loan Status as Current"
   ]
  },
  {
   "cell_type": "code",
   "execution_count": 151,
   "metadata": {},
   "outputs": [
    {
     "data": {
      "image/png": "[encoded data removed]",
      "text/plain": [
       "<matplotlib.figure.Figure at 0x1a11ac74a8>"
      ]
     },
     "metadata": {},
     "output_type": "display_data"
    }
   ],
   "source": [
    "draw_univariate_plot(column_name='loan_status',title='Loan Distribution',df=loan_not_current_df,type_of_variable=\"Categorical\")"
   ]
  },
  {
   "cell_type": "markdown",
   "metadata": {},
   "source": [
    "###### 3.2.1.2 Home Ownership\n",
    "Conclusion\n",
    "- RENT -> 15% of the people Defaults\n",
    "- MORTGAGE -> 13.5 % of the people Defaults\n",
    "- OWN -> 14.8% of the people Defaults\n",
    "- Cleaned records with value NONE ,OTHER\n",
    "\n",
    "- People on RENT & MORTGAGE Defaults more"
   ]
  },
  {
   "cell_type": "code",
   "execution_count": 152,
   "metadata": {},
   "outputs": [
    {
     "data": {
      "image/png": "[encoded data removed]",
      "text/plain": [
       "<matplotlib.figure.Figure at 0x1a114c9160>"
      ]
     },
     "metadata": {},
     "output_type": "display_data"
    }
   ],
   "source": [
    "draw_univariate_plot(column_name='home_ownership',title='Home Ownership',df=loan_not_current_df,type_of_variable=\"Categorical\")"
   ]
  },
  {
   "cell_type": "code",
   "execution_count": 153,
   "metadata": {},
   "outputs": [
    {
     "data": {
      "image/png": "[encoded data removed]",
      "text/plain": [
       "<matplotlib.figure.Figure at 0x1a114a3ef0>"
      ]
     },
     "metadata": {},
     "output_type": "display_data"
    }
   ],
   "source": [
    "draw_univariate_plot(column_name='home_ownership',title='Home Ownership/Loan Status',df=loan_not_current_df,type_of_variable=\"Categorical\",hue=\"loan_status\")"
   ]
  },
  {
   "cell_type": "markdown",
   "metadata": {},
   "source": [
    "###### 3.2.1.3 Verification status\n",
    "Conclusion\n",
    "- Verified -> 16% of the people Defaults\n",
    "- Not Verified -> 13 % of the people Defaults\n",
    "- rename the Source Verified to Verified\n",
    "\n",
    "- Interestingly, we see that as income verification increases, the loan performance actually worsens "
   ]
  },
  {
   "cell_type": "code",
   "execution_count": 106,
   "metadata": {},
   "outputs": [
    {
     "data": {
      "image/png": "[encoded data removed]",
      "text/plain": [
       "<matplotlib.figure.Figure at 0x1a11b0a0b8>"
      ]
     },
     "metadata": {},
     "output_type": "display_data"
    }
   ],
   "source": [
    "draw_univariate_plot(column_name='verification_status',title='Verification Status/Loan Status',df=loan_not_current_df,type_of_variable=\"Categorical\",hue=\"loan_status\")"
   ]
  },
  {
   "cell_type": "markdown",
   "metadata": {},
   "source": [
    "###### 3.2.1.3 Purpose\n",
    "Conclusion\n",
    "- Debt Consolidation & Credit Card - Most people takes loan to pay debt followed by credit card\n",
    "- Small business loans perform very poorly, reflecting the fact that those borrowers unable to get bank financing for their small business may have poor credit or business plans that aren't fully developed."
   ]
  },
  {
   "cell_type": "code",
   "execution_count": 105,
   "metadata": {},
   "outputs": [
    {
     "data": {
      "image/png": "[encoded data removed]",
      "text/plain": [
       "<matplotlib.figure.Figure at 0x1a11c082e8>"
      ]
     },
     "metadata": {},
     "output_type": "display_data"
    }
   ],
   "source": [
    "\n",
    "draw_univariate_plot(column_name='purpose',title='Purpose/Loan Status',df=loan_not_current_df,type_of_variable=\"Categorical\",hue=\"loan_status\")"
   ]
  },
  {
   "cell_type": "markdown",
   "metadata": {},
   "source": [
    "###### 3.2.1.4 Issue Year\n",
    "Conclusion\n",
    "- Loan is increasing since 2007 and not decreaseing\n"
   ]
  },
  {
   "cell_type": "code",
   "execution_count": 114,
   "metadata": {},
   "outputs": [
    {
     "data": {
      "image/png": "[encoded data removed]",
      "text/plain": [
       "<matplotlib.figure.Figure at 0x1a0e3f4358>"
      ]
     },
     "metadata": {},
     "output_type": "display_data"
    }
   ],
   "source": [
    "draw_univariate_plot(column_name='issue_year',title='Issue Year',df=loan_not_current_df,type_of_variable=\"Categorical\")"
   ]
  },
  {
   "cell_type": "markdown",
   "metadata": {
    "collapsed": true
   },
   "source": [
    "###### 3.2.1.5 Employee Length\n",
    "Conclusion\n",
    "- Most loan exists between people with experience 2-9 years"
   ]
  },
  {
   "cell_type": "code",
   "execution_count": 115,
   "metadata": {},
   "outputs": [
    {
     "data": {
      "image/png": "[encoded data removed]",
      "text/plain": [
       "<matplotlib.figure.Figure at 0x1a0e4dfa58>"
      ]
     },
     "metadata": {},
     "output_type": "display_data"
    }
   ],
   "source": [
    "draw_univariate_plot(column_name='emp_length',title='Experience',df=loan_not_current_df,type_of_variable=\"Categorical\")"
   ]
  },
  {
   "cell_type": "markdown",
   "metadata": {},
   "source": [
    "###### 3.2.1.5 Grade\n",
    "Conclusion\n",
    "- Sovan need to put the details"
   ]
  },
  {
   "cell_type": "code",
   "execution_count": 119,
   "metadata": {},
   "outputs": [
    {
     "data": {
      "image/png": "[encoded data removed]",
      "text/plain": [
       "<matplotlib.figure.Figure at 0x1a11b44fd0>"
      ]
     },
     "metadata": {},
     "output_type": "display_data"
    }
   ],
   "source": [
    "draw_univariate_plot(column_name='grade',title='Grade/Loan Status',df=loan_not_current_df,type_of_variable=\"Categorical\",hue=\"loan_status\")"
   ]
  },
  {
   "cell_type": "markdown",
   "metadata": {},
   "source": [
    "###### 3.2.1.5 Term\n",
    "Conclusion\n",
    "- Majority of the loan applied for 36 months term approx 75%"
   ]
  },
  {
   "cell_type": "code",
   "execution_count": 128,
   "metadata": {},
   "outputs": [
    {
     "data": {
      "image/png": "[encoded data removed]",
      "text/plain": [
       "<matplotlib.figure.Figure at 0x1a1154f6d8>"
      ]
     },
     "metadata": {},
     "output_type": "display_data"
    }
   ],
   "source": [
    "draw_univariate_plot(column_name='term',title='Term',df=loan_not_current_df,type_of_variable=\"Categorical\")"
   ]
  },
  {
   "cell_type": "markdown",
   "metadata": {},
   "source": [
    "###### 3.2.2 Continous Variables - Univariate Analysis\n",
    "- Interest Rate\n",
    "- Annual Income\n",
    "- Loan Amount\n",
    "- Funded Amount"
   ]
  },
  {
   "cell_type": "markdown",
   "metadata": {},
   "source": [
    "###### 3.2.2.1 Interest Rate\n",
    "Conclusion\n",
    "- Interest rate is between 9-14%\n",
    "- outlier exists"
   ]
  },
  {
   "cell_type": "code",
   "execution_count": 129,
   "metadata": {},
   "outputs": [
    {
     "data": {
      "image/png": "[encoded data removed]",
      "text/plain": [
       "<matplotlib.figure.Figure at 0x1a167042b0>"
      ]
     },
     "metadata": {},
     "output_type": "display_data"
    }
   ],
   "source": [
    "draw_univariate_plot(column_name='int_rate',df=loan_not_current_df,type_of_variable=\"Continous\")"
   ]
  },
  {
   "cell_type": "markdown",
   "metadata": {},
   "source": [
    "###### 3.2.2.1 Annual Income\n",
    "Conclusion\n",
    "- Outlier exists , can we remove them?\n",
    "- Tanisha to remove the outlier"
   ]
  },
  {
   "cell_type": "code",
   "execution_count": 130,
   "metadata": {},
   "outputs": [
    {
     "data": {
      "image/png": "[encoded data removed]",
      "text/plain": [
       "<matplotlib.figure.Figure at 0x1a16704080>"
      ]
     },
     "metadata": {},
     "output_type": "display_data"
    }
   ],
   "source": [
    "draw_univariate_plot(column_name='annual_inc',df=loan_not_current_df,type_of_variable=\"Continous\")"
   ]
  },
  {
   "cell_type": "markdown",
   "metadata": {},
   "source": [
    "###### 3.2.2.1 Loan Amount\n",
    "Conclusion\n",
    "- Most loan exists between 5000 & 15000"
   ]
  },
  {
   "cell_type": "code",
   "execution_count": 131,
   "metadata": {},
   "outputs": [
    {
     "data": {
      "image/png": "[encoded data removed]",
      "text/plain": [
       "<matplotlib.figure.Figure at 0x1a0e415d30>"
      ]
     },
     "metadata": {},
     "output_type": "display_data"
    }
   ],
   "source": [
    "draw_univariate_plot(column_name='loan_amnt',df=loan_not_current_df,type_of_variable=\"Continous\")"
   ]
  },
  {
   "cell_type": "markdown",
   "metadata": {
    "collapsed": true
   },
   "source": [
    "###### 3.2.2.1 Funded Amount\n",
    "Conclusion\n",
    "- Most loan exists between 5000 & 15000\n",
    "- outlier exists"
   ]
  },
  {
   "cell_type": "code",
   "execution_count": 132,
   "metadata": {},
   "outputs": [
    {
     "data": {
      "image/png": "[encoded data removed]",
      "text/plain": [
       "<matplotlib.figure.Figure at 0x1a10952588>"
      ]
     },
     "metadata": {},
     "output_type": "display_data"
    }
   ],
   "source": [
    "draw_univariate_plot(column_name='funded_amnt',df=loan_not_current_df,type_of_variable=\"Continous\")"
   ]
  },
  {
   "cell_type": "markdown",
   "metadata": {
    "collapsed": true
   },
   "source": [
    "###### 3.3.1 BiVariate Analysis\n",
    "- Heat Map for continous variables\n",
    "- inq_last_6mths Inquiries in the past 6 months \n",
    "- "
   ]
  },
  {
   "cell_type": "code",
   "execution_count": 134,
   "metadata": {
    "collapsed": true
   },
   "outputs": [],
   "source": [
    "def draw_bivariate_plot(column_name,df,hue=None,title=None):\n",
    " sns.set(style=\"darkgrid\")\n",
    " plt.figure(figsize=(20,8))\n",
    " ax =sns.countplot(x=column_name,hue=hue,data=df)\n",
    " ax.set(xlabel=column_name, ylabel='Count')\n",
    " plt.title(title)\n",
    " plt.tight_layout()\n",
    "\n",
    "\n",
    " for p in ax.patches:\n",
    "    ax.text(p.get_x() + p.get_width()/2., np.nan_to_num(p.get_height()), '%d' % int(np.nan_to_num(p.get_height())), \n",
    "            fontsize=12, color='black', ha='center', va='bottom')\n",
    " plt.show()  "
   ]
  },
  {
   "cell_type": "markdown",
   "metadata": {},
   "source": [
    "###### 3.2.2.1 Heat Map \n",
    "Conclusion\n",
    "- Obviously the correlation exists in the funded_amnt,funded_amnt_inv ,loan_amnt,installement"
   ]
  },
  {
   "cell_type": "code",
   "execution_count": 140,
   "metadata": {},
   "outputs": [
    {
     "data": {
      "text/html": [
       "<div>\n",
       "<style>\n",
       "    .dataframe thead tr:only-child th {\n",
       "        text-align: right;\n",
       "    }\n",
       "\n",
       "    .dataframe thead th {\n",
       "        text-align: left;\n",
       "    }\n",
       "\n",
       "    .dataframe tbody tr th {\n",
       "        vertical-align: top;\n",
       "    }\n",
       "</style>\n",
       "<table border=\"1\" class=\"dataframe\">\n",
       "  <thead>\n",
       "    <tr style=\"text-align: right;\">\n",
       "      <th></th>\n",
       "      <th>loan_amnt</th>\n",
       "      <th>funded_amnt</th>\n",
       "      <th>annual_inc</th>\n",
       "      <th>int_rate</th>\n",
       "      <th>dti</th>\n",
       "      <th>installment</th>\n",
       "    </tr>\n",
       "  </thead>\n",
       "  <tbody>\n",
       "    <tr>\n",
       "      <th>loan_amnt</th>\n",
       "      <td>1.000000</td>\n",
       "      <td>0.981877</td>\n",
       "      <td>0.268944</td>\n",
       "      <td>0.301100</td>\n",
       "      <td>0.062389</td>\n",
       "      <td>0.932318</td>\n",
       "    </tr>\n",
       "    <tr>\n",
       "      <th>funded_amnt</th>\n",
       "      <td>0.981877</td>\n",
       "      <td>1.000000</td>\n",
       "      <td>0.264716</td>\n",
       "      <td>0.304841</td>\n",
       "      <td>0.062170</td>\n",
       "      <td>0.958014</td>\n",
       "    </tr>\n",
       "    <tr>\n",
       "      <th>annual_inc</th>\n",
       "      <td>0.268944</td>\n",
       "      <td>0.264716</td>\n",
       "      <td>1.000000</td>\n",
       "      <td>0.048880</td>\n",
       "      <td>-0.121358</td>\n",
       "      <td>0.267691</td>\n",
       "    </tr>\n",
       "    <tr>\n",
       "      <th>int_rate</th>\n",
       "      <td>0.301100</td>\n",
       "      <td>0.304841</td>\n",
       "      <td>0.048880</td>\n",
       "      <td>1.000000</td>\n",
       "      <td>0.110876</td>\n",
       "      <td>0.276984</td>\n",
       "    </tr>\n",
       "    <tr>\n",
       "      <th>dti</th>\n",
       "      <td>0.062389</td>\n",
       "      <td>0.062170</td>\n",
       "      <td>-0.121358</td>\n",
       "      <td>0.110876</td>\n",
       "      <td>1.000000</td>\n",
       "      <td>0.052135</td>\n",
       "    </tr>\n",
       "    <tr>\n",
       "      <th>installment</th>\n",
       "      <td>0.932318</td>\n",
       "      <td>0.958014</td>\n",
       "      <td>0.267691</td>\n",
       "      <td>0.276984</td>\n",
       "      <td>0.052135</td>\n",
       "      <td>1.000000</td>\n",
       "    </tr>\n",
       "  </tbody>\n",
       "</table>\n",
       "</div>"
      ],
      "text/plain": [
       "             loan_amnt  funded_amnt  annual_inc  int_rate       dti  \\\n",
       "loan_amnt     1.000000     0.981877    0.268944  0.301100  0.062389   \n",
       "funded_amnt   0.981877     1.000000    0.264716  0.304841  0.062170   \n",
       "annual_inc    0.268944     0.264716    1.000000  0.048880 -0.121358   \n",
       "int_rate      0.301100     0.304841    0.048880  1.000000  0.110876   \n",
       "dti           0.062389     0.062170   -0.121358  0.110876  1.000000   \n",
       "installment   0.932318     0.958014    0.267691  0.276984  0.052135   \n",
       "\n",
       "             installment  \n",
       "loan_amnt       0.932318  \n",
       "funded_amnt     0.958014  \n",
       "annual_inc      0.267691  \n",
       "int_rate        0.276984  \n",
       "dti             0.052135  \n",
       "installment     1.000000  "
      ]
     },
     "execution_count": 140,
     "metadata": {},
     "output_type": "execute_result"
    }
   ],
   "source": [
    "#create a correlation \n",
    "corr_loan=loan_not_current_df[['loan_amnt','funded_amnt','annual_inc','int_rate','dti','installment']].corr() \n",
    "corr_loan"
   ]
  },
  {
   "cell_type": "code",
   "execution_count": 141,
   "metadata": {},
   "outputs": [
    {
     "data": {
      "image/png": "[encoded data removed]",
      "text/plain": [
       "<matplotlib.figure.Figure at 0x1a118506d8>"
      ]
     },
     "metadata": {},
     "output_type": "display_data"
    }
   ],
   "source": [
    "#Heat map to show the correlation \n",
    "f, ax = plt.subplots(figsize=(18, 12))\n",
    "sns.heatmap(corr_loan, \n",
    "            xticklabels=corr_loan.columns.values,\n",
    "            yticklabels=corr_loan.columns.values,annot= True,cmap=\"Greens\")\n",
    "plt.show()"
   ]
  },
  {
   "cell_type": "markdown",
   "metadata": {},
   "source": [
    "##### Inquiries in the past 6 months \n",
    "Number of inquiries refers to the number of times a borrower's credit report is accessed by financial institutions, which generally happens when the borrower is seeking a loan or credit line. More inquiries leads to higher rates of Defaulters, indicating that increased borrower desperation to access credit might highlight poor financial health. Interestingly, we see an increase in loan performance in the 4+ inquiries bucket. These high levels of inquiries may reflect financially bad borrowers looking around for mortgage loans or credit cards."
   ]
  },
  {
   "cell_type": "code",
   "execution_count": 142,
   "metadata": {},
   "outputs": [
    {
     "data": {
      "text/html": [
       "<style  type=\"text/css\" >\n",
       "    #T_5ec5fed4_5306_11e9_951e_4c3275917579row0_col0 {\n",
       "            background-color:  #ffbd44;\n",
       "        }    #T_5ec5fed4_5306_11e9_951e_4c3275917579row0_col1 {\n",
       "            background-color:  #ffb734;\n",
       "        }    #T_5ec5fed4_5306_11e9_951e_4c3275917579row0_col2 {\n",
       "            background-color:  #ffb837;\n",
       "        }    #T_5ec5fed4_5306_11e9_951e_4c3275917579row1_col0 {\n",
       "            background-color:  #ffe9c2;\n",
       "        }    #T_5ec5fed4_5306_11e9_951e_4c3275917579row1_col1 {\n",
       "            background-color:  #ffebc6;\n",
       "        }    #T_5ec5fed4_5306_11e9_951e_4c3275917579row1_col2 {\n",
       "            background-color:  #ffebc5;\n",
       "        }    #T_5ec5fed4_5306_11e9_951e_4c3275917579row2_col0 {\n",
       "            background-color:  #ffeecf;\n",
       "        }    #T_5ec5fed4_5306_11e9_951e_4c3275917579row2_col1 {\n",
       "            background-color:  #fff1d7;\n",
       "        }    #T_5ec5fed4_5306_11e9_951e_4c3275917579row2_col2 {\n",
       "            background-color:  #fff0d5;\n",
       "        }    #T_5ec5fed4_5306_11e9_951e_4c3275917579row3_col0 {\n",
       "            background-color:  #fff6e5;\n",
       "        }    #T_5ec5fed4_5306_11e9_951e_4c3275917579row3_col1 {\n",
       "            background-color:  #fff6e5;\n",
       "        }    #T_5ec5fed4_5306_11e9_951e_4c3275917579row3_col2 {\n",
       "            background-color:  #fff6e5;\n",
       "        }    #T_5ec5fed4_5306_11e9_951e_4c3275917579row4_col0 {\n",
       "            background-color:  #fff6e5;\n",
       "        }    #T_5ec5fed4_5306_11e9_951e_4c3275917579row4_col1 {\n",
       "            background-color:  #fff6e5;\n",
       "        }    #T_5ec5fed4_5306_11e9_951e_4c3275917579row4_col2 {\n",
       "            background-color:  #fff6e5;\n",
       "        }    #T_5ec5fed4_5306_11e9_951e_4c3275917579row5_col0 {\n",
       "            background-color:  #ffa500;\n",
       "        }    #T_5ec5fed4_5306_11e9_951e_4c3275917579row5_col1 {\n",
       "            background-color:  #ffa500;\n",
       "        }    #T_5ec5fed4_5306_11e9_951e_4c3275917579row5_col2 {\n",
       "            background-color:  #ffa500;\n",
       "        }</style>  \n",
       "<table id=\"T_5ec5fed4_5306_11e9_951e_4c3275917579\" > \n",
       "<thead>    <tr> \n",
       "        <th class=\"index_name level0\" >loan_status</th> \n",
       "        <th class=\"col_heading level0 col0\" >Charged Off</th> \n",
       "        <th class=\"col_heading level0 col1\" >Fully Paid</th> \n",
       "        <th class=\"col_heading level0 col2\" >All</th> \n",
       "    </tr>    <tr> \n",
       "        <th class=\"index_name level0\" >inq_last_6mths_range</th> \n",
       "        <th class=\"blank\" ></th> \n",
       "        <th class=\"blank\" ></th> \n",
       "        <th class=\"blank\" ></th> \n",
       "    </tr></thead> \n",
       "<tbody>    <tr> \n",
       "        <th id=\"T_5ec5fed4_5306_11e9_951e_4c3275917579level0_row0\" class=\"row_heading level0 row0\" >0-1</th> \n",
       "        <td id=\"T_5ec5fed4_5306_11e9_951e_4c3275917579row0_col0\" class=\"data row0 col0\" >3947</td> \n",
       "        <td id=\"T_5ec5fed4_5306_11e9_951e_4c3275917579row0_col1\" class=\"data row0 col1\" >25353</td> \n",
       "        <td id=\"T_5ec5fed4_5306_11e9_951e_4c3275917579row0_col2\" class=\"data row0 col2\" >29300</td> \n",
       "    </tr>    <tr> \n",
       "        <th id=\"T_5ec5fed4_5306_11e9_951e_4c3275917579level0_row1\" class=\"row_heading level0 row1\" >1-2</th> \n",
       "        <td id=\"T_5ec5fed4_5306_11e9_951e_4c3275917579row1_col0\" class=\"data row1 col0\" >939</td> \n",
       "        <td id=\"T_5ec5fed4_5306_11e9_951e_4c3275917579row1_col1\" class=\"data row1 col1\" >4696</td> \n",
       "        <td id=\"T_5ec5fed4_5306_11e9_951e_4c3275917579row1_col2\" class=\"data row1 col2\" >5635</td> \n",
       "    </tr>    <tr> \n",
       "        <th id=\"T_5ec5fed4_5306_11e9_951e_4c3275917579level0_row2\" class=\"row_heading level0 row2\" >2-3</th> \n",
       "        <td id=\"T_5ec5fed4_5306_11e9_951e_4c3275917579row2_col0\" class=\"data row2 col0\" >615</td> \n",
       "        <td id=\"T_5ec5fed4_5306_11e9_951e_4c3275917579row2_col1\" class=\"data row2 col1\" >2355</td> \n",
       "        <td id=\"T_5ec5fed4_5306_11e9_951e_4c3275917579row2_col2\" class=\"data row2 col2\" >2970</td> \n",
       "    </tr>    <tr> \n",
       "        <th id=\"T_5ec5fed4_5306_11e9_951e_4c3275917579level0_row3\" class=\"row_heading level0 row3\" >3-4</th> \n",
       "        <td id=\"T_5ec5fed4_5306_11e9_951e_4c3275917579row3_col0\" class=\"data row3 col0\" >51</td> \n",
       "        <td id=\"T_5ec5fed4_5306_11e9_951e_4c3275917579row3_col1\" class=\"data row3 col1\" >265</td> \n",
       "        <td id=\"T_5ec5fed4_5306_11e9_951e_4c3275917579row3_col2\" class=\"data row3 col2\" >316</td> \n",
       "    </tr>    <tr> \n",
       "        <th id=\"T_5ec5fed4_5306_11e9_951e_4c3275917579level0_row4\" class=\"row_heading level0 row4\" >4 and above</th> \n",
       "        <td id=\"T_5ec5fed4_5306_11e9_951e_4c3275917579row4_col0\" class=\"data row4 col0\" >57</td> \n",
       "        <td id=\"T_5ec5fed4_5306_11e9_951e_4c3275917579row4_col1\" class=\"data row4 col1\" >198</td> \n",
       "        <td id=\"T_5ec5fed4_5306_11e9_951e_4c3275917579row4_col2\" class=\"data row4 col2\" >255</td> \n",
       "    </tr>    <tr> \n",
       "        <th id=\"T_5ec5fed4_5306_11e9_951e_4c3275917579level0_row5\" class=\"row_heading level0 row5\" >All</th> \n",
       "        <td id=\"T_5ec5fed4_5306_11e9_951e_4c3275917579row5_col0\" class=\"data row5 col0\" >5609</td> \n",
       "        <td id=\"T_5ec5fed4_5306_11e9_951e_4c3275917579row5_col1\" class=\"data row5 col1\" >32867</td> \n",
       "        <td id=\"T_5ec5fed4_5306_11e9_951e_4c3275917579row5_col2\" class=\"data row5 col2\" >38476</td> \n",
       "    </tr></tbody> \n",
       "</table> "
      ],
      "text/plain": [
       "<pandas.io.formats.style.Styler at 0x1a11b45588>"
      ]
     },
     "execution_count": 142,
     "metadata": {},
     "output_type": "execute_result"
    }
   ],
   "source": [
    "cm = sns.light_palette(\"orange\", as_cmap=True)\n",
    "pd.crosstab(loan_not_current_df['inq_last_6mths_range'], loan_not_current_df['loan_status'], margins=True).style.background_gradient(cmap = cm)"
   ]
  },
  {
   "cell_type": "code",
   "execution_count": 143,
   "metadata": {},
   "outputs": [
    {
     "data": {
      "image/png": "[encoded data removed]",
      "text/plain": [
       "<matplotlib.figure.Figure at 0x1a11b4a160>"
      ]
     },
     "metadata": {},
     "output_type": "display_data"
    }
   ],
   "source": [
    "#percentage  of defaulters inquiries even if it is charged off\n",
    "cm = sns.light_palette(\"orange\", as_cmap=True)\n",
    "df=pd.crosstab(loan_not_current_df['inq_last_6mths_range'], loan_not_current_df['loan_status']).apply(lambda r: (r/r.sum())*100, axis=1)\n",
    "ax=df.plot.bar(stacked=True)\n",
    "plt.legend(title='Inquiries/Loan Status')\n",
    "for p in ax.patches:\n",
    "  ax.text(p.get_x() + p.get_width()/2., np.nan_to_num(p.get_height()), '%d' % int(np.nan_to_num(p.get_height())), \n",
    "        fontsize=12, color='black', ha='center', va='bottom')\n",
    "plt.show()"
   ]
  },
  {
   "cell_type": "markdown",
   "metadata": {},
   "source": [
    "##### Revolving utilization percent\n",
    "Revolving utilization percent is the portion of a borrower's revolving credit limit (i.e. credit card limit) that they actually are using at any given point. We can see below that the percentage of Charged off loans steadily increases with utilization rate. Borrowers with high utilization rates are more likely to have high fixed credit card payments which might affect their ability to repay their loans. Also, a high utilization rate often reflects a lack of other financing options, with borrowers turning to peer-to-peer lending as a last resort. This is in contrast to those borrowers with low utilization rates, who may be using peer-to-peer lending opportunistically to pursue lower interest payments."
   ]
  },
  {
   "cell_type": "code",
   "execution_count": 144,
   "metadata": {
    "collapsed": true
   },
   "outputs": [],
   "source": [
    "#percentage  of defaulters Revolving utilization percent\n",
    "cm = sns.light_palette(\"orange\", as_cmap=True)\n",
    "df=pd.crosstab(loan_not_current_df['revol_util_range'], loan_not_current_df['loan_status'], margins=True)"
   ]
  },
  {
   "cell_type": "code",
   "execution_count": 145,
   "metadata": {},
   "outputs": [
    {
     "data": {
      "image/png": "[encoded data removed]",
      "text/plain": [
       "<matplotlib.figure.Figure at 0x1a1188be48>"
      ]
     },
     "metadata": {},
     "output_type": "display_data"
    }
   ],
   "source": [
    "cm = sns.light_palette(\"orange\", as_cmap=True)\n",
    "df=pd.crosstab(loan_not_current_df['revol_util_range'], loan_not_current_df['loan_status']).apply(lambda r: (r/r.sum())*100, axis=1)\n",
    "ax=df.plot.bar(stacked=True)\n",
    "plt.legend(title='Revolving Utilization/Loan Status')\n",
    "for p in ax.patches:\n",
    "  ax.text(p.get_x() + p.get_width()/2., np.nan_to_num(p.get_height()), '%d' % int(np.nan_to_num(p.get_height())), \n",
    "        fontsize=12, color='black', ha='center', va='bottom')\n",
    "plt.show()"
   ]
  },
  {
   "cell_type": "markdown",
   "metadata": {},
   "source": [
    "##### Debt to income ratio\n",
    "Debt to income ratio indicates the ratio between a borrowers monthly debt payment and monthly income. As we might expect, there is a steady increase in the percentage of non-performing loans as DTI increases, reflecting the constraints that increased debt put onto borrower ability to repay:"
   ]
  },
  {
   "cell_type": "code",
   "execution_count": 148,
   "metadata": {},
   "outputs": [
    {
     "data": {
      "text/html": [
       "<style  type=\"text/css\" >\n",
       "    #T_e80f0f14_5306_11e9_99de_4c3275917579row0_col0 {\n",
       "            background-color:  #ffedcd;\n",
       "        }    #T_e80f0f14_5306_11e9_99de_4c3275917579row0_col1 {\n",
       "            background-color:  #ffecc8;\n",
       "        }    #T_e80f0f14_5306_11e9_99de_4c3275917579row0_col2 {\n",
       "            background-color:  #ffecc9;\n",
       "        }    #T_e80f0f14_5306_11e9_99de_4c3275917579row1_col0 {\n",
       "            background-color:  #ffe8bd;\n",
       "        }    #T_e80f0f14_5306_11e9_99de_4c3275917579row1_col1 {\n",
       "            background-color:  #ffe5b6;\n",
       "        }    #T_e80f0f14_5306_11e9_99de_4c3275917579row1_col2 {\n",
       "            background-color:  #ffe5b7;\n",
       "        }    #T_e80f0f14_5306_11e9_99de_4c3275917579row2_col0 {\n",
       "            background-color:  #ffe2ad;\n",
       "        }    #T_e80f0f14_5306_11e9_99de_4c3275917579row2_col1 {\n",
       "            background-color:  #ffe2ac;\n",
       "        }    #T_e80f0f14_5306_11e9_99de_4c3275917579row2_col2 {\n",
       "            background-color:  #ffe2ac;\n",
       "        }    #T_e80f0f14_5306_11e9_99de_4c3275917579row3_col0 {\n",
       "            background-color:  #ffe2ad;\n",
       "        }    #T_e80f0f14_5306_11e9_99de_4c3275917579row3_col1 {\n",
       "            background-color:  #ffe4b2;\n",
       "        }    #T_e80f0f14_5306_11e9_99de_4c3275917579row3_col2 {\n",
       "            background-color:  #ffe4b1;\n",
       "        }    #T_e80f0f14_5306_11e9_99de_4c3275917579row4_col0 {\n",
       "            background-color:  #ffe6b8;\n",
       "        }    #T_e80f0f14_5306_11e9_99de_4c3275917579row4_col1 {\n",
       "            background-color:  #ffe9c0;\n",
       "        }    #T_e80f0f14_5306_11e9_99de_4c3275917579row4_col2 {\n",
       "            background-color:  #ffe8bf;\n",
       "        }    #T_e80f0f14_5306_11e9_99de_4c3275917579row5_col0 {\n",
       "            background-color:  #fff5e3;\n",
       "        }    #T_e80f0f14_5306_11e9_99de_4c3275917579row5_col1 {\n",
       "            background-color:  #fff5e2;\n",
       "        }    #T_e80f0f14_5306_11e9_99de_4c3275917579row5_col2 {\n",
       "            background-color:  #fff5e2;\n",
       "        }    #T_e80f0f14_5306_11e9_99de_4c3275917579row6_col0 {\n",
       "            background-color:  #fff6e5;\n",
       "        }    #T_e80f0f14_5306_11e9_99de_4c3275917579row6_col1 {\n",
       "            background-color:  #fff6e5;\n",
       "        }    #T_e80f0f14_5306_11e9_99de_4c3275917579row6_col2 {\n",
       "            background-color:  #fff6e5;\n",
       "        }    #T_e80f0f14_5306_11e9_99de_4c3275917579row7_col0 {\n",
       "            background-color:  #ffa500;\n",
       "        }    #T_e80f0f14_5306_11e9_99de_4c3275917579row7_col1 {\n",
       "            background-color:  #ffa500;\n",
       "        }    #T_e80f0f14_5306_11e9_99de_4c3275917579row7_col2 {\n",
       "            background-color:  #ffa500;\n",
       "        }</style>  \n",
       "<table id=\"T_e80f0f14_5306_11e9_99de_4c3275917579\" > \n",
       "<thead>    <tr> \n",
       "        <th class=\"index_name level0\" >loan_status</th> \n",
       "        <th class=\"col_heading level0 col0\" >Charged Off</th> \n",
       "        <th class=\"col_heading level0 col1\" >Fully Paid</th> \n",
       "        <th class=\"col_heading level0 col2\" >All</th> \n",
       "    </tr>    <tr> \n",
       "        <th class=\"index_name level0\" >dti_range</th> \n",
       "        <th class=\"blank\" ></th> \n",
       "        <th class=\"blank\" ></th> \n",
       "        <th class=\"blank\" ></th> \n",
       "    </tr></thead> \n",
       "<tbody>    <tr> \n",
       "        <th id=\"T_e80f0f14_5306_11e9_99de_4c3275917579level0_row0\" class=\"row_heading level0 row0\" >0-5</th> \n",
       "        <td id=\"T_e80f0f14_5306_11e9_99de_4c3275917579row0_col0\" class=\"data row0 col0\" >596</td> \n",
       "        <td id=\"T_e80f0f14_5306_11e9_99de_4c3275917579row0_col1\" class=\"data row0 col1\" >4273</td> \n",
       "        <td id=\"T_e80f0f14_5306_11e9_99de_4c3275917579row0_col2\" class=\"data row0 col2\" >4869</td> \n",
       "    </tr>    <tr> \n",
       "        <th id=\"T_e80f0f14_5306_11e9_99de_4c3275917579level0_row1\" class=\"row_heading level0 row1\" >5-10</th> \n",
       "        <td id=\"T_e80f0f14_5306_11e9_99de_4c3275917579row1_col0\" class=\"data row1 col0\" >1001</td> \n",
       "        <td id=\"T_e80f0f14_5306_11e9_99de_4c3275917579row1_col1\" class=\"data row1 col1\" >6843</td> \n",
       "        <td id=\"T_e80f0f14_5306_11e9_99de_4c3275917579row1_col2\" class=\"data row1 col2\" >7844</td> \n",
       "    </tr>    <tr> \n",
       "        <th id=\"T_e80f0f14_5306_11e9_99de_4c3275917579level0_row2\" class=\"row_heading level0 row2\" >10-15</th> \n",
       "        <td id=\"T_e80f0f14_5306_11e9_99de_4c3275917579row2_col0\" class=\"data row2 col0\" >1394</td> \n",
       "        <td id=\"T_e80f0f14_5306_11e9_99de_4c3275917579row2_col1\" class=\"data row2 col1\" >8206</td> \n",
       "        <td id=\"T_e80f0f14_5306_11e9_99de_4c3275917579row2_col2\" class=\"data row2 col2\" >9600</td> \n",
       "    </tr>    <tr> \n",
       "        <th id=\"T_e80f0f14_5306_11e9_99de_4c3275917579level0_row3\" class=\"row_heading level0 row3\" >15-20</th> \n",
       "        <td id=\"T_e80f0f14_5306_11e9_99de_4c3275917579row3_col0\" class=\"data row3 col0\" >1386</td> \n",
       "        <td id=\"T_e80f0f14_5306_11e9_99de_4c3275917579row3_col1\" class=\"data row3 col1\" >7409</td> \n",
       "        <td id=\"T_e80f0f14_5306_11e9_99de_4c3275917579row3_col2\" class=\"data row3 col2\" >8795</td> \n",
       "    </tr>    <tr> \n",
       "        <th id=\"T_e80f0f14_5306_11e9_99de_4c3275917579level0_row4\" class=\"row_heading level0 row4\" >20-25</th> \n",
       "        <td id=\"T_e80f0f14_5306_11e9_99de_4c3275917579row4_col0\" class=\"data row4 col0\" >1116</td> \n",
       "        <td id=\"T_e80f0f14_5306_11e9_99de_4c3275917579row4_col1\" class=\"data row4 col1\" >5452</td> \n",
       "        <td id=\"T_e80f0f14_5306_11e9_99de_4c3275917579row4_col2\" class=\"data row4 col2\" >6568</td> \n",
       "    </tr>    <tr> \n",
       "        <th id=\"T_e80f0f14_5306_11e9_99de_4c3275917579level0_row5\" class=\"row_heading level0 row5\" >25-30</th> \n",
       "        <td id=\"T_e80f0f14_5306_11e9_99de_4c3275917579row5_col0\" class=\"data row5 col0\" >87</td> \n",
       "        <td id=\"T_e80f0f14_5306_11e9_99de_4c3275917579row5_col1\" class=\"data row5 col1\" >536</td> \n",
       "        <td id=\"T_e80f0f14_5306_11e9_99de_4c3275917579row5_col2\" class=\"data row5 col2\" >623</td> \n",
       "    </tr>    <tr> \n",
       "        <th id=\"T_e80f0f14_5306_11e9_99de_4c3275917579level0_row6\" class=\"row_heading level0 row6\" >30 and above</th> \n",
       "        <td id=\"T_e80f0f14_5306_11e9_99de_4c3275917579row6_col0\" class=\"data row6 col0\" >0</td> \n",
       "        <td id=\"T_e80f0f14_5306_11e9_99de_4c3275917579row6_col1\" class=\"data row6 col1\" >0</td> \n",
       "        <td id=\"T_e80f0f14_5306_11e9_99de_4c3275917579row6_col2\" class=\"data row6 col2\" >0</td> \n",
       "    </tr>    <tr> \n",
       "        <th id=\"T_e80f0f14_5306_11e9_99de_4c3275917579level0_row7\" class=\"row_heading level0 row7\" >All</th> \n",
       "        <td id=\"T_e80f0f14_5306_11e9_99de_4c3275917579row7_col0\" class=\"data row7 col0\" >5580</td> \n",
       "        <td id=\"T_e80f0f14_5306_11e9_99de_4c3275917579row7_col1\" class=\"data row7 col1\" >32719</td> \n",
       "        <td id=\"T_e80f0f14_5306_11e9_99de_4c3275917579row7_col2\" class=\"data row7 col2\" >38299</td> \n",
       "    </tr></tbody> \n",
       "</table> "
      ],
      "text/plain": [
       "<pandas.io.formats.style.Styler at 0x1a0ea410b8>"
      ]
     },
     "execution_count": 148,
     "metadata": {},
     "output_type": "execute_result"
    }
   ],
   "source": [
    "cm = sns.light_palette(\"orange\", as_cmap=True)\n",
    "pd.crosstab(loan_not_current_df['dti_range'], loan_not_current_df['loan_status'], margins=True).style.background_gradient(cmap = cm)"
   ]
  },
  {
   "cell_type": "code",
   "execution_count": 149,
   "metadata": {},
   "outputs": [
    {
     "data": {
      "image/png": "[encoded data removed]",
      "text/plain": [
       "<matplotlib.figure.Figure at 0x10d0af748>"
      ]
     },
     "metadata": {},
     "output_type": "display_data"
    }
   ],
   "source": [
    "cm = sns.light_palette(\"orange\", as_cmap=True)\n",
    "df=pd.crosstab(loan_not_current_df['dti_range'], loan_not_current_df['loan_status']).apply(lambda r: (r/r.sum())*100, axis=1)\n",
    "ax=df.plot.bar(stacked=True)\n",
    "plt.legend(title='DTI/Loan Status')\n",
    "for p in ax.patches:\n",
    "  ax.text(p.get_x() + p.get_width()/2., np.nan_to_num(p.get_height()), '%d' % int(np.nan_to_num(p.get_height())), \n",
    "        fontsize=12, color='black', ha='center', va='bottom')\n",
    "plt.show()"
   ]
  },
  {
   "cell_type": "markdown",
   "metadata": {},
   "source": [
    "##### Address State vs Loan Status"
   ]
  },
  {
   "cell_type": "code",
   "execution_count": null,
   "metadata": {
    "collapsed": true
   },
   "outputs": [],
   "source": [
    "#clearly the NE state has more number of the defaulters,but the total loans is also less\n",
    "cm = sns.light_palette(\"orange\", as_cmap=True)\n",
    "pd.crosstab(loan_not_current_df['addr_state'], loan_not_current_df['loan_status'], margins=True).style.background_gradient(cmap = cm)"
   ]
  },
  {
   "cell_type": "markdown",
   "metadata": {},
   "source": [
    "######  Loan Amount vs Term"
   ]
  },
  {
   "cell_type": "code",
   "execution_count": null,
   "metadata": {
    "collapsed": true
   },
   "outputs": [],
   "source": [
    "draw_bivariate_plot(column_name=\"loan_amnt_bin\",hue=\"term\",df=loan_not_current_df)"
   ]
  },
  {
   "cell_type": "code",
   "execution_count": null,
   "metadata": {
    "collapsed": true
   },
   "outputs": [],
   "source": [
    "cm = sns.light_palette(\"orange\", as_cmap=True)\n",
    "pd.crosstab(loan_not_current_df['loan_amnt_bin'], loan_not_current_df['term'], margins=True).style.background_gradient(cmap = cm)"
   ]
  },
  {
   "cell_type": "markdown",
   "metadata": {},
   "source": [
    "######  Interest Rate by Grade\n",
    "Conclusion \n",
    "- Grade A - 5.5-9.0 \n",
    "- Grade B - 9.0 - 12.0\n",
    "- Grade C - 12.0 - 15\n",
    "- Grade D/E/F - 15 and above\n",
    "\n",
    "Interest Rate increases with the Grade A-G "
   ]
  },
  {
   "cell_type": "code",
   "execution_count": null,
   "metadata": {
    "collapsed": true
   },
   "outputs": [],
   "source": [
    "cm = sns.light_palette(\"orange\", as_cmap=True)\n",
    "pd.crosstab(loan_not_current_df['int_rate_range'], loan_not_current_df['grade'], margins=True).style.background_gradient(cmap = cm)"
   ]
  },
  {
   "cell_type": "markdown",
   "metadata": {},
   "source": [
    "##### Interest Rate vs Loan Status\n",
    "- As the interest rate increases ,number of defaulters also increases"
   ]
  },
  {
   "cell_type": "code",
   "execution_count": null,
   "metadata": {
    "collapsed": true
   },
   "outputs": [],
   "source": [
    "cm = sns.light_palette(\"orange\", as_cmap=True)\n",
    "df=pd.crosstab(loan_not_current_df['int_rate_range'], loan_not_current_df['loan_status']).apply(lambda r: (r/r.sum())*100, axis=1)\n",
    "ax=df.plot.bar(stacked=True)\n",
    "plt.legend(title='Interest Rate Range/Loan Status')\n",
    "for p in ax.patches:\n",
    "  ax.text(p.get_x() + p.get_width()/2., np.nan_to_num(p.get_height()), '%d' % int(np.nan_to_num(p.get_height())), \n",
    "        fontsize=12, color='black', ha='center', va='bottom')\n",
    "plt.show()"
   ]
  },
  {
   "cell_type": "code",
   "execution_count": null,
   "metadata": {
    "collapsed": true
   },
   "outputs": [],
   "source": [
    "draw_bivariate_plot(column_name=\"grade\",hue=\"int_rate_range\",df=loan_not_current_df)"
   ]
  },
  {
   "cell_type": "code",
   "execution_count": null,
   "metadata": {
    "collapsed": true
   },
   "outputs": [],
   "source": [
    "cm = sns.light_palette(\"orange\", as_cmap=True)\n",
    "pd.crosstab(loan_not_current_df['int_rate_range'], loan_not_current_df['grade'], margins=True).style.background_gradient(cmap = cm)"
   ]
  },
  {
   "cell_type": "markdown",
   "metadata": {},
   "source": [
    "##### delinq_2yrs\n",
    "The number of delinquencies in the past 2 years indicates the number of times a borrower has been behind on payments. \n",
    "- no attern found"
   ]
  },
  {
   "cell_type": "code",
   "execution_count": null,
   "metadata": {
    "collapsed": true
   },
   "outputs": [],
   "source": [
    "draw_bivariate_plot(column_name=\"delinq_2yrs_range\",hue=\"loan_status\",df=loan_not_current_df)"
   ]
  },
  {
   "cell_type": "code",
   "execution_count": null,
   "metadata": {
    "collapsed": true
   },
   "outputs": [],
   "source": [
    "cm = sns.light_palette(\"orange\", as_cmap=True)\n",
    "pd.crosstab(loan_not_current_df['delinq_2yrs_range'], loan_not_current_df['loan_status'], margins=True).style.background_gradient(cmap = cm)"
   ]
  },
  {
   "cell_type": "code",
   "execution_count": null,
   "metadata": {
    "collapsed": true
   },
   "outputs": [],
   "source": [
    "cm = sns.light_palette(\"orange\", as_cmap=True)\n",
    "df=pd.crosstab(loan_not_current_df['delinq_2yrs_range'], loan_not_current_df['loan_status']).apply(lambda r: (r/r.sum())*100, axis=1)\n",
    "ax=df.plot.bar(stacked=True)\n",
    "plt.legend(title='delinq_2yrs/Loan Status')\n",
    "for p in ax.patches:\n",
    "  ax.text(p.get_x() + p.get_width()/2., np.nan_to_num(p.get_height()), '%d' % int(np.nan_to_num(p.get_height())), \n",
    "        fontsize=12, color='black', ha='center', va='bottom')\n",
    "plt.show()"
   ]
  },
  {
   "cell_type": "markdown",
   "metadata": {},
   "source": [
    "######  Loan Amount vs Anual Income\n",
    "- Total number of loan increases with the income rise\n",
    "- Most of the loans are taken by people whose income is above 30000 and Loan amount in range 5000-10000"
   ]
  },
  {
   "cell_type": "code",
   "execution_count": null,
   "metadata": {
    "collapsed": true
   },
   "outputs": [],
   "source": [
    "draw_bivariate_plot(column_name=\"annual_inc_bin\",hue=\"loan_amnt_bin\",df=loan_not_current_df)"
   ]
  },
  {
   "cell_type": "code",
   "execution_count": null,
   "metadata": {
    "collapsed": true
   },
   "outputs": [],
   "source": [
    "cm = sns.light_palette(\"orange\", as_cmap=True)\n",
    "pd.crosstab(loan_not_current_df['annual_inc_bin'], loan_not_current_df['loan_amnt_bin'], margins=True).style.background_gradient(cmap = cm)"
   ]
  },
  {
   "cell_type": "markdown",
   "metadata": {},
   "source": [
    "######  Loan Amount vs Annual Income(Defaulters)\n",
    "- Total number of loan increases with the income rise\n",
    "- Most of the loans are taken by people whose income is above 30000 and Loan amount in range 5000-10000"
   ]
  },
  {
   "cell_type": "code",
   "execution_count": null,
   "metadata": {
    "collapsed": true
   },
   "outputs": [],
   "source": [
    "draw_bivariate_plot(column_name=\"monthly_inc_range\",hue=\"installment_range\",df=loan_defaulters)"
   ]
  },
  {
   "cell_type": "code",
   "execution_count": null,
   "metadata": {
    "collapsed": true
   },
   "outputs": [],
   "source": [
    "cm = sns.light_palette(\"orange\", as_cmap=True)\n",
    "pd.crosstab(loan_not_current_df['monthly_inc_range'], loan_not_current_df['installment_range'], margins=True).style.background_gradient(cmap = cm)"
   ]
  },
  {
   "cell_type": "code",
   "execution_count": null,
   "metadata": {
    "collapsed": true
   },
   "outputs": [],
   "source": []
  }
 ],
 "metadata": {
  "kernelspec": {
   "display_name": "Python 3",
   "language": "python",
   "name": "python3"
  },
  "language_info": {
   "codemirror_mode": {
    "name": "ipython",
    "version": 3
   },
   "file_extension": ".py",
   "mimetype": "text/x-python",
   "name": "python",
   "nbconvert_exporter": "python",
   "pygments_lexer": "ipython3",
   "version": "3.6.8"
  }
 },
 "nbformat": 4,
 "nbformat_minor": 2
}
